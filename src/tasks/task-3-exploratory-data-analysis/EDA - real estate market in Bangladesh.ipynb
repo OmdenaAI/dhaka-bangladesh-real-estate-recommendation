{
 "cells": [
  {
   "cell_type": "markdown",
   "id": "bca46431",
   "metadata": {},
   "source": [
    "# Project : Real estate market in Bangladesh (exploratory analysis)\n",
    "\n",
    "<span id=\"toc\"></span>\n",
    "\n",
    "## Table of Contents\n",
    "\n",
    "1. [Introduction](#intro)\n",
    "1. [Preliminary Data Wrangling](#wrangling)\n",
    "1. [Exploratory Data Analysis](#eda)\n",
    "1. [Conclusions](#conclusion)"
   ]
  },
  {
   "cell_type": "code",
   "execution_count": null,
   "id": "07c11c08",
   "metadata": {},
   "outputs": [],
   "source": []
  },
  {
   "cell_type": "code",
   "execution_count": null,
   "id": "82208dcf",
   "metadata": {},
   "outputs": [],
   "source": []
  },
  {
   "cell_type": "markdown",
   "id": "695264d2",
   "metadata": {},
   "source": [
    "[TOC](#toc)\n",
    "\n",
    "## Introduction\n",
    "We are going to investigate scrapped properties datasets in order to gain insights on Bangladesh's real estate market. The goal is to build an intuition on the collected data, and prepare a foundation for our model building stage. In particular, we will be interested in the following questions:\n",
    "1. [Distribution of properties per city](#properties-vs-cities) (Interpretation [here](#properties-vs-cities-interpretation)) (Group 04)\n",
    "1. [Distribution of properties per type (shop, apartment, ...)](#properties-vs-types) (Interpretation [here](#properties-vs-types-interpretation)) (Group 04)\n",
    "1. [Distribution of properties per nature (residential, commercial)](#properties-vs-natures) (Interpretation [here](#properties-vs-natures-interpretation))\n",
    "1. [Distribution of property price per type (shop, apartment, ...)](#prices-vs-types) (Interpratation [here](#prices-vs-types-interpretation)) (Group 04)\n",
    "\n",
    "1. [Distribution of property price per nature (residential, commercial)](#prices-vs-natures) (Group 04)\n",
    "1. [Impact of basic facilities (e.g. number of baths/rooms on) on the prices](#basic-facilities--vs--prices) (Group 02)\n",
    "1. [Impact of facilities (malls, educational institutions, ...) in the vicinity on the prices](#facilities-vs-prices) (Group 02)\n",
    "1. [Impact of internal amenities (play area, number of car parks, ...) on the prices](#amenities-vs-prices) (Group 02)\n",
    "1. [How do facilities and amenities influence the prices: linearly / non-linearly / stepwise?](#amenities-facilities-prices-relationship) (Group 02)\n",
    "1. [Is it worth it to be interested in building types (shop, apartment, ...), or is building nature enough to explain the prices ?](#types-vs-prices-worth) (Group 02)\n",
    "1. [How do property prices fluctuate for same location?](#prices-vs-locations) (Group 03)\n",
    "1. [How do property prices fluctuate for same property size?](#prices--vs--properties-size) (Group 03)\n",
    "1. [How do property prices fluctuate for same / similar amenities?](#prices-vs-amenities) (Group 03)\n",
    "1. [Which amenities are the more frequent in Residential properties ?](#amenities--vs--residential-properties) (Group 03)\n",
    "1. [Which amenities are the more frequent in Commercial properties ?](#amenities--vs--commercial-properties) (Group 03)\n",
    "1. [Which amenities have the more impact on price?](#amenities-impact-on-price) (Group 03)\n",
    "\n",
    "\n",
    "> **Report date : May, 2023**     \n",
    "> **Created by : `Task 03 - EDA`'s Collaborators and (co-)leads**\n"
   ]
  },
  {
   "cell_type": "code",
   "execution_count": null,
   "id": "b5f34c07",
   "metadata": {},
   "outputs": [],
   "source": []
  },
  {
   "cell_type": "code",
   "execution_count": 1,
   "id": "a8fa4c4a",
   "metadata": {},
   "outputs": [],
   "source": [
    "# Import all packages and set plots to be embedded inline\n",
    "import numpy as np\n",
    "import pandas as pd\n",
    "import matplotlib.pyplot as plt\n",
    "import seaborn as sb\n",
    "\n",
    "from typing import List, Tuple\n",
    "\n",
    "%matplotlib inline"
   ]
  },
  {
   "cell_type": "markdown",
   "id": "6720c039",
   "metadata": {},
   "source": []
  },
  {
   "cell_type": "code",
   "execution_count": null,
   "id": "80296401",
   "metadata": {},
   "outputs": [],
   "source": []
  },
  {
   "cell_type": "code",
   "execution_count": 2,
   "id": "cb372460",
   "metadata": {},
   "outputs": [],
   "source": [
    "def plot_matrice(df:pd.DataFrame, x_vars:List[str], y_vars:List[str], figsize:List[str]=[10, 20])->None:\n",
    "    \n",
    "    \"\"\" \n",
    "        Make a plot matrice of x_vars by y_vars \n",
    "    \n",
    "        @params:\n",
    "            - x_vars: list of strings; contains the features to be plotted on the x-axis\n",
    "            - y_vars: list of strings; contains the features to be plotted on the y-axis\n",
    "            \n",
    "        @return None\n",
    "    \"\"\"\n",
    "    \n",
    "    def boxgrid(x, y, **kwargs):\n",
    "        \"\"\" Quick hack for creating box plots with seaborn's PairGrid. \"\"\"\n",
    "        default_color = sb.color_palette()[0]\n",
    "        sb.boxplot(x=x, y=y, color=default_color)\n",
    "\n",
    "    plt.figure(figsize = figsize) #plt.figure(figsize = [10, 20])\n",
    "    g = sb.PairGrid(data = df , y_vars = y_vars, x_vars = x_vars,\n",
    "                    size = 3, aspect = 1.5)\n",
    "    g.map(boxgrid)\n",
    "\n",
    "\n",
    "    for ax in g.axes.flatten():\n",
    "        # rotate x axis labels\n",
    "        #ax.set_xlabel(ax.get_xlabel(), rotation = 90)\n",
    "        ax.tick_params(rotation=25)\n",
    "\n",
    "        # rotate y axis labels\n",
    "        # ax.set_ylabel(ax.get_ylabel(), rotation = 0)\n",
    "        # set y labels alignment\n",
    "\n",
    "        ax.yaxis.get_label().set_horizontalalignment('right')\n",
    "\n",
    "\n",
    "    plt.show();"
   ]
  },
  {
   "cell_type": "code",
   "execution_count": null,
   "id": "acdada8b",
   "metadata": {},
   "outputs": [],
   "source": []
  },
  {
   "cell_type": "markdown",
   "id": "40e57081",
   "metadata": {},
   "source": [
    "<span id=\"wrangling\"></span>\n",
    "[TOC](#toc)  \n",
    "\n",
    "## Preliminary Data Wrangling\n",
    "        \n",
    "\n",
    "### General Properties                \n",
    "Our main data come from over 20+ different real estate website (in Bangladesh) which were scrapped. After cleaning and merging them, we were left with 33701 samples for 22 attributes."
   ]
  },
  {
   "cell_type": "code",
   "execution_count": null,
   "id": "a52ad908",
   "metadata": {},
   "outputs": [],
   "source": []
  },
  {
   "cell_type": "markdown",
   "id": "97624286",
   "metadata": {},
   "source": [
    "Let's load the dataset."
   ]
  },
  {
   "cell_type": "code",
   "execution_count": 3,
   "id": "2932d37d",
   "metadata": {},
   "outputs": [],
   "source": [
    "# CSVs folder\n",
    "merged_data_folder=\"../../data/Merged_Data\""
   ]
  },
  {
   "cell_type": "code",
   "execution_count": 4,
   "id": "54ebaffe",
   "metadata": {},
   "outputs": [
    {
     "name": "stderr",
     "output_type": "stream",
     "text": [
      "C:\\ProgramData\\Anaconda3\\lib\\site-packages\\IPython\\core\\interactiveshell.py:3165: DtypeWarning: Columns (3) have mixed types.Specify dtype option on import or set low_memory=False.\n",
      "  has_raised = await self.run_ast_nodes(code_ast.body, cell_name,\n"
     ]
    },
    {
     "data": {
      "text/html": [
       "<div>\n",
       "<style scoped>\n",
       "    .dataframe tbody tr th:only-of-type {\n",
       "        vertical-align: middle;\n",
       "    }\n",
       "\n",
       "    .dataframe tbody tr th {\n",
       "        vertical-align: top;\n",
       "    }\n",
       "\n",
       "    .dataframe thead th {\n",
       "        text-align: right;\n",
       "    }\n",
       "</style>\n",
       "<table border=\"1\" class=\"dataframe\">\n",
       "  <thead>\n",
       "    <tr style=\"text-align: right;\">\n",
       "      <th></th>\n",
       "      <th>0</th>\n",
       "      <th>1</th>\n",
       "    </tr>\n",
       "  </thead>\n",
       "  <tbody>\n",
       "    <tr>\n",
       "      <th>area</th>\n",
       "      <td>1185.0</td>\n",
       "      <td>2464.0</td>\n",
       "    </tr>\n",
       "    <tr>\n",
       "      <th>building_type</th>\n",
       "      <td>Apartment</td>\n",
       "      <td>Apartment</td>\n",
       "    </tr>\n",
       "    <tr>\n",
       "      <th>building_nature</th>\n",
       "      <td>Residential</td>\n",
       "      <td>Residential</td>\n",
       "    </tr>\n",
       "    <tr>\n",
       "      <th>image_url</th>\n",
       "      <td>https://images-cdn.bproperty.com/thumbnails/15...</td>\n",
       "      <td>https://images-cdn.bproperty.com/thumbnails/15...</td>\n",
       "    </tr>\n",
       "    <tr>\n",
       "      <th>num_bath_rooms</th>\n",
       "      <td>0.0</td>\n",
       "      <td>4.0</td>\n",
       "    </tr>\n",
       "    <tr>\n",
       "      <th>num_bed_rooms</th>\n",
       "      <td>3.0</td>\n",
       "      <td>3.0</td>\n",
       "    </tr>\n",
       "    <tr>\n",
       "      <th>price</th>\n",
       "      <td>6100000.0</td>\n",
       "      <td>28900000.0</td>\n",
       "    </tr>\n",
       "    <tr>\n",
       "      <th>property_description</th>\n",
       "      <td>Grab This 1185 Sq Ft Beautiful Flat Is Vacant ...</td>\n",
       "      <td>A Vibrant 2464 Sq Ft Residential Flat For Sale...</td>\n",
       "    </tr>\n",
       "    <tr>\n",
       "      <th>property_overview</th>\n",
       "      <td>This flat consists of facilities you can think...</td>\n",
       "      <td>Ready to move in somewhere with everything nea...</td>\n",
       "    </tr>\n",
       "    <tr>\n",
       "      <th>property_url</th>\n",
       "      <td>https://www.bproperty.com/en/property/details-...</td>\n",
       "      <td>https://www.bproperty.com/en/property/details-...</td>\n",
       "    </tr>\n",
       "    <tr>\n",
       "      <th>purpose</th>\n",
       "      <td>Sale</td>\n",
       "      <td>Sale</td>\n",
       "    </tr>\n",
       "    <tr>\n",
       "      <th>city</th>\n",
       "      <td>Dhaka</td>\n",
       "      <td>Dhaka</td>\n",
       "    </tr>\n",
       "    <tr>\n",
       "      <th>locality</th>\n",
       "      <td>Khilgaon</td>\n",
       "      <td>Dhanmondi</td>\n",
       "    </tr>\n",
       "    <tr>\n",
       "      <th>address</th>\n",
       "      <td>NaN</td>\n",
       "      <td>NaN</td>\n",
       "    </tr>\n",
       "    <tr>\n",
       "      <th>id</th>\n",
       "      <td>bproperty-0</td>\n",
       "      <td>bproperty-1</td>\n",
       "    </tr>\n",
       "    <tr>\n",
       "      <th>relaxation_amenity_count</th>\n",
       "      <td>0</td>\n",
       "      <td>0</td>\n",
       "    </tr>\n",
       "    <tr>\n",
       "      <th>security_amenity_count</th>\n",
       "      <td>1</td>\n",
       "      <td>2</td>\n",
       "    </tr>\n",
       "    <tr>\n",
       "      <th>maintenance_or_cleaning_amenity_count</th>\n",
       "      <td>2</td>\n",
       "      <td>0</td>\n",
       "    </tr>\n",
       "    <tr>\n",
       "      <th>social_amenity_count</th>\n",
       "      <td>0</td>\n",
       "      <td>0</td>\n",
       "    </tr>\n",
       "    <tr>\n",
       "      <th>expendable_amenity_count</th>\n",
       "      <td>2</td>\n",
       "      <td>3</td>\n",
       "    </tr>\n",
       "    <tr>\n",
       "      <th>service_staff_amenity_count</th>\n",
       "      <td>0</td>\n",
       "      <td>0</td>\n",
       "    </tr>\n",
       "    <tr>\n",
       "      <th>unclassify_amenity_count</th>\n",
       "      <td>3</td>\n",
       "      <td>4</td>\n",
       "    </tr>\n",
       "  </tbody>\n",
       "</table>\n",
       "</div>"
      ],
      "text/plain": [
       "                                                                                       0  \\\n",
       "area                                                                              1185.0   \n",
       "building_type                                                                  Apartment   \n",
       "building_nature                                                              Residential   \n",
       "image_url                              https://images-cdn.bproperty.com/thumbnails/15...   \n",
       "num_bath_rooms                                                                       0.0   \n",
       "num_bed_rooms                                                                        3.0   \n",
       "price                                                                          6100000.0   \n",
       "property_description                   Grab This 1185 Sq Ft Beautiful Flat Is Vacant ...   \n",
       "property_overview                      This flat consists of facilities you can think...   \n",
       "property_url                           https://www.bproperty.com/en/property/details-...   \n",
       "purpose                                                                             Sale   \n",
       "city                                                                               Dhaka   \n",
       "locality                                                                        Khilgaon   \n",
       "address                                                                              NaN   \n",
       "id                                                                           bproperty-0   \n",
       "relaxation_amenity_count                                                               0   \n",
       "security_amenity_count                                                                 1   \n",
       "maintenance_or_cleaning_amenity_count                                                  2   \n",
       "social_amenity_count                                                                   0   \n",
       "expendable_amenity_count                                                               2   \n",
       "service_staff_amenity_count                                                            0   \n",
       "unclassify_amenity_count                                                               3   \n",
       "\n",
       "                                                                                       1  \n",
       "area                                                                              2464.0  \n",
       "building_type                                                                  Apartment  \n",
       "building_nature                                                              Residential  \n",
       "image_url                              https://images-cdn.bproperty.com/thumbnails/15...  \n",
       "num_bath_rooms                                                                       4.0  \n",
       "num_bed_rooms                                                                        3.0  \n",
       "price                                                                         28900000.0  \n",
       "property_description                   A Vibrant 2464 Sq Ft Residential Flat For Sale...  \n",
       "property_overview                      Ready to move in somewhere with everything nea...  \n",
       "property_url                           https://www.bproperty.com/en/property/details-...  \n",
       "purpose                                                                             Sale  \n",
       "city                                                                               Dhaka  \n",
       "locality                                                                       Dhanmondi  \n",
       "address                                                                              NaN  \n",
       "id                                                                           bproperty-1  \n",
       "relaxation_amenity_count                                                               0  \n",
       "security_amenity_count                                                                 2  \n",
       "maintenance_or_cleaning_amenity_count                                                  0  \n",
       "social_amenity_count                                                                   0  \n",
       "expendable_amenity_count                                                               3  \n",
       "service_staff_amenity_count                                                            0  \n",
       "unclassify_amenity_count                                                               4  "
      ]
     },
     "execution_count": 4,
     "metadata": {},
     "output_type": "execute_result"
    }
   ],
   "source": [
    "# Load the merged dataset\n",
    "df = pd.read_csv(f\"{merged_data_folder}/cleaned_merged_datasets.csv\")\n",
    "df.head(2).T"
   ]
  },
  {
   "cell_type": "code",
   "execution_count": 5,
   "id": "918a991a",
   "metadata": {},
   "outputs": [
    {
     "data": {
      "text/plain": [
       "(33701, 22)"
      ]
     },
     "execution_count": 5,
     "metadata": {},
     "output_type": "execute_result"
    }
   ],
   "source": [
    "df.shape"
   ]
  },
  {
   "cell_type": "code",
   "execution_count": null,
   "id": "8872710b",
   "metadata": {},
   "outputs": [],
   "source": []
  },
  {
   "cell_type": "markdown",
   "id": "2063b2a8",
   "metadata": {},
   "source": [
    "### Structure of the dataset\n",
    "We have 22 features, which are:\n",
    "* **area**: the area occupied by the property, in sqft\n",
    "* **building_type**: the type of the property (shop, apartment, duplex, ...)\n",
    "* **building_nature**: the nature of the property (residential, commercial)\n",
    "* **image_url**: the link toward the property's image\n",
    "\n",
    "TODO: add the other features."
   ]
  },
  {
   "cell_type": "code",
   "execution_count": null,
   "id": "df797c9d",
   "metadata": {},
   "outputs": [],
   "source": []
  },
  {
   "cell_type": "code",
   "execution_count": 6,
   "id": "b0f8e3f6",
   "metadata": {},
   "outputs": [
    {
     "name": "stdout",
     "output_type": "stream",
     "text": [
      "<class 'pandas.core.frame.DataFrame'>\n",
      "RangeIndex: 33701 entries, 0 to 33700\n",
      "Data columns (total 22 columns):\n",
      " #   Column                                 Non-Null Count  Dtype  \n",
      "---  ------                                 --------------  -----  \n",
      " 0   area                                   33701 non-null  float64\n",
      " 1   building_type                          33701 non-null  object \n",
      " 2   building_nature                        33701 non-null  object \n",
      " 3   image_url                              17265 non-null  object \n",
      " 4   num_bath_rooms                         33701 non-null  float64\n",
      " 5   num_bed_rooms                          33701 non-null  float64\n",
      " 6   price                                  33701 non-null  float64\n",
      " 7   property_description                   19029 non-null  object \n",
      " 8   property_overview                      18509 non-null  object \n",
      " 9   property_url                           33679 non-null  object \n",
      " 10  purpose                                33701 non-null  object \n",
      " 11  city                                   33701 non-null  object \n",
      " 12  locality                               33701 non-null  object \n",
      " 13  address                                28524 non-null  object \n",
      " 14  id                                     33701 non-null  object \n",
      " 15  relaxation_amenity_count               33701 non-null  int64  \n",
      " 16  security_amenity_count                 33701 non-null  int64  \n",
      " 17  maintenance_or_cleaning_amenity_count  33701 non-null  int64  \n",
      " 18  social_amenity_count                   33701 non-null  int64  \n",
      " 19  expendable_amenity_count               33701 non-null  int64  \n",
      " 20  service_staff_amenity_count            33701 non-null  int64  \n",
      " 21  unclassify_amenity_count               33701 non-null  int64  \n",
      "dtypes: float64(4), int64(7), object(11)\n",
      "memory usage: 5.7+ MB\n"
     ]
    }
   ],
   "source": [
    "# Structure of the properties dataset\n",
    "df.info()"
   ]
  },
  {
   "cell_type": "code",
   "execution_count": null,
   "id": "7583cef5",
   "metadata": {},
   "outputs": [],
   "source": []
  },
  {
   "cell_type": "code",
   "execution_count": 7,
   "id": "7bfe18cb",
   "metadata": {},
   "outputs": [
    {
     "data": {
      "text/plain": [
       "area                                         0\n",
       "building_type                                0\n",
       "building_nature                              0\n",
       "image_url                                16436\n",
       "num_bath_rooms                               0\n",
       "num_bed_rooms                                0\n",
       "price                                        0\n",
       "property_description                     14672\n",
       "property_overview                        15192\n",
       "property_url                                22\n",
       "purpose                                      0\n",
       "city                                         0\n",
       "locality                                     0\n",
       "address                                   5177\n",
       "id                                           0\n",
       "relaxation_amenity_count                     0\n",
       "security_amenity_count                       0\n",
       "maintenance_or_cleaning_amenity_count        0\n",
       "social_amenity_count                         0\n",
       "expendable_amenity_count                     0\n",
       "service_staff_amenity_count                  0\n",
       "unclassify_amenity_count                     0\n",
       "dtype: int64"
      ]
     },
     "execution_count": 7,
     "metadata": {},
     "output_type": "execute_result"
    }
   ],
   "source": [
    "# Check N/A values count for each feature\n",
    "df.isna().sum()"
   ]
  },
  {
   "cell_type": "code",
   "execution_count": 8,
   "id": "eb196381",
   "metadata": {},
   "outputs": [
    {
     "data": {
      "text/plain": [
       "area                                         0\n",
       "building_type                                0\n",
       "building_nature                              0\n",
       "image_url                                16436\n",
       "num_bath_rooms                               0\n",
       "num_bed_rooms                                0\n",
       "price                                        0\n",
       "property_description                     14672\n",
       "property_overview                        15192\n",
       "property_url                                22\n",
       "purpose                                      0\n",
       "city                                         0\n",
       "locality                                     0\n",
       "address                                   5177\n",
       "id                                           0\n",
       "relaxation_amenity_count                     0\n",
       "security_amenity_count                       0\n",
       "maintenance_or_cleaning_amenity_count        0\n",
       "social_amenity_count                         0\n",
       "expendable_amenity_count                     0\n",
       "service_staff_amenity_count                  0\n",
       "unclassify_amenity_count                     0\n",
       "dtype: int64"
      ]
     },
     "execution_count": 8,
     "metadata": {},
     "output_type": "execute_result"
    }
   ],
   "source": [
    "# Check null values count for each feature\n",
    "df.isnull().sum()"
   ]
  },
  {
   "cell_type": "markdown",
   "id": "602f0a29",
   "metadata": {},
   "source": [
    "N/A check and null check are giving the same result, so there is nothing to worry about there underlying content. As for the missing values, we should not worry about them since we don't need them in our EDA."
   ]
  },
  {
   "cell_type": "code",
   "execution_count": null,
   "id": "9443f01f",
   "metadata": {},
   "outputs": [],
   "source": []
  },
  {
   "cell_type": "markdown",
   "id": "222ed532",
   "metadata": {},
   "source": [
    "### Data assessement and cleaning"
   ]
  },
  {
   "cell_type": "markdown",
   "id": "0b499b25",
   "metadata": {},
   "source": [
    "One thing to take note of is that this dataset has already been cleaned (in Task 02). So we will skip this section."
   ]
  },
  {
   "cell_type": "code",
   "execution_count": null,
   "id": "7f2a9770",
   "metadata": {},
   "outputs": [],
   "source": []
  },
  {
   "cell_type": "code",
   "execution_count": null,
   "id": "5632c752",
   "metadata": {},
   "outputs": [],
   "source": []
  },
  {
   "cell_type": "markdown",
   "id": "3337df90",
   "metadata": {},
   "source": [
    "<span id=\"eda\"></span>\n",
    "\n",
    "[TOC](#toc)               \n",
    "## Exploratory Data Analysis"
   ]
  },
  {
   "cell_type": "code",
   "execution_count": null,
   "id": "866798bb",
   "metadata": {},
   "outputs": [],
   "source": []
  },
  {
   "cell_type": "markdown",
   "id": "ce9a9e72",
   "metadata": {},
   "source": [
    "<span id=\"properties-vs-cities\"></span>\n",
    "\n",
    "[EDA](#eda)  \n",
    "### 1. Distribution of properties per city \n",
    "The goal is to know which cities we can make prediction for, as well as understand the how properties are distributed over those cities.      \n",
    "This question was explored by Group 04."
   ]
  },
  {
   "cell_type": "code",
   "execution_count": 9,
   "id": "3157163e",
   "metadata": {},
   "outputs": [
    {
     "data": {
      "text/plain": [
       "Dhaka               28681\n",
       "Chattogram           3481\n",
       "Narayanganj City      441\n",
       "Barishal              352\n",
       "Gazipur               323\n",
       "Rangpur                73\n",
       "Dinajpur               64\n",
       "Sylhet                 57\n",
       "Rajshahi               56\n",
       "Narayanganj            49\n",
       "Khulna                 39\n",
       "Thakurgaon              8\n",
       "Mymensingh              8\n",
       "Bogura                  8\n",
       "Cumilla                 5\n",
       "Narsingdi               4\n",
       "Manikganj               4\n",
       "Barguna                 4\n",
       "Magura                  4\n",
       "Chittagong              4\n",
       "Kushtia                 3\n",
       "Jashore                 3\n",
       "Chandpur                3\n",
       "Brahmanbaria            2\n",
       "Nilphamari              2\n",
       "Tangail                 2\n",
       "Madaripur               2\n",
       "Moulvibazar             2\n",
       "Noakhali                2\n",
       "Faridpur                1\n",
       "Kishoreganj             1\n",
       "Nawabganj               1\n",
       "Sherpur                 1\n",
       "Shariatpur              1\n",
       "Gopalganj               1\n",
       "Habiganj                1\n",
       "Bandarban               1\n",
       "Gaibandha               1\n",
       "Jamalpur                1\n",
       "Naogaon                 1\n",
       "Sirajganj               1\n",
       "Joypurhat               1\n",
       "Lakshmipur              1\n",
       "Feni                    1\n",
       "Name: city, dtype: int64"
      ]
     },
     "execution_count": 9,
     "metadata": {},
     "output_type": "execute_result"
    }
   ],
   "source": [
    "# Number of properties per city\n",
    "properties_per_city = df[\"city\"].value_counts()\n",
    "properties_per_city"
   ]
  },
  {
   "cell_type": "markdown",
   "id": "504f4d19",
   "metadata": {},
   "source": [
    "Let's plot the result in order to read it better."
   ]
  },
  {
   "cell_type": "code",
   "execution_count": 10,
   "id": "ceb71ba0",
   "metadata": {},
   "outputs": [
    {
     "data": {
      "image/png": "[encoded data removed]",
      "text/plain": [
       "<Figure size 1152x432 with 1 Axes>"
      ]
     },
     "metadata": {
      "needs_background": "light"
     },
     "output_type": "display_data"
    }
   ],
   "source": [
    "# Plotting properties count per cities\n",
    "properties_per_city.plot(kind=\"bar\", figsize=(16,6))\n",
    "\n",
    "plt.xlabel(\"Cities\")\n",
    "plt.ylabel(\"Properties count\")\n",
    "plt.title(\"Properties count per city\");"
   ]
  },
  {
   "cell_type": "markdown",
   "id": "7d4d2baa",
   "metadata": {},
   "source": [
    "Let's improve the above plot to make it easier to read."
   ]
  },
  {
   "cell_type": "code",
   "execution_count": 11,
   "id": "2d3b0dd3",
   "metadata": {},
   "outputs": [
    {
     "data": {
      "image/png": "[encoded data removed]",
      "text/plain": [
       "<Figure size 1152x432 with 1 Axes>"
      ]
     },
     "metadata": {
      "needs_background": "light"
     },
     "output_type": "display_data"
    }
   ],
   "source": [
    "# Plotting properties count per cities\n",
    "properties_per_city.plot(kind=\"bar\", figsize=(16,6))\n",
    "\n",
    "y_ticks = [0, 500, 4000, 5000, 10000, 15000, 20000, 25000, 28000, 30000]\n",
    "\n",
    "yticks= {\n",
    "    \"values\":y_ticks,\n",
    "    \"labels\":y_ticks\n",
    "}\n",
    "# plt.xticks(rotation=90)\n",
    "plt.yticks(yticks[\"values\"], yticks[\"labels\"])\n",
    "\n",
    "\n",
    "plt.xlabel(\"Cities\")\n",
    "plt.ylabel(\"Properties count\")\n",
    "plt.title(\"Properties count per city\");"
   ]
  },
  {
   "cell_type": "markdown",
   "id": "6d86cd07",
   "metadata": {},
   "source": [
    "<span id=\"properties-vs-cities-interpretation\"></span>\n",
    "\n",
    "1. Most of our properties are in `Dhaka`, for a total of nearly 28,000 properties. We also have nearly 4000 properties in `Chattogram`.     \n",
    "1. A negligible amount of properties are in `Narayanganj City`, `Barishal`, `Gazipur`, each of them with a count below 500 properties ..\n",
    "1. As for the other cities, their properties count is too insignificant.\n",
    "\n",
    "<br/>\n",
    "\n",
    "❗ **Recommendation**:\n",
    "* We are expecting our future models not to be perform well on cities mentioned in (2). We should consider dropping samples with those cities when building models since their low number will make it so that the models will not predict well on them. \n",
    "* Cities not part of (1) and (2) should definitively be dropped in order to avoid noise in our future models.\n",
    "\n",
    "<br/>\n",
    "\n",
    "💡 The above plot, as well as the interpretations, will be put in our explanatory analysis (or in our presention)."
   ]
  },
  {
   "cell_type": "code",
   "execution_count": null,
   "id": "45c2edcb",
   "metadata": {},
   "outputs": [],
   "source": []
  },
  {
   "cell_type": "code",
   "execution_count": null,
   "id": "48c2f14a",
   "metadata": {},
   "outputs": [],
   "source": []
  },
  {
   "cell_type": "markdown",
   "id": "fab84b1e",
   "metadata": {},
   "source": [
    "<span id=\"properties-vs-types\"></span>\n",
    "\n",
    "[EDA](#eda)  \n",
    "### 2. Distribution of properties per type \n",
    "We want to understand how properties are ditributed over the different types, namely shop, apartment, building, ...    \n",
    "This question was explored by Group 04.\n",
    "\n",
    "Below are the list of the different types of property with have."
   ]
  },
  {
   "cell_type": "code",
   "execution_count": 12,
   "id": "82b4a67d",
   "metadata": {},
   "outputs": [
    {
     "data": {
      "text/plain": [
       "array(['Apartment', 'Shop', 'Floor', 'Office', 'Building',\n",
       "       'Residential Plot', 'Duplex', 'Commercial Plot', 'Warehouse',\n",
       "       'Factory', 'House', 'Others'], dtype=object)"
      ]
     },
     "execution_count": 12,
     "metadata": {},
     "output_type": "execute_result"
    }
   ],
   "source": [
    "# List of properties types\n",
    "df[\"building_type\"].unique()"
   ]
  },
  {
   "cell_type": "code",
   "execution_count": 13,
   "id": "36ab4e34",
   "metadata": {},
   "outputs": [
    {
     "data": {
      "text/plain": [
       "Apartment           26940\n",
       "Office               2266\n",
       "Building             1412\n",
       "Shop                  956\n",
       "Floor                 880\n",
       "Residential Plot      875\n",
       "House                 175\n",
       "Duplex                 84\n",
       "Commercial Plot        54\n",
       "Warehouse              29\n",
       "Factory                19\n",
       "Others                 11\n",
       "Name: building_type, dtype: int64"
      ]
     },
     "execution_count": 13,
     "metadata": {},
     "output_type": "execute_result"
    }
   ],
   "source": [
    "# Number of properties per type\n",
    "properties_per_type_count = df[\"building_type\"].value_counts()\n",
    "properties_per_type_count"
   ]
  },
  {
   "cell_type": "markdown",
   "id": "a277eae6",
   "metadata": {},
   "source": [
    "Let's plot the result."
   ]
  },
  {
   "cell_type": "code",
   "execution_count": 14,
   "id": "022350d7",
   "metadata": {},
   "outputs": [
    {
     "data": {
      "image/png": "[encoded data removed]",
      "text/plain": [
       "<Figure size 1152x432 with 1 Axes>"
      ]
     },
     "metadata": {
      "needs_background": "light"
     },
     "output_type": "display_data"
    }
   ],
   "source": [
    "# Plotting the number of properties per type\n",
    "properties_per_type_count.plot(kind=\"bar\", figsize=(16,6))\n",
    "\n",
    "plt.xlabel(\"Properties types\")\n",
    "plt.ylabel(\"Properties count\")\n",
    "plt.title(\"Properties count per type\");"
   ]
  },
  {
   "cell_type": "markdown",
   "id": "e90d9ddc",
   "metadata": {},
   "source": [
    "Let's improve the above plot to make it easier to read."
   ]
  },
  {
   "cell_type": "code",
   "execution_count": 15,
   "id": "e2328be1",
   "metadata": {},
   "outputs": [
    {
     "data": {
      "image/png": "[encoded data removed]",
      "text/plain": [
       "<Figure size 1152x432 with 1 Axes>"
      ]
     },
     "metadata": {
      "needs_background": "light"
     },
     "output_type": "display_data"
    }
   ],
   "source": [
    "# Plotting the number of properties per type\n",
    "properties_per_type_count.plot(kind=\"bar\", figsize=(16,6))\n",
    "\n",
    "y_ticks = [0, 1000, 2500, 5000, 10000, 15000, 20000, 25000, 30000]\n",
    "\n",
    "yticks= {\n",
    "    \"values\":y_ticks,\n",
    "    \"labels\":y_ticks\n",
    "}\n",
    "# plt.xticks(rotation=90)\n",
    "plt.yticks(yticks[\"values\"], yticks[\"labels\"])\n",
    "\n",
    "\n",
    "plt.xlabel(\"Properties types\")\n",
    "plt.ylabel(\"Properties count\")\n",
    "plt.title(\"Properties count per type\");"
   ]
  },
  {
   "cell_type": "markdown",
   "id": "141a89e6",
   "metadata": {},
   "source": [
    "Now let's explore the proportion of the property's types in our dataset."
   ]
  },
  {
   "cell_type": "code",
   "execution_count": 16,
   "id": "52f8b924",
   "metadata": {},
   "outputs": [
    {
     "data": {
      "text/plain": [
       "(33701, 22)"
      ]
     },
     "execution_count": 16,
     "metadata": {},
     "output_type": "execute_result"
    }
   ],
   "source": [
    "df.shape"
   ]
  },
  {
   "cell_type": "code",
   "execution_count": 17,
   "id": "50f64336",
   "metadata": {},
   "outputs": [
    {
     "data": {
      "text/plain": [
       "Apartment           79.938281\n",
       "Office               6.723836\n",
       "Building             4.189787\n",
       "Shop                 2.836711\n",
       "Floor                2.611198\n",
       "Residential Plot     2.596362\n",
       "House                0.519272\n",
       "Duplex               0.249251\n",
       "Commercial Plot      0.160233\n",
       "Warehouse            0.086051\n",
       "Factory              0.056378\n",
       "Others               0.032640\n",
       "Name: building_type, dtype: float64"
      ]
     },
     "execution_count": 17,
     "metadata": {},
     "output_type": "execute_result"
    }
   ],
   "source": [
    "# Proportion of each type of property\n",
    "properties_per_type_prop = properties_per_type_count/df.shape[0]*100\n",
    "properties_per_type_prop"
   ]
  },
  {
   "cell_type": "code",
   "execution_count": 18,
   "id": "88c59a21",
   "metadata": {},
   "outputs": [
    {
     "data": {
      "image/png": "[encoded data removed]",
      "text/plain": [
       "<Figure size 1152x432 with 1 Axes>"
      ]
     },
     "metadata": {
      "needs_background": "light"
     },
     "output_type": "display_data"
    }
   ],
   "source": [
    "# Plotting the proportion of each type of property\n",
    "properties_per_type_prop.plot(kind=\"bar\", figsize=(16,6))\n",
    "\n",
    "plt.xlabel(\"Properties types\")\n",
    "plt.ylabel(\"Proportion (%)\")\n",
    "plt.title(\"Properties proportion per type\");"
   ]
  },
  {
   "cell_type": "markdown",
   "id": "699267c8",
   "metadata": {},
   "source": [
    "*Note: I didn't use a piechart because the number of elements (property types) is more than 04*"
   ]
  },
  {
   "cell_type": "markdown",
   "id": "34502f33",
   "metadata": {},
   "source": [
    "<span id=\"properties-vs-types-interpretation\"></span>\n",
    "\n",
    "1. Nearly 80% of our properties are `Apartment`, for a total of nearly 27000 samples. We also some `Office`, `Building`, `Shop`, `Floor`, `Residential Plot`, whose number are under 10% of the total dataset; that is to say, their numbers are under 2500. \n",
    "1. There are other types of properties, in a very negligible number.\n",
    "\n",
    "\n",
    "<br/>\n",
    "\n",
    "❗ **Recommendation**:\n",
    "* We are expecting our future models to perform well on `Apartment`, and to have and acceptable result for `Office`, `Building`, `Shop`, `Floor`, `Residential Plot`. They are expected to perform poorly on other types of properties.\n",
    "* Types not part of (1) should be dropped in order to avoid noise in our future models.\n",
    "\n",
    "<br/>\n",
    "\n",
    "💡 The above plot, as well as the interpretations, will be put in our explanatory analysis (or in our presention)."
   ]
  },
  {
   "cell_type": "code",
   "execution_count": null,
   "id": "7e501dde",
   "metadata": {},
   "outputs": [],
   "source": []
  },
  {
   "cell_type": "code",
   "execution_count": null,
   "id": "fbc98b66",
   "metadata": {},
   "outputs": [],
   "source": []
  },
  {
   "cell_type": "markdown",
   "id": "ed6cff8d",
   "metadata": {},
   "source": [
    "<span id=\"properties-vs-natures\"></span>\n",
    "\n",
    "[EDA](#eda)  \n",
    "### 3. Distribution of properties per nature \n",
    "We want to understand how properties are ditributed over their natures (Residential, Commercial).    \n"
   ]
  },
  {
   "cell_type": "code",
   "execution_count": 19,
   "id": "1b28d31b",
   "metadata": {},
   "outputs": [
    {
     "data": {
      "text/plain": [
       "Residential    27220\n",
       "Commercial      6481\n",
       "Name: building_nature, dtype: int64"
      ]
     },
     "execution_count": 19,
     "metadata": {},
     "output_type": "execute_result"
    }
   ],
   "source": [
    "# Number of properties per nature\n",
    "properties_per_nature_count = df[\"building_nature\"].value_counts()\n",
    "properties_per_nature_count"
   ]
  },
  {
   "cell_type": "markdown",
   "id": "defc231c",
   "metadata": {},
   "source": [
    "Let's plot the result."
   ]
  },
  {
   "cell_type": "code",
   "execution_count": 20,
   "id": "a761a9eb",
   "metadata": {},
   "outputs": [
    {
     "data": {
      "image/png": "[encoded data removed]",
      "text/plain": [
       "<Figure size 576x576 with 1 Axes>"
      ]
     },
     "metadata": {},
     "output_type": "display_data"
    }
   ],
   "source": [
    "# Plotting the number of properties per nature\n",
    "properties_per_nature_count.plot(kind=\"pie\",\n",
    "                                 figsize=(8,8),\n",
    "                                 autopct='%1.1f%%',\n",
    "                                 explode=[0.01, 0.01],\n",
    "                                 legend=True\n",
    "                                )\n",
    "\n",
    "# plt.xlabel(\"Properties natures\")\n",
    "plt.ylabel(\"Properties count\")\n",
    "plt.title(\"Properties count per nature\");"
   ]
  },
  {
   "cell_type": "markdown",
   "id": "d363ee78",
   "metadata": {},
   "source": [
    "<span id=\"properties-vs-natures-interpretation\"></span>\n",
    "\n",
    "81% of our properties are `Residential`, while the rest are `Commercial`.\n",
    "\n",
    "<br/>\n",
    "\n",
    "💡 The above plot, as well as the interpretations, will be put in our explanatory analysis (or in our presention)."
   ]
  },
  {
   "cell_type": "code",
   "execution_count": null,
   "id": "1ba4b8b4",
   "metadata": {},
   "outputs": [],
   "source": []
  },
  {
   "cell_type": "code",
   "execution_count": null,
   "id": "3e784ac6",
   "metadata": {},
   "outputs": [],
   "source": []
  },
  {
   "cell_type": "markdown",
   "id": "bebe022f",
   "metadata": {},
   "source": [
    "<span id=\"prices-vs-types\"></span>\n",
    "\n",
    "[EDA](#eda)  \n",
    "### 4. Distribution of property prices per type \n",
    "We want to know the prices are distributed over the different types of properties (shop, apartment, ...).    \n",
    "This question was explored by Group 04.\n"
   ]
  },
  {
   "cell_type": "code",
   "execution_count": 21,
   "id": "5052c44e",
   "metadata": {},
   "outputs": [
    {
     "data": {
      "text/html": [
       "<div>\n",
       "<style scoped>\n",
       "    .dataframe tbody tr th:only-of-type {\n",
       "        vertical-align: middle;\n",
       "    }\n",
       "\n",
       "    .dataframe tbody tr th {\n",
       "        vertical-align: top;\n",
       "    }\n",
       "\n",
       "    .dataframe thead th {\n",
       "        text-align: right;\n",
       "    }\n",
       "</style>\n",
       "<table border=\"1\" class=\"dataframe\">\n",
       "  <thead>\n",
       "    <tr style=\"text-align: right;\">\n",
       "      <th></th>\n",
       "      <th>building_type</th>\n",
       "      <th>purpose</th>\n",
       "      <th>mean_price</th>\n",
       "    </tr>\n",
       "  </thead>\n",
       "  <tbody>\n",
       "    <tr>\n",
       "      <th>0</th>\n",
       "      <td>Apartment</td>\n",
       "      <td>Rent</td>\n",
       "      <td>6.466751e+06</td>\n",
       "    </tr>\n",
       "    <tr>\n",
       "      <th>1</th>\n",
       "      <td>Apartment</td>\n",
       "      <td>Sale</td>\n",
       "      <td>2.671628e+09</td>\n",
       "    </tr>\n",
       "    <tr>\n",
       "      <th>2</th>\n",
       "      <td>Building</td>\n",
       "      <td>Rent</td>\n",
       "      <td>8.760356e+07</td>\n",
       "    </tr>\n",
       "    <tr>\n",
       "      <th>3</th>\n",
       "      <td>Building</td>\n",
       "      <td>Sale</td>\n",
       "      <td>7.466818e+07</td>\n",
       "    </tr>\n",
       "    <tr>\n",
       "      <th>4</th>\n",
       "      <td>Commercial Plot</td>\n",
       "      <td>Rent</td>\n",
       "      <td>2.253519e+05</td>\n",
       "    </tr>\n",
       "    <tr>\n",
       "      <th>5</th>\n",
       "      <td>Commercial Plot</td>\n",
       "      <td>Sale</td>\n",
       "      <td>8.602407e+07</td>\n",
       "    </tr>\n",
       "    <tr>\n",
       "      <th>6</th>\n",
       "      <td>Duplex</td>\n",
       "      <td>Rent</td>\n",
       "      <td>2.824167e+05</td>\n",
       "    </tr>\n",
       "    <tr>\n",
       "      <th>7</th>\n",
       "      <td>Duplex</td>\n",
       "      <td>Sale</td>\n",
       "      <td>4.528889e+07</td>\n",
       "    </tr>\n",
       "    <tr>\n",
       "      <th>8</th>\n",
       "      <td>Factory</td>\n",
       "      <td>Rent</td>\n",
       "      <td>3.767947e+05</td>\n",
       "    </tr>\n",
       "    <tr>\n",
       "      <th>9</th>\n",
       "      <td>Floor</td>\n",
       "      <td>Rent</td>\n",
       "      <td>4.798500e+05</td>\n",
       "    </tr>\n",
       "    <tr>\n",
       "      <th>10</th>\n",
       "      <td>Floor</td>\n",
       "      <td>Sale</td>\n",
       "      <td>5.032089e+07</td>\n",
       "    </tr>\n",
       "    <tr>\n",
       "      <th>11</th>\n",
       "      <td>House</td>\n",
       "      <td>Rent</td>\n",
       "      <td>3.014254e+05</td>\n",
       "    </tr>\n",
       "    <tr>\n",
       "      <th>12</th>\n",
       "      <td>House</td>\n",
       "      <td>Sale</td>\n",
       "      <td>1.216533e+11</td>\n",
       "    </tr>\n",
       "    <tr>\n",
       "      <th>13</th>\n",
       "      <td>Office</td>\n",
       "      <td>Rent</td>\n",
       "      <td>3.283976e+05</td>\n",
       "    </tr>\n",
       "    <tr>\n",
       "      <th>14</th>\n",
       "      <td>Office</td>\n",
       "      <td>Sale</td>\n",
       "      <td>3.868742e+07</td>\n",
       "    </tr>\n",
       "    <tr>\n",
       "      <th>15</th>\n",
       "      <td>Others</td>\n",
       "      <td>Rent</td>\n",
       "      <td>3.514000e+03</td>\n",
       "    </tr>\n",
       "    <tr>\n",
       "      <th>16</th>\n",
       "      <td>Others</td>\n",
       "      <td>Sale</td>\n",
       "      <td>3.818133e+07</td>\n",
       "    </tr>\n",
       "    <tr>\n",
       "      <th>17</th>\n",
       "      <td>Residential Plot</td>\n",
       "      <td>Rent</td>\n",
       "      <td>7.715020e+05</td>\n",
       "    </tr>\n",
       "    <tr>\n",
       "      <th>18</th>\n",
       "      <td>Residential Plot</td>\n",
       "      <td>Sale</td>\n",
       "      <td>2.159444e+07</td>\n",
       "    </tr>\n",
       "    <tr>\n",
       "      <th>19</th>\n",
       "      <td>Shop</td>\n",
       "      <td>Rent</td>\n",
       "      <td>2.787757e+05</td>\n",
       "    </tr>\n",
       "    <tr>\n",
       "      <th>20</th>\n",
       "      <td>Shop</td>\n",
       "      <td>Sale</td>\n",
       "      <td>5.289379e+06</td>\n",
       "    </tr>\n",
       "    <tr>\n",
       "      <th>21</th>\n",
       "      <td>Warehouse</td>\n",
       "      <td>Rent</td>\n",
       "      <td>1.888966e+05</td>\n",
       "    </tr>\n",
       "  </tbody>\n",
       "</table>\n",
       "</div>"
      ],
      "text/plain": [
       "       building_type purpose    mean_price\n",
       "0          Apartment    Rent  6.466751e+06\n",
       "1          Apartment    Sale  2.671628e+09\n",
       "2           Building    Rent  8.760356e+07\n",
       "3           Building    Sale  7.466818e+07\n",
       "4    Commercial Plot    Rent  2.253519e+05\n",
       "5    Commercial Plot    Sale  8.602407e+07\n",
       "6             Duplex    Rent  2.824167e+05\n",
       "7             Duplex    Sale  4.528889e+07\n",
       "8            Factory    Rent  3.767947e+05\n",
       "9              Floor    Rent  4.798500e+05\n",
       "10             Floor    Sale  5.032089e+07\n",
       "11             House    Rent  3.014254e+05\n",
       "12             House    Sale  1.216533e+11\n",
       "13            Office    Rent  3.283976e+05\n",
       "14            Office    Sale  3.868742e+07\n",
       "15            Others    Rent  3.514000e+03\n",
       "16            Others    Sale  3.818133e+07\n",
       "17  Residential Plot    Rent  7.715020e+05\n",
       "18  Residential Plot    Sale  2.159444e+07\n",
       "19              Shop    Rent  2.787757e+05\n",
       "20              Shop    Sale  5.289379e+06\n",
       "21         Warehouse    Rent  1.888966e+05"
      ]
     },
     "execution_count": 21,
     "metadata": {},
     "output_type": "execute_result"
    }
   ],
   "source": [
    "# Mean price per building type\n",
    "mean_price_per_type = df[ [\"building_type\",\"purpose\",\"price\"] ].groupby([\"building_type\",\"purpose\"], as_index=False) \\\n",
    "                                                               .mean()\n",
    "\n",
    "# Giving more relevant name to column\n",
    "mean_price_per_type.rename(columns={\n",
    "    \"price\":\"mean_price\"\n",
    "}, inplace=True)\n",
    "    \n",
    "mean_price_per_type"
   ]
  },
  {
   "cell_type": "code",
   "execution_count": 22,
   "id": "55df21dd",
   "metadata": {},
   "outputs": [],
   "source": [
    "# Separating the dataframe mean prices according to purpose\n",
    "mean_price_per_type__rent= mean_price_per_type[mean_price_per_type[\"purpose\"]==\"Rent\"]\n",
    "mean_price_per_type__sale= mean_price_per_type[mean_price_per_type[\"purpose\"]==\"Sale\"]"
   ]
  },
  {
   "cell_type": "code",
   "execution_count": 23,
   "id": "d734afcb",
   "metadata": {},
   "outputs": [
    {
     "data": {
      "image/png": "[encoded data removed]",
      "text/plain": [
       "<Figure size 1440x720 with 2 Axes>"
      ]
     },
     "metadata": {
      "needs_background": "light"
     },
     "output_type": "display_data"
    }
   ],
   "source": [
    "# Plotting the mean prices for sale and rent data\n",
    "fig, ax = plt.subplots(1,2)\n",
    "\n",
    "ax[0].barh(width=mean_price_per_type__sale[\"mean_price\"],y=mean_price_per_type__sale[\"building_type\"])\n",
    "# ax[0].set_xscale(\"log\")\n",
    "ax[0].set_title(\"On sale\")\n",
    "ax[0].set_xlabel(\"Mean Price\")\n",
    "\n",
    "\n",
    "ax[1].barh(width=mean_price_per_type__rent[\"mean_price\"],y=mean_price_per_type__rent[\"building_type\"])\n",
    "# ax[1].set_xscale(\"log\")\n",
    "ax[1].set_title(\"On rent\")\n",
    "ax[1].set_xlabel(\"Mean Price\")\n",
    "\n",
    "fig.set_size_inches([20,10])\n",
    "plt.show()"
   ]
  },
  {
   "cell_type": "markdown",
   "id": "c12bda61",
   "metadata": {},
   "source": [
    "The above plot is not easily readable. Let's try to improve it by using a log scale on the x-axis"
   ]
  },
  {
   "cell_type": "code",
   "execution_count": 24,
   "id": "a0e35417",
   "metadata": {},
   "outputs": [
    {
     "data": {
      "image/png": "[encoded data removed]",
      "text/plain": [
       "<Figure size 1440x720 with 2 Axes>"
      ]
     },
     "metadata": {
      "needs_background": "light"
     },
     "output_type": "display_data"
    }
   ],
   "source": [
    "# Plotting the mean prices for sale and rent data\n",
    "fig, ax = plt.subplots(1,2)\n",
    "\n",
    "ax[0].barh(width=mean_price_per_type__sale[\"mean_price\"],y=mean_price_per_type__sale[\"building_type\"])\n",
    "ax[0].set_xscale(\"log\")\n",
    "ax[0].set_title(\"On sale\")\n",
    "ax[0].set_xlabel(\"Mean Price\")\n",
    "\n",
    "\n",
    "ax[1].barh(width=mean_price_per_type__rent[\"mean_price\"],y=mean_price_per_type__rent[\"building_type\"])\n",
    "ax[1].set_xscale(\"log\")\n",
    "ax[1].set_title(\"On rent\")\n",
    "ax[1].set_xlabel(\"Mean Price\")\n",
    "\n",
    "fig.set_size_inches([20,10])\n",
    "plt.show()"
   ]
  },
  {
   "cell_type": "markdown",
   "id": "fd84920a",
   "metadata": {},
   "source": [
    "<span id=\"prices-vs-types-interpretation\"></span>\n",
    "\n",
    "**TODO** : \n",
    "- Provide an interpretation for the above plots.\n",
    "- Try to make the same plot after dividing the prices by 10.000 (price will thus be in thousand)\n",
    "- Use the same bins on the x-axis of the two plots\n",
    "<br/>\n",
    "\n"
   ]
  },
  {
   "cell_type": "code",
   "execution_count": null,
   "id": "b9084c28",
   "metadata": {},
   "outputs": [],
   "source": []
  },
  {
   "cell_type": "code",
   "execution_count": null,
   "id": "46edf988",
   "metadata": {},
   "outputs": [],
   "source": []
  },
  {
   "cell_type": "code",
   "execution_count": null,
   "id": "301bda4c",
   "metadata": {},
   "outputs": [],
   "source": []
  }
 ],
 "metadata": {
  "kernelspec": {
   "display_name": "Python 3",
   "language": "python",
   "name": "python3"
  },
  "language_info": {
   "codemirror_mode": {
    "name": "ipython",
    "version": 3
   },
   "file_extension": ".py",
   "mimetype": "text/x-python",
   "name": "python",
   "nbconvert_exporter": "python",
   "pygments_lexer": "ipython3",
   "version": "3.8.8"
  }
 },
 "nbformat": 4,
 "nbformat_minor": 5
}
