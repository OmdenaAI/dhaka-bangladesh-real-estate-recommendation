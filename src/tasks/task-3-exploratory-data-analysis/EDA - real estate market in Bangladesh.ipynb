{
 "cells": [
  {
   "cell_type": "markdown",
   "id": "0e7eea91",
   "metadata": {},
   "source": [
    "# Project : Real estate market in Bangladesh (exploratory analysis)\n",
    "\n",
    "<span id=\"toc\"></span>\n",
    "\n",
    "## Table of Contents\n",
    "\n",
    "1. [Introduction](#intro)\n",
    "1. [Preliminary Data Wrangling](#wrangling)\n",
    "1. [Exploratory Data Analysis](#eda)\n",
    "1. [Conclusions](#conclusion)"
   ]
  },
  {
   "cell_type": "code",
   "execution_count": null,
   "id": "fddf01e9",
   "metadata": {},
   "outputs": [],
   "source": []
  },
  {
   "cell_type": "code",
   "execution_count": null,
   "id": "1ed03a30",
   "metadata": {},
   "outputs": [],
   "source": []
  },
  {
   "cell_type": "markdown",
   "id": "cb16d601",
   "metadata": {},
   "source": [
    "[TOC](#toc)\n",
    "\n",
    "## Introduction\n",
    "We are going to investigate scrapped properties datasets in order to gain insights on Bangladesh's real estate market. The goal is to build an intuition on the collected data, and prepare a foundation for our model building stage. In particular, we will be interested in the following questions:\n",
    "1. [Distribution of properties per city](#properties-vs-cities) (Interpretation [here](#properties-vs-cities-interpretation)) (Group 04)\n",
    "1. [Distribution of properties per type (shop, apartment, ...)](#properties-vs-types) (Group 04)\n",
    "1. [Distribution of properties per nature (residential, commercial)](#properties-vs-natures) (Group 04)\n",
    "1. [Distribution of property price per type (shop, apartment, ...)](#price-vs-types) (Group 04)\n",
    "1. [Distribution of property price per nature (residential, commercial)](#price-vs-natures) (Group 04)\n",
    "1. [Impact of basic facilities (e.g. number of baths/rooms on) on the prices](#basic-facilities--vs--prices) (Group 02)\n",
    "1. [Impact of facilities (malls, educational institutions, ...) in the vicinity on the prices](#facilities-vs-prices) (Group 02)\n",
    "1. [Impact of internal amenities (play area, number of car parks, ...) on the prices](#amenities-vs-prices) (Group 02)\n",
    "1. [How do facilities and amenities influence the prices: linearly / non-linearly / stepwise?](#amenities-facilities-prices-relationship) (Group 02)\n",
    "1. [Is it worth it to be interested in building types (shop, apartment, ...), or is building nature enough to explain the prices ?](#types-vs-prices-worth) (Group 02)\n",
    "1. [How do property prices fluctuate for same location?](#prices-vs-locations) (Group 03)\n",
    "1. [How do property prices fluctuate for same property size?](#prices--vs--properties-size) (Group 03)\n",
    "1. [How do property prices fluctuate for same / similar amenities?](#prices-vs-amenities) (Group 03)\n",
    "1. [Which amenities are the more frequent in Residential properties ?](#amenities--vs--residential-properties) (Group 03)\n",
    "1. [Which amenities are the more frequent in Commercial properties ?](#amenities--vs--commercial-properties) (Group 03)\n",
    "1. [Which amenities have the more impact on price?](#amenities-impact-on-price) (Group 03)\n",
    "\n",
    "\n",
    "> **Report date : May, 2023**     \n",
    "> **Created by : `Task 03 - EDA`'s Collaborators and (co-)leads**\n"
   ]
  },
  {
   "cell_type": "code",
   "execution_count": null,
   "id": "6f35d1ed",
   "metadata": {},
   "outputs": [],
   "source": []
  },
  {
   "cell_type": "code",
   "execution_count": 1,
   "id": "42c2e342",
   "metadata": {},
   "outputs": [],
   "source": [
    "# Import all packages and set plots to be embedded inline\n",
    "import numpy as np\n",
    "import pandas as pd\n",
    "import matplotlib.pyplot as plt\n",
    "import seaborn as sb\n",
    "\n",
    "\n",
    "%matplotlib inline"
   ]
  },
  {
   "cell_type": "markdown",
   "id": "9ee2bb3e",
   "metadata": {},
   "source": []
  },
  {
   "cell_type": "markdown",
   "id": "46c22343",
   "metadata": {},
   "source": [
    "<span id=\"wrangling\"></span>\n",
    "[TOC](#toc)  \n",
    "\n",
    "## Preliminary Data Wrangling\n",
    "        \n",
    "\n",
    "### General Properties                \n",
    "Our main data come from over 20+ different real estate website (in Bangladesh) which were scrapped. After cleaning and merging them, we were left with 33701 samples for 22 attributes."
   ]
  },
  {
   "cell_type": "code",
   "execution_count": null,
   "id": "6dc71c9d",
   "metadata": {},
   "outputs": [],
   "source": []
  },
  {
   "cell_type": "markdown",
   "id": "4a0cca59",
   "metadata": {},
   "source": [
    "Let's load the dataset."
   ]
  },
  {
   "cell_type": "code",
   "execution_count": 2,
   "id": "2f7f8216",
   "metadata": {},
   "outputs": [],
   "source": [
    "# CSVs folder\n",
    "merged_data_folder=\"../../data/Merged_Data\""
   ]
  },
  {
   "cell_type": "code",
   "execution_count": 3,
   "id": "1d328997",
   "metadata": {},
   "outputs": [
    {
     "name": "stderr",
     "output_type": "stream",
     "text": [
      "C:\\ProgramData\\Anaconda3\\lib\\site-packages\\IPython\\core\\interactiveshell.py:3165: DtypeWarning: Columns (3) have mixed types.Specify dtype option on import or set low_memory=False.\n",
      "  has_raised = await self.run_ast_nodes(code_ast.body, cell_name,\n"
     ]
    },
    {
     "data": {
      "text/html": [
       "<div>\n",
       "<style scoped>\n",
       "    .dataframe tbody tr th:only-of-type {\n",
       "        vertical-align: middle;\n",
       "    }\n",
       "\n",
       "    .dataframe tbody tr th {\n",
       "        vertical-align: top;\n",
       "    }\n",
       "\n",
       "    .dataframe thead th {\n",
       "        text-align: right;\n",
       "    }\n",
       "</style>\n",
       "<table border=\"1\" class=\"dataframe\">\n",
       "  <thead>\n",
       "    <tr style=\"text-align: right;\">\n",
       "      <th></th>\n",
       "      <th>0</th>\n",
       "      <th>1</th>\n",
       "    </tr>\n",
       "  </thead>\n",
       "  <tbody>\n",
       "    <tr>\n",
       "      <th>area</th>\n",
       "      <td>1185.0</td>\n",
       "      <td>2464.0</td>\n",
       "    </tr>\n",
       "    <tr>\n",
       "      <th>building_type</th>\n",
       "      <td>Apartment</td>\n",
       "      <td>Apartment</td>\n",
       "    </tr>\n",
       "    <tr>\n",
       "      <th>building_nature</th>\n",
       "      <td>Residential</td>\n",
       "      <td>Residential</td>\n",
       "    </tr>\n",
       "    <tr>\n",
       "      <th>image_url</th>\n",
       "      <td>https://images-cdn.bproperty.com/thumbnails/15...</td>\n",
       "      <td>https://images-cdn.bproperty.com/thumbnails/15...</td>\n",
       "    </tr>\n",
       "    <tr>\n",
       "      <th>num_bath_rooms</th>\n",
       "      <td>0.0</td>\n",
       "      <td>4.0</td>\n",
       "    </tr>\n",
       "    <tr>\n",
       "      <th>num_bed_rooms</th>\n",
       "      <td>3.0</td>\n",
       "      <td>3.0</td>\n",
       "    </tr>\n",
       "    <tr>\n",
       "      <th>price</th>\n",
       "      <td>6100000.0</td>\n",
       "      <td>28900000.0</td>\n",
       "    </tr>\n",
       "    <tr>\n",
       "      <th>property_description</th>\n",
       "      <td>Grab This 1185 Sq Ft Beautiful Flat Is Vacant ...</td>\n",
       "      <td>A Vibrant 2464 Sq Ft Residential Flat For Sale...</td>\n",
       "    </tr>\n",
       "    <tr>\n",
       "      <th>property_overview</th>\n",
       "      <td>This flat consists of facilities you can think...</td>\n",
       "      <td>Ready to move in somewhere with everything nea...</td>\n",
       "    </tr>\n",
       "    <tr>\n",
       "      <th>property_url</th>\n",
       "      <td>https://www.bproperty.com/en/property/details-...</td>\n",
       "      <td>https://www.bproperty.com/en/property/details-...</td>\n",
       "    </tr>\n",
       "    <tr>\n",
       "      <th>purpose</th>\n",
       "      <td>Sale</td>\n",
       "      <td>Sale</td>\n",
       "    </tr>\n",
       "    <tr>\n",
       "      <th>city</th>\n",
       "      <td>Dhaka</td>\n",
       "      <td>Dhaka</td>\n",
       "    </tr>\n",
       "    <tr>\n",
       "      <th>locality</th>\n",
       "      <td>Khilgaon</td>\n",
       "      <td>Dhanmondi</td>\n",
       "    </tr>\n",
       "    <tr>\n",
       "      <th>address</th>\n",
       "      <td>NaN</td>\n",
       "      <td>NaN</td>\n",
       "    </tr>\n",
       "    <tr>\n",
       "      <th>id</th>\n",
       "      <td>bproperty-0</td>\n",
       "      <td>bproperty-1</td>\n",
       "    </tr>\n",
       "    <tr>\n",
       "      <th>relaxation_amenity_count</th>\n",
       "      <td>0</td>\n",
       "      <td>0</td>\n",
       "    </tr>\n",
       "    <tr>\n",
       "      <th>security_amenity_count</th>\n",
       "      <td>1</td>\n",
       "      <td>2</td>\n",
       "    </tr>\n",
       "    <tr>\n",
       "      <th>maintenance_or_cleaning_amenity_count</th>\n",
       "      <td>2</td>\n",
       "      <td>0</td>\n",
       "    </tr>\n",
       "    <tr>\n",
       "      <th>social_amenity_count</th>\n",
       "      <td>0</td>\n",
       "      <td>0</td>\n",
       "    </tr>\n",
       "    <tr>\n",
       "      <th>expendable_amenity_count</th>\n",
       "      <td>2</td>\n",
       "      <td>3</td>\n",
       "    </tr>\n",
       "    <tr>\n",
       "      <th>service_staff_amenity_count</th>\n",
       "      <td>0</td>\n",
       "      <td>0</td>\n",
       "    </tr>\n",
       "    <tr>\n",
       "      <th>unclassify_amenity_count</th>\n",
       "      <td>3</td>\n",
       "      <td>4</td>\n",
       "    </tr>\n",
       "  </tbody>\n",
       "</table>\n",
       "</div>"
      ],
      "text/plain": [
       "                                                                                       0  \\\n",
       "area                                                                              1185.0   \n",
       "building_type                                                                  Apartment   \n",
       "building_nature                                                              Residential   \n",
       "image_url                              https://images-cdn.bproperty.com/thumbnails/15...   \n",
       "num_bath_rooms                                                                       0.0   \n",
       "num_bed_rooms                                                                        3.0   \n",
       "price                                                                          6100000.0   \n",
       "property_description                   Grab This 1185 Sq Ft Beautiful Flat Is Vacant ...   \n",
       "property_overview                      This flat consists of facilities you can think...   \n",
       "property_url                           https://www.bproperty.com/en/property/details-...   \n",
       "purpose                                                                             Sale   \n",
       "city                                                                               Dhaka   \n",
       "locality                                                                        Khilgaon   \n",
       "address                                                                              NaN   \n",
       "id                                                                           bproperty-0   \n",
       "relaxation_amenity_count                                                               0   \n",
       "security_amenity_count                                                                 1   \n",
       "maintenance_or_cleaning_amenity_count                                                  2   \n",
       "social_amenity_count                                                                   0   \n",
       "expendable_amenity_count                                                               2   \n",
       "service_staff_amenity_count                                                            0   \n",
       "unclassify_amenity_count                                                               3   \n",
       "\n",
       "                                                                                       1  \n",
       "area                                                                              2464.0  \n",
       "building_type                                                                  Apartment  \n",
       "building_nature                                                              Residential  \n",
       "image_url                              https://images-cdn.bproperty.com/thumbnails/15...  \n",
       "num_bath_rooms                                                                       4.0  \n",
       "num_bed_rooms                                                                        3.0  \n",
       "price                                                                         28900000.0  \n",
       "property_description                   A Vibrant 2464 Sq Ft Residential Flat For Sale...  \n",
       "property_overview                      Ready to move in somewhere with everything nea...  \n",
       "property_url                           https://www.bproperty.com/en/property/details-...  \n",
       "purpose                                                                             Sale  \n",
       "city                                                                               Dhaka  \n",
       "locality                                                                       Dhanmondi  \n",
       "address                                                                              NaN  \n",
       "id                                                                           bproperty-1  \n",
       "relaxation_amenity_count                                                               0  \n",
       "security_amenity_count                                                                 2  \n",
       "maintenance_or_cleaning_amenity_count                                                  0  \n",
       "social_amenity_count                                                                   0  \n",
       "expendable_amenity_count                                                               3  \n",
       "service_staff_amenity_count                                                            0  \n",
       "unclassify_amenity_count                                                               4  "
      ]
     },
     "execution_count": 3,
     "metadata": {},
     "output_type": "execute_result"
    }
   ],
   "source": [
    "# Load the merged dataset\n",
    "df = pd.read_csv(f\"{merged_data_folder}/cleaned_merged_datasets.csv\")\n",
    "df.head(2).T"
   ]
  },
  {
   "cell_type": "code",
   "execution_count": 4,
   "id": "10e3764b",
   "metadata": {},
   "outputs": [
    {
     "data": {
      "text/plain": [
       "(33701, 22)"
      ]
     },
     "execution_count": 4,
     "metadata": {},
     "output_type": "execute_result"
    }
   ],
   "source": [
    "df.shape"
   ]
  },
  {
   "cell_type": "code",
   "execution_count": null,
   "id": "a46367f9",
   "metadata": {},
   "outputs": [],
   "source": []
  },
  {
   "cell_type": "markdown",
   "id": "2368d403",
   "metadata": {},
   "source": [
    "### Structure of the dataset\n",
    "We have 22 features, which are:\n",
    "* **area**: the area occupied by the property, in sqft\n",
    "* **building_type**: the type of the property (shop, apartment, duplex, ...)\n",
    "* **building_nature**: the nature of the property (residential, commercial)\n",
    "* **image_url**: the link toward the property's image\n",
    "\n",
    "TODO: add the other features."
   ]
  },
  {
   "cell_type": "code",
   "execution_count": null,
   "id": "bd5ab5f4",
   "metadata": {},
   "outputs": [],
   "source": []
  },
  {
   "cell_type": "code",
   "execution_count": 5,
   "id": "2a7d7cfa",
   "metadata": {},
   "outputs": [
    {
     "name": "stdout",
     "output_type": "stream",
     "text": [
      "<class 'pandas.core.frame.DataFrame'>\n",
      "RangeIndex: 33701 entries, 0 to 33700\n",
      "Data columns (total 22 columns):\n",
      " #   Column                                 Non-Null Count  Dtype  \n",
      "---  ------                                 --------------  -----  \n",
      " 0   area                                   33701 non-null  float64\n",
      " 1   building_type                          33701 non-null  object \n",
      " 2   building_nature                        33701 non-null  object \n",
      " 3   image_url                              17265 non-null  object \n",
      " 4   num_bath_rooms                         33701 non-null  float64\n",
      " 5   num_bed_rooms                          33701 non-null  float64\n",
      " 6   price                                  33701 non-null  float64\n",
      " 7   property_description                   19029 non-null  object \n",
      " 8   property_overview                      18509 non-null  object \n",
      " 9   property_url                           33679 non-null  object \n",
      " 10  purpose                                33701 non-null  object \n",
      " 11  city                                   33701 non-null  object \n",
      " 12  locality                               33701 non-null  object \n",
      " 13  address                                28524 non-null  object \n",
      " 14  id                                     33701 non-null  object \n",
      " 15  relaxation_amenity_count               33701 non-null  int64  \n",
      " 16  security_amenity_count                 33701 non-null  int64  \n",
      " 17  maintenance_or_cleaning_amenity_count  33701 non-null  int64  \n",
      " 18  social_amenity_count                   33701 non-null  int64  \n",
      " 19  expendable_amenity_count               33701 non-null  int64  \n",
      " 20  service_staff_amenity_count            33701 non-null  int64  \n",
      " 21  unclassify_amenity_count               33701 non-null  int64  \n",
      "dtypes: float64(4), int64(7), object(11)\n",
      "memory usage: 5.7+ MB\n"
     ]
    }
   ],
   "source": [
    "# Structure of the properties dataset\n",
    "df.info()"
   ]
  },
  {
   "cell_type": "code",
   "execution_count": null,
   "id": "7aa4f2c8",
   "metadata": {},
   "outputs": [],
   "source": []
  },
  {
   "cell_type": "code",
   "execution_count": 6,
   "id": "7557b81b",
   "metadata": {},
   "outputs": [
    {
     "data": {
      "text/plain": [
       "area                                         0\n",
       "building_type                                0\n",
       "building_nature                              0\n",
       "image_url                                16436\n",
       "num_bath_rooms                               0\n",
       "num_bed_rooms                                0\n",
       "price                                        0\n",
       "property_description                     14672\n",
       "property_overview                        15192\n",
       "property_url                                22\n",
       "purpose                                      0\n",
       "city                                         0\n",
       "locality                                     0\n",
       "address                                   5177\n",
       "id                                           0\n",
       "relaxation_amenity_count                     0\n",
       "security_amenity_count                       0\n",
       "maintenance_or_cleaning_amenity_count        0\n",
       "social_amenity_count                         0\n",
       "expendable_amenity_count                     0\n",
       "service_staff_amenity_count                  0\n",
       "unclassify_amenity_count                     0\n",
       "dtype: int64"
      ]
     },
     "execution_count": 6,
     "metadata": {},
     "output_type": "execute_result"
    }
   ],
   "source": [
    "# Check N/A values count for each feature\n",
    "df.isna().sum()"
   ]
  },
  {
   "cell_type": "code",
   "execution_count": 7,
   "id": "3a7a944f",
   "metadata": {},
   "outputs": [
    {
     "data": {
      "text/plain": [
       "area                                         0\n",
       "building_type                                0\n",
       "building_nature                              0\n",
       "image_url                                16436\n",
       "num_bath_rooms                               0\n",
       "num_bed_rooms                                0\n",
       "price                                        0\n",
       "property_description                     14672\n",
       "property_overview                        15192\n",
       "property_url                                22\n",
       "purpose                                      0\n",
       "city                                         0\n",
       "locality                                     0\n",
       "address                                   5177\n",
       "id                                           0\n",
       "relaxation_amenity_count                     0\n",
       "security_amenity_count                       0\n",
       "maintenance_or_cleaning_amenity_count        0\n",
       "social_amenity_count                         0\n",
       "expendable_amenity_count                     0\n",
       "service_staff_amenity_count                  0\n",
       "unclassify_amenity_count                     0\n",
       "dtype: int64"
      ]
     },
     "execution_count": 7,
     "metadata": {},
     "output_type": "execute_result"
    }
   ],
   "source": [
    "# Check null values count for each feature\n",
    "df.isnull().sum()"
   ]
  },
  {
   "cell_type": "markdown",
   "id": "22113769",
   "metadata": {},
   "source": [
    "N/A check and null check are giving the same result, so there is nothing to worry about there underlying content. As for the missing values, we should not worry about them since we don't need them in our EDA."
   ]
  },
  {
   "cell_type": "code",
   "execution_count": null,
   "id": "0eca3d7c",
   "metadata": {},
   "outputs": [],
   "source": []
  },
  {
   "cell_type": "markdown",
   "id": "1d746027",
   "metadata": {},
   "source": [
    "### Data assessement and cleaning"
   ]
  },
  {
   "cell_type": "markdown",
   "id": "5d2fce7b",
   "metadata": {},
   "source": [
    "One thing to take note of is that this dataset has already been cleaned (in Task 02). So we will skip this section."
   ]
  },
  {
   "cell_type": "code",
   "execution_count": null,
   "id": "951c8f58",
   "metadata": {},
   "outputs": [],
   "source": []
  },
  {
   "cell_type": "code",
   "execution_count": null,
   "id": "3c832a40",
   "metadata": {},
   "outputs": [],
   "source": []
  },
  {
   "cell_type": "markdown",
   "id": "2f6fb55e",
   "metadata": {},
   "source": [
    "<span id=\"eda\"></span>\n",
    "\n",
    "[TOC](#toc)               \n",
    "## Exploratory Data Analysis"
   ]
  },
  {
   "cell_type": "code",
   "execution_count": null,
   "id": "65c28480",
   "metadata": {},
   "outputs": [],
   "source": []
  },
  {
   "cell_type": "markdown",
   "id": "82008089",
   "metadata": {},
   "source": [
    "<span id=\"properties-vs-cities\"></span>\n",
    "\n",
    "[EDA](#eda)  \n",
    "### 1. Distribution of properties per city \n",
    "The goal is to know which cities we can make prediction for, as well as understand the how properties are distributed over those cities.      \n",
    "This question was explored by Group 04."
   ]
  },
  {
   "cell_type": "code",
   "execution_count": 8,
   "id": "35b9ac21",
   "metadata": {},
   "outputs": [
    {
     "data": {
      "text/plain": [
       "Dhaka               28681\n",
       "Chattogram           3481\n",
       "Narayanganj City      441\n",
       "Barishal              352\n",
       "Gazipur               323\n",
       "Rangpur                73\n",
       "Dinajpur               64\n",
       "Sylhet                 57\n",
       "Rajshahi               56\n",
       "Narayanganj            49\n",
       "Khulna                 39\n",
       "Thakurgaon              8\n",
       "Bogura                  8\n",
       "Mymensingh              8\n",
       "Cumilla                 5\n",
       "Barguna                 4\n",
       "Manikganj               4\n",
       "Magura                  4\n",
       "Narsingdi               4\n",
       "Chittagong              4\n",
       "Chandpur                3\n",
       "Jashore                 3\n",
       "Kushtia                 3\n",
       "Nilphamari              2\n",
       "Brahmanbaria            2\n",
       "Noakhali                2\n",
       "Tangail                 2\n",
       "Madaripur               2\n",
       "Moulvibazar             2\n",
       "Sirajganj               1\n",
       "Shariatpur              1\n",
       "Bandarban               1\n",
       "Feni                    1\n",
       "Kishoreganj             1\n",
       "Jamalpur                1\n",
       "Gopalganj               1\n",
       "Naogaon                 1\n",
       "Sherpur                 1\n",
       "Joypurhat               1\n",
       "Lakshmipur              1\n",
       "Faridpur                1\n",
       "Gaibandha               1\n",
       "Habiganj                1\n",
       "Nawabganj               1\n",
       "Name: city, dtype: int64"
      ]
     },
     "execution_count": 8,
     "metadata": {},
     "output_type": "execute_result"
    }
   ],
   "source": [
    "# Number of properties per city\n",
    "properties_per_city = df[\"city\"].value_counts()\n",
    "properties_per_city"
   ]
  },
  {
   "cell_type": "markdown",
   "id": "27dd16b7",
   "metadata": {},
   "source": [
    "Let's plot the result in order to read it better."
   ]
  },
  {
   "cell_type": "code",
   "execution_count": 9,
   "id": "b597774e",
   "metadata": {},
   "outputs": [
    {
     "data": {
      "image/png": "[encoded data removed]",
      "text/plain": [
       "<Figure size 1152x432 with 1 Axes>"
      ]
     },
     "metadata": {
      "needs_background": "light"
     },
     "output_type": "display_data"
    }
   ],
   "source": [
    "# Plotting properties count per cities\n",
    "properties_per_city.plot(kind=\"bar\", figsize=(16,6))\n",
    "\n",
    "plt.xlabel(\"Cities\")\n",
    "plt.ylabel(\"Properties count\")\n",
    "plt.title(\"Properties count per city\");"
   ]
  },
  {
   "cell_type": "markdown",
   "id": "641e7f8f",
   "metadata": {},
   "source": [
    "Let's improve the above plot to make it easier to read."
   ]
  },
  {
   "cell_type": "code",
   "execution_count": 10,
   "id": "e5ca9513",
   "metadata": {},
   "outputs": [
    {
     "data": {
      "image/png": "[encoded data removed]",
      "text/plain": [
       "<Figure size 1152x432 with 1 Axes>"
      ]
     },
     "metadata": {
      "needs_background": "light"
     },
     "output_type": "display_data"
    }
   ],
   "source": [
    "# Plotting properties count per cities\n",
    "properties_per_city.plot(kind=\"bar\", figsize=(16,6))\n",
    "\n",
    "y_ticks = [0, 500, 4000, 5000, 10000, 15000, 20000, 25000, 28000, 30000]\n",
    "\n",
    "yticks= {\n",
    "    \"values\":y_ticks,\n",
    "    \"labels\":y_ticks\n",
    "}\n",
    "# plt.xticks(rotation=90)\n",
    "plt.yticks(yticks[\"values\"], yticks[\"labels\"])\n",
    "\n",
    "\n",
    "plt.xlabel(\"Cities\")\n",
    "plt.ylabel(\"Properties count\")\n",
    "plt.title(\"Properties count per city\");"
   ]
  },
  {
   "cell_type": "markdown",
   "id": "1b80f6d8",
   "metadata": {},
   "source": [
    "<span id=\"properties-vs-cities-interpretation\"></span>\n",
    "\n",
    "1. Most of our properties are in `Dhaka`, for a total of nearly 28,000 properties. We also have nearly 4000 properties in `Chattogram`.     \n",
    "1. A negligible amount of properties are in `Narayanganj City`, `Barishal`, `Gazipur`, each of them with a count below 500 properties ..\n",
    "1. As for the other cities, their properties count is too insignificant.\n",
    "\n",
    "<br/>\n",
    "\n",
    "❗ **Recommendation**:\n",
    "* We are expecting our future models not to be perform well on cities mentioned in (2). We should \n",
    "* Cities not part of (1) and (2) should be dropped in order to avoid noise in our future models\n",
    "\n",
    "<br/>\n",
    "\n",
    "💡 The above plot, as well as the interpretations, will be put in our explanatory analsis (or in our presention)."
   ]
  },
  {
   "cell_type": "code",
   "execution_count": null,
   "id": "18cbe3d7",
   "metadata": {},
   "outputs": [],
   "source": []
  },
  {
   "cell_type": "code",
   "execution_count": null,
   "id": "55e4b4fd",
   "metadata": {},
   "outputs": [],
   "source": []
  }
 ],
 "metadata": {
  "kernelspec": {
   "display_name": "Python 3",
   "language": "python",
   "name": "python3"
  },
  "language_info": {
   "codemirror_mode": {
    "name": "ipython",
    "version": 3
   },
   "file_extension": ".py",
   "mimetype": "text/x-python",
   "name": "python",
   "nbconvert_exporter": "python",
   "pygments_lexer": "ipython3",
   "version": "3.8.8"
  }
 },
 "nbformat": 4,
 "nbformat_minor": 5
}
