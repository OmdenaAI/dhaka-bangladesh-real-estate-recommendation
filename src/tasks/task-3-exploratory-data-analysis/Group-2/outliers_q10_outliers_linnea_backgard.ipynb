{
  "nbformat": 4,
  "nbformat_minor": 0,
  "metadata": {
    "colab": {
      "provenance": [],
      "toc_visible": true
    },
    "kernelspec": {
      "name": "python3",
      "display_name": "Python 3"
    },
    "language_info": {
      "name": "python"
    }
  },
  "cells": [
    {
      "cell_type": "code",
      "execution_count": null,
      "metadata": {
        "id": "XtzLqS1P7gF2"
      },
      "outputs": [],
      "source": [
        "import pandas as pd\n",
        "import numpy as np\n",
        "import seaborn as sns\n",
        "import altair as alt\n",
        "import matplotlib.pyplot as plt"
      ]
    },
    {
      "cell_type": "code",
      "source": [
        "!pwd"
      ],
      "metadata": {
        "colab": {
          "base_uri": "https://localhost:8080/"
        },
        "id": "WPfEck8UI2ja",
        "outputId": "01e9e955-15d2-4e87-94de-b5f8427bd690"
      },
      "execution_count": null,
      "outputs": [
        {
          "output_type": "stream",
          "name": "stdout",
          "text": [
            "/content\n"
          ]
        }
      ]
    },
    {
      "cell_type": "code",
      "source": [
        "url = './merged_datasets.csv'\n",
        "df = pd.read_csv(url)"
      ],
      "metadata": {
        "id": "blF0LiPu8dt4"
      },
      "execution_count": null,
      "outputs": []
    },
    {
      "cell_type": "code",
      "source": [
        "df.head()"
      ],
      "metadata": {
        "colab": {
          "base_uri": "https://localhost:8080/",
          "height": 490
        },
        "id": "-r_2M9X8_84W",
        "outputId": "20d85287-132b-411b-81fa-8fd8dd6db912"
      },
      "execution_count": null,
      "outputs": [
        {
          "output_type": "execute_result",
          "data": {
            "text/plain": [
              "   index    area building_type building_nature  \\\n",
              "0      0  1185.0     Apartment     Residential   \n",
              "1      1  2464.0     Apartment     Residential   \n",
              "2      2  1140.0     Apartment     Residential   \n",
              "3      3  1920.0     Apartment     Residential   \n",
              "4      4  1445.0     Apartment     Residential   \n",
              "\n",
              "                                           image_url  num_bath_rooms  \\\n",
              "0  https://images-cdn.bproperty.com/thumbnails/15...             0.0   \n",
              "1  https://images-cdn.bproperty.com/thumbnails/15...             4.0   \n",
              "2  https://images-cdn.bproperty.com/thumbnails/15...             0.0   \n",
              "3  https://images-cdn.bproperty.com/thumbnails/15...             3.0   \n",
              "4  https://images-cdn.bproperty.com/thumbnails/15...             3.0   \n",
              "\n",
              "   num_bed_rooms       price  \\\n",
              "0            3.0   6100000.0   \n",
              "1            3.0  28900000.0   \n",
              "2            3.0   7500000.0   \n",
              "3            3.0  20000000.0   \n",
              "4            3.0  10800000.0   \n",
              "\n",
              "                                property_description  \\\n",
              "0  Grab This 1185 Sq Ft Beautiful Flat Is Vacant ...   \n",
              "1  A Vibrant 2464 Sq Ft Residential Flat For Sale...   \n",
              "2  1140 Sq Ft Nicely Planned Apartment Is Availab...   \n",
              "3  A Modern Well-planned Apartment Of 1920 Sq Ft ...   \n",
              "4  1445 Sq Ft Ready Flat For Sale In Banasree, Wi...   \n",
              "\n",
              "                                   property_overview  ...  \\\n",
              "0  This flat consists of facilities you can think...  ...   \n",
              "1  Ready to move in somewhere with everything nea...  ...   \n",
              "2  A spacious 1140  Square Feet apartment in Mirp...  ...   \n",
              "3  Looking for the perfect home that offers a lux...  ...   \n",
              "4  Choosing a new home can be an overwhelming exp...  ...   \n",
              "\n",
              "                           address           id garage  \\\n",
              "0                              NaN  bproperty-0    0.0   \n",
              "1                              NaN  bproperty-1    0.0   \n",
              "2              Block Ta, Section 6  bproperty-2    0.0   \n",
              "3                          Block J  bproperty-3    0.0   \n",
              "4  Block M, South Banasree Project  bproperty-4    0.0   \n",
              "\n",
              "  relaxation_amenity_count security_amenity_count  \\\n",
              "0                        0                      1   \n",
              "1                        0                      2   \n",
              "2                        0                      2   \n",
              "3                        0                      1   \n",
              "4                        0                      0   \n",
              "\n",
              "  maintenance_or_cleaning_amenity_count  social_amenity_count  \\\n",
              "0                                     2                     0   \n",
              "1                                     0                     0   \n",
              "2                                     2                     0   \n",
              "3                                     2                     0   \n",
              "4                                     2                     0   \n",
              "\n",
              "   expendable_amenity_count  service_staff_amenity_count  \\\n",
              "0                         2                          0.0   \n",
              "1                         3                          0.0   \n",
              "2                         2                          0.0   \n",
              "3                         3                          0.0   \n",
              "4                         1                          0.0   \n",
              "\n",
              "   unclassify_amenity_count  \n",
              "0                       3.0  \n",
              "1                       4.0  \n",
              "2                       4.0  \n",
              "3                       3.0  \n",
              "4                       4.0  \n",
              "\n",
              "[5 rows x 24 columns]"
            ],
            "text/html": [
              "\n",
              "  <div id=\"df-7bff0663-71a1-40cc-a4d0-4d24d726d9f3\">\n",
              "    <div class=\"colab-df-container\">\n",
              "      <div>\n",
              "<style scoped>\n",
              "    .dataframe tbody tr th:only-of-type {\n",
              "        vertical-align: middle;\n",
              "    }\n",
              "\n",
              "    .dataframe tbody tr th {\n",
              "        vertical-align: top;\n",
              "    }\n",
              "\n",
              "    .dataframe thead th {\n",
              "        text-align: right;\n",
              "    }\n",
              "</style>\n",
              "<table border=\"1\" class=\"dataframe\">\n",
              "  <thead>\n",
              "    <tr style=\"text-align: right;\">\n",
              "      <th></th>\n",
              "      <th>index</th>\n",
              "      <th>area</th>\n",
              "      <th>building_type</th>\n",
              "      <th>building_nature</th>\n",
              "      <th>image_url</th>\n",
              "      <th>num_bath_rooms</th>\n",
              "      <th>num_bed_rooms</th>\n",
              "      <th>price</th>\n",
              "      <th>property_description</th>\n",
              "      <th>property_overview</th>\n",
              "      <th>...</th>\n",
              "      <th>address</th>\n",
              "      <th>id</th>\n",
              "      <th>garage</th>\n",
              "      <th>relaxation_amenity_count</th>\n",
              "      <th>security_amenity_count</th>\n",
              "      <th>maintenance_or_cleaning_amenity_count</th>\n",
              "      <th>social_amenity_count</th>\n",
              "      <th>expendable_amenity_count</th>\n",
              "      <th>service_staff_amenity_count</th>\n",
              "      <th>unclassify_amenity_count</th>\n",
              "    </tr>\n",
              "  </thead>\n",
              "  <tbody>\n",
              "    <tr>\n",
              "      <th>0</th>\n",
              "      <td>0</td>\n",
              "      <td>1185.0</td>\n",
              "      <td>Apartment</td>\n",
              "      <td>Residential</td>\n",
              "      <td>https://images-cdn.bproperty.com/thumbnails/15...</td>\n",
              "      <td>0.0</td>\n",
              "      <td>3.0</td>\n",
              "      <td>6100000.0</td>\n",
              "      <td>Grab This 1185 Sq Ft Beautiful Flat Is Vacant ...</td>\n",
              "      <td>This flat consists of facilities you can think...</td>\n",
              "      <td>...</td>\n",
              "      <td>NaN</td>\n",
              "      <td>bproperty-0</td>\n",
              "      <td>0.0</td>\n",
              "      <td>0</td>\n",
              "      <td>1</td>\n",
              "      <td>2</td>\n",
              "      <td>0</td>\n",
              "      <td>2</td>\n",
              "      <td>0.0</td>\n",
              "      <td>3.0</td>\n",
              "    </tr>\n",
              "    <tr>\n",
              "      <th>1</th>\n",
              "      <td>1</td>\n",
              "      <td>2464.0</td>\n",
              "      <td>Apartment</td>\n",
              "      <td>Residential</td>\n",
              "      <td>https://images-cdn.bproperty.com/thumbnails/15...</td>\n",
              "      <td>4.0</td>\n",
              "      <td>3.0</td>\n",
              "      <td>28900000.0</td>\n",
              "      <td>A Vibrant 2464 Sq Ft Residential Flat For Sale...</td>\n",
              "      <td>Ready to move in somewhere with everything nea...</td>\n",
              "      <td>...</td>\n",
              "      <td>NaN</td>\n",
              "      <td>bproperty-1</td>\n",
              "      <td>0.0</td>\n",
              "      <td>0</td>\n",
              "      <td>2</td>\n",
              "      <td>0</td>\n",
              "      <td>0</td>\n",
              "      <td>3</td>\n",
              "      <td>0.0</td>\n",
              "      <td>4.0</td>\n",
              "    </tr>\n",
              "    <tr>\n",
              "      <th>2</th>\n",
              "      <td>2</td>\n",
              "      <td>1140.0</td>\n",
              "      <td>Apartment</td>\n",
              "      <td>Residential</td>\n",
              "      <td>https://images-cdn.bproperty.com/thumbnails/15...</td>\n",
              "      <td>0.0</td>\n",
              "      <td>3.0</td>\n",
              "      <td>7500000.0</td>\n",
              "      <td>1140 Sq Ft Nicely Planned Apartment Is Availab...</td>\n",
              "      <td>A spacious 1140  Square Feet apartment in Mirp...</td>\n",
              "      <td>...</td>\n",
              "      <td>Block Ta, Section 6</td>\n",
              "      <td>bproperty-2</td>\n",
              "      <td>0.0</td>\n",
              "      <td>0</td>\n",
              "      <td>2</td>\n",
              "      <td>2</td>\n",
              "      <td>0</td>\n",
              "      <td>2</td>\n",
              "      <td>0.0</td>\n",
              "      <td>4.0</td>\n",
              "    </tr>\n",
              "    <tr>\n",
              "      <th>3</th>\n",
              "      <td>3</td>\n",
              "      <td>1920.0</td>\n",
              "      <td>Apartment</td>\n",
              "      <td>Residential</td>\n",
              "      <td>https://images-cdn.bproperty.com/thumbnails/15...</td>\n",
              "      <td>3.0</td>\n",
              "      <td>3.0</td>\n",
              "      <td>20000000.0</td>\n",
              "      <td>A Modern Well-planned Apartment Of 1920 Sq Ft ...</td>\n",
              "      <td>Looking for the perfect home that offers a lux...</td>\n",
              "      <td>...</td>\n",
              "      <td>Block J</td>\n",
              "      <td>bproperty-3</td>\n",
              "      <td>0.0</td>\n",
              "      <td>0</td>\n",
              "      <td>1</td>\n",
              "      <td>2</td>\n",
              "      <td>0</td>\n",
              "      <td>3</td>\n",
              "      <td>0.0</td>\n",
              "      <td>3.0</td>\n",
              "    </tr>\n",
              "    <tr>\n",
              "      <th>4</th>\n",
              "      <td>4</td>\n",
              "      <td>1445.0</td>\n",
              "      <td>Apartment</td>\n",
              "      <td>Residential</td>\n",
              "      <td>https://images-cdn.bproperty.com/thumbnails/15...</td>\n",
              "      <td>3.0</td>\n",
              "      <td>3.0</td>\n",
              "      <td>10800000.0</td>\n",
              "      <td>1445 Sq Ft Ready Flat For Sale In Banasree, Wi...</td>\n",
              "      <td>Choosing a new home can be an overwhelming exp...</td>\n",
              "      <td>...</td>\n",
              "      <td>Block M, South Banasree Project</td>\n",
              "      <td>bproperty-4</td>\n",
              "      <td>0.0</td>\n",
              "      <td>0</td>\n",
              "      <td>0</td>\n",
              "      <td>2</td>\n",
              "      <td>0</td>\n",
              "      <td>1</td>\n",
              "      <td>0.0</td>\n",
              "      <td>4.0</td>\n",
              "    </tr>\n",
              "  </tbody>\n",
              "</table>\n",
              "<p>5 rows × 24 columns</p>\n",
              "</div>\n",
              "      <button class=\"colab-df-convert\" onclick=\"convertToInteractive('df-7bff0663-71a1-40cc-a4d0-4d24d726d9f3')\"\n",
              "              title=\"Convert this dataframe to an interactive table.\"\n",
              "              style=\"display:none;\">\n",
              "        \n",
              "  <svg xmlns=\"http://www.w3.org/2000/svg\" height=\"24px\"viewBox=\"0 0 24 24\"\n",
              "       width=\"24px\">\n",
              "    <path d=\"M0 0h24v24H0V0z\" fill=\"none\"/>\n",
              "    <path d=\"M18.56 5.44l.94 2.06.94-2.06 2.06-.94-2.06-.94-.94-2.06-.94 2.06-2.06.94zm-11 1L8.5 8.5l.94-2.06 2.06-.94-2.06-.94L8.5 2.5l-.94 2.06-2.06.94zm10 10l.94 2.06.94-2.06 2.06-.94-2.06-.94-.94-2.06-.94 2.06-2.06.94z\"/><path d=\"M17.41 7.96l-1.37-1.37c-.4-.4-.92-.59-1.43-.59-.52 0-1.04.2-1.43.59L10.3 9.45l-7.72 7.72c-.78.78-.78 2.05 0 2.83L4 21.41c.39.39.9.59 1.41.59.51 0 1.02-.2 1.41-.59l7.78-7.78 2.81-2.81c.8-.78.8-2.07 0-2.86zM5.41 20L4 18.59l7.72-7.72 1.47 1.35L5.41 20z\"/>\n",
              "  </svg>\n",
              "      </button>\n",
              "      \n",
              "  <style>\n",
              "    .colab-df-container {\n",
              "      display:flex;\n",
              "      flex-wrap:wrap;\n",
              "      gap: 12px;\n",
              "    }\n",
              "\n",
              "    .colab-df-convert {\n",
              "      background-color: #E8F0FE;\n",
              "      border: none;\n",
              "      border-radius: 50%;\n",
              "      cursor: pointer;\n",
              "      display: none;\n",
              "      fill: #1967D2;\n",
              "      height: 32px;\n",
              "      padding: 0 0 0 0;\n",
              "      width: 32px;\n",
              "    }\n",
              "\n",
              "    .colab-df-convert:hover {\n",
              "      background-color: #E2EBFA;\n",
              "      box-shadow: 0px 1px 2px rgba(60, 64, 67, 0.3), 0px 1px 3px 1px rgba(60, 64, 67, 0.15);\n",
              "      fill: #174EA6;\n",
              "    }\n",
              "\n",
              "    [theme=dark] .colab-df-convert {\n",
              "      background-color: #3B4455;\n",
              "      fill: #D2E3FC;\n",
              "    }\n",
              "\n",
              "    [theme=dark] .colab-df-convert:hover {\n",
              "      background-color: #434B5C;\n",
              "      box-shadow: 0px 1px 3px 1px rgba(0, 0, 0, 0.15);\n",
              "      filter: drop-shadow(0px 1px 2px rgba(0, 0, 0, 0.3));\n",
              "      fill: #FFFFFF;\n",
              "    }\n",
              "  </style>\n",
              "\n",
              "      <script>\n",
              "        const buttonEl =\n",
              "          document.querySelector('#df-7bff0663-71a1-40cc-a4d0-4d24d726d9f3 button.colab-df-convert');\n",
              "        buttonEl.style.display =\n",
              "          google.colab.kernel.accessAllowed ? 'block' : 'none';\n",
              "\n",
              "        async function convertToInteractive(key) {\n",
              "          const element = document.querySelector('#df-7bff0663-71a1-40cc-a4d0-4d24d726d9f3');\n",
              "          const dataTable =\n",
              "            await google.colab.kernel.invokeFunction('convertToInteractive',\n",
              "                                                     [key], {});\n",
              "          if (!dataTable) return;\n",
              "\n",
              "          const docLinkHtml = 'Like what you see? Visit the ' +\n",
              "            '<a target=\"_blank\" href=https://colab.research.google.com/notebooks/data_table.ipynb>data table notebook</a>'\n",
              "            + ' to learn more about interactive tables.';\n",
              "          element.innerHTML = '';\n",
              "          dataTable['output_type'] = 'display_data';\n",
              "          await google.colab.output.renderOutput(dataTable, element);\n",
              "          const docLink = document.createElement('div');\n",
              "          docLink.innerHTML = docLinkHtml;\n",
              "          element.appendChild(docLink);\n",
              "        }\n",
              "      </script>\n",
              "    </div>\n",
              "  </div>\n",
              "  "
            ]
          },
          "metadata": {},
          "execution_count": 120
        }
      ]
    },
    {
      "cell_type": "markdown",
      "source": [
        "# Question 10"
      ],
      "metadata": {
        "id": "LQbNnHVeUt5E"
      }
    },
    {
      "cell_type": "markdown",
      "source": [
        "# a) What are the outliers in terms of the price (and also other variables, e.g. num_bath_rooms)?\n",
        "\n",
        "\n"
      ],
      "metadata": {
        "id": "BPdTpmw5fWkK"
      }
    },
    {
      "cell_type": "code",
      "source": [
        "df.info()"
      ],
      "metadata": {
        "colab": {
          "base_uri": "https://localhost:8080/"
        },
        "id": "mLejULQQ9A5O",
        "outputId": "4c2a24e0-02c0-4b6b-93d3-640b2ab3af89"
      },
      "execution_count": null,
      "outputs": [
        {
          "output_type": "stream",
          "name": "stdout",
          "text": [
            "<class 'pandas.core.frame.DataFrame'>\n",
            "RangeIndex: 26679 entries, 0 to 26678\n",
            "Data columns (total 24 columns):\n",
            " #   Column                                 Non-Null Count  Dtype  \n",
            "---  ------                                 --------------  -----  \n",
            " 0   index                                  26679 non-null  int64  \n",
            " 1   area                                   26679 non-null  float64\n",
            " 2   building_type                          26679 non-null  object \n",
            " 3   building_nature                        26679 non-null  object \n",
            " 4   image_url                              17265 non-null  object \n",
            " 5   num_bath_rooms                         26679 non-null  float64\n",
            " 6   num_bed_rooms                          26679 non-null  float64\n",
            " 7   price                                  26679 non-null  float64\n",
            " 8   property_description                   17653 non-null  object \n",
            " 9   property_overview                      17290 non-null  object \n",
            " 10  property_url                           26679 non-null  object \n",
            " 11  purpose                                26679 non-null  object \n",
            " 12  city                                   26679 non-null  object \n",
            " 13  locality                               26679 non-null  object \n",
            " 14  address                                21811 non-null  object \n",
            " 15  id                                     26679 non-null  object \n",
            " 16  garage                                 26679 non-null  float64\n",
            " 17  relaxation_amenity_count               26679 non-null  int64  \n",
            " 18  security_amenity_count                 26679 non-null  int64  \n",
            " 19  maintenance_or_cleaning_amenity_count  26679 non-null  int64  \n",
            " 20  social_amenity_count                   26679 non-null  int64  \n",
            " 21  expendable_amenity_count               26679 non-null  int64  \n",
            " 22  service_staff_amenity_count            26678 non-null  float64\n",
            " 23  unclassify_amenity_count               26678 non-null  float64\n",
            "dtypes: float64(7), int64(6), object(11)\n",
            "memory usage: 4.9+ MB\n"
          ]
        }
      ]
    },
    {
      "cell_type": "code",
      "source": [
        "df.isnull().sum()"
      ],
      "metadata": {
        "colab": {
          "base_uri": "https://localhost:8080/"
        },
        "id": "tQN8fuBe9s68",
        "outputId": "59a8b2ba-0e23-43f1-92c4-10c144a78a78"
      },
      "execution_count": null,
      "outputs": [
        {
          "output_type": "execute_result",
          "data": {
            "text/plain": [
              "index                                       0\n",
              "area                                        0\n",
              "building_type                               0\n",
              "building_nature                             0\n",
              "image_url                                9414\n",
              "num_bath_rooms                              0\n",
              "num_bed_rooms                               0\n",
              "price                                       0\n",
              "property_description                     9026\n",
              "property_overview                        9389\n",
              "property_url                                0\n",
              "purpose                                     0\n",
              "city                                        0\n",
              "locality                                    0\n",
              "address                                  4868\n",
              "id                                          0\n",
              "garage                                      0\n",
              "relaxation_amenity_count                    0\n",
              "security_amenity_count                      0\n",
              "maintenance_or_cleaning_amenity_count       0\n",
              "social_amenity_count                        0\n",
              "expendable_amenity_count                    0\n",
              "service_staff_amenity_count                 1\n",
              "unclassify_amenity_count                    1\n",
              "dtype: int64"
            ]
          },
          "metadata": {},
          "execution_count": 122
        }
      ]
    },
    {
      "cell_type": "code",
      "source": [
        "df_cropped = df[['area', 'num_bath_rooms', 'num_bed_rooms', 'price', 'purpose', 'garage']]"
      ],
      "metadata": {
        "id": "-m-tEnod-knr"
      },
      "execution_count": null,
      "outputs": []
    },
    {
      "cell_type": "code",
      "source": [
        "df_cropped.info()"
      ],
      "metadata": {
        "colab": {
          "base_uri": "https://localhost:8080/"
        },
        "id": "AwqkBIkpA8vK",
        "outputId": "6dbfb566-36b2-4041-a080-b364f6b1b36c"
      },
      "execution_count": null,
      "outputs": [
        {
          "output_type": "stream",
          "name": "stdout",
          "text": [
            "<class 'pandas.core.frame.DataFrame'>\n",
            "RangeIndex: 26679 entries, 0 to 26678\n",
            "Data columns (total 6 columns):\n",
            " #   Column          Non-Null Count  Dtype  \n",
            "---  ------          --------------  -----  \n",
            " 0   area            26679 non-null  float64\n",
            " 1   num_bath_rooms  26679 non-null  float64\n",
            " 2   num_bed_rooms   26679 non-null  float64\n",
            " 3   price           26679 non-null  float64\n",
            " 4   purpose         26679 non-null  object \n",
            " 5   garage          26679 non-null  float64\n",
            "dtypes: float64(5), object(1)\n",
            "memory usage: 1.2+ MB\n"
          ]
        }
      ]
    },
    {
      "cell_type": "code",
      "source": [
        "df_cropped.isnull().sum()"
      ],
      "metadata": {
        "colab": {
          "base_uri": "https://localhost:8080/"
        },
        "id": "DsS8Cxt2B5qr",
        "outputId": "b21ea114-56d3-4504-d528-d5be9e0dd2aa"
      },
      "execution_count": null,
      "outputs": [
        {
          "output_type": "execute_result",
          "data": {
            "text/plain": [
              "area              0\n",
              "num_bath_rooms    0\n",
              "num_bed_rooms     0\n",
              "price             0\n",
              "purpose           0\n",
              "garage            0\n",
              "dtype: int64"
            ]
          },
          "metadata": {},
          "execution_count": 125
        }
      ]
    },
    {
      "cell_type": "code",
      "source": [
        "# Amount that have value zero\n",
        "zero_area = (df_cropped['area'] == 0).sum()\n",
        "zero_baths = (df_cropped['num_bath_rooms'] == 0).sum()\n",
        "zero_beds = (df_cropped['num_bed_rooms'] == 0).sum()\n",
        "zero_garage = (df_cropped['garage'] == 0).sum()\n",
        "\n",
        "print(\"area:\", zero_area)\n",
        "print(\"num_bath_rooms:\", zero_baths)\n",
        "print(\"num_bed_rooms:\", zero_beds)\n",
        "print(\"garage:\", zero_garage)"
      ],
      "metadata": {
        "colab": {
          "base_uri": "https://localhost:8080/"
        },
        "id": "cA-PaIrzeyze",
        "outputId": "0a701ea7-23bd-413b-9c4e-72c5ab513c28"
      },
      "execution_count": null,
      "outputs": [
        {
          "output_type": "stream",
          "name": "stdout",
          "text": [
            "area: 1\n",
            "num_bath_rooms: 13277\n",
            "num_bed_rooms: 6483\n",
            "garage: 26679\n"
          ]
        }
      ]
    },
    {
      "cell_type": "code",
      "source": [
        "df_cropped.count()"
      ],
      "metadata": {
        "colab": {
          "base_uri": "https://localhost:8080/"
        },
        "id": "IDEie_CzD_kG",
        "outputId": "eeab8925-ab28-44dc-a37c-1e5bef7481c0"
      },
      "execution_count": null,
      "outputs": [
        {
          "output_type": "execute_result",
          "data": {
            "text/plain": [
              "area              26679\n",
              "num_bath_rooms    26679\n",
              "num_bed_rooms     26679\n",
              "price             26679\n",
              "purpose           26679\n",
              "garage            26679\n",
              "dtype: int64"
            ]
          },
          "metadata": {},
          "execution_count": 127
        }
      ]
    },
    {
      "cell_type": "code",
      "source": [
        "# Missing Data\n",
        "total = df_cropped.isnull().sum().sort_values(ascending = False)\n",
        "percent = (df_cropped.isnull().sum()/df_cropped.isnull().count()).sort_values(ascending = False)\n",
        "missing_data = pd.concat([total,percent], axis = 1, keys = ['Total', 'Percent'])\n",
        "missing_data.head(20)"
      ],
      "metadata": {
        "colab": {
          "base_uri": "https://localhost:8080/",
          "height": 237
        },
        "id": "sQJACrz8StGg",
        "outputId": "9dc0a5e6-389b-44e0-f39d-bd87f3e80f14"
      },
      "execution_count": null,
      "outputs": [
        {
          "output_type": "execute_result",
          "data": {
            "text/plain": [
              "                Total  Percent\n",
              "area                0      0.0\n",
              "num_bath_rooms      0      0.0\n",
              "num_bed_rooms       0      0.0\n",
              "price               0      0.0\n",
              "purpose             0      0.0\n",
              "garage              0      0.0"
            ],
            "text/html": [
              "\n",
              "  <div id=\"df-efbe5a18-8134-4eee-8c76-6698a62184de\">\n",
              "    <div class=\"colab-df-container\">\n",
              "      <div>\n",
              "<style scoped>\n",
              "    .dataframe tbody tr th:only-of-type {\n",
              "        vertical-align: middle;\n",
              "    }\n",
              "\n",
              "    .dataframe tbody tr th {\n",
              "        vertical-align: top;\n",
              "    }\n",
              "\n",
              "    .dataframe thead th {\n",
              "        text-align: right;\n",
              "    }\n",
              "</style>\n",
              "<table border=\"1\" class=\"dataframe\">\n",
              "  <thead>\n",
              "    <tr style=\"text-align: right;\">\n",
              "      <th></th>\n",
              "      <th>Total</th>\n",
              "      <th>Percent</th>\n",
              "    </tr>\n",
              "  </thead>\n",
              "  <tbody>\n",
              "    <tr>\n",
              "      <th>area</th>\n",
              "      <td>0</td>\n",
              "      <td>0.0</td>\n",
              "    </tr>\n",
              "    <tr>\n",
              "      <th>num_bath_rooms</th>\n",
              "      <td>0</td>\n",
              "      <td>0.0</td>\n",
              "    </tr>\n",
              "    <tr>\n",
              "      <th>num_bed_rooms</th>\n",
              "      <td>0</td>\n",
              "      <td>0.0</td>\n",
              "    </tr>\n",
              "    <tr>\n",
              "      <th>price</th>\n",
              "      <td>0</td>\n",
              "      <td>0.0</td>\n",
              "    </tr>\n",
              "    <tr>\n",
              "      <th>purpose</th>\n",
              "      <td>0</td>\n",
              "      <td>0.0</td>\n",
              "    </tr>\n",
              "    <tr>\n",
              "      <th>garage</th>\n",
              "      <td>0</td>\n",
              "      <td>0.0</td>\n",
              "    </tr>\n",
              "  </tbody>\n",
              "</table>\n",
              "</div>\n",
              "      <button class=\"colab-df-convert\" onclick=\"convertToInteractive('df-efbe5a18-8134-4eee-8c76-6698a62184de')\"\n",
              "              title=\"Convert this dataframe to an interactive table.\"\n",
              "              style=\"display:none;\">\n",
              "        \n",
              "  <svg xmlns=\"http://www.w3.org/2000/svg\" height=\"24px\"viewBox=\"0 0 24 24\"\n",
              "       width=\"24px\">\n",
              "    <path d=\"M0 0h24v24H0V0z\" fill=\"none\"/>\n",
              "    <path d=\"M18.56 5.44l.94 2.06.94-2.06 2.06-.94-2.06-.94-.94-2.06-.94 2.06-2.06.94zm-11 1L8.5 8.5l.94-2.06 2.06-.94-2.06-.94L8.5 2.5l-.94 2.06-2.06.94zm10 10l.94 2.06.94-2.06 2.06-.94-2.06-.94-.94-2.06-.94 2.06-2.06.94z\"/><path d=\"M17.41 7.96l-1.37-1.37c-.4-.4-.92-.59-1.43-.59-.52 0-1.04.2-1.43.59L10.3 9.45l-7.72 7.72c-.78.78-.78 2.05 0 2.83L4 21.41c.39.39.9.59 1.41.59.51 0 1.02-.2 1.41-.59l7.78-7.78 2.81-2.81c.8-.78.8-2.07 0-2.86zM5.41 20L4 18.59l7.72-7.72 1.47 1.35L5.41 20z\"/>\n",
              "  </svg>\n",
              "      </button>\n",
              "      \n",
              "  <style>\n",
              "    .colab-df-container {\n",
              "      display:flex;\n",
              "      flex-wrap:wrap;\n",
              "      gap: 12px;\n",
              "    }\n",
              "\n",
              "    .colab-df-convert {\n",
              "      background-color: #E8F0FE;\n",
              "      border: none;\n",
              "      border-radius: 50%;\n",
              "      cursor: pointer;\n",
              "      display: none;\n",
              "      fill: #1967D2;\n",
              "      height: 32px;\n",
              "      padding: 0 0 0 0;\n",
              "      width: 32px;\n",
              "    }\n",
              "\n",
              "    .colab-df-convert:hover {\n",
              "      background-color: #E2EBFA;\n",
              "      box-shadow: 0px 1px 2px rgba(60, 64, 67, 0.3), 0px 1px 3px 1px rgba(60, 64, 67, 0.15);\n",
              "      fill: #174EA6;\n",
              "    }\n",
              "\n",
              "    [theme=dark] .colab-df-convert {\n",
              "      background-color: #3B4455;\n",
              "      fill: #D2E3FC;\n",
              "    }\n",
              "\n",
              "    [theme=dark] .colab-df-convert:hover {\n",
              "      background-color: #434B5C;\n",
              "      box-shadow: 0px 1px 3px 1px rgba(0, 0, 0, 0.15);\n",
              "      filter: drop-shadow(0px 1px 2px rgba(0, 0, 0, 0.3));\n",
              "      fill: #FFFFFF;\n",
              "    }\n",
              "  </style>\n",
              "\n",
              "      <script>\n",
              "        const buttonEl =\n",
              "          document.querySelector('#df-efbe5a18-8134-4eee-8c76-6698a62184de button.colab-df-convert');\n",
              "        buttonEl.style.display =\n",
              "          google.colab.kernel.accessAllowed ? 'block' : 'none';\n",
              "\n",
              "        async function convertToInteractive(key) {\n",
              "          const element = document.querySelector('#df-efbe5a18-8134-4eee-8c76-6698a62184de');\n",
              "          const dataTable =\n",
              "            await google.colab.kernel.invokeFunction('convertToInteractive',\n",
              "                                                     [key], {});\n",
              "          if (!dataTable) return;\n",
              "\n",
              "          const docLinkHtml = 'Like what you see? Visit the ' +\n",
              "            '<a target=\"_blank\" href=https://colab.research.google.com/notebooks/data_table.ipynb>data table notebook</a>'\n",
              "            + ' to learn more about interactive tables.';\n",
              "          element.innerHTML = '';\n",
              "          dataTable['output_type'] = 'display_data';\n",
              "          await google.colab.output.renderOutput(dataTable, element);\n",
              "          const docLink = document.createElement('div');\n",
              "          docLink.innerHTML = docLinkHtml;\n",
              "          element.appendChild(docLink);\n",
              "        }\n",
              "      </script>\n",
              "    </div>\n",
              "  </div>\n",
              "  "
            ]
          },
          "metadata": {},
          "execution_count": 128
        }
      ]
    },
    {
      "cell_type": "code",
      "source": [
        "df_cropped.describe()"
      ],
      "metadata": {
        "colab": {
          "base_uri": "https://localhost:8080/",
          "height": 300
        },
        "id": "17jx7yB9HCp_",
        "outputId": "7a41a8d3-7a2b-46b2-f59a-06b54ff37542"
      },
      "execution_count": null,
      "outputs": [
        {
          "output_type": "execute_result",
          "data": {
            "text/plain": [
              "                area  num_bath_rooms  num_bed_rooms         price   garage\n",
              "count   26679.000000    26679.000000   26679.000000  2.667900e+04  26679.0\n",
              "mean     2064.723835        1.497882       2.295738  1.348160e+09      0.0\n",
              "std      4183.477894        1.659884       1.981327  1.481478e+11      0.0\n",
              "min         0.000000        0.000000       0.000000  0.000000e+00      0.0\n",
              "25%      1100.000000        0.000000       1.000000  4.200000e+04      0.0\n",
              "50%      1450.000000        1.000000       3.000000  6.790000e+05      0.0\n",
              "75%      2166.000000        3.000000       3.000000  7.005250e+06      0.0\n",
              "max    296600.000000       26.000000      94.000000  2.400000e+13      0.0"
            ],
            "text/html": [
              "\n",
              "  <div id=\"df-999823a6-0ad1-41cb-b570-1e0d96a4cf6b\">\n",
              "    <div class=\"colab-df-container\">\n",
              "      <div>\n",
              "<style scoped>\n",
              "    .dataframe tbody tr th:only-of-type {\n",
              "        vertical-align: middle;\n",
              "    }\n",
              "\n",
              "    .dataframe tbody tr th {\n",
              "        vertical-align: top;\n",
              "    }\n",
              "\n",
              "    .dataframe thead th {\n",
              "        text-align: right;\n",
              "    }\n",
              "</style>\n",
              "<table border=\"1\" class=\"dataframe\">\n",
              "  <thead>\n",
              "    <tr style=\"text-align: right;\">\n",
              "      <th></th>\n",
              "      <th>area</th>\n",
              "      <th>num_bath_rooms</th>\n",
              "      <th>num_bed_rooms</th>\n",
              "      <th>price</th>\n",
              "      <th>garage</th>\n",
              "    </tr>\n",
              "  </thead>\n",
              "  <tbody>\n",
              "    <tr>\n",
              "      <th>count</th>\n",
              "      <td>26679.000000</td>\n",
              "      <td>26679.000000</td>\n",
              "      <td>26679.000000</td>\n",
              "      <td>2.667900e+04</td>\n",
              "      <td>26679.0</td>\n",
              "    </tr>\n",
              "    <tr>\n",
              "      <th>mean</th>\n",
              "      <td>2064.723835</td>\n",
              "      <td>1.497882</td>\n",
              "      <td>2.295738</td>\n",
              "      <td>1.348160e+09</td>\n",
              "      <td>0.0</td>\n",
              "    </tr>\n",
              "    <tr>\n",
              "      <th>std</th>\n",
              "      <td>4183.477894</td>\n",
              "      <td>1.659884</td>\n",
              "      <td>1.981327</td>\n",
              "      <td>1.481478e+11</td>\n",
              "      <td>0.0</td>\n",
              "    </tr>\n",
              "    <tr>\n",
              "      <th>min</th>\n",
              "      <td>0.000000</td>\n",
              "      <td>0.000000</td>\n",
              "      <td>0.000000</td>\n",
              "      <td>0.000000e+00</td>\n",
              "      <td>0.0</td>\n",
              "    </tr>\n",
              "    <tr>\n",
              "      <th>25%</th>\n",
              "      <td>1100.000000</td>\n",
              "      <td>0.000000</td>\n",
              "      <td>1.000000</td>\n",
              "      <td>4.200000e+04</td>\n",
              "      <td>0.0</td>\n",
              "    </tr>\n",
              "    <tr>\n",
              "      <th>50%</th>\n",
              "      <td>1450.000000</td>\n",
              "      <td>1.000000</td>\n",
              "      <td>3.000000</td>\n",
              "      <td>6.790000e+05</td>\n",
              "      <td>0.0</td>\n",
              "    </tr>\n",
              "    <tr>\n",
              "      <th>75%</th>\n",
              "      <td>2166.000000</td>\n",
              "      <td>3.000000</td>\n",
              "      <td>3.000000</td>\n",
              "      <td>7.005250e+06</td>\n",
              "      <td>0.0</td>\n",
              "    </tr>\n",
              "    <tr>\n",
              "      <th>max</th>\n",
              "      <td>296600.000000</td>\n",
              "      <td>26.000000</td>\n",
              "      <td>94.000000</td>\n",
              "      <td>2.400000e+13</td>\n",
              "      <td>0.0</td>\n",
              "    </tr>\n",
              "  </tbody>\n",
              "</table>\n",
              "</div>\n",
              "      <button class=\"colab-df-convert\" onclick=\"convertToInteractive('df-999823a6-0ad1-41cb-b570-1e0d96a4cf6b')\"\n",
              "              title=\"Convert this dataframe to an interactive table.\"\n",
              "              style=\"display:none;\">\n",
              "        \n",
              "  <svg xmlns=\"http://www.w3.org/2000/svg\" height=\"24px\"viewBox=\"0 0 24 24\"\n",
              "       width=\"24px\">\n",
              "    <path d=\"M0 0h24v24H0V0z\" fill=\"none\"/>\n",
              "    <path d=\"M18.56 5.44l.94 2.06.94-2.06 2.06-.94-2.06-.94-.94-2.06-.94 2.06-2.06.94zm-11 1L8.5 8.5l.94-2.06 2.06-.94-2.06-.94L8.5 2.5l-.94 2.06-2.06.94zm10 10l.94 2.06.94-2.06 2.06-.94-2.06-.94-.94-2.06-.94 2.06-2.06.94z\"/><path d=\"M17.41 7.96l-1.37-1.37c-.4-.4-.92-.59-1.43-.59-.52 0-1.04.2-1.43.59L10.3 9.45l-7.72 7.72c-.78.78-.78 2.05 0 2.83L4 21.41c.39.39.9.59 1.41.59.51 0 1.02-.2 1.41-.59l7.78-7.78 2.81-2.81c.8-.78.8-2.07 0-2.86zM5.41 20L4 18.59l7.72-7.72 1.47 1.35L5.41 20z\"/>\n",
              "  </svg>\n",
              "      </button>\n",
              "      \n",
              "  <style>\n",
              "    .colab-df-container {\n",
              "      display:flex;\n",
              "      flex-wrap:wrap;\n",
              "      gap: 12px;\n",
              "    }\n",
              "\n",
              "    .colab-df-convert {\n",
              "      background-color: #E8F0FE;\n",
              "      border: none;\n",
              "      border-radius: 50%;\n",
              "      cursor: pointer;\n",
              "      display: none;\n",
              "      fill: #1967D2;\n",
              "      height: 32px;\n",
              "      padding: 0 0 0 0;\n",
              "      width: 32px;\n",
              "    }\n",
              "\n",
              "    .colab-df-convert:hover {\n",
              "      background-color: #E2EBFA;\n",
              "      box-shadow: 0px 1px 2px rgba(60, 64, 67, 0.3), 0px 1px 3px 1px rgba(60, 64, 67, 0.15);\n",
              "      fill: #174EA6;\n",
              "    }\n",
              "\n",
              "    [theme=dark] .colab-df-convert {\n",
              "      background-color: #3B4455;\n",
              "      fill: #D2E3FC;\n",
              "    }\n",
              "\n",
              "    [theme=dark] .colab-df-convert:hover {\n",
              "      background-color: #434B5C;\n",
              "      box-shadow: 0px 1px 3px 1px rgba(0, 0, 0, 0.15);\n",
              "      filter: drop-shadow(0px 1px 2px rgba(0, 0, 0, 0.3));\n",
              "      fill: #FFFFFF;\n",
              "    }\n",
              "  </style>\n",
              "\n",
              "      <script>\n",
              "        const buttonEl =\n",
              "          document.querySelector('#df-999823a6-0ad1-41cb-b570-1e0d96a4cf6b button.colab-df-convert');\n",
              "        buttonEl.style.display =\n",
              "          google.colab.kernel.accessAllowed ? 'block' : 'none';\n",
              "\n",
              "        async function convertToInteractive(key) {\n",
              "          const element = document.querySelector('#df-999823a6-0ad1-41cb-b570-1e0d96a4cf6b');\n",
              "          const dataTable =\n",
              "            await google.colab.kernel.invokeFunction('convertToInteractive',\n",
              "                                                     [key], {});\n",
              "          if (!dataTable) return;\n",
              "\n",
              "          const docLinkHtml = 'Like what you see? Visit the ' +\n",
              "            '<a target=\"_blank\" href=https://colab.research.google.com/notebooks/data_table.ipynb>data table notebook</a>'\n",
              "            + ' to learn more about interactive tables.';\n",
              "          element.innerHTML = '';\n",
              "          dataTable['output_type'] = 'display_data';\n",
              "          await google.colab.output.renderOutput(dataTable, element);\n",
              "          const docLink = document.createElement('div');\n",
              "          docLink.innerHTML = docLinkHtml;\n",
              "          element.appendChild(docLink);\n",
              "        }\n",
              "      </script>\n",
              "    </div>\n",
              "  </div>\n",
              "  "
            ]
          },
          "metadata": {},
          "execution_count": 129
        }
      ]
    },
    {
      "cell_type": "code",
      "source": [
        "# Function for calculating lower and upper boundaries for outliers\n",
        "def get_boundaries(df, column):\n",
        "    Q1 = df[column].quantile(0.25)\n",
        "    Q3 = df[column].quantile(0.75)\n",
        "    IQR = Q3 - Q1\n",
        "    lower_bound = Q1 - 1.5 * IQR\n",
        "    upper_bound = Q3 + 1.5 * IQR\n",
        "    boundaries = {\"lower\": lower_bound, \"upper\": upper_bound}\n",
        "    return boundaries"
      ],
      "metadata": {
        "id": "kiUn6ufKdcpz"
      },
      "execution_count": null,
      "outputs": []
    },
    {
      "cell_type": "code",
      "source": [
        "# List of columns to get outliers for\n",
        "columns = ['area', 'num_bath_rooms', 'num_bed_rooms', 'price', 'garage']\n",
        "\n",
        "# Dictionary to store boundaries for each column\n",
        "boundaries_dict = {}\n",
        "  \n",
        "# Get boundaries for each column\n",
        "for column in columns:\n",
        "  boundaries = get_boundaries(df, column)\n",
        "  boundaries_dict[column] = boundaries\n",
        "    \n",
        "# Print boundaries for each column\n",
        "for column, boundaries in boundaries_dict.items():\n",
        "  print(f\"{column}: lower={boundaries['lower']}, upper={boundaries['upper']}\")\n"
      ],
      "metadata": {
        "colab": {
          "base_uri": "https://localhost:8080/"
        },
        "id": "_TXgpVGggefG",
        "outputId": "d7032f04-0d6e-4666-fd6b-4c1a9afeaf57"
      },
      "execution_count": null,
      "outputs": [
        {
          "output_type": "stream",
          "name": "stdout",
          "text": [
            "area: lower=-499.0, upper=3765.0\n",
            "num_bath_rooms: lower=-4.5, upper=7.5\n",
            "num_bed_rooms: lower=-2.0, upper=6.0\n",
            "price: lower=-10402875.0, upper=17450125.0\n",
            "garage: lower=0.0, upper=0.0\n"
          ]
        }
      ]
    },
    {
      "cell_type": "markdown",
      "source": [
        "Lower boundaries are negative for area, num_bath_rooms, and price, for garage it´s zero, so they are not relevant to plot. \n",
        "\n",
        "\n"
      ],
      "metadata": {
        "id": "ipQtgiMmr8tM"
      }
    },
    {
      "cell_type": "code",
      "source": [
        "# Upper boundary variables for plotting in each column\n",
        "boundary_area = boundaries_dict['area']['upper']\n",
        "boundary_num_bath_rooms = boundaries_dict['num_bath_rooms']['upper']\n",
        "boundary_num_bed_rooms = boundaries_dict['num_bed_rooms']['upper']\n",
        "boundary_price = boundaries_dict['price']['upper']\n",
        "boundary_garage = boundaries_dict['garage']['upper']"
      ],
      "metadata": {
        "id": "adGQwRRp5wVq"
      },
      "execution_count": null,
      "outputs": []
    },
    {
      "cell_type": "code",
      "source": [
        "# Amount of outliers for each column\n",
        "outlier_area_count = 0\n",
        "outlier_num_bath_rooms_count = 0\n",
        "outlier_num_bed_rooms_count = 0\n",
        "outlier_price_count = 0\n",
        "\n",
        "for column in columns:\n",
        "    boundaries = get_boundaries(df, column)\n",
        "    outliers = df[(df[column] < boundaries['lower']) | (df[column] > boundaries['upper'])]\n",
        "    count = len(outliers)\n",
        "    print(f\"{column}: {count} outliers\")\n",
        "    if column == 'area':\n",
        "        outlier_area_count = count\n",
        "    elif column == 'num_bath_rooms':\n",
        "        outlier_num_bath_rooms_count = count\n",
        "    elif column == 'num_bed_rooms':\n",
        "        outlier_num_bed_rooms_count = count\n",
        "    elif column == 'price':\n",
        "        outlier_price_count = count\n",
        "    elif column == 'garage':\n",
        "        outlier_garage_count = count\n"
      ],
      "metadata": {
        "colab": {
          "base_uri": "https://localhost:8080/"
        },
        "id": "e86Br-vuQqNi",
        "outputId": "7582de2a-2716-4862-b763-68e5f8dbb7f7"
      },
      "execution_count": null,
      "outputs": [
        {
          "output_type": "stream",
          "name": "stdout",
          "text": [
            "area: 1941 outliers\n",
            "num_bath_rooms: 68 outliers\n",
            "num_bed_rooms: 158 outliers\n",
            "price: 1780 outliers\n",
            "garage: 0 outliers\n"
          ]
        }
      ]
    },
    {
      "cell_type": "code",
      "source": [
        "# Outlier columns\n",
        "outliers_col = ['price', 'area', 'num_bath_rooms', 'num_bed_rooms']\n",
        "\n",
        "# Making lists to plot\n",
        "outliers_count = []\n",
        "outliers_column = []\n",
        "\n",
        "# Count outliers in each column\n",
        "for col in outliers_col:\n",
        "    if col not in boundaries:\n",
        "        boundaries[col] = get_boundaries(df, col)['upper']\n",
        "    num_outliers = len(df[df[col] > boundaries[col]])\n",
        "    outliers_count.append(num_outliers)\n",
        "    outliers_column.append(col)\n",
        "    print(f\"Number of outliers in {col}: {num_outliers}\")\n",
        "    if num_outliers > 0:\n",
        "        print(df[df[col] > boundaries[col]][col].value_counts())\n",
        "    print()"
      ],
      "metadata": {
        "colab": {
          "base_uri": "https://localhost:8080/"
        },
        "id": "QtYR2r0EIr1f",
        "outputId": "93219acb-8da1-46ce-fdaf-7955bfcfba99"
      },
      "execution_count": null,
      "outputs": [
        {
          "output_type": "stream",
          "name": "stdout",
          "text": [
            "Number of outliers in price: 1780\n",
            "20000000.0    77\n",
            "18000000.0    74\n",
            "17500000.0    50\n",
            "25000000.0    50\n",
            "23000000.0    49\n",
            "              ..\n",
            "19980000.0     1\n",
            "38527500.0     1\n",
            "25001940.0     1\n",
            "17500500.0     1\n",
            "18675000.0     1\n",
            "Name: price, Length: 588, dtype: int64\n",
            "\n",
            "Number of outliers in area: 1941\n",
            "4000.0     192\n",
            "5000.0     115\n",
            "4200.0      96\n",
            "4500.0      86\n",
            "6000.0      85\n",
            "          ... \n",
            "13068.0      1\n",
            "3913.0       1\n",
            "5310.0       1\n",
            "4456.0       1\n",
            "4247.0       1\n",
            "Name: area, Length: 423, dtype: int64\n",
            "\n",
            "Number of outliers in num_bath_rooms: 68\n",
            "10.0    30\n",
            "8.0     25\n",
            "9.0      8\n",
            "12.0     2\n",
            "26.0     1\n",
            "13.0     1\n",
            "16.0     1\n",
            "Name: num_bath_rooms, dtype: int64\n",
            "\n",
            "Number of outliers in num_bed_rooms: 158\n",
            "7.0     45\n",
            "8.0     22\n",
            "10.0    14\n",
            "12.0    10\n",
            "9.0      7\n",
            "18.0     7\n",
            "24.0     6\n",
            "21.0     5\n",
            "16.0     4\n",
            "14.0     4\n",
            "25.0     3\n",
            "20.0     3\n",
            "56.0     2\n",
            "19.0     2\n",
            "11.0     2\n",
            "15.0     2\n",
            "36.0     2\n",
            "13.0     2\n",
            "17.0     2\n",
            "50.0     1\n",
            "23.0     1\n",
            "42.0     1\n",
            "29.0     1\n",
            "40.0     1\n",
            "60.0     1\n",
            "33.0     1\n",
            "22.0     1\n",
            "46.0     1\n",
            "30.0     1\n",
            "48.0     1\n",
            "32.0     1\n",
            "94.0     1\n",
            "75.0     1\n",
            "Name: num_bed_rooms, dtype: int64\n",
            "\n"
          ]
        }
      ]
    },
    {
      "cell_type": "code",
      "source": [
        "# Percentage in the whole column num_bath_rooms with value == 0\n",
        "13277/26679"
      ],
      "metadata": {
        "colab": {
          "base_uri": "https://localhost:8080/"
        },
        "id": "mvjvZS2hhxQK",
        "outputId": "acbaf359-e43b-4186-8f86-b85e584bc343"
      },
      "execution_count": null,
      "outputs": [
        {
          "output_type": "execute_result",
          "data": {
            "text/plain": [
              "0.49765733348326396"
            ]
          },
          "metadata": {},
          "execution_count": 138
        }
      ]
    },
    {
      "cell_type": "code",
      "source": [
        "# Percentage in the whole column num_bed_rooms with value == 0\n",
        "6483/26679"
      ],
      "metadata": {
        "colab": {
          "base_uri": "https://localhost:8080/"
        },
        "outputId": "4027ab91-432f-4c48-dfaa-d75c63305ae5",
        "id": "WKKKA2P2iOQK"
      },
      "execution_count": null,
      "outputs": [
        {
          "output_type": "execute_result",
          "data": {
            "text/plain": [
              "0.2430001124479928"
            ]
          },
          "metadata": {},
          "execution_count": 137
        }
      ]
    },
    {
      "cell_type": "markdown",
      "source": [
        "## Summary overview outliers\n",
        "- Lower boundaries are negative for area, num_bath_rooms, and price. Garage has no outliers.\n",
        "The lower values will therefore not be used in the rest of this notebook.\n",
        "- Only one value in area is zero\n",
        "- About 50 % of the values in the column num_bath_rooms have value == 0 (of all data, not just outliers)\n",
        "- About 24 % of the values in the column num_bed_rooms have value == 0 (of all data, not just outliers)\n",
        "- All of the values in garage have value == 0\n",
        "\n",
        "\n",
        "\n"
      ],
      "metadata": {
        "id": "yySM8hed-Bhq"
      }
    },
    {
      "cell_type": "markdown",
      "source": [
        "### Amount of outliers\n",
        "- area: 1941 outliers\n",
        "- num_bath_rooms: 68 outliers\n",
        "- num_bed_rooms: 158 outliers\n",
        "- price: 1780 outliers\n",
        "- garage: 0 outliers"
      ],
      "metadata": {
        "id": "XI_L8Zmsjrzg"
      }
    },
    {
      "cell_type": "markdown",
      "source": [
        "## Plotting the outliers"
      ],
      "metadata": {
        "id": "aIyYkXHwiwZz"
      }
    },
    {
      "cell_type": "code",
      "source": [
        "# Plot bar chart\n",
        "fig, ax = plt.subplots(figsize=(3,2))\n",
        "ax.bar(outliers_column, outliers_count, color='blue')\n",
        "ax.set_title('Number of Outliers in Each Column')\n",
        "ax.set_xlabel('Columns')\n",
        "ax.set_ylabel('Number of Outliers')\n",
        "plt.xticks(rotation=45)\n",
        "plt.show()"
      ],
      "metadata": {
        "colab": {
          "base_uri": "https://localhost:8080/",
          "height": 337
        },
        "id": "BYeVidaQI07s",
        "outputId": "30b7128d-cc4e-41f8-bbeb-fb9e7466d8e6"
      },
      "execution_count": null,
      "outputs": [
        {
          "output_type": "display_data",
          "data": {
            "text/plain": [
              "<Figure size 300x200 with 1 Axes>"
            ],
            "image/png": "[encoded data removed]"
          },
          "metadata": {}
        }
      ]
    },
    {
      "cell_type": "markdown",
      "source": [
        "#### Outliers on y and index on x"
      ],
      "metadata": {
        "id": "qvxQn_vqoDTq"
      }
    },
    {
      "cell_type": "code",
      "source": [
        "# Loop through each column and get the outliers\n",
        "for column in columns:\n",
        "    boundaries = get_boundaries(df, column)\n",
        "    outliers = df[(df[column] > boundaries['upper'])]\n",
        "    print(f\"{column}: {len(outliers)} outliers\")\n",
        "\n",
        "    # Plot the outliers for each column\n",
        "    if len(outliers) > 0:\n",
        "        plt.figure(figsize=(3, 2))\n",
        "        plt.scatter(df.index, df[column], alpha=0.5, label=\"Data\")\n",
        "        plt.scatter(outliers.index, outliers[column], color='r', alpha=0.8, label=\"Outliers\")\n",
        "        plt.title(f\"{column} Outliers\")\n",
        "        plt.legend()\n",
        "        plt.show()"
      ],
      "metadata": {
        "colab": {
          "base_uri": "https://localhost:8080/",
          "height": 988
        },
        "id": "JDsMpK1I_FbE",
        "outputId": "96f7f30b-238b-48e0-c187-6c31641b1184"
      },
      "execution_count": null,
      "outputs": [
        {
          "output_type": "stream",
          "name": "stdout",
          "text": [
            "area: 1941 outliers\n"
          ]
        },
        {
          "output_type": "display_data",
          "data": {
            "text/plain": [
              "<Figure size 300x200 with 1 Axes>"
            ],
            "image/png": "[encoded data removed]"
          },
          "metadata": {}
        },
        {
          "output_type": "stream",
          "name": "stdout",
          "text": [
            "num_bath_rooms: 68 outliers\n"
          ]
        },
        {
          "output_type": "display_data",
          "data": {
            "text/plain": [
              "<Figure size 300x200 with 1 Axes>"
            ],
            "image/png": "[encoded data removed]"
          },
          "metadata": {}
        },
        {
          "output_type": "stream",
          "name": "stdout",
          "text": [
            "num_bed_rooms: 158 outliers\n"
          ]
        },
        {
          "output_type": "display_data",
          "data": {
            "text/plain": [
              "<Figure size 300x200 with 1 Axes>"
            ],
            "image/png": "[encoded data removed]"
          },
          "metadata": {}
        },
        {
          "output_type": "stream",
          "name": "stdout",
          "text": [
            "price: 1780 outliers\n"
          ]
        },
        {
          "output_type": "display_data",
          "data": {
            "text/plain": [
              "<Figure size 300x200 with 1 Axes>"
            ],
            "image/png": "[encoded data removed]"
          },
          "metadata": {}
        },
        {
          "output_type": "stream",
          "name": "stdout",
          "text": [
            "garage: 0 outliers\n"
          ]
        }
      ]
    },
    {
      "cell_type": "markdown",
      "source": [
        "####Plotting all outliers against price"
      ],
      "metadata": {
        "id": "aakQIJKHmoMH"
      }
    },
    {
      "cell_type": "code",
      "source": [
        "# Loop through each column and plot against the price\n",
        "for column in columns:\n",
        "    boundaries = get_boundaries(df, column)\n",
        "    outliers = df[(df[column] > boundaries['upper'])]\n",
        "    print(f\"{column}: {len(outliers)} outliers\")\n",
        "\n",
        "    plt.figure(figsize=(3, 2))\n",
        "    plt.scatter(df[column], df['price'], alpha=0.5, label=\"Data\")\n",
        "    plt.scatter(outliers[column], outliers['price'], color='r', alpha=0.8, label=\"Outliers\")\n",
        "    plt.xlabel(column.capitalize())\n",
        "    plt.ylabel(\"Price\")\n",
        "    plt.title(f\"{column.capitalize()} vs Price\")\n",
        "    plt.legend()\n",
        "    plt.show()\n",
        "\n"
      ],
      "metadata": {
        "colab": {
          "base_uri": "https://localhost:8080/",
          "height": 1000
        },
        "id": "pWTObFpfmnRi",
        "outputId": "8b4fc925-b047-4090-a9d8-8a8f56d495ca"
      },
      "execution_count": null,
      "outputs": [
        {
          "output_type": "stream",
          "name": "stdout",
          "text": [
            "area: 1941 outliers\n"
          ]
        },
        {
          "output_type": "display_data",
          "data": {
            "text/plain": [
              "<Figure size 300x200 with 1 Axes>"
            ],
            "image/png": "[encoded data removed]"
          },
          "metadata": {}
        },
        {
          "output_type": "stream",
          "name": "stdout",
          "text": [
            "num_bath_rooms: 68 outliers\n"
          ]
        },
        {
          "output_type": "display_data",
          "data": {
            "text/plain": [
              "<Figure size 300x200 with 1 Axes>"
            ],
            "image/png": "[encoded data removed]"
          },
          "metadata": {}
        },
        {
          "output_type": "stream",
          "name": "stdout",
          "text": [
            "num_bed_rooms: 158 outliers\n"
          ]
        },
        {
          "output_type": "display_data",
          "data": {
            "text/plain": [
              "<Figure size 300x200 with 1 Axes>"
            ],
            "image/png": "[encoded data removed]"
          },
          "metadata": {}
        },
        {
          "output_type": "stream",
          "name": "stdout",
          "text": [
            "price: 1780 outliers\n"
          ]
        },
        {
          "output_type": "display_data",
          "data": {
            "text/plain": [
              "<Figure size 300x200 with 1 Axes>"
            ],
            "image/png": "[encoded data removed]"
          },
          "metadata": {}
        },
        {
          "output_type": "stream",
          "name": "stdout",
          "text": [
            "garage: 0 outliers\n"
          ]
        },
        {
          "output_type": "display_data",
          "data": {
            "text/plain": [
              "<Figure size 300x200 with 1 Axes>"
            ],
            "image/png": "[encoded data removed]"
          },
          "metadata": {}
        }
      ]
    },
    {
      "cell_type": "markdown",
      "source": [
        "# b) Are they outliers because of some error: on the property site, in the processing of collecting / cleaning data"
      ],
      "metadata": {
        "id": "cIkT2qrPytB8"
      }
    },
    {
      "cell_type": "markdown",
      "source": [
        "# c) If not, is there something interesting about those data points?"
      ],
      "metadata": {
        "id": "kUxUo92NzU01"
      }
    },
    {
      "cell_type": "markdown",
      "source": [
        "## More detailed plots for each column"
      ],
      "metadata": {
        "id": "QxOPUBuhj9eb"
      }
    },
    {
      "cell_type": "markdown",
      "source": [
        "### **Area**\n",
        "\n",
        "\n"
      ],
      "metadata": {
        "id": "95YgkV3l-QyB"
      }
    },
    {
      "cell_type": "code",
      "source": [
        "print(f\"Outlier count: {outlier_area_count}\\n Boundary: {boundary_area}\")"
      ],
      "metadata": {
        "colab": {
          "base_uri": "https://localhost:8080/"
        },
        "id": "RLojSS5kRzCg",
        "outputId": "e9b98331-75c7-471b-d1b8-aafa8c033dce"
      },
      "execution_count": null,
      "outputs": [
        {
          "output_type": "stream",
          "name": "stdout",
          "text": [
            "Outlier count: 1941\n",
            " Boundary: 3765.0\n"
          ]
        }
      ]
    },
    {
      "cell_type": "code",
      "source": [
        "# Boxplot for area\n",
        "plt.figure(figsize=(3,2))\n",
        "sns.boxplot(x = df['area'])\n",
        "plt.title('Area Distribution')"
      ],
      "metadata": {
        "colab": {
          "base_uri": "https://localhost:8080/",
          "height": 274
        },
        "id": "mG2HCewrlr4F",
        "outputId": "bf7d8f98-fdac-45d8-bdb3-4c215df4a98a"
      },
      "execution_count": null,
      "outputs": [
        {
          "output_type": "execute_result",
          "data": {
            "text/plain": [
              "Text(0.5, 1.0, 'Area Distribution')"
            ]
          },
          "metadata": {},
          "execution_count": 149
        },
        {
          "output_type": "display_data",
          "data": {
            "text/plain": [
              "<Figure size 300x200 with 1 Axes>"
            ],
            "image/png": "[encoded data removed]"
          },
          "metadata": {}
        }
      ]
    },
    {
      "cell_type": "code",
      "source": [
        "# plot the boxplot with a log scale on the y-axis\n",
        "plt.figure(figsize=(3,2))\n",
        "sns.boxplot(x=df['area'])\n",
        "plt.title('Area Distribution')\n",
        "plt.xscale('log')\n",
        "\n",
        "# display the plot\n",
        "plt.show()\n"
      ],
      "metadata": {
        "colab": {
          "base_uri": "https://localhost:8080/",
          "height": 261
        },
        "id": "gpBRua_qM0Wy",
        "outputId": "35d4b4f4-22a3-4c2d-c7d6-b077b6591f60"
      },
      "execution_count": null,
      "outputs": [
        {
          "output_type": "display_data",
          "data": {
            "text/plain": [
              "<Figure size 300x200 with 1 Axes>"
            ],
            "image/png": "[encoded data removed]"
          },
          "metadata": {}
        }
      ]
    },
    {
      "cell_type": "code",
      "source": [
        "# Number of outliers\n",
        "print(len(df[df['area'] > boundary_area]))\n",
        "\n",
        "# Outliers\n",
        "outliers_area = df[df['area'] > boundary_area]\n",
        "outliers_area.head()\n",
        "\n",
        "# Selected columns for the DataFrame\n",
        "selected_cols = ['price', 'area', 'num_bath_rooms', 'num_bed_rooms', 'property_overview', 'building_nature', 'building_type']\n",
        "area_selected = df.loc[df['area'] > boundary_area, selected_cols]\n",
        "area_selected.head(6)"
      ],
      "metadata": {
        "colab": {
          "base_uri": "https://localhost:8080/",
          "height": 525
        },
        "id": "BrvOzkys_grp",
        "outputId": "4a1d77a9-12c3-4093-b914-810a0f9228bf"
      },
      "execution_count": null,
      "outputs": [
        {
          "output_type": "stream",
          "name": "stdout",
          "text": [
            "1941\n"
          ]
        },
        {
          "output_type": "execute_result",
          "data": {
            "text/plain": [
              "           price     area  num_bath_rooms  num_bed_rooms  \\\n",
              "10    70400000.0   4400.0             4.0            4.0   \n",
              "18      500000.0   3955.0             0.0            0.0   \n",
              "32   160000000.0  11200.0             0.0            0.0   \n",
              "36    81000000.0  11500.0            10.0           21.0   \n",
              "50    49000000.0   7200.0             0.0           20.0   \n",
              "138   87000000.0   4858.0             5.0            5.0   \n",
              "\n",
              "                                     property_overview building_nature  \\\n",
              "10   Amicable environment, appropriate commuting sy...     Residential   \n",
              "18   This vacant property is an excellent opportuni...      Commercial   \n",
              "32   See this vacant commercial space in Mirpur und...      Commercial   \n",
              "36   Welcome to this stunning 11,500 square feet re...     Residential   \n",
              "50   This building consists of facilities you can t...     Residential   \n",
              "138  A spacious 4858 Square Feet Duplex in Dhanmond...     Residential   \n",
              "\n",
              "    building_type  \n",
              "10      Apartment  \n",
              "18          Floor  \n",
              "32         Office  \n",
              "36       Building  \n",
              "50       Building  \n",
              "138        Duplex  "
            ],
            "text/html": [
              "\n",
              "  <div id=\"df-34e26307-baf7-4a04-8008-7242f9548b64\">\n",
              "    <div class=\"colab-df-container\">\n",
              "      <div>\n",
              "<style scoped>\n",
              "    .dataframe tbody tr th:only-of-type {\n",
              "        vertical-align: middle;\n",
              "    }\n",
              "\n",
              "    .dataframe tbody tr th {\n",
              "        vertical-align: top;\n",
              "    }\n",
              "\n",
              "    .dataframe thead th {\n",
              "        text-align: right;\n",
              "    }\n",
              "</style>\n",
              "<table border=\"1\" class=\"dataframe\">\n",
              "  <thead>\n",
              "    <tr style=\"text-align: right;\">\n",
              "      <th></th>\n",
              "      <th>price</th>\n",
              "      <th>area</th>\n",
              "      <th>num_bath_rooms</th>\n",
              "      <th>num_bed_rooms</th>\n",
              "      <th>property_overview</th>\n",
              "      <th>building_nature</th>\n",
              "      <th>building_type</th>\n",
              "    </tr>\n",
              "  </thead>\n",
              "  <tbody>\n",
              "    <tr>\n",
              "      <th>10</th>\n",
              "      <td>70400000.0</td>\n",
              "      <td>4400.0</td>\n",
              "      <td>4.0</td>\n",
              "      <td>4.0</td>\n",
              "      <td>Amicable environment, appropriate commuting sy...</td>\n",
              "      <td>Residential</td>\n",
              "      <td>Apartment</td>\n",
              "    </tr>\n",
              "    <tr>\n",
              "      <th>18</th>\n",
              "      <td>500000.0</td>\n",
              "      <td>3955.0</td>\n",
              "      <td>0.0</td>\n",
              "      <td>0.0</td>\n",
              "      <td>This vacant property is an excellent opportuni...</td>\n",
              "      <td>Commercial</td>\n",
              "      <td>Floor</td>\n",
              "    </tr>\n",
              "    <tr>\n",
              "      <th>32</th>\n",
              "      <td>160000000.0</td>\n",
              "      <td>11200.0</td>\n",
              "      <td>0.0</td>\n",
              "      <td>0.0</td>\n",
              "      <td>See this vacant commercial space in Mirpur und...</td>\n",
              "      <td>Commercial</td>\n",
              "      <td>Office</td>\n",
              "    </tr>\n",
              "    <tr>\n",
              "      <th>36</th>\n",
              "      <td>81000000.0</td>\n",
              "      <td>11500.0</td>\n",
              "      <td>10.0</td>\n",
              "      <td>21.0</td>\n",
              "      <td>Welcome to this stunning 11,500 square feet re...</td>\n",
              "      <td>Residential</td>\n",
              "      <td>Building</td>\n",
              "    </tr>\n",
              "    <tr>\n",
              "      <th>50</th>\n",
              "      <td>49000000.0</td>\n",
              "      <td>7200.0</td>\n",
              "      <td>0.0</td>\n",
              "      <td>20.0</td>\n",
              "      <td>This building consists of facilities you can t...</td>\n",
              "      <td>Residential</td>\n",
              "      <td>Building</td>\n",
              "    </tr>\n",
              "    <tr>\n",
              "      <th>138</th>\n",
              "      <td>87000000.0</td>\n",
              "      <td>4858.0</td>\n",
              "      <td>5.0</td>\n",
              "      <td>5.0</td>\n",
              "      <td>A spacious 4858 Square Feet Duplex in Dhanmond...</td>\n",
              "      <td>Residential</td>\n",
              "      <td>Duplex</td>\n",
              "    </tr>\n",
              "  </tbody>\n",
              "</table>\n",
              "</div>\n",
              "      <button class=\"colab-df-convert\" onclick=\"convertToInteractive('df-34e26307-baf7-4a04-8008-7242f9548b64')\"\n",
              "              title=\"Convert this dataframe to an interactive table.\"\n",
              "              style=\"display:none;\">\n",
              "        \n",
              "  <svg xmlns=\"http://www.w3.org/2000/svg\" height=\"24px\"viewBox=\"0 0 24 24\"\n",
              "       width=\"24px\">\n",
              "    <path d=\"M0 0h24v24H0V0z\" fill=\"none\"/>\n",
              "    <path d=\"M18.56 5.44l.94 2.06.94-2.06 2.06-.94-2.06-.94-.94-2.06-.94 2.06-2.06.94zm-11 1L8.5 8.5l.94-2.06 2.06-.94-2.06-.94L8.5 2.5l-.94 2.06-2.06.94zm10 10l.94 2.06.94-2.06 2.06-.94-2.06-.94-.94-2.06-.94 2.06-2.06.94z\"/><path d=\"M17.41 7.96l-1.37-1.37c-.4-.4-.92-.59-1.43-.59-.52 0-1.04.2-1.43.59L10.3 9.45l-7.72 7.72c-.78.78-.78 2.05 0 2.83L4 21.41c.39.39.9.59 1.41.59.51 0 1.02-.2 1.41-.59l7.78-7.78 2.81-2.81c.8-.78.8-2.07 0-2.86zM5.41 20L4 18.59l7.72-7.72 1.47 1.35L5.41 20z\"/>\n",
              "  </svg>\n",
              "      </button>\n",
              "      \n",
              "  <style>\n",
              "    .colab-df-container {\n",
              "      display:flex;\n",
              "      flex-wrap:wrap;\n",
              "      gap: 12px;\n",
              "    }\n",
              "\n",
              "    .colab-df-convert {\n",
              "      background-color: #E8F0FE;\n",
              "      border: none;\n",
              "      border-radius: 50%;\n",
              "      cursor: pointer;\n",
              "      display: none;\n",
              "      fill: #1967D2;\n",
              "      height: 32px;\n",
              "      padding: 0 0 0 0;\n",
              "      width: 32px;\n",
              "    }\n",
              "\n",
              "    .colab-df-convert:hover {\n",
              "      background-color: #E2EBFA;\n",
              "      box-shadow: 0px 1px 2px rgba(60, 64, 67, 0.3), 0px 1px 3px 1px rgba(60, 64, 67, 0.15);\n",
              "      fill: #174EA6;\n",
              "    }\n",
              "\n",
              "    [theme=dark] .colab-df-convert {\n",
              "      background-color: #3B4455;\n",
              "      fill: #D2E3FC;\n",
              "    }\n",
              "\n",
              "    [theme=dark] .colab-df-convert:hover {\n",
              "      background-color: #434B5C;\n",
              "      box-shadow: 0px 1px 3px 1px rgba(0, 0, 0, 0.15);\n",
              "      filter: drop-shadow(0px 1px 2px rgba(0, 0, 0, 0.3));\n",
              "      fill: #FFFFFF;\n",
              "    }\n",
              "  </style>\n",
              "\n",
              "      <script>\n",
              "        const buttonEl =\n",
              "          document.querySelector('#df-34e26307-baf7-4a04-8008-7242f9548b64 button.colab-df-convert');\n",
              "        buttonEl.style.display =\n",
              "          google.colab.kernel.accessAllowed ? 'block' : 'none';\n",
              "\n",
              "        async function convertToInteractive(key) {\n",
              "          const element = document.querySelector('#df-34e26307-baf7-4a04-8008-7242f9548b64');\n",
              "          const dataTable =\n",
              "            await google.colab.kernel.invokeFunction('convertToInteractive',\n",
              "                                                     [key], {});\n",
              "          if (!dataTable) return;\n",
              "\n",
              "          const docLinkHtml = 'Like what you see? Visit the ' +\n",
              "            '<a target=\"_blank\" href=https://colab.research.google.com/notebooks/data_table.ipynb>data table notebook</a>'\n",
              "            + ' to learn more about interactive tables.';\n",
              "          element.innerHTML = '';\n",
              "          dataTable['output_type'] = 'display_data';\n",
              "          await google.colab.output.renderOutput(dataTable, element);\n",
              "          const docLink = document.createElement('div');\n",
              "          docLink.innerHTML = docLinkHtml;\n",
              "          element.appendChild(docLink);\n",
              "        }\n",
              "      </script>\n",
              "    </div>\n",
              "  </div>\n",
              "  "
            ]
          },
          "metadata": {},
          "execution_count": 72
        }
      ]
    },
    {
      "cell_type": "markdown",
      "source": [
        "I have not managed well with the colors here and it is a bit hard to distinguish some from the others. "
      ],
      "metadata": {
        "id": "tpdRcKwjuVJv"
      }
    },
    {
      "cell_type": "code",
      "source": [
        "# Define new color palette\n",
        "colors = ['#FFC300', '#FF5733', '#C70039', '#900C3F', '#581845']\n",
        "\n",
        "# Plot count of building_nature and building_type for outliers_area with new color palette\n",
        "sns.catplot(x='building_nature', hue='building_type', col='purpose', data=outliers_area, kind='count', height=6, aspect=1.5, palette=colors)\n"
      ],
      "metadata": {
        "colab": {
          "base_uri": "https://localhost:8080/",
          "height": 280
        },
        "id": "PKH8Qj6Hqbrx",
        "outputId": "bb683a9a-9821-49b6-e76e-b2aed8daa82a"
      },
      "execution_count": null,
      "outputs": [
        {
          "output_type": "execute_result",
          "data": {
            "text/plain": [
              "<seaborn.axisgrid.FacetGrid at 0x7f3fbfb9d240>"
            ]
          },
          "metadata": {},
          "execution_count": 65
        },
        {
          "output_type": "display_data",
          "data": {
            "text/plain": [
              "<Figure size 1985.5x600 with 2 Axes>"
            ],
            "image/png": "[encoded data removed]"
          },
          "metadata": {}
        }
      ]
    },
    {
      "cell_type": "code",
      "source": [
        "# The amount of building_nature and building_type for outliers_num_bath_rooms \n",
        "sns.catplot(x='building_nature', hue='building_type', col='purpose', data=outliers_area, kind='count', height=6, aspect=1.5)"
      ],
      "metadata": {
        "colab": {
          "base_uri": "https://localhost:8080/",
          "height": 645
        },
        "id": "vdWj0N1c_z_a",
        "outputId": "106877d7-d1f1-4b29-bf31-af28fb67b182"
      },
      "execution_count": null,
      "outputs": [
        {
          "output_type": "execute_result",
          "data": {
            "text/plain": [
              "<seaborn.axisgrid.FacetGrid at 0x7f3fbfb9cf70>"
            ]
          },
          "metadata": {},
          "execution_count": 66
        },
        {
          "output_type": "display_data",
          "data": {
            "text/plain": [
              "<Figure size 1985.5x600 with 2 Axes>"
            ],
            "image/png": "[encoded data removed]"
          },
          "metadata": {}
        }
      ]
    },
    {
      "cell_type": "code",
      "source": [
        "print(f\"Outlier count: {outlier_area_count}\\n Boundary: {boundary_area}\")"
      ],
      "metadata": {
        "colab": {
          "base_uri": "https://localhost:8080/"
        },
        "id": "puiuqtxaSoe-",
        "outputId": "60bdacf2-ee99-4c19-e182-d8a7b6d97b82"
      },
      "execution_count": null,
      "outputs": [
        {
          "output_type": "stream",
          "name": "stdout",
          "text": [
            "Outlier count: 1941\n",
            " Boundary: 3765.0\n"
          ]
        }
      ]
    },
    {
      "cell_type": "markdown",
      "source": [
        "#### Summary area:\n",
        "- Most of them have the purpose: rent.\n",
        "- Most are commercial\n",
        "- (Its a little tricky with the colors so please doublecheck following)\n",
        "- Over 400 buildings\n",
        "- Over 400 offices \n",
        "- Over 300 floors\n",
        "- Over 200 residential; apartments\n",
        "- Since most are large buildings with many apartments, a good guess is that the area is accurate\n",
        "\n",
        "\n"
      ],
      "metadata": {
        "id": "vzI9TJrolgKE"
      }
    },
    {
      "cell_type": "markdown",
      "source": [
        "### **Bathrooms**\n"
      ],
      "metadata": {
        "id": "suCGZzdtzA2l"
      }
    },
    {
      "cell_type": "code",
      "source": [
        "print(f\"Outlier count: {outlier_num_bath_rooms_count}\\n Boundary: {boundary_num_bath_rooms}\")"
      ],
      "metadata": {
        "colab": {
          "base_uri": "https://localhost:8080/"
        },
        "id": "ivH5ECYrOov6",
        "outputId": "9c392472-7046-406e-d312-2aa5f6128d2d"
      },
      "execution_count": null,
      "outputs": [
        {
          "output_type": "stream",
          "name": "stdout",
          "text": [
            "Outlier count: 68\n",
            " Boundary: 7.5\n"
          ]
        }
      ]
    },
    {
      "cell_type": "code",
      "source": [
        "# To see outliers in boxplot\n",
        "plt.figure(figsize=(3,2))\n",
        "sns.boxplot(x=df['num_bath_rooms'])\n",
        "plt.title('Bathroom Distribution')"
      ],
      "metadata": {
        "colab": {
          "base_uri": "https://localhost:8080/",
          "height": 274
        },
        "id": "VQP605bdEgqr",
        "outputId": "6d160075-f6d7-4e1a-d06d-919525e7bb4b"
      },
      "execution_count": null,
      "outputs": [
        {
          "output_type": "execute_result",
          "data": {
            "text/plain": [
              "Text(0.5, 1.0, 'Bathroom Distribution')"
            ]
          },
          "metadata": {},
          "execution_count": 151
        },
        {
          "output_type": "display_data",
          "data": {
            "text/plain": [
              "<Figure size 300x200 with 1 Axes>"
            ],
            "image/png": "[encoded data removed]"
          },
          "metadata": {}
        }
      ]
    },
    {
      "cell_type": "code",
      "source": [
        "# Number of outliers\n",
        "print(len(df[df['num_bath_rooms'] > boundary_num_bath_rooms]))\n",
        "\n",
        "# Outliers\n",
        "outliers_num_bath_rooms = df[df['num_bath_rooms'] > boundary_num_bath_rooms]\n",
        "outliers_num_bath_rooms.head()\n",
        "\n",
        "# Selected columns for the DataFrame\n",
        "selected_cols = ['price', 'area', 'num_bath_rooms', 'num_bed_rooms', 'property_overview', 'building_nature', 'building_type']\n",
        "num_bath_rooms_selected = df.loc[df['num_bath_rooms'] > boundary_num_bath_rooms, selected_cols]\n",
        "num_bath_rooms_selected.head(5)"
      ],
      "metadata": {
        "colab": {
          "base_uri": "https://localhost:8080/",
          "height": 442
        },
        "id": "zZbiIjWn6mkn",
        "outputId": "bceab93c-9e96-4e59-8e55-8fa3c930a5c1"
      },
      "execution_count": null,
      "outputs": [
        {
          "output_type": "stream",
          "name": "stdout",
          "text": [
            "68\n"
          ]
        },
        {
          "output_type": "execute_result",
          "data": {
            "text/plain": [
              "          price     area  num_bath_rooms  num_bed_rooms  \\\n",
              "36   81000000.0  11500.0            10.0           21.0   \n",
              "174  32000000.0   7150.0             8.0            7.0   \n",
              "729  85000000.0  10000.0            10.0           19.0   \n",
              "811  94500000.0  14740.0            10.0           33.0   \n",
              "974  67000000.0  20685.0            10.0           56.0   \n",
              "\n",
              "                                     property_overview building_nature  \\\n",
              "36   Welcome to this stunning 11,500 square feet re...     Residential   \n",
              "174  It is the exact place if you are looking for o...     Residential   \n",
              "729  Tired of searching for a building with nice fl...     Residential   \n",
              "811  This location is a very well organized area, w...     Residential   \n",
              "974  If you are looking for a home that will make y...     Residential   \n",
              "\n",
              "    building_type  \n",
              "36       Building  \n",
              "174      Building  \n",
              "729      Building  \n",
              "811      Building  \n",
              "974      Building  "
            ],
            "text/html": [
              "\n",
              "  <div id=\"df-8010c706-bbe2-4eb0-a731-28a6c3f23ce2\">\n",
              "    <div class=\"colab-df-container\">\n",
              "      <div>\n",
              "<style scoped>\n",
              "    .dataframe tbody tr th:only-of-type {\n",
              "        vertical-align: middle;\n",
              "    }\n",
              "\n",
              "    .dataframe tbody tr th {\n",
              "        vertical-align: top;\n",
              "    }\n",
              "\n",
              "    .dataframe thead th {\n",
              "        text-align: right;\n",
              "    }\n",
              "</style>\n",
              "<table border=\"1\" class=\"dataframe\">\n",
              "  <thead>\n",
              "    <tr style=\"text-align: right;\">\n",
              "      <th></th>\n",
              "      <th>price</th>\n",
              "      <th>area</th>\n",
              "      <th>num_bath_rooms</th>\n",
              "      <th>num_bed_rooms</th>\n",
              "      <th>property_overview</th>\n",
              "      <th>building_nature</th>\n",
              "      <th>building_type</th>\n",
              "    </tr>\n",
              "  </thead>\n",
              "  <tbody>\n",
              "    <tr>\n",
              "      <th>36</th>\n",
              "      <td>81000000.0</td>\n",
              "      <td>11500.0</td>\n",
              "      <td>10.0</td>\n",
              "      <td>21.0</td>\n",
              "      <td>Welcome to this stunning 11,500 square feet re...</td>\n",
              "      <td>Residential</td>\n",
              "      <td>Building</td>\n",
              "    </tr>\n",
              "    <tr>\n",
              "      <th>174</th>\n",
              "      <td>32000000.0</td>\n",
              "      <td>7150.0</td>\n",
              "      <td>8.0</td>\n",
              "      <td>7.0</td>\n",
              "      <td>It is the exact place if you are looking for o...</td>\n",
              "      <td>Residential</td>\n",
              "      <td>Building</td>\n",
              "    </tr>\n",
              "    <tr>\n",
              "      <th>729</th>\n",
              "      <td>85000000.0</td>\n",
              "      <td>10000.0</td>\n",
              "      <td>10.0</td>\n",
              "      <td>19.0</td>\n",
              "      <td>Tired of searching for a building with nice fl...</td>\n",
              "      <td>Residential</td>\n",
              "      <td>Building</td>\n",
              "    </tr>\n",
              "    <tr>\n",
              "      <th>811</th>\n",
              "      <td>94500000.0</td>\n",
              "      <td>14740.0</td>\n",
              "      <td>10.0</td>\n",
              "      <td>33.0</td>\n",
              "      <td>This location is a very well organized area, w...</td>\n",
              "      <td>Residential</td>\n",
              "      <td>Building</td>\n",
              "    </tr>\n",
              "    <tr>\n",
              "      <th>974</th>\n",
              "      <td>67000000.0</td>\n",
              "      <td>20685.0</td>\n",
              "      <td>10.0</td>\n",
              "      <td>56.0</td>\n",
              "      <td>If you are looking for a home that will make y...</td>\n",
              "      <td>Residential</td>\n",
              "      <td>Building</td>\n",
              "    </tr>\n",
              "  </tbody>\n",
              "</table>\n",
              "</div>\n",
              "      <button class=\"colab-df-convert\" onclick=\"convertToInteractive('df-8010c706-bbe2-4eb0-a731-28a6c3f23ce2')\"\n",
              "              title=\"Convert this dataframe to an interactive table.\"\n",
              "              style=\"display:none;\">\n",
              "        \n",
              "  <svg xmlns=\"http://www.w3.org/2000/svg\" height=\"24px\"viewBox=\"0 0 24 24\"\n",
              "       width=\"24px\">\n",
              "    <path d=\"M0 0h24v24H0V0z\" fill=\"none\"/>\n",
              "    <path d=\"M18.56 5.44l.94 2.06.94-2.06 2.06-.94-2.06-.94-.94-2.06-.94 2.06-2.06.94zm-11 1L8.5 8.5l.94-2.06 2.06-.94-2.06-.94L8.5 2.5l-.94 2.06-2.06.94zm10 10l.94 2.06.94-2.06 2.06-.94-2.06-.94-.94-2.06-.94 2.06-2.06.94z\"/><path d=\"M17.41 7.96l-1.37-1.37c-.4-.4-.92-.59-1.43-.59-.52 0-1.04.2-1.43.59L10.3 9.45l-7.72 7.72c-.78.78-.78 2.05 0 2.83L4 21.41c.39.39.9.59 1.41.59.51 0 1.02-.2 1.41-.59l7.78-7.78 2.81-2.81c.8-.78.8-2.07 0-2.86zM5.41 20L4 18.59l7.72-7.72 1.47 1.35L5.41 20z\"/>\n",
              "  </svg>\n",
              "      </button>\n",
              "      \n",
              "  <style>\n",
              "    .colab-df-container {\n",
              "      display:flex;\n",
              "      flex-wrap:wrap;\n",
              "      gap: 12px;\n",
              "    }\n",
              "\n",
              "    .colab-df-convert {\n",
              "      background-color: #E8F0FE;\n",
              "      border: none;\n",
              "      border-radius: 50%;\n",
              "      cursor: pointer;\n",
              "      display: none;\n",
              "      fill: #1967D2;\n",
              "      height: 32px;\n",
              "      padding: 0 0 0 0;\n",
              "      width: 32px;\n",
              "    }\n",
              "\n",
              "    .colab-df-convert:hover {\n",
              "      background-color: #E2EBFA;\n",
              "      box-shadow: 0px 1px 2px rgba(60, 64, 67, 0.3), 0px 1px 3px 1px rgba(60, 64, 67, 0.15);\n",
              "      fill: #174EA6;\n",
              "    }\n",
              "\n",
              "    [theme=dark] .colab-df-convert {\n",
              "      background-color: #3B4455;\n",
              "      fill: #D2E3FC;\n",
              "    }\n",
              "\n",
              "    [theme=dark] .colab-df-convert:hover {\n",
              "      background-color: #434B5C;\n",
              "      box-shadow: 0px 1px 3px 1px rgba(0, 0, 0, 0.15);\n",
              "      filter: drop-shadow(0px 1px 2px rgba(0, 0, 0, 0.3));\n",
              "      fill: #FFFFFF;\n",
              "    }\n",
              "  </style>\n",
              "\n",
              "      <script>\n",
              "        const buttonEl =\n",
              "          document.querySelector('#df-8010c706-bbe2-4eb0-a731-28a6c3f23ce2 button.colab-df-convert');\n",
              "        buttonEl.style.display =\n",
              "          google.colab.kernel.accessAllowed ? 'block' : 'none';\n",
              "\n",
              "        async function convertToInteractive(key) {\n",
              "          const element = document.querySelector('#df-8010c706-bbe2-4eb0-a731-28a6c3f23ce2');\n",
              "          const dataTable =\n",
              "            await google.colab.kernel.invokeFunction('convertToInteractive',\n",
              "                                                     [key], {});\n",
              "          if (!dataTable) return;\n",
              "\n",
              "          const docLinkHtml = 'Like what you see? Visit the ' +\n",
              "            '<a target=\"_blank\" href=https://colab.research.google.com/notebooks/data_table.ipynb>data table notebook</a>'\n",
              "            + ' to learn more about interactive tables.';\n",
              "          element.innerHTML = '';\n",
              "          dataTable['output_type'] = 'display_data';\n",
              "          await google.colab.output.renderOutput(dataTable, element);\n",
              "          const docLink = document.createElement('div');\n",
              "          docLink.innerHTML = docLinkHtml;\n",
              "          element.appendChild(docLink);\n",
              "        }\n",
              "      </script>\n",
              "    </div>\n",
              "  </div>\n",
              "  "
            ]
          },
          "metadata": {},
          "execution_count": 87
        }
      ]
    },
    {
      "cell_type": "code",
      "source": [
        "# The amount of building_nature and building_type for outliers_num_bath_rooms \n",
        "sns.catplot(x='building_nature', hue='building_type', col='purpose', data=outliers_num_bath_rooms, kind='count', height=6, aspect=1.5)"
      ],
      "metadata": {
        "colab": {
          "base_uri": "https://localhost:8080/",
          "height": 286
        },
        "id": "Ms_MMLX_BdWm",
        "outputId": "65a84880-8a09-49f8-90c1-a26f8014fa50"
      },
      "execution_count": null,
      "outputs": [
        {
          "output_type": "execute_result",
          "data": {
            "text/plain": [
              "<seaborn.axisgrid.FacetGrid at 0x7f3fbed97910>"
            ]
          },
          "metadata": {},
          "execution_count": 88
        },
        {
          "output_type": "display_data",
          "data": {
            "text/plain": [
              "<Figure size 1936x600 with 2 Axes>"
            ],
            "image/png": "[encoded data removed]"
          },
          "metadata": {}
        }
      ]
    },
    {
      "cell_type": "code",
      "source": [
        "print(f\"Outlier count: {outlier_num_bath_rooms_count}\\n Boundary: {boundary_num_bath_rooms}\")"
      ],
      "metadata": {
        "colab": {
          "base_uri": "https://localhost:8080/"
        },
        "id": "VQ1eqb0uUkf_",
        "outputId": "0ebadb5f-5d64-497d-bd80-28be136e1a30"
      },
      "execution_count": null,
      "outputs": [
        {
          "output_type": "stream",
          "name": "stdout",
          "text": [
            "Outlier count: 68\n",
            " Boundary: 7.5\n"
          ]
        }
      ]
    },
    {
      "cell_type": "markdown",
      "source": [
        "#### Summary num_bath_rooms:\n",
        "- Most of them are for purpose: Sale\n",
        "- All in Sale are Residential\n",
        "- Over 25 are Buildings\n",
        "- Between 5-10 are Houses\n",
        "- Since most are large buildings with many apartments, the outliers seem to have accurate number of bathrooms\n",
        "\n",
        "\n",
        "\n"
      ],
      "metadata": {
        "id": "GWc3Y5dD-8LN"
      }
    },
    {
      "cell_type": "markdown",
      "source": [
        "### Bedrooms"
      ],
      "metadata": {
        "id": "uWH25C7fA0SV"
      }
    },
    {
      "cell_type": "code",
      "source": [
        "print(f\"Outlier count: {outlier_num_bed_rooms_count}\\n Boundary: {boundary_num_bed_rooms}\")"
      ],
      "metadata": {
        "colab": {
          "base_uri": "https://localhost:8080/"
        },
        "id": "vJK6UXklUU2R",
        "outputId": "040dd097-4d6b-4d58-d134-5bb075eeee7d"
      },
      "execution_count": null,
      "outputs": [
        {
          "output_type": "stream",
          "name": "stdout",
          "text": [
            "Outlier count: 158\n",
            " Boundary: 6.0\n"
          ]
        }
      ]
    },
    {
      "cell_type": "code",
      "source": [
        "# To see outliers in boxplot\n",
        "plt.figure(figsize=(3,2))\n",
        "sns.boxplot(x=df['num_bed_rooms'])\n",
        "plt.title('Bedroom Distribution')"
      ],
      "metadata": {
        "colab": {
          "base_uri": "https://localhost:8080/",
          "height": 274
        },
        "id": "mPIe7mUDHMdw",
        "outputId": "3a076dc4-11e7-4d2b-c977-e1e8d4592e8c"
      },
      "execution_count": null,
      "outputs": [
        {
          "output_type": "execute_result",
          "data": {
            "text/plain": [
              "Text(0.5, 1.0, 'Bedroom Distribution')"
            ]
          },
          "metadata": {},
          "execution_count": 152
        },
        {
          "output_type": "display_data",
          "data": {
            "text/plain": [
              "<Figure size 300x200 with 1 Axes>"
            ],
            "image/png": "[encoded data removed]"
          },
          "metadata": {}
        }
      ]
    },
    {
      "cell_type": "code",
      "source": [
        "# Number of outliers\n",
        "print(len(df[df['num_bed_rooms'] > boundary_num_bed_rooms ]))\n",
        "\n",
        "# Outliers\n",
        "outliers_num_bed_rooms = df[df['num_bed_rooms'] > boundary_num_bed_rooms]\n",
        "outliers_num_bed_rooms.head()\n",
        "\n",
        "# Selected columns for the DataFrame\n",
        "selected_cols = ['price', 'area', 'num_bath_rooms', 'num_bed_rooms', 'property_overview', 'building_nature', 'building_type', 'purpose']\n",
        "num_bed_rooms_selected = df.loc[df['num_bed_rooms'] > boundary_num_bed_rooms, selected_cols]\n",
        "num_bed_rooms_selected.head(5)"
      ],
      "metadata": {
        "colab": {
          "base_uri": "https://localhost:8080/",
          "height": 462
        },
        "id": "zuEb9i6ZDtnX",
        "outputId": "c4cf56ee-efd0-4ae5-c4d2-d23ca11826fc"
      },
      "execution_count": null,
      "outputs": [
        {
          "output_type": "stream",
          "name": "stdout",
          "text": [
            "158\n"
          ]
        },
        {
          "output_type": "execute_result",
          "data": {
            "text/plain": [
              "          price     area  num_bath_rooms  num_bed_rooms  \\\n",
              "36   81000000.0  11500.0            10.0           21.0   \n",
              "50   49000000.0   7200.0             0.0           20.0   \n",
              "174  32000000.0   7150.0             8.0            7.0   \n",
              "325  30000000.0   5000.0             0.0            7.0   \n",
              "444  29000000.0   6357.0             0.0            7.0   \n",
              "\n",
              "                                     property_overview building_nature  \\\n",
              "36   Welcome to this stunning 11,500 square feet re...     Residential   \n",
              "50   This building consists of facilities you can t...     Residential   \n",
              "174  It is the exact place if you are looking for o...     Residential   \n",
              "325  Find your home in this 5000  Square Feet prope...     Residential   \n",
              "444  The house presents a drawing room adjoined to ...     Residential   \n",
              "\n",
              "    building_type purpose  \n",
              "36       Building    Sale  \n",
              "50       Building    Sale  \n",
              "174      Building    Sale  \n",
              "325      Building    Sale  \n",
              "444     Apartment    Sale  "
            ],
            "text/html": [
              "\n",
              "  <div id=\"df-83a4abe2-e23e-4811-abb3-58b4e983ed0c\">\n",
              "    <div class=\"colab-df-container\">\n",
              "      <div>\n",
              "<style scoped>\n",
              "    .dataframe tbody tr th:only-of-type {\n",
              "        vertical-align: middle;\n",
              "    }\n",
              "\n",
              "    .dataframe tbody tr th {\n",
              "        vertical-align: top;\n",
              "    }\n",
              "\n",
              "    .dataframe thead th {\n",
              "        text-align: right;\n",
              "    }\n",
              "</style>\n",
              "<table border=\"1\" class=\"dataframe\">\n",
              "  <thead>\n",
              "    <tr style=\"text-align: right;\">\n",
              "      <th></th>\n",
              "      <th>price</th>\n",
              "      <th>area</th>\n",
              "      <th>num_bath_rooms</th>\n",
              "      <th>num_bed_rooms</th>\n",
              "      <th>property_overview</th>\n",
              "      <th>building_nature</th>\n",
              "      <th>building_type</th>\n",
              "      <th>purpose</th>\n",
              "    </tr>\n",
              "  </thead>\n",
              "  <tbody>\n",
              "    <tr>\n",
              "      <th>36</th>\n",
              "      <td>81000000.0</td>\n",
              "      <td>11500.0</td>\n",
              "      <td>10.0</td>\n",
              "      <td>21.0</td>\n",
              "      <td>Welcome to this stunning 11,500 square feet re...</td>\n",
              "      <td>Residential</td>\n",
              "      <td>Building</td>\n",
              "      <td>Sale</td>\n",
              "    </tr>\n",
              "    <tr>\n",
              "      <th>50</th>\n",
              "      <td>49000000.0</td>\n",
              "      <td>7200.0</td>\n",
              "      <td>0.0</td>\n",
              "      <td>20.0</td>\n",
              "      <td>This building consists of facilities you can t...</td>\n",
              "      <td>Residential</td>\n",
              "      <td>Building</td>\n",
              "      <td>Sale</td>\n",
              "    </tr>\n",
              "    <tr>\n",
              "      <th>174</th>\n",
              "      <td>32000000.0</td>\n",
              "      <td>7150.0</td>\n",
              "      <td>8.0</td>\n",
              "      <td>7.0</td>\n",
              "      <td>It is the exact place if you are looking for o...</td>\n",
              "      <td>Residential</td>\n",
              "      <td>Building</td>\n",
              "      <td>Sale</td>\n",
              "    </tr>\n",
              "    <tr>\n",
              "      <th>325</th>\n",
              "      <td>30000000.0</td>\n",
              "      <td>5000.0</td>\n",
              "      <td>0.0</td>\n",
              "      <td>7.0</td>\n",
              "      <td>Find your home in this 5000  Square Feet prope...</td>\n",
              "      <td>Residential</td>\n",
              "      <td>Building</td>\n",
              "      <td>Sale</td>\n",
              "    </tr>\n",
              "    <tr>\n",
              "      <th>444</th>\n",
              "      <td>29000000.0</td>\n",
              "      <td>6357.0</td>\n",
              "      <td>0.0</td>\n",
              "      <td>7.0</td>\n",
              "      <td>The house presents a drawing room adjoined to ...</td>\n",
              "      <td>Residential</td>\n",
              "      <td>Apartment</td>\n",
              "      <td>Sale</td>\n",
              "    </tr>\n",
              "  </tbody>\n",
              "</table>\n",
              "</div>\n",
              "      <button class=\"colab-df-convert\" onclick=\"convertToInteractive('df-83a4abe2-e23e-4811-abb3-58b4e983ed0c')\"\n",
              "              title=\"Convert this dataframe to an interactive table.\"\n",
              "              style=\"display:none;\">\n",
              "        \n",
              "  <svg xmlns=\"http://www.w3.org/2000/svg\" height=\"24px\"viewBox=\"0 0 24 24\"\n",
              "       width=\"24px\">\n",
              "    <path d=\"M0 0h24v24H0V0z\" fill=\"none\"/>\n",
              "    <path d=\"M18.56 5.44l.94 2.06.94-2.06 2.06-.94-2.06-.94-.94-2.06-.94 2.06-2.06.94zm-11 1L8.5 8.5l.94-2.06 2.06-.94-2.06-.94L8.5 2.5l-.94 2.06-2.06.94zm10 10l.94 2.06.94-2.06 2.06-.94-2.06-.94-.94-2.06-.94 2.06-2.06.94z\"/><path d=\"M17.41 7.96l-1.37-1.37c-.4-.4-.92-.59-1.43-.59-.52 0-1.04.2-1.43.59L10.3 9.45l-7.72 7.72c-.78.78-.78 2.05 0 2.83L4 21.41c.39.39.9.59 1.41.59.51 0 1.02-.2 1.41-.59l7.78-7.78 2.81-2.81c.8-.78.8-2.07 0-2.86zM5.41 20L4 18.59l7.72-7.72 1.47 1.35L5.41 20z\"/>\n",
              "  </svg>\n",
              "      </button>\n",
              "      \n",
              "  <style>\n",
              "    .colab-df-container {\n",
              "      display:flex;\n",
              "      flex-wrap:wrap;\n",
              "      gap: 12px;\n",
              "    }\n",
              "\n",
              "    .colab-df-convert {\n",
              "      background-color: #E8F0FE;\n",
              "      border: none;\n",
              "      border-radius: 50%;\n",
              "      cursor: pointer;\n",
              "      display: none;\n",
              "      fill: #1967D2;\n",
              "      height: 32px;\n",
              "      padding: 0 0 0 0;\n",
              "      width: 32px;\n",
              "    }\n",
              "\n",
              "    .colab-df-convert:hover {\n",
              "      background-color: #E2EBFA;\n",
              "      box-shadow: 0px 1px 2px rgba(60, 64, 67, 0.3), 0px 1px 3px 1px rgba(60, 64, 67, 0.15);\n",
              "      fill: #174EA6;\n",
              "    }\n",
              "\n",
              "    [theme=dark] .colab-df-convert {\n",
              "      background-color: #3B4455;\n",
              "      fill: #D2E3FC;\n",
              "    }\n",
              "\n",
              "    [theme=dark] .colab-df-convert:hover {\n",
              "      background-color: #434B5C;\n",
              "      box-shadow: 0px 1px 3px 1px rgba(0, 0, 0, 0.15);\n",
              "      filter: drop-shadow(0px 1px 2px rgba(0, 0, 0, 0.3));\n",
              "      fill: #FFFFFF;\n",
              "    }\n",
              "  </style>\n",
              "\n",
              "      <script>\n",
              "        const buttonEl =\n",
              "          document.querySelector('#df-83a4abe2-e23e-4811-abb3-58b4e983ed0c button.colab-df-convert');\n",
              "        buttonEl.style.display =\n",
              "          google.colab.kernel.accessAllowed ? 'block' : 'none';\n",
              "\n",
              "        async function convertToInteractive(key) {\n",
              "          const element = document.querySelector('#df-83a4abe2-e23e-4811-abb3-58b4e983ed0c');\n",
              "          const dataTable =\n",
              "            await google.colab.kernel.invokeFunction('convertToInteractive',\n",
              "                                                     [key], {});\n",
              "          if (!dataTable) return;\n",
              "\n",
              "          const docLinkHtml = 'Like what you see? Visit the ' +\n",
              "            '<a target=\"_blank\" href=https://colab.research.google.com/notebooks/data_table.ipynb>data table notebook</a>'\n",
              "            + ' to learn more about interactive tables.';\n",
              "          element.innerHTML = '';\n",
              "          dataTable['output_type'] = 'display_data';\n",
              "          await google.colab.output.renderOutput(dataTable, element);\n",
              "          const docLink = document.createElement('div');\n",
              "          docLink.innerHTML = docLinkHtml;\n",
              "          element.appendChild(docLink);\n",
              "        }\n",
              "      </script>\n",
              "    </div>\n",
              "  </div>\n",
              "  "
            ]
          },
          "metadata": {},
          "execution_count": 92
        }
      ]
    },
    {
      "cell_type": "code",
      "source": [
        "# The amount of building_nature and building_type for outliers_num_bed_rooms \n",
        "sns.catplot(x='building_nature', hue='building_type', col='purpose', data=outliers_num_bed_rooms, kind='count', height=6, aspect=1.5)"
      ],
      "metadata": {
        "colab": {
          "base_uri": "https://localhost:8080/",
          "height": 287
        },
        "id": "gfWi8UYmEQmx",
        "outputId": "06f7f235-2009-4bca-8cbb-1ea56e5560aa"
      },
      "execution_count": null,
      "outputs": [
        {
          "output_type": "execute_result",
          "data": {
            "text/plain": [
              "<seaborn.axisgrid.FacetGrid at 0x7f3fbed7bdf0>"
            ]
          },
          "metadata": {},
          "execution_count": 93
        },
        {
          "output_type": "display_data",
          "data": {
            "text/plain": [
              "<Figure size 1924.5x600 with 2 Axes>"
            ],
            "image/png": "[encoded data removed]"
          },
          "metadata": {}
        }
      ]
    },
    {
      "cell_type": "code",
      "source": [
        "print(f\"Outlier count: {outlier_num_bed_rooms_count}\\n Boundary: {boundary_num_bed_rooms}\")"
      ],
      "metadata": {
        "colab": {
          "base_uri": "https://localhost:8080/"
        },
        "id": "LA-srfzGVbhG",
        "outputId": "cd00009e-a053-4faa-b558-3645e29fb4d4"
      },
      "execution_count": null,
      "outputs": [
        {
          "output_type": "stream",
          "name": "stdout",
          "text": [
            "Outlier count: 158\n",
            " Boundary: 6.0\n"
          ]
        }
      ]
    },
    {
      "cell_type": "markdown",
      "source": [
        "#### Summary num_bed_rooms:\n",
        "- Most are for Sale\n",
        "- All in Sale are Residential\n",
        "- Over 80 in Sale are Buildings\n",
        "- According to descriptions in property_overview the high number of bathrooms can mostly be explained by big buildings with many apartments\n",
        "\n",
        "\n",
        "\n"
      ],
      "metadata": {
        "id": "1sBMXXXHE-qc"
      }
    },
    {
      "cell_type": "markdown",
      "source": [
        "### **Price**"
      ],
      "metadata": {
        "id": "Q23YLoL2WjdQ"
      }
    },
    {
      "cell_type": "code",
      "source": [
        "print(f\"Outlier count: {outlier_price_count}\\n Boundary: {boundary_price}\")"
      ],
      "metadata": {
        "colab": {
          "base_uri": "https://localhost:8080/"
        },
        "id": "FdHhJu5DWm1G",
        "outputId": "0552db39-5299-4a63-cf07-b2593cfbd603"
      },
      "execution_count": null,
      "outputs": [
        {
          "output_type": "stream",
          "name": "stdout",
          "text": [
            "Outlier count: 1780\n",
            " Boundary: 17450125.0\n"
          ]
        }
      ]
    },
    {
      "cell_type": "code",
      "source": [
        "# To see outliers in boxplot\n",
        "plt.figure(figsize=(3,2))\n",
        "sns.boxplot(x=df['price'])\n",
        "plt.title('Price Distribution')"
      ],
      "metadata": {
        "colab": {
          "base_uri": "https://localhost:8080/",
          "height": 274
        },
        "id": "Di_W7bBLN_yj",
        "outputId": "4f81d90f-8802-46a2-c0fe-9e8e283eef56"
      },
      "execution_count": null,
      "outputs": [
        {
          "output_type": "execute_result",
          "data": {
            "text/plain": [
              "Text(0.5, 1.0, 'Price Distribution')"
            ]
          },
          "metadata": {},
          "execution_count": 153
        },
        {
          "output_type": "display_data",
          "data": {
            "text/plain": [
              "<Figure size 300x200 with 1 Axes>"
            ],
            "image/png": "[encoded data removed]"
          },
          "metadata": {}
        }
      ]
    },
    {
      "cell_type": "code",
      "source": [
        "# Number of outliers\n",
        "print(len(df[df['price'] > boundary_price]))\n",
        "\n",
        "# Outliers\n",
        "outliers_price = df[df['price'] > boundary_price]\n",
        "outliers_price.head()\n",
        "\n",
        "# Selected columns for the DataFrame\n",
        "selected_cols = ['price', 'area', 'num_bath_rooms', 'num_bed_rooms', 'property_overview', 'building_nature', 'building_type', 'purpose']\n",
        "num_price_selected = df.loc[df['price'] > boundary_price, selected_cols]\n",
        "num_price_selected.head(5)"
      ],
      "metadata": {
        "colab": {
          "base_uri": "https://localhost:8080/",
          "height": 479
        },
        "id": "_U5S7vwQMgG7",
        "outputId": "b5a17819-e68e-46e5-ee28-8777e43dac32"
      },
      "execution_count": null,
      "outputs": [
        {
          "output_type": "stream",
          "name": "stdout",
          "text": [
            "1780\n"
          ]
        },
        {
          "output_type": "execute_result",
          "data": {
            "text/plain": [
              "         price    area  num_bath_rooms  num_bed_rooms  \\\n",
              "1   28900000.0  2464.0             4.0            3.0   \n",
              "3   20000000.0  1920.0             3.0            3.0   \n",
              "6   36500000.0  2468.0             3.0            3.0   \n",
              "10  70400000.0  4400.0             4.0            4.0   \n",
              "20  28000000.0  2190.0             3.0            3.0   \n",
              "\n",
              "                                    property_overview building_nature  \\\n",
              "1   Ready to move in somewhere with everything nea...     Residential   \n",
              "3   Looking for the perfect home that offers a lux...     Residential   \n",
              "6   Looking for an apartment on a budget? Then thi...     Residential   \n",
              "10  Amicable environment, appropriate commuting sy...     Residential   \n",
              "20  Welcome to this stunning 3 bedroom, 3 bathroom...     Residential   \n",
              "\n",
              "   building_type purpose  \n",
              "1      Apartment    Sale  \n",
              "3      Apartment    Sale  \n",
              "6      Apartment    Sale  \n",
              "10     Apartment    Sale  \n",
              "20     Apartment    Sale  "
            ],
            "text/html": [
              "\n",
              "  <div id=\"df-99d5107d-a88e-49ae-b4b8-3749aa45b8e5\">\n",
              "    <div class=\"colab-df-container\">\n",
              "      <div>\n",
              "<style scoped>\n",
              "    .dataframe tbody tr th:only-of-type {\n",
              "        vertical-align: middle;\n",
              "    }\n",
              "\n",
              "    .dataframe tbody tr th {\n",
              "        vertical-align: top;\n",
              "    }\n",
              "\n",
              "    .dataframe thead th {\n",
              "        text-align: right;\n",
              "    }\n",
              "</style>\n",
              "<table border=\"1\" class=\"dataframe\">\n",
              "  <thead>\n",
              "    <tr style=\"text-align: right;\">\n",
              "      <th></th>\n",
              "      <th>price</th>\n",
              "      <th>area</th>\n",
              "      <th>num_bath_rooms</th>\n",
              "      <th>num_bed_rooms</th>\n",
              "      <th>property_overview</th>\n",
              "      <th>building_nature</th>\n",
              "      <th>building_type</th>\n",
              "      <th>purpose</th>\n",
              "    </tr>\n",
              "  </thead>\n",
              "  <tbody>\n",
              "    <tr>\n",
              "      <th>1</th>\n",
              "      <td>28900000.0</td>\n",
              "      <td>2464.0</td>\n",
              "      <td>4.0</td>\n",
              "      <td>3.0</td>\n",
              "      <td>Ready to move in somewhere with everything nea...</td>\n",
              "      <td>Residential</td>\n",
              "      <td>Apartment</td>\n",
              "      <td>Sale</td>\n",
              "    </tr>\n",
              "    <tr>\n",
              "      <th>3</th>\n",
              "      <td>20000000.0</td>\n",
              "      <td>1920.0</td>\n",
              "      <td>3.0</td>\n",
              "      <td>3.0</td>\n",
              "      <td>Looking for the perfect home that offers a lux...</td>\n",
              "      <td>Residential</td>\n",
              "      <td>Apartment</td>\n",
              "      <td>Sale</td>\n",
              "    </tr>\n",
              "    <tr>\n",
              "      <th>6</th>\n",
              "      <td>36500000.0</td>\n",
              "      <td>2468.0</td>\n",
              "      <td>3.0</td>\n",
              "      <td>3.0</td>\n",
              "      <td>Looking for an apartment on a budget? Then thi...</td>\n",
              "      <td>Residential</td>\n",
              "      <td>Apartment</td>\n",
              "      <td>Sale</td>\n",
              "    </tr>\n",
              "    <tr>\n",
              "      <th>10</th>\n",
              "      <td>70400000.0</td>\n",
              "      <td>4400.0</td>\n",
              "      <td>4.0</td>\n",
              "      <td>4.0</td>\n",
              "      <td>Amicable environment, appropriate commuting sy...</td>\n",
              "      <td>Residential</td>\n",
              "      <td>Apartment</td>\n",
              "      <td>Sale</td>\n",
              "    </tr>\n",
              "    <tr>\n",
              "      <th>20</th>\n",
              "      <td>28000000.0</td>\n",
              "      <td>2190.0</td>\n",
              "      <td>3.0</td>\n",
              "      <td>3.0</td>\n",
              "      <td>Welcome to this stunning 3 bedroom, 3 bathroom...</td>\n",
              "      <td>Residential</td>\n",
              "      <td>Apartment</td>\n",
              "      <td>Sale</td>\n",
              "    </tr>\n",
              "  </tbody>\n",
              "</table>\n",
              "</div>\n",
              "      <button class=\"colab-df-convert\" onclick=\"convertToInteractive('df-99d5107d-a88e-49ae-b4b8-3749aa45b8e5')\"\n",
              "              title=\"Convert this dataframe to an interactive table.\"\n",
              "              style=\"display:none;\">\n",
              "        \n",
              "  <svg xmlns=\"http://www.w3.org/2000/svg\" height=\"24px\"viewBox=\"0 0 24 24\"\n",
              "       width=\"24px\">\n",
              "    <path d=\"M0 0h24v24H0V0z\" fill=\"none\"/>\n",
              "    <path d=\"M18.56 5.44l.94 2.06.94-2.06 2.06-.94-2.06-.94-.94-2.06-.94 2.06-2.06.94zm-11 1L8.5 8.5l.94-2.06 2.06-.94-2.06-.94L8.5 2.5l-.94 2.06-2.06.94zm10 10l.94 2.06.94-2.06 2.06-.94-2.06-.94-.94-2.06-.94 2.06-2.06.94z\"/><path d=\"M17.41 7.96l-1.37-1.37c-.4-.4-.92-.59-1.43-.59-.52 0-1.04.2-1.43.59L10.3 9.45l-7.72 7.72c-.78.78-.78 2.05 0 2.83L4 21.41c.39.39.9.59 1.41.59.51 0 1.02-.2 1.41-.59l7.78-7.78 2.81-2.81c.8-.78.8-2.07 0-2.86zM5.41 20L4 18.59l7.72-7.72 1.47 1.35L5.41 20z\"/>\n",
              "  </svg>\n",
              "      </button>\n",
              "      \n",
              "  <style>\n",
              "    .colab-df-container {\n",
              "      display:flex;\n",
              "      flex-wrap:wrap;\n",
              "      gap: 12px;\n",
              "    }\n",
              "\n",
              "    .colab-df-convert {\n",
              "      background-color: #E8F0FE;\n",
              "      border: none;\n",
              "      border-radius: 50%;\n",
              "      cursor: pointer;\n",
              "      display: none;\n",
              "      fill: #1967D2;\n",
              "      height: 32px;\n",
              "      padding: 0 0 0 0;\n",
              "      width: 32px;\n",
              "    }\n",
              "\n",
              "    .colab-df-convert:hover {\n",
              "      background-color: #E2EBFA;\n",
              "      box-shadow: 0px 1px 2px rgba(60, 64, 67, 0.3), 0px 1px 3px 1px rgba(60, 64, 67, 0.15);\n",
              "      fill: #174EA6;\n",
              "    }\n",
              "\n",
              "    [theme=dark] .colab-df-convert {\n",
              "      background-color: #3B4455;\n",
              "      fill: #D2E3FC;\n",
              "    }\n",
              "\n",
              "    [theme=dark] .colab-df-convert:hover {\n",
              "      background-color: #434B5C;\n",
              "      box-shadow: 0px 1px 3px 1px rgba(0, 0, 0, 0.15);\n",
              "      filter: drop-shadow(0px 1px 2px rgba(0, 0, 0, 0.3));\n",
              "      fill: #FFFFFF;\n",
              "    }\n",
              "  </style>\n",
              "\n",
              "      <script>\n",
              "        const buttonEl =\n",
              "          document.querySelector('#df-99d5107d-a88e-49ae-b4b8-3749aa45b8e5 button.colab-df-convert');\n",
              "        buttonEl.style.display =\n",
              "          google.colab.kernel.accessAllowed ? 'block' : 'none';\n",
              "\n",
              "        async function convertToInteractive(key) {\n",
              "          const element = document.querySelector('#df-99d5107d-a88e-49ae-b4b8-3749aa45b8e5');\n",
              "          const dataTable =\n",
              "            await google.colab.kernel.invokeFunction('convertToInteractive',\n",
              "                                                     [key], {});\n",
              "          if (!dataTable) return;\n",
              "\n",
              "          const docLinkHtml = 'Like what you see? Visit the ' +\n",
              "            '<a target=\"_blank\" href=https://colab.research.google.com/notebooks/data_table.ipynb>data table notebook</a>'\n",
              "            + ' to learn more about interactive tables.';\n",
              "          element.innerHTML = '';\n",
              "          dataTable['output_type'] = 'display_data';\n",
              "          await google.colab.output.renderOutput(dataTable, element);\n",
              "          const docLink = document.createElement('div');\n",
              "          docLink.innerHTML = docLinkHtml;\n",
              "          element.appendChild(docLink);\n",
              "        }\n",
              "      </script>\n",
              "    </div>\n",
              "  </div>\n",
              "  "
            ]
          },
          "metadata": {},
          "execution_count": 97
        }
      ]
    },
    {
      "cell_type": "code",
      "source": [
        "# The most extreme outlier\n",
        "df.loc[df['price'] > 2.01e13, selected_cols]"
      ],
      "metadata": {
        "colab": {
          "base_uri": "https://localhost:8080/",
          "height": 145
        },
        "id": "85g6219HYctb",
        "outputId": "8b952f31-9d07-4545-d250-12d64e0a5f19"
      },
      "execution_count": null,
      "outputs": [
        {
          "output_type": "execute_result",
          "data": {
            "text/plain": [
              "              price     area  num_bath_rooms  num_bed_rooms property_overview  \\\n",
              "23348  2.400000e+13  10000.0             8.0           10.0               NaN   \n",
              "\n",
              "      building_nature building_type purpose  \n",
              "23348     Residential     Apartment    Sale  "
            ],
            "text/html": [
              "\n",
              "  <div id=\"df-0088ab87-5ba8-491b-96a7-d4483ce8a4f1\">\n",
              "    <div class=\"colab-df-container\">\n",
              "      <div>\n",
              "<style scoped>\n",
              "    .dataframe tbody tr th:only-of-type {\n",
              "        vertical-align: middle;\n",
              "    }\n",
              "\n",
              "    .dataframe tbody tr th {\n",
              "        vertical-align: top;\n",
              "    }\n",
              "\n",
              "    .dataframe thead th {\n",
              "        text-align: right;\n",
              "    }\n",
              "</style>\n",
              "<table border=\"1\" class=\"dataframe\">\n",
              "  <thead>\n",
              "    <tr style=\"text-align: right;\">\n",
              "      <th></th>\n",
              "      <th>price</th>\n",
              "      <th>area</th>\n",
              "      <th>num_bath_rooms</th>\n",
              "      <th>num_bed_rooms</th>\n",
              "      <th>property_overview</th>\n",
              "      <th>building_nature</th>\n",
              "      <th>building_type</th>\n",
              "      <th>purpose</th>\n",
              "    </tr>\n",
              "  </thead>\n",
              "  <tbody>\n",
              "    <tr>\n",
              "      <th>23348</th>\n",
              "      <td>2.400000e+13</td>\n",
              "      <td>10000.0</td>\n",
              "      <td>8.0</td>\n",
              "      <td>10.0</td>\n",
              "      <td>NaN</td>\n",
              "      <td>Residential</td>\n",
              "      <td>Apartment</td>\n",
              "      <td>Sale</td>\n",
              "    </tr>\n",
              "  </tbody>\n",
              "</table>\n",
              "</div>\n",
              "      <button class=\"colab-df-convert\" onclick=\"convertToInteractive('df-0088ab87-5ba8-491b-96a7-d4483ce8a4f1')\"\n",
              "              title=\"Convert this dataframe to an interactive table.\"\n",
              "              style=\"display:none;\">\n",
              "        \n",
              "  <svg xmlns=\"http://www.w3.org/2000/svg\" height=\"24px\"viewBox=\"0 0 24 24\"\n",
              "       width=\"24px\">\n",
              "    <path d=\"M0 0h24v24H0V0z\" fill=\"none\"/>\n",
              "    <path d=\"M18.56 5.44l.94 2.06.94-2.06 2.06-.94-2.06-.94-.94-2.06-.94 2.06-2.06.94zm-11 1L8.5 8.5l.94-2.06 2.06-.94-2.06-.94L8.5 2.5l-.94 2.06-2.06.94zm10 10l.94 2.06.94-2.06 2.06-.94-2.06-.94-.94-2.06-.94 2.06-2.06.94z\"/><path d=\"M17.41 7.96l-1.37-1.37c-.4-.4-.92-.59-1.43-.59-.52 0-1.04.2-1.43.59L10.3 9.45l-7.72 7.72c-.78.78-.78 2.05 0 2.83L4 21.41c.39.39.9.59 1.41.59.51 0 1.02-.2 1.41-.59l7.78-7.78 2.81-2.81c.8-.78.8-2.07 0-2.86zM5.41 20L4 18.59l7.72-7.72 1.47 1.35L5.41 20z\"/>\n",
              "  </svg>\n",
              "      </button>\n",
              "      \n",
              "  <style>\n",
              "    .colab-df-container {\n",
              "      display:flex;\n",
              "      flex-wrap:wrap;\n",
              "      gap: 12px;\n",
              "    }\n",
              "\n",
              "    .colab-df-convert {\n",
              "      background-color: #E8F0FE;\n",
              "      border: none;\n",
              "      border-radius: 50%;\n",
              "      cursor: pointer;\n",
              "      display: none;\n",
              "      fill: #1967D2;\n",
              "      height: 32px;\n",
              "      padding: 0 0 0 0;\n",
              "      width: 32px;\n",
              "    }\n",
              "\n",
              "    .colab-df-convert:hover {\n",
              "      background-color: #E2EBFA;\n",
              "      box-shadow: 0px 1px 2px rgba(60, 64, 67, 0.3), 0px 1px 3px 1px rgba(60, 64, 67, 0.15);\n",
              "      fill: #174EA6;\n",
              "    }\n",
              "\n",
              "    [theme=dark] .colab-df-convert {\n",
              "      background-color: #3B4455;\n",
              "      fill: #D2E3FC;\n",
              "    }\n",
              "\n",
              "    [theme=dark] .colab-df-convert:hover {\n",
              "      background-color: #434B5C;\n",
              "      box-shadow: 0px 1px 3px 1px rgba(0, 0, 0, 0.15);\n",
              "      filter: drop-shadow(0px 1px 2px rgba(0, 0, 0, 0.3));\n",
              "      fill: #FFFFFF;\n",
              "    }\n",
              "  </style>\n",
              "\n",
              "      <script>\n",
              "        const buttonEl =\n",
              "          document.querySelector('#df-0088ab87-5ba8-491b-96a7-d4483ce8a4f1 button.colab-df-convert');\n",
              "        buttonEl.style.display =\n",
              "          google.colab.kernel.accessAllowed ? 'block' : 'none';\n",
              "\n",
              "        async function convertToInteractive(key) {\n",
              "          const element = document.querySelector('#df-0088ab87-5ba8-491b-96a7-d4483ce8a4f1');\n",
              "          const dataTable =\n",
              "            await google.colab.kernel.invokeFunction('convertToInteractive',\n",
              "                                                     [key], {});\n",
              "          if (!dataTable) return;\n",
              "\n",
              "          const docLinkHtml = 'Like what you see? Visit the ' +\n",
              "            '<a target=\"_blank\" href=https://colab.research.google.com/notebooks/data_table.ipynb>data table notebook</a>'\n",
              "            + ' to learn more about interactive tables.';\n",
              "          element.innerHTML = '';\n",
              "          dataTable['output_type'] = 'display_data';\n",
              "          await google.colab.output.renderOutput(dataTable, element);\n",
              "          const docLink = document.createElement('div');\n",
              "          docLink.innerHTML = docLinkHtml;\n",
              "          element.appendChild(docLink);\n",
              "        }\n",
              "      </script>\n",
              "    </div>\n",
              "  </div>\n",
              "  "
            ]
          },
          "metadata": {},
          "execution_count": 101
        }
      ]
    },
    {
      "cell_type": "markdown",
      "source": [
        "The most extreme outlier seems to be unlikely "
      ],
      "metadata": {
        "id": "TrZKM3WRZHPY"
      }
    },
    {
      "cell_type": "code",
      "source": [
        "# The amount of building_nature and building_type for outliers_price \n",
        "sns.catplot(x='building_nature', hue='building_type', col='purpose', data=outliers_price, kind='count', height=6, aspect=1.5)"
      ],
      "metadata": {
        "colab": {
          "base_uri": "https://localhost:8080/",
          "height": 287
        },
        "id": "-RH8lRWLXMyD",
        "outputId": "dc589805-b8f0-492e-9a7c-83ebbcb5ae7d"
      },
      "execution_count": null,
      "outputs": [
        {
          "output_type": "execute_result",
          "data": {
            "text/plain": [
              "<seaborn.axisgrid.FacetGrid at 0x7f3fbeca88e0>"
            ]
          },
          "metadata": {},
          "execution_count": 98
        },
        {
          "output_type": "display_data",
          "data": {
            "text/plain": [
              "<Figure size 1924.5x600 with 2 Axes>"
            ],
            "image/png": "[encoded data removed]"
          },
          "metadata": {}
        }
      ]
    },
    {
      "cell_type": "code",
      "source": [
        "print(f\"Outlier count: {outlier_price_count}\\n Boundary: {boundary_price}\")"
      ],
      "metadata": {
        "colab": {
          "base_uri": "https://localhost:8080/"
        },
        "id": "J7erBYOeXoqP",
        "outputId": "d7d4de23-b95a-4c14-b755-a0aa329aa816"
      },
      "execution_count": null,
      "outputs": [
        {
          "output_type": "stream",
          "name": "stdout",
          "text": [
            "Outlier count: 1780\n",
            " Boundary: 17450125.0\n"
          ]
        }
      ]
    },
    {
      "cell_type": "markdown",
      "source": [
        "#### Summary price:\n",
        "\n",
        "- Almost all are for Sale\n",
        "- Most in Sale are Residential\n",
        "- Almost 1200 are Buildings \n",
        "- The most extreme outlier seems unlikely and should probably be taken away. It has index **23348** and has a price of 2.400000e+13 and is an apartment\n",
        "- The other outliers need someone who knows currency and who knows what can be reasonable that can look at it, but seeing that most of them are large buildings the prices might be explained becuase of that."
      ],
      "metadata": {
        "id": "3oZt-S6zNUDD"
      }
    },
    {
      "cell_type": "markdown",
      "source": [
        "### Garage"
      ],
      "metadata": {
        "id": "67XedjygbLUT"
      }
    },
    {
      "cell_type": "code",
      "source": [
        "print(f\"Outlier count: {outlier_garage_count}\\n Boundary: {boundary_garage}\")"
      ],
      "metadata": {
        "colab": {
          "base_uri": "https://localhost:8080/"
        },
        "id": "oMMcWnhoZzyR",
        "outputId": "70e22fbd-282d-483a-e7f2-927f4e27a53b"
      },
      "execution_count": null,
      "outputs": [
        {
          "output_type": "stream",
          "name": "stdout",
          "text": [
            "Outlier count: 0\n",
            " Boundary: 0.0\n"
          ]
        }
      ]
    },
    {
      "cell_type": "markdown",
      "source": [
        "#### Summary garage:\n",
        "There are no outliers in garage"
      ],
      "metadata": {
        "id": "KmjemXASrCps"
      }
    },
    {
      "cell_type": "markdown",
      "source": [],
      "metadata": {
        "id": "_dF_gzJG2g5u"
      }
    },
    {
      "cell_type": "markdown",
      "source": [
        "# EDA Summary\n",
        "- Most outliers can be explained by the number of big buildings that have larger area, more bathrooms and bedrooms as well as a higher price.  \n",
        "- Large area indicates a high probability to be for Rent and Commercial \n",
        "(Please double check the building_types since the colors were difficult to see)\n",
        "- Large number of bathrooms indicates a high probability to be for Sale and Residential (Buildings with many apartments)\n",
        "Large number of bedrooms indicates a high probability to be for Sale and Residential (Buildings with many apartments)\n",
        "- Large price indicates a high probability to be for Sale and Residential \n",
        "(Buildings with many apartments)\n",
        "- The most extreme outlier in 'price' seems unlikely and should probably be taken away. It has index **23348** and has a price of 2.400000e+13 and is an apartment. It is very far from all the others and could maybe have an unwanted effect on the dataset.\n",
        " \n"
      ],
      "metadata": {
        "id": "FVVVOoDJ2g71"
      }
    },
    {
      "cell_type": "code",
      "source": [],
      "metadata": {
        "id": "Nka2-oXr5A1d"
      },
      "execution_count": null,
      "outputs": []
    }
  ]
}