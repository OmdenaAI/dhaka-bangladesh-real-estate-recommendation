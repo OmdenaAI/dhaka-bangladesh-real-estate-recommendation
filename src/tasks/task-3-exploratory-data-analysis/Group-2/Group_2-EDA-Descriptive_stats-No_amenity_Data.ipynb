{
 "cells": [
  {
   "cell_type": "code",
   "execution_count": 158,
   "id": "1483ac7b",
   "metadata": {},
   "outputs": [],
   "source": [
    "import pandas as pd\n",
    "import matplotlib.pyplot as plt\n",
    "import seaborn as sns\n",
    "import numpy as np"
   ]
  },
  {
   "cell_type": "code",
   "execution_count": 159,
   "id": "b6713492",
   "metadata": {},
   "outputs": [],
   "source": [
    "df_noAmenity = pd.read_csv(\"no_amenity.csv\")"
   ]
  },
  {
   "cell_type": "code",
   "execution_count": 160,
   "id": "45321131",
   "metadata": {
    "scrolled": true
   },
   "outputs": [
    {
     "name": "stdout",
     "output_type": "stream",
     "text": [
      "<class 'pandas.core.frame.DataFrame'>\n",
      "RangeIndex: 35646 entries, 0 to 35645\n",
      "Data columns (total 15 columns):\n",
      " #   Column                Non-Null Count  Dtype  \n",
      "---  ------                --------------  -----  \n",
      " 0   area                  33374 non-null  float64\n",
      " 1   building_type         35465 non-null  object \n",
      " 2   building_nature       35646 non-null  object \n",
      " 3   image_url             17312 non-null  object \n",
      " 4   num_bath_rooms        35646 non-null  object \n",
      " 5   num_bed_rooms         35646 non-null  object \n",
      " 6   price                 34578 non-null  float64\n",
      " 7   property_description  18259 non-null  object \n",
      " 8   property_overview     17553 non-null  object \n",
      " 9   property_url          35621 non-null  object \n",
      " 10  purpose               35632 non-null  object \n",
      " 11  city                  35110 non-null  object \n",
      " 12  locality              35046 non-null  object \n",
      " 13  address               30507 non-null  object \n",
      " 14  garage                35646 non-null  float64\n",
      "dtypes: float64(3), object(12)\n",
      "memory usage: 4.1+ MB\n"
     ]
    }
   ],
   "source": [
    "df_noAmenity.info()"
   ]
  },
  {
   "cell_type": "markdown",
   "id": "6edfe014",
   "metadata": {},
   "source": [
    "<br>\n",
    "\n",
    "# Area"
   ]
  },
  {
   "cell_type": "code",
   "execution_count": 161,
   "id": "990d0498",
   "metadata": {
    "scrolled": true
   },
   "outputs": [],
   "source": [
    "# area_desc = df_noAmenity['area'].describe(percentiles=[.25, .5, .75, .85, .95, .99])\n",
    "\n",
    "area_desc = df_noAmenity['area'].describe(percentiles=[.3, .6, .9, .99])"
   ]
  },
  {
   "cell_type": "code",
   "execution_count": 162,
   "id": "53c78b92",
   "metadata": {
    "scrolled": true
   },
   "outputs": [
    {
     "data": {
      "text/plain": [
       "count     33374.000000\n",
       "mean       1993.159806\n",
       "std        4622.888250\n",
       "min           0.000000\n",
       "30%        1125.000000\n",
       "50%        1400.000000\n",
       "60%        1553.000000\n",
       "90%        3100.000000\n",
       "99%       10898.748000\n",
       "max      387360.000000\n",
       "Name: area, dtype: float64"
      ]
     },
     "execution_count": 162,
     "metadata": {},
     "output_type": "execute_result"
    }
   ],
   "source": [
    "area_desc"
   ]
  },
  {
   "cell_type": "markdown",
   "id": "2abc0832",
   "metadata": {},
   "source": [
    "### Distribution of 'area' values:\n"
   ]
  },
  {
   "cell_type": "code",
   "execution_count": 163,
   "id": "1985c08f",
   "metadata": {},
   "outputs": [
    {
     "data": {
      "image/png": "[encoded data removed]",
      "text/plain": [
       "<Figure size 1440x360 with 3 Axes>"
      ]
     },
     "metadata": {
      "needs_background": "light"
     },
     "output_type": "display_data"
    }
   ],
   "source": [
    "# subset data for areas upto 90 percentiles\n",
    "area_90 = df_noAmenity[df_noAmenity['area'] <= area_desc['90%']]\n",
    "\n",
    "# subset data for areas above 90 and upto 99 percentiles\n",
    "area_90_99 = df_noAmenity[(df_noAmenity['area'] > area_desc['90%']) & (df_noAmenity['area'] <= area_desc['99%'])]\n",
    "\n",
    "# subset data for areas above 99 percentiles\n",
    "area_99_100 = df_noAmenity[(df_noAmenity['area'] > area_desc['99%'])]\n",
    "\n",
    "# Create a Figure and an Axes for a 2-column grid of subplots\n",
    "fig, ax = plt.subplots(1,3)\n",
    "\n",
    "# First plot\n",
    "ax[0].hist(area_90['area'], bins=30)\n",
    "ax[0].set_xlabel('Area in Sq. ft.')\n",
    "ax[0].set_ylabel('Frequency')\n",
    "ax[0].set_title('Area distribution (upto 75-%tile)')\n",
    "\n",
    "# Second plot\n",
    "ax[1].hist(area_90_99['area'], bins=20)\n",
    "ax[1].set_xlabel('Area in Sq. ft.')\n",
    "ax[1].set_title('Area distribution (75 to 99-%tile)')\n",
    "\n",
    "# Third plot\n",
    "ax[2].hist(area_99_100['area'], bins=15)\n",
    "ax[2].set_xlabel('Area in Sq. ft.')\n",
    "ax[2].set_title('Area distribution (above 99-%tile)')\n",
    "\n",
    "# Adjust the size of the figure\n",
    "fig.set_size_inches([20,5])\n",
    "\n",
    "plt.show()"
   ]
  },
  {
   "cell_type": "code",
   "execution_count": 164,
   "id": "dfd3ba74",
   "metadata": {
    "scrolled": true
   },
   "outputs": [],
   "source": [
    "# area['area'].value_counts()"
   ]
  },
  {
   "cell_type": "code",
   "execution_count": 165,
   "id": "09f041ed",
   "metadata": {},
   "outputs": [],
   "source": [
    "# What are the area values for properties with area above 99-%tile\n",
    "# df_noAmenity[df_noAmenity['area'] >= area_desc['99%']]"
   ]
  },
  {
   "cell_type": "code",
   "execution_count": 166,
   "id": "8f2fb6ea",
   "metadata": {
    "scrolled": true
   },
   "outputs": [
    {
     "data": {
      "text/plain": [
       "(293, 15)"
      ]
     },
     "execution_count": 166,
     "metadata": {},
     "output_type": "execute_result"
    }
   ],
   "source": [
    "df_noAmenity[df_noAmenity['area'] <= 100].shape\n",
    "# df_noAmenity[df_noAmenity['area'] < 10]['property_url']"
   ]
  },
  {
   "cell_type": "markdown",
   "id": "15dc2891",
   "metadata": {},
   "source": [
    "<br>\n",
    "\n",
    "# Property descriptions: _building_type_, _building_nature_"
   ]
  },
  {
   "cell_type": "markdown",
   "id": "8028892a",
   "metadata": {},
   "source": [
    "## (i) _building_type_"
   ]
  },
  {
   "cell_type": "code",
   "execution_count": 167,
   "id": "9c76d728",
   "metadata": {
    "scrolled": false
   },
   "outputs": [
    {
     "data": {
      "text/plain": [
       "Apartment                       26291\n",
       "Office                           2156\n",
       "Building                         1420\n",
       "Land                             1342\n",
       "Shop                             1060\n",
       "Floor                             885\n",
       "Plot                              809\n",
       "Garage                            457\n",
       "Apartment/Flats                   378\n",
       "Commercial Space                  249\n",
       "House                             221\n",
       "Duplex                             77\n",
       "Office space                       52\n",
       "Warehouse                          30\n",
       "Factory                            19\n",
       "Duplex Home                         7\n",
       "Commerical - Other                  4\n",
       "Independent House                   2\n",
       "Showroom / Shop / Restaurant        2\n",
       "Apartment, Commercial               2\n",
       "Commercial property                 2\n",
       "Name: building_type, dtype: int64"
      ]
     },
     "execution_count": 167,
     "metadata": {},
     "output_type": "execute_result"
    }
   ],
   "source": [
    "df_noAmenity['building_type'].value_counts()"
   ]
  },
  {
   "cell_type": "markdown",
   "id": "a26e1db5",
   "metadata": {},
   "source": [
    "**NOTE: There seems to be some repetitions of types. Let's combine the related values into unique types**"
   ]
  },
  {
   "cell_type": "code",
   "execution_count": 168,
   "id": "ff2add72",
   "metadata": {},
   "outputs": [],
   "source": [
    "# Combine the related values into one\n",
    "\n",
    "# The following types are combined into one\n",
    "# \n",
    "# Apartment: Apartment;  Apartment/Flats;  Apartment, Commercial\n",
    "# Office:  Office;  Office space\n",
    "# Commercial Space:  Commercial Space;  Commerical - Other;  Commercial property\n",
    "# Shop:  Shop;  Showroom / Shop / Restaurant\n",
    "# House:  House;  Independent House\n",
    "# Duplex:  Duplex;  Duplex Home\n",
    "\n",
    "# Create a new column\n",
    "df_noAmenity['building_type_comb'] = df_noAmenity['building_type']\n",
    "\n",
    "df_noAmenity['building_type_comb'] = np.where(df_noAmenity['building_type_comb'].str.contains('Apartment'), \n",
    "                                          'Apartment', df_noAmenity['building_type_comb'])\n",
    "\n",
    "df_noAmenity['building_type_comb'] = np.where(df_noAmenity['building_type_comb'].str.contains('Office'), \n",
    "                                          'Office', df_noAmenity['building_type_comb'])\n",
    "\n",
    "df_noAmenity['building_type_comb'] = np.where(df_noAmenity['building_type_comb'].str.contains('Commercial'), \n",
    "                                          'Commercial Space', df_noAmenity['building_type_comb'])\n",
    "\n",
    "# Correct the typo!\n",
    "df_noAmenity['building_type_comb'] = np.where(df_noAmenity['building_type_comb'].str.contains('Commerical'), \n",
    "                                          'Commercial Space', df_noAmenity['building_type_comb'])\n",
    "\n",
    "df_noAmenity['building_type_comb'] = np.where(df_noAmenity['building_type_comb'].str.contains('Shop'), \n",
    "                                          'Shop', df_noAmenity['building_type_comb'])\n",
    "\n",
    "df_noAmenity['building_type_comb'] = np.where(df_noAmenity['building_type_comb'].str.contains('House'), \n",
    "                                          'House', df_noAmenity['building_type_comb'])\n",
    "\n",
    "# Although a 'Duplex' is a special kind of 'House', let's keep it as a separate type\n",
    "df_noAmenity['building_type_comb'] = np.where(df_noAmenity['building_type_comb'].str.contains('Duplex'), \n",
    "                                          'Duplex', df_noAmenity['building_type_comb'])\n"
   ]
  },
  {
   "cell_type": "code",
   "execution_count": 169,
   "id": "a2c972b9",
   "metadata": {
    "scrolled": true
   },
   "outputs": [
    {
     "data": {
      "text/plain": [
       "Apartment           26852\n",
       "Office               2208\n",
       "Building             1420\n",
       "Land                 1342\n",
       "Shop                 1062\n",
       "Floor                 885\n",
       "Plot                  809\n",
       "Garage                457\n",
       "Commercial Space      255\n",
       "House                 223\n",
       "Duplex                 84\n",
       "Warehouse              30\n",
       "Factory                19\n",
       "Name: building_type_comb, dtype: int64"
      ]
     },
     "execution_count": 169,
     "metadata": {},
     "output_type": "execute_result"
    }
   ],
   "source": [
    "df_noAmenity['building_type_comb'].value_counts()"
   ]
  },
  {
   "cell_type": "code",
   "execution_count": 170,
   "id": "a015f2da",
   "metadata": {
    "scrolled": false
   },
   "outputs": [
    {
     "data": {
      "image/png": "[encoded data removed]",
      "text/plain": [
       "<Figure size 720x576 with 2 Axes>"
      ]
     },
     "metadata": {
      "needs_background": "light"
     },
     "output_type": "display_data"
    }
   ],
   "source": [
    "ind = 6\n",
    "\n",
    "freq = df_noAmenity['building_type_comb'].value_counts()[ind::-1]\n",
    "less_freq = df_noAmenity['building_type_comb'].value_counts()[-1:ind:-1]\n",
    "\n",
    "fig, ax = plt.subplots(2,1)\n",
    "\n",
    "# First plot\n",
    "ax[0].barh(freq.index, freq)\n",
    "ax[0].set_title('Frequent property types')\n",
    "\n",
    "# # Second plot\n",
    "ax[1].barh(less_freq.index, less_freq)\n",
    "ax[1].set_title('Less frequent property types')\n",
    "\n",
    "# Adjust the size of the figure\n",
    "fig.set_size_inches([10,8])\n",
    "\n",
    "plt.show()"
   ]
  },
  {
   "cell_type": "markdown",
   "id": "eebcc219",
   "metadata": {},
   "source": [
    "## (ii) building_nature"
   ]
  },
  {
   "cell_type": "code",
   "execution_count": 171,
   "id": "463926dd",
   "metadata": {
    "scrolled": true
   },
   "outputs": [
    {
     "data": {
      "text/plain": [
       "Residential    28892\n",
       "Commercial      6754\n",
       "Name: building_nature, dtype: int64"
      ]
     },
     "execution_count": 171,
     "metadata": {},
     "output_type": "execute_result"
    }
   ],
   "source": [
    "df_noAmenity['building_nature'].value_counts()"
   ]
  },
  {
   "cell_type": "code",
   "execution_count": 172,
   "id": "1b7b4a91",
   "metadata": {
    "scrolled": true
   },
   "outputs": [
    {
     "data": {
      "image/png": "[encoded data removed]",
      "text/plain": [
       "<Figure size 432x288 with 1 Axes>"
      ]
     },
     "metadata": {
      "needs_background": "light"
     },
     "output_type": "display_data"
    }
   ],
   "source": [
    "df_noAmenity['building_nature'].value_counts().sort_index().plot(kind='bar')\n",
    "\n",
    "# Add labels and title\n",
    "plt.ylabel('Counts')\n",
    "plt.title('Frequency of the two building natures')\n",
    "plt.show()"
   ]
  },
  {
   "cell_type": "markdown",
   "id": "173988cc",
   "metadata": {},
   "source": [
    "<br>\n",
    "\n",
    "# Bathrooms & bedrooms"
   ]
  },
  {
   "cell_type": "markdown",
   "id": "64ad0c0c",
   "metadata": {},
   "source": [
    "## (i) Bathrooms"
   ]
  },
  {
   "cell_type": "code",
   "execution_count": 173,
   "id": "fe2f20c1",
   "metadata": {
    "scrolled": true
   },
   "outputs": [
    {
     "data": {
      "text/plain": [
       "0.0      15524\n",
       "3.0       8595\n",
       "2.0       5526\n",
       "4.0       3117\n",
       "1.0       1321\n",
       "5.0        620\n",
       " 4 ba      170\n",
       "3          148\n",
       "6.0        145\n",
       " 3 ba      142\n",
       "Name: num_bath_rooms, dtype: int64"
      ]
     },
     "execution_count": 173,
     "metadata": {},
     "output_type": "execute_result"
    }
   ],
   "source": [
    "df_noAmenity['num_bath_rooms'].value_counts()[:10]"
   ]
  },
  {
   "cell_type": "code",
   "execution_count": 174,
   "id": "d693faac",
   "metadata": {},
   "outputs": [
    {
     "data": {
      "text/plain": [
       "3.0      16554\n",
       "0.0       8700\n",
       "2.0       5797\n",
       "4.0       2707\n",
       "1.0        657\n",
       "5.0        270\n",
       " 3 bd      253\n",
       "3          183\n",
       " 4 bd      117\n",
       "6.0         87\n",
       "Name: num_bed_rooms, dtype: int64"
      ]
     },
     "execution_count": 174,
     "metadata": {},
     "output_type": "execute_result"
    }
   ],
   "source": [
    "df_noAmenity['num_bed_rooms'].value_counts()[:10]"
   ]
  },
  {
   "cell_type": "markdown",
   "id": "2bcf67ad",
   "metadata": {},
   "source": [
    "**NOTE: The values are *'num_bath_rooms'* and *'num_bed_rooms'* are not numeric**"
   ]
  },
  {
   "cell_type": "markdown",
   "id": "0a6391f1",
   "metadata": {},
   "source": [
    "**Clean-up the columns and convert the values numeric**"
   ]
  },
  {
   "cell_type": "code",
   "execution_count": 175,
   "id": "e08256fd",
   "metadata": {},
   "outputs": [],
   "source": [
    "# Format the two columns\n",
    "df_noAmenity['num_bath_rooms'] = np.where(df_noAmenity['num_bath_rooms'].str.contains(' ba'), \n",
    "                                          df_noAmenity['num_bath_rooms'].str.split(' ')[1], \n",
    "                                          df_noAmenity['num_bath_rooms'])\n",
    "\n",
    "\n",
    "df_noAmenity['num_bed_rooms'] = np.where(df_noAmenity['num_bed_rooms'].str.contains(' bd'), \n",
    "                                          df_noAmenity['num_bed_rooms'].str.split(' ')[1], \n",
    "                                          df_noAmenity['num_bed_rooms'])\n"
   ]
  },
  {
   "cell_type": "code",
   "execution_count": 176,
   "id": "a9325052",
   "metadata": {
    "scrolled": true
   },
   "outputs": [],
   "source": [
    "# df_noAmenity[df_noAmenity['num_bath_rooms'].str.contains(' ba')]"
   ]
  },
  {
   "cell_type": "code",
   "execution_count": 177,
   "id": "eefa482d",
   "metadata": {
    "scrolled": false
   },
   "outputs": [
    {
     "name": "stdout",
     "output_type": "stream",
     "text": [
      "object\n",
      "object\n"
     ]
    }
   ],
   "source": [
    "print(df_noAmenity['num_bath_rooms'].dtype)\n",
    "print(df_noAmenity['num_bed_rooms'].dtype)"
   ]
  },
  {
   "cell_type": "code",
   "execution_count": 178,
   "id": "d71bb0ef",
   "metadata": {
    "scrolled": true
   },
   "outputs": [],
   "source": [
    "df_noAmenity['num_bath_rooms'] = df_noAmenity['num_bath_rooms'].astype('float')\n",
    "df_noAmenity['num_bed_rooms'] = df_noAmenity['num_bed_rooms'].astype('float')"
   ]
  },
  {
   "cell_type": "code",
   "execution_count": 179,
   "id": "3ab0dba7",
   "metadata": {
    "scrolled": false
   },
   "outputs": [
    {
     "name": "stdout",
     "output_type": "stream",
     "text": [
      "float64\n",
      "float64\n"
     ]
    }
   ],
   "source": [
    "print(df_noAmenity['num_bath_rooms'].dtype)\n",
    "print(df_noAmenity['num_bed_rooms'].dtype)"
   ]
  },
  {
   "cell_type": "code",
   "execution_count": 180,
   "id": "f8b0c895",
   "metadata": {
    "scrolled": true
   },
   "outputs": [
    {
     "data": {
      "text/plain": [
       "0.0     15526\n",
       "3.0      8743\n",
       "2.0      5570\n",
       "4.0      3613\n",
       "1.0      1321\n",
       "5.0       631\n",
       "6.0       146\n",
       "10.0       32\n",
       "8.0        28\n",
       "7.0        20\n",
       "9.0         8\n",
       "12.0        2\n",
       "26.0        1\n",
       "13.0        1\n",
       "16.0        1\n",
       "18.0        1\n",
       "36.0        1\n",
       "31.0        1\n",
       "Name: num_bath_rooms, dtype: int64"
      ]
     },
     "execution_count": 180,
     "metadata": {},
     "output_type": "execute_result"
    }
   ],
   "source": [
    "df_noAmenity['num_bath_rooms'].value_counts()"
   ]
  },
  {
   "cell_type": "code",
   "execution_count": 181,
   "id": "7f48bc3e",
   "metadata": {
    "scrolled": false
   },
   "outputs": [
    {
     "data": {
      "text/plain": [
       "3.0     17178\n",
       "0.0      8702\n",
       "2.0      5822\n",
       "4.0      2755\n",
       "1.0       657\n",
       "5.0       273\n",
       "6.0        87\n",
       "7.0        46\n",
       "8.0        26\n",
       "10.0       18\n",
       "12.0       10\n",
       "9.0         9\n",
       "18.0        7\n",
       "24.0        6\n",
       "21.0        5\n",
       "14.0        4\n",
       "16.0        4\n",
       "36.0        3\n",
       "20.0        3\n",
       "11.0        3\n",
       "25.0        3\n",
       "15.0        2\n",
       "13.0        2\n",
       "19.0        2\n",
       "32.0        2\n",
       "17.0        2\n",
       "56.0        2\n",
       "22.0        1\n",
       "33.0        1\n",
       "46.0        1\n",
       "94.0        1\n",
       "30.0        1\n",
       "50.0        1\n",
       "42.0        1\n",
       "75.0        1\n",
       "23.0        1\n",
       "29.0        1\n",
       "60.0        1\n",
       "48.0        1\n",
       "40.0        1\n",
       "Name: num_bed_rooms, dtype: int64"
      ]
     },
     "execution_count": 181,
     "metadata": {},
     "output_type": "execute_result"
    }
   ],
   "source": [
    "df_noAmenity['num_bed_rooms'].value_counts()"
   ]
  },
  {
   "cell_type": "code",
   "execution_count": 182,
   "id": "ba2571fe",
   "metadata": {
    "scrolled": false
   },
   "outputs": [
    {
     "data": {
      "image/png": "[encoded data removed]",
      "text/plain": [
       "<Figure size 1440x720 with 4 Axes>"
      ]
     },
     "metadata": {
      "needs_background": "light"
     },
     "output_type": "display_data"
    }
   ],
   "source": [
    "nBathrooms = df_noAmenity[df_noAmenity['num_bath_rooms'] > 0]['num_bath_rooms'].value_counts()\n",
    "nBedrooms = df_noAmenity[df_noAmenity['num_bed_rooms'] > 0]['num_bed_rooms'].value_counts()\n",
    "\n",
    "nApBathrooms = df_noAmenity[(df_noAmenity['building_type_comb'] == 'Apartment')]['num_bath_rooms'].value_counts()\n",
    "nApBedrooms = df_noAmenity[(df_noAmenity['building_type_comb'] == 'Apartment')]['num_bed_rooms'].value_counts()\n",
    "\n",
    "\n",
    "# Create a Figure and an Axes for a 2-column grid of subplots\n",
    "fig, ax = plt.subplots(2,2)\n",
    "\n",
    "# Bathroom plot\n",
    "ax[0, 0].bar(nBathrooms.index, nBathrooms)\n",
    "\n",
    "# Add labels and title\n",
    "ax[0, 0].set_ylabel('Property count')\n",
    "ax[0, 0].set_title('All properties (for num_bath_rooms > 0)')\n",
    "\n",
    "\n",
    "# Bedroom plot\n",
    "ax[0, 1].bar(nBedrooms.index, nBedrooms)\n",
    "\n",
    "# Add labels and title\n",
    "ax[0, 1].set_ylabel('Property count')\n",
    "ax[0, 1].set_title('All properties (for num_bed_rooms > 0)')\n",
    "\n",
    "\n",
    "# Bathroom plot\n",
    "ax[1, 0].bar(nApBathrooms.index, nApBathrooms)\n",
    "\n",
    "# Add labels and title\n",
    "ax[1, 0].set_xlabel('No. of bathrooms')\n",
    "ax[1, 0].set_ylabel('Property count')\n",
    "ax[1, 0].set_title('Apartments')\n",
    "\n",
    "\n",
    "# Bedroom plot\n",
    "ax[1, 1].bar(nApBedrooms.index, nApBedrooms)\n",
    "\n",
    "# Add labels and title\n",
    "ax[1, 1].set_xlabel('No. of Bedrooms')\n",
    "ax[1, 1].set_ylabel('Property count')\n",
    "ax[1, 1].set_title('Apartments')\n",
    "\n",
    "\n",
    "# Adjust the size of the figure\n",
    "fig.set_size_inches([20,10])\n",
    "plt.show()"
   ]
  },
  {
   "cell_type": "markdown",
   "id": "e865e220",
   "metadata": {},
   "source": [
    "<br>\n",
    "\n",
    "# Price"
   ]
  },
  {
   "cell_type": "code",
   "execution_count": 183,
   "id": "382c1017",
   "metadata": {
    "scrolled": false
   },
   "outputs": [],
   "source": [
    "# df_noAmenity.columns"
   ]
  },
  {
   "cell_type": "code",
   "execution_count": 184,
   "id": "3f7fc4f1",
   "metadata": {
    "scrolled": true
   },
   "outputs": [
    {
     "data": {
      "text/plain": [
       "count    3.457800e+04\n",
       "mean     1.046375e+09\n",
       "std      1.301329e+11\n",
       "min      0.000000e+00\n",
       "30%      3.200000e+04\n",
       "50%      1.750000e+05\n",
       "60%      1.800000e+06\n",
       "90%      1.200000e+07\n",
       "99%      8.700000e+07\n",
       "max      2.400000e+13\n",
       "Name: price, dtype: float64"
      ]
     },
     "execution_count": 184,
     "metadata": {},
     "output_type": "execute_result"
    }
   ],
   "source": [
    "df_noAmenity['price'].describe(percentiles=[.3, .6, .9, .99])"
   ]
  },
  {
   "cell_type": "code",
   "execution_count": 185,
   "id": "9c1e4af8",
   "metadata": {
    "scrolled": true
   },
   "outputs": [
    {
     "data": {
      "text/plain": [
       "count    1.445000e+04\n",
       "mean     2.483006e+09\n",
       "std      2.012964e+11\n",
       "min      1.000000e+00\n",
       "30%      5.200000e+06\n",
       "50%      7.000225e+06\n",
       "60%      8.150000e+06\n",
       "90%      2.100000e+07\n",
       "99%      4.093044e+09\n",
       "max      2.400000e+13\n",
       "Name: price, dtype: float64"
      ]
     },
     "execution_count": 185,
     "metadata": {},
     "output_type": "execute_result"
    }
   ],
   "source": [
    "df_noAmenity[df_noAmenity['purpose'] == 'Sale']['price'].describe(percentiles=[.3, .6, .9, .99])"
   ]
  },
  {
   "cell_type": "code",
   "execution_count": 186,
   "id": "40eb231e",
   "metadata": {},
   "outputs": [
    {
     "data": {
      "text/plain": [
       "count    2.011900e+04\n",
       "mean     1.248472e+07\n",
       "std      8.867910e+08\n",
       "min      0.000000e+00\n",
       "30%      2.000000e+04\n",
       "50%      3.000000e+04\n",
       "60%      4.500000e+04\n",
       "90%      2.700000e+05\n",
       "99%      1.500000e+06\n",
       "max      1.000000e+11\n",
       "Name: price, dtype: float64"
      ]
     },
     "execution_count": 186,
     "metadata": {},
     "output_type": "execute_result"
    }
   ],
   "source": [
    "df_noAmenity[df_noAmenity['purpose'] == 'Rent']['price'].describe(percentiles=[.3, .6, .9, .99])"
   ]
  },
  {
   "cell_type": "code",
   "execution_count": 187,
   "id": "ca4ecc61",
   "metadata": {
    "scrolled": true
   },
   "outputs": [],
   "source": [
    "# df_noAmenity[df_noAmenity['purpose'] == 'Sale'].groupby('building_type_comb', as_index=False)['price'].mean()"
   ]
  },
  {
   "cell_type": "code",
   "execution_count": 188,
   "id": "2a269d97",
   "metadata": {},
   "outputs": [],
   "source": [
    "# df_noAmenity[df_noAmenity['purpose'] == 'Rent'].groupby('building_type_comb', as_index=False)['price'].mean()"
   ]
  },
  {
   "cell_type": "markdown",
   "id": "f37a82e7",
   "metadata": {},
   "source": [
    "**Calculate mean prices for each building_type and for \"Sale\" and \"Rent\" separately**"
   ]
  },
  {
   "cell_type": "code",
   "execution_count": 189,
   "id": "51a44f68",
   "metadata": {},
   "outputs": [],
   "source": [
    "# Calculate 'Sale' and 'Rent' means separately and merge\n",
    "df_mean_price = pd.merge(df_noAmenity[df_noAmenity['purpose'] == 'Sale'].groupby('building_type_comb', as_index=False)['price'].mean(), \n",
    "         df_noAmenity[df_noAmenity['purpose'] == 'Rent'].groupby('building_type_comb', as_index=False)['price'].mean(), \n",
    "         on='building_type_comb', how='outer', suffixes = ['_sale', '_rent']).fillna(0)\n"
   ]
  },
  {
   "cell_type": "code",
   "execution_count": 190,
   "id": "5301db76",
   "metadata": {},
   "outputs": [
    {
     "data": {
      "text/html": [
       "<div>\n",
       "<style scoped>\n",
       "    .dataframe tbody tr th:only-of-type {\n",
       "        vertical-align: middle;\n",
       "    }\n",
       "\n",
       "    .dataframe tbody tr th {\n",
       "        vertical-align: top;\n",
       "    }\n",
       "\n",
       "    .dataframe thead th {\n",
       "        text-align: right;\n",
       "    }\n",
       "</style>\n",
       "<table border=\"1\" class=\"dataframe\">\n",
       "  <thead>\n",
       "    <tr style=\"text-align: right;\">\n",
       "      <th></th>\n",
       "      <th>building_type_comb</th>\n",
       "      <th>price_sale</th>\n",
       "      <th>price_rent</th>\n",
       "    </tr>\n",
       "  </thead>\n",
       "  <tbody>\n",
       "    <tr>\n",
       "      <th>0</th>\n",
       "      <td>Apartment</td>\n",
       "      <td>2.573413e+09</td>\n",
       "      <td>6.832983e+06</td>\n",
       "    </tr>\n",
       "    <tr>\n",
       "      <th>1</th>\n",
       "      <td>Building</td>\n",
       "      <td>7.466818e+07</td>\n",
       "      <td>1.138637e+08</td>\n",
       "    </tr>\n",
       "    <tr>\n",
       "      <th>2</th>\n",
       "      <td>Commercial Space</td>\n",
       "      <td>6.967286e+07</td>\n",
       "      <td>0.000000e+00</td>\n",
       "    </tr>\n",
       "    <tr>\n",
       "      <th>3</th>\n",
       "      <td>Duplex</td>\n",
       "      <td>4.528889e+07</td>\n",
       "      <td>2.824167e+05</td>\n",
       "    </tr>\n",
       "    <tr>\n",
       "      <th>4</th>\n",
       "      <td>Floor</td>\n",
       "      <td>4.999938e+07</td>\n",
       "      <td>4.800843e+05</td>\n",
       "    </tr>\n",
       "    <tr>\n",
       "      <th>5</th>\n",
       "      <td>House</td>\n",
       "      <td>1.241668e+11</td>\n",
       "      <td>3.016898e+05</td>\n",
       "    </tr>\n",
       "    <tr>\n",
       "      <th>6</th>\n",
       "      <td>Land</td>\n",
       "      <td>1.042472e+07</td>\n",
       "      <td>0.000000e+00</td>\n",
       "    </tr>\n",
       "    <tr>\n",
       "      <th>7</th>\n",
       "      <td>Office</td>\n",
       "      <td>3.907789e+07</td>\n",
       "      <td>2.561775e+05</td>\n",
       "    </tr>\n",
       "    <tr>\n",
       "      <th>8</th>\n",
       "      <td>Plot</td>\n",
       "      <td>2.765887e+07</td>\n",
       "      <td>2.708750e+05</td>\n",
       "    </tr>\n",
       "    <tr>\n",
       "      <th>9</th>\n",
       "      <td>Shop</td>\n",
       "      <td>4.774180e+06</td>\n",
       "      <td>2.803508e+05</td>\n",
       "    </tr>\n",
       "    <tr>\n",
       "      <th>10</th>\n",
       "      <td>Factory</td>\n",
       "      <td>0.000000e+00</td>\n",
       "      <td>3.767947e+05</td>\n",
       "    </tr>\n",
       "    <tr>\n",
       "      <th>11</th>\n",
       "      <td>Garage</td>\n",
       "      <td>0.000000e+00</td>\n",
       "      <td>2.784603e+03</td>\n",
       "    </tr>\n",
       "    <tr>\n",
       "      <th>12</th>\n",
       "      <td>Warehouse</td>\n",
       "      <td>0.000000e+00</td>\n",
       "      <td>1.842667e+05</td>\n",
       "    </tr>\n",
       "  </tbody>\n",
       "</table>\n",
       "</div>"
      ],
      "text/plain": [
       "   building_type_comb    price_sale    price_rent\n",
       "0           Apartment  2.573413e+09  6.832983e+06\n",
       "1            Building  7.466818e+07  1.138637e+08\n",
       "2    Commercial Space  6.967286e+07  0.000000e+00\n",
       "3              Duplex  4.528889e+07  2.824167e+05\n",
       "4               Floor  4.999938e+07  4.800843e+05\n",
       "5               House  1.241668e+11  3.016898e+05\n",
       "6                Land  1.042472e+07  0.000000e+00\n",
       "7              Office  3.907789e+07  2.561775e+05\n",
       "8                Plot  2.765887e+07  2.708750e+05\n",
       "9                Shop  4.774180e+06  2.803508e+05\n",
       "10            Factory  0.000000e+00  3.767947e+05\n",
       "11             Garage  0.000000e+00  2.784603e+03\n",
       "12          Warehouse  0.000000e+00  1.842667e+05"
      ]
     },
     "execution_count": 190,
     "metadata": {},
     "output_type": "execute_result"
    }
   ],
   "source": [
    "df_mean_price\n",
    "# df_mean_price.sort_values(by = ['price_sale'], ascending = False)"
   ]
  },
  {
   "cell_type": "code",
   "execution_count": 191,
   "id": "1e745aea",
   "metadata": {
    "scrolled": false
   },
   "outputs": [
    {
     "data": {
      "image/png": "[encoded data removed]",
      "text/plain": [
       "<Figure size 1440x576 with 2 Axes>"
      ]
     },
     "metadata": {
      "needs_background": "light"
     },
     "output_type": "display_data"
    }
   ],
   "source": [
    "fig, ax = plt.subplots(1,2)\n",
    "\n",
    "# First plot\n",
    "ax[0].barh(df_mean_price['building_type_comb'], df_mean_price['price_sale'])\n",
    "ax[0].set_title('For Sale')\n",
    "ax[0].set_xscale('log')\n",
    "ax[0].set_xlabel('Mean price in BDT (log scale)')\n",
    "\n",
    "\n",
    "# # Second plot\n",
    "ax[1].barh(df_mean_price['building_type_comb'], df_mean_price['price_rent'])\n",
    "ax[1].set_title('For Rent')\n",
    "ax[1].set_xscale('log')\n",
    "ax[1].set_xlabel('Mean price in BDT (log scale)')\n",
    "\n",
    "# Adjust the size of the figure\n",
    "fig.set_size_inches([20,8])\n",
    "\n",
    "plt.show()"
   ]
  },
  {
   "cell_type": "markdown",
   "id": "4509ec4e",
   "metadata": {},
   "source": [
    "<br>\n",
    "\n",
    "# Purpose\n"
   ]
  },
  {
   "cell_type": "code",
   "execution_count": 192,
   "id": "9e357bea",
   "metadata": {
    "scrolled": true
   },
   "outputs": [
    {
     "data": {
      "image/png": "[encoded data removed]",
      "text/plain": [
       "<Figure size 432x288 with 1 Axes>"
      ]
     },
     "metadata": {
      "needs_background": "light"
     },
     "output_type": "display_data"
    }
   ],
   "source": [
    "df_noAmenity['purpose'].value_counts().sort_index().plot(kind='bar')\n",
    "\n",
    "# Add labels and title\n",
    "plt.ylabel('Counts')\n",
    "plt.title('No. of properties: for Rent or Sale')\n",
    "plt.show()"
   ]
  },
  {
   "cell_type": "code",
   "execution_count": 193,
   "id": "182092b4",
   "metadata": {},
   "outputs": [],
   "source": [
    "df_noAmenity['building_type_comb'] = np.where(df_noAmenity['building_type_comb'].str.contains('Apartment'), \n",
    "                                          'Apartment', df_noAmenity['building_type_comb'])\n"
   ]
  },
  {
   "cell_type": "markdown",
   "id": "ed760e98",
   "metadata": {},
   "source": [
    "<br>\n",
    "\n",
    "# City\n"
   ]
  },
  {
   "cell_type": "code",
   "execution_count": 194,
   "id": "ed1fab6d",
   "metadata": {
    "scrolled": true
   },
   "outputs": [
    {
     "data": {
      "text/plain": [
       "Dhaka               29215\n",
       "Chattogram           3553\n",
       "Gazipur               465\n",
       "Narayanganj City      441\n",
       "Barishal              397\n",
       "                    ...  \n",
       "Sunamganj               2\n",
       "Jhalokati               1\n",
       "Pirojpur                1\n",
       "Gopalganj               1\n",
       "Lakshmipur              1\n",
       "Name: city, Length: 61, dtype: int64"
      ]
     },
     "execution_count": 194,
     "metadata": {},
     "output_type": "execute_result"
    }
   ],
   "source": [
    "df_noAmenity['city'].value_counts()"
   ]
  },
  {
   "cell_type": "code",
   "execution_count": 195,
   "id": "458a99df",
   "metadata": {},
   "outputs": [],
   "source": [
    "# Correct the typo: ' Dhaka' -> 'Dhaka'\n",
    "\n",
    "df_noAmenity['city'] = np.where(df_noAmenity['city'] == ' Dhaka', 'Dhaka', df_noAmenity['city'])\n"
   ]
  },
  {
   "cell_type": "code",
   "execution_count": 196,
   "id": "2c130bb6",
   "metadata": {
    "scrolled": false
   },
   "outputs": [
    {
     "data": {
      "text/plain": [
       "array(['Dhaka', 'Chattogram', 'Narayanganj City', 'Gazipur', 'Sylhet',\n",
       "       nan, 'Chittagong', 'Narayanganj', 'Pabna', 'Khulna', 'Jhenaidah',\n",
       "       'Rajshahi', 'Rangpur', 'Dinajpur', 'Kushtia', 'Bogura', 'Barishal',\n",
       "       'Thakurgaon', 'Manikganj', 'Barguna', 'Mymensingh', 'Faridpur',\n",
       "       'Narsingdi', 'Magura', 'Jamalpur', 'Feni', 'Madaripur', 'Jashore',\n",
       "       'Noakhali', 'Cumilla', 'Nawabganj', 'Tangail', 'Satkhira',\n",
       "       \"Cox's Bazar\", 'Gaibandha', 'Habiganj', 'Netrakona', 'Chandpur',\n",
       "       'Sherpur', 'Moulvibazar', 'Naogaon', 'Pirojpur', 'Panchagarh',\n",
       "       'Bandarban', 'Jhalokati', 'Bagerhat', 'Sirajganj', 'Shariatpur',\n",
       "       'Sunamganj', 'Patuakhali', 'Natore', 'Bhola', 'Rajbari',\n",
       "       'Joypurhat', 'Rangamati', 'Kishoreganj', 'Munshiganj',\n",
       "       'Brahmanbaria', 'Nilphamari', 'Gopalganj', 'Lakshmipur'],\n",
       "      dtype=object)"
      ]
     },
     "execution_count": 196,
     "metadata": {},
     "output_type": "execute_result"
    }
   ],
   "source": [
    "df_noAmenity['city'].unique()"
   ]
  },
  {
   "cell_type": "code",
   "execution_count": 197,
   "id": "016ba096",
   "metadata": {
    "scrolled": false
   },
   "outputs": [
    {
     "data": {
      "image/png": "[encoded data removed]",
      "text/plain": [
       "<Figure size 720x1440 with 2 Axes>"
      ]
     },
     "metadata": {
      "needs_background": "light"
     },
     "output_type": "display_data"
    }
   ],
   "source": [
    "ind = 6\n",
    "\n",
    "freq = df_noAmenity['city'].value_counts()[ind::-1]\n",
    "less_freq = df_noAmenity['city'].value_counts()[-1:ind:-1]\n",
    "\n",
    "fig = plt.figure()\n",
    "ax = fig.subplots(2, 1, height_ratios=[0.8, 4])\n",
    "\n",
    "# First plot\n",
    "ax[0].barh(freq.index, freq)\n",
    "ax[0].set_title('High property density cities')\n",
    "ax[0].set_xlabel('No. of properties (log scale)')\n",
    "ax[0].set_xscale('log')\n",
    "\n",
    "# # Second plot\n",
    "ax[1].barh(less_freq.index, less_freq)\n",
    "ax[1].set_title('Low property density cities')\n",
    "ax[1].set_xlabel('No. of properties')\n",
    "# ax[1].set_xscale('linear')\n",
    "\n",
    "# Adjust the size of the figure\n",
    "fig.set_size_inches([10,20])\n",
    "\n",
    "plt.show()"
   ]
  },
  {
   "cell_type": "markdown",
   "id": "7c9597b9",
   "metadata": {},
   "source": [
    "<br>\n",
    "\n",
    "# Locality\n"
   ]
  },
  {
   "cell_type": "code",
   "execution_count": 198,
   "id": "dd9700aa",
   "metadata": {
    "scrolled": true
   },
   "outputs": [
    {
     "data": {
      "text/plain": [
       "Mirpur             5262\n",
       "Bashundhara R-A    1405\n",
       "Uttara             1348\n",
       "Bashundhara RA     1236\n",
       "Mohammadpur        1064\n",
       "Dhanmondi          1035\n",
       "Banashree          1033\n",
       "Badda               987\n",
       "Baridhara           986\n",
       "Banani              890\n",
       "Name: locality, dtype: int64"
      ]
     },
     "execution_count": 198,
     "metadata": {},
     "output_type": "execute_result"
    }
   ],
   "source": [
    "df_noAmenity['locality'].value_counts()[:10]"
   ]
  },
  {
   "cell_type": "code",
   "execution_count": 199,
   "id": "ad624735",
   "metadata": {
    "scrolled": true
   },
   "outputs": [
    {
     "data": {
      "text/plain": [
       "array(['Khilgaon', 'Dhanmondi', 'Mirpur', 'Bashundhara R-A', 'Banasree',\n",
       "       'Banani', 'Uttara', 'Sutrapur', 'Gulshan', 'Badda', 'Rampura',\n",
       "       'Mohammadpur', 'Turag', 'Shyamoli', 'Ibrahimpur', 'Aftab Nagar',\n",
       "       'Baridhara', 'Bashabo', 'Khulshi', 'Agargaon', 'Tejgaon',\n",
       "       'Cantonment', 'Kalabagan', 'Adabor', '10 No. North Kattali Ward',\n",
       "       'Kakrail', 'Eskaton', nan, 'Kathalbagan', 'Nikunja', 'Hazaribag',\n",
       "       'Motijheel', 'Malibagh', 'Keraniganj', 'Bangshal', 'Shyampur',\n",
       "       'Demra', 'Maghbazar', 'Muradpur', 'Double Mooring', 'Kuril',\n",
       "       'Halishahar', '15 No. Bagmoniram Ward', 'Shiddheswari',\n",
       "       'Shahjahanpur', 'Jatra Bari', 'Dakshin Khan', 'New Market',\n",
       "       '9 No. North Pahartali Ward', '4 No Chandgaon Ward',\n",
       "       'Uttar Lalkhan', 'Bayazid', 'Mohakhali', 'Banani Dohs',\n",
       "       'Hatirpool', 'Lal Khan Bazaar', 'Purbachal', 'Sholokbahar',\n",
       "       'East Nasirabad', 'Panchlaish', 'Kafrul',\n",
       "       '33 No. Firingee Bazaar Ward', 'Bakalia', 'Lalbagh', 'Jamal Khan',\n",
       "       '22 No. Enayet Bazaar Ward', 'Uttar Khan', 'Kazir Dewri',\n",
       "       '16 No. Chawk Bazaar Ward', 'Savar', 'Narayanganj',\n",
       "       '11 No. South Kattali Ward', 'Lalmatia',\n",
       "       '7 No. West Sholoshohor Ward', 'Kotwali', '36 Goshail Danga Ward',\n",
       "       'Niketan', 'Gazipur Sadar Upazila', 'Fatulla', 'Maniknagar',\n",
       "       'Shantinagar', 'Mohakhali Dohs', 'Shegunbagicha', 'Kachukhet',\n",
       "       'North Shahjahanpur', 'Jalalabad Housing Society', 'Joar Sahara',\n",
       "       'Nadda', 'Taltola', 'Shahbagh', 'Khilkhet', 'Baridhara Dohs',\n",
       "       'Zafrabad', 'Chandra', '29 No. West Madarbari Ward',\n",
       "       '30 No. East Madarbari Ward', '31 No. Alkoron Ward',\n",
       "       'Shiddhirganj', 'Hathazari', 'Mugdapara', 'Dumni', 'Kamrangirchar',\n",
       "       'Railway Colony', 'Sreepur', 'Kalachandpur', 'Patenga',\n",
       "       '32 No. Andarkilla Ward', 'Zindabazar', 'Riaj Uddin Bazar',\n",
       "       'Banglamotors', 'Gulistan', 'Paribagh', 'Firojshah Colony',\n",
       "       'Sagorika Bscic Industrial Area', 'Ambarkhana',\n",
       "       'Bashundhara Riverview', 'North  Nandipara', 'South Banasree',\n",
       "       'Nandipara', 'Aftabnagar', 'Modhubag', 'Senpara Porbota', 'Bosila',\n",
       "       'East Rampura', 'Mugda', 'West Khulshi', 'Bashundhara R/A',\n",
       "       'West Rampura', 'Chawkbazar', 'Chandanpur', 'Bashundhara',\n",
       "       'Banglamotor', 'Mohammadpur ', 'Banashree', 'Bashundhara RA',\n",
       "       'Vatara ', 'Basabo', 'Paltan', 'Gandaria ', 'Jatrabari',\n",
       "       'Pallabi ', 'Gulshan 1', 'Wari', 'Uttara West', 'Karwan Bazar',\n",
       "       'Gulshan 2', 'Chattogram City', 'Farmgate', 'DOHS Mirpur',\n",
       "       'Lalbag', 'Uttara East', 'Gazipur Sadar', 'Dinajpur Sadar',\n",
       "       'Daskhinkhan', 'Rangpur City', 'Sylhet City', 'Kushtia Sadar',\n",
       "       'Bogura Sadar', 'Barishal City', 'Rajshahi City',\n",
       "       'Thakurgaon Sadar', 'Manikganj Sadar', 'Khulna City',\n",
       "       'Barguna Sadar', 'DOHS Mohakhali', 'DOHS Baridhara', 'Ramna',\n",
       "       'Moghbazar', 'Mugda Para', 'Sabujbag', 'DOHS Banani',\n",
       "       'Tejgaon I/A', 'Mymensingh City', 'Sher E Bangla Nagar ',\n",
       "       'Faridpur Sadar', 'Narsingdi Sadar', 'Airport', 'Kaliakair',\n",
       "       'Magura Sadar', 'Jamalpur Sadar', 'Chhagalnaiya', 'Rupganj',\n",
       "       'Kalkini', 'Shahbag ', 'Tongi', 'Belabo', 'Jashore Sadar',\n",
       "       'Noakhali Sadar', 'Hazaribag ', 'Kadamtali', 'Kallaynpur',\n",
       "       'Rupnagar', 'Nangalkot', 'Kamrangir Char', 'Chapainawabganj Sadar',\n",
       "       'Uttarkhan', 'Ghatail', 'Shah Ali', 'Kaliganj', 'Bhaluka',\n",
       "       'Satkhira Sadar', \"Cox's Bazar Sadar\", 'Tarakanda', 'Sakhipur',\n",
       "       'Gaibandha Sadar', 'Mirsharai', 'Chunarughat', 'Rajoir',\n",
       "       'Pabna Sadar', 'Tangail Sadar', 'Netrokona Sadar', 'Ranisankail',\n",
       "       'Cumilla City', 'Feni Sadar', 'Taltali', 'Chandpur Sadar',\n",
       "       'Bandar', 'Sitakunda', 'Sherpur Sadar', 'Dohar ', 'Sarishabari',\n",
       "       'Moulvibazar Sadar', 'Naogaon Sadar', 'Boalmari', 'Bhandaria',\n",
       "       'Panchagarh Sadar', 'Shyampur ', 'Singiar', 'Bandarban Sadar',\n",
       "       'Jaintiapur', 'Jhalakathi Sadar', 'Jhenaidah Sadar', 'Mongla',\n",
       "       'Sreemangal', 'Sirajganj Sadar', 'Shariatpur Sadar',\n",
       "       'Sunamganj Sadar', 'Patuakhali Sadar', 'Natore Sadar',\n",
       "       'Bagerhat Sadar', 'Chauddagram', 'Bhola Sadar', 'Sonargaon',\n",
       "       'Araihazar', 'Shajahanpur', 'Dhamrai', 'Rajbari Sadar',\n",
       "       'Dakshinsurma', 'Akkelpur', 'Digholia', 'Rajasthali', 'Lalpur',\n",
       "       'Bhairab', 'Bagha', 'Puthia', 'Rupsha', 'Fenchuganj', 'Debidwar',\n",
       "       'Fulbaria', 'Gajaria', 'Munshiganj Sadar', 'Botiaghata',\n",
       "       'Birampur', 'Pakundia', 'Bhashantek ', 'Shibpur', 'Kalapara',\n",
       "       'Tetulia', 'Kamarkhand', 'Fakirhat', 'Brahmanbaria Sadar',\n",
       "       'Nilphamari Sadar', 'Habiganj Sadar', 'Joypurhat Sadar',\n",
       "       'Ullapara', 'Chack Bazar', 'Banshkhali', 'Boalkhali', 'Karnafuli',\n",
       "       'Gopalganj Sadar', 'Muktagacha', 'Madaripur Sadar',\n",
       "       'Lakshmipur Sadar', 'Siddeshwari', 'Shahjadpur'], dtype=object)"
      ]
     },
     "execution_count": 199,
     "metadata": {},
     "output_type": "execute_result"
    }
   ],
   "source": [
    "df_noAmenity['locality'].unique()"
   ]
  },
  {
   "cell_type": "code",
   "execution_count": 200,
   "id": "cdbd5faf",
   "metadata": {
    "scrolled": false
   },
   "outputs": [
    {
     "data": {
      "image/png": "[encoded data removed]",
      "text/plain": [
       "<Figure size 1440x720 with 2 Axes>"
      ]
     },
     "metadata": {
      "needs_background": "light"
     },
     "output_type": "display_data"
    }
   ],
   "source": [
    "ind = 30\n",
    "\n",
    "freq_rent = df_noAmenity[df_noAmenity['purpose'] == 'Rent']['locality'].value_counts()[ind::-1]\n",
    "freq_sale = df_noAmenity[df_noAmenity['purpose'] == 'Sale']['locality'].value_counts()[ind::-1]\n",
    "# less_freq = df_noAmenity['city'].value_counts()[-1:ind:-1]\n",
    "\n",
    "\n",
    "# freq = freq_sale\n",
    "\n",
    "fig = plt.figure()\n",
    "ax = fig.subplots(1,2)\n",
    "\n",
    "# First plot\n",
    "ax[0].barh(freq_rent.index, freq_rent)\n",
    "ax[0].set_title('Top 30 high density localities (for Rent)')\n",
    "ax[0].set_xlabel('No. of properties')\n",
    "# ax.set_xscale('log')\n",
    "\n",
    "# Second plot\n",
    "ax[1].barh(freq_sale.index, freq_sale)\n",
    "ax[1].set_title('Top 30 high density localities (for Sale)')\n",
    "ax[1].set_xlabel('No. of properties')\n",
    "# ax.set_xscale('log')\n",
    "\n",
    "# Adjust the size of the figure\n",
    "fig.set_size_inches([20,10])\n",
    "\n",
    "plt.show()"
   ]
  }
 ],
 "metadata": {
  "kernelspec": {
   "display_name": "Python 3 (ipykernel)",
   "language": "python",
   "name": "python3"
  },
  "language_info": {
   "codemirror_mode": {
    "name": "ipython",
    "version": 3
   },
   "file_extension": ".py",
   "mimetype": "text/x-python",
   "name": "python",
   "nbconvert_exporter": "python",
   "pygments_lexer": "ipython3",
   "version": "3.9.6"
  }
 },
 "nbformat": 4,
 "nbformat_minor": 5
}
