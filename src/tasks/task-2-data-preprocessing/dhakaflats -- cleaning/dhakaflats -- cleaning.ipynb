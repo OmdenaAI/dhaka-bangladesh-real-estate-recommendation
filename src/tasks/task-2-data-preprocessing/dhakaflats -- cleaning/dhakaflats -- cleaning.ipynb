{
 "cells": [
  {
   "cell_type": "code",
   "execution_count": null,
   "id": "7aab3316",
   "metadata": {},
   "outputs": [],
   "source": []
  },
  {
   "cell_type": "markdown",
   "id": "484e50b9",
   "metadata": {},
   "source": [
    "# Table of content\n",
    "\n",
    "1. [dhakaflats_dfassessment](#dhakaflats_df-assessment) -> [Report summary](#assessment-report)\n",
    "1. [dhakaflats_df cleaning](#dhakaflats_df-cleaning)"
   ]
  },
  {
   "cell_type": "code",
   "execution_count": 1,
   "id": "3aeb3a38",
   "metadata": {},
   "outputs": [],
   "source": [
    "import pandas as pd\n",
    "import numpy as np\n",
    "\n",
    "import matplotlib.pyplot as plt\n",
    "\n",
    "from googletrans import Translator, constants # https://www.thepythoncode.com/article/translate-text-in-python\n",
    "from slugify import slugify\n",
    "import os\n",
    "\n",
    "%matplotlib inline"
   ]
  },
  {
   "cell_type": "code",
   "execution_count": null,
   "id": "a2b9d70f",
   "metadata": {},
   "outputs": [],
   "source": []
  },
  {
   "cell_type": "markdown",
   "id": "c42b9d91",
   "metadata": {},
   "source": [
    "# create a translator object\n",
    "translator = Translator()\n",
    "\n",
    "# translate a spanish text to english text (by default)\n",
    "translation = translator.translate(\"Hola Mundo\")\n",
    "\n",
    "print(f\"{translation.origin} ({translation.src}) --> {translation.text} ({translation.dest})\")\n"
   ]
  },
  {
   "cell_type": "code",
   "execution_count": null,
   "id": "de356efb",
   "metadata": {},
   "outputs": [],
   "source": []
  },
  {
   "cell_type": "code",
   "execution_count": 2,
   "id": "4153854b",
   "metadata": {},
   "outputs": [],
   "source": [
    "# CSV folders\n",
    "\n",
    "raw_data_folder=\"../../../data/Raw_Data\"\n",
    "cleaned_data_folder=\"../../../data/CLeaned_Data\"\n",
    "\n",
    "dhakaflats_folder= f\"{raw_data_folder}/dhakaflats_spider\"\n",
    "cleaned_dhakaflats_folder= f\"{cleaned_data_folder}/dhakaflats\""
   ]
  },
  {
   "cell_type": "code",
   "execution_count": null,
   "id": "742bc66a",
   "metadata": {},
   "outputs": [],
   "source": []
  },
  {
   "cell_type": "code",
   "execution_count": null,
   "id": "b0a0b235",
   "metadata": {},
   "outputs": [],
   "source": []
  },
  {
   "cell_type": "markdown",
   "id": "820a1578",
   "metadata": {},
   "source": [
    "# <span id=\"dhakaflats_df-assessment\"> </span>\n",
    "\n",
    "## Assessing `dhakaflats_spider_2023-04-07`"
   ]
  },
  {
   "cell_type": "code",
   "execution_count": 3,
   "id": "13555204",
   "metadata": {},
   "outputs": [
    {
     "data": {
      "text/html": [
       "<div>\n",
       "<style scoped>\n",
       "    .dataframe tbody tr th:only-of-type {\n",
       "        vertical-align: middle;\n",
       "    }\n",
       "\n",
       "    .dataframe tbody tr th {\n",
       "        vertical-align: top;\n",
       "    }\n",
       "\n",
       "    .dataframe thead th {\n",
       "        text-align: right;\n",
       "    }\n",
       "</style>\n",
       "<table border=\"1\" class=\"dataframe\">\n",
       "  <thead>\n",
       "    <tr style=\"text-align: right;\">\n",
       "      <th></th>\n",
       "      <th>0</th>\n",
       "      <th>1</th>\n",
       "      <th>2</th>\n",
       "      <th>3</th>\n",
       "      <th>4</th>\n",
       "    </tr>\n",
       "  </thead>\n",
       "  <tbody>\n",
       "    <tr>\n",
       "      <th>name</th>\n",
       "      <td>৮৫০ বর্গফুট এর ফ্লাট @ মগবাজার</td>\n",
       "      <td>1500 sft flat @ Uttara 11</td>\n",
       "      <td>3 bed + 3 bath + 1 family space + 2 balconies ...</td>\n",
       "      <td>Mr</td>\n",
       "      <td>Flat ready to Construction by land owner</td>\n",
       "    </tr>\n",
       "    <tr>\n",
       "      <th>location</th>\n",
       "      <td>Dhaka, Maghbazar</td>\n",
       "      <td>Dhaka, Uttara</td>\n",
       "      <td>Dhaka, MohakhaliDOHS</td>\n",
       "      <td>Dhaka, Dhanmondi</td>\n",
       "      <td>Dhaka, Mirpur</td>\n",
       "    </tr>\n",
       "    <tr>\n",
       "      <th>price</th>\n",
       "      <td>Tk.6,000.00</td>\n",
       "      <td>Tk.6,000.00</td>\n",
       "      <td>Tk.60,000.00</td>\n",
       "      <td>Tk.25,000.00</td>\n",
       "      <td>Tk.4,500,000.00</td>\n",
       "    </tr>\n",
       "    <tr>\n",
       "      <th>property_description</th>\n",
       "      <td>০১৮৪২৪১২০৮৯\\n১. হস্তান্তর জুন ২০১৮ ইং \\n২. ৮ম ...</td>\n",
       "      <td>3 bed 3 bath lift generator and 1 garage near ...</td>\n",
       "      <td>The apartment is in the heart of New D.O.H.S, ...</td>\n",
       "      <td>I am Mohamed ibrahim from india and working in...</td>\n",
       "      <td>1050 sqf. flat ready to construction @ mirpur-...</td>\n",
       "    </tr>\n",
       "    <tr>\n",
       "      <th>date_posted</th>\n",
       "      <td>Jan 22, 2018</td>\n",
       "      <td>8 hours  ago</td>\n",
       "      <td>2 days  ago</td>\n",
       "      <td>3 days  ago</td>\n",
       "      <td>3 days  ago</td>\n",
       "    </tr>\n",
       "    <tr>\n",
       "      <th>purpose</th>\n",
       "      <td>Flats For Sale</td>\n",
       "      <td>Flats For Sale</td>\n",
       "      <td>Flats for Rent</td>\n",
       "      <td>Flats for Rent</td>\n",
       "      <td>Flats For Sale</td>\n",
       "    </tr>\n",
       "    <tr>\n",
       "      <th>url</th>\n",
       "      <td>http://dhakaflats.com/details.php?id=1&amp;search_...</td>\n",
       "      <td>http://dhakaflats.com/details.php?id=16&amp;search...</td>\n",
       "      <td>http://dhakaflats.com/details.php?id=5&amp;search_...</td>\n",
       "      <td>http://dhakaflats.com/details.php?id=35&amp;search...</td>\n",
       "      <td>http://dhakaflats.com/details.php?id=3&amp;search_...</td>\n",
       "    </tr>\n",
       "    <tr>\n",
       "      <th>date_crawled</th>\n",
       "      <td>2023-04-07</td>\n",
       "      <td>2023-04-07</td>\n",
       "      <td>2023-04-07</td>\n",
       "      <td>2023-04-07</td>\n",
       "      <td>2023-04-07</td>\n",
       "    </tr>\n",
       "  </tbody>\n",
       "</table>\n",
       "</div>"
      ],
      "text/plain": [
       "                                                                      0  \\\n",
       "name                                     ৮৫০ বর্গফুট এর ফ্লাট @ মগবাজার   \n",
       "location                                               Dhaka, Maghbazar   \n",
       "price                                                       Tk.6,000.00   \n",
       "property_description  ০১৮৪২৪১২০৮৯\\n১. হস্তান্তর জুন ২০১৮ ইং \\n২. ৮ম ...   \n",
       "date_posted                                                Jan 22, 2018   \n",
       "purpose                                                  Flats For Sale   \n",
       "url                   http://dhakaflats.com/details.php?id=1&search_...   \n",
       "date_crawled                                                 2023-04-07   \n",
       "\n",
       "                                                                      1  \\\n",
       "name                                          1500 sft flat @ Uttara 11   \n",
       "location                                                  Dhaka, Uttara   \n",
       "price                                                       Tk.6,000.00   \n",
       "property_description  3 bed 3 bath lift generator and 1 garage near ...   \n",
       "date_posted                                                8 hours  ago   \n",
       "purpose                                                  Flats For Sale   \n",
       "url                   http://dhakaflats.com/details.php?id=16&search...   \n",
       "date_crawled                                                 2023-04-07   \n",
       "\n",
       "                                                                      2  \\\n",
       "name                  3 bed + 3 bath + 1 family space + 2 balconies ...   \n",
       "location                                           Dhaka, MohakhaliDOHS   \n",
       "price                                                      Tk.60,000.00   \n",
       "property_description  The apartment is in the heart of New D.O.H.S, ...   \n",
       "date_posted                                                 2 days  ago   \n",
       "purpose                                                  Flats for Rent   \n",
       "url                   http://dhakaflats.com/details.php?id=5&search_...   \n",
       "date_crawled                                                 2023-04-07   \n",
       "\n",
       "                                                                      3  \\\n",
       "name                                                                 Mr   \n",
       "location                                               Dhaka, Dhanmondi   \n",
       "price                                                      Tk.25,000.00   \n",
       "property_description  I am Mohamed ibrahim from india and working in...   \n",
       "date_posted                                                 3 days  ago   \n",
       "purpose                                                  Flats for Rent   \n",
       "url                   http://dhakaflats.com/details.php?id=35&search...   \n",
       "date_crawled                                                 2023-04-07   \n",
       "\n",
       "                                                                      4  \n",
       "name                           Flat ready to Construction by land owner  \n",
       "location                                                  Dhaka, Mirpur  \n",
       "price                                                   Tk.4,500,000.00  \n",
       "property_description  1050 sqf. flat ready to construction @ mirpur-...  \n",
       "date_posted                                                 3 days  ago  \n",
       "purpose                                                  Flats For Sale  \n",
       "url                   http://dhakaflats.com/details.php?id=3&search_...  \n",
       "date_crawled                                                 2023-04-07  "
      ]
     },
     "execution_count": 3,
     "metadata": {},
     "output_type": "execute_result"
    }
   ],
   "source": [
    "dhakaflats_df=pd.read_csv(f\"{dhakaflats_folder}/jeisoy_dhakaflats_spider_2023-04-07.csv\")\n",
    "dhakaflats_df = dhakaflats_df.rename(columns={'title': 'name','rent': 'price', 'description': 'property_description', 'category': 'purpose'})\n",
    "\n",
    "dhakaflats_df.head().T"
   ]
  },
  {
   "cell_type": "markdown",
   "id": "72916edc",
   "metadata": {},
   "source": [
    "`property_overview` & `property_overview` has some samples not enlish. These needs to be translated to english (Quality issue)"
   ]
  },
  {
   "cell_type": "code",
   "execution_count": null,
   "id": "824f47d4",
   "metadata": {},
   "outputs": [],
   "source": []
  },
  {
   "cell_type": "code",
   "execution_count": 4,
   "id": "633f7f13",
   "metadata": {},
   "outputs": [
    {
     "data": {
      "text/plain": [
       "(229, 8)"
      ]
     },
     "execution_count": 4,
     "metadata": {},
     "output_type": "execute_result"
    }
   ],
   "source": [
    "dhakaflats_df.shape"
   ]
  },
  {
   "cell_type": "code",
   "execution_count": null,
   "id": "a4118e5c",
   "metadata": {},
   "outputs": [],
   "source": []
  },
  {
   "cell_type": "code",
   "execution_count": 5,
   "id": "81543301",
   "metadata": {},
   "outputs": [
    {
     "name": "stdout",
     "output_type": "stream",
     "text": [
      "<class 'pandas.core.frame.DataFrame'>\n",
      "RangeIndex: 229 entries, 0 to 228\n",
      "Data columns (total 8 columns):\n",
      " #   Column                Non-Null Count  Dtype \n",
      "---  ------                --------------  ----- \n",
      " 0   name                  229 non-null    object\n",
      " 1   location              227 non-null    object\n",
      " 2   price                 218 non-null    object\n",
      " 3   property_description  229 non-null    object\n",
      " 4   date_posted           229 non-null    object\n",
      " 5   purpose               229 non-null    object\n",
      " 6   url                   229 non-null    object\n",
      " 7   date_crawled          229 non-null    object\n",
      "dtypes: object(8)\n",
      "memory usage: 14.4+ KB\n"
     ]
    }
   ],
   "source": [
    "dhakaflats_df.info()"
   ]
  },
  {
   "cell_type": "code",
   "execution_count": null,
   "id": "ecd84c41",
   "metadata": {},
   "outputs": [],
   "source": []
  },
  {
   "cell_type": "code",
   "execution_count": 6,
   "id": "1e4e9861",
   "metadata": {},
   "outputs": [
    {
     "data": {
      "text/plain": [
       "array(['Tk.6,000.00', 'Tk.60,000.00', 'Tk.25,000.00', 'Tk.4,500,000.00',\n",
       "       'Tk.87,000.00', 'Tk.4,500.00', 'Tk.62.00', 'Tk.4,600,000.00',\n",
       "       'Tk.55,000.00', 'Tk.7,500,000.00', 'Tk.495,000,000.00',\n",
       "       'Tk.13,000.00', 'Tk.6,500.00', 'Tk.3,600,000.00', 'Tk.14,000.00',\n",
       "       'Tk.3,900,000.00', 'Tk.4,000,000.00', 'Tk.5,500,000.00',\n",
       "       'Tk.3,500,000.00', 'Tk.11,700.00', 'Tk.8,600.00',\n",
       "       'Tk.4,700,000.00', 'Tk.20,000.00', 'Tk.150.00', 'Tk.3,000.00',\n",
       "       'Tk.7,000.00', 'Tk.15,000.00', 'Tk.4,000.00', 'Tk.50,000.00',\n",
       "       'Tk.120,000.00', 'Tk.13,000,000.00', 'Tk.2,000.00', 'Tk.36,000.00',\n",
       "       'Tk.27,000.00', 'Tk.6,250,000.00', nan, 'Tk.5,800,000.00',\n",
       "       'Tk.35,000.00', 'Tk.19,000.00', 'Tk.7,800,000.00', 'Tk.22,000.00',\n",
       "       'Tk.8,500.00', 'Tk.2,250,000.00', 'Tk.28,000.00', 'Tk.0.50',\n",
       "       'Tk.3,800.00', 'Tk.5,000.00', 'Tk.2,200,000.00', 'Tk.5,500.00',\n",
       "       'Tk.2,600,000.00', 'Tk.3,300.00', 'Tk.6,000,000.00',\n",
       "       'Tk.1,800,000.00', 'Tk.37,000.00', 'Tk.11,800.00', 'Tk.1,000.00',\n",
       "       'Tk.12,000.00', 'Tk.110,000.00', 'Tk.30,000.00', 'Tk.8,250,000.00',\n",
       "       'Tk.16,500.00', 'Tk.7,600,000.00', 'Tk.14,500.00', 'Tk.600,000.00',\n",
       "       'Tk.8,000.00', 'Tk.75,000,000.00', 'Tk.6,500,000.00',\n",
       "       'Tk.5,200.00', 'Tk.12,500,000.00', 'Tk.90,000.00', 'Tk.9,000.00',\n",
       "       'Tk.18,000.00', 'Tk.5,400.00', 'Tk.16,000.00', 'Tk.4,550,000.00',\n",
       "       'Tk.33,000,000.00', 'Tk.36,000,000.00', 'Tk.5,800.00',\n",
       "       'Tk.3,500.00', 'Tk.3,200,000.00', 'Tk.75,000.00', 'Tk.85,000.00',\n",
       "       'Tk.24,000.00', 'Tk.6,200,000.00', 'Tk.26,500.00', 'Tk.1.00',\n",
       "       'Tk.9,200,000.00', 'Tk.1,250.00', 'Tk.4,200.00', 'Tk.9,500.00',\n",
       "       'Tk.3,700,000.00', 'Tk.80,000.00', 'Tk.3,375.00', 'Tk.17,000.00',\n",
       "       'Tk.95,000.00', 'Tk.3,000,000.00', 'Tk.1,200.00',\n",
       "       'Tk.8,800,000.00', 'Tk.6,800.00', 'Tk.10,910.00', 'Tk.110.00',\n",
       "       'Tk.900,000.00', 'Tk.200,000.00', 'Tk.8,400,000.00',\n",
       "       'Tk.8,000,000.00', 'Tk.4,600.00', 'Tk.6,300.00', 'Tk.8,700.00',\n",
       "       'Tk.800.00', 'Tk.10,000,000.00', 'Tk.3,800,000.00'], dtype=object)"
      ]
     },
     "execution_count": 6,
     "metadata": {},
     "output_type": "execute_result"
    }
   ],
   "source": [
    "dhakaflats_df[\"price\"].unique()"
   ]
  },
  {
   "cell_type": "markdown",
   "id": "c6b2565b",
   "metadata": {},
   "source": [
    "* `price` should be decimal, not string"
   ]
  },
  {
   "cell_type": "code",
   "execution_count": null,
   "id": "6102b1ec",
   "metadata": {},
   "outputs": [],
   "source": []
  },
  {
   "cell_type": "code",
   "execution_count": 7,
   "id": "0d3fc8e7",
   "metadata": {},
   "outputs": [
    {
     "data": {
      "text/plain": [
       "'০১৮৪২৪১২০৮৯\\n১. হস্তান্তর জুন ২০১৮ ইং \\n২. ৮ম তলায়\\nঠিকানা:১০/আই/ ১, মিরবাগ নতুন রাস্তা, মিরবাগ মোড়, মগবাজার,ঢাকা।\\nবেড:২\\nবাথ:২\\nফ্ল্যাটের আয়তন:৮...'"
      ]
     },
     "execution_count": 7,
     "metadata": {},
     "output_type": "execute_result"
    }
   ],
   "source": [
    "dhakaflats_df[\"property_description\"][0]"
   ]
  },
  {
   "cell_type": "code",
   "execution_count": 8,
   "id": "345d9ece",
   "metadata": {},
   "outputs": [
    {
     "data": {
      "text/plain": [
       "'Handover june, 2020\\n9 Storied building\\n7th floor\\nFlat area 990 sft\\n2 Bed, 2 Bath,2Veranda\\nKitchen, Drawing, Dinning\\nAddress-House-18, Road-4,...'"
      ]
     },
     "execution_count": 8,
     "metadata": {},
     "output_type": "execute_result"
    }
   ],
   "source": [
    "dhakaflats_df[\"property_description\"][15]"
   ]
  },
  {
   "cell_type": "code",
   "execution_count": null,
   "id": "c2192244",
   "metadata": {},
   "outputs": [],
   "source": []
  },
  {
   "cell_type": "code",
   "execution_count": 9,
   "id": "8fd558b4",
   "metadata": {},
   "outputs": [
    {
     "data": {
      "text/plain": [
       "'৮৫০ বর্গফুট এর ফ্লাট @ মগবাজার'"
      ]
     },
     "execution_count": 9,
     "metadata": {},
     "output_type": "execute_result"
    }
   ],
   "source": [
    "dhakaflats_df[\"name\"][0]"
   ]
  },
  {
   "cell_type": "code",
   "execution_count": 10,
   "id": "a2f64764",
   "metadata": {},
   "outputs": [
    {
     "data": {
      "text/plain": [
       "'flat to let for commercial'"
      ]
     },
     "execution_count": 10,
     "metadata": {},
     "output_type": "execute_result"
    }
   ],
   "source": [
    "dhakaflats_df[\"name\"][150]"
   ]
  },
  {
   "cell_type": "code",
   "execution_count": null,
   "id": "9817bdef",
   "metadata": {},
   "outputs": [],
   "source": []
  },
  {
   "cell_type": "code",
   "execution_count": 11,
   "id": "444aa1e8",
   "metadata": {},
   "outputs": [
    {
     "data": {
      "text/plain": [
       "Flats For Sale       126\n",
       "Flats for Rent        93\n",
       "Agents & Services      5\n",
       "Sublets                5\n",
       "Name: purpose, dtype: int64"
      ]
     },
     "execution_count": 11,
     "metadata": {},
     "output_type": "execute_result"
    }
   ],
   "source": [
    "property_per_purpose = dhakaflats_df[\"purpose\"].value_counts()\n",
    "property_per_purpose"
   ]
  },
  {
   "cell_type": "code",
   "execution_count": 12,
   "id": "b1a29bda",
   "metadata": {},
   "outputs": [
    {
     "data": {
      "image/png": "[encoded data removed]",
      "text/plain": [
       "<Figure size 640x480 with 1 Axes>"
      ]
     },
     "metadata": {},
     "output_type": "display_data"
    }
   ],
   "source": [
    "property_per_purpose.plot(kind=\"bar\")\n",
    "plt.xlabel(\"Properties tag\")\n",
    "plt.ylabel(\"Count\")\n",
    "plt.title(\"Properties count\");"
   ]
  },
  {
   "cell_type": "code",
   "execution_count": null,
   "id": "30ca0656",
   "metadata": {},
   "outputs": [],
   "source": []
  },
  {
   "cell_type": "markdown",
   "id": "14672eb3",
   "metadata": {},
   "source": [
    "<span id=\"assessment-report\"> </span>\n",
    "\n",
    "#### Assessment report summary\n",
    "\n",
    "##### Quality issues\n",
    "1. `Name` has some samples not en English. Those samples should be translated to English\n",
    "1. `Description` has samples that are not en English. Those samples should be translated to English. (quality issue)\n",
    "1. `Date posted` should be of type datetime, not str. Needs to check also those with 8 hours and 2 days ago entries\n",
    "1. `Price` should be of type float, not str.\n",
    "1. `Purpose` should have Rent or Sale as values. This is not really an issue, its goal is only to keep values consistent accross all cleaned datasets.\n",
    "\n",
    "\n",
    "##### Tidiness issues\n",
    "1. `location` should be splitted to `city` and `address`. (tidiness issue)\n",
    "1. Column names should become lowercase for consistency with the other datasets cleaned. (tidiness issue)"
   ]
  },
  {
   "cell_type": "code",
   "execution_count": null,
   "id": "1e0380a7",
   "metadata": {},
   "outputs": [],
   "source": []
  },
  {
   "cell_type": "markdown",
   "id": "fe9e30f0",
   "metadata": {},
   "source": [
    "<span id=\"dhakaflats_df-cleaning\"> </span>\n",
    "\n",
    "## Cleaning `dhakaflats`"
   ]
  },
  {
   "cell_type": "markdown",
   "id": "d145061e",
   "metadata": {},
   "source": [
    "###  `Name` has some samples not en English ( [quality issues #1 & #2](#assessment-report) )\n",
    "\n",
    "`Name` and `Description` have some samples not en English. Those samples should be translated to English."
   ]
  },
  {
   "cell_type": "code",
   "execution_count": null,
   "id": "18affaed",
   "metadata": {},
   "outputs": [],
   "source": []
  },
  {
   "cell_type": "code",
   "execution_count": 13,
   "id": "c3489512",
   "metadata": {},
   "outputs": [
    {
     "name": "stdout",
     "output_type": "stream",
     "text": [
      "Flat of 850 sq. ft @ Mogbazar\n"
     ]
    }
   ],
   "source": [
    "from translate import Translator\n",
    "\n",
    "# initialize the translator with the source and destination languages\n",
    "translator= Translator(to_lang=\"en\", from_lang=\"bn\")\n",
    "\n",
    "# translate a Bengali text to English text\n",
    "translation = translator.translate(\"৮৫০ বর্গফুট এর ফ্লাট @ মগবাজার\")\n",
    "print(translation)\n",
    "#print(f\"{translation.origin} ({translation.src}) --> {translation.text} ({translation.dest})\")"
   ]
  },
  {
   "cell_type": "code",
   "execution_count": 14,
   "id": "97200b24",
   "metadata": {},
   "outputs": [
    {
     "name": "stdout",
     "output_type": "stream",
     "text": [
      "['Flat of 850 sq. ft @ Mogbazar', '1500 sft flat @ Uttara 11', '3 Bed + 3 Bath + 1 Family space + 2 Balconies rent in New D.O.H.S', 'mr', 'Flat ready to build by land owner', 'Flat rent for short term and long term', 'Uttara-12 3Bed/ 3 Bath 1560 Sqft for sale', 'sayed vila', 'flat for sale in Dhanmondi', '700 sft ready for sale at #Mohammadpur', 'Apartment Rent for Office in Uttara', 'Two 1250 sqft, 3 Bed Apartments for Sale at Aftab Nagar', '33 Katha Residential Plot for Sale @ Boro Maghbazar', 'New 3000 Sqft. 4 Bedroom, 5 Bathroom Luxurious Apartment by Navana for Sale - Sobanbhag, Dhanmondi', 'New Flat Sale @ West Dhanmondi', 'Unable to open', 'Flat rent at Khilgao', 'URGENT flat SEL (PERSONALLY) AT armour, MIRPUR , DHAKA.', \"1100sqft flat near Prime minister's office\", 'Flat', '1070 sft of ready-flats will be sold.', '8600 sft commercial space at Western PanthanianBASH, Panthapath', 'Modern Flat in Scenic Mirpur DOHS', 'Flat  for sale near Hatirjheel', 'Flat Rent for Family from April, 2020', 'Investor urgently looking for positive investment opportunitiesunituy', 'Investor urgently looking for positive investment opportunities', 'New Flat Sale @West Dhanmondi', '1200 Sft. Flat Rent, Matuail', 'Room or Seat rental for female in Uttara', 'Exclusive Apartment For Rent Banani', 'Beautiful Open Office Space For Rent Banani', '1850 sqft Ready flats in Bashundhara for sale ASAP. Price is Negotiable', '100% Fast SSD Chemicals Solution And Activcation Powder  To Cean All Notes WhatsApp… .35796329543', 'Uttara Sector 4 - 1580 ft Corner Apt. For rent', 'Beautiful, bright flat for rent in Gulshan-1', 'Sophisticated Family Flat to Rent at Madiba Pragati Sarni Main Road', '4th Floor', '947 sft Flat at 14 Chamelibagh, Shantinagar.', 'Buy Romanian Passport ,Driver License and ID Cards Online Email US AT : robej134@gmail.com', \"Buy Driver's License & Passport Online Email US AT : robej134@gmail.com\", 'Buy Romanian Passport ,Driver License and ID Cards Online Email US AT : robej134@gmail.com', 'Used flat for sale', 'Used flat for sale', 'Only for family', 'Tolet Uttara Sector10 (Kamarpara , Ranavola Road) 3 Bed ,3 Balcony 3 Toilet ( watch video in bell...', 'Newly Build Sale A flat house', 'Small Family House', 'Flat for Rent at Prime Location', 'Exclusive 3 Bed Semi furnished apartment', '2100sft 4Bed Gym, Swimmingpul,Community Hall,Roof Top Garden Bashundhara', 'Flat share selll', '1400+ Sqft Flat for Rent (Near Farmgate)', '1100 Square Feet Flat Sale at Cheap Price', 'Job Holder Flat January 1', 'Ready flat uttara', 'Astha Female Hostel', 'Furnished Flat For Rent', '1000sft Ready Flat at Mohammadpur', '1600 sft used flat at Uttar Badda', 'Ruposhi Garden Flats', 'Flat rent at Prominent Housing, Shekertak Rd 3, Adabor (service charge+gas included in house rent)', 'Sublet For Female in Uttara', 'Ready Flat Sale, Mirpur-10', 'Proprietary Flat Mirpur-13,Dhaka-1216', 'URGENT Flat for Sale', 'Decorated Flat Sale', 'Small flat sale at low price (Gonotulle Lane, Azimpur, Dhaka)', 'Office / Flat for rent at Mirpur DOHS main road', 'Rupayan Lake Castle.', '1585 SqFt Flat Rent in Uttara Sector 6 Near House building bus stop', 'Flat tolet in Niketan, Gulshan', 'Buy High Quality Real Registered Passports, Driver Licenses, ID Cards, IELTS, Birth Certificates...', 'Flat For Sell at Shantinagar Dhaka', 'Flat TO let', 'Large four bedroom flat to let in DOHS Banani', 'Family Basai Sublet vara dia hobe', \"Buy Passport , Driver's License,ID Card ,Visas , USA Green Card , Fake Money , Bank Notes , SSN...\", 'Flat for rent in Bashundhara B-B Block', '1585 sqft Apartment in Pallabi, Urgent sale', 'Female subfolder', 'Rent Flat Shewrapara', 'Small (950 Sft) flat with parking facilities in prime location', 'Nice Flat For Rent In Shyamoli', 'Used (7 years) Flat Sale ‘Prime Rose’, House # 4, Road # 1, Nobodoy R/A, Block#D, Mohammadpur', 'Sale of Flat in Sulve', 'Chandrima Model Town, Mohammadpur 1000 Square Feet Flat Parts Cell', 'Duplex Flat', '5 Storied (whole) building for Rent', 'Modern flat/office/mes will be rented', '2400SFT Lake View Flat for Rent', 'Apartment in Gulshan 2 - 3950 Sqft', 'Urgent Flat Sale. Apartment Sale', 'almost ready flat at 4th Flore', \"Bashundhara 300'Road Park adjacent and Sanidel school with 2,200 bigh feet 4 beds\", '1800sft Beautiful Apartment For Rent Banani', '1800sft Beautiful Apartment For Rent Banani', 'Apartment Sale In Hatirpool', 'Flat for rental at Banani', '3300 sq ft Office/House space at Niketon', 'Shop for Rent', 'SEL NO-E-CASTLE (TO-LET)', 'SEL NO-E-CASTLE', '1st Floor For Showroom', '2nd Floor Sell For Restaurant', 'Sale of land against primary medical care', 'Ground Floor Shop Sell', '1st Floor Shop Sell', 'Sell 2nd Floor for Suparshop, Bank', '3rd Floor Sell For Restaurant', 'Flat sell-Unit B', 'Flat sell-Unit C', 'Flat sell-Unit D', 'Flat sale in excellent location', 'Excellent location Flat sales-unit B', 'flat for sale as commercial/residential', 'Almeer Ahsan Asif', 'ready flat for sale as commercial/residential', '1100sft 3Bed Kallyan Pur', '1450 sq ft flat rental in South Khan (Uttara) pleasant environment', 'Luxurious Used Flat will be sold in Shyamoli with the cheape', 'Luxurious Used Flat will be sold in Shyamoli with the cheapest price ever. Flat size 1264 sqft.', 'Ready 1300sft 4Bed Khilgaon Block-B', '1000sft ready apartment sale at Mohammadpur', 'Flat for Sale in the Heart of the City,VIP road,SHANTINAGAR', '1000 sft apartment sale at Mohammadpur', 'Flat', '% 1 pixels', 'office rental', 'office rental', 'office rental', 'office rental', 'office rental', 'Sublet', 'office rental', 'office rental', 'An Attractive Apartment For Rent in Uttara', '100% Ready Flat Rangpur', 'Neeharika Dream', \"Bansri's HPL Sheikh Sikder Tower Continues to Sell and Book Flats at Attractive Price\", 'Ongoing residential apartments for sale at Mohammadpur', 'Ready 1300sft 4Bed 75 Lac Khilgaon Block-B', 'Flat sale is going on at attractive price....', 'Flat Rent at B Block, Mirpur-12', 'Flat sale is going on at attractive price....', 'Flat sale is going on at attractive price....', 'Flat To Let', 'Flat To Let', 'Flat for Rent', 'Service Apartment Furnished', '% 1 pixels', '3 Bed, 3 Bath, Bachelor/ Family', '1300 sqft for rent at reasonable price!', 'House Rent from 1 September, 2020', '3 Bedroom 1500 sqft Apartment for Rent in Uttara(Long Term)', 'Used flat', 'Flat for rent in a prime location at Mirpur-6', 'To Let Baridhara NatunBazar April,2022', 'adsadadad', 'Panthopath North Dhanmondi to be sold against Square Hospital', 'Almost ready south facing flat with gas connection', 'luxury appartment for sale', '1100-850sft 3Bed Flat Sale At Kallyan Pur', 'Ready Flat Sale At Khilgaon Block -B 1300sft', '2200sft Swimming Pulse/Gym BBQ Bashundhara R/A', 'Land Share Sell for Flat in East Rampura', 'rent for commercial', 'A seat will be on rent from 1st July (Male, Student)', 'Rent at East Sheorapara', 'flat for sale', 'Ready flat for sale @Mohammadpur', 'flat for commercial at Uttara Sector 3,Road 18,house 25,', 'Urgent Flat Sale', 'Urgent Flat Sale', 'Flat For Sale', '5500 sft Luxurious Fla tsell @North Gulshan', 'I want a flat for office', '1600 Sqft 3 Bedroom Apartment For Sale In Sector 11,Uttara', 'esrew', 'Exclusive Apartments @ Mirpur 1332 sqft, 3 Bed Apartment/Flats for Sale', '3 Bedroom Apartment in cetral Point', 'Rent for office space !', '1885sft to 2025sft sqft, 3 Beds Ready Apartment for Sale at Narayangonj.', '1510-3645sft semi Ready Apartment Sale on Bashundhara R/A, Block-E.', 'Looking for the most favorable flat in Mohammadpur Japan Garden City ?', 'Office space / residential flat for sale/ rent', '3000 sft Used Flat', 'samad mansion flat for sale', '2000 sft Ready Flat Sale', '5000 sft teedy Flat North gulshan', 'samad mansion', 'flat to let', 'Full Furnished Luxurious Apartment for Rent', '840 sqft, Ready Office Space for Sale at Green Road', '825sft Apartment sell at Bashundhara.', \"1320 SFT Flat at Queen's Garden Homes\", 'Spacious 3 bedrooms for rent', 'Urgent Ready Flat for Sale', '1300 sqft, 3 Bedroom Ready Flat for Sale at Banasree', '1425 sqft, 3 beds Ready Apartment/Flats for Sale at Pallabi.', '1425 sqft, 3 beds ReadyFlat for sale at Mirpur Pallabi with gas connection.', '1600 sqft, 3 Beds Ready Apartment/Flat for Sale at Mirpur 2', '1200 sqft, 3 Bed Under Construction Apartment/Flats for Sale at Mirpur 10', '700 sft ready for sale at Mohammadpur', 'Seat Rent only for Girls/Women', 'Apartment Sale', '2nd Lock Flat Will Be Sold Against Panthapath Square Hospital', 'Furnished Apartment', '1450 SF flat (3F) for range - 5 ROM, 3 BATH, 3 BALCONY, 1 KITCHEN, 1 DINing', '1500 sqft flat 4 bedroom for family/ bachelor at bashundhara r/a', '3 Bedroom Flat To-Let', 'TO-LET for offline', 'Office For Rent', '1600 and 1200 sft apartment sale at Uttara Sector 10', 'Dhaka Mirpur 10 (3 Bedroom for Rent)', 'Rent flat house at Merul badda near Brac University', 'All most ready Flat for sale @ Basundhara R/A, I-block', 'Flat Rent at Gulshan-2', 'Flat/Office Rent In Indira Road', 'Flat Rent In Indira Road', 'To-Let Ready Flat', 'Flat Rent in Shyamoli', 'Model APARTMENT for Sale @ banani, Dhaka', 'Furnished Apartment', 'Dream Homes@Savar DOHS', '3 Bedroom 1500 sqft Apartment for Rent in Uttara(Long Term)', '3800.par sqft', 'Flat Rent in Shyamoli', 'Flat For Sale In Azimpur, Dhaka (1543 Sq ft)']\n"
     ]
    }
   ],
   "source": [
    "# initialize the translator\n",
    "translator= Translator(to_lang=\"en\", from_lang=\"bn\")\n",
    "\n",
    "# create an empty list to store translations\n",
    "translations = []\n",
    "\n",
    "# iterate over each text in the dataframe\n",
    "for text in dhakaflats_df[\"name\"].to_list():\n",
    "    # translate the text to English\n",
    "    translation = translator.translate(text)\n",
    "    # append the translated text to the list of translations\n",
    "    translations.append(translation)\n",
    "\n",
    "# print the translations\n",
    "print(translations)"
   ]
  },
  {
   "cell_type": "code",
   "execution_count": null,
   "id": "3111d87d",
   "metadata": {},
   "outputs": [],
   "source": []
  },
  {
   "cell_type": "code",
   "execution_count": 15,
   "id": "8d06ac64",
   "metadata": {},
   "outputs": [],
   "source": [
    "# initialize the translator\n",
    "translator= Translator(to_lang=\"en\", from_lang=\"bn\")\n",
    "\n",
    "# create empty lists to store translations\n",
    "name_translations = []\n",
    "description_translations = []\n",
    "\n",
    "# iterate over each row in the dataframe\n",
    "for index, row in dhakaflats_df.iterrows():\n",
    "    \n",
    "    # translate the name to English\n",
    "    name_translation = translator.translate(row[\"name\"])\n",
    "    # append the translated name to the list of name translations\n",
    "    name_translations.append(name_translation)\n",
    "    \n",
    "    # translate the description to English\n",
    "    description_translation = translator.translate(row[\"property_description\"])\n",
    "    # append the translated description to the list of description translations\n",
    "    description_translations.append(description_translation)\n",
    "\n",
    "# add the translated names and descriptions as new columns to the dataframe\n",
    "dhakaflats_df[\"name_english\"] = name_translations\n",
    "dhakaflats_df[\"description_english\"] = description_translations\n"
   ]
  },
  {
   "cell_type": "code",
   "execution_count": 34,
   "id": "b0284e69",
   "metadata": {},
   "outputs": [],
   "source": [
    "# Drop old column\n",
    "dhakaflats_df.drop([\"name\"], axis=1, inplace=True)\n",
    "dhakaflats_df.drop([\"property_description\"], axis=1, inplace=True)"
   ]
  },
  {
   "cell_type": "code",
   "execution_count": 35,
   "id": "3540d359",
   "metadata": {},
   "outputs": [],
   "source": [
    "dhakaflats_df[\"name_english\"] = name_translations\n",
    "dhakaflats_df[\"description_english\"] = description_translations\n",
    "dhakaflats_df = dhakaflats_df.rename(columns={'name_english': 'name','description_english': 'property_description'})"
   ]
  },
  {
   "cell_type": "markdown",
   "id": "4e115aee",
   "metadata": {},
   "source": [
    "###  `Date posted` ( [quality issues #3](#assessment-report) )\n",
    "\n",
    "`Date posted` must be convert to date instead of string, check the entries like 8 hours and 2 days ago "
   ]
  },
  {
   "cell_type": "code",
   "execution_count": 36,
   "id": "717f3e5d",
   "metadata": {},
   "outputs": [],
   "source": [
    "from datetime import datetime, timedelta\n",
    "import pandas as pd\n",
    "import pytz\n",
    "\n",
    "def parse_date(date_str):\n",
    "    now = datetime(2023, 4, 7, tzinfo=pytz.UTC)\n",
    "    if \"ago\" in date_str:\n",
    "        num_hours_ago = int(date_str.split()[0])\n",
    "        return now - timedelta(hours=num_hours_ago)\n",
    "    else:\n",
    "        return pd.to_datetime(date_str)\n"
   ]
  },
  {
   "cell_type": "code",
   "execution_count": 37,
   "id": "6933fa9a",
   "metadata": {},
   "outputs": [
    {
     "ename": "TypeError",
     "evalue": "argument of type 'Timestamp' is not iterable",
     "output_type": "error",
     "traceback": [
      "\u001b[0;31m---------------------------------------------------------------------------\u001b[0m",
      "\u001b[0;31mTypeError\u001b[0m                                 Traceback (most recent call last)",
      "Cell \u001b[0;32mIn[37], line 1\u001b[0m\n\u001b[0;32m----> 1\u001b[0m dhakaflats_df[\u001b[38;5;124m\"\u001b[39m\u001b[38;5;124mdate_posted\u001b[39m\u001b[38;5;124m\"\u001b[39m] \u001b[38;5;241m=\u001b[39m \u001b[43mdhakaflats_df\u001b[49m\u001b[43m[\u001b[49m\u001b[38;5;124;43m\"\u001b[39;49m\u001b[38;5;124;43mdate_posted\u001b[39;49m\u001b[38;5;124;43m\"\u001b[39;49m\u001b[43m]\u001b[49m\u001b[38;5;241;43m.\u001b[39;49m\u001b[43mapply\u001b[49m\u001b[43m(\u001b[49m\u001b[43mparse_date\u001b[49m\u001b[43m)\u001b[49m\n",
      "File \u001b[0;32m~/anaconda3/lib/python3.10/site-packages/pandas/core/series.py:4771\u001b[0m, in \u001b[0;36mSeries.apply\u001b[0;34m(self, func, convert_dtype, args, **kwargs)\u001b[0m\n\u001b[1;32m   4661\u001b[0m \u001b[38;5;28;01mdef\u001b[39;00m \u001b[38;5;21mapply\u001b[39m(\n\u001b[1;32m   4662\u001b[0m     \u001b[38;5;28mself\u001b[39m,\n\u001b[1;32m   4663\u001b[0m     func: AggFuncType,\n\u001b[0;32m   (...)\u001b[0m\n\u001b[1;32m   4666\u001b[0m     \u001b[38;5;241m*\u001b[39m\u001b[38;5;241m*\u001b[39mkwargs,\n\u001b[1;32m   4667\u001b[0m ) \u001b[38;5;241m-\u001b[39m\u001b[38;5;241m>\u001b[39m DataFrame \u001b[38;5;241m|\u001b[39m Series:\n\u001b[1;32m   4668\u001b[0m     \u001b[38;5;124;03m\"\"\"\u001b[39;00m\n\u001b[1;32m   4669\u001b[0m \u001b[38;5;124;03m    Invoke function on values of Series.\u001b[39;00m\n\u001b[1;32m   4670\u001b[0m \n\u001b[0;32m   (...)\u001b[0m\n\u001b[1;32m   4769\u001b[0m \u001b[38;5;124;03m    dtype: float64\u001b[39;00m\n\u001b[1;32m   4770\u001b[0m \u001b[38;5;124;03m    \"\"\"\u001b[39;00m\n\u001b[0;32m-> 4771\u001b[0m     \u001b[38;5;28;01mreturn\u001b[39;00m \u001b[43mSeriesApply\u001b[49m\u001b[43m(\u001b[49m\u001b[38;5;28;43mself\u001b[39;49m\u001b[43m,\u001b[49m\u001b[43m \u001b[49m\u001b[43mfunc\u001b[49m\u001b[43m,\u001b[49m\u001b[43m \u001b[49m\u001b[43mconvert_dtype\u001b[49m\u001b[43m,\u001b[49m\u001b[43m \u001b[49m\u001b[43margs\u001b[49m\u001b[43m,\u001b[49m\u001b[43m \u001b[49m\u001b[43mkwargs\u001b[49m\u001b[43m)\u001b[49m\u001b[38;5;241;43m.\u001b[39;49m\u001b[43mapply\u001b[49m\u001b[43m(\u001b[49m\u001b[43m)\u001b[49m\n",
      "File \u001b[0;32m~/anaconda3/lib/python3.10/site-packages/pandas/core/apply.py:1123\u001b[0m, in \u001b[0;36mSeriesApply.apply\u001b[0;34m(self)\u001b[0m\n\u001b[1;32m   1120\u001b[0m     \u001b[38;5;28;01mreturn\u001b[39;00m \u001b[38;5;28mself\u001b[39m\u001b[38;5;241m.\u001b[39mapply_str()\n\u001b[1;32m   1122\u001b[0m \u001b[38;5;66;03m# self.f is Callable\u001b[39;00m\n\u001b[0;32m-> 1123\u001b[0m \u001b[38;5;28;01mreturn\u001b[39;00m \u001b[38;5;28;43mself\u001b[39;49m\u001b[38;5;241;43m.\u001b[39;49m\u001b[43mapply_standard\u001b[49m\u001b[43m(\u001b[49m\u001b[43m)\u001b[49m\n",
      "File \u001b[0;32m~/anaconda3/lib/python3.10/site-packages/pandas/core/apply.py:1174\u001b[0m, in \u001b[0;36mSeriesApply.apply_standard\u001b[0;34m(self)\u001b[0m\n\u001b[1;32m   1172\u001b[0m     \u001b[38;5;28;01melse\u001b[39;00m:\n\u001b[1;32m   1173\u001b[0m         values \u001b[38;5;241m=\u001b[39m obj\u001b[38;5;241m.\u001b[39mastype(\u001b[38;5;28mobject\u001b[39m)\u001b[38;5;241m.\u001b[39m_values\n\u001b[0;32m-> 1174\u001b[0m         mapped \u001b[38;5;241m=\u001b[39m \u001b[43mlib\u001b[49m\u001b[38;5;241;43m.\u001b[39;49m\u001b[43mmap_infer\u001b[49m\u001b[43m(\u001b[49m\n\u001b[1;32m   1175\u001b[0m \u001b[43m            \u001b[49m\u001b[43mvalues\u001b[49m\u001b[43m,\u001b[49m\n\u001b[1;32m   1176\u001b[0m \u001b[43m            \u001b[49m\u001b[43mf\u001b[49m\u001b[43m,\u001b[49m\n\u001b[1;32m   1177\u001b[0m \u001b[43m            \u001b[49m\u001b[43mconvert\u001b[49m\u001b[38;5;241;43m=\u001b[39;49m\u001b[38;5;28;43mself\u001b[39;49m\u001b[38;5;241;43m.\u001b[39;49m\u001b[43mconvert_dtype\u001b[49m\u001b[43m,\u001b[49m\n\u001b[1;32m   1178\u001b[0m \u001b[43m        \u001b[49m\u001b[43m)\u001b[49m\n\u001b[1;32m   1180\u001b[0m \u001b[38;5;28;01mif\u001b[39;00m \u001b[38;5;28mlen\u001b[39m(mapped) \u001b[38;5;129;01mand\u001b[39;00m \u001b[38;5;28misinstance\u001b[39m(mapped[\u001b[38;5;241m0\u001b[39m], ABCSeries):\n\u001b[1;32m   1181\u001b[0m     \u001b[38;5;66;03m# GH#43986 Need to do list(mapped) in order to get treated as nested\u001b[39;00m\n\u001b[1;32m   1182\u001b[0m     \u001b[38;5;66;03m#  See also GH#25959 regarding EA support\u001b[39;00m\n\u001b[1;32m   1183\u001b[0m     \u001b[38;5;28;01mreturn\u001b[39;00m obj\u001b[38;5;241m.\u001b[39m_constructor_expanddim(\u001b[38;5;28mlist\u001b[39m(mapped), index\u001b[38;5;241m=\u001b[39mobj\u001b[38;5;241m.\u001b[39mindex)\n",
      "File \u001b[0;32m~/anaconda3/lib/python3.10/site-packages/pandas/_libs/lib.pyx:2924\u001b[0m, in \u001b[0;36mpandas._libs.lib.map_infer\u001b[0;34m()\u001b[0m\n",
      "Cell \u001b[0;32mIn[36], line 7\u001b[0m, in \u001b[0;36mparse_date\u001b[0;34m(date_str)\u001b[0m\n\u001b[1;32m      5\u001b[0m \u001b[38;5;28;01mdef\u001b[39;00m \u001b[38;5;21mparse_date\u001b[39m(date_str):\n\u001b[1;32m      6\u001b[0m     now \u001b[38;5;241m=\u001b[39m datetime(\u001b[38;5;241m2023\u001b[39m, \u001b[38;5;241m4\u001b[39m, \u001b[38;5;241m7\u001b[39m, tzinfo\u001b[38;5;241m=\u001b[39mpytz\u001b[38;5;241m.\u001b[39mUTC)\n\u001b[0;32m----> 7\u001b[0m     \u001b[38;5;28;01mif\u001b[39;00m \u001b[38;5;124;43m\"\u001b[39;49m\u001b[38;5;124;43mago\u001b[39;49m\u001b[38;5;124;43m\"\u001b[39;49m\u001b[43m \u001b[49m\u001b[38;5;129;43;01min\u001b[39;49;00m\u001b[43m \u001b[49m\u001b[43mdate_str\u001b[49m:\n\u001b[1;32m      8\u001b[0m         num_hours_ago \u001b[38;5;241m=\u001b[39m \u001b[38;5;28mint\u001b[39m(date_str\u001b[38;5;241m.\u001b[39msplit()[\u001b[38;5;241m0\u001b[39m])\n\u001b[1;32m      9\u001b[0m         \u001b[38;5;28;01mreturn\u001b[39;00m now \u001b[38;5;241m-\u001b[39m timedelta(hours\u001b[38;5;241m=\u001b[39mnum_hours_ago)\n",
      "\u001b[0;31mTypeError\u001b[0m: argument of type 'Timestamp' is not iterable"
     ]
    }
   ],
   "source": [
    "dhakaflats_df[\"date_posted\"] = dhakaflats_df[\"date_posted\"].apply(parse_date)\n"
   ]
  },
  {
   "cell_type": "code",
   "execution_count": null,
   "id": "e1f7ca7e",
   "metadata": {},
   "outputs": [],
   "source": [
    "dhakaflats_df.info()"
   ]
  },
  {
   "cell_type": "code",
   "execution_count": null,
   "id": "1dc3f927",
   "metadata": {},
   "outputs": [],
   "source": []
  },
  {
   "cell_type": "code",
   "execution_count": null,
   "id": "c9d8a7a2",
   "metadata": {},
   "outputs": [],
   "source": []
  },
  {
   "cell_type": "markdown",
   "id": "22c23f8a",
   "metadata": {},
   "source": [
    "### `price` content is not uniform accross the dataset ( [quality issue #4 & #5](#bproperty-assessment-report) )\n",
    "\n",
    "`price` content is not uniform accross the dataset. Some are in `Lakh`, other in `Crore`, etc... The unit used for the price should be uniformized. A special attention should be paid to the fact that there are `price` without unit.  \n",
    "\n",
    "Furthermore, `price` should be decimal, not string."
   ]
  },
  {
   "cell_type": "code",
   "execution_count": 38,
   "id": "a747c7f2",
   "metadata": {},
   "outputs": [
    {
     "ename": "AttributeError",
     "evalue": "Can only use .str accessor with string values!",
     "output_type": "error",
     "traceback": [
      "\u001b[0;31m---------------------------------------------------------------------------\u001b[0m",
      "\u001b[0;31mAttributeError\u001b[0m                            Traceback (most recent call last)",
      "Cell \u001b[0;32mIn[38], line 2\u001b[0m\n\u001b[1;32m      1\u001b[0m dhakaflats_df[\u001b[38;5;124m\"\u001b[39m\u001b[38;5;124mprice\u001b[39m\u001b[38;5;124m\"\u001b[39m]\u001b[38;5;241m.\u001b[39munique()\n\u001b[0;32m----> 2\u001b[0m dhakaflats_df[\u001b[38;5;124m'\u001b[39m\u001b[38;5;124mprice\u001b[39m\u001b[38;5;124m'\u001b[39m] \u001b[38;5;241m=\u001b[39m \u001b[43mdhakaflats_df\u001b[49m\u001b[43m[\u001b[49m\u001b[38;5;124;43m'\u001b[39;49m\u001b[38;5;124;43mprice\u001b[39;49m\u001b[38;5;124;43m'\u001b[39;49m\u001b[43m]\u001b[49m\u001b[38;5;241;43m.\u001b[39;49m\u001b[43mstr\u001b[49m\u001b[38;5;241m.\u001b[39mreplace(\u001b[38;5;124m'\u001b[39m\u001b[38;5;124mTk.\u001b[39m\u001b[38;5;124m'\u001b[39m, \u001b[38;5;124m'\u001b[39m\u001b[38;5;124m'\u001b[39m, regex\u001b[38;5;241m=\u001b[39m\u001b[38;5;28;01mTrue\u001b[39;00m)\u001b[38;5;241m.\u001b[39mstr\u001b[38;5;241m.\u001b[39mreplace(\u001b[38;5;124m'\u001b[39m\u001b[38;5;124m,\u001b[39m\u001b[38;5;124m'\u001b[39m, \u001b[38;5;124m'\u001b[39m\u001b[38;5;124m'\u001b[39m, regex\u001b[38;5;241m=\u001b[39m\u001b[38;5;28;01mTrue\u001b[39;00m)\u001b[38;5;241m.\u001b[39mastype(\u001b[38;5;28mfloat\u001b[39m)\n\u001b[1;32m      3\u001b[0m dhakaflats_df\u001b[38;5;241m.\u001b[39mhead()\n",
      "File \u001b[0;32m~/anaconda3/lib/python3.10/site-packages/pandas/core/generic.py:5902\u001b[0m, in \u001b[0;36mNDFrame.__getattr__\u001b[0;34m(self, name)\u001b[0m\n\u001b[1;32m   5895\u001b[0m \u001b[38;5;28;01mif\u001b[39;00m (\n\u001b[1;32m   5896\u001b[0m     name \u001b[38;5;129;01mnot\u001b[39;00m \u001b[38;5;129;01min\u001b[39;00m \u001b[38;5;28mself\u001b[39m\u001b[38;5;241m.\u001b[39m_internal_names_set\n\u001b[1;32m   5897\u001b[0m     \u001b[38;5;129;01mand\u001b[39;00m name \u001b[38;5;129;01mnot\u001b[39;00m \u001b[38;5;129;01min\u001b[39;00m \u001b[38;5;28mself\u001b[39m\u001b[38;5;241m.\u001b[39m_metadata\n\u001b[1;32m   5898\u001b[0m     \u001b[38;5;129;01mand\u001b[39;00m name \u001b[38;5;129;01mnot\u001b[39;00m \u001b[38;5;129;01min\u001b[39;00m \u001b[38;5;28mself\u001b[39m\u001b[38;5;241m.\u001b[39m_accessors\n\u001b[1;32m   5899\u001b[0m     \u001b[38;5;129;01mand\u001b[39;00m \u001b[38;5;28mself\u001b[39m\u001b[38;5;241m.\u001b[39m_info_axis\u001b[38;5;241m.\u001b[39m_can_hold_identifiers_and_holds_name(name)\n\u001b[1;32m   5900\u001b[0m ):\n\u001b[1;32m   5901\u001b[0m     \u001b[38;5;28;01mreturn\u001b[39;00m \u001b[38;5;28mself\u001b[39m[name]\n\u001b[0;32m-> 5902\u001b[0m \u001b[38;5;28;01mreturn\u001b[39;00m \u001b[38;5;28;43mobject\u001b[39;49m\u001b[38;5;241;43m.\u001b[39;49m\u001b[38;5;21;43m__getattribute__\u001b[39;49m\u001b[43m(\u001b[49m\u001b[38;5;28;43mself\u001b[39;49m\u001b[43m,\u001b[49m\u001b[43m \u001b[49m\u001b[43mname\u001b[49m\u001b[43m)\u001b[49m\n",
      "File \u001b[0;32m~/anaconda3/lib/python3.10/site-packages/pandas/core/accessor.py:182\u001b[0m, in \u001b[0;36mCachedAccessor.__get__\u001b[0;34m(self, obj, cls)\u001b[0m\n\u001b[1;32m    179\u001b[0m \u001b[38;5;28;01mif\u001b[39;00m obj \u001b[38;5;129;01mis\u001b[39;00m \u001b[38;5;28;01mNone\u001b[39;00m:\n\u001b[1;32m    180\u001b[0m     \u001b[38;5;66;03m# we're accessing the attribute of the class, i.e., Dataset.geo\u001b[39;00m\n\u001b[1;32m    181\u001b[0m     \u001b[38;5;28;01mreturn\u001b[39;00m \u001b[38;5;28mself\u001b[39m\u001b[38;5;241m.\u001b[39m_accessor\n\u001b[0;32m--> 182\u001b[0m accessor_obj \u001b[38;5;241m=\u001b[39m \u001b[38;5;28;43mself\u001b[39;49m\u001b[38;5;241;43m.\u001b[39;49m\u001b[43m_accessor\u001b[49m\u001b[43m(\u001b[49m\u001b[43mobj\u001b[49m\u001b[43m)\u001b[49m\n\u001b[1;32m    183\u001b[0m \u001b[38;5;66;03m# Replace the property with the accessor object. Inspired by:\u001b[39;00m\n\u001b[1;32m    184\u001b[0m \u001b[38;5;66;03m# https://www.pydanny.com/cached-property.html\u001b[39;00m\n\u001b[1;32m    185\u001b[0m \u001b[38;5;66;03m# We need to use object.__setattr__ because we overwrite __setattr__ on\u001b[39;00m\n\u001b[1;32m    186\u001b[0m \u001b[38;5;66;03m# NDFrame\u001b[39;00m\n\u001b[1;32m    187\u001b[0m \u001b[38;5;28mobject\u001b[39m\u001b[38;5;241m.\u001b[39m\u001b[38;5;21m__setattr__\u001b[39m(obj, \u001b[38;5;28mself\u001b[39m\u001b[38;5;241m.\u001b[39m_name, accessor_obj)\n",
      "File \u001b[0;32m~/anaconda3/lib/python3.10/site-packages/pandas/core/strings/accessor.py:181\u001b[0m, in \u001b[0;36mStringMethods.__init__\u001b[0;34m(self, data)\u001b[0m\n\u001b[1;32m    178\u001b[0m \u001b[38;5;28;01mdef\u001b[39;00m \u001b[38;5;21m__init__\u001b[39m(\u001b[38;5;28mself\u001b[39m, data) \u001b[38;5;241m-\u001b[39m\u001b[38;5;241m>\u001b[39m \u001b[38;5;28;01mNone\u001b[39;00m:\n\u001b[1;32m    179\u001b[0m     \u001b[38;5;28;01mfrom\u001b[39;00m \u001b[38;5;21;01mpandas\u001b[39;00m\u001b[38;5;21;01m.\u001b[39;00m\u001b[38;5;21;01mcore\u001b[39;00m\u001b[38;5;21;01m.\u001b[39;00m\u001b[38;5;21;01marrays\u001b[39;00m\u001b[38;5;21;01m.\u001b[39;00m\u001b[38;5;21;01mstring_\u001b[39;00m \u001b[38;5;28;01mimport\u001b[39;00m StringDtype\n\u001b[0;32m--> 181\u001b[0m     \u001b[38;5;28mself\u001b[39m\u001b[38;5;241m.\u001b[39m_inferred_dtype \u001b[38;5;241m=\u001b[39m \u001b[38;5;28;43mself\u001b[39;49m\u001b[38;5;241;43m.\u001b[39;49m\u001b[43m_validate\u001b[49m\u001b[43m(\u001b[49m\u001b[43mdata\u001b[49m\u001b[43m)\u001b[49m\n\u001b[1;32m    182\u001b[0m     \u001b[38;5;28mself\u001b[39m\u001b[38;5;241m.\u001b[39m_is_categorical \u001b[38;5;241m=\u001b[39m is_categorical_dtype(data\u001b[38;5;241m.\u001b[39mdtype)\n\u001b[1;32m    183\u001b[0m     \u001b[38;5;28mself\u001b[39m\u001b[38;5;241m.\u001b[39m_is_string \u001b[38;5;241m=\u001b[39m \u001b[38;5;28misinstance\u001b[39m(data\u001b[38;5;241m.\u001b[39mdtype, StringDtype)\n",
      "File \u001b[0;32m~/anaconda3/lib/python3.10/site-packages/pandas/core/strings/accessor.py:235\u001b[0m, in \u001b[0;36mStringMethods._validate\u001b[0;34m(data)\u001b[0m\n\u001b[1;32m    232\u001b[0m inferred_dtype \u001b[38;5;241m=\u001b[39m lib\u001b[38;5;241m.\u001b[39minfer_dtype(values, skipna\u001b[38;5;241m=\u001b[39m\u001b[38;5;28;01mTrue\u001b[39;00m)\n\u001b[1;32m    234\u001b[0m \u001b[38;5;28;01mif\u001b[39;00m inferred_dtype \u001b[38;5;129;01mnot\u001b[39;00m \u001b[38;5;129;01min\u001b[39;00m allowed_types:\n\u001b[0;32m--> 235\u001b[0m     \u001b[38;5;28;01mraise\u001b[39;00m \u001b[38;5;167;01mAttributeError\u001b[39;00m(\u001b[38;5;124m\"\u001b[39m\u001b[38;5;124mCan only use .str accessor with string values!\u001b[39m\u001b[38;5;124m\"\u001b[39m)\n\u001b[1;32m    236\u001b[0m \u001b[38;5;28;01mreturn\u001b[39;00m inferred_dtype\n",
      "\u001b[0;31mAttributeError\u001b[0m: Can only use .str accessor with string values!"
     ]
    }
   ],
   "source": [
    "dhakaflats_df[\"price\"].unique()\n",
    "dhakaflats_df['price'] = dhakaflats_df['price'].str.replace('Tk.', '', regex=True).str.replace(',', '', regex=True).astype(float)\n",
    "dhakaflats_df.head()"
   ]
  },
  {
   "cell_type": "markdown",
   "id": "e481cd85",
   "metadata": {},
   "source": [
    "#### Define\n",
    "* Convert all price to the same currency\n",
    "* Convert the column to float"
   ]
  },
  {
   "cell_type": "markdown",
   "id": "00830f96",
   "metadata": {},
   "source": [
    "#### Testing"
   ]
  },
  {
   "cell_type": "code",
   "execution_count": null,
   "id": "702f9cac",
   "metadata": {},
   "outputs": [],
   "source": [
    "dhakaflats_df[\"price\"].dtype"
   ]
  },
  {
   "cell_type": "code",
   "execution_count": null,
   "id": "3a1e5c30",
   "metadata": {},
   "outputs": [],
   "source": []
  },
  {
   "cell_type": "code",
   "execution_count": null,
   "id": "8e650950",
   "metadata": {},
   "outputs": [],
   "source": []
  },
  {
   "cell_type": "markdown",
   "id": "91ab7a16",
   "metadata": {},
   "source": [
    "### Split `location` column content into adequate columns ( [tidiness issues #1](#assessment-report) )\n",
    "\n",
    " `location` should be splitted to `city`, `zone`, and `address`. (tidiness issue)"
   ]
  },
  {
   "cell_type": "code",
   "execution_count": 21,
   "id": "0d586945",
   "metadata": {},
   "outputs": [
    {
     "data": {
      "text/plain": [
       "0          Dhaka, Maghbazar\n",
       "1             Dhaka, Uttara\n",
       "2      Dhaka, MohakhaliDOHS\n",
       "3          Dhaka, Dhanmondi\n",
       "4             Dhaka, Mirpur\n",
       "               ...         \n",
       "224            Dhaka, Savar\n",
       "225           Dhaka, Uttara\n",
       "226        Dhaka, Dhanmondi\n",
       "227         Dhaka, Shyamoli\n",
       "228          Dhaka, Azimpur\n",
       "Name: location, Length: 229, dtype: object"
      ]
     },
     "execution_count": 21,
     "metadata": {},
     "output_type": "execute_result"
    }
   ],
   "source": [
    "dhakaflats_df[\"location\"]"
   ]
  },
  {
   "cell_type": "markdown",
   "id": "823f64e7",
   "metadata": {},
   "source": [
    "#### Define\n",
    "* Retrieve the city, area, and address from each `location` through `get_detailed_address()`\n",
    "* Update new columns (city, area, address) based on values retrieve from `location`"
   ]
  },
  {
   "cell_type": "markdown",
   "id": "58cafff7",
   "metadata": {},
   "source": [
    "#### Code"
   ]
  },
  {
   "cell_type": "code",
   "execution_count": 22,
   "id": "f313ab44",
   "metadata": {},
   "outputs": [],
   "source": [
    "# Retrieve city in location\n",
    "dhakaflats_df[\"city\"] = dhakaflats_df[\"location\"].fillna('').apply(lambda x: x.split(\",\")[0].strip() )\n",
    "\n",
    "# Retrieve address in location\n",
    "dhakaflats_df[\"address\"] = dhakaflats_df[\"location\"].fillna('').apply(lambda x: \",\".join(x.split(\",\")[1:]).strip() )"
   ]
  },
  {
   "cell_type": "code",
   "execution_count": 23,
   "id": "7a132554",
   "metadata": {},
   "outputs": [
    {
     "data": {
      "text/html": [
       "<div>\n",
       "<style scoped>\n",
       "    .dataframe tbody tr th:only-of-type {\n",
       "        vertical-align: middle;\n",
       "    }\n",
       "\n",
       "    .dataframe tbody tr th {\n",
       "        vertical-align: top;\n",
       "    }\n",
       "\n",
       "    .dataframe thead th {\n",
       "        text-align: right;\n",
       "    }\n",
       "</style>\n",
       "<table border=\"1\" class=\"dataframe\">\n",
       "  <thead>\n",
       "    <tr style=\"text-align: right;\">\n",
       "      <th></th>\n",
       "      <th>location</th>\n",
       "      <th>city</th>\n",
       "      <th>address</th>\n",
       "    </tr>\n",
       "  </thead>\n",
       "  <tbody>\n",
       "    <tr>\n",
       "      <th>0</th>\n",
       "      <td>Dhaka, Maghbazar</td>\n",
       "      <td>Dhaka</td>\n",
       "      <td>Maghbazar</td>\n",
       "    </tr>\n",
       "    <tr>\n",
       "      <th>1</th>\n",
       "      <td>Dhaka, Uttara</td>\n",
       "      <td>Dhaka</td>\n",
       "      <td>Uttara</td>\n",
       "    </tr>\n",
       "    <tr>\n",
       "      <th>2</th>\n",
       "      <td>Dhaka, MohakhaliDOHS</td>\n",
       "      <td>Dhaka</td>\n",
       "      <td>MohakhaliDOHS</td>\n",
       "    </tr>\n",
       "    <tr>\n",
       "      <th>3</th>\n",
       "      <td>Dhaka, Dhanmondi</td>\n",
       "      <td>Dhaka</td>\n",
       "      <td>Dhanmondi</td>\n",
       "    </tr>\n",
       "    <tr>\n",
       "      <th>4</th>\n",
       "      <td>Dhaka, Mirpur</td>\n",
       "      <td>Dhaka</td>\n",
       "      <td>Mirpur</td>\n",
       "    </tr>\n",
       "    <tr>\n",
       "      <th>...</th>\n",
       "      <td>...</td>\n",
       "      <td>...</td>\n",
       "      <td>...</td>\n",
       "    </tr>\n",
       "    <tr>\n",
       "      <th>224</th>\n",
       "      <td>Dhaka, Savar</td>\n",
       "      <td>Dhaka</td>\n",
       "      <td>Savar</td>\n",
       "    </tr>\n",
       "    <tr>\n",
       "      <th>225</th>\n",
       "      <td>Dhaka, Uttara</td>\n",
       "      <td>Dhaka</td>\n",
       "      <td>Uttara</td>\n",
       "    </tr>\n",
       "    <tr>\n",
       "      <th>226</th>\n",
       "      <td>Dhaka, Dhanmondi</td>\n",
       "      <td>Dhaka</td>\n",
       "      <td>Dhanmondi</td>\n",
       "    </tr>\n",
       "    <tr>\n",
       "      <th>227</th>\n",
       "      <td>Dhaka, Shyamoli</td>\n",
       "      <td>Dhaka</td>\n",
       "      <td>Shyamoli</td>\n",
       "    </tr>\n",
       "    <tr>\n",
       "      <th>228</th>\n",
       "      <td>Dhaka, Azimpur</td>\n",
       "      <td>Dhaka</td>\n",
       "      <td>Azimpur</td>\n",
       "    </tr>\n",
       "  </tbody>\n",
       "</table>\n",
       "<p>229 rows × 3 columns</p>\n",
       "</div>"
      ],
      "text/plain": [
       "                 location   city        address\n",
       "0        Dhaka, Maghbazar  Dhaka      Maghbazar\n",
       "1           Dhaka, Uttara  Dhaka         Uttara\n",
       "2    Dhaka, MohakhaliDOHS  Dhaka  MohakhaliDOHS\n",
       "3        Dhaka, Dhanmondi  Dhaka      Dhanmondi\n",
       "4           Dhaka, Mirpur  Dhaka         Mirpur\n",
       "..                    ...    ...            ...\n",
       "224          Dhaka, Savar  Dhaka          Savar\n",
       "225         Dhaka, Uttara  Dhaka         Uttara\n",
       "226      Dhaka, Dhanmondi  Dhaka      Dhanmondi\n",
       "227       Dhaka, Shyamoli  Dhaka       Shyamoli\n",
       "228        Dhaka, Azimpur  Dhaka        Azimpur\n",
       "\n",
       "[229 rows x 3 columns]"
      ]
     },
     "execution_count": 23,
     "metadata": {},
     "output_type": "execute_result"
    }
   ],
   "source": [
    "# Checking the content of location, city, and address\n",
    "dhakaflats_df[ [\"location\",\"city\",\"address\"] ] "
   ]
  },
  {
   "cell_type": "code",
   "execution_count": 24,
   "id": "4235fe40",
   "metadata": {},
   "outputs": [
    {
     "data": {
      "text/plain": [
       "(229, 12)"
      ]
     },
     "execution_count": 24,
     "metadata": {},
     "output_type": "execute_result"
    }
   ],
   "source": [
    "dhakaflats_df.shape"
   ]
  },
  {
   "cell_type": "code",
   "execution_count": 25,
   "id": "c9489ae5",
   "metadata": {},
   "outputs": [],
   "source": [
    "# Drop location column\n",
    "dhakaflats_df.drop([\"location\"], axis=1, inplace=True)"
   ]
  },
  {
   "cell_type": "code",
   "execution_count": 26,
   "id": "abae83a3",
   "metadata": {},
   "outputs": [
    {
     "data": {
      "text/plain": [
       "(229, 11)"
      ]
     },
     "execution_count": 26,
     "metadata": {},
     "output_type": "execute_result"
    }
   ],
   "source": [
    "# Making sure removal was successful\n",
    "dhakaflats_df.shape"
   ]
  },
  {
   "cell_type": "code",
   "execution_count": null,
   "id": "a5841a63",
   "metadata": {},
   "outputs": [],
   "source": []
  },
  {
   "cell_type": "markdown",
   "id": "b1843495",
   "metadata": {},
   "source": [
    "### Set `purpose` values to `Rent` or `Sale` ( [quality issue #5](#bproperty-assessment-report) )\n",
    "\n",
    "`purpose` should have `Rent` or `Sale` as values. This is not really an issue, its goal is only to keep values consistent accross all cleaned datasets."
   ]
  },
  {
   "cell_type": "code",
   "execution_count": 27,
   "id": "36a723ce",
   "metadata": {},
   "outputs": [
    {
     "data": {
      "text/plain": [
       "array(['Flats For Sale', 'Flats for Rent', 'Agents & Services', 'Sublets'],\n",
       "      dtype=object)"
      ]
     },
     "execution_count": 27,
     "metadata": {},
     "output_type": "execute_result"
    }
   ],
   "source": [
    "dhakaflats_df[\"purpose\"].unique()"
   ]
  },
  {
   "cell_type": "markdown",
   "id": "6f70f4e6",
   "metadata": {},
   "source": [
    "#### Define\n",
    "* Replace `For Sale` by `Sale`, and `For Rent` by `Rent` "
   ]
  },
  {
   "cell_type": "markdown",
   "id": "4f56cbdb",
   "metadata": {},
   "source": [
    "#### Code"
   ]
  },
  {
   "cell_type": "code",
   "execution_count": 28,
   "id": "0d9b8f27",
   "metadata": {},
   "outputs": [],
   "source": [
    "dhakaflats_df[\"purpose\"] = dhakaflats_df[\"purpose\"].replace({\"Flats For Sale\": \"Sale\", \"Flats for Rent\": \"Rent\"})\n"
   ]
  },
  {
   "cell_type": "markdown",
   "id": "908f57a7",
   "metadata": {},
   "source": [
    "#### Testing"
   ]
  },
  {
   "cell_type": "code",
   "execution_count": 29,
   "id": "8e63f348",
   "metadata": {},
   "outputs": [
    {
     "data": {
      "text/plain": [
       "array(['Sale', 'Rent', 'Agents & Services', 'Sublets'], dtype=object)"
      ]
     },
     "execution_count": 29,
     "metadata": {},
     "output_type": "execute_result"
    }
   ],
   "source": [
    "dhakaflats_df[\"purpose\"].unique()"
   ]
  },
  {
   "cell_type": "code",
   "execution_count": null,
   "id": "8721ba1e",
   "metadata": {},
   "outputs": [],
   "source": []
  },
  {
   "cell_type": "code",
   "execution_count": 30,
   "id": "c79b243e",
   "metadata": {},
   "outputs": [
    {
     "data": {
      "text/html": [
       "<div>\n",
       "<style scoped>\n",
       "    .dataframe tbody tr th:only-of-type {\n",
       "        vertical-align: middle;\n",
       "    }\n",
       "\n",
       "    .dataframe tbody tr th {\n",
       "        vertical-align: top;\n",
       "    }\n",
       "\n",
       "    .dataframe thead th {\n",
       "        text-align: right;\n",
       "    }\n",
       "</style>\n",
       "<table border=\"1\" class=\"dataframe\">\n",
       "  <thead>\n",
       "    <tr style=\"text-align: right;\">\n",
       "      <th></th>\n",
       "      <th>name</th>\n",
       "      <th>price</th>\n",
       "      <th>property_description</th>\n",
       "      <th>date_posted</th>\n",
       "      <th>purpose</th>\n",
       "      <th>url</th>\n",
       "      <th>date_crawled</th>\n",
       "      <th>name_english</th>\n",
       "      <th>description_english</th>\n",
       "      <th>city</th>\n",
       "      <th>address</th>\n",
       "    </tr>\n",
       "  </thead>\n",
       "  <tbody>\n",
       "    <tr>\n",
       "      <th>0</th>\n",
       "      <td>৮৫০ বর্গফুট এর ফ্লাট @ মগবাজার</td>\n",
       "      <td>6000.0</td>\n",
       "      <td>০১৮৪২৪১২০৮৯\\n১. হস্তান্তর জুন ২০১৮ ইং \\n২. ৮ম ...</td>\n",
       "      <td>2018-01-22 00:00:00</td>\n",
       "      <td>Sale</td>\n",
       "      <td>http://dhakaflats.com/details.php?id=1&amp;search_...</td>\n",
       "      <td>2023-04-07</td>\n",
       "      <td>Flat of 850 sq. ft @ Mogbazar</td>\n",
       "      <td>01842412089\\n1. Handover June 2018 Ying \\n2.8 ...</td>\n",
       "      <td>Dhaka</td>\n",
       "      <td>Maghbazar</td>\n",
       "    </tr>\n",
       "    <tr>\n",
       "      <th>1</th>\n",
       "      <td>1500 sft flat @ Uttara 11</td>\n",
       "      <td>6000.0</td>\n",
       "      <td>3 bed 3 bath lift generator and 1 garage near ...</td>\n",
       "      <td>2023-04-06 16:00:00+00:00</td>\n",
       "      <td>Sale</td>\n",
       "      <td>http://dhakaflats.com/details.php?id=16&amp;search...</td>\n",
       "      <td>2023-04-07</td>\n",
       "      <td>1500 sft flat @ Uttara 11</td>\n",
       "      <td>3 Bed 3 bath lift generator and 1 garage near ...</td>\n",
       "      <td>Dhaka</td>\n",
       "      <td>Uttara</td>\n",
       "    </tr>\n",
       "    <tr>\n",
       "      <th>2</th>\n",
       "      <td>3 bed + 3 bath + 1 family space + 2 balconies ...</td>\n",
       "      <td>60000.0</td>\n",
       "      <td>The apartment is in the heart of New D.O.H.S, ...</td>\n",
       "      <td>2023-04-06 22:00:00+00:00</td>\n",
       "      <td>Rent</td>\n",
       "      <td>http://dhakaflats.com/details.php?id=5&amp;search_...</td>\n",
       "      <td>2023-04-07</td>\n",
       "      <td>3 Bed + 3 Bath + 1 Family space + 2 Balconies ...</td>\n",
       "      <td>The apartment is in the heart of New D.O.H.S, ...</td>\n",
       "      <td>Dhaka</td>\n",
       "      <td>MohakhaliDOHS</td>\n",
       "    </tr>\n",
       "    <tr>\n",
       "      <th>3</th>\n",
       "      <td>Mr</td>\n",
       "      <td>25000.0</td>\n",
       "      <td>I am Mohamed ibrahim from india and working in...</td>\n",
       "      <td>2023-04-06 21:00:00+00:00</td>\n",
       "      <td>Rent</td>\n",
       "      <td>http://dhakaflats.com/details.php?id=35&amp;search...</td>\n",
       "      <td>2023-04-07</td>\n",
       "      <td>mr</td>\n",
       "      <td>I am Mohamed ibrahim from India and working in...</td>\n",
       "      <td>Dhaka</td>\n",
       "      <td>Dhanmondi</td>\n",
       "    </tr>\n",
       "    <tr>\n",
       "      <th>4</th>\n",
       "      <td>Flat ready to Construction by land owner</td>\n",
       "      <td>4500000.0</td>\n",
       "      <td>1050 sqf. flat ready to construction @ mirpur-...</td>\n",
       "      <td>2023-04-06 21:00:00+00:00</td>\n",
       "      <td>Sale</td>\n",
       "      <td>http://dhakaflats.com/details.php?id=3&amp;search_...</td>\n",
       "      <td>2023-04-07</td>\n",
       "      <td>Flat ready to build by land owner</td>\n",
       "      <td>1050 sqf. flat ready to construction @ mirpur-...</td>\n",
       "      <td>Dhaka</td>\n",
       "      <td>Mirpur</td>\n",
       "    </tr>\n",
       "  </tbody>\n",
       "</table>\n",
       "</div>"
      ],
      "text/plain": [
       "                                                name      price  \\\n",
       "0                     ৮৫০ বর্গফুট এর ফ্লাট @ মগবাজার     6000.0   \n",
       "1                          1500 sft flat @ Uttara 11     6000.0   \n",
       "2  3 bed + 3 bath + 1 family space + 2 balconies ...    60000.0   \n",
       "3                                                 Mr    25000.0   \n",
       "4           Flat ready to Construction by land owner  4500000.0   \n",
       "\n",
       "                                property_description  \\\n",
       "0  ০১৮৪২৪১২০৮৯\\n১. হস্তান্তর জুন ২০১৮ ইং \\n২. ৮ম ...   \n",
       "1  3 bed 3 bath lift generator and 1 garage near ...   \n",
       "2  The apartment is in the heart of New D.O.H.S, ...   \n",
       "3  I am Mohamed ibrahim from india and working in...   \n",
       "4  1050 sqf. flat ready to construction @ mirpur-...   \n",
       "\n",
       "                 date_posted purpose  \\\n",
       "0        2018-01-22 00:00:00    Sale   \n",
       "1  2023-04-06 16:00:00+00:00    Sale   \n",
       "2  2023-04-06 22:00:00+00:00    Rent   \n",
       "3  2023-04-06 21:00:00+00:00    Rent   \n",
       "4  2023-04-06 21:00:00+00:00    Sale   \n",
       "\n",
       "                                                 url date_crawled  \\\n",
       "0  http://dhakaflats.com/details.php?id=1&search_...   2023-04-07   \n",
       "1  http://dhakaflats.com/details.php?id=16&search...   2023-04-07   \n",
       "2  http://dhakaflats.com/details.php?id=5&search_...   2023-04-07   \n",
       "3  http://dhakaflats.com/details.php?id=35&search...   2023-04-07   \n",
       "4  http://dhakaflats.com/details.php?id=3&search_...   2023-04-07   \n",
       "\n",
       "                                        name_english  \\\n",
       "0                      Flat of 850 sq. ft @ Mogbazar   \n",
       "1                          1500 sft flat @ Uttara 11   \n",
       "2  3 Bed + 3 Bath + 1 Family space + 2 Balconies ...   \n",
       "3                                                 mr   \n",
       "4                  Flat ready to build by land owner   \n",
       "\n",
       "                                 description_english   city        address  \n",
       "0  01842412089\\n1. Handover June 2018 Ying \\n2.8 ...  Dhaka      Maghbazar  \n",
       "1  3 Bed 3 bath lift generator and 1 garage near ...  Dhaka         Uttara  \n",
       "2  The apartment is in the heart of New D.O.H.S, ...  Dhaka  MohakhaliDOHS  \n",
       "3  I am Mohamed ibrahim from India and working in...  Dhaka      Dhanmondi  \n",
       "4  1050 sqf. flat ready to construction @ mirpur-...  Dhaka         Mirpur  "
      ]
     },
     "execution_count": 30,
     "metadata": {},
     "output_type": "execute_result"
    }
   ],
   "source": [
    "dhakaflats_df.head()"
   ]
  },
  {
   "cell_type": "markdown",
   "id": "b2b2b8e7",
   "metadata": {},
   "source": [
    "### Save cleaned dataset"
   ]
  },
  {
   "cell_type": "code",
   "execution_count": 31,
   "id": "a0e3524d",
   "metadata": {},
   "outputs": [
    {
     "name": "stdout",
     "output_type": "stream",
     "text": [
      "Folder '../../../data/CLeaned_Data/dhakaflats' already exists\n"
     ]
    }
   ],
   "source": [
    "# Create folder in which to save cleaned dataset\n",
    "if not os.path.exists(cleaned_dhakaflats_folder):\n",
    "    os.makedirs(cleaned_dhakaflats_folder)\n",
    "    print(f\"Create folder '{cleaned_dhakaflats_folder}'\")\n",
    "else:\n",
    "    print(f\"Folder '{cleaned_dhakaflats_folder}' already exists\")"
   ]
  },
  {
   "cell_type": "code",
   "execution_count": 32,
   "id": "15e930f5",
   "metadata": {},
   "outputs": [],
   "source": [
    "# Save cleaned dataset to csv\n",
    "dhakaflats_df.to_csv(f\"{cleaned_dhakaflats_folder}/cleaned_dhakaflats.csv\", index=False)"
   ]
  },
  {
   "cell_type": "code",
   "execution_count": 33,
   "id": "b8bcffb0",
   "metadata": {},
   "outputs": [
    {
     "data": {
      "text/html": [
       "<div>\n",
       "<style scoped>\n",
       "    .dataframe tbody tr th:only-of-type {\n",
       "        vertical-align: middle;\n",
       "    }\n",
       "\n",
       "    .dataframe tbody tr th {\n",
       "        vertical-align: top;\n",
       "    }\n",
       "\n",
       "    .dataframe thead th {\n",
       "        text-align: right;\n",
       "    }\n",
       "</style>\n",
       "<table border=\"1\" class=\"dataframe\">\n",
       "  <thead>\n",
       "    <tr style=\"text-align: right;\">\n",
       "      <th></th>\n",
       "      <th>0</th>\n",
       "      <th>1</th>\n",
       "      <th>2</th>\n",
       "    </tr>\n",
       "  </thead>\n",
       "  <tbody>\n",
       "    <tr>\n",
       "      <th>name</th>\n",
       "      <td>৮৫০ বর্গফুট এর ফ্লাট @ মগবাজার</td>\n",
       "      <td>1500 sft flat @ Uttara 11</td>\n",
       "      <td>3 bed + 3 bath + 1 family space + 2 balconies ...</td>\n",
       "    </tr>\n",
       "    <tr>\n",
       "      <th>price</th>\n",
       "      <td>6000.0</td>\n",
       "      <td>6000.0</td>\n",
       "      <td>60000.0</td>\n",
       "    </tr>\n",
       "    <tr>\n",
       "      <th>property_description</th>\n",
       "      <td>০১৮৪২৪১২০৮৯\\n১. হস্তান্তর জুন ২০১৮ ইং \\n২. ৮ম ...</td>\n",
       "      <td>3 bed 3 bath lift generator and 1 garage near ...</td>\n",
       "      <td>The apartment is in the heart of New D.O.H.S, ...</td>\n",
       "    </tr>\n",
       "    <tr>\n",
       "      <th>date_posted</th>\n",
       "      <td>2018-01-22 00:00:00</td>\n",
       "      <td>2023-04-06 16:00:00+00:00</td>\n",
       "      <td>2023-04-06 22:00:00+00:00</td>\n",
       "    </tr>\n",
       "    <tr>\n",
       "      <th>purpose</th>\n",
       "      <td>Sale</td>\n",
       "      <td>Sale</td>\n",
       "      <td>Rent</td>\n",
       "    </tr>\n",
       "    <tr>\n",
       "      <th>url</th>\n",
       "      <td>http://dhakaflats.com/details.php?id=1&amp;search_...</td>\n",
       "      <td>http://dhakaflats.com/details.php?id=16&amp;search...</td>\n",
       "      <td>http://dhakaflats.com/details.php?id=5&amp;search_...</td>\n",
       "    </tr>\n",
       "    <tr>\n",
       "      <th>date_crawled</th>\n",
       "      <td>2023-04-07</td>\n",
       "      <td>2023-04-07</td>\n",
       "      <td>2023-04-07</td>\n",
       "    </tr>\n",
       "    <tr>\n",
       "      <th>name_english</th>\n",
       "      <td>Flat of 850 sq. ft @ Mogbazar</td>\n",
       "      <td>1500 sft flat @ Uttara 11</td>\n",
       "      <td>3 Bed + 3 Bath + 1 Family space + 2 Balconies ...</td>\n",
       "    </tr>\n",
       "    <tr>\n",
       "      <th>description_english</th>\n",
       "      <td>01842412089\\n1. Handover June 2018 Ying \\n2.8 ...</td>\n",
       "      <td>3 Bed 3 bath lift generator and 1 garage near ...</td>\n",
       "      <td>The apartment is in the heart of New D.O.H.S, ...</td>\n",
       "    </tr>\n",
       "    <tr>\n",
       "      <th>city</th>\n",
       "      <td>Dhaka</td>\n",
       "      <td>Dhaka</td>\n",
       "      <td>Dhaka</td>\n",
       "    </tr>\n",
       "    <tr>\n",
       "      <th>address</th>\n",
       "      <td>Maghbazar</td>\n",
       "      <td>Uttara</td>\n",
       "      <td>MohakhaliDOHS</td>\n",
       "    </tr>\n",
       "  </tbody>\n",
       "</table>\n",
       "</div>"
      ],
      "text/plain": [
       "                                                                      0  \\\n",
       "name                                     ৮৫০ বর্গফুট এর ফ্লাট @ মগবাজার   \n",
       "price                                                            6000.0   \n",
       "property_description  ০১৮৪২৪১২০৮৯\\n১. হস্তান্তর জুন ২০১৮ ইং \\n২. ৮ম ...   \n",
       "date_posted                                         2018-01-22 00:00:00   \n",
       "purpose                                                            Sale   \n",
       "url                   http://dhakaflats.com/details.php?id=1&search_...   \n",
       "date_crawled                                                 2023-04-07   \n",
       "name_english                              Flat of 850 sq. ft @ Mogbazar   \n",
       "description_english   01842412089\\n1. Handover June 2018 Ying \\n2.8 ...   \n",
       "city                                                              Dhaka   \n",
       "address                                                       Maghbazar   \n",
       "\n",
       "                                                                      1  \\\n",
       "name                                          1500 sft flat @ Uttara 11   \n",
       "price                                                            6000.0   \n",
       "property_description  3 bed 3 bath lift generator and 1 garage near ...   \n",
       "date_posted                                   2023-04-06 16:00:00+00:00   \n",
       "purpose                                                            Sale   \n",
       "url                   http://dhakaflats.com/details.php?id=16&search...   \n",
       "date_crawled                                                 2023-04-07   \n",
       "name_english                                  1500 sft flat @ Uttara 11   \n",
       "description_english   3 Bed 3 bath lift generator and 1 garage near ...   \n",
       "city                                                              Dhaka   \n",
       "address                                                          Uttara   \n",
       "\n",
       "                                                                      2  \n",
       "name                  3 bed + 3 bath + 1 family space + 2 balconies ...  \n",
       "price                                                           60000.0  \n",
       "property_description  The apartment is in the heart of New D.O.H.S, ...  \n",
       "date_posted                                   2023-04-06 22:00:00+00:00  \n",
       "purpose                                                            Rent  \n",
       "url                   http://dhakaflats.com/details.php?id=5&search_...  \n",
       "date_crawled                                                 2023-04-07  \n",
       "name_english          3 Bed + 3 Bath + 1 Family space + 2 Balconies ...  \n",
       "description_english   The apartment is in the heart of New D.O.H.S, ...  \n",
       "city                                                              Dhaka  \n",
       "address                                                   MohakhaliDOHS  "
      ]
     },
     "execution_count": 33,
     "metadata": {},
     "output_type": "execute_result"
    }
   ],
   "source": [
    "# Load saved csv (to make sure it was successfully save)\n",
    "clean_dhakaflats = pd.read_csv(f\"{cleaned_dhakaflats_folder}/cleaned_dhakaflats.csv\")\n",
    "clean_dhakaflats.head(3).T"
   ]
  },
  {
   "cell_type": "code",
   "execution_count": null,
   "id": "7db13bf4",
   "metadata": {},
   "outputs": [],
   "source": []
  },
  {
   "cell_type": "code",
   "execution_count": null,
   "id": "30b00e35",
   "metadata": {},
   "outputs": [],
   "source": []
  },
  {
   "cell_type": "code",
   "execution_count": null,
   "id": "d09dd1cc",
   "metadata": {},
   "outputs": [],
   "source": []
  }
 ],
 "metadata": {
  "kernelspec": {
   "display_name": "Python 3 (ipykernel)",
   "language": "python",
   "name": "python3"
  },
  "language_info": {
   "codemirror_mode": {
    "name": "ipython",
    "version": 3
   },
   "file_extension": ".py",
   "mimetype": "text/x-python",
   "name": "python",
   "nbconvert_exporter": "python",
   "pygments_lexer": "ipython3",
   "version": "3.10.9"
  }
 },
 "nbformat": 4,
 "nbformat_minor": 5
}
