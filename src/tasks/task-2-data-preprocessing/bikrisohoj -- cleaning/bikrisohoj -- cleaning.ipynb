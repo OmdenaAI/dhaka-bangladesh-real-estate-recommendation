{
 "cells": [
  {
   "cell_type": "code",
   "execution_count": null,
   "id": "7aab3316",
   "metadata": {},
   "outputs": [],
   "source": []
  },
  {
   "cell_type": "markdown",
   "id": "d83c7ca4",
   "metadata": {},
   "source": [
    "## Table of content\n",
    "\n",
    "1. [Assessment](#assessment) -> [Report summary](#assessment-report)\n",
    "1. [Cleaning](#cleaning)"
   ]
  },
  {
   "cell_type": "code",
   "execution_count": null,
   "id": "427ae44b",
   "metadata": {},
   "outputs": [],
   "source": []
  },
  {
   "cell_type": "code",
   "execution_count": 40,
   "id": "c78a506b",
   "metadata": {},
   "outputs": [],
   "source": [
    "import pandas as pd\n",
    "import numpy as np\n",
    "\n",
    "import matplotlib.pyplot as plt\n",
    "\n",
    "from googletrans import Translator, constants # https://www.thepythoncode.com/article/translate-text-in-python\n",
    "from slugify import slugify\n",
    "import os\n",
    "\n",
    "import sys\n",
    "\n",
    "sys.path.append(\"../functions\")\n",
    "from address_extractor import get_detailed_address\n",
    "\n",
    "%matplotlib inline"
   ]
  },
  {
   "cell_type": "code",
   "execution_count": 41,
   "id": "e4a3e5d9",
   "metadata": {},
   "outputs": [
    {
     "data": {
      "text/plain": [
       "{'City': 'Dhaka', 'Area': 'Rampura', 'Address': ''}"
      ]
     },
     "execution_count": 41,
     "metadata": {},
     "output_type": "execute_result"
    }
   ],
   "source": [
    "get_detailed_address(\"Dhaka, Dhaka, Rampura\")"
   ]
  },
  {
   "cell_type": "code",
   "execution_count": null,
   "id": "6528709c",
   "metadata": {},
   "outputs": [],
   "source": []
  },
  {
   "cell_type": "code",
   "execution_count": 2,
   "id": "fe6bc2ba",
   "metadata": {},
   "outputs": [
    {
     "name": "stdout",
     "output_type": "stream",
     "text": [
      "Hola Mundo (es) --> Hello World (en)\n"
     ]
    }
   ],
   "source": [
    "# init the Google API translator\n",
    "translator = Translator()\n",
    "\n",
    "# translate a spanish text to english text (by default)\n",
    "translation = translator.translate(\"Hola Mundo\")\n",
    "print(f\"{translation.origin} ({translation.src}) --> {translation.text} ({translation.dest})\")"
   ]
  },
  {
   "cell_type": "code",
   "execution_count": 3,
   "id": "bd0071c4",
   "metadata": {},
   "outputs": [
    {
     "name": "stdout",
     "output_type": "stream",
     "text": [
      "ফ্ল্যাটে উঠেও কিস্তি চালাতে পারবেন (bn) --> You can pay installments even in the flat (en)\n"
     ]
    }
   ],
   "source": [
    "translation2 = translator.translate(\"ফ্ল্যাটে উঠেও কিস্তি চালাতে পারবেন\")\n",
    "print(f\"{translation2.origin} ({translation2.src}) --> {translation2.text} ({translation2.dest})\")"
   ]
  },
  {
   "cell_type": "code",
   "execution_count": null,
   "id": "2c5e6bc0",
   "metadata": {},
   "outputs": [],
   "source": []
  },
  {
   "cell_type": "code",
   "execution_count": 4,
   "id": "7de94e56",
   "metadata": {},
   "outputs": [
    {
     "data": {
      "text/plain": [
       "'\\nText translation: \\n    - https://www.thepythoncode.com/article/translate-text-in-python\\n    - https://huggingface.co/course/chapter1/3?fw=pt\\n'"
      ]
     },
     "execution_count": 4,
     "metadata": {},
     "output_type": "execute_result"
    }
   ],
   "source": [
    "\"\"\"\n",
    "Text translation: \n",
    "    - https://www.thepythoncode.com/article/translate-text-in-python\n",
    "    - https://huggingface.co/course/chapter1/3?fw=pt\n",
    "\"\"\""
   ]
  },
  {
   "cell_type": "code",
   "execution_count": null,
   "id": "a2b9d70f",
   "metadata": {},
   "outputs": [],
   "source": []
  },
  {
   "cell_type": "code",
   "execution_count": 5,
   "id": "4153854b",
   "metadata": {},
   "outputs": [],
   "source": [
    "# CSV folders\n",
    "\n",
    "raw_data_folder=\"../../../data/Raw_Data\"\n",
    "cleaned_data_folder=\"../../../data/CLeaned_Data\"\n",
    "\n",
    "bikrisohoj_folder= f\"{raw_data_folder}/bikrisohoj_spider\"\n",
    "cleaned_bikrisohoj_folder= f\"{cleaned_data_folder}/bikrisohoj\""
   ]
  },
  {
   "cell_type": "code",
   "execution_count": null,
   "id": "b0a0b235",
   "metadata": {},
   "outputs": [],
   "source": []
  },
  {
   "cell_type": "markdown",
   "id": "8798b133",
   "metadata": {},
   "source": [
    "<span id=\"bproperty-assessment\"> </span>\n",
    "\n",
    "## Assessing `bikrisohoj`"
   ]
  },
  {
   "cell_type": "code",
   "execution_count": 6,
   "id": "13555204",
   "metadata": {},
   "outputs": [
    {
     "data": {
      "text/html": [
       "<div>\n",
       "<style scoped>\n",
       "    .dataframe tbody tr th:only-of-type {\n",
       "        vertical-align: middle;\n",
       "    }\n",
       "\n",
       "    .dataframe tbody tr th {\n",
       "        vertical-align: top;\n",
       "    }\n",
       "\n",
       "    .dataframe thead th {\n",
       "        text-align: right;\n",
       "    }\n",
       "</style>\n",
       "<table border=\"1\" class=\"dataframe\">\n",
       "  <thead>\n",
       "    <tr style=\"text-align: right;\">\n",
       "      <th></th>\n",
       "      <th>Name</th>\n",
       "      <th>Location</th>\n",
       "      <th>Description</th>\n",
       "      <th>Ad posted time</th>\n",
       "      <th>Price</th>\n",
       "      <th>AD URL</th>\n",
       "    </tr>\n",
       "  </thead>\n",
       "  <tbody>\n",
       "    <tr>\n",
       "      <th>0</th>\n",
       "      <td>ফ্ল্যাটে উঠেও কিস্তি চালাতে পারবেন</td>\n",
       "      <td>Dhaka, Dhaka, Keraniganj</td>\n",
       "      <td>\\n                                            ...</td>\n",
       "      <td>26 Mar 2023 02:13 am</td>\n",
       "      <td>3,150</td>\n",
       "      <td>https://www.bikrisohoj.com/details/%e0%a6%ab%e...</td>\n",
       "    </tr>\n",
       "    <tr>\n",
       "      <th>1</th>\n",
       "      <td>প্লটন থেকে ৪ কি.মি দূরত্বে কিস্তি প্রায় রেডি ফ...</td>\n",
       "      <td>Dhaka, Dhaka, Keraniganj</td>\n",
       "      <td>\\n                                            ...</td>\n",
       "      <td>26 Mar 2023 02:21 am</td>\n",
       "      <td>3,850</td>\n",
       "      <td>https://www.bikrisohoj.com/details/%e0%a6%aa%e...</td>\n",
       "    </tr>\n",
       "    <tr>\n",
       "      <th>2</th>\n",
       "      <td>Apartment for rent</td>\n",
       "      <td>Dhaka, Dhaka, Uttara</td>\n",
       "      <td>\\n                                            ...</td>\n",
       "      <td>22 Mar 2023 10:42 pm</td>\n",
       "      <td>50,000</td>\n",
       "      <td>https://www.bikrisohoj.com/details/apartment-f...</td>\n",
       "    </tr>\n",
       "    <tr>\n",
       "      <th>3</th>\n",
       "      <td>A modern well decorated flat at Banasree,Rampu...</td>\n",
       "      <td>Dhaka, Dhaka, Rampura</td>\n",
       "      <td>\\n                                            ...</td>\n",
       "      <td>26 Mar 2023 02:21 am</td>\n",
       "      <td>12,000,000</td>\n",
       "      <td>https://www.bikrisohoj.com/details/a-modern-we...</td>\n",
       "    </tr>\n",
       "    <tr>\n",
       "      <th>4</th>\n",
       "      <td>ইন্ডাস্ট্রিয়াল সেড / INDUSTRIAL SHED FOR RENT</td>\n",
       "      <td>Dhaka, Narayanganj</td>\n",
       "      <td>\\n                                            ...</td>\n",
       "      <td>26 Mar 2023 02:16 am</td>\n",
       "      <td>150,000</td>\n",
       "      <td>https://www.bikrisohoj.com/details/%e0%a6%87%e...</td>\n",
       "    </tr>\n",
       "  </tbody>\n",
       "</table>\n",
       "</div>"
      ],
      "text/plain": [
       "                                                Name  \\\n",
       "0                 ফ্ল্যাটে উঠেও কিস্তি চালাতে পারবেন   \n",
       "1  প্লটন থেকে ৪ কি.মি দূরত্বে কিস্তি প্রায় রেডি ফ...   \n",
       "2                                 Apartment for rent   \n",
       "3  A modern well decorated flat at Banasree,Rampu...   \n",
       "4      ইন্ডাস্ট্রিয়াল সেড / INDUSTRIAL SHED FOR RENT   \n",
       "\n",
       "                    Location  \\\n",
       "0   Dhaka, Dhaka, Keraniganj   \n",
       "1   Dhaka, Dhaka, Keraniganj   \n",
       "2       Dhaka, Dhaka, Uttara   \n",
       "3      Dhaka, Dhaka, Rampura   \n",
       "4         Dhaka, Narayanganj   \n",
       "\n",
       "                                         Description          Ad posted time  \\\n",
       "0  \\n                                            ...   26 Mar 2023 02:13 am    \n",
       "1  \\n                                            ...   26 Mar 2023 02:21 am    \n",
       "2  \\n                                            ...   22 Mar 2023 10:42 pm    \n",
       "3  \\n                                            ...   26 Mar 2023 02:21 am    \n",
       "4  \\n                                            ...   26 Mar 2023 02:16 am    \n",
       "\n",
       "        Price                                             AD URL  \n",
       "0       3,150  https://www.bikrisohoj.com/details/%e0%a6%ab%e...  \n",
       "1       3,850  https://www.bikrisohoj.com/details/%e0%a6%aa%e...  \n",
       "2      50,000  https://www.bikrisohoj.com/details/apartment-f...  \n",
       "3  12,000,000  https://www.bikrisohoj.com/details/a-modern-we...  \n",
       "4     150,000  https://www.bikrisohoj.com/details/%e0%a6%87%e...  "
      ]
     },
     "execution_count": 6,
     "metadata": {},
     "output_type": "execute_result"
    }
   ],
   "source": [
    "df=pd.read_csv(f\"{bikrisohoj_folder}/mohammedadnan_bikrisohoj.csv\")\n",
    "df.head()"
   ]
  },
  {
   "cell_type": "markdown",
   "id": "d6ea365e",
   "metadata": {},
   "source": [
    "`Name` has some samples not en English. Those samples should be translated to English. (quality issue)"
   ]
  },
  {
   "cell_type": "code",
   "execution_count": null,
   "id": "438677ce",
   "metadata": {},
   "outputs": [],
   "source": []
  },
  {
   "cell_type": "code",
   "execution_count": 7,
   "id": "633f7f13",
   "metadata": {},
   "outputs": [
    {
     "data": {
      "text/plain": [
       "(940, 6)"
      ]
     },
     "execution_count": 7,
     "metadata": {},
     "output_type": "execute_result"
    }
   ],
   "source": [
    "df.shape"
   ]
  },
  {
   "cell_type": "code",
   "execution_count": 8,
   "id": "d9644018",
   "metadata": {
    "scrolled": true
   },
   "outputs": [
    {
     "data": {
      "text/plain": [
       "Name                             ফ্ল্যাটে উঠেও কিস্তি চালাতে পারবেন\n",
       "Location                                   Dhaka, Dhaka, Keraniganj\n",
       "Description       \\n                                            ...\n",
       "Ad posted time                                26 Mar 2023 02:13 am \n",
       "Price                                                         3,150\n",
       "AD URL            https://www.bikrisohoj.com/details/%e0%a6%ab%e...\n",
       "Name: 0, dtype: object"
      ]
     },
     "execution_count": 8,
     "metadata": {},
     "output_type": "execute_result"
    }
   ],
   "source": [
    "df.loc[0]"
   ]
  },
  {
   "cell_type": "code",
   "execution_count": null,
   "id": "ecfd4c79",
   "metadata": {},
   "outputs": [],
   "source": []
  },
  {
   "cell_type": "code",
   "execution_count": 9,
   "id": "8abb51cf",
   "metadata": {},
   "outputs": [
    {
     "data": {
      "text/plain": [
       "'\\n                                            ## মতিঝিল থেকে মাত্র ৭ কিলোমিটার\\n\\n• সামনে প্রশস্ত রাস্তা\\n\\n## ১০০০, ১১৫০, ১২৫০ ও ১৪৫০ বর্গফুটের রেডি ফ্ল্যাট\\n\\n* ৩টি/৪টি বেড, ৩টি বাথ, ডাইনিং, ড্রইং ও বারান্দা সহ রেডি ফ্ল্যাট\\n\\n** প্রতি বর্গফুটের মূল্য মাত্র ৩১৫০/- টাকা ।\\n\\n## আপনি মাত্র ডাউন পেমেন্ট দিয়েই ফ্ল্যাটে উঠে যেতে পারবেন ।\\n\\nবাকি টাকা ২ বছরের কিস্তিতে পরিশোধ করার সুযোগ পাবেন (দীর্ঘমেয়াদী কিস্তির সুযোগ ও রয়েছে)। ফ্ল্যাট কেনার ইচ্ছা থাকলে সুযোগটি আপনিও নিতে পারেন ।\\n\\n## ফ্ল্যাটে ও ফ্ল্যাটের আশে পাশে নাগরিক সকল সুবিধা বিদ্যমান । তাই থাকার মত আবাসিক পরিবেশের জন্য আগে সরাসরি ফ্ল্যাটটি দেখুন ।\\n\\nতাই আর দেরি কেন বিস্তারিত তথ্যের জন্য আজই যোগাযোগ করুন >>>\\nমোবাইল – 01855-646432\\n– 01710-690820\\n\\nOnline Contact ( imo, WhatsApp, Viver ) – 01855-646432\\nঅথবা\\nআপনার মোবাইল নাম্বার দিয়ে ইনবক্স করুন, ধন্যবাদ ।\\n\\n### বি: দ্র: এছাড়াও আমাদের ছোট থেকে শুরু করে বিভিন্ন সাইজের রেডি ফ্ল্যাট আছে এবং বিভিন্ন সাইজের রেডি প্লট এককালিন ও সওজ কিস্তিতে বিক্রয় করি।                                    '"
      ]
     },
     "execution_count": 9,
     "metadata": {},
     "output_type": "execute_result"
    }
   ],
   "source": [
    "df.loc[0,\"Description\"]"
   ]
  },
  {
   "cell_type": "markdown",
   "id": "f9aba008",
   "metadata": {},
   "source": [
    "`Description` has samples that are not en English. Those samples should be translated to English. (quality issue)"
   ]
  },
  {
   "cell_type": "code",
   "execution_count": null,
   "id": "72c24a2e",
   "metadata": {},
   "outputs": [],
   "source": []
  },
  {
   "cell_type": "code",
   "execution_count": 10,
   "id": "023a27ae",
   "metadata": {},
   "outputs": [
    {
     "data": {
      "text/plain": [
       "'mtijhil-theke-maatr-7-kilomittaar-saamne-prshst-raastaa-1000-1150-1250-o-1450-brgphutter-reddi-phlyaatt-3tti-4tti-bedd-3tti-baath-ddaainin-ddrin-o-baaraandaa-sh-reddi-phlyaatt-prti-brgphutter-muuly-maatr-3150-ttaakaa-aapni-maatr-ddaaun-pementt-diyei-phlyaatte-utthe-yete-paarben-baaki-ttaakaa-2-bchrer-kistite-prishodh-kraar-suyog-paaben-diirghmeyyaadii-kistir-suyog-o-ryyeche-phlyaatt-kenaar-icchaa-thaakle-suyogtti-aapnio-nite-paaren-phlyaatte-o-phlyaatter-aashe-paashe-naagrik-skl-subidhaa-bidymaan-taai-thaakaar-mt-aabaasik-pribesher-jny-aage-sraasri-phlyaatttti-dekhun-taai-aar-deri-ken-bistaarit-tthyer-jny-aaji-yogaayog-krun-mobaail-01855-646432-01710-690820-online-contact-imo-whatsapp-viver-01855-646432-athbaa-aapnaar-mobaail-naambaar-diyye-inbks-krun-dhnybaad-bi-dr-echaarraao-aamaader-chott-theke-shuru-kre-bibhinn-saaijer-reddi-phlyaatt-aache-ebn-bibhinn-saaijer-reddi-pltt-ekkaalin-o-soj-kistite-bikryy-kri'"
      ]
     },
     "execution_count": 10,
     "metadata": {},
     "output_type": "execute_result"
    }
   ],
   "source": [
    "slugify(df.loc[0,\"Description\"])"
   ]
  },
  {
   "cell_type": "code",
   "execution_count": null,
   "id": "a4118e5c",
   "metadata": {},
   "outputs": [],
   "source": []
  },
  {
   "cell_type": "code",
   "execution_count": 11,
   "id": "81543301",
   "metadata": {},
   "outputs": [
    {
     "name": "stdout",
     "output_type": "stream",
     "text": [
      "<class 'pandas.core.frame.DataFrame'>\n",
      "RangeIndex: 940 entries, 0 to 939\n",
      "Data columns (total 6 columns):\n",
      " #   Column          Non-Null Count  Dtype \n",
      "---  ------          --------------  ----- \n",
      " 0   Name            940 non-null    object\n",
      " 1   Location        940 non-null    object\n",
      " 2   Description     940 non-null    object\n",
      " 3   Ad posted time  940 non-null    object\n",
      " 4   Price           940 non-null    object\n",
      " 5   AD URL          940 non-null    object\n",
      "dtypes: object(6)\n",
      "memory usage: 44.2+ KB\n"
     ]
    }
   ],
   "source": [
    "df.info()"
   ]
  },
  {
   "cell_type": "markdown",
   "id": "b202a5dd",
   "metadata": {},
   "source": [
    "* `Ad posted time` should be of type datetime, not str. (quality issue)\n",
    "* `Price` should be of type float, not str. (quality issue)\n",
    "* `location` should be splitted to `city` and `address`. (tidiness issue)\n",
    "* Column names should become lowercase for consistency with the other datasets cleaned. (tidiness issue)"
   ]
  },
  {
   "cell_type": "code",
   "execution_count": null,
   "id": "ecd84c41",
   "metadata": {},
   "outputs": [],
   "source": []
  },
  {
   "cell_type": "code",
   "execution_count": null,
   "id": "5f9f2638",
   "metadata": {},
   "outputs": [],
   "source": []
  },
  {
   "cell_type": "markdown",
   "id": "b73ff279",
   "metadata": {},
   "source": [
    "<span id=\"assessment-report\"> </span>\n",
    "\n",
    "#### Assessment report summary\n",
    "\n",
    "##### Quality issues\n",
    "1. `Name` has some samples not en English. Those samples should be translated to English\n",
    "1. `Description` has samples that are not en English. Those samples should be translated to English. (quality issue)\n",
    "1. `Ad posted time` should be of type datetime, not str.\n",
    "1. `Price` should be of type float, not str.\n",
    "\n",
    "\n",
    "##### Tidiness issues\n",
    "1. `location` should be splitted to `city`, `locality`, and `address`. (tidiness issue)\n",
    "1. Column names should become lowercase for consistency with the other datasets cleaned. (tidiness issue)\n",
    "1. Column names should be reviewed to be made consistent with the names agreed with the other contributors. (tidiness issue)\n",
    "1. Further informations should be extracted from translated `Name` and `Description` columns:\n",
    "    * purpose: Sale/Rent\n",
    "    * nature: Residential/Commercial\n",
    "    * type: apartment/shop/..."
   ]
  },
  {
   "cell_type": "code",
   "execution_count": null,
   "id": "7902d870",
   "metadata": {},
   "outputs": [],
   "source": []
  },
  {
   "cell_type": "code",
   "execution_count": null,
   "id": "1e0380a7",
   "metadata": {},
   "outputs": [],
   "source": []
  },
  {
   "cell_type": "markdown",
   "id": "fe9e30f0",
   "metadata": {},
   "source": [
    "<span id=\"cleaning\"> </span>\n",
    "\n",
    "## Cleaning"
   ]
  },
  {
   "cell_type": "code",
   "execution_count": null,
   "id": "e95b139b",
   "metadata": {},
   "outputs": [],
   "source": []
  },
  {
   "cell_type": "markdown",
   "id": "1eb7c2da",
   "metadata": {},
   "source": [
    "###  `Name` has some samples not en English ( [quality issues #1 & #2](#assessment-report) )\n",
    "\n",
    "`Name` and `Description` have some samples not en English. Those samples should be translated to English."
   ]
  },
  {
   "cell_type": "code",
   "execution_count": 12,
   "id": "b7779176",
   "metadata": {},
   "outputs": [
    {
     "data": {
      "text/plain": [
       "0                   ফ্ল্যাটে উঠেও কিস্তি চালাতে পারবেন\n",
       "1    প্লটন থেকে ৪ কি.মি দূরত্বে কিস্তি প্রায় রেডি ফ...\n",
       "2                                   Apartment for rent\n",
       "3    A modern well decorated flat at Banasree,Rampu...\n",
       "4        ইন্ডাস্ট্রিয়াল সেড / INDUSTRIAL SHED FOR RENT\n",
       "Name: Name, dtype: object"
      ]
     },
     "execution_count": 12,
     "metadata": {},
     "output_type": "execute_result"
    }
   ],
   "source": [
    "df[\"Name\"].head()"
   ]
  },
  {
   "cell_type": "code",
   "execution_count": 13,
   "id": "39ee182c",
   "metadata": {},
   "outputs": [
    {
     "data": {
      "text/plain": [
       "'\\n                                            ## মতিঝিল থেকে মাত্র ৭ কিলোমিটার\\n\\n• সামনে প্রশস্ত রাস্তা\\n\\n## ১০০০, ১১৫০, ১২৫০ ও ১৪৫০ বর্গফুটের রেডি ফ্ল্যাট\\n\\n* ৩টি/৪টি বেড, ৩টি বাথ, ডাইনিং, ড্রইং ও বারান্দা সহ রেডি ফ্ল্যাট\\n\\n** প্রতি বর্গফুটের মূল্য মাত্র ৩১৫০/- টাকা ।\\n\\n## আপনি মাত্র ডাউন পেমেন্ট দিয়েই ফ্ল্যাটে উঠে যেতে পারবেন ।\\n\\nবাকি টাকা ২ বছরের কিস্তিতে পরিশোধ করার সুযোগ পাবেন (দীর্ঘমেয়াদী কিস্তির সুযোগ ও রয়েছে)। ফ্ল্যাট কেনার ইচ্ছা থাকলে সুযোগটি আপনিও নিতে পারেন ।\\n\\n## ফ্ল্যাটে ও ফ্ল্যাটের আশে পাশে নাগরিক সকল সুবিধা বিদ্যমান । তাই থাকার মত আবাসিক পরিবেশের জন্য আগে সরাসরি ফ্ল্যাটটি দেখুন ।\\n\\nতাই আর দেরি কেন বিস্তারিত তথ্যের জন্য আজই যোগাযোগ করুন >>>\\nমোবাইল – 01855-646432\\n– 01710-690820\\n\\nOnline Contact ( imo, WhatsApp, Viver ) – 01855-646432\\nঅথবা\\nআপনার মোবাইল নাম্বার দিয়ে ইনবক্স করুন, ধন্যবাদ ।\\n\\n### বি: দ্র: এছাড়াও আমাদের ছোট থেকে শুরু করে বিভিন্ন সাইজের রেডি ফ্ল্যাট আছে এবং বিভিন্ন সাইজের রেডি প্লট এককালিন ও সওজ কিস্তিতে বিক্রয় করি।                                    '"
      ]
     },
     "execution_count": 13,
     "metadata": {},
     "output_type": "execute_result"
    }
   ],
   "source": [
    "df.loc[0,\"Description\"]"
   ]
  },
  {
   "cell_type": "code",
   "execution_count": null,
   "id": "0f63cbcf",
   "metadata": {},
   "outputs": [],
   "source": []
  },
  {
   "cell_type": "markdown",
   "id": "cd3c02a3",
   "metadata": {},
   "source": []
  },
  {
   "cell_type": "markdown",
   "id": "1cc48744",
   "metadata": {},
   "source": [
    "#### Define\n",
    "- Convert `Name` and `Description` to english "
   ]
  },
  {
   "cell_type": "markdown",
   "id": "f4cde336",
   "metadata": {},
   "source": [
    "#### Code"
   ]
  },
  {
   "cell_type": "code",
   "execution_count": 14,
   "id": "9f6b8746",
   "metadata": {},
   "outputs": [],
   "source": [
    "# # init the Google API translator\n",
    "# translator = Translator()\n",
    "\n",
    "\n",
    "# # translate a spanish text to english text (by default)\n",
    "# translation = translator.translate(\"Hola Mundo\")\n",
    "# print(translation)\n",
    "# print(f\"{translation.origin} ({translation.src}) --> {translation.text} ({translation.dest})\")"
   ]
  },
  {
   "cell_type": "code",
   "execution_count": 15,
   "id": "de3a3009",
   "metadata": {},
   "outputs": [],
   "source": [
    "# tr = translator.translate(df[\"Name\"].to_list()) \n",
    "# print(f\"{tr.origin} ({tr.src}) --> {tr.text} ({tr.dest})\")"
   ]
  },
  {
   "cell_type": "code",
   "execution_count": 16,
   "id": "3c1be98a",
   "metadata": {},
   "outputs": [],
   "source": [
    "# tr = translator.translate(df[\"Name\"].to_list())\n",
    "# tr[:5]"
   ]
  },
  {
   "cell_type": "code",
   "execution_count": 17,
   "id": "b3cf4021",
   "metadata": {},
   "outputs": [],
   "source": [
    "# i = 0\n",
    "# for t in tr:\n",
    "#     print(f\"{t.origin} ({t.src}) --> {t.text} ({t.dest})\")\n",
    "    \n",
    "#     i+=1\n",
    "#     if i==5:\n",
    "#         break"
   ]
  },
  {
   "cell_type": "code",
   "execution_count": 18,
   "id": "099c3889",
   "metadata": {},
   "outputs": [
    {
     "name": "stdout",
     "output_type": "stream",
     "text": [
      "Currently processing sample 0...\n",
      "Currently processing sample 100...\n",
      "Currently processing sample 200...\n",
      "Currently processing sample 300...\n",
      "Currently processing sample 400...\n",
      "Currently processing sample 500...\n",
      "Currently processing sample 600...\n",
      "Currently processing sample 700...\n",
      "Currently processing sample 800...\n",
      "Currently processing sample 900...\n",
      "Processing has come to an end\n"
     ]
    }
   ],
   "source": [
    "\"\"\"\n",
    "    Loop through the samples. For each one, translate Name and Location columns to English\n",
    "\"\"\"\n",
    "# init the Google API translator\n",
    "translator = Translator()\n",
    "\n",
    "for index, row in df.iterrows(): # loop through each sample\n",
    "    \n",
    "    # The code may take time, log in the console to keep track of things\n",
    "    if index==0 or index%100==0:\n",
    "        print(f\"Currently processing sample {index}...\")\n",
    "        \n",
    "    # retrieve the Name and Description\n",
    "    name = df.loc[index, \"Name\"]\n",
    "    description = df.loc[index, \"Description\"]\n",
    "    \n",
    "    # translate text\n",
    "    translated_name_obj = translator.translate(name.strip(), src=\"bn\", dest=\"en\")\n",
    "    translated_desc_obj = translator.translate(description.strip(), src=\"bn\", dest=\"en\")\n",
    "    \n",
    "    translated_name = translated_name_obj.text\n",
    "    translated_desc = translated_desc_obj.text\n",
    "#     translated_name = None\n",
    "#     translated_desc = None\n",
    "    \n",
    "#     if translated_name_obj.dest == \"en\": # text succesfully translated to english\n",
    "#         translated_name = translated_name_obj.text\n",
    "#     else:\n",
    "#         translated_name = \"failed\"\n",
    "        \n",
    "#     if translated_desc_obj.dest == \"en\" :  # text succesfully translated to english\n",
    "#         translated_desc = translated_desc_obj.text\n",
    "#     else:\n",
    "#         translated_desc = \"failed\"\n",
    "    \n",
    "    # updating the relevant columns of the sample in the dataframe\n",
    "    df.loc[index, \"translated_name\"] = translated_name\n",
    "    df.loc[index, \"translated_desc\"] = translated_desc\n",
    "\n",
    "print(\"Processing has come to an end\")"
   ]
  },
  {
   "cell_type": "code",
   "execution_count": 19,
   "id": "f273e40f",
   "metadata": {},
   "outputs": [
    {
     "data": {
      "text/html": [
       "<div>\n",
       "<style scoped>\n",
       "    .dataframe tbody tr th:only-of-type {\n",
       "        vertical-align: middle;\n",
       "    }\n",
       "\n",
       "    .dataframe tbody tr th {\n",
       "        vertical-align: top;\n",
       "    }\n",
       "\n",
       "    .dataframe thead th {\n",
       "        text-align: right;\n",
       "    }\n",
       "</style>\n",
       "<table border=\"1\" class=\"dataframe\">\n",
       "  <thead>\n",
       "    <tr style=\"text-align: right;\">\n",
       "      <th></th>\n",
       "      <th>0</th>\n",
       "      <th>1</th>\n",
       "      <th>2</th>\n",
       "    </tr>\n",
       "  </thead>\n",
       "  <tbody>\n",
       "    <tr>\n",
       "      <th>Name</th>\n",
       "      <td>ফ্ল্যাটে উঠেও কিস্তি চালাতে পারবেন</td>\n",
       "      <td>প্লটন থেকে ৪ কি.মি দূরত্বে কিস্তি প্রায় রেডি ফ...</td>\n",
       "      <td>Apartment for rent</td>\n",
       "    </tr>\n",
       "    <tr>\n",
       "      <th>Location</th>\n",
       "      <td>Dhaka, Dhaka, Keraniganj</td>\n",
       "      <td>Dhaka, Dhaka, Keraniganj</td>\n",
       "      <td>Dhaka, Dhaka, Uttara</td>\n",
       "    </tr>\n",
       "    <tr>\n",
       "      <th>Description</th>\n",
       "      <td>\\n                                            ...</td>\n",
       "      <td>\\n                                            ...</td>\n",
       "      <td>\\n                                            ...</td>\n",
       "    </tr>\n",
       "    <tr>\n",
       "      <th>Ad posted time</th>\n",
       "      <td>26 Mar 2023 02:13 am</td>\n",
       "      <td>26 Mar 2023 02:21 am</td>\n",
       "      <td>22 Mar 2023 10:42 pm</td>\n",
       "    </tr>\n",
       "    <tr>\n",
       "      <th>Price</th>\n",
       "      <td>3,150</td>\n",
       "      <td>3,850</td>\n",
       "      <td>50,000</td>\n",
       "    </tr>\n",
       "    <tr>\n",
       "      <th>AD URL</th>\n",
       "      <td>https://www.bikrisohoj.com/details/%e0%a6%ab%e...</td>\n",
       "      <td>https://www.bikrisohoj.com/details/%e0%a6%aa%e...</td>\n",
       "      <td>https://www.bikrisohoj.com/details/apartment-f...</td>\n",
       "    </tr>\n",
       "    <tr>\n",
       "      <th>translated_name</th>\n",
       "      <td>You can pay installments even in the flat</td>\n",
       "      <td>Kisthi is almost ready flat at a distance of 4...</td>\n",
       "      <td>Apartment for rent</td>\n",
       "    </tr>\n",
       "    <tr>\n",
       "      <th>translated_desc</th>\n",
       "      <td>## Only 7 km from Motijheel\\n\\n• Wide road ahe...</td>\n",
       "      <td>** Just less than 4 km from Platon\\n\\n#*# Addr...</td>\n",
       "      <td>Apartment for rent\\n3 rooms\\n2 bathrooms\\n1 li...</td>\n",
       "    </tr>\n",
       "  </tbody>\n",
       "</table>\n",
       "</div>"
      ],
      "text/plain": [
       "                                                                 0  \\\n",
       "Name                            ফ্ল্যাটে উঠেও কিস্তি চালাতে পারবেন   \n",
       "Location                                  Dhaka, Dhaka, Keraniganj   \n",
       "Description      \\n                                            ...   \n",
       "Ad posted time                               26 Mar 2023 02:13 am    \n",
       "Price                                                        3,150   \n",
       "AD URL           https://www.bikrisohoj.com/details/%e0%a6%ab%e...   \n",
       "translated_name          You can pay installments even in the flat   \n",
       "translated_desc  ## Only 7 km from Motijheel\\n\\n• Wide road ahe...   \n",
       "\n",
       "                                                                 1  \\\n",
       "Name             প্লটন থেকে ৪ কি.মি দূরত্বে কিস্তি প্রায় রেডি ফ...   \n",
       "Location                                  Dhaka, Dhaka, Keraniganj   \n",
       "Description      \\n                                            ...   \n",
       "Ad posted time                               26 Mar 2023 02:21 am    \n",
       "Price                                                        3,850   \n",
       "AD URL           https://www.bikrisohoj.com/details/%e0%a6%aa%e...   \n",
       "translated_name  Kisthi is almost ready flat at a distance of 4...   \n",
       "translated_desc  ** Just less than 4 km from Platon\\n\\n#*# Addr...   \n",
       "\n",
       "                                                                 2  \n",
       "Name                                            Apartment for rent  \n",
       "Location                                      Dhaka, Dhaka, Uttara  \n",
       "Description      \\n                                            ...  \n",
       "Ad posted time                               22 Mar 2023 10:42 pm   \n",
       "Price                                                       50,000  \n",
       "AD URL           https://www.bikrisohoj.com/details/apartment-f...  \n",
       "translated_name                                 Apartment for rent  \n",
       "translated_desc  Apartment for rent\\n3 rooms\\n2 bathrooms\\n1 li...  "
      ]
     },
     "execution_count": 19,
     "metadata": {},
     "output_type": "execute_result"
    }
   ],
   "source": [
    "df.head(3).T"
   ]
  },
  {
   "cell_type": "code",
   "execution_count": 20,
   "id": "61d70d8c",
   "metadata": {},
   "outputs": [
    {
     "data": {
      "text/html": [
       "<div>\n",
       "<style scoped>\n",
       "    .dataframe tbody tr th:only-of-type {\n",
       "        vertical-align: middle;\n",
       "    }\n",
       "\n",
       "    .dataframe tbody tr th {\n",
       "        vertical-align: top;\n",
       "    }\n",
       "\n",
       "    .dataframe thead th {\n",
       "        text-align: right;\n",
       "    }\n",
       "</style>\n",
       "<table border=\"1\" class=\"dataframe\">\n",
       "  <thead>\n",
       "    <tr style=\"text-align: right;\">\n",
       "      <th></th>\n",
       "      <th>85</th>\n",
       "      <th>705</th>\n",
       "      <th>311</th>\n",
       "    </tr>\n",
       "  </thead>\n",
       "  <tbody>\n",
       "    <tr>\n",
       "      <th>Name</th>\n",
       "      <td>New 4 bedroom apartment rent in gulshan 2</td>\n",
       "      <td>Space rent</td>\n",
       "      <td>Residential land</td>\n",
       "    </tr>\n",
       "    <tr>\n",
       "      <th>Location</th>\n",
       "      <td>Dhaka, Dhaka, Gulshan</td>\n",
       "      <td>Dhaka, Dhaka, Uttara</td>\n",
       "      <td>Rajshahi, Rajshahi</td>\n",
       "    </tr>\n",
       "    <tr>\n",
       "      <th>Description</th>\n",
       "      <td>\\n                                            ...</td>\n",
       "      <td>\\n                                            ...</td>\n",
       "      <td>\\n                                            ...</td>\n",
       "    </tr>\n",
       "    <tr>\n",
       "      <th>Ad posted time</th>\n",
       "      <td>29 Mar 2022 10:07 pm</td>\n",
       "      <td>11 Oct 2019 07:43 am</td>\n",
       "      <td>28 May 2021 09:37 pm</td>\n",
       "    </tr>\n",
       "    <tr>\n",
       "      <th>Price</th>\n",
       "      <td>120,000</td>\n",
       "      <td>50,000</td>\n",
       "      <td>600,000</td>\n",
       "    </tr>\n",
       "    <tr>\n",
       "      <th>AD URL</th>\n",
       "      <td>https://www.bikrisohoj.com/details/new-4-bedro...</td>\n",
       "      <td>https://www.bikrisohoj.com/details/space-rent-...</td>\n",
       "      <td>https://www.bikrisohoj.com/details/residential...</td>\n",
       "    </tr>\n",
       "    <tr>\n",
       "      <th>translated_name</th>\n",
       "      <td>New 4 Bedroom Apartment for Rent in Gulshan 2</td>\n",
       "      <td>Space rent</td>\n",
       "      <td>Residential land</td>\n",
       "    </tr>\n",
       "    <tr>\n",
       "      <th>translated_desc</th>\n",
       "      <td>The flat description below:\\nSemi-furnished ap...</td>\n",
       "      <td>Around 600 soft, 2nd floor</td>\n",
       "      <td>Kapasia, Katakhali, Rajshahi.</td>\n",
       "    </tr>\n",
       "  </tbody>\n",
       "</table>\n",
       "</div>"
      ],
      "text/plain": [
       "                                                               85   \\\n",
       "Name                     New 4 bedroom apartment rent in gulshan 2   \n",
       "Location                                     Dhaka, Dhaka, Gulshan   \n",
       "Description      \\n                                            ...   \n",
       "Ad posted time                               29 Mar 2022 10:07 pm    \n",
       "Price                                                      120,000   \n",
       "AD URL           https://www.bikrisohoj.com/details/new-4-bedro...   \n",
       "translated_name      New 4 Bedroom Apartment for Rent in Gulshan 2   \n",
       "translated_desc  The flat description below:\\nSemi-furnished ap...   \n",
       "\n",
       "                                                               705  \\\n",
       "Name                                                    Space rent   \n",
       "Location                                      Dhaka, Dhaka, Uttara   \n",
       "Description      \\n                                            ...   \n",
       "Ad posted time                               11 Oct 2019 07:43 am    \n",
       "Price                                                       50,000   \n",
       "AD URL           https://www.bikrisohoj.com/details/space-rent-...   \n",
       "translated_name                                         Space rent   \n",
       "translated_desc                         Around 600 soft, 2nd floor   \n",
       "\n",
       "                                                               311  \n",
       "Name                                              Residential land  \n",
       "Location                                        Rajshahi, Rajshahi  \n",
       "Description      \\n                                            ...  \n",
       "Ad posted time                               28 May 2021 09:37 pm   \n",
       "Price                                                      600,000  \n",
       "AD URL           https://www.bikrisohoj.com/details/residential...  \n",
       "translated_name                                   Residential land  \n",
       "translated_desc                      Kapasia, Katakhali, Rajshahi.  "
      ]
     },
     "execution_count": 20,
     "metadata": {},
     "output_type": "execute_result"
    }
   ],
   "source": [
    "df.sample(3).T"
   ]
  },
  {
   "cell_type": "code",
   "execution_count": 21,
   "id": "0f679708",
   "metadata": {},
   "outputs": [
    {
     "data": {
      "text/html": [
       "<div>\n",
       "<style scoped>\n",
       "    .dataframe tbody tr th:only-of-type {\n",
       "        vertical-align: middle;\n",
       "    }\n",
       "\n",
       "    .dataframe tbody tr th {\n",
       "        vertical-align: top;\n",
       "    }\n",
       "\n",
       "    .dataframe thead th {\n",
       "        text-align: right;\n",
       "    }\n",
       "</style>\n",
       "<table border=\"1\" class=\"dataframe\">\n",
       "  <thead>\n",
       "    <tr style=\"text-align: right;\">\n",
       "      <th></th>\n",
       "      <th>924</th>\n",
       "      <th>752</th>\n",
       "      <th>257</th>\n",
       "    </tr>\n",
       "  </thead>\n",
       "  <tbody>\n",
       "    <tr>\n",
       "      <th>Name</th>\n",
       "      <td>জমির শেয়ার বিক্রয়</td>\n",
       "      <td>Exclusive Nourth Facing 3 Katha@Sector;15/B .U...</td>\n",
       "      <td>Apartment for sale(1100-1300 Sqft)Semi-Ready</td>\n",
       "    </tr>\n",
       "    <tr>\n",
       "      <th>Location</th>\n",
       "      <td>Dhaka, Dhaka, Mohammadpur</td>\n",
       "      <td>Dhaka, Dhaka, Uttara</td>\n",
       "      <td>Dhaka, Dhaka, Keraniganj</td>\n",
       "    </tr>\n",
       "    <tr>\n",
       "      <th>Description</th>\n",
       "      <td>\\n                                            ...</td>\n",
       "      <td>\\n                                            ...</td>\n",
       "      <td>\\n                                            ...</td>\n",
       "    </tr>\n",
       "    <tr>\n",
       "      <th>Ad posted time</th>\n",
       "      <td>04 Jun 2022 08:26 pm</td>\n",
       "      <td>22 Sep 2019 06:50 am</td>\n",
       "      <td>24 Aug 2021 10:19 pm</td>\n",
       "    </tr>\n",
       "    <tr>\n",
       "      <th>Price</th>\n",
       "      <td>1,800,000</td>\n",
       "      <td>2,500,000</td>\n",
       "      <td>4,940,000</td>\n",
       "    </tr>\n",
       "    <tr>\n",
       "      <th>AD URL</th>\n",
       "      <td>https://www.bikrisohoj.com/details/%e0%a6%9c%e...</td>\n",
       "      <td>https://www.bikrisohoj.com/details/exclusive-n...</td>\n",
       "      <td>https://www.bikrisohoj.com/details/apartment-f...</td>\n",
       "    </tr>\n",
       "    <tr>\n",
       "      <th>translated_name</th>\n",
       "      <td>Sale of land shares</td>\n",
       "      <td>EXCLUSIVE NORTH FUCKING 3 katha@sector;15/or ....</td>\n",
       "      <td>Apartment for sale (ga00-1300 scft) semi-ready</td>\n",
       "    </tr>\n",
       "    <tr>\n",
       "      <th>translated_desc</th>\n",
       "      <td>????????❤️স্বল্প মূল্যে জমির শেয়ার বিক্রয় চলছ...</td>\n",
       "      <td>Plot for sale!!! Plot for sale\\r\\nSector-15/B ...</td>\n",
       "      <td>Project Name- REON AROMA HOUSE\\nPlot: 1216 &amp; 1...</td>\n",
       "    </tr>\n",
       "  </tbody>\n",
       "</table>\n",
       "</div>"
      ],
      "text/plain": [
       "                                                               924  \\\n",
       "Name                                           জমির শেয়ার বিক্রয়   \n",
       "Location                                 Dhaka, Dhaka, Mohammadpur   \n",
       "Description      \\n                                            ...   \n",
       "Ad posted time                               04 Jun 2022 08:26 pm    \n",
       "Price                                                    1,800,000   \n",
       "AD URL           https://www.bikrisohoj.com/details/%e0%a6%9c%e...   \n",
       "translated_name                                Sale of land shares   \n",
       "translated_desc  ????????❤️স্বল্প মূল্যে জমির শেয়ার বিক্রয় চলছ...   \n",
       "\n",
       "                                                               752  \\\n",
       "Name             Exclusive Nourth Facing 3 Katha@Sector;15/B .U...   \n",
       "Location                                      Dhaka, Dhaka, Uttara   \n",
       "Description      \\n                                            ...   \n",
       "Ad posted time                               22 Sep 2019 06:50 am    \n",
       "Price                                                    2,500,000   \n",
       "AD URL           https://www.bikrisohoj.com/details/exclusive-n...   \n",
       "translated_name  EXCLUSIVE NORTH FUCKING 3 katha@sector;15/or ....   \n",
       "translated_desc  Plot for sale!!! Plot for sale\\r\\nSector-15/B ...   \n",
       "\n",
       "                                                               257  \n",
       "Name                  Apartment for sale(1100-1300 Sqft)Semi-Ready  \n",
       "Location                                  Dhaka, Dhaka, Keraniganj  \n",
       "Description      \\n                                            ...  \n",
       "Ad posted time                               24 Aug 2021 10:19 pm   \n",
       "Price                                                    4,940,000  \n",
       "AD URL           https://www.bikrisohoj.com/details/apartment-f...  \n",
       "translated_name     Apartment for sale (ga00-1300 scft) semi-ready  \n",
       "translated_desc  Project Name- REON AROMA HOUSE\\nPlot: 1216 & 1...  "
      ]
     },
     "execution_count": 21,
     "metadata": {},
     "output_type": "execute_result"
    }
   ],
   "source": [
    "df.sample(3).T"
   ]
  },
  {
   "cell_type": "code",
   "execution_count": null,
   "id": "054dd12a",
   "metadata": {},
   "outputs": [],
   "source": []
  },
  {
   "cell_type": "markdown",
   "id": "7bd6c46f",
   "metadata": {},
   "source": [
    "During assessment, sample 397 and 924 are found to not having their `Description` successfully translated."
   ]
  },
  {
   "cell_type": "code",
   "execution_count": 22,
   "id": "17600cd4",
   "metadata": {},
   "outputs": [
    {
     "data": {
      "text/plain": [
       "Name                          LAND SHARE KHILGAON NONDIPARA FOR FLAT\n",
       "Location                                                Dhaka, Dhaka\n",
       "Description        \\n                                            ...\n",
       "Ad posted time                                 09 Feb 2021 09:34 pm \n",
       "Price                                                      3,200,000\n",
       "AD URL             https://www.bikrisohoj.com/details/land-share-...\n",
       "translated_name               Land Share Khilgaon Nandipara for Flat\n",
       "translated_desc    আপনি জানেন কি ল্যান্ড শেয়ারে অতি কম খরচে স্বপ...\n",
       "Name: 397, dtype: object"
      ]
     },
     "execution_count": 22,
     "metadata": {},
     "output_type": "execute_result"
    }
   ],
   "source": [
    "df.loc[397]"
   ]
  },
  {
   "cell_type": "code",
   "execution_count": 31,
   "id": "479fa543",
   "metadata": {},
   "outputs": [
    {
     "data": {
      "text/plain": [
       "Name                                             জমির শেয়ার বিক্রয়\n",
       "Location                                   Dhaka, Dhaka, Mohammadpur\n",
       "Description        \\n                                            ...\n",
       "Ad posted time                                 04 Jun 2022 08:26 pm \n",
       "Price                                                      1,800,000\n",
       "AD URL             https://www.bikrisohoj.com/details/%e0%a6%9c%e...\n",
       "translated_name                                  Sale of land shares\n",
       "translated_desc    ????????❤️স্বল্প মূল্যে জমির শেয়ার বিক্রয় চলছ...\n",
       "Name: 924, dtype: object"
      ]
     },
     "execution_count": 31,
     "metadata": {},
     "output_type": "execute_result"
    }
   ],
   "source": [
    "df.loc[924]"
   ]
  },
  {
   "cell_type": "code",
   "execution_count": 23,
   "id": "d6fd0019",
   "metadata": {},
   "outputs": [
    {
     "data": {
      "text/plain": [
       "'\\n                                            আপনি জানেন কি ল্যান্ড শেয়ারে অতি কম খরচে স্বপ্নময়ী ফ্ল্যাটের মালিক হওয়া সম্ভব?\\r\\n\\r\\n???? আমরা প্রচলিত বাজারমূল্য থেকে ৪০% কম মূল্যে যৌথভাবে নির্মাণ করছি আপনার স্বপ্নের ফ্ল্যাট।\\r\\n\\r\\n♥♥ব্যস্তময় জীবনে একটু প্রশান্তি এবং নিজের\\r\\n\\r\\nমত আজীবন আনন্দে সময় কাটানোর জন্য\\r\\n\\r\\n১০২ শতক জমির উপর আমরা নির্মাণ করতে যাচ্ছি ১০ তলা বিশিষ্ট একাধিক ভবন,\\r\\n\\r\\nআমাদের স্বপ্নের আবাসন-\\r\\n\\r\\n\"#মাইলস্টোন_গ্রীন_টাওয়ার\"\\r\\n\\r\\n\"যেখানে আকাশ ছুঁয়ে দেয় হৃদয়ের সীমানা\\r\\n\\r\\nআর স্বপ্নরা মেঘের ডানায় উড়ে যায় নীলিমায়।\"\\r\\n\\r\\n????বিশ্বমানের সুযোগ- সুবিধায় গড়ে উঠা এই প্রকল্পের অবস্থান-\\r\\n\\r\\nরাজধানী ঢাকার প্রান কেন্দ্র আমিন মোহাম্মাদের গ্রীন বনশ্রী প্রজেক্ট সংলগ্ন নন্দীপাড়া শেখের জায়গায় ৬০ ফিট পাকা রাস্তার সাথে....\\r\\n\\r\\nমাত্র ১১ লক্ষ টাকায় ক্রয়সূত্রে জমির মালিক হয়ে নির্মাণ খরচ কিস্তিতে পরিশোধ করে অতি অল্প টাকায় গড়ে তুলুন আপনার স্বপ্নের আবাসন।\\r\\n\\r\\n♦আপনারা জানেন রামপুরা ব্রীজ থেকে স্টাফ-কোয়ার্টার হয়ে ডেমরা পর্যন্ত চার লেন বিশিষ্ট রাস্তার কাজ ইতিমধ্যেই শুরু হয়েছে। এটা বাস্তবায়ন হলে রামপুরা ব্রীজ, হাতিরঝিল বা বিটিভি থেকে আমাদের প্রজেক্টে যেতে সময় লাগবে মাত্র ১০ মিনিট।\\r\\n\\r\\nঅন্যদিকে মতিঝিল থেকে বাসাবো, বৌদ্ধমন্দির, নন্দীপাড়া দিয়ে সময় লাগবে ১৫ মিনিট।\\r\\n\\r\\n♦প্রকল্পটি আফতাবনগর জহুরুল ইসলাম সিটি, বনশ্রী, আমিন মোহাম্মাদ ফাউন্ডেশনের গ্রীন মডেল টাউনের সন্নিকটে ও গ্রীন বনশ্রীর সাথে। অন্যদিকে রয়েছে আমুলিয়া মডেল টাউন। সবমিলে বর্তমান ও আগামীর পরিকল্পিত ঢাকার সবচেয়ে গুরত্বপূর্ণ অবস্থানে রয়েছে আমাদের কাংখিত স্বপ্নের আবাসন #মাইলস্টোন গ্রীন টাওয়ার।\\r\\n\\r\\n♦আমরা নির্ভেজাল জমি ক্রয় করে গ্রাহকদের সাথে নিয়ে বিল্ডিং নির্মাণ করি। যার কারনে প্রচলিত বাজার মূল্য থেকে আমাদের খরচ অনেক কম। এটা আমাদের ২৫ তম প্রজেক্ট। তাই, সরেজমিনে আমাদের প্রজেক্ট ভিজিট করে আমাদেরকে যাচাই করার জন্য বিনীত অনুরোধ করছি।\\r\\n\\r\\n♦♦আমাদের প্রকল্পে ১০০% মানসম্মত ও উন্নত মানের ম্যাটেরিয়ালস ব্যবহার করা হয়।\\r\\n\\r\\n♦♦প্রত্যেক শেয়ার সদস্যকে ১৩০০ বর্গফুট ফ্ল্যাটের সাথে একটি কার পার্কিং দেওয়া হবে। এখনই রেশিও অনুযায়ী জমির সাফকবলা রেজিষ্ট্রেশন দিয়ে দেওয়া হবে। বিল্ডিং নির্মানের টাকা ৩ বছর ব্যাপী কিস্তিতে পরিশোধ করা যাবে।\\r\\n\\r\\n♦♦আরো যা থাকবেঃ\\r\\n\\r\\n১. ০৩ টি বেডরুম\\r\\n\\r\\n২. ০১ টি ড্রয়িং রুম।\\r\\n\\r\\n৩. ০১ টি ডাইনিং রুম।\\r\\n\\r\\n৪. ০২ টি বেলকুনি।\\r\\n\\r\\n৫. ০৩ টি বাথরুম।\\r\\n\\r\\n৬.কিচেন।\\r\\n\\r\\nএই প্রকল্পের সুবিধা সমূহঃ\\r\\n\\r\\n০১. সুইমিং পুল।\\r\\n\\r\\n০২. জমির ৪০% উন্মুক্ত খোলামেলা জায়গায় সবুজের সমারহ।\\r\\n\\r\\n০৩. অত্যাধুনিক উপকরণে সজ্জিত জিমনেসিয়াম।\\r\\n\\r\\n০৪. বাচ্চাদের জন্য আধুনিক প্লে-গ্রাউন্ড।\\r\\n\\r\\n০৫. ইনডোর খেলার ব্যবস্থা।\\r\\n\\r\\n০৬. প্রকল্পের চারিদিকে রয়েছে জগিং ট্র্যাক।\\r\\n\\r\\n০৭. চোখ জুড়ানো ফুলের বাগান।\\r\\n\\r\\n০৮. বিশ্বমানের লিফটের ব্যবস্হা\\r\\n\\r\\n০৯. অতিথি কার পার্কিং সুবিধা।\\r\\n\\r\\n১০. সুপারশপ, রেষ্টুরেন্ট ও কনভেনশন হল।\\r\\n\\r\\n১১. প্রাথমিক স্বাস্থ্য সেবার জন্য মেডিক্যাল হেল্থ কেয়ার ক্যাম্প।\\r\\n\\r\\n১২. মসজিদ\\r\\n\\r\\n১৩. মিনারেল ওয়াটার প্লান্ট????\\r\\n\\r\\n১৪. বিশাল কমিউনিটি স্পেস\\r\\n\\r\\n১৫. ডেকোরেশন করা রিসিপশন সাথে গেস্টদের বসার জায়গাসহ বাথরুম।\\r\\n\\r\\n১৬. সিকিউরিটি রুম সহ সিকিউরিটি দের থাকার জায়গা, কিচেন ও বাথরুম।\\r\\n\\r\\n১৭. ড্রাইভার ওয়েটিং রুম।\\r\\n\\r\\n১৮. অগ্নি নিরাপত্তা ব্যবস্থা (অত্যাধুনিক পদ্ধতিতে)।\\r\\n\\r\\n১৯. ইন্টারকম সার্ভিস।\\r\\n\\r\\n২০. সিসি টিভি ও সিকিউরিটি দিয়ে ২৪ ঘন্টা সম্পূর্ণ নিরাপত্তা ব্যবস্থা।\\r\\n\\r\\nএছাড়াও মাইলস্টোন গ্রীন টাওয়ারে ওয়াই-ফাই সুবিধাসহ লাইব্রেরী, সেলুন, ????এটিএম বুথ, আধুনিক নিরাপত্তা তো থাকছেই......তাই, আপনার বুকিং নিশ্চিত করুন আজই....                                    '"
      ]
     },
     "execution_count": 23,
     "metadata": {},
     "output_type": "execute_result"
    }
   ],
   "source": [
    "df.loc[397,\"Description\"]"
   ]
  },
  {
   "cell_type": "code",
   "execution_count": 24,
   "id": "c8cbe02e",
   "metadata": {},
   "outputs": [],
   "source": [
    "# # init the Google API translator\n",
    "# translator = Translator()\n",
    "\n",
    "# origin_text=\"\\n                                            আপনি জানেন কি ল্যান্ড শেয়ারে অতি কম খরচে স্বপ্নময়ী ফ্ল্যাটের মালিক হওয়া সম্ভব?\\r\\n\\r\\n???? আমরা প্রচলিত বাজারমূল্য থেকে ৪০% কম মূল্যে যৌথভাবে নির্মাণ করছি আপনার স্বপ্নের ফ্ল্যাট।\\r\\n\\r\\n♥♥ব্যস্তময় জীবনে একটু প্রশান্তি এবং নিজের\\r\\n\\r\\nমত আজীবন আনন্দে সময় কাটানোর জন্য\\r\\n\\r\\n১০২ শতক জমির উপর আমরা নির্মাণ করতে যাচ্ছি ১০ তলা বিশিষ্ট একাধিক ভবন,\\r\\n\\r\\nআমাদের স্বপ্নের আবাসন-\\r\\n\\r\\n\"#মাইলস্টোন_গ্রীন_টাওয়ার\"\\r\\n\\r\\n\"যেখানে আকাশ ছুঁয়ে দেয় হৃদয়ের সীমানা\\r\\n\\r\\nআর স্বপ্নরা মেঘের ডানায় উড়ে যায় নীলিমায়।\"\\r\\n\\r\\n????বিশ্বমানের সুযোগ- সুবিধায় গড়ে উঠা এই প্রকল্পের অবস্থান-\\r\\n\\r\\nরাজধানী ঢাকার প্রান কেন্দ্র আমিন মোহাম্মাদের গ্রীন বনশ্রী প্রজেক্ট সংলগ্ন নন্দীপাড়া শেখের জায়গায় ৬০ ফিট পাকা রাস্তার সাথে....\\r\\n\\r\\nমাত্র ১১ লক্ষ টাকায় ক্রয়সূত্রে জমির মালিক হয়ে নির্মাণ খরচ কিস্তিতে পরিশোধ করে অতি অল্প টাকায় গড়ে তুলুন আপনার স্বপ্নের আবাসন।\\r\\n\\r\\n♦আপনারা জানেন রামপুরা ব্রীজ থেকে স্টাফ-কোয়ার্টার হয়ে ডেমরা পর্যন্ত চার লেন বিশিষ্ট রাস্তার কাজ ইতিমধ্যেই শুরু হয়েছে। এটা বাস্তবায়ন হলে রামপুরা ব্রীজ, হাতিরঝিল বা বিটিভি থেকে আমাদের প্রজেক্টে যেতে সময় লাগবে মাত্র ১০ মিনিট।\\r\\n\\r\\nঅন্যদিকে মতিঝিল থেকে বাসাবো, বৌদ্ধমন্দির, নন্দীপাড়া দিয়ে সময় লাগবে ১৫ মিনিট।\\r\\n\\r\\n♦প্রকল্পটি আফতাবনগর জহুরুল ইসলাম সিটি, বনশ্রী, আমিন মোহাম্মাদ ফাউন্ডেশনের গ্রীন মডেল টাউনের সন্নিকটে ও গ্রীন বনশ্রীর সাথে। অন্যদিকে রয়েছে আমুলিয়া মডেল টাউন। সবমিলে বর্তমান ও আগামীর পরিকল্পিত ঢাকার সবচেয়ে গুরত্বপূর্ণ অবস্থানে রয়েছে আমাদের কাংখিত স্বপ্নের আবাসন #মাইলস্টোন গ্রীন টাওয়ার।\\r\\n\\r\\n♦আমরা নির্ভেজাল জমি ক্রয় করে গ্রাহকদের সাথে নিয়ে বিল্ডিং নির্মাণ করি। যার কারনে প্রচলিত বাজার মূল্য থেকে আমাদের খরচ অনেক কম। এটা আমাদের ২৫ তম প্রজেক্ট। তাই, সরেজমিনে আমাদের প্রজেক্ট ভিজিট করে আমাদেরকে যাচাই করার জন্য বিনীত অনুরোধ করছি।\\r\\n\\r\\n♦♦আমাদের প্রকল্পে ১০০% মানসম্মত ও উন্নত মানের ম্যাটেরিয়ালস ব্যবহার করা হয়।\\r\\n\\r\\n♦♦প্রত্যেক শেয়ার সদস্যকে ১৩০০ বর্গফুট ফ্ল্যাটের সাথে একটি কার পার্কিং দেওয়া হবে। এখনই রেশিও অনুযায়ী জমির সাফকবলা রেজিষ্ট্রেশন দিয়ে দেওয়া হবে। বিল্ডিং নির্মানের টাকা ৩ বছর ব্যাপী কিস্তিতে পরিশোধ করা যাবে।\\r\\n\\r\\n♦♦আরো যা থাকবেঃ\\r\\n\\r\\n১. ০৩ টি বেডরুম\\r\\n\\r\\n২. ০১ টি ড্রয়িং রুম।\\r\\n\\r\\n৩. ০১ টি ডাইনিং রুম।\\r\\n\\r\\n৪. ০২ টি বেলকুনি।\\r\\n\\r\\n৫. ০৩ টি বাথরুম।\\r\\n\\r\\n৬.কিচেন।\\r\\n\\r\\nএই প্রকল্পের সুবিধা সমূহঃ\\r\\n\\r\\n০১. সুইমিং পুল।\\r\\n\\r\\n০২. জমির ৪০% উন্মুক্ত খোলামেলা জায়গায় সবুজের সমারহ।\\r\\n\\r\\n০৩. অত্যাধুনিক উপকরণে সজ্জিত জিমনেসিয়াম।\\r\\n\\r\\n০৪. বাচ্চাদের জন্য আধুনিক প্লে-গ্রাউন্ড।\\r\\n\\r\\n০৫. ইনডোর খেলার ব্যবস্থা।\\r\\n\\r\\n০৬. প্রকল্পের চারিদিকে রয়েছে জগিং ট্র্যাক।\\r\\n\\r\\n০৭. চোখ জুড়ানো ফুলের বাগান।\\r\\n\\r\\n০৮. বিশ্বমানের লিফটের ব্যবস্হা\\r\\n\\r\\n০৯. অতিথি কার পার্কিং সুবিধা।\\r\\n\\r\\n১০. সুপারশপ, রেষ্টুরেন্ট ও কনভেনশন হল।\\r\\n\\r\\n১১. প্রাথমিক স্বাস্থ্য সেবার জন্য মেডিক্যাল হেল্থ কেয়ার ক্যাম্প।\\r\\n\\r\\n১২. মসজিদ\\r\\n\\r\\n১৩. মিনারেল ওয়াটার প্লান্ট????\\r\\n\\r\\n১৪. বিশাল কমিউনিটি স্পেস\\r\\n\\r\\n১৫. ডেকোরেশন করা রিসিপশন সাথে গেস্টদের বসার জায়গাসহ বাথরুম।\\r\\n\\r\\n১৬. সিকিউরিটি রুম সহ সিকিউরিটি দের থাকার জায়গা, কিচেন ও বাথরুম।\\r\\n\\r\\n১৭. ড্রাইভার ওয়েটিং রুম।\\r\\n\\r\\n১৮. অগ্নি নিরাপত্তা ব্যবস্থা (অত্যাধুনিক পদ্ধতিতে)।\\r\\n\\r\\n১৯. ইন্টারকম সার্ভিস।\\r\\n\\r\\n২০. সিসি টিভি ও সিকিউরিটি দিয়ে ২৪ ঘন্টা সম্পূর্ণ নিরাপত্তা ব্যবস্থা।\\r\\n\\r\\nএছাড়াও মাইলস্টোন গ্রীন টাওয়ারে ওয়াই-ফাই সুবিধাসহ লাইব্রেরী, সেলুন, ????এটিএম বুথ, আধুনিক নিরাপত্তা তো থাকছেই......তাই, আপনার বুকিং নিশ্চিত করুন আজই....\"\n",
    "\n",
    "# # translate to english text (by default)\n",
    "# translation = translator.translate(origin_text)\n",
    "# print(f\"{translation.origin} ({translation.src}) --> {translation.text} ({translation.dest})\")"
   ]
  },
  {
   "cell_type": "code",
   "execution_count": 33,
   "id": "5246e4b2",
   "metadata": {},
   "outputs": [],
   "source": [
    "# # Check samples which translation have failed\n",
    "# df[ (df[\"translated_desc\"]==\"failed\") | (df[\"translated_name\"]==\"failed\") ]"
   ]
  },
  {
   "cell_type": "code",
   "execution_count": 32,
   "id": "93ac216d",
   "metadata": {},
   "outputs": [],
   "source": [
    "# # init the Google API translator\n",
    "# translator = Translator()\n",
    "\n",
    "# origin_text= df.loc[397,\"Description\"]\n",
    "\n",
    "# # translate to english text (by default)\n",
    "# translation = translator.translate(origin_text)\n",
    "# print(f\"{translation.origin} ({translation.src}) --> {translation.text} ({translation.dest})\")"
   ]
  },
  {
   "cell_type": "code",
   "execution_count": null,
   "id": "58ba1596",
   "metadata": {},
   "outputs": [],
   "source": []
  },
  {
   "cell_type": "markdown",
   "id": "57ff05ea",
   "metadata": {},
   "source": [
    "**Remark**: Not all content were successfully translated."
   ]
  },
  {
   "cell_type": "code",
   "execution_count": null,
   "id": "c85989f3",
   "metadata": {},
   "outputs": [],
   "source": []
  },
  {
   "cell_type": "markdown",
   "id": "3675cb6d",
   "metadata": {},
   "source": [
    "#### Testing"
   ]
  },
  {
   "cell_type": "code",
   "execution_count": null,
   "id": "0f2e56d1",
   "metadata": {},
   "outputs": [],
   "source": []
  },
  {
   "cell_type": "code",
   "execution_count": null,
   "id": "39c3603c",
   "metadata": {},
   "outputs": [],
   "source": []
  },
  {
   "cell_type": "markdown",
   "id": "885c6ecb",
   "metadata": {},
   "source": [
    "###  `Ad posted time` is of type str ( [quality issues #3](#assessment-report) )\n",
    "\n",
    "`Ad posted time` should be of type datetime, not str."
   ]
  },
  {
   "cell_type": "code",
   "execution_count": null,
   "id": "327ddc56",
   "metadata": {},
   "outputs": [],
   "source": []
  },
  {
   "cell_type": "markdown",
   "id": "bed50285",
   "metadata": {},
   "source": [
    "#### Define\n",
    "* Rename `Ad posted time` to `posted_time` (tidiness issue)\n",
    "* Convert `Ad posted time` to datetime"
   ]
  },
  {
   "cell_type": "code",
   "execution_count": null,
   "id": "48c56f88",
   "metadata": {},
   "outputs": [],
   "source": []
  },
  {
   "cell_type": "markdown",
   "id": "195a5c0a",
   "metadata": {},
   "source": [
    "#### Code"
   ]
  },
  {
   "cell_type": "code",
   "execution_count": 34,
   "id": "7f4086a9",
   "metadata": {},
   "outputs": [
    {
     "data": {
      "text/html": [
       "<div>\n",
       "<style scoped>\n",
       "    .dataframe tbody tr th:only-of-type {\n",
       "        vertical-align: middle;\n",
       "    }\n",
       "\n",
       "    .dataframe tbody tr th {\n",
       "        vertical-align: top;\n",
       "    }\n",
       "\n",
       "    .dataframe thead th {\n",
       "        text-align: right;\n",
       "    }\n",
       "</style>\n",
       "<table border=\"1\" class=\"dataframe\">\n",
       "  <thead>\n",
       "    <tr style=\"text-align: right;\">\n",
       "      <th></th>\n",
       "      <th>Name</th>\n",
       "      <th>Location</th>\n",
       "      <th>Description</th>\n",
       "      <th>posted_time</th>\n",
       "      <th>Price</th>\n",
       "      <th>AD URL</th>\n",
       "      <th>translated_name</th>\n",
       "      <th>translated_desc</th>\n",
       "    </tr>\n",
       "  </thead>\n",
       "  <tbody>\n",
       "    <tr>\n",
       "      <th>0</th>\n",
       "      <td>ফ্ল্যাটে উঠেও কিস্তি চালাতে পারবেন</td>\n",
       "      <td>Dhaka, Dhaka, Keraniganj</td>\n",
       "      <td>\\n                                            ...</td>\n",
       "      <td>26 Mar 2023 02:13 am</td>\n",
       "      <td>3,150</td>\n",
       "      <td>https://www.bikrisohoj.com/details/%e0%a6%ab%e...</td>\n",
       "      <td>You can pay installments even in the flat</td>\n",
       "      <td>## Only 7 km from Motijheel\\n\\n• Wide road ahe...</td>\n",
       "    </tr>\n",
       "    <tr>\n",
       "      <th>1</th>\n",
       "      <td>প্লটন থেকে ৪ কি.মি দূরত্বে কিস্তি প্রায় রেডি ফ...</td>\n",
       "      <td>Dhaka, Dhaka, Keraniganj</td>\n",
       "      <td>\\n                                            ...</td>\n",
       "      <td>26 Mar 2023 02:21 am</td>\n",
       "      <td>3,850</td>\n",
       "      <td>https://www.bikrisohoj.com/details/%e0%a6%aa%e...</td>\n",
       "      <td>Kisthi is almost ready flat at a distance of 4...</td>\n",
       "      <td>** Just less than 4 km from Platon\\n\\n#*# Addr...</td>\n",
       "    </tr>\n",
       "    <tr>\n",
       "      <th>2</th>\n",
       "      <td>Apartment for rent</td>\n",
       "      <td>Dhaka, Dhaka, Uttara</td>\n",
       "      <td>\\n                                            ...</td>\n",
       "      <td>22 Mar 2023 10:42 pm</td>\n",
       "      <td>50,000</td>\n",
       "      <td>https://www.bikrisohoj.com/details/apartment-f...</td>\n",
       "      <td>Apartment for rent</td>\n",
       "      <td>Apartment for rent\\n3 rooms\\n2 bathrooms\\n1 li...</td>\n",
       "    </tr>\n",
       "    <tr>\n",
       "      <th>3</th>\n",
       "      <td>A modern well decorated flat at Banasree,Rampu...</td>\n",
       "      <td>Dhaka, Dhaka, Rampura</td>\n",
       "      <td>\\n                                            ...</td>\n",
       "      <td>26 Mar 2023 02:21 am</td>\n",
       "      <td>12,000,000</td>\n",
       "      <td>https://www.bikrisohoj.com/details/a-modern-we...</td>\n",
       "      <td>A modern well decorated flat in Bansree, Rampu...</td>\n",
       "      <td>A well decorated, highly ventilated 1245 sq.ft...</td>\n",
       "    </tr>\n",
       "    <tr>\n",
       "      <th>4</th>\n",
       "      <td>ইন্ডাস্ট্রিয়াল সেড / INDUSTRIAL SHED FOR RENT</td>\n",
       "      <td>Dhaka, Narayanganj</td>\n",
       "      <td>\\n                                            ...</td>\n",
       "      <td>26 Mar 2023 02:16 am</td>\n",
       "      <td>150,000</td>\n",
       "      <td>https://www.bikrisohoj.com/details/%e0%a6%87%e...</td>\n",
       "      <td>Industrial Shed / INDUSTRIAL SHED FOR RENT</td>\n",
       "      <td>Industrial Shed / INDUSTRIAL SHED FOR RENT\\nAd...</td>\n",
       "    </tr>\n",
       "  </tbody>\n",
       "</table>\n",
       "</div>"
      ],
      "text/plain": [
       "                                                Name  \\\n",
       "0                 ফ্ল্যাটে উঠেও কিস্তি চালাতে পারবেন   \n",
       "1  প্লটন থেকে ৪ কি.মি দূরত্বে কিস্তি প্রায় রেডি ফ...   \n",
       "2                                 Apartment for rent   \n",
       "3  A modern well decorated flat at Banasree,Rampu...   \n",
       "4      ইন্ডাস্ট্রিয়াল সেড / INDUSTRIAL SHED FOR RENT   \n",
       "\n",
       "                    Location  \\\n",
       "0   Dhaka, Dhaka, Keraniganj   \n",
       "1   Dhaka, Dhaka, Keraniganj   \n",
       "2       Dhaka, Dhaka, Uttara   \n",
       "3      Dhaka, Dhaka, Rampura   \n",
       "4         Dhaka, Narayanganj   \n",
       "\n",
       "                                         Description             posted_time  \\\n",
       "0  \\n                                            ...   26 Mar 2023 02:13 am    \n",
       "1  \\n                                            ...   26 Mar 2023 02:21 am    \n",
       "2  \\n                                            ...   22 Mar 2023 10:42 pm    \n",
       "3  \\n                                            ...   26 Mar 2023 02:21 am    \n",
       "4  \\n                                            ...   26 Mar 2023 02:16 am    \n",
       "\n",
       "        Price                                             AD URL  \\\n",
       "0       3,150  https://www.bikrisohoj.com/details/%e0%a6%ab%e...   \n",
       "1       3,850  https://www.bikrisohoj.com/details/%e0%a6%aa%e...   \n",
       "2      50,000  https://www.bikrisohoj.com/details/apartment-f...   \n",
       "3  12,000,000  https://www.bikrisohoj.com/details/a-modern-we...   \n",
       "4     150,000  https://www.bikrisohoj.com/details/%e0%a6%87%e...   \n",
       "\n",
       "                                     translated_name  \\\n",
       "0          You can pay installments even in the flat   \n",
       "1  Kisthi is almost ready flat at a distance of 4...   \n",
       "2                                 Apartment for rent   \n",
       "3  A modern well decorated flat in Bansree, Rampu...   \n",
       "4         Industrial Shed / INDUSTRIAL SHED FOR RENT   \n",
       "\n",
       "                                     translated_desc  \n",
       "0  ## Only 7 km from Motijheel\\n\\n• Wide road ahe...  \n",
       "1  ** Just less than 4 km from Platon\\n\\n#*# Addr...  \n",
       "2  Apartment for rent\\n3 rooms\\n2 bathrooms\\n1 li...  \n",
       "3  A well decorated, highly ventilated 1245 sq.ft...  \n",
       "4  Industrial Shed / INDUSTRIAL SHED FOR RENT\\nAd...  "
      ]
     },
     "execution_count": 34,
     "metadata": {},
     "output_type": "execute_result"
    }
   ],
   "source": [
    "# Rename column\n",
    "df.rename(columns={\n",
    "    \"Ad posted time\":\"posted_time\"\n",
    "}, inplace=True)\n",
    "\n",
    "df.head()"
   ]
  },
  {
   "cell_type": "code",
   "execution_count": 35,
   "id": "e6c897c5",
   "metadata": {},
   "outputs": [],
   "source": [
    "# Coonverting from str to datetime\n",
    "df[\"posted_time\"] = pd.to_datetime(df[\"posted_time\"])"
   ]
  },
  {
   "cell_type": "code",
   "execution_count": null,
   "id": "d94aa04f",
   "metadata": {},
   "outputs": [],
   "source": []
  },
  {
   "cell_type": "markdown",
   "id": "fd798924",
   "metadata": {},
   "source": [
    "### Testing"
   ]
  },
  {
   "cell_type": "code",
   "execution_count": 36,
   "id": "08e02dff",
   "metadata": {},
   "outputs": [
    {
     "name": "stdout",
     "output_type": "stream",
     "text": [
      "<class 'pandas.core.frame.DataFrame'>\n",
      "RangeIndex: 940 entries, 0 to 939\n",
      "Data columns (total 8 columns):\n",
      " #   Column           Non-Null Count  Dtype         \n",
      "---  ------           --------------  -----         \n",
      " 0   Name             940 non-null    object        \n",
      " 1   Location         940 non-null    object        \n",
      " 2   Description      940 non-null    object        \n",
      " 3   posted_time      940 non-null    datetime64[ns]\n",
      " 4   Price            940 non-null    object        \n",
      " 5   AD URL           940 non-null    object        \n",
      " 6   translated_name  940 non-null    object        \n",
      " 7   translated_desc  940 non-null    object        \n",
      "dtypes: datetime64[ns](1), object(7)\n",
      "memory usage: 58.9+ KB\n"
     ]
    }
   ],
   "source": [
    "df.info() #[\"posted_time\"].dtype"
   ]
  },
  {
   "cell_type": "code",
   "execution_count": null,
   "id": "b9a244c6",
   "metadata": {},
   "outputs": [],
   "source": []
  },
  {
   "cell_type": "code",
   "execution_count": null,
   "id": "7dd0e844",
   "metadata": {},
   "outputs": [],
   "source": []
  },
  {
   "cell_type": "markdown",
   "id": "b8124f95",
   "metadata": {},
   "source": [
    "### `Price` is of type str ( [quality issues #4](#assessment-report) )\n",
    "\n",
    "`Price` should be of type float, not str. (quality issue)"
   ]
  },
  {
   "cell_type": "code",
   "execution_count": null,
   "id": "66357f83",
   "metadata": {},
   "outputs": [],
   "source": []
  },
  {
   "cell_type": "markdown",
   "id": "f329afec",
   "metadata": {},
   "source": [
    "#### Define\n",
    "* Remove `,` from `Price`\n",
    "* Convert `Price` from str to float"
   ]
  },
  {
   "cell_type": "code",
   "execution_count": null,
   "id": "708cdd19",
   "metadata": {},
   "outputs": [],
   "source": []
  },
  {
   "cell_type": "markdown",
   "id": "0f7581bb",
   "metadata": {},
   "source": [
    "#### Code"
   ]
  },
  {
   "cell_type": "code",
   "execution_count": 37,
   "id": "53946712",
   "metadata": {},
   "outputs": [
    {
     "data": {
      "text/plain": [
       "0        3150.0\n",
       "1        3850.0\n",
       "2       50000.0\n",
       "3    12000000.0\n",
       "4      150000.0\n",
       "Name: Price, dtype: float64"
      ]
     },
     "execution_count": 37,
     "metadata": {},
     "output_type": "execute_result"
    }
   ],
   "source": [
    "df[\"Price\"] = df[\"Price\"].str.replace(\",\",\"\")\n",
    "\n",
    "df[\"Price\"] = df[\"Price\"].astype(float)\n",
    "df[\"Price\"].head()"
   ]
  },
  {
   "cell_type": "code",
   "execution_count": null,
   "id": "8c6c1032",
   "metadata": {},
   "outputs": [],
   "source": []
  },
  {
   "cell_type": "markdown",
   "id": "e1d69902",
   "metadata": {},
   "source": [
    "#### Testing"
   ]
  },
  {
   "cell_type": "code",
   "execution_count": 38,
   "id": "925f3084",
   "metadata": {},
   "outputs": [
    {
     "data": {
      "text/plain": [
       "dtype('float64')"
      ]
     },
     "execution_count": 38,
     "metadata": {},
     "output_type": "execute_result"
    }
   ],
   "source": [
    "df[\"Price\"].dtype"
   ]
  },
  {
   "cell_type": "code",
   "execution_count": null,
   "id": "c705b2fa",
   "metadata": {},
   "outputs": [],
   "source": []
  },
  {
   "cell_type": "code",
   "execution_count": null,
   "id": "4ac86e2e",
   "metadata": {},
   "outputs": [],
   "source": []
  },
  {
   "cell_type": "markdown",
   "id": "d08c0970",
   "metadata": {},
   "source": [
    "### Split `location` column content into adequate columns ( [tidiness issues #1](#assessment-report) )\n",
    "\n",
    " `location` should be splitted to `city`, `zone`, and `address`. (tidiness issue)"
   ]
  },
  {
   "cell_type": "code",
   "execution_count": 39,
   "id": "267e37ee",
   "metadata": {},
   "outputs": [
    {
     "data": {
      "text/plain": [
       "0       Dhaka, Dhaka, Keraniganj\n",
       "1       Dhaka, Dhaka, Keraniganj\n",
       "2           Dhaka, Dhaka, Uttara\n",
       "3          Dhaka, Dhaka, Rampura\n",
       "4             Dhaka, Narayanganj\n",
       "                 ...            \n",
       "935         Dhaka, Dhaka, Uttara\n",
       "936     Dhaka, Dhaka, Keraniganj\n",
       "937           Dhaka, Narayanganj\n",
       "938       Chittagong, Chattogram\n",
       "939     Dhaka, Dhaka, Keraniganj\n",
       "Name: Location, Length: 940, dtype: object"
      ]
     },
     "execution_count": 39,
     "metadata": {},
     "output_type": "execute_result"
    }
   ],
   "source": [
    "df[\"Location\"]"
   ]
  },
  {
   "cell_type": "code",
   "execution_count": null,
   "id": "4bd7415b",
   "metadata": {},
   "outputs": [],
   "source": []
  },
  {
   "cell_type": "markdown",
   "id": "5f2060b5",
   "metadata": {},
   "source": [
    "#### Define\n",
    "* Retrieve the city, area, and address from each `location` through `get_detailed_address()`\n",
    "* Update new columns (city, locality, address) based on values retrieve from `location`"
   ]
  },
  {
   "cell_type": "code",
   "execution_count": 45,
   "id": "a04e90c3",
   "metadata": {},
   "outputs": [
    {
     "data": {
      "text/plain": [
       "(940, 8)"
      ]
     },
     "execution_count": 45,
     "metadata": {},
     "output_type": "execute_result"
    }
   ],
   "source": [
    "df.shape"
   ]
  },
  {
   "cell_type": "markdown",
   "id": "aa4ea545",
   "metadata": {},
   "source": [
    "#### Code"
   ]
  },
  {
   "cell_type": "code",
   "execution_count": null,
   "id": "0b0ef645",
   "metadata": {},
   "outputs": [],
   "source": [
    "# # Retrieve city in location\n",
    "# df[\"city\"] = df[\"Location\"].apply(lambda x: x.split(\",\")[0].strip() )\n",
    "\n",
    "# # Retrieve address in location\n",
    "# df[\"address\"] = df[\"Location\"].apply(lambda x: \",\".join(x.split(\",\")[1:]).strip() )"
   ]
  },
  {
   "cell_type": "code",
   "execution_count": 44,
   "id": "bc7da58b",
   "metadata": {},
   "outputs": [
    {
     "data": {
      "text/plain": [
       "{'City': 'Dhaka', 'Area': 'Keraniganj', 'Address': ''}"
      ]
     },
     "execution_count": 44,
     "metadata": {},
     "output_type": "execute_result"
    }
   ],
   "source": [
    "# testing the get_detailed_address\n",
    "get_detailed_address(df[\"Location\"][0])"
   ]
  },
  {
   "cell_type": "code",
   "execution_count": 48,
   "id": "336e18b3",
   "metadata": {},
   "outputs": [
    {
     "name": "stdout",
     "output_type": "stream",
     "text": [
      "Currently processing sample 0...\n",
      "Currently processing sample 100...\n",
      "Currently processing sample 200...\n",
      "Currently processing sample 300...\n",
      "Currently processing sample 400...\n",
      "Currently processing sample 500...\n",
      "Currently processing sample 600...\n",
      "Currently processing sample 700...\n",
      "Currently processing sample 800...\n",
      "Currently processing sample 900...\n",
      "Processing has come to an end\n"
     ]
    }
   ],
   "source": [
    "# New code\n",
    "\n",
    "\"\"\"\n",
    "    Loop through `location` column, while splitting each location to city, zone, address and add them\n",
    "        to the relevant column\n",
    "\"\"\"\n",
    "\n",
    "for index, row in df.iterrows(): # loop through each sample\n",
    "    \n",
    "    # The code may take time, log in the console to keep track of things\n",
    "    if index==0 or index%100==0:\n",
    "        print(f\"Currently processing sample {index}...\")\n",
    "        \n",
    "    # retrieve the location\n",
    "    location = df.loc[index, \"Location\"]\n",
    "    \n",
    "    # split the location to dictionary with Area, City, Address as keys\n",
    "    location_dict = get_detailed_address(location)\n",
    "    \n",
    "    city = location_dict.get(\"City\", np.NaN)\n",
    "    locality = location_dict.get(\"Area\", np.NaN)\n",
    "    address = location_dict.get(\"Address\", np.NaN)\n",
    "    \n",
    "\n",
    "    # updating the relevant columns of the sample in the dataframe\n",
    "    df.loc[index, \"city\"] = city\n",
    "    df.loc[index, \"locality\"] = locality\n",
    "    df.loc[index, \"address\"] = address\n",
    "\n",
    "print(\"Processing has come to an end\")"
   ]
  },
  {
   "cell_type": "code",
   "execution_count": 49,
   "id": "b51d0bab",
   "metadata": {},
   "outputs": [
    {
     "data": {
      "text/html": [
       "<div>\n",
       "<style scoped>\n",
       "    .dataframe tbody tr th:only-of-type {\n",
       "        vertical-align: middle;\n",
       "    }\n",
       "\n",
       "    .dataframe tbody tr th {\n",
       "        vertical-align: top;\n",
       "    }\n",
       "\n",
       "    .dataframe thead th {\n",
       "        text-align: right;\n",
       "    }\n",
       "</style>\n",
       "<table border=\"1\" class=\"dataframe\">\n",
       "  <thead>\n",
       "    <tr style=\"text-align: right;\">\n",
       "      <th></th>\n",
       "      <th>Location</th>\n",
       "      <th>city</th>\n",
       "      <th>locality</th>\n",
       "      <th>address</th>\n",
       "    </tr>\n",
       "  </thead>\n",
       "  <tbody>\n",
       "    <tr>\n",
       "      <th>0</th>\n",
       "      <td>Dhaka, Dhaka, Keraniganj</td>\n",
       "      <td>Dhaka</td>\n",
       "      <td>Keraniganj</td>\n",
       "      <td></td>\n",
       "    </tr>\n",
       "    <tr>\n",
       "      <th>1</th>\n",
       "      <td>Dhaka, Dhaka, Keraniganj</td>\n",
       "      <td>Dhaka</td>\n",
       "      <td>Keraniganj</td>\n",
       "      <td></td>\n",
       "    </tr>\n",
       "    <tr>\n",
       "      <th>2</th>\n",
       "      <td>Dhaka, Dhaka, Uttara</td>\n",
       "      <td>Dhaka</td>\n",
       "      <td>Uttara</td>\n",
       "      <td></td>\n",
       "    </tr>\n",
       "    <tr>\n",
       "      <th>3</th>\n",
       "      <td>Dhaka, Dhaka, Rampura</td>\n",
       "      <td>Dhaka</td>\n",
       "      <td>Rampura</td>\n",
       "      <td></td>\n",
       "    </tr>\n",
       "    <tr>\n",
       "      <th>4</th>\n",
       "      <td>Dhaka, Narayanganj</td>\n",
       "      <td>Dhaka</td>\n",
       "      <td>Narayanganj</td>\n",
       "      <td></td>\n",
       "    </tr>\n",
       "    <tr>\n",
       "      <th>...</th>\n",
       "      <td>...</td>\n",
       "      <td>...</td>\n",
       "      <td>...</td>\n",
       "      <td>...</td>\n",
       "    </tr>\n",
       "    <tr>\n",
       "      <th>935</th>\n",
       "      <td>Dhaka, Dhaka, Uttara</td>\n",
       "      <td>Dhaka</td>\n",
       "      <td>Uttara</td>\n",
       "      <td></td>\n",
       "    </tr>\n",
       "    <tr>\n",
       "      <th>936</th>\n",
       "      <td>Dhaka, Dhaka, Keraniganj</td>\n",
       "      <td>Dhaka</td>\n",
       "      <td>Keraniganj</td>\n",
       "      <td></td>\n",
       "    </tr>\n",
       "    <tr>\n",
       "      <th>937</th>\n",
       "      <td>Dhaka, Narayanganj</td>\n",
       "      <td>Dhaka</td>\n",
       "      <td>Narayanganj</td>\n",
       "      <td></td>\n",
       "    </tr>\n",
       "    <tr>\n",
       "      <th>938</th>\n",
       "      <td>Chittagong, Chattogram</td>\n",
       "      <td>Chattogram</td>\n",
       "      <td></td>\n",
       "      <td>Chittagong</td>\n",
       "    </tr>\n",
       "    <tr>\n",
       "      <th>939</th>\n",
       "      <td>Dhaka, Dhaka, Keraniganj</td>\n",
       "      <td>Dhaka</td>\n",
       "      <td>Keraniganj</td>\n",
       "      <td></td>\n",
       "    </tr>\n",
       "  </tbody>\n",
       "</table>\n",
       "<p>940 rows × 4 columns</p>\n",
       "</div>"
      ],
      "text/plain": [
       "                      Location        city     locality      address\n",
       "0     Dhaka, Dhaka, Keraniganj       Dhaka   Keraniganj             \n",
       "1     Dhaka, Dhaka, Keraniganj       Dhaka   Keraniganj             \n",
       "2         Dhaka, Dhaka, Uttara       Dhaka       Uttara             \n",
       "3        Dhaka, Dhaka, Rampura       Dhaka      Rampura             \n",
       "4           Dhaka, Narayanganj       Dhaka  Narayanganj             \n",
       "..                         ...         ...          ...          ...\n",
       "935       Dhaka, Dhaka, Uttara       Dhaka       Uttara             \n",
       "936   Dhaka, Dhaka, Keraniganj       Dhaka   Keraniganj             \n",
       "937         Dhaka, Narayanganj       Dhaka  Narayanganj             \n",
       "938     Chittagong, Chattogram  Chattogram                Chittagong\n",
       "939   Dhaka, Dhaka, Keraniganj       Dhaka   Keraniganj             \n",
       "\n",
       "[940 rows x 4 columns]"
      ]
     },
     "execution_count": 49,
     "metadata": {},
     "output_type": "execute_result"
    }
   ],
   "source": [
    "# Checking the content of location, city, and address\n",
    "df[ [\"Location\",\"city\",\"locality\",\"address\"] ] "
   ]
  },
  {
   "cell_type": "code",
   "execution_count": 50,
   "id": "4682600b",
   "metadata": {},
   "outputs": [
    {
     "data": {
      "text/plain": [
       "(940, 11)"
      ]
     },
     "execution_count": 50,
     "metadata": {},
     "output_type": "execute_result"
    }
   ],
   "source": [
    "df.shape"
   ]
  },
  {
   "cell_type": "code",
   "execution_count": 51,
   "id": "9985d0f2",
   "metadata": {},
   "outputs": [
    {
     "data": {
      "text/plain": [
       "(940, 10)"
      ]
     },
     "execution_count": 51,
     "metadata": {},
     "output_type": "execute_result"
    }
   ],
   "source": [
    "# Drop location column\n",
    "df.drop([\"Location\"], axis=1, inplace=True)\n",
    "\n",
    "df.shape"
   ]
  },
  {
   "cell_type": "code",
   "execution_count": null,
   "id": "6c001cea",
   "metadata": {},
   "outputs": [],
   "source": []
  },
  {
   "cell_type": "code",
   "execution_count": null,
   "id": "22b0a9eb",
   "metadata": {},
   "outputs": [],
   "source": []
  },
  {
   "cell_type": "markdown",
   "id": "f79a566f",
   "metadata": {},
   "source": [
    "### Column names should become lowercase  ( [tidiness issues #2](#assessment-report) )\n",
    "\n",
    "Column names should become lowercase for consistency with the other datasets cleaned. (tidiness issue)"
   ]
  },
  {
   "cell_type": "code",
   "execution_count": 52,
   "id": "6e8ae791",
   "metadata": {},
   "outputs": [
    {
     "data": {
      "text/plain": [
       "['Name',\n",
       " 'Description',\n",
       " 'posted_time',\n",
       " 'Price',\n",
       " 'AD URL',\n",
       " 'translated_name',\n",
       " 'translated_desc',\n",
       " 'city',\n",
       " 'locality',\n",
       " 'address']"
      ]
     },
     "execution_count": 52,
     "metadata": {},
     "output_type": "execute_result"
    }
   ],
   "source": [
    "df.columns.to_list()"
   ]
  },
  {
   "cell_type": "markdown",
   "id": "b344152b",
   "metadata": {},
   "source": [
    "#### Define\n",
    "* Make columns' name become lowercase"
   ]
  },
  {
   "cell_type": "code",
   "execution_count": null,
   "id": "9cc3c6e9",
   "metadata": {},
   "outputs": [],
   "source": []
  },
  {
   "cell_type": "markdown",
   "id": "ede0a76f",
   "metadata": {},
   "source": [
    "#### Code"
   ]
  },
  {
   "cell_type": "code",
   "execution_count": 56,
   "id": "4c97a09d",
   "metadata": {},
   "outputs": [],
   "source": [
    "df.columns = df.columns.str.lower()"
   ]
  },
  {
   "cell_type": "code",
   "execution_count": null,
   "id": "3e6b8aff",
   "metadata": {},
   "outputs": [],
   "source": []
  },
  {
   "cell_type": "markdown",
   "id": "15031909",
   "metadata": {},
   "source": [
    "#### Test"
   ]
  },
  {
   "cell_type": "code",
   "execution_count": 57,
   "id": "036195ac",
   "metadata": {},
   "outputs": [
    {
     "data": {
      "text/plain": [
       "['name',\n",
       " 'description',\n",
       " 'posted_time',\n",
       " 'price',\n",
       " 'ad url',\n",
       " 'translated_name',\n",
       " 'translated_desc',\n",
       " 'city',\n",
       " 'locality',\n",
       " 'address']"
      ]
     },
     "execution_count": 57,
     "metadata": {},
     "output_type": "execute_result"
    }
   ],
   "source": [
    "df.columns.to_list()"
   ]
  },
  {
   "cell_type": "code",
   "execution_count": null,
   "id": "fdcd400f",
   "metadata": {},
   "outputs": [],
   "source": []
  },
  {
   "cell_type": "markdown",
   "id": "65618bab",
   "metadata": {},
   "source": [
    "### Column names should be reviewed  ( [tidiness issues #3](#assessment-report) )\n",
    "\n",
    "Column names should be reviewed to be made consistent with the names agreed with the other contributors. (tidiness issue)"
   ]
  },
  {
   "cell_type": "code",
   "execution_count": 55,
   "id": "53025b31",
   "metadata": {},
   "outputs": [
    {
     "data": {
      "text/plain": [
       "['name',\n",
       " 'description',\n",
       " 'posted_time',\n",
       " 'price',\n",
       " 'ad url',\n",
       " 'translated_name',\n",
       " 'translated_desc',\n",
       " 'city',\n",
       " 'locality',\n",
       " 'address']"
      ]
     },
     "execution_count": 55,
     "metadata": {},
     "output_type": "execute_result"
    }
   ],
   "source": [
    "df.columns.to_list()"
   ]
  },
  {
   "cell_type": "code",
   "execution_count": null,
   "id": "1d954e05",
   "metadata": {},
   "outputs": [],
   "source": []
  },
  {
   "cell_type": "markdown",
   "id": "19a78102",
   "metadata": {},
   "source": [
    "#### Define\n",
    "* rename `ad url` to `property_url`\n",
    "* rename `translated_desc` to `property_description`"
   ]
  },
  {
   "cell_type": "code",
   "execution_count": null,
   "id": "3a0c4f04",
   "metadata": {},
   "outputs": [],
   "source": []
  },
  {
   "cell_type": "markdown",
   "id": "6142cbe8",
   "metadata": {},
   "source": [
    "#### Code"
   ]
  },
  {
   "cell_type": "code",
   "execution_count": 59,
   "id": "e6999359",
   "metadata": {},
   "outputs": [],
   "source": [
    "df.rename(columns={\n",
    "    \"ad url\":\"property_url\",\n",
    "    \"translated_desc\": \"property_description\"\n",
    "}, inplace=True)"
   ]
  },
  {
   "cell_type": "code",
   "execution_count": 61,
   "id": "458da1c5",
   "metadata": {},
   "outputs": [],
   "source": []
  },
  {
   "cell_type": "markdown",
   "id": "c570a585",
   "metadata": {},
   "source": [
    "#### Testing"
   ]
  },
  {
   "cell_type": "code",
   "execution_count": 62,
   "id": "68241396",
   "metadata": {},
   "outputs": [
    {
     "data": {
      "text/plain": [
       "['name',\n",
       " 'description',\n",
       " 'posted_time',\n",
       " 'price',\n",
       " 'property_url',\n",
       " 'translated_name',\n",
       " 'property_description',\n",
       " 'city',\n",
       " 'locality',\n",
       " 'address']"
      ]
     },
     "execution_count": 62,
     "metadata": {},
     "output_type": "execute_result"
    }
   ],
   "source": [
    "df.columns.to_list()"
   ]
  },
  {
   "cell_type": "code",
   "execution_count": null,
   "id": "afeee651",
   "metadata": {},
   "outputs": [],
   "source": []
  },
  {
   "cell_type": "code",
   "execution_count": null,
   "id": "1b3c10a4",
   "metadata": {},
   "outputs": [],
   "source": []
  },
  {
   "cell_type": "markdown",
   "id": "ee0c4124",
   "metadata": {},
   "source": [
    "### Column names should be reviewed  ( [tidiness issues #3](#assessment-report) )\n",
    "\n",
    "Further informations should be extracted from `translated_name` and `property_description` columns:\n",
    "* purpose: Sale/Rent\n",
    "* nature: Residential/Commercial\n",
    "* type: apartment/shop/..."
   ]
  },
  {
   "cell_type": "code",
   "execution_count": null,
   "id": "3ba6298a",
   "metadata": {},
   "outputs": [],
   "source": []
  },
  {
   "cell_type": "code",
   "execution_count": null,
   "id": "ab58cd12",
   "metadata": {},
   "outputs": [],
   "source": []
  }
 ],
 "metadata": {
  "kernelspec": {
   "display_name": "Python 3",
   "language": "python",
   "name": "python3"
  },
  "language_info": {
   "codemirror_mode": {
    "name": "ipython",
    "version": 3
   },
   "file_extension": ".py",
   "mimetype": "text/x-python",
   "name": "python",
   "nbconvert_exporter": "python",
   "pygments_lexer": "ipython3",
   "version": "3.8.8"
  }
 },
 "nbformat": 4,
 "nbformat_minor": 5
}
