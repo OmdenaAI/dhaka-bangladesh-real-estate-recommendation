{
 "cells": [
  {
   "cell_type": "code",
   "execution_count": null,
   "id": "7aab3316",
   "metadata": {},
   "outputs": [],
   "source": []
  },
  {
   "cell_type": "markdown",
   "id": "d83c7ca4",
   "metadata": {},
   "source": [
    "## Table of content\n",
    "\n",
    "1. [Assessment](#assessment) -> [Report summary](#assessment-report)\n",
    "1. [Cleaning](#cleaning)"
   ]
  },
  {
   "cell_type": "code",
   "execution_count": null,
   "id": "427ae44b",
   "metadata": {},
   "outputs": [],
   "source": []
  },
  {
   "cell_type": "code",
   "execution_count": 1,
   "id": "c78a506b",
   "metadata": {},
   "outputs": [],
   "source": [
    "import pandas as pd\n",
    "import numpy as np\n",
    "\n",
    "import matplotlib.pyplot as plt\n",
    "\n",
    "from googletrans import Translator, constants # https://www.thepythoncode.com/article/translate-text-in-python\n",
    "from slugify import slugify\n",
    "import os\n",
    "\n",
    "%matplotlib inline"
   ]
  },
  {
   "cell_type": "code",
   "execution_count": null,
   "id": "da3557f9",
   "metadata": {},
   "outputs": [],
   "source": []
  },
  {
   "cell_type": "code",
   "execution_count": 2,
   "id": "fe6bc2ba",
   "metadata": {},
   "outputs": [
    {
     "name": "stdout",
     "output_type": "stream",
     "text": [
      "Hola Mundo (es) --> Hello World (en)\n"
     ]
    }
   ],
   "source": [
    "# init the Google API translator\n",
    "translator = Translator()\n",
    "\n",
    "# translate a spanish text to english text (by default)\n",
    "translation = translator.translate(\"Hola Mundo\")\n",
    "print(f\"{translation.origin} ({translation.src}) --> {translation.text} ({translation.dest})\")"
   ]
  },
  {
   "cell_type": "code",
   "execution_count": 3,
   "id": "bd0071c4",
   "metadata": {},
   "outputs": [
    {
     "name": "stdout",
     "output_type": "stream",
     "text": [
      "ফ্ল্যাটে উঠেও কিস্তি চালাতে পারবেন (bn) --> You can pay installments even in the flat (en)\n"
     ]
    }
   ],
   "source": [
    "translation2 = translator.translate(\"ফ্ল্যাটে উঠেও কিস্তি চালাতে পারবেন\")\n",
    "print(f\"{translation2.origin} ({translation2.src}) --> {translation2.text} ({translation2.dest})\")"
   ]
  },
  {
   "cell_type": "code",
   "execution_count": null,
   "id": "2c5e6bc0",
   "metadata": {},
   "outputs": [],
   "source": []
  },
  {
   "cell_type": "code",
   "execution_count": null,
   "id": "7de94e56",
   "metadata": {},
   "outputs": [],
   "source": [
    "\"\"\"\n",
    "Text translation: \n",
    "    - https://www.thepythoncode.com/article/translate-text-in-python\n",
    "    - https://huggingface.co/course/chapter1/3?fw=pt\n",
    "\"\"\""
   ]
  },
  {
   "cell_type": "code",
   "execution_count": null,
   "id": "a2b9d70f",
   "metadata": {},
   "outputs": [],
   "source": []
  },
  {
   "cell_type": "code",
   "execution_count": 4,
   "id": "4153854b",
   "metadata": {},
   "outputs": [],
   "source": [
    "# CSV folders\n",
    "\n",
    "raw_data_folder=\"../../../data/Raw_Data\"\n",
    "cleaned_data_folder=\"../../../data/CLeaned_Data\"\n",
    "\n",
    "bikrisohoj_folder= f\"{raw_data_folder}/bikrisohoj_spider\"\n",
    "cleaned_bikrisohoj_folder= f\"{cleaned_data_folder}/bikrisohoj\""
   ]
  },
  {
   "cell_type": "code",
   "execution_count": null,
   "id": "b0a0b235",
   "metadata": {},
   "outputs": [],
   "source": []
  },
  {
   "cell_type": "markdown",
   "id": "8798b133",
   "metadata": {},
   "source": [
    "<span id=\"bproperty-assessment\"> </span>\n",
    "\n",
    "## Assessing `bikrisohoj`"
   ]
  },
  {
   "cell_type": "code",
   "execution_count": 5,
   "id": "13555204",
   "metadata": {},
   "outputs": [
    {
     "data": {
      "text/html": [
       "<div>\n",
       "<style scoped>\n",
       "    .dataframe tbody tr th:only-of-type {\n",
       "        vertical-align: middle;\n",
       "    }\n",
       "\n",
       "    .dataframe tbody tr th {\n",
       "        vertical-align: top;\n",
       "    }\n",
       "\n",
       "    .dataframe thead th {\n",
       "        text-align: right;\n",
       "    }\n",
       "</style>\n",
       "<table border=\"1\" class=\"dataframe\">\n",
       "  <thead>\n",
       "    <tr style=\"text-align: right;\">\n",
       "      <th></th>\n",
       "      <th>Name</th>\n",
       "      <th>Location</th>\n",
       "      <th>Description</th>\n",
       "      <th>Ad posted time</th>\n",
       "      <th>Price</th>\n",
       "      <th>AD URL</th>\n",
       "    </tr>\n",
       "  </thead>\n",
       "  <tbody>\n",
       "    <tr>\n",
       "      <th>0</th>\n",
       "      <td>ফ্ল্যাটে উঠেও কিস্তি চালাতে পারবেন</td>\n",
       "      <td>Dhaka, Dhaka, Keraniganj</td>\n",
       "      <td>\\n                                            ...</td>\n",
       "      <td>26 Mar 2023 02:13 am</td>\n",
       "      <td>3,150</td>\n",
       "      <td>https://www.bikrisohoj.com/details/%e0%a6%ab%e...</td>\n",
       "    </tr>\n",
       "    <tr>\n",
       "      <th>1</th>\n",
       "      <td>প্লটন থেকে ৪ কি.মি দূরত্বে কিস্তি প্রায় রেডি ফ...</td>\n",
       "      <td>Dhaka, Dhaka, Keraniganj</td>\n",
       "      <td>\\n                                            ...</td>\n",
       "      <td>26 Mar 2023 02:21 am</td>\n",
       "      <td>3,850</td>\n",
       "      <td>https://www.bikrisohoj.com/details/%e0%a6%aa%e...</td>\n",
       "    </tr>\n",
       "    <tr>\n",
       "      <th>2</th>\n",
       "      <td>Apartment for rent</td>\n",
       "      <td>Dhaka, Dhaka, Uttara</td>\n",
       "      <td>\\n                                            ...</td>\n",
       "      <td>22 Mar 2023 10:42 pm</td>\n",
       "      <td>50,000</td>\n",
       "      <td>https://www.bikrisohoj.com/details/apartment-f...</td>\n",
       "    </tr>\n",
       "    <tr>\n",
       "      <th>3</th>\n",
       "      <td>A modern well decorated flat at Banasree,Rampu...</td>\n",
       "      <td>Dhaka, Dhaka, Rampura</td>\n",
       "      <td>\\n                                            ...</td>\n",
       "      <td>26 Mar 2023 02:21 am</td>\n",
       "      <td>12,000,000</td>\n",
       "      <td>https://www.bikrisohoj.com/details/a-modern-we...</td>\n",
       "    </tr>\n",
       "    <tr>\n",
       "      <th>4</th>\n",
       "      <td>ইন্ডাস্ট্রিয়াল সেড / INDUSTRIAL SHED FOR RENT</td>\n",
       "      <td>Dhaka, Narayanganj</td>\n",
       "      <td>\\n                                            ...</td>\n",
       "      <td>26 Mar 2023 02:16 am</td>\n",
       "      <td>150,000</td>\n",
       "      <td>https://www.bikrisohoj.com/details/%e0%a6%87%e...</td>\n",
       "    </tr>\n",
       "  </tbody>\n",
       "</table>\n",
       "</div>"
      ],
      "text/plain": [
       "                                                Name  \\\n",
       "0                 ফ্ল্যাটে উঠেও কিস্তি চালাতে পারবেন   \n",
       "1  প্লটন থেকে ৪ কি.মি দূরত্বে কিস্তি প্রায় রেডি ফ...   \n",
       "2                                 Apartment for rent   \n",
       "3  A modern well decorated flat at Banasree,Rampu...   \n",
       "4      ইন্ডাস্ট্রিয়াল সেড / INDUSTRIAL SHED FOR RENT   \n",
       "\n",
       "                    Location  \\\n",
       "0   Dhaka, Dhaka, Keraniganj   \n",
       "1   Dhaka, Dhaka, Keraniganj   \n",
       "2       Dhaka, Dhaka, Uttara   \n",
       "3      Dhaka, Dhaka, Rampura   \n",
       "4         Dhaka, Narayanganj   \n",
       "\n",
       "                                         Description          Ad posted time  \\\n",
       "0  \\n                                            ...   26 Mar 2023 02:13 am    \n",
       "1  \\n                                            ...   26 Mar 2023 02:21 am    \n",
       "2  \\n                                            ...   22 Mar 2023 10:42 pm    \n",
       "3  \\n                                            ...   26 Mar 2023 02:21 am    \n",
       "4  \\n                                            ...   26 Mar 2023 02:16 am    \n",
       "\n",
       "        Price                                             AD URL  \n",
       "0       3,150  https://www.bikrisohoj.com/details/%e0%a6%ab%e...  \n",
       "1       3,850  https://www.bikrisohoj.com/details/%e0%a6%aa%e...  \n",
       "2      50,000  https://www.bikrisohoj.com/details/apartment-f...  \n",
       "3  12,000,000  https://www.bikrisohoj.com/details/a-modern-we...  \n",
       "4     150,000  https://www.bikrisohoj.com/details/%e0%a6%87%e...  "
      ]
     },
     "execution_count": 5,
     "metadata": {},
     "output_type": "execute_result"
    }
   ],
   "source": [
    "df=pd.read_csv(f\"{bikrisohoj_folder}/mohammedadnan_bikrisohoj.csv\")\n",
    "df.head()"
   ]
  },
  {
   "cell_type": "markdown",
   "id": "d6ea365e",
   "metadata": {},
   "source": [
    "`Name` has some samples not en English. Those samples should be translated to English. (quality issue)"
   ]
  },
  {
   "cell_type": "code",
   "execution_count": null,
   "id": "438677ce",
   "metadata": {},
   "outputs": [],
   "source": []
  },
  {
   "cell_type": "code",
   "execution_count": 6,
   "id": "633f7f13",
   "metadata": {},
   "outputs": [
    {
     "data": {
      "text/plain": [
       "(940, 6)"
      ]
     },
     "execution_count": 6,
     "metadata": {},
     "output_type": "execute_result"
    }
   ],
   "source": [
    "df.shape"
   ]
  },
  {
   "cell_type": "code",
   "execution_count": 7,
   "id": "d9644018",
   "metadata": {
    "scrolled": true
   },
   "outputs": [
    {
     "data": {
      "text/plain": [
       "Name                             ফ্ল্যাটে উঠেও কিস্তি চালাতে পারবেন\n",
       "Location                                   Dhaka, Dhaka, Keraniganj\n",
       "Description       \\n                                            ...\n",
       "Ad posted time                                26 Mar 2023 02:13 am \n",
       "Price                                                         3,150\n",
       "AD URL            https://www.bikrisohoj.com/details/%e0%a6%ab%e...\n",
       "Name: 0, dtype: object"
      ]
     },
     "execution_count": 7,
     "metadata": {},
     "output_type": "execute_result"
    }
   ],
   "source": [
    "df.loc[0]"
   ]
  },
  {
   "cell_type": "code",
   "execution_count": null,
   "id": "ecfd4c79",
   "metadata": {},
   "outputs": [],
   "source": []
  },
  {
   "cell_type": "code",
   "execution_count": 8,
   "id": "8abb51cf",
   "metadata": {},
   "outputs": [
    {
     "data": {
      "text/plain": [
       "'\\n                                            ## মতিঝিল থেকে মাত্র ৭ কিলোমিটার\\n\\n• সামনে প্রশস্ত রাস্তা\\n\\n## ১০০০, ১১৫০, ১২৫০ ও ১৪৫০ বর্গফুটের রেডি ফ্ল্যাট\\n\\n* ৩টি/৪টি বেড, ৩টি বাথ, ডাইনিং, ড্রইং ও বারান্দা সহ রেডি ফ্ল্যাট\\n\\n** প্রতি বর্গফুটের মূল্য মাত্র ৩১৫০/- টাকা ।\\n\\n## আপনি মাত্র ডাউন পেমেন্ট দিয়েই ফ্ল্যাটে উঠে যেতে পারবেন ।\\n\\nবাকি টাকা ২ বছরের কিস্তিতে পরিশোধ করার সুযোগ পাবেন (দীর্ঘমেয়াদী কিস্তির সুযোগ ও রয়েছে)। ফ্ল্যাট কেনার ইচ্ছা থাকলে সুযোগটি আপনিও নিতে পারেন ।\\n\\n## ফ্ল্যাটে ও ফ্ল্যাটের আশে পাশে নাগরিক সকল সুবিধা বিদ্যমান । তাই থাকার মত আবাসিক পরিবেশের জন্য আগে সরাসরি ফ্ল্যাটটি দেখুন ।\\n\\nতাই আর দেরি কেন বিস্তারিত তথ্যের জন্য আজই যোগাযোগ করুন >>>\\nমোবাইল – 01855-646432\\n– 01710-690820\\n\\nOnline Contact ( imo, WhatsApp, Viver ) – 01855-646432\\nঅথবা\\nআপনার মোবাইল নাম্বার দিয়ে ইনবক্স করুন, ধন্যবাদ ।\\n\\n### বি: দ্র: এছাড়াও আমাদের ছোট থেকে শুরু করে বিভিন্ন সাইজের রেডি ফ্ল্যাট আছে এবং বিভিন্ন সাইজের রেডি প্লট এককালিন ও সওজ কিস্তিতে বিক্রয় করি।                                    '"
      ]
     },
     "execution_count": 8,
     "metadata": {},
     "output_type": "execute_result"
    }
   ],
   "source": [
    "df.loc[0,\"Description\"]"
   ]
  },
  {
   "cell_type": "markdown",
   "id": "f9aba008",
   "metadata": {},
   "source": [
    "`Description` has samples that are not en English. Those samples should be translated to English. (quality issue)"
   ]
  },
  {
   "cell_type": "code",
   "execution_count": null,
   "id": "72c24a2e",
   "metadata": {},
   "outputs": [],
   "source": []
  },
  {
   "cell_type": "code",
   "execution_count": 9,
   "id": "023a27ae",
   "metadata": {},
   "outputs": [
    {
     "data": {
      "text/plain": [
       "'mtijhil-theke-maatr-7-kilomittaar-saamne-prshst-raastaa-1000-1150-1250-o-1450-brgphutter-reddi-phlyaatt-3tti-4tti-bedd-3tti-baath-ddaainin-ddrin-o-baaraandaa-sh-reddi-phlyaatt-prti-brgphutter-muuly-maatr-3150-ttaakaa-aapni-maatr-ddaaun-pementt-diyei-phlyaatte-utthe-yete-paarben-baaki-ttaakaa-2-bchrer-kistite-prishodh-kraar-suyog-paaben-diirghmeyyaadii-kistir-suyog-o-ryyeche-phlyaatt-kenaar-icchaa-thaakle-suyogtti-aapnio-nite-paaren-phlyaatte-o-phlyaatter-aashe-paashe-naagrik-skl-subidhaa-bidymaan-taai-thaakaar-mt-aabaasik-pribesher-jny-aage-sraasri-phlyaatttti-dekhun-taai-aar-deri-ken-bistaarit-tthyer-jny-aaji-yogaayog-krun-mobaail-01855-646432-01710-690820-online-contact-imo-whatsapp-viver-01855-646432-athbaa-aapnaar-mobaail-naambaar-diyye-inbks-krun-dhnybaad-bi-dr-echaarraao-aamaader-chott-theke-shuru-kre-bibhinn-saaijer-reddi-phlyaatt-aache-ebn-bibhinn-saaijer-reddi-pltt-ekkaalin-o-soj-kistite-bikryy-kri'"
      ]
     },
     "execution_count": 9,
     "metadata": {},
     "output_type": "execute_result"
    }
   ],
   "source": [
    "slugify(df.loc[0,\"Description\"])"
   ]
  },
  {
   "cell_type": "code",
   "execution_count": null,
   "id": "a4118e5c",
   "metadata": {},
   "outputs": [],
   "source": []
  },
  {
   "cell_type": "code",
   "execution_count": 10,
   "id": "81543301",
   "metadata": {},
   "outputs": [
    {
     "name": "stdout",
     "output_type": "stream",
     "text": [
      "<class 'pandas.core.frame.DataFrame'>\n",
      "RangeIndex: 940 entries, 0 to 939\n",
      "Data columns (total 6 columns):\n",
      " #   Column          Non-Null Count  Dtype \n",
      "---  ------          --------------  ----- \n",
      " 0   Name            940 non-null    object\n",
      " 1   Location        940 non-null    object\n",
      " 2   Description     940 non-null    object\n",
      " 3   Ad posted time  940 non-null    object\n",
      " 4   Price           940 non-null    object\n",
      " 5   AD URL          940 non-null    object\n",
      "dtypes: object(6)\n",
      "memory usage: 44.2+ KB\n"
     ]
    }
   ],
   "source": [
    "df.info()"
   ]
  },
  {
   "cell_type": "markdown",
   "id": "b202a5dd",
   "metadata": {},
   "source": [
    "* `Ad posted time` should be of type datetime, not str. (quality issue)\n",
    "* `Price` should be of type float, not str. (quality issue)\n",
    "* `location` should be splitted to `city` and `address`. (tidiness issue)\n",
    "* Column names should become lowercase for consistency with the other datasets cleaned. (tidiness issue)"
   ]
  },
  {
   "cell_type": "code",
   "execution_count": null,
   "id": "ecd84c41",
   "metadata": {},
   "outputs": [],
   "source": []
  },
  {
   "cell_type": "code",
   "execution_count": null,
   "id": "5f9f2638",
   "metadata": {},
   "outputs": [],
   "source": []
  },
  {
   "cell_type": "markdown",
   "id": "b73ff279",
   "metadata": {},
   "source": [
    "<span id=\"assessment-report\"> </span>\n",
    "\n",
    "#### Assessment report summary\n",
    "\n",
    "##### Quality issues\n",
    "1. `Name` has some samples not en English. Those samples should be translated to English\n",
    "1. `Description` has samples that are not en English. Those samples should be translated to English. (quality issue)\n",
    "1. `Ad posted time` should be of type datetime, not str.\n",
    "1. `Price` should be of type float, not str.\n",
    "\n",
    "\n",
    "##### Tidiness issues\n",
    "1. `location` should be splitted to `city` and `address`. (tidiness issue)\n",
    "1. Column names should become lowercase for consistency with the other datasets cleaned. (tidiness issue)"
   ]
  },
  {
   "cell_type": "code",
   "execution_count": null,
   "id": "7902d870",
   "metadata": {},
   "outputs": [],
   "source": []
  },
  {
   "cell_type": "code",
   "execution_count": null,
   "id": "1e0380a7",
   "metadata": {},
   "outputs": [],
   "source": []
  },
  {
   "cell_type": "markdown",
   "id": "fe9e30f0",
   "metadata": {},
   "source": [
    "<span id=\"cleaning\"> </span>\n",
    "\n",
    "## Cleaning"
   ]
  },
  {
   "cell_type": "code",
   "execution_count": null,
   "id": "e95b139b",
   "metadata": {},
   "outputs": [],
   "source": []
  },
  {
   "cell_type": "markdown",
   "id": "1eb7c2da",
   "metadata": {},
   "source": [
    "###  `Name` has some samples not en English ( [quality issues #1 & #2](#assessment-report) )\n",
    "\n",
    "`Name` and `Description` have some samples not en English. Those samples should be translated to English."
   ]
  },
  {
   "cell_type": "code",
   "execution_count": 11,
   "id": "b7779176",
   "metadata": {},
   "outputs": [
    {
     "data": {
      "text/plain": [
       "0                   ফ্ল্যাটে উঠেও কিস্তি চালাতে পারবেন\n",
       "1    প্লটন থেকে ৪ কি.মি দূরত্বে কিস্তি প্রায় রেডি ফ...\n",
       "2                                   Apartment for rent\n",
       "3    A modern well decorated flat at Banasree,Rampu...\n",
       "4        ইন্ডাস্ট্রিয়াল সেড / INDUSTRIAL SHED FOR RENT\n",
       "Name: Name, dtype: object"
      ]
     },
     "execution_count": 11,
     "metadata": {},
     "output_type": "execute_result"
    }
   ],
   "source": [
    "df[\"Name\"].head()"
   ]
  },
  {
   "cell_type": "code",
   "execution_count": 12,
   "id": "39ee182c",
   "metadata": {},
   "outputs": [
    {
     "data": {
      "text/plain": [
       "'\\n                                            ## মতিঝিল থেকে মাত্র ৭ কিলোমিটার\\n\\n• সামনে প্রশস্ত রাস্তা\\n\\n## ১০০০, ১১৫০, ১২৫০ ও ১৪৫০ বর্গফুটের রেডি ফ্ল্যাট\\n\\n* ৩টি/৪টি বেড, ৩টি বাথ, ডাইনিং, ড্রইং ও বারান্দা সহ রেডি ফ্ল্যাট\\n\\n** প্রতি বর্গফুটের মূল্য মাত্র ৩১৫০/- টাকা ।\\n\\n## আপনি মাত্র ডাউন পেমেন্ট দিয়েই ফ্ল্যাটে উঠে যেতে পারবেন ।\\n\\nবাকি টাকা ২ বছরের কিস্তিতে পরিশোধ করার সুযোগ পাবেন (দীর্ঘমেয়াদী কিস্তির সুযোগ ও রয়েছে)। ফ্ল্যাট কেনার ইচ্ছা থাকলে সুযোগটি আপনিও নিতে পারেন ।\\n\\n## ফ্ল্যাটে ও ফ্ল্যাটের আশে পাশে নাগরিক সকল সুবিধা বিদ্যমান । তাই থাকার মত আবাসিক পরিবেশের জন্য আগে সরাসরি ফ্ল্যাটটি দেখুন ।\\n\\nতাই আর দেরি কেন বিস্তারিত তথ্যের জন্য আজই যোগাযোগ করুন >>>\\nমোবাইল – 01855-646432\\n– 01710-690820\\n\\nOnline Contact ( imo, WhatsApp, Viver ) – 01855-646432\\nঅথবা\\nআপনার মোবাইল নাম্বার দিয়ে ইনবক্স করুন, ধন্যবাদ ।\\n\\n### বি: দ্র: এছাড়াও আমাদের ছোট থেকে শুরু করে বিভিন্ন সাইজের রেডি ফ্ল্যাট আছে এবং বিভিন্ন সাইজের রেডি প্লট এককালিন ও সওজ কিস্তিতে বিক্রয় করি।                                    '"
      ]
     },
     "execution_count": 12,
     "metadata": {},
     "output_type": "execute_result"
    }
   ],
   "source": [
    "df.loc[0,\"Description\"]"
   ]
  },
  {
   "cell_type": "code",
   "execution_count": null,
   "id": "0f63cbcf",
   "metadata": {},
   "outputs": [],
   "source": []
  },
  {
   "cell_type": "markdown",
   "id": "cd3c02a3",
   "metadata": {},
   "source": []
  },
  {
   "cell_type": "markdown",
   "id": "1cc48744",
   "metadata": {},
   "source": [
    "#### Define\n",
    "- Convert `Name` and `Description` to english "
   ]
  },
  {
   "cell_type": "markdown",
   "id": "f4cde336",
   "metadata": {},
   "source": [
    "#### Code"
   ]
  },
  {
   "cell_type": "code",
   "execution_count": 15,
   "id": "bba23f22",
   "metadata": {},
   "outputs": [
    {
     "name": "stdout",
     "output_type": "stream",
     "text": [
      "Translated(src=es, dest=en, text=Hello World, pronunciation=Hello World, extra_data=\"{'translat...\")\n",
      "Hola Mundo (es) --> Hello World (en)\n"
     ]
    }
   ],
   "source": [
    "# init the Google API translator\n",
    "translator = Translator()\n",
    "\n",
    "\n",
    "# translate a spanish text to english text (by default)\n",
    "translation = translator.translate(\"Hola Mundo\")\n",
    "print(translation)\n",
    "print(f\"{translation.origin} ({translation.src}) --> {translation.text} ({translation.dest})\")"
   ]
  },
  {
   "cell_type": "code",
   "execution_count": 20,
   "id": "cc5d9fdd",
   "metadata": {},
   "outputs": [
    {
     "ename": "AttributeError",
     "evalue": "'list' object has no attribute 'origin'",
     "output_type": "error",
     "traceback": [
      "\u001b[1;31m---------------------------------------------------------------------------\u001b[0m",
      "\u001b[1;31mAttributeError\u001b[0m                            Traceback (most recent call last)",
      "\u001b[1;32m<ipython-input-20-145c8d7eb630>\u001b[0m in \u001b[0;36m<module>\u001b[1;34m\u001b[0m\n\u001b[0;32m      1\u001b[0m \u001b[0mtr\u001b[0m \u001b[1;33m=\u001b[0m \u001b[0mtranslator\u001b[0m\u001b[1;33m.\u001b[0m\u001b[0mtranslate\u001b[0m\u001b[1;33m(\u001b[0m\u001b[0mdf\u001b[0m\u001b[1;33m[\u001b[0m\u001b[1;34m\"Name\"\u001b[0m\u001b[1;33m]\u001b[0m\u001b[1;33m.\u001b[0m\u001b[0mto_list\u001b[0m\u001b[1;33m(\u001b[0m\u001b[1;33m)\u001b[0m\u001b[1;33m)\u001b[0m\u001b[1;33m\u001b[0m\u001b[1;33m\u001b[0m\u001b[0m\n\u001b[1;32m----> 2\u001b[1;33m \u001b[0mprint\u001b[0m\u001b[1;33m(\u001b[0m\u001b[1;34mf\"{tr.origin} ({tr.src}) --> {tr.text} ({tr.dest})\"\u001b[0m\u001b[1;33m)\u001b[0m\u001b[1;33m\u001b[0m\u001b[1;33m\u001b[0m\u001b[0m\n\u001b[0m",
      "\u001b[1;31mAttributeError\u001b[0m: 'list' object has no attribute 'origin'"
     ]
    }
   ],
   "source": [
    "tr = translator.translate(df[\"Name\"].to_list()) \n",
    "print(f\"{tr.origin} ({tr.src}) --> {tr.text} ({tr.dest})\")"
   ]
  },
  {
   "cell_type": "code",
   "execution_count": 23,
   "id": "ffdf32a7",
   "metadata": {},
   "outputs": [
    {
     "data": {
      "text/plain": [
       "[<googletrans.models.Translated at 0x290e3eccd90>,\n",
       " <googletrans.models.Translated at 0x290e3ec7ac0>,\n",
       " <googletrans.models.Translated at 0x290e3ec9b80>,\n",
       " <googletrans.models.Translated at 0x290e3eeadf0>,\n",
       " <googletrans.models.Translated at 0x290e5941a90>]"
      ]
     },
     "execution_count": 23,
     "metadata": {},
     "output_type": "execute_result"
    }
   ],
   "source": [
    "tr = translator.translate(df[\"Name\"].to_list())\n",
    "tr[:5]"
   ]
  },
  {
   "cell_type": "code",
   "execution_count": 25,
   "id": "b1476d31",
   "metadata": {},
   "outputs": [
    {
     "name": "stdout",
     "output_type": "stream",
     "text": [
      "ফ্ল্যাটে উঠেও কিস্তি চালাতে পারবেন (bn) --> You can pay installments even in the flat (en)\n",
      "প্লটন থেকে ৪ কি.মি দূরত্বে কিস্তি প্রায় রেডি ফ্ল্যাট (bn) --> Kisthi is almost ready flat at a distance of 4 km from Platon (en)\n",
      "Apartment for rent (en) --> Apartment for rent (en)\n",
      "A modern well decorated flat at Banasree,Rampura,Dhaka (mr) --> A modern well decorated flat at Banasree,Rampura,Dhaka (en)\n",
      "ইন্ডাস্ট্রিয়াল সেড / INDUSTRIAL SHED FOR RENT (bn) --> Industrial Shed / INDUSTRIAL SHED FOR RENT (en)\n"
     ]
    }
   ],
   "source": [
    "i = 0\n",
    "for t in tr:\n",
    "    print(f\"{t.origin} ({t.src}) --> {t.text} ({t.dest})\")\n",
    "    \n",
    "    i+=1\n",
    "    if i==5:\n",
    "        break"
   ]
  },
  {
   "cell_type": "code",
   "execution_count": null,
   "id": "a3c7486b",
   "metadata": {},
   "outputs": [],
   "source": [
    "\"\"\"\n",
    "    Loop through the samples. For each one, translate Name and Location columns to English\n",
    "\"\"\"\n",
    "\n",
    "for index, row in df.iterrows(): # loop through each sample\n",
    "    \n",
    "    # The code may take time, log in the console to keep track of things\n",
    "    if index==0 or index%1000==0:\n",
    "        print(f\"Currently processing sample {index}...\")\n",
    "        \n",
    "    # retrieve the Name and Description\n",
    "    name = df.loc[index, \"Name\"]\n",
    "    description = df.loc[index, \"Description\"]\n",
    "    \n",
    "    # translate text\n",
    "    \n",
    "    \n",
    "\n",
    "    # updating the relevant columns of the sample in the dataframe\n",
    "    bproperty_df.loc[index, \"city\"] = city\n",
    "    bproperty_df.loc[index, \"locality\"] = locality\n",
    "    bproperty_df.loc[index, \"address\"] = address\n",
    "\n",
    "print(\"Processing has come to an end\")"
   ]
  },
  {
   "cell_type": "code",
   "execution_count": 18,
   "id": "f273e40f",
   "metadata": {},
   "outputs": [],
   "source": [
    "# TODO: code"
   ]
  },
  {
   "cell_type": "code",
   "execution_count": null,
   "id": "61d70d8c",
   "metadata": {},
   "outputs": [],
   "source": [
    "xxxx"
   ]
  },
  {
   "cell_type": "markdown",
   "id": "3675cb6d",
   "metadata": {},
   "source": [
    "#### Testing"
   ]
  },
  {
   "cell_type": "code",
   "execution_count": null,
   "id": "0f2e56d1",
   "metadata": {},
   "outputs": [],
   "source": []
  },
  {
   "cell_type": "code",
   "execution_count": null,
   "id": "39c3603c",
   "metadata": {},
   "outputs": [],
   "source": []
  },
  {
   "cell_type": "markdown",
   "id": "885c6ecb",
   "metadata": {},
   "source": [
    "###  `Ad posted time` is of type str ( [quality issues #3](#assessment-report) )\n",
    "\n",
    "`Ad posted time` should be of type datetime, not str."
   ]
  },
  {
   "cell_type": "code",
   "execution_count": null,
   "id": "327ddc56",
   "metadata": {},
   "outputs": [],
   "source": []
  },
  {
   "cell_type": "markdown",
   "id": "bed50285",
   "metadata": {},
   "source": [
    "#### Define\n",
    "* Rename `Ad posted time` to `posted_time` (tidiness issue)\n",
    "* Convert `Ad posted time` to datetime"
   ]
  },
  {
   "cell_type": "code",
   "execution_count": null,
   "id": "48c56f88",
   "metadata": {},
   "outputs": [],
   "source": []
  },
  {
   "cell_type": "markdown",
   "id": "195a5c0a",
   "metadata": {},
   "source": [
    "#### Code"
   ]
  },
  {
   "cell_type": "code",
   "execution_count": 23,
   "id": "7f4086a9",
   "metadata": {},
   "outputs": [
    {
     "data": {
      "text/html": [
       "<div>\n",
       "<style scoped>\n",
       "    .dataframe tbody tr th:only-of-type {\n",
       "        vertical-align: middle;\n",
       "    }\n",
       "\n",
       "    .dataframe tbody tr th {\n",
       "        vertical-align: top;\n",
       "    }\n",
       "\n",
       "    .dataframe thead th {\n",
       "        text-align: right;\n",
       "    }\n",
       "</style>\n",
       "<table border=\"1\" class=\"dataframe\">\n",
       "  <thead>\n",
       "    <tr style=\"text-align: right;\">\n",
       "      <th></th>\n",
       "      <th>Name</th>\n",
       "      <th>Location</th>\n",
       "      <th>Description</th>\n",
       "      <th>posted_time</th>\n",
       "      <th>Price</th>\n",
       "      <th>AD URL</th>\n",
       "    </tr>\n",
       "  </thead>\n",
       "  <tbody>\n",
       "    <tr>\n",
       "      <th>0</th>\n",
       "      <td>ফ্ল্যাটে উঠেও কিস্তি চালাতে পারবেন</td>\n",
       "      <td>Dhaka, Dhaka, Keraniganj</td>\n",
       "      <td>\\n                                            ...</td>\n",
       "      <td>26 Mar 2023 02:13 am</td>\n",
       "      <td>3,150</td>\n",
       "      <td>https://www.bikrisohoj.com/details/%e0%a6%ab%e...</td>\n",
       "    </tr>\n",
       "    <tr>\n",
       "      <th>1</th>\n",
       "      <td>প্লটন থেকে ৪ কি.মি দূরত্বে কিস্তি প্রায় রেডি ফ...</td>\n",
       "      <td>Dhaka, Dhaka, Keraniganj</td>\n",
       "      <td>\\n                                            ...</td>\n",
       "      <td>26 Mar 2023 02:21 am</td>\n",
       "      <td>3,850</td>\n",
       "      <td>https://www.bikrisohoj.com/details/%e0%a6%aa%e...</td>\n",
       "    </tr>\n",
       "    <tr>\n",
       "      <th>2</th>\n",
       "      <td>Apartment for rent</td>\n",
       "      <td>Dhaka, Dhaka, Uttara</td>\n",
       "      <td>\\n                                            ...</td>\n",
       "      <td>22 Mar 2023 10:42 pm</td>\n",
       "      <td>50,000</td>\n",
       "      <td>https://www.bikrisohoj.com/details/apartment-f...</td>\n",
       "    </tr>\n",
       "    <tr>\n",
       "      <th>3</th>\n",
       "      <td>A modern well decorated flat at Banasree,Rampu...</td>\n",
       "      <td>Dhaka, Dhaka, Rampura</td>\n",
       "      <td>\\n                                            ...</td>\n",
       "      <td>26 Mar 2023 02:21 am</td>\n",
       "      <td>12,000,000</td>\n",
       "      <td>https://www.bikrisohoj.com/details/a-modern-we...</td>\n",
       "    </tr>\n",
       "    <tr>\n",
       "      <th>4</th>\n",
       "      <td>ইন্ডাস্ট্রিয়াল সেড / INDUSTRIAL SHED FOR RENT</td>\n",
       "      <td>Dhaka, Narayanganj</td>\n",
       "      <td>\\n                                            ...</td>\n",
       "      <td>26 Mar 2023 02:16 am</td>\n",
       "      <td>150,000</td>\n",
       "      <td>https://www.bikrisohoj.com/details/%e0%a6%87%e...</td>\n",
       "    </tr>\n",
       "  </tbody>\n",
       "</table>\n",
       "</div>"
      ],
      "text/plain": [
       "                                                Name  \\\n",
       "0                 ফ্ল্যাটে উঠেও কিস্তি চালাতে পারবেন   \n",
       "1  প্লটন থেকে ৪ কি.মি দূরত্বে কিস্তি প্রায় রেডি ফ...   \n",
       "2                                 Apartment for rent   \n",
       "3  A modern well decorated flat at Banasree,Rampu...   \n",
       "4      ইন্ডাস্ট্রিয়াল সেড / INDUSTRIAL SHED FOR RENT   \n",
       "\n",
       "                    Location  \\\n",
       "0   Dhaka, Dhaka, Keraniganj   \n",
       "1   Dhaka, Dhaka, Keraniganj   \n",
       "2       Dhaka, Dhaka, Uttara   \n",
       "3      Dhaka, Dhaka, Rampura   \n",
       "4         Dhaka, Narayanganj   \n",
       "\n",
       "                                         Description             posted_time  \\\n",
       "0  \\n                                            ...   26 Mar 2023 02:13 am    \n",
       "1  \\n                                            ...   26 Mar 2023 02:21 am    \n",
       "2  \\n                                            ...   22 Mar 2023 10:42 pm    \n",
       "3  \\n                                            ...   26 Mar 2023 02:21 am    \n",
       "4  \\n                                            ...   26 Mar 2023 02:16 am    \n",
       "\n",
       "        Price                                             AD URL  \n",
       "0       3,150  https://www.bikrisohoj.com/details/%e0%a6%ab%e...  \n",
       "1       3,850  https://www.bikrisohoj.com/details/%e0%a6%aa%e...  \n",
       "2      50,000  https://www.bikrisohoj.com/details/apartment-f...  \n",
       "3  12,000,000  https://www.bikrisohoj.com/details/a-modern-we...  \n",
       "4     150,000  https://www.bikrisohoj.com/details/%e0%a6%87%e...  "
      ]
     },
     "execution_count": 23,
     "metadata": {},
     "output_type": "execute_result"
    }
   ],
   "source": [
    "# Rename column\n",
    "df.rename(columns={\n",
    "    \"Ad posted time\":\"posted_time\"\n",
    "}, inplace=True)\n",
    "\n",
    "df.head()"
   ]
  },
  {
   "cell_type": "code",
   "execution_count": 25,
   "id": "e6c897c5",
   "metadata": {},
   "outputs": [],
   "source": [
    "# Coonverting from str to datetime\n",
    "df[\"posted_time\"] = pd.to_datetime(df[\"posted_time\"])"
   ]
  },
  {
   "cell_type": "code",
   "execution_count": null,
   "id": "d94aa04f",
   "metadata": {},
   "outputs": [],
   "source": []
  },
  {
   "cell_type": "markdown",
   "id": "fd798924",
   "metadata": {},
   "source": [
    "### Testing"
   ]
  },
  {
   "cell_type": "code",
   "execution_count": 28,
   "id": "08e02dff",
   "metadata": {},
   "outputs": [
    {
     "name": "stdout",
     "output_type": "stream",
     "text": [
      "<class 'pandas.core.frame.DataFrame'>\n",
      "RangeIndex: 940 entries, 0 to 939\n",
      "Data columns (total 6 columns):\n",
      " #   Column       Non-Null Count  Dtype         \n",
      "---  ------       --------------  -----         \n",
      " 0   Name         940 non-null    object        \n",
      " 1   Location     940 non-null    object        \n",
      " 2   Description  940 non-null    object        \n",
      " 3   posted_time  940 non-null    datetime64[ns]\n",
      " 4   Price        940 non-null    object        \n",
      " 5   AD URL       940 non-null    object        \n",
      "dtypes: datetime64[ns](1), object(5)\n",
      "memory usage: 44.2+ KB\n"
     ]
    }
   ],
   "source": [
    "df.info() #[\"posted_time\"].dtype"
   ]
  },
  {
   "cell_type": "code",
   "execution_count": null,
   "id": "b9a244c6",
   "metadata": {},
   "outputs": [],
   "source": []
  },
  {
   "cell_type": "code",
   "execution_count": null,
   "id": "7dd0e844",
   "metadata": {},
   "outputs": [],
   "source": []
  },
  {
   "cell_type": "markdown",
   "id": "b8124f95",
   "metadata": {},
   "source": [
    "### `Price` is of type str ( [quality issues #4](#assessment-report) )\n",
    "\n",
    "`Price` should be of type float, not str. (quality issue)"
   ]
  },
  {
   "cell_type": "code",
   "execution_count": null,
   "id": "66357f83",
   "metadata": {},
   "outputs": [],
   "source": []
  },
  {
   "cell_type": "markdown",
   "id": "f329afec",
   "metadata": {},
   "source": [
    "#### Define\n",
    "* Remove `,` from `Price`\n",
    "* Convert `Price` from str to float"
   ]
  },
  {
   "cell_type": "code",
   "execution_count": null,
   "id": "708cdd19",
   "metadata": {},
   "outputs": [],
   "source": []
  },
  {
   "cell_type": "markdown",
   "id": "0f7581bb",
   "metadata": {},
   "source": [
    "#### Code"
   ]
  },
  {
   "cell_type": "code",
   "execution_count": 30,
   "id": "53946712",
   "metadata": {},
   "outputs": [
    {
     "data": {
      "text/plain": [
       "0        3150.0\n",
       "1        3850.0\n",
       "2       50000.0\n",
       "3    12000000.0\n",
       "4      150000.0\n",
       "Name: Price, dtype: float64"
      ]
     },
     "execution_count": 30,
     "metadata": {},
     "output_type": "execute_result"
    }
   ],
   "source": [
    "df[\"Price\"] = df[\"Price\"].str.replace(\",\",\"\")\n",
    "\n",
    "df[\"Price\"] = df[\"Price\"].astype(float)\n",
    "df[\"Price\"].head()"
   ]
  },
  {
   "cell_type": "code",
   "execution_count": null,
   "id": "8c6c1032",
   "metadata": {},
   "outputs": [],
   "source": []
  },
  {
   "cell_type": "markdown",
   "id": "e1d69902",
   "metadata": {},
   "source": [
    "#### Testing"
   ]
  },
  {
   "cell_type": "code",
   "execution_count": 31,
   "id": "925f3084",
   "metadata": {},
   "outputs": [
    {
     "data": {
      "text/plain": [
       "dtype('float64')"
      ]
     },
     "execution_count": 31,
     "metadata": {},
     "output_type": "execute_result"
    }
   ],
   "source": [
    "df[\"Price\"].dtype"
   ]
  },
  {
   "cell_type": "code",
   "execution_count": null,
   "id": "c705b2fa",
   "metadata": {},
   "outputs": [],
   "source": []
  },
  {
   "cell_type": "code",
   "execution_count": null,
   "id": "4ac86e2e",
   "metadata": {},
   "outputs": [],
   "source": []
  },
  {
   "cell_type": "markdown",
   "id": "d08c0970",
   "metadata": {},
   "source": [
    "### Split `location` column content into adequate columns ( [tidiness issues #1](#assessment-report) )\n",
    "\n",
    " `location` should be splitted to `city`, `zone`, and `address`. (tidiness issue)"
   ]
  },
  {
   "cell_type": "code",
   "execution_count": 38,
   "id": "267e37ee",
   "metadata": {},
   "outputs": [
    {
     "data": {
      "text/plain": [
       "0       Dhaka, Dhaka, Keraniganj\n",
       "1       Dhaka, Dhaka, Keraniganj\n",
       "2           Dhaka, Dhaka, Uttara\n",
       "3          Dhaka, Dhaka, Rampura\n",
       "4             Dhaka, Narayanganj\n",
       "                 ...            \n",
       "935         Dhaka, Dhaka, Uttara\n",
       "936     Dhaka, Dhaka, Keraniganj\n",
       "937           Dhaka, Narayanganj\n",
       "938       Chittagong, Chattogram\n",
       "939     Dhaka, Dhaka, Keraniganj\n",
       "Name: Location, Length: 940, dtype: object"
      ]
     },
     "execution_count": 38,
     "metadata": {},
     "output_type": "execute_result"
    }
   ],
   "source": [
    "df[\"Location\"]"
   ]
  },
  {
   "cell_type": "code",
   "execution_count": null,
   "id": "4bd7415b",
   "metadata": {},
   "outputs": [],
   "source": []
  },
  {
   "cell_type": "markdown",
   "id": "5f2060b5",
   "metadata": {},
   "source": [
    "#### Define\n",
    "* Retrieve the city, area, and address from each `location` through `get_detailed_address()`\n",
    "* Update new columns (city, area, address) based on values retrieve from `location`"
   ]
  },
  {
   "cell_type": "code",
   "execution_count": null,
   "id": "a04e90c3",
   "metadata": {},
   "outputs": [],
   "source": []
  },
  {
   "cell_type": "markdown",
   "id": "aa4ea545",
   "metadata": {},
   "source": [
    "#### Code"
   ]
  },
  {
   "cell_type": "code",
   "execution_count": 36,
   "id": "0b0ef645",
   "metadata": {},
   "outputs": [],
   "source": [
    "# Retrieve city in location\n",
    "df[\"city\"] = df[\"Location\"].apply(lambda x: x.split(\",\")[0].strip() )\n",
    "\n",
    "# Retrieve address in location\n",
    "df[\"address\"] = df[\"Location\"].apply(lambda x: \",\".join(x.split(\",\")[1:]).strip() )"
   ]
  },
  {
   "cell_type": "code",
   "execution_count": 39,
   "id": "b51d0bab",
   "metadata": {},
   "outputs": [
    {
     "data": {
      "text/html": [
       "<div>\n",
       "<style scoped>\n",
       "    .dataframe tbody tr th:only-of-type {\n",
       "        vertical-align: middle;\n",
       "    }\n",
       "\n",
       "    .dataframe tbody tr th {\n",
       "        vertical-align: top;\n",
       "    }\n",
       "\n",
       "    .dataframe thead th {\n",
       "        text-align: right;\n",
       "    }\n",
       "</style>\n",
       "<table border=\"1\" class=\"dataframe\">\n",
       "  <thead>\n",
       "    <tr style=\"text-align: right;\">\n",
       "      <th></th>\n",
       "      <th>Location</th>\n",
       "      <th>city</th>\n",
       "      <th>address</th>\n",
       "    </tr>\n",
       "  </thead>\n",
       "  <tbody>\n",
       "    <tr>\n",
       "      <th>0</th>\n",
       "      <td>Dhaka, Dhaka, Keraniganj</td>\n",
       "      <td>Dhaka</td>\n",
       "      <td>Dhaka, Keraniganj</td>\n",
       "    </tr>\n",
       "    <tr>\n",
       "      <th>1</th>\n",
       "      <td>Dhaka, Dhaka, Keraniganj</td>\n",
       "      <td>Dhaka</td>\n",
       "      <td>Dhaka, Keraniganj</td>\n",
       "    </tr>\n",
       "    <tr>\n",
       "      <th>2</th>\n",
       "      <td>Dhaka, Dhaka, Uttara</td>\n",
       "      <td>Dhaka</td>\n",
       "      <td>Dhaka, Uttara</td>\n",
       "    </tr>\n",
       "    <tr>\n",
       "      <th>3</th>\n",
       "      <td>Dhaka, Dhaka, Rampura</td>\n",
       "      <td>Dhaka</td>\n",
       "      <td>Dhaka, Rampura</td>\n",
       "    </tr>\n",
       "    <tr>\n",
       "      <th>4</th>\n",
       "      <td>Dhaka, Narayanganj</td>\n",
       "      <td>Dhaka</td>\n",
       "      <td>Narayanganj</td>\n",
       "    </tr>\n",
       "    <tr>\n",
       "      <th>...</th>\n",
       "      <td>...</td>\n",
       "      <td>...</td>\n",
       "      <td>...</td>\n",
       "    </tr>\n",
       "    <tr>\n",
       "      <th>935</th>\n",
       "      <td>Dhaka, Dhaka, Uttara</td>\n",
       "      <td>Dhaka</td>\n",
       "      <td>Dhaka, Uttara</td>\n",
       "    </tr>\n",
       "    <tr>\n",
       "      <th>936</th>\n",
       "      <td>Dhaka, Dhaka, Keraniganj</td>\n",
       "      <td>Dhaka</td>\n",
       "      <td>Dhaka, Keraniganj</td>\n",
       "    </tr>\n",
       "    <tr>\n",
       "      <th>937</th>\n",
       "      <td>Dhaka, Narayanganj</td>\n",
       "      <td>Dhaka</td>\n",
       "      <td>Narayanganj</td>\n",
       "    </tr>\n",
       "    <tr>\n",
       "      <th>938</th>\n",
       "      <td>Chittagong, Chattogram</td>\n",
       "      <td>Chittagong</td>\n",
       "      <td>Chattogram</td>\n",
       "    </tr>\n",
       "    <tr>\n",
       "      <th>939</th>\n",
       "      <td>Dhaka, Dhaka, Keraniganj</td>\n",
       "      <td>Dhaka</td>\n",
       "      <td>Dhaka, Keraniganj</td>\n",
       "    </tr>\n",
       "  </tbody>\n",
       "</table>\n",
       "<p>940 rows × 3 columns</p>\n",
       "</div>"
      ],
      "text/plain": [
       "                      Location        city            address\n",
       "0     Dhaka, Dhaka, Keraniganj       Dhaka  Dhaka, Keraniganj\n",
       "1     Dhaka, Dhaka, Keraniganj       Dhaka  Dhaka, Keraniganj\n",
       "2         Dhaka, Dhaka, Uttara       Dhaka      Dhaka, Uttara\n",
       "3        Dhaka, Dhaka, Rampura       Dhaka     Dhaka, Rampura\n",
       "4           Dhaka, Narayanganj       Dhaka        Narayanganj\n",
       "..                         ...         ...                ...\n",
       "935       Dhaka, Dhaka, Uttara       Dhaka      Dhaka, Uttara\n",
       "936   Dhaka, Dhaka, Keraniganj       Dhaka  Dhaka, Keraniganj\n",
       "937         Dhaka, Narayanganj       Dhaka        Narayanganj\n",
       "938     Chittagong, Chattogram  Chittagong         Chattogram\n",
       "939   Dhaka, Dhaka, Keraniganj       Dhaka  Dhaka, Keraniganj\n",
       "\n",
       "[940 rows x 3 columns]"
      ]
     },
     "execution_count": 39,
     "metadata": {},
     "output_type": "execute_result"
    }
   ],
   "source": [
    "# Checking the content of location, city, and address\n",
    "df[ [\"Location\",\"city\",\"address\"] ] "
   ]
  },
  {
   "cell_type": "code",
   "execution_count": 40,
   "id": "4682600b",
   "metadata": {},
   "outputs": [
    {
     "data": {
      "text/plain": [
       "(940, 8)"
      ]
     },
     "execution_count": 40,
     "metadata": {},
     "output_type": "execute_result"
    }
   ],
   "source": [
    "df.shape"
   ]
  },
  {
   "cell_type": "code",
   "execution_count": 41,
   "id": "9985d0f2",
   "metadata": {},
   "outputs": [
    {
     "data": {
      "text/plain": [
       "(940, 7)"
      ]
     },
     "execution_count": 41,
     "metadata": {},
     "output_type": "execute_result"
    }
   ],
   "source": [
    "# Drop location column\n",
    "df.drop([\"Location\"], axis=1, inplace=True)\n",
    "\n",
    "df.shape"
   ]
  },
  {
   "cell_type": "code",
   "execution_count": null,
   "id": "6c001cea",
   "metadata": {},
   "outputs": [],
   "source": []
  },
  {
   "cell_type": "code",
   "execution_count": null,
   "id": "22b0a9eb",
   "metadata": {},
   "outputs": [],
   "source": []
  },
  {
   "cell_type": "markdown",
   "id": "f79a566f",
   "metadata": {},
   "source": [
    "### Column names should become lowercase  ( [tidiness issues #2](#assessment-report) )\n",
    "\n",
    "Column names should become lowercase for consistency with the other datasets cleaned. (tidiness issue)"
   ]
  },
  {
   "cell_type": "code",
   "execution_count": null,
   "id": "6e8ae791",
   "metadata": {},
   "outputs": [],
   "source": []
  },
  {
   "cell_type": "code",
   "execution_count": null,
   "id": "4c97a09d",
   "metadata": {},
   "outputs": [],
   "source": [
    "xxxxxx"
   ]
  },
  {
   "cell_type": "code",
   "execution_count": null,
   "id": "9272c01f",
   "metadata": {},
   "outputs": [],
   "source": []
  },
  {
   "cell_type": "markdown",
   "id": "a3429c54",
   "metadata": {},
   "source": [
    "#### Code"
   ]
  },
  {
   "cell_type": "code",
   "execution_count": 23,
   "id": "73fa1d54",
   "metadata": {},
   "outputs": [
    {
     "data": {
      "text/plain": [
       "array(['Residential', 'Commercial'], dtype=object)"
      ]
     },
     "execution_count": 23,
     "metadata": {},
     "output_type": "execute_result"
    }
   ],
   "source": [
    "# Replacing values of commercial_type column\n",
    "bproperty_df.loc[ bproperty_df[\"commercial_type\"]==True, [\"commercial_type\"] ] = \"Commercial\"\n",
    "bproperty_df.loc[ bproperty_df[\"commercial_type\"]==False, [\"commercial_type\"] ] = \"Residential\"\n",
    "\n",
    "# Making sure values were updated\n",
    "bproperty_df[\"commercial_type\"].unique()"
   ]
  },
  {
   "cell_type": "code",
   "execution_count": 24,
   "id": "e7c7d363",
   "metadata": {},
   "outputs": [
    {
     "data": {
      "text/plain": [
       "['amenities',\n",
       " 'area',\n",
       " 'building_type',\n",
       " 'building_nature',\n",
       " 'location',\n",
       " 'num_bath_rooms',\n",
       " 'num_bed_rooms',\n",
       " 'price',\n",
       " 'property_description',\n",
       " 'property_overview',\n",
       " 'property_url',\n",
       " 'purpose']"
      ]
     },
     "execution_count": 24,
     "metadata": {},
     "output_type": "execute_result"
    }
   ],
   "source": [
    "# Renaming column\n",
    "bproperty_df.rename(columns={\n",
    "    \"commercial_type\":\"building_nature\"\n",
    "}, inplace=True)\n",
    "\n",
    "# Confirming rename was done\n",
    "bproperty_df.columns.to_list()"
   ]
  },
  {
   "cell_type": "code",
   "execution_count": 25,
   "id": "ea154b70",
   "metadata": {},
   "outputs": [
    {
     "data": {
      "text/html": [
       "<div>\n",
       "<style scoped>\n",
       "    .dataframe tbody tr th:only-of-type {\n",
       "        vertical-align: middle;\n",
       "    }\n",
       "\n",
       "    .dataframe tbody tr th {\n",
       "        vertical-align: top;\n",
       "    }\n",
       "\n",
       "    .dataframe thead th {\n",
       "        text-align: right;\n",
       "    }\n",
       "</style>\n",
       "<table border=\"1\" class=\"dataframe\">\n",
       "  <thead>\n",
       "    <tr style=\"text-align: right;\">\n",
       "      <th></th>\n",
       "      <th>0</th>\n",
       "      <th>1</th>\n",
       "    </tr>\n",
       "  </thead>\n",
       "  <tbody>\n",
       "    <tr>\n",
       "      <th>amenities</th>\n",
       "      <td>{'Flooring': 'yes', 'Parking Spaces': ' 1', 'B...</td>\n",
       "      <td>NaN</td>\n",
       "    </tr>\n",
       "    <tr>\n",
       "      <th>area</th>\n",
       "      <td>1265.0</td>\n",
       "      <td>4400.0</td>\n",
       "    </tr>\n",
       "    <tr>\n",
       "      <th>building_type</th>\n",
       "      <td>Apartment</td>\n",
       "      <td>Apartment</td>\n",
       "    </tr>\n",
       "    <tr>\n",
       "      <th>building_nature</th>\n",
       "      <td>Residential</td>\n",
       "      <td>Residential</td>\n",
       "    </tr>\n",
       "    <tr>\n",
       "      <th>location</th>\n",
       "      <td>Baridhara DOHS, Dhaka</td>\n",
       "      <td>Gulshan 2, Gulshan, Dhaka</td>\n",
       "    </tr>\n",
       "    <tr>\n",
       "      <th>num_bath_rooms</th>\n",
       "      <td>3 Baths</td>\n",
       "      <td>4 Baths</td>\n",
       "    </tr>\n",
       "    <tr>\n",
       "      <th>num_bed_rooms</th>\n",
       "      <td>3 Beds</td>\n",
       "      <td>4 Beds</td>\n",
       "    </tr>\n",
       "    <tr>\n",
       "      <th>price</th>\n",
       "      <td>1.25 Crore</td>\n",
       "      <td>7.04 Crore</td>\n",
       "    </tr>\n",
       "    <tr>\n",
       "      <th>property_description</th>\n",
       "      <td>Ready Flat Of 1265 Sq Ft Is Now Up For Sale In...</td>\n",
       "      <td>You Can Move Into This Well Planned And Comfor...</td>\n",
       "    </tr>\n",
       "    <tr>\n",
       "      <th>property_overview</th>\n",
       "      <td>Looking for a luxurious apartment with top-not...</td>\n",
       "      <td>Amicable environment, appropriate commuting sy...</td>\n",
       "    </tr>\n",
       "    <tr>\n",
       "      <th>property_url</th>\n",
       "      <td>https://www.bproperty.com/en/property/details-...</td>\n",
       "      <td>https://www.bproperty.com/en/property/details-...</td>\n",
       "    </tr>\n",
       "    <tr>\n",
       "      <th>purpose</th>\n",
       "      <td>For Sale</td>\n",
       "      <td>For Sale</td>\n",
       "    </tr>\n",
       "  </tbody>\n",
       "</table>\n",
       "</div>"
      ],
      "text/plain": [
       "                                                                      0  \\\n",
       "amenities             {'Flooring': 'yes', 'Parking Spaces': ' 1', 'B...   \n",
       "area                                                             1265.0   \n",
       "building_type                                                 Apartment   \n",
       "building_nature                                             Residential   \n",
       "location                                          Baridhara DOHS, Dhaka   \n",
       "num_bath_rooms                                                  3 Baths   \n",
       "num_bed_rooms                                                    3 Beds   \n",
       "price                                                        1.25 Crore   \n",
       "property_description  Ready Flat Of 1265 Sq Ft Is Now Up For Sale In...   \n",
       "property_overview     Looking for a luxurious apartment with top-not...   \n",
       "property_url          https://www.bproperty.com/en/property/details-...   \n",
       "purpose                                                        For Sale   \n",
       "\n",
       "                                                                      1  \n",
       "amenities                                                           NaN  \n",
       "area                                                             4400.0  \n",
       "building_type                                                 Apartment  \n",
       "building_nature                                             Residential  \n",
       "location                                      Gulshan 2, Gulshan, Dhaka  \n",
       "num_bath_rooms                                                  4 Baths  \n",
       "num_bed_rooms                                                    4 Beds  \n",
       "price                                                        7.04 Crore  \n",
       "property_description  You Can Move Into This Well Planned And Comfor...  \n",
       "property_overview     Amicable environment, appropriate commuting sy...  \n",
       "property_url          https://www.bproperty.com/en/property/details-...  \n",
       "purpose                                                        For Sale  "
      ]
     },
     "execution_count": 25,
     "metadata": {},
     "output_type": "execute_result"
    }
   ],
   "source": [
    "# Taking a look at content (for general confirmation)\n",
    "bproperty_df.head(2).T"
   ]
  },
  {
   "cell_type": "code",
   "execution_count": null,
   "id": "c31a80e4",
   "metadata": {},
   "outputs": [],
   "source": []
  },
  {
   "cell_type": "markdown",
   "id": "3bff1b89",
   "metadata": {},
   "source": [
    "### `num_bath_rooms` and `num_bed_rooms` should be integer, no string. ( [quality issue #3](#bproperty-assessment-report) )"
   ]
  },
  {
   "cell_type": "code",
   "execution_count": 26,
   "id": "d075e7eb",
   "metadata": {},
   "outputs": [
    {
     "data": {
      "text/plain": [
       "dtype('O')"
      ]
     },
     "execution_count": 26,
     "metadata": {},
     "output_type": "execute_result"
    }
   ],
   "source": [
    "bproperty_df[\"num_bath_rooms\"].dtype"
   ]
  },
  {
   "cell_type": "code",
   "execution_count": 27,
   "id": "263478fd",
   "metadata": {},
   "outputs": [
    {
     "data": {
      "text/plain": [
       "array(['3 Baths', '4 Baths', nan, '2 Baths', '10 Baths', '5 Baths',\n",
       "       '8 Baths', '1 Bath', '7 Baths', '6 Baths', '9 Baths'], dtype=object)"
      ]
     },
     "execution_count": 27,
     "metadata": {},
     "output_type": "execute_result"
    }
   ],
   "source": [
    "bproperty_df[\"num_bath_rooms\"].unique()"
   ]
  },
  {
   "cell_type": "code",
   "execution_count": 28,
   "id": "258f07b5",
   "metadata": {},
   "outputs": [
    {
     "data": {
      "text/plain": [
       "dtype('O')"
      ]
     },
     "execution_count": 28,
     "metadata": {},
     "output_type": "execute_result"
    }
   ],
   "source": [
    "bproperty_df[\"num_bed_rooms\"].dtype"
   ]
  },
  {
   "cell_type": "code",
   "execution_count": 29,
   "id": "5a0190c2",
   "metadata": {},
   "outputs": [
    {
     "data": {
      "text/plain": [
       "array(['3 Beds', '4 Beds', '2 Beds', nan, '21 Beds', '5 Beds', '7 Beds',\n",
       "       '1 Bed', '6 Beds', '19 Beds', '24 Beds', '33 Beds', '56 Beds',\n",
       "       '10 Beds', '13 Beds', '48 Beds', '12 Beds', '60 Beds', '18 Beds',\n",
       "       '40 Beds', '29 Beds', '23 Beds', '8 Beds', '75 Beds', '14 Beds',\n",
       "       '50 Beds', '42 Beds', '16 Beds', '36 Beds', '15 Beds', '25 Beds',\n",
       "       '22 Beds', '46 Beds', '32 Beds', '30 Beds', '11 Beds', '94 Beds',\n",
       "       '17 Beds', '20 Beds'], dtype=object)"
      ]
     },
     "execution_count": 29,
     "metadata": {},
     "output_type": "execute_result"
    }
   ],
   "source": [
    "bproperty_df[\"num_bed_rooms\"].unique()"
   ]
  },
  {
   "cell_type": "code",
   "execution_count": null,
   "id": "02b0889b",
   "metadata": {},
   "outputs": [],
   "source": []
  },
  {
   "cell_type": "markdown",
   "id": "06219ee0",
   "metadata": {},
   "source": [
    "#### Define\n",
    "* Replace `NaN` values by `0` (since in this case, that made sense: it mean the sample doesn't have a bath_room or bed_room \n",
    "* Remove `Bed`, `Beds`, `Bath` and `Baths` from the values of `num_bed_rooms` and `num_bath_rooms`\n",
    "* Convert `num_bed_rooms` and `num_bath_rooms` to integer"
   ]
  },
  {
   "cell_type": "markdown",
   "id": "a2b0b823",
   "metadata": {},
   "source": [
    "#### Code"
   ]
  },
  {
   "cell_type": "code",
   "execution_count": 30,
   "id": "c8af8490",
   "metadata": {},
   "outputs": [
    {
     "data": {
      "text/plain": [
       "(0, 0)"
      ]
     },
     "execution_count": 30,
     "metadata": {},
     "output_type": "execute_result"
    }
   ],
   "source": [
    "# Replace NaN value by 0 in num_bed_rooms and num_bath_rooms\n",
    "bproperty_df[\"num_bed_rooms\"].fillna(\"0\", inplace=True)\n",
    "bproperty_df[\"num_bath_rooms\"].fillna(\"0\", inplace=True)\n",
    "\n",
    "# Check that NaN values where replaced\n",
    "bproperty_df[\"num_bed_rooms\"].isnull().sum(), bproperty_df[\"num_bath_rooms\"].isnull().sum()"
   ]
  },
  {
   "cell_type": "code",
   "execution_count": 31,
   "id": "85fe710b",
   "metadata": {},
   "outputs": [],
   "source": [
    "# Removing the units (bed, bath, ...) in num_bed_rooms and num_bath_rooms\n",
    "bproperty_df[\"num_bed_rooms\"] = bproperty_df[\"num_bed_rooms\"].apply(lambda x: x.split(\" \")[0] )\n",
    "bproperty_df[\"num_bath_rooms\"] = bproperty_df[\"num_bath_rooms\"].apply(lambda x: x.split(\" \")[0] )"
   ]
  },
  {
   "cell_type": "code",
   "execution_count": 32,
   "id": "5fda035e",
   "metadata": {},
   "outputs": [],
   "source": [
    "# Converting num_bed_rooms and num_bath_rooms to integer\n",
    "bproperty_df[\"num_bed_rooms\"] = bproperty_df[\"num_bed_rooms\"].astype(int)\n",
    "bproperty_df[\"num_bath_rooms\"] = bproperty_df[\"num_bath_rooms\"].astype(int)\n"
   ]
  },
  {
   "cell_type": "code",
   "execution_count": null,
   "id": "4828b8f9",
   "metadata": {},
   "outputs": [],
   "source": []
  },
  {
   "cell_type": "markdown",
   "id": "d95f9603",
   "metadata": {},
   "source": [
    "#### Testing"
   ]
  },
  {
   "cell_type": "code",
   "execution_count": 33,
   "id": "86a90166",
   "metadata": {},
   "outputs": [
    {
     "data": {
      "text/plain": [
       "(dtype('int32'), dtype('int32'))"
      ]
     },
     "execution_count": 33,
     "metadata": {},
     "output_type": "execute_result"
    }
   ],
   "source": [
    "# Checking type conversion was succesful\n",
    "bproperty_df[\"num_bed_rooms\"].dtype, bproperty_df[\"num_bath_rooms\"].dtype"
   ]
  },
  {
   "cell_type": "code",
   "execution_count": null,
   "id": "ada6daa2",
   "metadata": {},
   "outputs": [],
   "source": []
  },
  {
   "cell_type": "code",
   "execution_count": null,
   "id": "658b7c8f",
   "metadata": {},
   "outputs": [],
   "source": []
  },
  {
   "cell_type": "markdown",
   "id": "22c23f8a",
   "metadata": {},
   "source": [
    "### `price` content is not uniform accross the dataset ( [quality issue #4 & #5](#bproperty-assessment-report) )\n",
    "\n",
    "`price` content is not uniform accross the dataset. Some are in `Lakh`, other in `Crore`, etc... The unit used for the price should be uniformized. A special attention should be paid to the fact that there are `price` without unit.  \n",
    "\n",
    "Furthermore, `price` should be decimal, not string."
   ]
  },
  {
   "cell_type": "code",
   "execution_count": 34,
   "id": "a747c7f2",
   "metadata": {},
   "outputs": [
    {
     "data": {
      "text/plain": [
       "array(['1.25 Crore', '7.04 Crore', '62 Lakh', ..., '13.98 Lakh',\n",
       "       '96.25 Lakh', '92.1 Lakh'], dtype=object)"
      ]
     },
     "execution_count": 34,
     "metadata": {},
     "output_type": "execute_result"
    }
   ],
   "source": [
    "bproperty_df[\"price\"].unique()"
   ]
  },
  {
   "cell_type": "markdown",
   "id": "e481cd85",
   "metadata": {},
   "source": [
    "#### Define\n",
    "* Convert all price to the same currency\n",
    "* Replace `Thousand` by triple `0`\n",
    "* Convert the column to float"
   ]
  },
  {
   "cell_type": "markdown",
   "id": "715cb7d0",
   "metadata": {},
   "source": [
    "#### Code"
   ]
  },
  {
   "cell_type": "code",
   "execution_count": 35,
   "id": "358a67d7",
   "metadata": {},
   "outputs": [
    {
     "name": "stdout",
     "output_type": "stream",
     "text": [
      "Currently processing sample 0...\n",
      "Currently processing sample 1000...\n",
      "Currently processing sample 2000...\n",
      "Currently processing sample 3000...\n",
      "Currently processing sample 4000...\n",
      "Currently processing sample 5000...\n",
      "Currently processing sample 6000...\n",
      "Currently processing sample 7000...\n",
      "Currently processing sample 8000...\n",
      "Currently processing sample 9000...\n",
      "Currently processing sample 10000...\n",
      "Currently processing sample 11000...\n",
      "Currently processing sample 12000...\n",
      "Currently processing sample 13000...\n",
      "Currently processing sample 14000...\n",
      "Currently processing sample 15000...\n",
      "Currently processing sample 16000...\n",
      "Currently processing sample 17000...\n",
      "Processing has come to an end\n"
     ]
    }
   ],
   "source": [
    "\"\"\"\n",
    "    Loop through `price` column, while:\n",
    "        * Converting all prices to BDT currency\n",
    "        * Replacing `Thousand` by triple `0`\n",
    "\"\"\"\n",
    "\n",
    "for index, row in bproperty_df.iterrows(): # loop through each sample\n",
    "    \n",
    "    # The code may take time, log in the console to keep track of things\n",
    "    if index==0 or index%1000==0:\n",
    "        print(f\"Currently processing sample {index}...\")\n",
    "        \n",
    "    # retrieve the price\n",
    "    sample_price = bproperty_df.loc[index, \"price\"]\n",
    "    splitted_sample_price= sample_price.split()\n",
    "    \n",
    "    # making sure there are only the value and unit in sample price\n",
    "    if len(splitted_sample_price)>2:\n",
    "        print(f\"Sample of index {index} has a suspicious value as price: {sample_price}\")\n",
    "        break\n",
    "        \n",
    "    price = float( splitted_sample_price[0] ) # will contain the price; eg: 1345\n",
    "    price_unit = splitted_sample_price[1].lower() # will contain the unit; eg: Lakh, Crore\n",
    "    \n",
    "    # making sure all units are taken into account\n",
    "    if price_unit not in [\"arab\",\"crore\",\"lakh\",\"thousand\"]:\n",
    "        print(f\"Sample of index {index} has a unit not taken into account for its price: {sample_price}\")\n",
    "        break\n",
    "    \n",
    "    # converting all price unit to BDT : 1 lakh=100000 BDT,1 crore=10000000 BDT, 1 Arab= 1000000000 BDT (Thanks @Al Momin Faruk)\n",
    "    if price_unit==\"arab\":\n",
    "        price *= 1000000000\n",
    "    elif price_unit==\"crore\":\n",
    "        price *= 10000000\n",
    "    elif price_unit==\"lakh\":\n",
    "        price *= 100000\n",
    "    elif price_unit==\"thousand\":\n",
    "        price *= 1000\n",
    "    else:\n",
    "        raise Exception(f\"Currency {price_unit} not taken to account\")\n",
    "    \n",
    "    # updating the price of the sample in the dataframe\n",
    "    bproperty_df.loc[index, \"price\"] = price\n",
    "\n",
    "print(\"Processing has come to an end\")\n",
    "    \n",
    "# Converting area to decimal\n",
    "bproperty_df[\"price\"] = bproperty_df[\"price\"].astype(float)"
   ]
  },
  {
   "cell_type": "code",
   "execution_count": null,
   "id": "4e7190cd",
   "metadata": {},
   "outputs": [],
   "source": []
  },
  {
   "cell_type": "markdown",
   "id": "00830f96",
   "metadata": {},
   "source": [
    "#### Testing"
   ]
  },
  {
   "cell_type": "code",
   "execution_count": 36,
   "id": "702f9cac",
   "metadata": {},
   "outputs": [
    {
     "data": {
      "text/plain": [
       "dtype('float64')"
      ]
     },
     "execution_count": 36,
     "metadata": {},
     "output_type": "execute_result"
    }
   ],
   "source": [
    "bproperty_df[\"price\"].dtype"
   ]
  },
  {
   "cell_type": "code",
   "execution_count": null,
   "id": "3a1e5c30",
   "metadata": {},
   "outputs": [],
   "source": []
  },
  {
   "cell_type": "code",
   "execution_count": null,
   "id": "8e650950",
   "metadata": {},
   "outputs": [],
   "source": []
  },
  {
   "cell_type": "markdown",
   "id": "b1843495",
   "metadata": {},
   "source": [
    "### Set `purpose` values to `Rent` or `Sale` ( [quality issue #6](#bproperty-assessment-report) )\n",
    "\n",
    "`purpose` should have `Rent` or `Sale` as values. This is not really an issue, its goal is only to keep values consistent accross all cleaned datasets."
   ]
  },
  {
   "cell_type": "code",
   "execution_count": 37,
   "id": "36a723ce",
   "metadata": {},
   "outputs": [
    {
     "data": {
      "text/plain": [
       "array(['For Sale', 'For Rent'], dtype=object)"
      ]
     },
     "execution_count": 37,
     "metadata": {},
     "output_type": "execute_result"
    }
   ],
   "source": [
    "bproperty_df[\"purpose\"].unique()"
   ]
  },
  {
   "cell_type": "code",
   "execution_count": null,
   "id": "68b638f7",
   "metadata": {},
   "outputs": [],
   "source": []
  },
  {
   "cell_type": "markdown",
   "id": "6f70f4e6",
   "metadata": {},
   "source": [
    "#### Define\n",
    "* Replace `For Sale` by `Sale`, and `For Rent` by `Rent` "
   ]
  },
  {
   "cell_type": "code",
   "execution_count": null,
   "id": "c66412c5",
   "metadata": {},
   "outputs": [],
   "source": []
  },
  {
   "cell_type": "markdown",
   "id": "4f56cbdb",
   "metadata": {},
   "source": [
    "#### Code"
   ]
  },
  {
   "cell_type": "code",
   "execution_count": 38,
   "id": "c336a58e",
   "metadata": {},
   "outputs": [],
   "source": [
    "bproperty_df[\"purpose\"] = bproperty_df[\"purpose\"].apply(lambda x: x.split(\" \")[1] )"
   ]
  },
  {
   "cell_type": "markdown",
   "id": "908f57a7",
   "metadata": {},
   "source": [
    "#### Testing"
   ]
  },
  {
   "cell_type": "code",
   "execution_count": 39,
   "id": "8e63f348",
   "metadata": {},
   "outputs": [
    {
     "data": {
      "text/plain": [
       "array(['Sale', 'Rent'], dtype=object)"
      ]
     },
     "execution_count": 39,
     "metadata": {},
     "output_type": "execute_result"
    }
   ],
   "source": [
    "bproperty_df[\"purpose\"].unique()"
   ]
  },
  {
   "cell_type": "code",
   "execution_count": null,
   "id": "101cee5f",
   "metadata": {},
   "outputs": [],
   "source": []
  },
  {
   "cell_type": "code",
   "execution_count": null,
   "id": "c98ac873",
   "metadata": {},
   "outputs": [],
   "source": []
  },
  {
   "cell_type": "markdown",
   "id": "29884ef8",
   "metadata": {},
   "source": [
    "### Split `location` column content into adequate columns ( [tidiness issue #1](#bproperty-assessment-report) )\n",
    "\n",
    "`location` has concatened informations: city, district, sector, etc. Those will be splitted into `city` and `address`."
   ]
  },
  {
   "cell_type": "code",
   "execution_count": 40,
   "id": "35897387",
   "metadata": {},
   "outputs": [
    {
     "data": {
      "text/plain": [
       "0                  Baridhara DOHS, Dhaka\n",
       "1              Gulshan 2, Gulshan, Dhaka\n",
       "2                        Khilgaon, Dhaka\n",
       "3                        Khilgaon, Dhaka\n",
       "4                        Khilgaon, Dhaka\n",
       "                      ...               \n",
       "17251          Darussalam, Mirpur, Dhaka\n",
       "17252           Meradia, Khilgaon, Dhaka\n",
       "17253    Block J, Bashundhara R-A, Dhaka\n",
       "17254    Block G, Bashundhara R-A, Dhaka\n",
       "17255           Block H, Banasree, Dhaka\n",
       "Name: location, Length: 17256, dtype: object"
      ]
     },
     "execution_count": 40,
     "metadata": {},
     "output_type": "execute_result"
    }
   ],
   "source": [
    "bproperty_df[\"location\"]"
   ]
  },
  {
   "cell_type": "code",
   "execution_count": null,
   "id": "879d928b",
   "metadata": {},
   "outputs": [],
   "source": []
  },
  {
   "cell_type": "markdown",
   "id": "501252b3",
   "metadata": {},
   "source": [
    "#### Define\n",
    "* Split content of `location` to `city` and `address`\n",
    "* Remove `location` column"
   ]
  },
  {
   "cell_type": "code",
   "execution_count": null,
   "id": "550820f3",
   "metadata": {},
   "outputs": [],
   "source": []
  },
  {
   "cell_type": "markdown",
   "id": "a894ac70",
   "metadata": {},
   "source": [
    "#### Code"
   ]
  },
  {
   "cell_type": "code",
   "execution_count": 41,
   "id": "0e15de8a",
   "metadata": {},
   "outputs": [],
   "source": [
    "# Retrieve city in location\n",
    "bproperty_df[\"city\"] = bproperty_df[\"location\"].apply(lambda x: x.split(\",\")[-1].strip() )\n",
    "\n",
    "# Retrieve address in location\n",
    "bproperty_df[\"address\"] = bproperty_df[\"location\"].apply(lambda x: \",\".join(x.split(\",\")[:-1]).strip() )"
   ]
  },
  {
   "cell_type": "code",
   "execution_count": 42,
   "id": "17979263",
   "metadata": {},
   "outputs": [
    {
     "data": {
      "text/html": [
       "<div>\n",
       "<style scoped>\n",
       "    .dataframe tbody tr th:only-of-type {\n",
       "        vertical-align: middle;\n",
       "    }\n",
       "\n",
       "    .dataframe tbody tr th {\n",
       "        vertical-align: top;\n",
       "    }\n",
       "\n",
       "    .dataframe thead th {\n",
       "        text-align: right;\n",
       "    }\n",
       "</style>\n",
       "<table border=\"1\" class=\"dataframe\">\n",
       "  <thead>\n",
       "    <tr style=\"text-align: right;\">\n",
       "      <th></th>\n",
       "      <th>location</th>\n",
       "      <th>city</th>\n",
       "      <th>address</th>\n",
       "    </tr>\n",
       "  </thead>\n",
       "  <tbody>\n",
       "    <tr>\n",
       "      <th>0</th>\n",
       "      <td>Baridhara DOHS, Dhaka</td>\n",
       "      <td>Dhaka</td>\n",
       "      <td>Baridhara DOHS</td>\n",
       "    </tr>\n",
       "    <tr>\n",
       "      <th>1</th>\n",
       "      <td>Gulshan 2, Gulshan, Dhaka</td>\n",
       "      <td>Dhaka</td>\n",
       "      <td>Gulshan 2, Gulshan</td>\n",
       "    </tr>\n",
       "    <tr>\n",
       "      <th>2</th>\n",
       "      <td>Khilgaon, Dhaka</td>\n",
       "      <td>Dhaka</td>\n",
       "      <td>Khilgaon</td>\n",
       "    </tr>\n",
       "    <tr>\n",
       "      <th>3</th>\n",
       "      <td>Khilgaon, Dhaka</td>\n",
       "      <td>Dhaka</td>\n",
       "      <td>Khilgaon</td>\n",
       "    </tr>\n",
       "    <tr>\n",
       "      <th>4</th>\n",
       "      <td>Khilgaon, Dhaka</td>\n",
       "      <td>Dhaka</td>\n",
       "      <td>Khilgaon</td>\n",
       "    </tr>\n",
       "    <tr>\n",
       "      <th>...</th>\n",
       "      <td>...</td>\n",
       "      <td>...</td>\n",
       "      <td>...</td>\n",
       "    </tr>\n",
       "    <tr>\n",
       "      <th>17251</th>\n",
       "      <td>Darussalam, Mirpur, Dhaka</td>\n",
       "      <td>Dhaka</td>\n",
       "      <td>Darussalam, Mirpur</td>\n",
       "    </tr>\n",
       "    <tr>\n",
       "      <th>17252</th>\n",
       "      <td>Meradia, Khilgaon, Dhaka</td>\n",
       "      <td>Dhaka</td>\n",
       "      <td>Meradia, Khilgaon</td>\n",
       "    </tr>\n",
       "    <tr>\n",
       "      <th>17253</th>\n",
       "      <td>Block J, Bashundhara R-A, Dhaka</td>\n",
       "      <td>Dhaka</td>\n",
       "      <td>Block J, Bashundhara R-A</td>\n",
       "    </tr>\n",
       "    <tr>\n",
       "      <th>17254</th>\n",
       "      <td>Block G, Bashundhara R-A, Dhaka</td>\n",
       "      <td>Dhaka</td>\n",
       "      <td>Block G, Bashundhara R-A</td>\n",
       "    </tr>\n",
       "    <tr>\n",
       "      <th>17255</th>\n",
       "      <td>Block H, Banasree, Dhaka</td>\n",
       "      <td>Dhaka</td>\n",
       "      <td>Block H, Banasree</td>\n",
       "    </tr>\n",
       "  </tbody>\n",
       "</table>\n",
       "<p>17256 rows × 3 columns</p>\n",
       "</div>"
      ],
      "text/plain": [
       "                              location   city                   address\n",
       "0                Baridhara DOHS, Dhaka  Dhaka            Baridhara DOHS\n",
       "1            Gulshan 2, Gulshan, Dhaka  Dhaka        Gulshan 2, Gulshan\n",
       "2                      Khilgaon, Dhaka  Dhaka                  Khilgaon\n",
       "3                      Khilgaon, Dhaka  Dhaka                  Khilgaon\n",
       "4                      Khilgaon, Dhaka  Dhaka                  Khilgaon\n",
       "...                                ...    ...                       ...\n",
       "17251        Darussalam, Mirpur, Dhaka  Dhaka        Darussalam, Mirpur\n",
       "17252         Meradia, Khilgaon, Dhaka  Dhaka         Meradia, Khilgaon\n",
       "17253  Block J, Bashundhara R-A, Dhaka  Dhaka  Block J, Bashundhara R-A\n",
       "17254  Block G, Bashundhara R-A, Dhaka  Dhaka  Block G, Bashundhara R-A\n",
       "17255         Block H, Banasree, Dhaka  Dhaka         Block H, Banasree\n",
       "\n",
       "[17256 rows x 3 columns]"
      ]
     },
     "execution_count": 42,
     "metadata": {},
     "output_type": "execute_result"
    }
   ],
   "source": [
    "# Checking the content of location, city, and address\n",
    "bproperty_df[ [\"location\",\"city\",\"address\"] ] "
   ]
  },
  {
   "cell_type": "code",
   "execution_count": 43,
   "id": "adc2a8ac",
   "metadata": {},
   "outputs": [
    {
     "data": {
      "text/plain": [
       "(17256, 14)"
      ]
     },
     "execution_count": 43,
     "metadata": {},
     "output_type": "execute_result"
    }
   ],
   "source": [
    "bproperty_df.shape"
   ]
  },
  {
   "cell_type": "code",
   "execution_count": 44,
   "id": "80e2ba50",
   "metadata": {},
   "outputs": [],
   "source": [
    "# Drop location column\n",
    "bproperty_df.drop([\"location\"], axis=1, inplace=True)"
   ]
  },
  {
   "cell_type": "code",
   "execution_count": 45,
   "id": "55ecedfe",
   "metadata": {},
   "outputs": [
    {
     "data": {
      "text/plain": [
       "(17256, 13)"
      ]
     },
     "execution_count": 45,
     "metadata": {},
     "output_type": "execute_result"
    }
   ],
   "source": [
    "# Making sure removal was successful\n",
    "bproperty_df.shape"
   ]
  },
  {
   "cell_type": "code",
   "execution_count": null,
   "id": "22053c89",
   "metadata": {},
   "outputs": [],
   "source": []
  },
  {
   "cell_type": "markdown",
   "id": "f941b3d1",
   "metadata": {},
   "source": [
    "### Cleaning `amenities` feature ( [tidiness issue #2](#bproperty-assessment-report) )\n",
    "\n",
    "In `amenities` feature, each key in the dictionaries (in its content) should become a column. The value of the key should become the sample value corresponding to that column."
   ]
  },
  {
   "cell_type": "code",
   "execution_count": 46,
   "id": "e292f609",
   "metadata": {},
   "outputs": [
    {
     "data": {
      "text/plain": [
       "\"{'Flooring': 'yes', 'Parking Spaces': ' 1', 'Balcony or Terrace': 'yes', 'Floor Level': 'yes', 'View': 'yes', 'Elevators in Building': ' 1', 'Lobby in Building': 'yes'}\""
      ]
     },
     "execution_count": 46,
     "metadata": {},
     "output_type": "execute_result"
    }
   ],
   "source": [
    "bproperty_df[\"amenities\"][0]"
   ]
  },
  {
   "cell_type": "code",
   "execution_count": 47,
   "id": "e13f70b8",
   "metadata": {},
   "outputs": [
    {
     "data": {
      "text/plain": [
       "\"{'View': 'yes', 'Parking Spaces': ' 1', 'Floor Level': 'yes', 'Balcony or Terrace': 'yes', 'Lobby in Building': 'yes', 'Electricity Backup': 'yes', 'Flooring': 'yes', 'Elevators in Building': ' 1', 'Maintenance Staff': 'yes', 'Cleaning Services': 'yes'}\""
      ]
     },
     "execution_count": 47,
     "metadata": {},
     "output_type": "execute_result"
    }
   ],
   "source": [
    "bproperty_df[\"amenities\"][12]"
   ]
  },
  {
   "cell_type": "code",
   "execution_count": null,
   "id": "7842b67a",
   "metadata": {},
   "outputs": [],
   "source": []
  },
  {
   "cell_type": "markdown",
   "id": "292dc2db",
   "metadata": {},
   "source": [
    "#### Define\n",
    "* Keys in the dictionaries of `amenities` will become new columns in the dataset; the values of the keys will become the new columns values for the corresponding sample."
   ]
  },
  {
   "cell_type": "code",
   "execution_count": null,
   "id": "efe404a1",
   "metadata": {},
   "outputs": [],
   "source": []
  },
  {
   "cell_type": "markdown",
   "id": "9a990682",
   "metadata": {},
   "source": [
    "#### Code"
   ]
  },
  {
   "cell_type": "code",
   "execution_count": 48,
   "id": "d93012b3",
   "metadata": {},
   "outputs": [
    {
     "name": "stdout",
     "output_type": "stream",
     "text": [
      "Currently processing sample 0...\n",
      "Currently processing sample 1000...\n",
      "Currently processing sample 2000...\n",
      "Currently processing sample 3000...\n",
      "Currently processing sample 4000...\n",
      "Currently processing sample 5000...\n",
      "Currently processing sample 6000...\n",
      "Currently processing sample 7000...\n",
      "Currently processing sample 8000...\n",
      "Currently processing sample 9000...\n",
      "Currently processing sample 10000...\n",
      "Currently processing sample 11000...\n",
      "Currently processing sample 12000...\n",
      "Currently processing sample 13000...\n",
      "Currently processing sample 14000...\n",
      "Currently processing sample 15000...\n",
      "Currently processing sample 16000...\n",
      "Currently processing sample 17000...\n"
     ]
    }
   ],
   "source": [
    "\"\"\"\n",
    "    Loop through `amenities` column, while:\n",
    "         * Converting the dictionnaries keys to new columns; the values of the keys are becoming\n",
    "             the new columns values for the corresponding sample\n",
    "\"\"\"\n",
    "\n",
    "for index, row in bproperty_df.iterrows(): # loop through each sample\n",
    "    \n",
    "    # The code may take time, log in the console to keep track of things\n",
    "    if index==0 or index%1000==0:\n",
    "        print(f\"Currently processing sample {index}...\")\n",
    "        \n",
    "    # If current sample doen't have amenities, go to the next one\n",
    "    if pd.isna(bproperty_df.loc[index, \"amenities\"]):\n",
    "        continue\n",
    "    \n",
    "    # retrieve the amenities\n",
    "    sample_amenities = str(bproperty_df.loc[index, \"amenities\"]).replace(\"'\",\"\\\"\")\n",
    "    \n",
    "    amenities_dict = eval(sample_amenities)\n",
    "    \n",
    "    # Go through each key in the amenities dictionnary\n",
    "    for key, value in amenities_dict.items():\n",
    "        \n",
    "        # put a suffix to the new column name, so that collaborators know it was generated from amenities feature\n",
    "        column_name = slugify(key)+\"-amenity\"\n",
    "        #print(column_name)\n",
    "        \n",
    "        # Create new column based on the key if not already existing\n",
    "        if column_name not in bproperty_df.columns.to_list():\n",
    "            bproperty_df[column_name]= np.NaN # Giving NaN as the default value for the column\n",
    "        \n",
    "        # Affecting to the new column created, for the current sample, the value of the dictionary's key\n",
    "        bproperty_df.loc[index, column_name] = value\n",
    "        "
   ]
  },
  {
   "cell_type": "code",
   "execution_count": 49,
   "id": "a30f5507",
   "metadata": {},
   "outputs": [
    {
     "data": {
      "text/html": [
       "<div>\n",
       "<style scoped>\n",
       "    .dataframe tbody tr th:only-of-type {\n",
       "        vertical-align: middle;\n",
       "    }\n",
       "\n",
       "    .dataframe tbody tr th {\n",
       "        vertical-align: top;\n",
       "    }\n",
       "\n",
       "    .dataframe thead th {\n",
       "        text-align: right;\n",
       "    }\n",
       "</style>\n",
       "<table border=\"1\" class=\"dataframe\">\n",
       "  <thead>\n",
       "    <tr style=\"text-align: right;\">\n",
       "      <th></th>\n",
       "      <th>0</th>\n",
       "      <th>1</th>\n",
       "      <th>2</th>\n",
       "    </tr>\n",
       "  </thead>\n",
       "  <tbody>\n",
       "    <tr>\n",
       "      <th>amenities</th>\n",
       "      <td>{'Flooring': 'yes', 'Parking Spaces': ' 1', 'B...</td>\n",
       "      <td>NaN</td>\n",
       "      <td>{'View': 'yes', 'Balcony or Terrace': 'yes', '...</td>\n",
       "    </tr>\n",
       "    <tr>\n",
       "      <th>area</th>\n",
       "      <td>1265.0</td>\n",
       "      <td>4400.0</td>\n",
       "      <td>1160.0</td>\n",
       "    </tr>\n",
       "    <tr>\n",
       "      <th>building_type</th>\n",
       "      <td>Apartment</td>\n",
       "      <td>Apartment</td>\n",
       "      <td>Apartment</td>\n",
       "    </tr>\n",
       "    <tr>\n",
       "      <th>building_nature</th>\n",
       "      <td>Residential</td>\n",
       "      <td>Residential</td>\n",
       "      <td>Residential</td>\n",
       "    </tr>\n",
       "    <tr>\n",
       "      <th>num_bath_rooms</th>\n",
       "      <td>3</td>\n",
       "      <td>4</td>\n",
       "      <td>0</td>\n",
       "    </tr>\n",
       "    <tr>\n",
       "      <th>num_bed_rooms</th>\n",
       "      <td>3</td>\n",
       "      <td>4</td>\n",
       "      <td>3</td>\n",
       "    </tr>\n",
       "    <tr>\n",
       "      <th>price</th>\n",
       "      <td>12500000.0</td>\n",
       "      <td>70400000.0</td>\n",
       "      <td>6200000.0</td>\n",
       "    </tr>\n",
       "    <tr>\n",
       "      <th>property_description</th>\n",
       "      <td>Ready Flat Of 1265 Sq Ft Is Now Up For Sale In...</td>\n",
       "      <td>You Can Move Into This Well Planned And Comfor...</td>\n",
       "      <td>Buy This 1160 Sq Ft Flat In Khilgaon, South Goran</td>\n",
       "    </tr>\n",
       "    <tr>\n",
       "      <th>property_overview</th>\n",
       "      <td>Looking for a luxurious apartment with top-not...</td>\n",
       "      <td>Amicable environment, appropriate commuting sy...</td>\n",
       "      <td>A lively area to live, lovely home to settle a...</td>\n",
       "    </tr>\n",
       "    <tr>\n",
       "      <th>property_url</th>\n",
       "      <td>https://www.bproperty.com/en/property/details-...</td>\n",
       "      <td>https://www.bproperty.com/en/property/details-...</td>\n",
       "      <td>https://www.bproperty.com/en/property/details-...</td>\n",
       "    </tr>\n",
       "    <tr>\n",
       "      <th>purpose</th>\n",
       "      <td>Sale</td>\n",
       "      <td>Sale</td>\n",
       "      <td>Sale</td>\n",
       "    </tr>\n",
       "    <tr>\n",
       "      <th>city</th>\n",
       "      <td>Dhaka</td>\n",
       "      <td>Dhaka</td>\n",
       "      <td>Dhaka</td>\n",
       "    </tr>\n",
       "    <tr>\n",
       "      <th>address</th>\n",
       "      <td>Baridhara DOHS</td>\n",
       "      <td>Gulshan 2, Gulshan</td>\n",
       "      <td>Khilgaon</td>\n",
       "    </tr>\n",
       "    <tr>\n",
       "      <th>flooring-amenity</th>\n",
       "      <td>yes</td>\n",
       "      <td>NaN</td>\n",
       "      <td>yes</td>\n",
       "    </tr>\n",
       "    <tr>\n",
       "      <th>parking-spaces-amenity</th>\n",
       "      <td>1</td>\n",
       "      <td>NaN</td>\n",
       "      <td>1</td>\n",
       "    </tr>\n",
       "    <tr>\n",
       "      <th>balcony-or-terrace-amenity</th>\n",
       "      <td>yes</td>\n",
       "      <td>NaN</td>\n",
       "      <td>yes</td>\n",
       "    </tr>\n",
       "    <tr>\n",
       "      <th>floor-level-amenity</th>\n",
       "      <td>yes</td>\n",
       "      <td>NaN</td>\n",
       "      <td>yes</td>\n",
       "    </tr>\n",
       "    <tr>\n",
       "      <th>view-amenity</th>\n",
       "      <td>yes</td>\n",
       "      <td>NaN</td>\n",
       "      <td>yes</td>\n",
       "    </tr>\n",
       "    <tr>\n",
       "      <th>elevators-in-building-amenity</th>\n",
       "      <td>1</td>\n",
       "      <td>NaN</td>\n",
       "      <td>1</td>\n",
       "    </tr>\n",
       "    <tr>\n",
       "      <th>lobby-in-building-amenity</th>\n",
       "      <td>yes</td>\n",
       "      <td>NaN</td>\n",
       "      <td>yes</td>\n",
       "    </tr>\n",
       "    <tr>\n",
       "      <th>electricity-backup-amenity</th>\n",
       "      <td>NaN</td>\n",
       "      <td>NaN</td>\n",
       "      <td>yes</td>\n",
       "    </tr>\n",
       "    <tr>\n",
       "      <th>cctv-security-amenity</th>\n",
       "      <td>NaN</td>\n",
       "      <td>NaN</td>\n",
       "      <td>yes</td>\n",
       "    </tr>\n",
       "    <tr>\n",
       "      <th>maintenance-staff-amenity</th>\n",
       "      <td>NaN</td>\n",
       "      <td>NaN</td>\n",
       "      <td>yes</td>\n",
       "    </tr>\n",
       "    <tr>\n",
       "      <th>cleaning-services-amenity</th>\n",
       "      <td>NaN</td>\n",
       "      <td>NaN</td>\n",
       "      <td>yes</td>\n",
       "    </tr>\n",
       "    <tr>\n",
       "      <th>freehold-amenity</th>\n",
       "      <td>NaN</td>\n",
       "      <td>NaN</td>\n",
       "      <td>NaN</td>\n",
       "    </tr>\n",
       "    <tr>\n",
       "      <th>24-hours-concierge-amenity</th>\n",
       "      <td>NaN</td>\n",
       "      <td>NaN</td>\n",
       "      <td>NaN</td>\n",
       "    </tr>\n",
       "    <tr>\n",
       "      <th>waste-disposal-amenity</th>\n",
       "      <td>NaN</td>\n",
       "      <td>NaN</td>\n",
       "      <td>NaN</td>\n",
       "    </tr>\n",
       "    <tr>\n",
       "      <th>double-glazed-windows-amenity</th>\n",
       "      <td>NaN</td>\n",
       "      <td>NaN</td>\n",
       "      <td>NaN</td>\n",
       "    </tr>\n",
       "    <tr>\n",
       "      <th>broadband-internet-amenity</th>\n",
       "      <td>NaN</td>\n",
       "      <td>NaN</td>\n",
       "      <td>NaN</td>\n",
       "    </tr>\n",
       "    <tr>\n",
       "      <th>lawn-or-garden-amenity</th>\n",
       "      <td>NaN</td>\n",
       "      <td>NaN</td>\n",
       "      <td>NaN</td>\n",
       "    </tr>\n",
       "    <tr>\n",
       "      <th>storage-areas-amenity</th>\n",
       "      <td>NaN</td>\n",
       "      <td>NaN</td>\n",
       "      <td>NaN</td>\n",
       "    </tr>\n",
       "    <tr>\n",
       "      <th>service-elevators-amenity</th>\n",
       "      <td>NaN</td>\n",
       "      <td>NaN</td>\n",
       "      <td>NaN</td>\n",
       "    </tr>\n",
       "    <tr>\n",
       "      <th>intercom-amenity</th>\n",
       "      <td>NaN</td>\n",
       "      <td>NaN</td>\n",
       "      <td>NaN</td>\n",
       "    </tr>\n",
       "    <tr>\n",
       "      <th>prayer-room-amenity</th>\n",
       "      <td>NaN</td>\n",
       "      <td>NaN</td>\n",
       "      <td>NaN</td>\n",
       "    </tr>\n",
       "    <tr>\n",
       "      <th>conference-room-amenity</th>\n",
       "      <td>NaN</td>\n",
       "      <td>NaN</td>\n",
       "      <td>NaN</td>\n",
       "    </tr>\n",
       "    <tr>\n",
       "      <th>first-aid-medical-center-amenity</th>\n",
       "      <td>NaN</td>\n",
       "      <td>NaN</td>\n",
       "      <td>NaN</td>\n",
       "    </tr>\n",
       "    <tr>\n",
       "      <th>business-center-amenity</th>\n",
       "      <td>NaN</td>\n",
       "      <td>NaN</td>\n",
       "      <td>NaN</td>\n",
       "    </tr>\n",
       "    <tr>\n",
       "      <th>facilities-for-disabled-amenity</th>\n",
       "      <td>NaN</td>\n",
       "      <td>NaN</td>\n",
       "      <td>NaN</td>\n",
       "    </tr>\n",
       "    <tr>\n",
       "      <th>furnished-amenity</th>\n",
       "      <td>NaN</td>\n",
       "      <td>NaN</td>\n",
       "      <td>NaN</td>\n",
       "    </tr>\n",
       "    <tr>\n",
       "      <th>swimming-pool-amenity</th>\n",
       "      <td>NaN</td>\n",
       "      <td>NaN</td>\n",
       "      <td>NaN</td>\n",
       "    </tr>\n",
       "    <tr>\n",
       "      <th>steam-room-amenity</th>\n",
       "      <td>NaN</td>\n",
       "      <td>NaN</td>\n",
       "      <td>NaN</td>\n",
       "    </tr>\n",
       "    <tr>\n",
       "      <th>sauna-amenity</th>\n",
       "      <td>NaN</td>\n",
       "      <td>NaN</td>\n",
       "      <td>NaN</td>\n",
       "    </tr>\n",
       "    <tr>\n",
       "      <th>jacuzzi-amenity</th>\n",
       "      <td>NaN</td>\n",
       "      <td>NaN</td>\n",
       "      <td>NaN</td>\n",
       "    </tr>\n",
       "    <tr>\n",
       "      <th>central-heating-amenity</th>\n",
       "      <td>NaN</td>\n",
       "      <td>NaN</td>\n",
       "      <td>NaN</td>\n",
       "    </tr>\n",
       "    <tr>\n",
       "      <th>atm-facility-amenity</th>\n",
       "      <td>NaN</td>\n",
       "      <td>NaN</td>\n",
       "      <td>NaN</td>\n",
       "    </tr>\n",
       "    <tr>\n",
       "      <th>cafeteria-or-canteen-amenity</th>\n",
       "      <td>NaN</td>\n",
       "      <td>NaN</td>\n",
       "      <td>NaN</td>\n",
       "    </tr>\n",
       "    <tr>\n",
       "      <th>barbeque-area-amenity</th>\n",
       "      <td>NaN</td>\n",
       "      <td>NaN</td>\n",
       "      <td>NaN</td>\n",
       "    </tr>\n",
       "    <tr>\n",
       "      <th>laundry-facility-amenity</th>\n",
       "      <td>NaN</td>\n",
       "      <td>NaN</td>\n",
       "      <td>NaN</td>\n",
       "    </tr>\n",
       "    <tr>\n",
       "      <th>shared-kitchen-amenity</th>\n",
       "      <td>NaN</td>\n",
       "      <td>NaN</td>\n",
       "      <td>NaN</td>\n",
       "    </tr>\n",
       "    <tr>\n",
       "      <th>day-care-center-amenity</th>\n",
       "      <td>NaN</td>\n",
       "      <td>NaN</td>\n",
       "      <td>NaN</td>\n",
       "    </tr>\n",
       "  </tbody>\n",
       "</table>\n",
       "</div>"
      ],
      "text/plain": [
       "                                                                                  0  \\\n",
       "amenities                         {'Flooring': 'yes', 'Parking Spaces': ' 1', 'B...   \n",
       "area                                                                         1265.0   \n",
       "building_type                                                             Apartment   \n",
       "building_nature                                                         Residential   \n",
       "num_bath_rooms                                                                    3   \n",
       "num_bed_rooms                                                                     3   \n",
       "price                                                                    12500000.0   \n",
       "property_description              Ready Flat Of 1265 Sq Ft Is Now Up For Sale In...   \n",
       "property_overview                 Looking for a luxurious apartment with top-not...   \n",
       "property_url                      https://www.bproperty.com/en/property/details-...   \n",
       "purpose                                                                        Sale   \n",
       "city                                                                          Dhaka   \n",
       "address                                                              Baridhara DOHS   \n",
       "flooring-amenity                                                                yes   \n",
       "parking-spaces-amenity                                                            1   \n",
       "balcony-or-terrace-amenity                                                      yes   \n",
       "floor-level-amenity                                                             yes   \n",
       "view-amenity                                                                    yes   \n",
       "elevators-in-building-amenity                                                     1   \n",
       "lobby-in-building-amenity                                                       yes   \n",
       "electricity-backup-amenity                                                      NaN   \n",
       "cctv-security-amenity                                                           NaN   \n",
       "maintenance-staff-amenity                                                       NaN   \n",
       "cleaning-services-amenity                                                       NaN   \n",
       "freehold-amenity                                                                NaN   \n",
       "24-hours-concierge-amenity                                                      NaN   \n",
       "waste-disposal-amenity                                                          NaN   \n",
       "double-glazed-windows-amenity                                                   NaN   \n",
       "broadband-internet-amenity                                                      NaN   \n",
       "lawn-or-garden-amenity                                                          NaN   \n",
       "storage-areas-amenity                                                           NaN   \n",
       "service-elevators-amenity                                                       NaN   \n",
       "intercom-amenity                                                                NaN   \n",
       "prayer-room-amenity                                                             NaN   \n",
       "conference-room-amenity                                                         NaN   \n",
       "first-aid-medical-center-amenity                                                NaN   \n",
       "business-center-amenity                                                         NaN   \n",
       "facilities-for-disabled-amenity                                                 NaN   \n",
       "furnished-amenity                                                               NaN   \n",
       "swimming-pool-amenity                                                           NaN   \n",
       "steam-room-amenity                                                              NaN   \n",
       "sauna-amenity                                                                   NaN   \n",
       "jacuzzi-amenity                                                                 NaN   \n",
       "central-heating-amenity                                                         NaN   \n",
       "atm-facility-amenity                                                            NaN   \n",
       "cafeteria-or-canteen-amenity                                                    NaN   \n",
       "barbeque-area-amenity                                                           NaN   \n",
       "laundry-facility-amenity                                                        NaN   \n",
       "shared-kitchen-amenity                                                          NaN   \n",
       "day-care-center-amenity                                                         NaN   \n",
       "\n",
       "                                                                                  1  \\\n",
       "amenities                                                                       NaN   \n",
       "area                                                                         4400.0   \n",
       "building_type                                                             Apartment   \n",
       "building_nature                                                         Residential   \n",
       "num_bath_rooms                                                                    4   \n",
       "num_bed_rooms                                                                     4   \n",
       "price                                                                    70400000.0   \n",
       "property_description              You Can Move Into This Well Planned And Comfor...   \n",
       "property_overview                 Amicable environment, appropriate commuting sy...   \n",
       "property_url                      https://www.bproperty.com/en/property/details-...   \n",
       "purpose                                                                        Sale   \n",
       "city                                                                          Dhaka   \n",
       "address                                                          Gulshan 2, Gulshan   \n",
       "flooring-amenity                                                                NaN   \n",
       "parking-spaces-amenity                                                          NaN   \n",
       "balcony-or-terrace-amenity                                                      NaN   \n",
       "floor-level-amenity                                                             NaN   \n",
       "view-amenity                                                                    NaN   \n",
       "elevators-in-building-amenity                                                   NaN   \n",
       "lobby-in-building-amenity                                                       NaN   \n",
       "electricity-backup-amenity                                                      NaN   \n",
       "cctv-security-amenity                                                           NaN   \n",
       "maintenance-staff-amenity                                                       NaN   \n",
       "cleaning-services-amenity                                                       NaN   \n",
       "freehold-amenity                                                                NaN   \n",
       "24-hours-concierge-amenity                                                      NaN   \n",
       "waste-disposal-amenity                                                          NaN   \n",
       "double-glazed-windows-amenity                                                   NaN   \n",
       "broadband-internet-amenity                                                      NaN   \n",
       "lawn-or-garden-amenity                                                          NaN   \n",
       "storage-areas-amenity                                                           NaN   \n",
       "service-elevators-amenity                                                       NaN   \n",
       "intercom-amenity                                                                NaN   \n",
       "prayer-room-amenity                                                             NaN   \n",
       "conference-room-amenity                                                         NaN   \n",
       "first-aid-medical-center-amenity                                                NaN   \n",
       "business-center-amenity                                                         NaN   \n",
       "facilities-for-disabled-amenity                                                 NaN   \n",
       "furnished-amenity                                                               NaN   \n",
       "swimming-pool-amenity                                                           NaN   \n",
       "steam-room-amenity                                                              NaN   \n",
       "sauna-amenity                                                                   NaN   \n",
       "jacuzzi-amenity                                                                 NaN   \n",
       "central-heating-amenity                                                         NaN   \n",
       "atm-facility-amenity                                                            NaN   \n",
       "cafeteria-or-canteen-amenity                                                    NaN   \n",
       "barbeque-area-amenity                                                           NaN   \n",
       "laundry-facility-amenity                                                        NaN   \n",
       "shared-kitchen-amenity                                                          NaN   \n",
       "day-care-center-amenity                                                         NaN   \n",
       "\n",
       "                                                                                  2  \n",
       "amenities                         {'View': 'yes', 'Balcony or Terrace': 'yes', '...  \n",
       "area                                                                         1160.0  \n",
       "building_type                                                             Apartment  \n",
       "building_nature                                                         Residential  \n",
       "num_bath_rooms                                                                    0  \n",
       "num_bed_rooms                                                                     3  \n",
       "price                                                                     6200000.0  \n",
       "property_description              Buy This 1160 Sq Ft Flat In Khilgaon, South Goran  \n",
       "property_overview                 A lively area to live, lovely home to settle a...  \n",
       "property_url                      https://www.bproperty.com/en/property/details-...  \n",
       "purpose                                                                        Sale  \n",
       "city                                                                          Dhaka  \n",
       "address                                                                    Khilgaon  \n",
       "flooring-amenity                                                                yes  \n",
       "parking-spaces-amenity                                                            1  \n",
       "balcony-or-terrace-amenity                                                      yes  \n",
       "floor-level-amenity                                                             yes  \n",
       "view-amenity                                                                    yes  \n",
       "elevators-in-building-amenity                                                     1  \n",
       "lobby-in-building-amenity                                                       yes  \n",
       "electricity-backup-amenity                                                      yes  \n",
       "cctv-security-amenity                                                           yes  \n",
       "maintenance-staff-amenity                                                       yes  \n",
       "cleaning-services-amenity                                                       yes  \n",
       "freehold-amenity                                                                NaN  \n",
       "24-hours-concierge-amenity                                                      NaN  \n",
       "waste-disposal-amenity                                                          NaN  \n",
       "double-glazed-windows-amenity                                                   NaN  \n",
       "broadband-internet-amenity                                                      NaN  \n",
       "lawn-or-garden-amenity                                                          NaN  \n",
       "storage-areas-amenity                                                           NaN  \n",
       "service-elevators-amenity                                                       NaN  \n",
       "intercom-amenity                                                                NaN  \n",
       "prayer-room-amenity                                                             NaN  \n",
       "conference-room-amenity                                                         NaN  \n",
       "first-aid-medical-center-amenity                                                NaN  \n",
       "business-center-amenity                                                         NaN  \n",
       "facilities-for-disabled-amenity                                                 NaN  \n",
       "furnished-amenity                                                               NaN  \n",
       "swimming-pool-amenity                                                           NaN  \n",
       "steam-room-amenity                                                              NaN  \n",
       "sauna-amenity                                                                   NaN  \n",
       "jacuzzi-amenity                                                                 NaN  \n",
       "central-heating-amenity                                                         NaN  \n",
       "atm-facility-amenity                                                            NaN  \n",
       "cafeteria-or-canteen-amenity                                                    NaN  \n",
       "barbeque-area-amenity                                                           NaN  \n",
       "laundry-facility-amenity                                                        NaN  \n",
       "shared-kitchen-amenity                                                          NaN  \n",
       "day-care-center-amenity                                                         NaN  "
      ]
     },
     "execution_count": 49,
     "metadata": {},
     "output_type": "execute_result"
    }
   ],
   "source": [
    "# Checking columns\n",
    "bproperty_df.head(3).T"
   ]
  },
  {
   "cell_type": "code",
   "execution_count": 50,
   "id": "f78596f5",
   "metadata": {},
   "outputs": [
    {
     "data": {
      "text/plain": [
       "False"
      ]
     },
     "execution_count": 50,
     "metadata": {},
     "output_type": "execute_result"
    }
   ],
   "source": [
    "# Drop amenities column\n",
    "bproperty_df.drop([\"amenities\"],axis=1, inplace=True)\n",
    "\n",
    "# Check that removal was effective\n",
    "\"amenities\" in bproperty_df.columns.to_list()"
   ]
  },
  {
   "cell_type": "code",
   "execution_count": null,
   "id": "1b085cf3",
   "metadata": {},
   "outputs": [],
   "source": []
  },
  {
   "cell_type": "code",
   "execution_count": null,
   "id": "8721ba1e",
   "metadata": {},
   "outputs": [],
   "source": []
  },
  {
   "cell_type": "markdown",
   "id": "b2b2b8e7",
   "metadata": {},
   "source": [
    "### Save cleaned dataset"
   ]
  },
  {
   "cell_type": "code",
   "execution_count": 51,
   "id": "a0e3524d",
   "metadata": {},
   "outputs": [
    {
     "name": "stdout",
     "output_type": "stream",
     "text": [
      "Create folder '../../../data/CLeaned_Data/bproperty'\n"
     ]
    }
   ],
   "source": [
    "# Create folder in which to save cleaned dataset\n",
    "if not os.path.exists(cleaned_bproperty_folder):\n",
    "    os.makedirs(cleaned_bproperty_folder)\n",
    "    print(f\"Create folder '{cleaned_bproperty_folder}'\")\n",
    "else:\n",
    "    print(f\"Folder '{cleaned_bproperty_folder}' already exists\")"
   ]
  },
  {
   "cell_type": "code",
   "execution_count": 52,
   "id": "15e930f5",
   "metadata": {},
   "outputs": [],
   "source": [
    "# Save cleaned dataset to csv\n",
    "bproperty_df.to_csv(f\"{cleaned_bproperty_folder}/cleaned_bproperty.csv\", index=False)"
   ]
  },
  {
   "cell_type": "code",
   "execution_count": 53,
   "id": "b8bcffb0",
   "metadata": {},
   "outputs": [
    {
     "name": "stderr",
     "output_type": "stream",
     "text": [
      "C:\\ProgramData\\Anaconda3\\lib\\site-packages\\IPython\\core\\interactiveshell.py:3165: DtypeWarning: Columns (13) have mixed types.Specify dtype option on import or set low_memory=False.\n",
      "  has_raised = await self.run_ast_nodes(code_ast.body, cell_name,\n"
     ]
    },
    {
     "data": {
      "text/html": [
       "<div>\n",
       "<style scoped>\n",
       "    .dataframe tbody tr th:only-of-type {\n",
       "        vertical-align: middle;\n",
       "    }\n",
       "\n",
       "    .dataframe tbody tr th {\n",
       "        vertical-align: top;\n",
       "    }\n",
       "\n",
       "    .dataframe thead th {\n",
       "        text-align: right;\n",
       "    }\n",
       "</style>\n",
       "<table border=\"1\" class=\"dataframe\">\n",
       "  <thead>\n",
       "    <tr style=\"text-align: right;\">\n",
       "      <th></th>\n",
       "      <th>0</th>\n",
       "      <th>1</th>\n",
       "      <th>2</th>\n",
       "    </tr>\n",
       "  </thead>\n",
       "  <tbody>\n",
       "    <tr>\n",
       "      <th>area</th>\n",
       "      <td>1265.0</td>\n",
       "      <td>4400.0</td>\n",
       "      <td>1160.0</td>\n",
       "    </tr>\n",
       "    <tr>\n",
       "      <th>building_type</th>\n",
       "      <td>Apartment</td>\n",
       "      <td>Apartment</td>\n",
       "      <td>Apartment</td>\n",
       "    </tr>\n",
       "    <tr>\n",
       "      <th>building_nature</th>\n",
       "      <td>Residential</td>\n",
       "      <td>Residential</td>\n",
       "      <td>Residential</td>\n",
       "    </tr>\n",
       "    <tr>\n",
       "      <th>num_bath_rooms</th>\n",
       "      <td>3</td>\n",
       "      <td>4</td>\n",
       "      <td>0</td>\n",
       "    </tr>\n",
       "    <tr>\n",
       "      <th>num_bed_rooms</th>\n",
       "      <td>3</td>\n",
       "      <td>4</td>\n",
       "      <td>3</td>\n",
       "    </tr>\n",
       "    <tr>\n",
       "      <th>price</th>\n",
       "      <td>12500000.0</td>\n",
       "      <td>70400000.0</td>\n",
       "      <td>6200000.0</td>\n",
       "    </tr>\n",
       "    <tr>\n",
       "      <th>property_description</th>\n",
       "      <td>Ready Flat Of 1265 Sq Ft Is Now Up For Sale In...</td>\n",
       "      <td>You Can Move Into This Well Planned And Comfor...</td>\n",
       "      <td>Buy This 1160 Sq Ft Flat In Khilgaon, South Goran</td>\n",
       "    </tr>\n",
       "    <tr>\n",
       "      <th>property_overview</th>\n",
       "      <td>Looking for a luxurious apartment with top-not...</td>\n",
       "      <td>Amicable environment, appropriate commuting sy...</td>\n",
       "      <td>A lively area to live, lovely home to settle a...</td>\n",
       "    </tr>\n",
       "    <tr>\n",
       "      <th>property_url</th>\n",
       "      <td>https://www.bproperty.com/en/property/details-...</td>\n",
       "      <td>https://www.bproperty.com/en/property/details-...</td>\n",
       "      <td>https://www.bproperty.com/en/property/details-...</td>\n",
       "    </tr>\n",
       "    <tr>\n",
       "      <th>purpose</th>\n",
       "      <td>Sale</td>\n",
       "      <td>Sale</td>\n",
       "      <td>Sale</td>\n",
       "    </tr>\n",
       "    <tr>\n",
       "      <th>city</th>\n",
       "      <td>Dhaka</td>\n",
       "      <td>Dhaka</td>\n",
       "      <td>Dhaka</td>\n",
       "    </tr>\n",
       "    <tr>\n",
       "      <th>address</th>\n",
       "      <td>Baridhara DOHS</td>\n",
       "      <td>Gulshan 2, Gulshan</td>\n",
       "      <td>Khilgaon</td>\n",
       "    </tr>\n",
       "    <tr>\n",
       "      <th>flooring-amenity</th>\n",
       "      <td>yes</td>\n",
       "      <td>NaN</td>\n",
       "      <td>yes</td>\n",
       "    </tr>\n",
       "    <tr>\n",
       "      <th>parking-spaces-amenity</th>\n",
       "      <td>1</td>\n",
       "      <td>NaN</td>\n",
       "      <td>1</td>\n",
       "    </tr>\n",
       "    <tr>\n",
       "      <th>balcony-or-terrace-amenity</th>\n",
       "      <td>yes</td>\n",
       "      <td>NaN</td>\n",
       "      <td>yes</td>\n",
       "    </tr>\n",
       "    <tr>\n",
       "      <th>floor-level-amenity</th>\n",
       "      <td>yes</td>\n",
       "      <td>NaN</td>\n",
       "      <td>yes</td>\n",
       "    </tr>\n",
       "    <tr>\n",
       "      <th>view-amenity</th>\n",
       "      <td>yes</td>\n",
       "      <td>NaN</td>\n",
       "      <td>yes</td>\n",
       "    </tr>\n",
       "    <tr>\n",
       "      <th>elevators-in-building-amenity</th>\n",
       "      <td>1.0</td>\n",
       "      <td>NaN</td>\n",
       "      <td>1.0</td>\n",
       "    </tr>\n",
       "    <tr>\n",
       "      <th>lobby-in-building-amenity</th>\n",
       "      <td>yes</td>\n",
       "      <td>NaN</td>\n",
       "      <td>yes</td>\n",
       "    </tr>\n",
       "    <tr>\n",
       "      <th>electricity-backup-amenity</th>\n",
       "      <td>NaN</td>\n",
       "      <td>NaN</td>\n",
       "      <td>yes</td>\n",
       "    </tr>\n",
       "    <tr>\n",
       "      <th>cctv-security-amenity</th>\n",
       "      <td>NaN</td>\n",
       "      <td>NaN</td>\n",
       "      <td>yes</td>\n",
       "    </tr>\n",
       "    <tr>\n",
       "      <th>maintenance-staff-amenity</th>\n",
       "      <td>NaN</td>\n",
       "      <td>NaN</td>\n",
       "      <td>yes</td>\n",
       "    </tr>\n",
       "    <tr>\n",
       "      <th>cleaning-services-amenity</th>\n",
       "      <td>NaN</td>\n",
       "      <td>NaN</td>\n",
       "      <td>yes</td>\n",
       "    </tr>\n",
       "    <tr>\n",
       "      <th>freehold-amenity</th>\n",
       "      <td>NaN</td>\n",
       "      <td>NaN</td>\n",
       "      <td>NaN</td>\n",
       "    </tr>\n",
       "    <tr>\n",
       "      <th>24-hours-concierge-amenity</th>\n",
       "      <td>NaN</td>\n",
       "      <td>NaN</td>\n",
       "      <td>NaN</td>\n",
       "    </tr>\n",
       "    <tr>\n",
       "      <th>waste-disposal-amenity</th>\n",
       "      <td>NaN</td>\n",
       "      <td>NaN</td>\n",
       "      <td>NaN</td>\n",
       "    </tr>\n",
       "    <tr>\n",
       "      <th>double-glazed-windows-amenity</th>\n",
       "      <td>NaN</td>\n",
       "      <td>NaN</td>\n",
       "      <td>NaN</td>\n",
       "    </tr>\n",
       "    <tr>\n",
       "      <th>broadband-internet-amenity</th>\n",
       "      <td>NaN</td>\n",
       "      <td>NaN</td>\n",
       "      <td>NaN</td>\n",
       "    </tr>\n",
       "    <tr>\n",
       "      <th>lawn-or-garden-amenity</th>\n",
       "      <td>NaN</td>\n",
       "      <td>NaN</td>\n",
       "      <td>NaN</td>\n",
       "    </tr>\n",
       "    <tr>\n",
       "      <th>storage-areas-amenity</th>\n",
       "      <td>NaN</td>\n",
       "      <td>NaN</td>\n",
       "      <td>NaN</td>\n",
       "    </tr>\n",
       "    <tr>\n",
       "      <th>service-elevators-amenity</th>\n",
       "      <td>NaN</td>\n",
       "      <td>NaN</td>\n",
       "      <td>NaN</td>\n",
       "    </tr>\n",
       "    <tr>\n",
       "      <th>intercom-amenity</th>\n",
       "      <td>NaN</td>\n",
       "      <td>NaN</td>\n",
       "      <td>NaN</td>\n",
       "    </tr>\n",
       "    <tr>\n",
       "      <th>prayer-room-amenity</th>\n",
       "      <td>NaN</td>\n",
       "      <td>NaN</td>\n",
       "      <td>NaN</td>\n",
       "    </tr>\n",
       "    <tr>\n",
       "      <th>conference-room-amenity</th>\n",
       "      <td>NaN</td>\n",
       "      <td>NaN</td>\n",
       "      <td>NaN</td>\n",
       "    </tr>\n",
       "    <tr>\n",
       "      <th>first-aid-medical-center-amenity</th>\n",
       "      <td>NaN</td>\n",
       "      <td>NaN</td>\n",
       "      <td>NaN</td>\n",
       "    </tr>\n",
       "    <tr>\n",
       "      <th>business-center-amenity</th>\n",
       "      <td>NaN</td>\n",
       "      <td>NaN</td>\n",
       "      <td>NaN</td>\n",
       "    </tr>\n",
       "    <tr>\n",
       "      <th>facilities-for-disabled-amenity</th>\n",
       "      <td>NaN</td>\n",
       "      <td>NaN</td>\n",
       "      <td>NaN</td>\n",
       "    </tr>\n",
       "    <tr>\n",
       "      <th>furnished-amenity</th>\n",
       "      <td>NaN</td>\n",
       "      <td>NaN</td>\n",
       "      <td>NaN</td>\n",
       "    </tr>\n",
       "    <tr>\n",
       "      <th>swimming-pool-amenity</th>\n",
       "      <td>NaN</td>\n",
       "      <td>NaN</td>\n",
       "      <td>NaN</td>\n",
       "    </tr>\n",
       "    <tr>\n",
       "      <th>steam-room-amenity</th>\n",
       "      <td>NaN</td>\n",
       "      <td>NaN</td>\n",
       "      <td>NaN</td>\n",
       "    </tr>\n",
       "    <tr>\n",
       "      <th>sauna-amenity</th>\n",
       "      <td>NaN</td>\n",
       "      <td>NaN</td>\n",
       "      <td>NaN</td>\n",
       "    </tr>\n",
       "    <tr>\n",
       "      <th>jacuzzi-amenity</th>\n",
       "      <td>NaN</td>\n",
       "      <td>NaN</td>\n",
       "      <td>NaN</td>\n",
       "    </tr>\n",
       "    <tr>\n",
       "      <th>central-heating-amenity</th>\n",
       "      <td>NaN</td>\n",
       "      <td>NaN</td>\n",
       "      <td>NaN</td>\n",
       "    </tr>\n",
       "    <tr>\n",
       "      <th>atm-facility-amenity</th>\n",
       "      <td>NaN</td>\n",
       "      <td>NaN</td>\n",
       "      <td>NaN</td>\n",
       "    </tr>\n",
       "    <tr>\n",
       "      <th>cafeteria-or-canteen-amenity</th>\n",
       "      <td>NaN</td>\n",
       "      <td>NaN</td>\n",
       "      <td>NaN</td>\n",
       "    </tr>\n",
       "    <tr>\n",
       "      <th>barbeque-area-amenity</th>\n",
       "      <td>NaN</td>\n",
       "      <td>NaN</td>\n",
       "      <td>NaN</td>\n",
       "    </tr>\n",
       "    <tr>\n",
       "      <th>laundry-facility-amenity</th>\n",
       "      <td>NaN</td>\n",
       "      <td>NaN</td>\n",
       "      <td>NaN</td>\n",
       "    </tr>\n",
       "    <tr>\n",
       "      <th>shared-kitchen-amenity</th>\n",
       "      <td>NaN</td>\n",
       "      <td>NaN</td>\n",
       "      <td>NaN</td>\n",
       "    </tr>\n",
       "    <tr>\n",
       "      <th>day-care-center-amenity</th>\n",
       "      <td>NaN</td>\n",
       "      <td>NaN</td>\n",
       "      <td>NaN</td>\n",
       "    </tr>\n",
       "  </tbody>\n",
       "</table>\n",
       "</div>"
      ],
      "text/plain": [
       "                                                                                  0  \\\n",
       "area                                                                         1265.0   \n",
       "building_type                                                             Apartment   \n",
       "building_nature                                                         Residential   \n",
       "num_bath_rooms                                                                    3   \n",
       "num_bed_rooms                                                                     3   \n",
       "price                                                                    12500000.0   \n",
       "property_description              Ready Flat Of 1265 Sq Ft Is Now Up For Sale In...   \n",
       "property_overview                 Looking for a luxurious apartment with top-not...   \n",
       "property_url                      https://www.bproperty.com/en/property/details-...   \n",
       "purpose                                                                        Sale   \n",
       "city                                                                          Dhaka   \n",
       "address                                                              Baridhara DOHS   \n",
       "flooring-amenity                                                                yes   \n",
       "parking-spaces-amenity                                                            1   \n",
       "balcony-or-terrace-amenity                                                      yes   \n",
       "floor-level-amenity                                                             yes   \n",
       "view-amenity                                                                    yes   \n",
       "elevators-in-building-amenity                                                   1.0   \n",
       "lobby-in-building-amenity                                                       yes   \n",
       "electricity-backup-amenity                                                      NaN   \n",
       "cctv-security-amenity                                                           NaN   \n",
       "maintenance-staff-amenity                                                       NaN   \n",
       "cleaning-services-amenity                                                       NaN   \n",
       "freehold-amenity                                                                NaN   \n",
       "24-hours-concierge-amenity                                                      NaN   \n",
       "waste-disposal-amenity                                                          NaN   \n",
       "double-glazed-windows-amenity                                                   NaN   \n",
       "broadband-internet-amenity                                                      NaN   \n",
       "lawn-or-garden-amenity                                                          NaN   \n",
       "storage-areas-amenity                                                           NaN   \n",
       "service-elevators-amenity                                                       NaN   \n",
       "intercom-amenity                                                                NaN   \n",
       "prayer-room-amenity                                                             NaN   \n",
       "conference-room-amenity                                                         NaN   \n",
       "first-aid-medical-center-amenity                                                NaN   \n",
       "business-center-amenity                                                         NaN   \n",
       "facilities-for-disabled-amenity                                                 NaN   \n",
       "furnished-amenity                                                               NaN   \n",
       "swimming-pool-amenity                                                           NaN   \n",
       "steam-room-amenity                                                              NaN   \n",
       "sauna-amenity                                                                   NaN   \n",
       "jacuzzi-amenity                                                                 NaN   \n",
       "central-heating-amenity                                                         NaN   \n",
       "atm-facility-amenity                                                            NaN   \n",
       "cafeteria-or-canteen-amenity                                                    NaN   \n",
       "barbeque-area-amenity                                                           NaN   \n",
       "laundry-facility-amenity                                                        NaN   \n",
       "shared-kitchen-amenity                                                          NaN   \n",
       "day-care-center-amenity                                                         NaN   \n",
       "\n",
       "                                                                                  1  \\\n",
       "area                                                                         4400.0   \n",
       "building_type                                                             Apartment   \n",
       "building_nature                                                         Residential   \n",
       "num_bath_rooms                                                                    4   \n",
       "num_bed_rooms                                                                     4   \n",
       "price                                                                    70400000.0   \n",
       "property_description              You Can Move Into This Well Planned And Comfor...   \n",
       "property_overview                 Amicable environment, appropriate commuting sy...   \n",
       "property_url                      https://www.bproperty.com/en/property/details-...   \n",
       "purpose                                                                        Sale   \n",
       "city                                                                          Dhaka   \n",
       "address                                                          Gulshan 2, Gulshan   \n",
       "flooring-amenity                                                                NaN   \n",
       "parking-spaces-amenity                                                          NaN   \n",
       "balcony-or-terrace-amenity                                                      NaN   \n",
       "floor-level-amenity                                                             NaN   \n",
       "view-amenity                                                                    NaN   \n",
       "elevators-in-building-amenity                                                   NaN   \n",
       "lobby-in-building-amenity                                                       NaN   \n",
       "electricity-backup-amenity                                                      NaN   \n",
       "cctv-security-amenity                                                           NaN   \n",
       "maintenance-staff-amenity                                                       NaN   \n",
       "cleaning-services-amenity                                                       NaN   \n",
       "freehold-amenity                                                                NaN   \n",
       "24-hours-concierge-amenity                                                      NaN   \n",
       "waste-disposal-amenity                                                          NaN   \n",
       "double-glazed-windows-amenity                                                   NaN   \n",
       "broadband-internet-amenity                                                      NaN   \n",
       "lawn-or-garden-amenity                                                          NaN   \n",
       "storage-areas-amenity                                                           NaN   \n",
       "service-elevators-amenity                                                       NaN   \n",
       "intercom-amenity                                                                NaN   \n",
       "prayer-room-amenity                                                             NaN   \n",
       "conference-room-amenity                                                         NaN   \n",
       "first-aid-medical-center-amenity                                                NaN   \n",
       "business-center-amenity                                                         NaN   \n",
       "facilities-for-disabled-amenity                                                 NaN   \n",
       "furnished-amenity                                                               NaN   \n",
       "swimming-pool-amenity                                                           NaN   \n",
       "steam-room-amenity                                                              NaN   \n",
       "sauna-amenity                                                                   NaN   \n",
       "jacuzzi-amenity                                                                 NaN   \n",
       "central-heating-amenity                                                         NaN   \n",
       "atm-facility-amenity                                                            NaN   \n",
       "cafeteria-or-canteen-amenity                                                    NaN   \n",
       "barbeque-area-amenity                                                           NaN   \n",
       "laundry-facility-amenity                                                        NaN   \n",
       "shared-kitchen-amenity                                                          NaN   \n",
       "day-care-center-amenity                                                         NaN   \n",
       "\n",
       "                                                                                  2  \n",
       "area                                                                         1160.0  \n",
       "building_type                                                             Apartment  \n",
       "building_nature                                                         Residential  \n",
       "num_bath_rooms                                                                    0  \n",
       "num_bed_rooms                                                                     3  \n",
       "price                                                                     6200000.0  \n",
       "property_description              Buy This 1160 Sq Ft Flat In Khilgaon, South Goran  \n",
       "property_overview                 A lively area to live, lovely home to settle a...  \n",
       "property_url                      https://www.bproperty.com/en/property/details-...  \n",
       "purpose                                                                        Sale  \n",
       "city                                                                          Dhaka  \n",
       "address                                                                    Khilgaon  \n",
       "flooring-amenity                                                                yes  \n",
       "parking-spaces-amenity                                                            1  \n",
       "balcony-or-terrace-amenity                                                      yes  \n",
       "floor-level-amenity                                                             yes  \n",
       "view-amenity                                                                    yes  \n",
       "elevators-in-building-amenity                                                   1.0  \n",
       "lobby-in-building-amenity                                                       yes  \n",
       "electricity-backup-amenity                                                      yes  \n",
       "cctv-security-amenity                                                           yes  \n",
       "maintenance-staff-amenity                                                       yes  \n",
       "cleaning-services-amenity                                                       yes  \n",
       "freehold-amenity                                                                NaN  \n",
       "24-hours-concierge-amenity                                                      NaN  \n",
       "waste-disposal-amenity                                                          NaN  \n",
       "double-glazed-windows-amenity                                                   NaN  \n",
       "broadband-internet-amenity                                                      NaN  \n",
       "lawn-or-garden-amenity                                                          NaN  \n",
       "storage-areas-amenity                                                           NaN  \n",
       "service-elevators-amenity                                                       NaN  \n",
       "intercom-amenity                                                                NaN  \n",
       "prayer-room-amenity                                                             NaN  \n",
       "conference-room-amenity                                                         NaN  \n",
       "first-aid-medical-center-amenity                                                NaN  \n",
       "business-center-amenity                                                         NaN  \n",
       "facilities-for-disabled-amenity                                                 NaN  \n",
       "furnished-amenity                                                               NaN  \n",
       "swimming-pool-amenity                                                           NaN  \n",
       "steam-room-amenity                                                              NaN  \n",
       "sauna-amenity                                                                   NaN  \n",
       "jacuzzi-amenity                                                                 NaN  \n",
       "central-heating-amenity                                                         NaN  \n",
       "atm-facility-amenity                                                            NaN  \n",
       "cafeteria-or-canteen-amenity                                                    NaN  \n",
       "barbeque-area-amenity                                                           NaN  \n",
       "laundry-facility-amenity                                                        NaN  \n",
       "shared-kitchen-amenity                                                          NaN  \n",
       "day-care-center-amenity                                                         NaN  "
      ]
     },
     "execution_count": 53,
     "metadata": {},
     "output_type": "execute_result"
    }
   ],
   "source": [
    "# Load saved csv (to make sure it was successfully save)\n",
    "clean_bproperty_df = pd.read_csv(f\"{cleaned_bproperty_folder}/cleaned_bproperty.csv\")\n",
    "clean_bproperty_df.head(3).T"
   ]
  },
  {
   "cell_type": "code",
   "execution_count": null,
   "id": "7db13bf4",
   "metadata": {},
   "outputs": [],
   "source": []
  },
  {
   "cell_type": "code",
   "execution_count": null,
   "id": "30b00e35",
   "metadata": {},
   "outputs": [],
   "source": []
  },
  {
   "cell_type": "code",
   "execution_count": null,
   "id": "d09dd1cc",
   "metadata": {},
   "outputs": [],
   "source": []
  }
 ],
 "metadata": {
  "kernelspec": {
   "display_name": "Python 3",
   "language": "python",
   "name": "python3"
  }
 },
 "nbformat": 4,
 "nbformat_minor": 5
}
