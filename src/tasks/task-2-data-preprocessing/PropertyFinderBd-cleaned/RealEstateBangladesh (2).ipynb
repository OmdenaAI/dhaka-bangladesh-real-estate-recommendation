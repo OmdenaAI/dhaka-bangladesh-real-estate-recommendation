{
  "nbformat": 4,
  "nbformat_minor": 0,
  "metadata": {
    "colab": {
      "provenance": [],
      "collapsed_sections": [
        "X-_GCUdcm1Gr",
        "Nuq9dVv4m91_",
        "lGua5e5ynHvn",
        "rWOYETUIlysX"
      ]
    },
    "kernelspec": {
      "name": "python3",
      "display_name": "Python 3"
    },
    "language_info": {
      "name": "python"
    }
  },
  "cells": [
    {
      "cell_type": "markdown",
      "source": [
        "##Import relevant libraries and the data file"
      ],
      "metadata": {
        "id": "MEpCt7f9VA86"
      }
    },
    {
      "cell_type": "code",
      "execution_count": 688,
      "metadata": {
        "id": "0Oc2ksDfU95i"
      },
      "outputs": [],
      "source": [
        "import pandas as pd\n",
        "import numpy as np"
      ]
    },
    {
      "cell_type": "code",
      "source": [
        "valDf = pd.read_csv('./naveenkumar_propertyfinderbd.csv')"
      ],
      "metadata": {
        "id": "rlZgC3p1VDqf"
      },
      "execution_count": 689,
      "outputs": []
    },
    {
      "cell_type": "markdown",
      "source": [
        "##Sneak peek into the original data file"
      ],
      "metadata": {
        "id": "X-_GCUdcm1Gr"
      }
    },
    {
      "cell_type": "code",
      "source": [
        "valDf.head()"
      ],
      "metadata": {
        "colab": {
          "base_uri": "https://localhost:8080/",
          "height": 0
        },
        "id": "eopdz51ZVZgS",
        "outputId": "4202bf50-1499-432e-a029-07f014ddd465"
      },
      "execution_count": 690,
      "outputs": [
        {
          "output_type": "execute_result",
          "data": {
            "text/plain": [
              "                    added_on  \\\n",
              "0   Thu, Apr 6, 2023 7:49 PM   \n",
              "1   Sun, Apr 9, 2023 9:21 AM   \n",
              "2  Wed, Mar 22, 2023 8:42 AM   \n",
              "3  Mon, Mar 20, 2023 5:55 AM   \n",
              "4   Wed, Apr 5, 2023 5:50 AM   \n",
              "\n",
              "                                             address  \\\n",
              "0          CHETONA TOWER, 274/4, Mirpur 60 fit road.   \n",
              "1                                     Gulshan Avenue   \n",
              "2  JCX TOWER,1136/A, Block-I, Level 5, Japan Stre...   \n",
              "3                                     Gulshan Avenue   \n",
              "4  Sardar Complex, 1 South komlapur. Motijheel, D...   \n",
              "\n",
              "                                  area  \\\n",
              "0                        Mirpur, Dhaka   \n",
              "1                Gulshan Avenue, Dhaka   \n",
              "2  Bashundhara Residential Area, Dhaka   \n",
              "3                Gulshan Avenue, Dhaka   \n",
              "4                     Motijheel, Dhaka   \n",
              "\n",
              "                                             details fire_exit    generator  \\\n",
              "0  Flat sale\\nReady Flat 1000 / 1200 / 1400 Squar...       NaN          NaN   \n",
              "1  Gulshan avenue is the most expensive and sough...       Yes          NaN   \n",
              "2  Two Room Furnished Serviced Apartment RENT in ...       Yes  Full Backup   \n",
              "3  Fully furnished 7000 sft office available for ...       Yes  Full Backup   \n",
              "4                                         open space       NaN  Full Backup   \n",
              "\n",
              "   gym                last_updated lift offered_floor  ... property_category  \\\n",
              "0  NaN    Sun, Apr 9, 2023 5:12 AM  NaN             5  ...       Residential   \n",
              "1  NaN    Sun, Apr 9, 2023 9:21 AM  Yes             5  ...        Commercial   \n",
              "2  NaN  Sat, Mar 25, 2023 10:26 AM  Yes             4  ...       Residential   \n",
              "3  NaN   Mon, Mar 20, 2023 5:55 AM  Yes             7  ...        Commercial   \n",
              "4  NaN   Sat, Apr 8, 2023 11:46 AM  NaN             1  ...        Commercial   \n",
              "\n",
              "  property_id property_size      property_type  \\\n",
              "0         864          1200          Apartment   \n",
              "1         875          2500       Office Space   \n",
              "2         821           375  Service Apartment   \n",
              "3         815          7000             Office   \n",
              "4         856          9000      Factory Shade   \n",
              "\n",
              "                                        property_url  rent_or_sale  \\\n",
              "0  https://propertyfinderbd.com/property-details/864          Sale   \n",
              "1  https://propertyfinderbd.com/property-details/875          Rent   \n",
              "2  https://propertyfinderbd.com/property-details/821          Rent   \n",
              "3  https://propertyfinderbd.com/property-details/815          Rent   \n",
              "4  https://propertyfinderbd.com/property-details/856          Rent   \n",
              "\n",
              "  rooftop_garden swimming_pool  \\\n",
              "0            NaN           NaN   \n",
              "1            Yes           NaN   \n",
              "2            NaN           NaN   \n",
              "3            Yes           NaN   \n",
              "4            NaN           NaN   \n",
              "\n",
              "                                               title total_bathrooms  \n",
              "0  Ready Flat 1000 / 1200 / 1400 Square Feet Flat...               3  \n",
              "1   2500 sft office space for rent in Gulshan Avenue             NaN  \n",
              "2  Two Room Furnished Serviced Apartment RENT in ...               1  \n",
              "3  Ready Fully furnished 7,000 sft office for ren...             NaN  \n",
              "4                              Office space for rent              10  \n",
              "\n",
              "[5 rows x 23 columns]"
            ],
            "text/html": [
              "\n",
              "  <div id=\"df-54a5aa31-80ba-40db-b838-54938cc513be\">\n",
              "    <div class=\"colab-df-container\">\n",
              "      <div>\n",
              "<style scoped>\n",
              "    .dataframe tbody tr th:only-of-type {\n",
              "        vertical-align: middle;\n",
              "    }\n",
              "\n",
              "    .dataframe tbody tr th {\n",
              "        vertical-align: top;\n",
              "    }\n",
              "\n",
              "    .dataframe thead th {\n",
              "        text-align: right;\n",
              "    }\n",
              "</style>\n",
              "<table border=\"1\" class=\"dataframe\">\n",
              "  <thead>\n",
              "    <tr style=\"text-align: right;\">\n",
              "      <th></th>\n",
              "      <th>added_on</th>\n",
              "      <th>address</th>\n",
              "      <th>area</th>\n",
              "      <th>details</th>\n",
              "      <th>fire_exit</th>\n",
              "      <th>generator</th>\n",
              "      <th>gym</th>\n",
              "      <th>last_updated</th>\n",
              "      <th>lift</th>\n",
              "      <th>offered_floor</th>\n",
              "      <th>...</th>\n",
              "      <th>property_category</th>\n",
              "      <th>property_id</th>\n",
              "      <th>property_size</th>\n",
              "      <th>property_type</th>\n",
              "      <th>property_url</th>\n",
              "      <th>rent_or_sale</th>\n",
              "      <th>rooftop_garden</th>\n",
              "      <th>swimming_pool</th>\n",
              "      <th>title</th>\n",
              "      <th>total_bathrooms</th>\n",
              "    </tr>\n",
              "  </thead>\n",
              "  <tbody>\n",
              "    <tr>\n",
              "      <th>0</th>\n",
              "      <td>Thu, Apr 6, 2023 7:49 PM</td>\n",
              "      <td>CHETONA TOWER, 274/4, Mirpur 60 fit road.</td>\n",
              "      <td>Mirpur, Dhaka</td>\n",
              "      <td>Flat sale\\nReady Flat 1000 / 1200 / 1400 Squar...</td>\n",
              "      <td>NaN</td>\n",
              "      <td>NaN</td>\n",
              "      <td>NaN</td>\n",
              "      <td>Sun, Apr 9, 2023 5:12 AM</td>\n",
              "      <td>NaN</td>\n",
              "      <td>5</td>\n",
              "      <td>...</td>\n",
              "      <td>Residential</td>\n",
              "      <td>864</td>\n",
              "      <td>1200</td>\n",
              "      <td>Apartment</td>\n",
              "      <td>https://propertyfinderbd.com/property-details/864</td>\n",
              "      <td>Sale</td>\n",
              "      <td>NaN</td>\n",
              "      <td>NaN</td>\n",
              "      <td>Ready Flat 1000 / 1200 / 1400 Square Feet Flat...</td>\n",
              "      <td>3</td>\n",
              "    </tr>\n",
              "    <tr>\n",
              "      <th>1</th>\n",
              "      <td>Sun, Apr 9, 2023 9:21 AM</td>\n",
              "      <td>Gulshan Avenue</td>\n",
              "      <td>Gulshan Avenue, Dhaka</td>\n",
              "      <td>Gulshan avenue is the most expensive and sough...</td>\n",
              "      <td>Yes</td>\n",
              "      <td>NaN</td>\n",
              "      <td>NaN</td>\n",
              "      <td>Sun, Apr 9, 2023 9:21 AM</td>\n",
              "      <td>Yes</td>\n",
              "      <td>5</td>\n",
              "      <td>...</td>\n",
              "      <td>Commercial</td>\n",
              "      <td>875</td>\n",
              "      <td>2500</td>\n",
              "      <td>Office Space</td>\n",
              "      <td>https://propertyfinderbd.com/property-details/875</td>\n",
              "      <td>Rent</td>\n",
              "      <td>Yes</td>\n",
              "      <td>NaN</td>\n",
              "      <td>2500 sft office space for rent in Gulshan Avenue</td>\n",
              "      <td>NaN</td>\n",
              "    </tr>\n",
              "    <tr>\n",
              "      <th>2</th>\n",
              "      <td>Wed, Mar 22, 2023 8:42 AM</td>\n",
              "      <td>JCX TOWER,1136/A, Block-I, Level 5, Japan Stre...</td>\n",
              "      <td>Bashundhara Residential Area, Dhaka</td>\n",
              "      <td>Two Room Furnished Serviced Apartment RENT in ...</td>\n",
              "      <td>Yes</td>\n",
              "      <td>Full Backup</td>\n",
              "      <td>NaN</td>\n",
              "      <td>Sat, Mar 25, 2023 10:26 AM</td>\n",
              "      <td>Yes</td>\n",
              "      <td>4</td>\n",
              "      <td>...</td>\n",
              "      <td>Residential</td>\n",
              "      <td>821</td>\n",
              "      <td>375</td>\n",
              "      <td>Service Apartment</td>\n",
              "      <td>https://propertyfinderbd.com/property-details/821</td>\n",
              "      <td>Rent</td>\n",
              "      <td>NaN</td>\n",
              "      <td>NaN</td>\n",
              "      <td>Two Room Furnished Serviced Apartment RENT in ...</td>\n",
              "      <td>1</td>\n",
              "    </tr>\n",
              "    <tr>\n",
              "      <th>3</th>\n",
              "      <td>Mon, Mar 20, 2023 5:55 AM</td>\n",
              "      <td>Gulshan Avenue</td>\n",
              "      <td>Gulshan Avenue, Dhaka</td>\n",
              "      <td>Fully furnished 7000 sft office available for ...</td>\n",
              "      <td>Yes</td>\n",
              "      <td>Full Backup</td>\n",
              "      <td>NaN</td>\n",
              "      <td>Mon, Mar 20, 2023 5:55 AM</td>\n",
              "      <td>Yes</td>\n",
              "      <td>7</td>\n",
              "      <td>...</td>\n",
              "      <td>Commercial</td>\n",
              "      <td>815</td>\n",
              "      <td>7000</td>\n",
              "      <td>Office</td>\n",
              "      <td>https://propertyfinderbd.com/property-details/815</td>\n",
              "      <td>Rent</td>\n",
              "      <td>Yes</td>\n",
              "      <td>NaN</td>\n",
              "      <td>Ready Fully furnished 7,000 sft office for ren...</td>\n",
              "      <td>NaN</td>\n",
              "    </tr>\n",
              "    <tr>\n",
              "      <th>4</th>\n",
              "      <td>Wed, Apr 5, 2023 5:50 AM</td>\n",
              "      <td>Sardar Complex, 1 South komlapur. Motijheel, D...</td>\n",
              "      <td>Motijheel, Dhaka</td>\n",
              "      <td>open space</td>\n",
              "      <td>NaN</td>\n",
              "      <td>Full Backup</td>\n",
              "      <td>NaN</td>\n",
              "      <td>Sat, Apr 8, 2023 11:46 AM</td>\n",
              "      <td>NaN</td>\n",
              "      <td>1</td>\n",
              "      <td>...</td>\n",
              "      <td>Commercial</td>\n",
              "      <td>856</td>\n",
              "      <td>9000</td>\n",
              "      <td>Factory Shade</td>\n",
              "      <td>https://propertyfinderbd.com/property-details/856</td>\n",
              "      <td>Rent</td>\n",
              "      <td>NaN</td>\n",
              "      <td>NaN</td>\n",
              "      <td>Office space for rent</td>\n",
              "      <td>10</td>\n",
              "    </tr>\n",
              "  </tbody>\n",
              "</table>\n",
              "<p>5 rows × 23 columns</p>\n",
              "</div>\n",
              "      <button class=\"colab-df-convert\" onclick=\"convertToInteractive('df-54a5aa31-80ba-40db-b838-54938cc513be')\"\n",
              "              title=\"Convert this dataframe to an interactive table.\"\n",
              "              style=\"display:none;\">\n",
              "        \n",
              "  <svg xmlns=\"http://www.w3.org/2000/svg\" height=\"24px\"viewBox=\"0 0 24 24\"\n",
              "       width=\"24px\">\n",
              "    <path d=\"M0 0h24v24H0V0z\" fill=\"none\"/>\n",
              "    <path d=\"M18.56 5.44l.94 2.06.94-2.06 2.06-.94-2.06-.94-.94-2.06-.94 2.06-2.06.94zm-11 1L8.5 8.5l.94-2.06 2.06-.94-2.06-.94L8.5 2.5l-.94 2.06-2.06.94zm10 10l.94 2.06.94-2.06 2.06-.94-2.06-.94-.94-2.06-.94 2.06-2.06.94z\"/><path d=\"M17.41 7.96l-1.37-1.37c-.4-.4-.92-.59-1.43-.59-.52 0-1.04.2-1.43.59L10.3 9.45l-7.72 7.72c-.78.78-.78 2.05 0 2.83L4 21.41c.39.39.9.59 1.41.59.51 0 1.02-.2 1.41-.59l7.78-7.78 2.81-2.81c.8-.78.8-2.07 0-2.86zM5.41 20L4 18.59l7.72-7.72 1.47 1.35L5.41 20z\"/>\n",
              "  </svg>\n",
              "      </button>\n",
              "      \n",
              "  <style>\n",
              "    .colab-df-container {\n",
              "      display:flex;\n",
              "      flex-wrap:wrap;\n",
              "      gap: 12px;\n",
              "    }\n",
              "\n",
              "    .colab-df-convert {\n",
              "      background-color: #E8F0FE;\n",
              "      border: none;\n",
              "      border-radius: 50%;\n",
              "      cursor: pointer;\n",
              "      display: none;\n",
              "      fill: #1967D2;\n",
              "      height: 32px;\n",
              "      padding: 0 0 0 0;\n",
              "      width: 32px;\n",
              "    }\n",
              "\n",
              "    .colab-df-convert:hover {\n",
              "      background-color: #E2EBFA;\n",
              "      box-shadow: 0px 1px 2px rgba(60, 64, 67, 0.3), 0px 1px 3px 1px rgba(60, 64, 67, 0.15);\n",
              "      fill: #174EA6;\n",
              "    }\n",
              "\n",
              "    [theme=dark] .colab-df-convert {\n",
              "      background-color: #3B4455;\n",
              "      fill: #D2E3FC;\n",
              "    }\n",
              "\n",
              "    [theme=dark] .colab-df-convert:hover {\n",
              "      background-color: #434B5C;\n",
              "      box-shadow: 0px 1px 3px 1px rgba(0, 0, 0, 0.15);\n",
              "      filter: drop-shadow(0px 1px 2px rgba(0, 0, 0, 0.3));\n",
              "      fill: #FFFFFF;\n",
              "    }\n",
              "  </style>\n",
              "\n",
              "      <script>\n",
              "        const buttonEl =\n",
              "          document.querySelector('#df-54a5aa31-80ba-40db-b838-54938cc513be button.colab-df-convert');\n",
              "        buttonEl.style.display =\n",
              "          google.colab.kernel.accessAllowed ? 'block' : 'none';\n",
              "\n",
              "        async function convertToInteractive(key) {\n",
              "          const element = document.querySelector('#df-54a5aa31-80ba-40db-b838-54938cc513be');\n",
              "          const dataTable =\n",
              "            await google.colab.kernel.invokeFunction('convertToInteractive',\n",
              "                                                     [key], {});\n",
              "          if (!dataTable) return;\n",
              "\n",
              "          const docLinkHtml = 'Like what you see? Visit the ' +\n",
              "            '<a target=\"_blank\" href=https://colab.research.google.com/notebooks/data_table.ipynb>data table notebook</a>'\n",
              "            + ' to learn more about interactive tables.';\n",
              "          element.innerHTML = '';\n",
              "          dataTable['output_type'] = 'display_data';\n",
              "          await google.colab.output.renderOutput(dataTable, element);\n",
              "          const docLink = document.createElement('div');\n",
              "          docLink.innerHTML = docLinkHtml;\n",
              "          element.appendChild(docLink);\n",
              "        }\n",
              "      </script>\n",
              "    </div>\n",
              "  </div>\n",
              "  "
            ]
          },
          "metadata": {},
          "execution_count": 690
        }
      ]
    },
    {
      "cell_type": "code",
      "source": [
        "valDf.info()\n",
        "valDf.describe()"
      ],
      "metadata": {
        "colab": {
          "base_uri": "https://localhost:8080/",
          "height": 0
        },
        "id": "m0oKam5GVdfy",
        "outputId": "3fa3d41e-f1f9-46b5-ee22-6ddf9358f8e5"
      },
      "execution_count": 691,
      "outputs": [
        {
          "output_type": "stream",
          "name": "stdout",
          "text": [
            "<class 'pandas.core.frame.DataFrame'>\n",
            "RangeIndex: 555 entries, 0 to 554\n",
            "Data columns (total 23 columns):\n",
            " #   Column             Non-Null Count  Dtype \n",
            "---  ------             --------------  ----- \n",
            " 0   added_on           555 non-null    object\n",
            " 1   address            555 non-null    object\n",
            " 2   area               555 non-null    object\n",
            " 3   details            555 non-null    object\n",
            " 4   fire_exit          249 non-null    object\n",
            " 5   generator          505 non-null    object\n",
            " 6   gym                58 non-null     object\n",
            " 7   last_updated       555 non-null    object\n",
            " 8   lift               294 non-null    object\n",
            " 9   offered_floor      491 non-null    object\n",
            " 10  parking            396 non-null    object\n",
            " 11  present_status     555 non-null    object\n",
            " 12  price              555 non-null    object\n",
            " 13  property_category  555 non-null    object\n",
            " 14  property_id        555 non-null    int64 \n",
            " 15  property_size      555 non-null    int64 \n",
            " 16  property_type      555 non-null    object\n",
            " 17  property_url       555 non-null    object\n",
            " 18  rent_or_sale       555 non-null    object\n",
            " 19  rooftop_garden     201 non-null    object\n",
            " 20  swimming_pool      31 non-null     object\n",
            " 21  title              555 non-null    object\n",
            " 22  total_bathrooms    406 non-null    object\n",
            "dtypes: int64(2), object(21)\n",
            "memory usage: 99.9+ KB\n"
          ]
        },
        {
          "output_type": "execute_result",
          "data": {
            "text/plain": [
              "       property_id  property_size\n",
              "count   555.000000   5.550000e+02\n",
              "mean    383.983784   2.539706e+04\n",
              "std     239.644234   9.207220e+04\n",
              "min      22.000000   0.000000e+00\n",
              "25%     170.500000   1.362500e+03\n",
              "50%     364.000000   3.000000e+03\n",
              "75%     583.000000   1.591250e+04\n",
              "max     875.000000   1.180800e+06"
            ],
            "text/html": [
              "\n",
              "  <div id=\"df-d8069322-3c51-4123-a880-c445e1a01729\">\n",
              "    <div class=\"colab-df-container\">\n",
              "      <div>\n",
              "<style scoped>\n",
              "    .dataframe tbody tr th:only-of-type {\n",
              "        vertical-align: middle;\n",
              "    }\n",
              "\n",
              "    .dataframe tbody tr th {\n",
              "        vertical-align: top;\n",
              "    }\n",
              "\n",
              "    .dataframe thead th {\n",
              "        text-align: right;\n",
              "    }\n",
              "</style>\n",
              "<table border=\"1\" class=\"dataframe\">\n",
              "  <thead>\n",
              "    <tr style=\"text-align: right;\">\n",
              "      <th></th>\n",
              "      <th>property_id</th>\n",
              "      <th>property_size</th>\n",
              "    </tr>\n",
              "  </thead>\n",
              "  <tbody>\n",
              "    <tr>\n",
              "      <th>count</th>\n",
              "      <td>555.000000</td>\n",
              "      <td>5.550000e+02</td>\n",
              "    </tr>\n",
              "    <tr>\n",
              "      <th>mean</th>\n",
              "      <td>383.983784</td>\n",
              "      <td>2.539706e+04</td>\n",
              "    </tr>\n",
              "    <tr>\n",
              "      <th>std</th>\n",
              "      <td>239.644234</td>\n",
              "      <td>9.207220e+04</td>\n",
              "    </tr>\n",
              "    <tr>\n",
              "      <th>min</th>\n",
              "      <td>22.000000</td>\n",
              "      <td>0.000000e+00</td>\n",
              "    </tr>\n",
              "    <tr>\n",
              "      <th>25%</th>\n",
              "      <td>170.500000</td>\n",
              "      <td>1.362500e+03</td>\n",
              "    </tr>\n",
              "    <tr>\n",
              "      <th>50%</th>\n",
              "      <td>364.000000</td>\n",
              "      <td>3.000000e+03</td>\n",
              "    </tr>\n",
              "    <tr>\n",
              "      <th>75%</th>\n",
              "      <td>583.000000</td>\n",
              "      <td>1.591250e+04</td>\n",
              "    </tr>\n",
              "    <tr>\n",
              "      <th>max</th>\n",
              "      <td>875.000000</td>\n",
              "      <td>1.180800e+06</td>\n",
              "    </tr>\n",
              "  </tbody>\n",
              "</table>\n",
              "</div>\n",
              "      <button class=\"colab-df-convert\" onclick=\"convertToInteractive('df-d8069322-3c51-4123-a880-c445e1a01729')\"\n",
              "              title=\"Convert this dataframe to an interactive table.\"\n",
              "              style=\"display:none;\">\n",
              "        \n",
              "  <svg xmlns=\"http://www.w3.org/2000/svg\" height=\"24px\"viewBox=\"0 0 24 24\"\n",
              "       width=\"24px\">\n",
              "    <path d=\"M0 0h24v24H0V0z\" fill=\"none\"/>\n",
              "    <path d=\"M18.56 5.44l.94 2.06.94-2.06 2.06-.94-2.06-.94-.94-2.06-.94 2.06-2.06.94zm-11 1L8.5 8.5l.94-2.06 2.06-.94-2.06-.94L8.5 2.5l-.94 2.06-2.06.94zm10 10l.94 2.06.94-2.06 2.06-.94-2.06-.94-.94-2.06-.94 2.06-2.06.94z\"/><path d=\"M17.41 7.96l-1.37-1.37c-.4-.4-.92-.59-1.43-.59-.52 0-1.04.2-1.43.59L10.3 9.45l-7.72 7.72c-.78.78-.78 2.05 0 2.83L4 21.41c.39.39.9.59 1.41.59.51 0 1.02-.2 1.41-.59l7.78-7.78 2.81-2.81c.8-.78.8-2.07 0-2.86zM5.41 20L4 18.59l7.72-7.72 1.47 1.35L5.41 20z\"/>\n",
              "  </svg>\n",
              "      </button>\n",
              "      \n",
              "  <style>\n",
              "    .colab-df-container {\n",
              "      display:flex;\n",
              "      flex-wrap:wrap;\n",
              "      gap: 12px;\n",
              "    }\n",
              "\n",
              "    .colab-df-convert {\n",
              "      background-color: #E8F0FE;\n",
              "      border: none;\n",
              "      border-radius: 50%;\n",
              "      cursor: pointer;\n",
              "      display: none;\n",
              "      fill: #1967D2;\n",
              "      height: 32px;\n",
              "      padding: 0 0 0 0;\n",
              "      width: 32px;\n",
              "    }\n",
              "\n",
              "    .colab-df-convert:hover {\n",
              "      background-color: #E2EBFA;\n",
              "      box-shadow: 0px 1px 2px rgba(60, 64, 67, 0.3), 0px 1px 3px 1px rgba(60, 64, 67, 0.15);\n",
              "      fill: #174EA6;\n",
              "    }\n",
              "\n",
              "    [theme=dark] .colab-df-convert {\n",
              "      background-color: #3B4455;\n",
              "      fill: #D2E3FC;\n",
              "    }\n",
              "\n",
              "    [theme=dark] .colab-df-convert:hover {\n",
              "      background-color: #434B5C;\n",
              "      box-shadow: 0px 1px 3px 1px rgba(0, 0, 0, 0.15);\n",
              "      filter: drop-shadow(0px 1px 2px rgba(0, 0, 0, 0.3));\n",
              "      fill: #FFFFFF;\n",
              "    }\n",
              "  </style>\n",
              "\n",
              "      <script>\n",
              "        const buttonEl =\n",
              "          document.querySelector('#df-d8069322-3c51-4123-a880-c445e1a01729 button.colab-df-convert');\n",
              "        buttonEl.style.display =\n",
              "          google.colab.kernel.accessAllowed ? 'block' : 'none';\n",
              "\n",
              "        async function convertToInteractive(key) {\n",
              "          const element = document.querySelector('#df-d8069322-3c51-4123-a880-c445e1a01729');\n",
              "          const dataTable =\n",
              "            await google.colab.kernel.invokeFunction('convertToInteractive',\n",
              "                                                     [key], {});\n",
              "          if (!dataTable) return;\n",
              "\n",
              "          const docLinkHtml = 'Like what you see? Visit the ' +\n",
              "            '<a target=\"_blank\" href=https://colab.research.google.com/notebooks/data_table.ipynb>data table notebook</a>'\n",
              "            + ' to learn more about interactive tables.';\n",
              "          element.innerHTML = '';\n",
              "          dataTable['output_type'] = 'display_data';\n",
              "          await google.colab.output.renderOutput(dataTable, element);\n",
              "          const docLink = document.createElement('div');\n",
              "          docLink.innerHTML = docLinkHtml;\n",
              "          element.appendChild(docLink);\n",
              "        }\n",
              "      </script>\n",
              "    </div>\n",
              "  </div>\n",
              "  "
            ]
          },
          "metadata": {},
          "execution_count": 691
        }
      ]
    },
    {
      "cell_type": "markdown",
      "source": [
        "##Replace the original column names with the column names given as project standard"
      ],
      "metadata": {
        "id": "Nuq9dVv4m91_"
      }
    },
    {
      "cell_type": "code",
      "source": [
        "valDf.rename(columns = {'property_size':'AREA'}, inplace = True)\n",
        "valDf.rename(columns = {'rent_or_sale':'PURPOSE'}, inplace = True)\n",
        "#valDf.rename(columns = {'property_overview':'TITLE'}, inplace = True)\n",
        "#valDf.rename(columns = {'property_description':'DETAILS'}, inplace = True)\n",
        "valDf.rename(columns = {'property_category':'BUILDING_NATURE'}, inplace = True)\n",
        "valDf.rename(columns = {'property_type':'BUILDING_TYPE'}, inplace = True)\n",
        "#valDf.rename(columns = {'num_bath_rooms':'TOTAL_BATHROOMS'}, inplace = True)\n",
        "#valDf.rename(columns = {'fire_exit':'K1'}, inplace = True)\n",
        "##valDf.rename(columns = {'generator':'K2'}, inplace = True)\n",
        "#valDf.rename(columns = {'gym':'K3'}, inplace = True)\n",
        "#valDf.rename(columns = {'lift':'K4'}, inplace = True)\n",
        "#valDf.rename(columns = {'offered_floor':'K5'}, inplace = True)\n",
        "#valDf.rename(columns = {'parking':'parking-spaces-amenity'}, inplace = True)\n",
        "#valDf.rename(columns = {'present_status':'K7'}, inplace = True)\n",
        "#valDf.rename(columns = {'rooftop_garden':'K8'}, inplace = True)\n",
        "#valDf.rename(columns = {'swimming_pool':'swimming-pool-amenity'}, inplace = True)"
      ],
      "metadata": {
        "id": "pFe737iKaUDS"
      },
      "execution_count": 692,
      "outputs": []
    },
    {
      "cell_type": "code",
      "source": [
        "valDf.info()"
      ],
      "metadata": {
        "colab": {
          "base_uri": "https://localhost:8080/"
        },
        "id": "7i8g4HKbffz3",
        "outputId": "190fa46c-8a2f-4c50-c7d7-4ff5348b20cf"
      },
      "execution_count": 693,
      "outputs": [
        {
          "output_type": "stream",
          "name": "stdout",
          "text": [
            "<class 'pandas.core.frame.DataFrame'>\n",
            "RangeIndex: 555 entries, 0 to 554\n",
            "Data columns (total 23 columns):\n",
            " #   Column           Non-Null Count  Dtype \n",
            "---  ------           --------------  ----- \n",
            " 0   added_on         555 non-null    object\n",
            " 1   address          555 non-null    object\n",
            " 2   area             555 non-null    object\n",
            " 3   details          555 non-null    object\n",
            " 4   fire_exit        249 non-null    object\n",
            " 5   generator        505 non-null    object\n",
            " 6   gym              58 non-null     object\n",
            " 7   last_updated     555 non-null    object\n",
            " 8   lift             294 non-null    object\n",
            " 9   offered_floor    491 non-null    object\n",
            " 10  parking          396 non-null    object\n",
            " 11  present_status   555 non-null    object\n",
            " 12  price            555 non-null    object\n",
            " 13  BUILDING_NATURE  555 non-null    object\n",
            " 14  property_id      555 non-null    int64 \n",
            " 15  AREA             555 non-null    int64 \n",
            " 16  BUILDING_TYPE    555 non-null    object\n",
            " 17  property_url     555 non-null    object\n",
            " 18  PURPOSE          555 non-null    object\n",
            " 19  rooftop_garden   201 non-null    object\n",
            " 20  swimming_pool    31 non-null     object\n",
            " 21  title            555 non-null    object\n",
            " 22  total_bathrooms  406 non-null    object\n",
            "dtypes: int64(2), object(21)\n",
            "memory usage: 99.9+ KB\n"
          ]
        }
      ]
    },
    {
      "cell_type": "markdown",
      "source": [
        "##Get the District, city data by splitting the area column\n",
        "##Feeding the country column with default as Bangladesh"
      ],
      "metadata": {
        "id": "lGua5e5ynHvn"
      }
    },
    {
      "cell_type": "code",
      "source": [
        "valDf['DISTRICT']=valDf['area'].str.split(',').str[0]\n",
        "valDf['CITY']=valDf['area'].str.split(',').str[1]\n",
        "valDf['OTHERZONEAREA']=valDf['address'].str.split(',').str[-1]\n",
        "valDf['COUNTRY']='Bangladesh'\n",
        "valDf.head()"
      ],
      "metadata": {
        "colab": {
          "base_uri": "https://localhost:8080/",
          "height": 0
        },
        "id": "AfifTzkQhMjL",
        "outputId": "a58ae08c-1c8f-463d-ff8c-6fa5b802baae"
      },
      "execution_count": 694,
      "outputs": [
        {
          "output_type": "execute_result",
          "data": {
            "text/plain": [
              "                    added_on  \\\n",
              "0   Thu, Apr 6, 2023 7:49 PM   \n",
              "1   Sun, Apr 9, 2023 9:21 AM   \n",
              "2  Wed, Mar 22, 2023 8:42 AM   \n",
              "3  Mon, Mar 20, 2023 5:55 AM   \n",
              "4   Wed, Apr 5, 2023 5:50 AM   \n",
              "\n",
              "                                             address  \\\n",
              "0          CHETONA TOWER, 274/4, Mirpur 60 fit road.   \n",
              "1                                     Gulshan Avenue   \n",
              "2  JCX TOWER,1136/A, Block-I, Level 5, Japan Stre...   \n",
              "3                                     Gulshan Avenue   \n",
              "4  Sardar Complex, 1 South komlapur. Motijheel, D...   \n",
              "\n",
              "                                  area  \\\n",
              "0                        Mirpur, Dhaka   \n",
              "1                Gulshan Avenue, Dhaka   \n",
              "2  Bashundhara Residential Area, Dhaka   \n",
              "3                Gulshan Avenue, Dhaka   \n",
              "4                     Motijheel, Dhaka   \n",
              "\n",
              "                                             details fire_exit    generator  \\\n",
              "0  Flat sale\\nReady Flat 1000 / 1200 / 1400 Squar...       NaN          NaN   \n",
              "1  Gulshan avenue is the most expensive and sough...       Yes          NaN   \n",
              "2  Two Room Furnished Serviced Apartment RENT in ...       Yes  Full Backup   \n",
              "3  Fully furnished 7000 sft office available for ...       Yes  Full Backup   \n",
              "4                                         open space       NaN  Full Backup   \n",
              "\n",
              "   gym                last_updated lift offered_floor  ...  \\\n",
              "0  NaN    Sun, Apr 9, 2023 5:12 AM  NaN             5  ...   \n",
              "1  NaN    Sun, Apr 9, 2023 9:21 AM  Yes             5  ...   \n",
              "2  NaN  Sat, Mar 25, 2023 10:26 AM  Yes             4  ...   \n",
              "3  NaN   Mon, Mar 20, 2023 5:55 AM  Yes             7  ...   \n",
              "4  NaN   Sat, Apr 8, 2023 11:46 AM  NaN             1  ...   \n",
              "\n",
              "                                        property_url PURPOSE rooftop_garden  \\\n",
              "0  https://propertyfinderbd.com/property-details/864    Sale            NaN   \n",
              "1  https://propertyfinderbd.com/property-details/875    Rent            Yes   \n",
              "2  https://propertyfinderbd.com/property-details/821    Rent            NaN   \n",
              "3  https://propertyfinderbd.com/property-details/815    Rent            Yes   \n",
              "4  https://propertyfinderbd.com/property-details/856    Rent            NaN   \n",
              "\n",
              "  swimming_pool                                              title  \\\n",
              "0           NaN  Ready Flat 1000 / 1200 / 1400 Square Feet Flat...   \n",
              "1           NaN   2500 sft office space for rent in Gulshan Avenue   \n",
              "2           NaN  Two Room Furnished Serviced Apartment RENT in ...   \n",
              "3           NaN  Ready Fully furnished 7,000 sft office for ren...   \n",
              "4           NaN                              Office space for rent   \n",
              "\n",
              "   total_bathrooms                      DISTRICT    CITY  \\\n",
              "0                3                        Mirpur   Dhaka   \n",
              "1              NaN                Gulshan Avenue   Dhaka   \n",
              "2                1  Bashundhara Residential Area   Dhaka   \n",
              "3              NaN                Gulshan Avenue   Dhaka   \n",
              "4               10                     Motijheel   Dhaka   \n",
              "\n",
              "          OTHERZONEAREA     COUNTRY  \n",
              "0   Mirpur 60 fit road.  Bangladesh  \n",
              "1        Gulshan Avenue  Bangladesh  \n",
              "2       Bashundhara R/A  Bangladesh  \n",
              "3        Gulshan Avenue  Bangladesh  \n",
              "4                 Dhaka  Bangladesh  \n",
              "\n",
              "[5 rows x 27 columns]"
            ],
            "text/html": [
              "\n",
              "  <div id=\"df-524b96dc-5dd0-48f7-a8dc-b2d2abca5ada\">\n",
              "    <div class=\"colab-df-container\">\n",
              "      <div>\n",
              "<style scoped>\n",
              "    .dataframe tbody tr th:only-of-type {\n",
              "        vertical-align: middle;\n",
              "    }\n",
              "\n",
              "    .dataframe tbody tr th {\n",
              "        vertical-align: top;\n",
              "    }\n",
              "\n",
              "    .dataframe thead th {\n",
              "        text-align: right;\n",
              "    }\n",
              "</style>\n",
              "<table border=\"1\" class=\"dataframe\">\n",
              "  <thead>\n",
              "    <tr style=\"text-align: right;\">\n",
              "      <th></th>\n",
              "      <th>added_on</th>\n",
              "      <th>address</th>\n",
              "      <th>area</th>\n",
              "      <th>details</th>\n",
              "      <th>fire_exit</th>\n",
              "      <th>generator</th>\n",
              "      <th>gym</th>\n",
              "      <th>last_updated</th>\n",
              "      <th>lift</th>\n",
              "      <th>offered_floor</th>\n",
              "      <th>...</th>\n",
              "      <th>property_url</th>\n",
              "      <th>PURPOSE</th>\n",
              "      <th>rooftop_garden</th>\n",
              "      <th>swimming_pool</th>\n",
              "      <th>title</th>\n",
              "      <th>total_bathrooms</th>\n",
              "      <th>DISTRICT</th>\n",
              "      <th>CITY</th>\n",
              "      <th>OTHERZONEAREA</th>\n",
              "      <th>COUNTRY</th>\n",
              "    </tr>\n",
              "  </thead>\n",
              "  <tbody>\n",
              "    <tr>\n",
              "      <th>0</th>\n",
              "      <td>Thu, Apr 6, 2023 7:49 PM</td>\n",
              "      <td>CHETONA TOWER, 274/4, Mirpur 60 fit road.</td>\n",
              "      <td>Mirpur, Dhaka</td>\n",
              "      <td>Flat sale\\nReady Flat 1000 / 1200 / 1400 Squar...</td>\n",
              "      <td>NaN</td>\n",
              "      <td>NaN</td>\n",
              "      <td>NaN</td>\n",
              "      <td>Sun, Apr 9, 2023 5:12 AM</td>\n",
              "      <td>NaN</td>\n",
              "      <td>5</td>\n",
              "      <td>...</td>\n",
              "      <td>https://propertyfinderbd.com/property-details/864</td>\n",
              "      <td>Sale</td>\n",
              "      <td>NaN</td>\n",
              "      <td>NaN</td>\n",
              "      <td>Ready Flat 1000 / 1200 / 1400 Square Feet Flat...</td>\n",
              "      <td>3</td>\n",
              "      <td>Mirpur</td>\n",
              "      <td>Dhaka</td>\n",
              "      <td>Mirpur 60 fit road.</td>\n",
              "      <td>Bangladesh</td>\n",
              "    </tr>\n",
              "    <tr>\n",
              "      <th>1</th>\n",
              "      <td>Sun, Apr 9, 2023 9:21 AM</td>\n",
              "      <td>Gulshan Avenue</td>\n",
              "      <td>Gulshan Avenue, Dhaka</td>\n",
              "      <td>Gulshan avenue is the most expensive and sough...</td>\n",
              "      <td>Yes</td>\n",
              "      <td>NaN</td>\n",
              "      <td>NaN</td>\n",
              "      <td>Sun, Apr 9, 2023 9:21 AM</td>\n",
              "      <td>Yes</td>\n",
              "      <td>5</td>\n",
              "      <td>...</td>\n",
              "      <td>https://propertyfinderbd.com/property-details/875</td>\n",
              "      <td>Rent</td>\n",
              "      <td>Yes</td>\n",
              "      <td>NaN</td>\n",
              "      <td>2500 sft office space for rent in Gulshan Avenue</td>\n",
              "      <td>NaN</td>\n",
              "      <td>Gulshan Avenue</td>\n",
              "      <td>Dhaka</td>\n",
              "      <td>Gulshan Avenue</td>\n",
              "      <td>Bangladesh</td>\n",
              "    </tr>\n",
              "    <tr>\n",
              "      <th>2</th>\n",
              "      <td>Wed, Mar 22, 2023 8:42 AM</td>\n",
              "      <td>JCX TOWER,1136/A, Block-I, Level 5, Japan Stre...</td>\n",
              "      <td>Bashundhara Residential Area, Dhaka</td>\n",
              "      <td>Two Room Furnished Serviced Apartment RENT in ...</td>\n",
              "      <td>Yes</td>\n",
              "      <td>Full Backup</td>\n",
              "      <td>NaN</td>\n",
              "      <td>Sat, Mar 25, 2023 10:26 AM</td>\n",
              "      <td>Yes</td>\n",
              "      <td>4</td>\n",
              "      <td>...</td>\n",
              "      <td>https://propertyfinderbd.com/property-details/821</td>\n",
              "      <td>Rent</td>\n",
              "      <td>NaN</td>\n",
              "      <td>NaN</td>\n",
              "      <td>Two Room Furnished Serviced Apartment RENT in ...</td>\n",
              "      <td>1</td>\n",
              "      <td>Bashundhara Residential Area</td>\n",
              "      <td>Dhaka</td>\n",
              "      <td>Bashundhara R/A</td>\n",
              "      <td>Bangladesh</td>\n",
              "    </tr>\n",
              "    <tr>\n",
              "      <th>3</th>\n",
              "      <td>Mon, Mar 20, 2023 5:55 AM</td>\n",
              "      <td>Gulshan Avenue</td>\n",
              "      <td>Gulshan Avenue, Dhaka</td>\n",
              "      <td>Fully furnished 7000 sft office available for ...</td>\n",
              "      <td>Yes</td>\n",
              "      <td>Full Backup</td>\n",
              "      <td>NaN</td>\n",
              "      <td>Mon, Mar 20, 2023 5:55 AM</td>\n",
              "      <td>Yes</td>\n",
              "      <td>7</td>\n",
              "      <td>...</td>\n",
              "      <td>https://propertyfinderbd.com/property-details/815</td>\n",
              "      <td>Rent</td>\n",
              "      <td>Yes</td>\n",
              "      <td>NaN</td>\n",
              "      <td>Ready Fully furnished 7,000 sft office for ren...</td>\n",
              "      <td>NaN</td>\n",
              "      <td>Gulshan Avenue</td>\n",
              "      <td>Dhaka</td>\n",
              "      <td>Gulshan Avenue</td>\n",
              "      <td>Bangladesh</td>\n",
              "    </tr>\n",
              "    <tr>\n",
              "      <th>4</th>\n",
              "      <td>Wed, Apr 5, 2023 5:50 AM</td>\n",
              "      <td>Sardar Complex, 1 South komlapur. Motijheel, D...</td>\n",
              "      <td>Motijheel, Dhaka</td>\n",
              "      <td>open space</td>\n",
              "      <td>NaN</td>\n",
              "      <td>Full Backup</td>\n",
              "      <td>NaN</td>\n",
              "      <td>Sat, Apr 8, 2023 11:46 AM</td>\n",
              "      <td>NaN</td>\n",
              "      <td>1</td>\n",
              "      <td>...</td>\n",
              "      <td>https://propertyfinderbd.com/property-details/856</td>\n",
              "      <td>Rent</td>\n",
              "      <td>NaN</td>\n",
              "      <td>NaN</td>\n",
              "      <td>Office space for rent</td>\n",
              "      <td>10</td>\n",
              "      <td>Motijheel</td>\n",
              "      <td>Dhaka</td>\n",
              "      <td>Dhaka</td>\n",
              "      <td>Bangladesh</td>\n",
              "    </tr>\n",
              "  </tbody>\n",
              "</table>\n",
              "<p>5 rows × 27 columns</p>\n",
              "</div>\n",
              "      <button class=\"colab-df-convert\" onclick=\"convertToInteractive('df-524b96dc-5dd0-48f7-a8dc-b2d2abca5ada')\"\n",
              "              title=\"Convert this dataframe to an interactive table.\"\n",
              "              style=\"display:none;\">\n",
              "        \n",
              "  <svg xmlns=\"http://www.w3.org/2000/svg\" height=\"24px\"viewBox=\"0 0 24 24\"\n",
              "       width=\"24px\">\n",
              "    <path d=\"M0 0h24v24H0V0z\" fill=\"none\"/>\n",
              "    <path d=\"M18.56 5.44l.94 2.06.94-2.06 2.06-.94-2.06-.94-.94-2.06-.94 2.06-2.06.94zm-11 1L8.5 8.5l.94-2.06 2.06-.94-2.06-.94L8.5 2.5l-.94 2.06-2.06.94zm10 10l.94 2.06.94-2.06 2.06-.94-2.06-.94-.94-2.06-.94 2.06-2.06.94z\"/><path d=\"M17.41 7.96l-1.37-1.37c-.4-.4-.92-.59-1.43-.59-.52 0-1.04.2-1.43.59L10.3 9.45l-7.72 7.72c-.78.78-.78 2.05 0 2.83L4 21.41c.39.39.9.59 1.41.59.51 0 1.02-.2 1.41-.59l7.78-7.78 2.81-2.81c.8-.78.8-2.07 0-2.86zM5.41 20L4 18.59l7.72-7.72 1.47 1.35L5.41 20z\"/>\n",
              "  </svg>\n",
              "      </button>\n",
              "      \n",
              "  <style>\n",
              "    .colab-df-container {\n",
              "      display:flex;\n",
              "      flex-wrap:wrap;\n",
              "      gap: 12px;\n",
              "    }\n",
              "\n",
              "    .colab-df-convert {\n",
              "      background-color: #E8F0FE;\n",
              "      border: none;\n",
              "      border-radius: 50%;\n",
              "      cursor: pointer;\n",
              "      display: none;\n",
              "      fill: #1967D2;\n",
              "      height: 32px;\n",
              "      padding: 0 0 0 0;\n",
              "      width: 32px;\n",
              "    }\n",
              "\n",
              "    .colab-df-convert:hover {\n",
              "      background-color: #E2EBFA;\n",
              "      box-shadow: 0px 1px 2px rgba(60, 64, 67, 0.3), 0px 1px 3px 1px rgba(60, 64, 67, 0.15);\n",
              "      fill: #174EA6;\n",
              "    }\n",
              "\n",
              "    [theme=dark] .colab-df-convert {\n",
              "      background-color: #3B4455;\n",
              "      fill: #D2E3FC;\n",
              "    }\n",
              "\n",
              "    [theme=dark] .colab-df-convert:hover {\n",
              "      background-color: #434B5C;\n",
              "      box-shadow: 0px 1px 3px 1px rgba(0, 0, 0, 0.15);\n",
              "      filter: drop-shadow(0px 1px 2px rgba(0, 0, 0, 0.3));\n",
              "      fill: #FFFFFF;\n",
              "    }\n",
              "  </style>\n",
              "\n",
              "      <script>\n",
              "        const buttonEl =\n",
              "          document.querySelector('#df-524b96dc-5dd0-48f7-a8dc-b2d2abca5ada button.colab-df-convert');\n",
              "        buttonEl.style.display =\n",
              "          google.colab.kernel.accessAllowed ? 'block' : 'none';\n",
              "\n",
              "        async function convertToInteractive(key) {\n",
              "          const element = document.querySelector('#df-524b96dc-5dd0-48f7-a8dc-b2d2abca5ada');\n",
              "          const dataTable =\n",
              "            await google.colab.kernel.invokeFunction('convertToInteractive',\n",
              "                                                     [key], {});\n",
              "          if (!dataTable) return;\n",
              "\n",
              "          const docLinkHtml = 'Like what you see? Visit the ' +\n",
              "            '<a target=\"_blank\" href=https://colab.research.google.com/notebooks/data_table.ipynb>data table notebook</a>'\n",
              "            + ' to learn more about interactive tables.';\n",
              "          element.innerHTML = '';\n",
              "          dataTable['output_type'] = 'display_data';\n",
              "          await google.colab.output.renderOutput(dataTable, element);\n",
              "          const docLink = document.createElement('div');\n",
              "          docLink.innerHTML = docLinkHtml;\n",
              "          element.appendChild(docLink);\n",
              "        }\n",
              "      </script>\n",
              "    </div>\n",
              "  </div>\n",
              "  "
            ]
          },
          "metadata": {},
          "execution_count": 694
        }
      ]
    },
    {
      "cell_type": "markdown",
      "source": [
        "#Remove columns that are not needed"
      ],
      "metadata": {
        "id": "rWOYETUIlysX"
      }
    },
    {
      "cell_type": "code",
      "source": [
        "valDf=valDf.drop(['added_on','last_updated','present_status','property_url','address','area'],axis=1)"
      ],
      "metadata": {
        "id": "7wQzIIkTlyAy"
      },
      "execution_count": 695,
      "outputs": []
    },
    {
      "cell_type": "markdown",
      "source": [
        "#Looking up unique values of the field to see if there are any null or junk values"
      ],
      "metadata": {
        "id": "nMhSx6c5nkWF"
      }
    },
    {
      "cell_type": "code",
      "source": [
        "valDf.info()"
      ],
      "metadata": {
        "colab": {
          "base_uri": "https://localhost:8080/"
        },
        "id": "0_Qv0EU7mQ-J",
        "outputId": "ca0f156f-a0c4-4160-983e-48d47468a943"
      },
      "execution_count": 696,
      "outputs": [
        {
          "output_type": "stream",
          "name": "stdout",
          "text": [
            "<class 'pandas.core.frame.DataFrame'>\n",
            "RangeIndex: 555 entries, 0 to 554\n",
            "Data columns (total 21 columns):\n",
            " #   Column           Non-Null Count  Dtype \n",
            "---  ------           --------------  ----- \n",
            " 0   details          555 non-null    object\n",
            " 1   fire_exit        249 non-null    object\n",
            " 2   generator        505 non-null    object\n",
            " 3   gym              58 non-null     object\n",
            " 4   lift             294 non-null    object\n",
            " 5   offered_floor    491 non-null    object\n",
            " 6   parking          396 non-null    object\n",
            " 7   price            555 non-null    object\n",
            " 8   BUILDING_NATURE  555 non-null    object\n",
            " 9   property_id      555 non-null    int64 \n",
            " 10  AREA             555 non-null    int64 \n",
            " 11  BUILDING_TYPE    555 non-null    object\n",
            " 12  PURPOSE          555 non-null    object\n",
            " 13  rooftop_garden   201 non-null    object\n",
            " 14  swimming_pool    31 non-null     object\n",
            " 15  title            555 non-null    object\n",
            " 16  total_bathrooms  406 non-null    object\n",
            " 17  DISTRICT         555 non-null    object\n",
            " 18  CITY             555 non-null    object\n",
            " 19  OTHERZONEAREA    555 non-null    object\n",
            " 20  COUNTRY          555 non-null    object\n",
            "dtypes: int64(2), object(19)\n",
            "memory usage: 91.2+ KB\n"
          ]
        }
      ]
    },
    {
      "cell_type": "code",
      "source": [
        "valDf['rooftop_garden'].unique()"
      ],
      "metadata": {
        "colab": {
          "base_uri": "https://localhost:8080/"
        },
        "id": "tfKl3vC3neF9",
        "outputId": "14f3b022-6da2-48bc-9d0a-21463995f9ff"
      },
      "execution_count": 697,
      "outputs": [
        {
          "output_type": "execute_result",
          "data": {
            "text/plain": [
              "array([nan, 'Yes'], dtype=object)"
            ]
          },
          "metadata": {},
          "execution_count": 697
        }
      ]
    },
    {
      "cell_type": "code",
      "source": [
        "valDf['swimming_pool'].unique()"
      ],
      "metadata": {
        "colab": {
          "base_uri": "https://localhost:8080/"
        },
        "id": "p40G02O1no1Z",
        "outputId": "951f684d-edd5-4659-d114-91a22daeda42"
      },
      "execution_count": 698,
      "outputs": [
        {
          "output_type": "execute_result",
          "data": {
            "text/plain": [
              "array([nan, 'Yes'], dtype=object)"
            ]
          },
          "metadata": {},
          "execution_count": 698
        }
      ]
    },
    {
      "cell_type": "code",
      "source": [
        "valDf['total_bathrooms'].unique()"
      ],
      "metadata": {
        "colab": {
          "base_uri": "https://localhost:8080/"
        },
        "id": "FTPgsgpHnsjG",
        "outputId": "70020f80-eb2f-419c-808e-a7762a489c99"
      },
      "execution_count": 699,
      "outputs": [
        {
          "output_type": "execute_result",
          "data": {
            "text/plain": [
              "array(['3', nan, '1', '10', '4', '2', '9', '6', '5', '7', '20+', '19',\n",
              "       '15', '12', '17', '20', '18'], dtype=object)"
            ]
          },
          "metadata": {},
          "execution_count": 699
        }
      ]
    },
    {
      "cell_type": "code",
      "source": [
        "valDf['DISTRICT'].unique()"
      ],
      "metadata": {
        "colab": {
          "base_uri": "https://localhost:8080/"
        },
        "id": "JdlLHdeInwHU",
        "outputId": "44c73f83-bbc6-47da-d3c1-8b81da3311e6"
      },
      "execution_count": 700,
      "outputs": [
        {
          "output_type": "execute_result",
          "data": {
            "text/plain": [
              "array(['Mirpur', 'Gulshan Avenue', 'Bashundhara Residential Area',\n",
              "       'Motijheel', 'Uttara', 'Gulshan', 'Baridhara', 'Savar',\n",
              "       'Sonargoan', 'Keraniganj', 'Ashulia', 'Banani',\n",
              "       'Dhaka City Bypass.', 'Khilgaon', 'Joydebpur',\n",
              "       'Purbachal New Town', 'Lalmatia', 'Tarabo', 'Sirajganj', 'Gazipur',\n",
              "       'Rupganj', 'Mohakhali', 'Bayazid Bostami Road',\n",
              "       'Purbachal American City', 'Tejgaon', 'Shewrapara', 'Nikunja',\n",
              "       'Tongi', 'Khilkhet', 'Pubail', 'Bhaluka', 'Farmgate', 'Narsingdi',\n",
              "       'Gulshan One', 'Gulistan', 'Paribagh', 'Jatrabari', 'Adabar',\n",
              "       'Dhaka Cantonment', 'Pallabi', 'Rangpur City Corporation',\n",
              "       'Shyamoli', 'Kawran Bazar', 'Shanti Nagar', 'Uttar Khan',\n",
              "       'Aftab Nagar', 'Niketan', 'Dhanmondi', 'Badda', 'Manikganj',\n",
              "       'Demra', 'Rampura', 'Shitakunda', 'Dhaka Chittagong Highway',\n",
              "       'Mohammadpur', 'Moulvibazar', 'Valuka', 'Baily Road',\n",
              "       'Faridpur City', 'Netrokona', 'Sreepur', 'Boshila', 'Ghorashal',\n",
              "       'Madhabadi', 'Chapai Nawabganj', 'Satkhira', 'Narayanganj',\n",
              "       'Mawna Chowrasta', 'Banasree', 'Mirpur DOHS', 'Araihazar',\n",
              "       'Ulukhola Road', 'Uposhohor', 'Kallyanpur', 'Dinajpur',\n",
              "       'Baridhara DOHS', 'Comilla', 'Baipayl', 'Shiddheswari',\n",
              "       'West Khulshi', 'Faujdarhat', 'Naya Paltan', 'Kona Bari', 'Zirabo',\n",
              "       'Shukrabad', 'Elephant Rd', 'Dhaka City Bypass', 'Segun Bagicha',\n",
              "       'Choto Bazar Rd', 'Subid Bazar', 'Malibagh',\n",
              "       'Kazi Nazrul Islam Ave', 'Mirsharai', 'Sokipur', 'Bogura Disttric',\n",
              "       'Baridhara J Block', 'Kalurghat', 'Kemal Ataturk Avenue', 'Kuril'],\n",
              "      dtype=object)"
            ]
          },
          "metadata": {},
          "execution_count": 700
        }
      ]
    },
    {
      "cell_type": "code",
      "source": [
        "valDf['CITY'].unique()"
      ],
      "metadata": {
        "colab": {
          "base_uri": "https://localhost:8080/"
        },
        "id": "XABIehcbnzIY",
        "outputId": "ce0a9cf9-26db-4fe6-f776-8305b465059e"
      },
      "execution_count": 701,
      "outputs": [
        {
          "output_type": "execute_result",
          "data": {
            "text/plain": [
              "array([' Dhaka', ' Narayanganj', ' Gazipur', ' Rupganj', ' Rajshahi',\n",
              "       ' Chittagong', ' Kaliganj', ' Mymensingh', ' Rangpur', ' Sylhet',\n",
              "       ' Narsingdi.', ' Khulna', ' Savar.'], dtype=object)"
            ]
          },
          "metadata": {},
          "execution_count": 701
        }
      ]
    },
    {
      "cell_type": "code",
      "source": [
        "valDf['price'].unique()"
      ],
      "metadata": {
        "colab": {
          "base_uri": "https://localhost:8080/"
        },
        "id": "VNL2jPuOna6D",
        "outputId": "c4b2ef8e-a19d-43e8-eaa1-7614d7a1fef9"
      },
      "execution_count": 702,
      "outputs": [
        {
          "output_type": "execute_result",
          "data": {
            "text/plain": [
              "array(['1.00 BDT', '160.00 BDT', '36000.00 BDT', '1050000.00 BDT',\n",
              "       '500000.00 BDT', '4000000.00 BDT', '48000.00 BDT', '170000.00 BDT',\n",
              "       '430000000.00 BDT', '150000.00 BDT', '4250000.00 BDT',\n",
              "       '600000000.00 BDT', '3500.00 BDT', '25000.00 BDT', '88.00 BDT',\n",
              "       '5000.00 BDT', '800000.00 BDT', '285000000.00 BDT', '60.00 BDT',\n",
              "       '110000000.00 BDT', '200000000.00 BDT', '1125000.00 BDT',\n",
              "       '400000000.00 BDT', '15000000.00 BDT', '62000000.00 BDT',\n",
              "       '2000000.00 BDT', '180000000.00 BDT', '6000000.00 BDT',\n",
              "       '230000.00 BDT', '35000.00 BDT', '34999.00 BDT', '275000.00 BDT',\n",
              "       '85000.00 BDT', '0.00 BDT', '120.00 BDT', '2017500.00 BDT',\n",
              "       '4600.00 BDT', '900000000.00 BDT', '28000000.00 BDT',\n",
              "       '11000000.00 BDT', '60000000.00 BDT', '1000000.00 BDT',\n",
              "       '65000000.00 BDT', '75000000.00 BDT', '180000.00 BDT',\n",
              "       '35000000.00 BDT', '7500000.00 BDT', '300000.00 BDT',\n",
              "       '110000.00 BDT', '55000.00 BDT', '770000.00 BDT', '28.00 BDT',\n",
              "       '140.00 BDT', '45000000.00 BDT', '61500000.00 BDT',\n",
              "       '57000000.00 BDT', '3500000.00 BDT', '14175000.00 BDT',\n",
              "       '2050000000.00 BDT', '1344000000.00 BDT', '10000.00 BDT',\n",
              "       '22000000.00 BDT', '280000.00 BDT', '415500.00 BDT',\n",
              "       '1600000.00 BDT', '215000.00 BDT', '130.00 BDT', '70000.00 BDT',\n",
              "       '345000000.00 BDT', '331870.00 BDT', '25000000.00 BDT',\n",
              "       '16000000.00 BDT', '42000000.00 BDT', '12000000.00 BDT',\n",
              "       '8500.00 BDT', '145000000.00 BDT', '1300000.00 BDT',\n",
              "       '435000.00 BDT', '1470000.00 BDT', '600000.00 BDT',\n",
              "       '255000000.00 BDT', '7750.00 BDT', '13000000.00 BDT',\n",
              "       '800000000.00 BDT', '13500000.00 BDT', '85000000.00 BDT',\n",
              "       '2700000.00 BDT', '21000000.00 BDT', '75000.00 BDT',\n",
              "       '735000.00 BDT', '1650000.00 BDT', '220000.00 BDT',\n",
              "       '140000.00 BDT', '100000000.00 BDT', '55000000.00 BDT',\n",
              "       '4500000.00 BDT', '80000.00 BDT', '4000.00 BDT', '1000123.00 BDT',\n",
              "       '8600000.00 BDT', '352000.00 BDT', '250000.00 BDT',\n",
              "       '2400000.00 BDT', '204000000.00 BDT', '84000000.00 BDT',\n",
              "       '175000000.00 BDT', '33000000.00 BDT', '1400000.00 BDT',\n",
              "       '120000000.00 BDT', '430200000.00 BDT', '12250000.00 BDT',\n",
              "       '1700000.00 BDT', '11500000.00 BDT', '67200000.00 BDT',\n",
              "       '27500000.00 BDT', '10500000.00 BDT', '21500000.00 BDT',\n",
              "       '137500000.00 BDT', '120250000.00 BDT', '232500000.00 BDT',\n",
              "       '80000000.00 BDT', '275000000.00 BDT', '5000000.00 BDT',\n",
              "       '192000.00 BDT', '480000.00 BDT', '450000.00 BDT',\n",
              "       '91690000.00 BDT', '34000000.00 BDT', '7000000.00 BDT',\n",
              "       '32500000.00 BDT', '17500000.00 BDT', '456000000.00 BDT',\n",
              "       '36000000.00 BDT', '40000000.00 BDT', '90000.00 BDT',\n",
              "       '270000.00 BDT', '140000000.00 BDT', '1120000.00 BDT',\n",
              "       '360000.00 BDT', '1380000.00 BDT', '8280000.00 BDT',\n",
              "       '45000.00 BDT', '105000000.00 BDT', '30000000.00 BDT',\n",
              "       '5200.00 BDT', '100.00 BDT', '300000000.00 BDT', '260000.00 BDT',\n",
              "       '280000000.00 BDT', '17000000.00 BDT', '14000000.00 BDT',\n",
              "       '2800000.00 BDT', '4800000.00 BDT', '95000000.00 BDT',\n",
              "       '185000000.00 BDT', '350000.00 BDT', '734400.00 BDT',\n",
              "       '65000.00 BDT', '7800000.00 BDT', '350000000.00 BDT',\n",
              "       '89000000.00 BDT', '5700.00 BDT', '4200.00 BDT', '9000.00 BDT',\n",
              "       '8500000.00 BDT', '200000.00 BDT', '120000.00 BDT',\n",
              "       '400000.00 BDT', '650000.00 BDT', '51000000.00 BDT',\n",
              "       '135000000.00 BDT', '9800000.00 BDT', '162000000.00 BDT',\n",
              "       '68000.00 BDT', '972000.00 BDT', '1124000.00 BDT', '840000.00 BDT',\n",
              "       '47500000.00 BDT', '306000.00 BDT', '32000000.00 BDT',\n",
              "       '26500000.00 BDT', '27000000.00 BDT', '315000.00 BDT',\n",
              "       '127500.00 BDT', '100000.00 BDT', '728000.00 BDT', '960000.00 BDT',\n",
              "       '188800.00 BDT', '16000.00 BDT', '12000.00 BDT', '640000.00 BDT',\n",
              "       '440000.00 BDT', '19000.00 BDT', '30000.00 BDT', '850000.00 BDT',\n",
              "       '50000.00 BDT', '330000.00 BDT', '240000.00 BDT', '11000.00 BDT',\n",
              "       '580000.00 BDT', '1500000.00 BDT', '1000.00 BDT', '780000.00 BDT',\n",
              "       '60000.00 BDT', '20000000.00 BDT', '320000000.00 BDT',\n",
              "       '23000.00 BDT', '1250000.00 BDT', '2560000.00 BDT',\n",
              "       '750000.00 BDT', '190000.00 BDT', '325000.00 BDT', '444450.00 BDT',\n",
              "       '2100000.00 BDT', '1200000.00 BDT', '1920000.00 BDT',\n",
              "       '990000.00 BDT', '1882800.00 BDT', '115000.00 BDT',\n",
              "       '810000.00 BDT', '420000.00 BDT', '7300.00 BDT',\n",
              "       '296000000.00 BDT', '320000.00 BDT', '1100000.00 BDT',\n",
              "       '3912000.00 BDT', '160000.00 BDT', '385000.00 BDT',\n",
              "       '856000.00 BDT', '145000.00 BDT', '125000.00 BDT', '265000.00 BDT',\n",
              "       '1350000.00 BDT', '460000.00 BDT', '5800.00 BDT', '5900000.00 BDT',\n",
              "       '1072500.00 BDT', '1800000.00 BDT', '70000000.00 BDT',\n",
              "       '496000.00 BDT', '157500000.00 BDT', '130000.00 BDT',\n",
              "       '2250000.00 BDT', '424000.00 BDT', '14000.00 BDT', '31000.00 BDT',\n",
              "       '1490000.00 BDT', '7500.00 BDT', '550000.00 BDT', '335000.00 BDT',\n",
              "       '515000.00 BDT', '330610.00 BDT', '24000.00 BDT', '316500.00 BDT',\n",
              "       '900000.00 BDT', '365000000.00 BDT', '1270000.00 BDT',\n",
              "       '2620125.00 BDT', '1150000.00 BDT', '135000.00 BDT',\n",
              "       '175000.00 BDT', '430000.00 BDT', '1450000.00 BDT',\n",
              "       '5500000.00 BDT', '1275000.00 BDT', '1210000.00 BDT',\n",
              "       '1020000.00 BDT'], dtype=object)"
            ]
          },
          "metadata": {},
          "execution_count": 702
        }
      ]
    },
    {
      "cell_type": "code",
      "source": [
        "valDf['AREA'].unique()"
      ],
      "metadata": {
        "colab": {
          "base_uri": "https://localhost:8080/"
        },
        "id": "uT0rScDrmLtd",
        "outputId": "a3f62546-0017-45f0-e903-9b4189ae28c3"
      },
      "execution_count": 703,
      "outputs": [
        {
          "output_type": "execute_result",
          "data": {
            "text/plain": [
              "array([   1200,    2500,     375,    7000,    9000,   25000,    4600,\n",
              "           800,    3200,    4000,    5400,       5,      20,    1550,\n",
              "          2800,      16,     948,       8,      15,    1400,       4,\n",
              "            10,    6500,    1089,  144000,   41000,   30000,   40510,\n",
              "           150,    3000,       1,    6000,   11000,    3100,   93500,\n",
              "          3017,    1345,   10500,  288000,    2160,    2100,   86400,\n",
              "         43200,      11,   14400,      25,       3,      12,    8000,\n",
              "           875,   22000,   16000,    7400,   36000,      52,   27500,\n",
              "       1180800,  604800,   39600,     750,   14000,    3750,   17000,\n",
              "          1650,    1800,  331200,    2200,       2,    1500,    1600,\n",
              "        108000,    4200,     420,    4100,  148363,    6336,     166,\n",
              "          2000,    1300,       9,   21000,   15000,    1662,    1000,\n",
              "         47520,    1050,    2818,      59,    1140,    1700,   10000,\n",
              "        244800,    1250,  100800,   93600,    4900,    7200,  417600,\n",
              "          3500,     490,   28800,   20880,    1750,   79200,    8075,\n",
              "          2950,  216000,   72000,   66960,   50400,   95000,   90000,\n",
              "         32000,   40000,   44000,    3285,  720000,   20000,   18000,\n",
              "       1094400,    2400,   28000,   56000,   11500,    1380,     600,\n",
              "             6,   59677,    1228,  102000,      14,      50,    1450,\n",
              "          1310,  132000,     700,    3685,    3450,    4500,    1430,\n",
              "            90,    3600,   52272,    1100,    1565,    5500,   38000,\n",
              "          3085,      27,    7500,      36,  110000,     200,   60000,\n",
              "         54000,   70250,   42000,    3400,    2300,    2750,   48600,\n",
              "         35000,    8500,    2600,    2360,    5000,     180,    1535,\n",
              "         65000,    2450,    3228,     174,  100000,    2550,   52000,\n",
              "            28,  576000,    1150,   82500,   50000,  128000,   24000,\n",
              "         13500,    2860,    2963,    8250,   10460,    1395,  200000,\n",
              "          2250,      37,   74000,   75000,  195600,   10700,    1060,\n",
              "          4250,    5200,    3800,  432000,    1467,      23,      60,\n",
              "          6200,    2656,       0,   22500,    1599,   26500,    2262,\n",
              "           813,    2359,      51,    1620,    1185,    2650,    3686,\n",
              "          2070,    1900,    4723,   85000,     127,  115000,   15825,\n",
              "            13,   12000,   31000,    3700,    7470,   30825,    5399,\n",
              "          7498,   19000,    2997,   15090,    2900,    6300,    5150])"
            ]
          },
          "metadata": {},
          "execution_count": 703
        }
      ]
    },
    {
      "cell_type": "code",
      "source": [
        "valDf['fire_exit'].unique()"
      ],
      "metadata": {
        "colab": {
          "base_uri": "https://localhost:8080/"
        },
        "id": "s7DaRj1PmLbe",
        "outputId": "1a0293cb-03fa-4cef-8c2b-be70c7e37193"
      },
      "execution_count": 704,
      "outputs": [
        {
          "output_type": "execute_result",
          "data": {
            "text/plain": [
              "array([nan, 'Yes'], dtype=object)"
            ]
          },
          "metadata": {},
          "execution_count": 704
        }
      ]
    },
    {
      "cell_type": "code",
      "source": [
        "valDf['generator'].unique()"
      ],
      "metadata": {
        "colab": {
          "base_uri": "https://localhost:8080/"
        },
        "id": "Tt8ZLMTAmLP6",
        "outputId": "b01d9800-22aa-4f39-c401-05d66426ad4b"
      },
      "execution_count": 705,
      "outputs": [
        {
          "output_type": "execute_result",
          "data": {
            "text/plain": [
              "array([nan, 'Full Backup', 'No', 'Partial'], dtype=object)"
            ]
          },
          "metadata": {},
          "execution_count": 705
        }
      ]
    },
    {
      "cell_type": "code",
      "source": [
        "valDf['gym'].unique()"
      ],
      "metadata": {
        "colab": {
          "base_uri": "https://localhost:8080/"
        },
        "id": "IiepzrNSmLDv",
        "outputId": "5b99db27-c732-4db4-98dd-14a189c0d0c3"
      },
      "execution_count": 706,
      "outputs": [
        {
          "output_type": "execute_result",
          "data": {
            "text/plain": [
              "array([nan, 'Yes'], dtype=object)"
            ]
          },
          "metadata": {},
          "execution_count": 706
        }
      ]
    },
    {
      "cell_type": "code",
      "source": [
        "valDf['lift'].unique()"
      ],
      "metadata": {
        "colab": {
          "base_uri": "https://localhost:8080/"
        },
        "id": "8VhCRI2DmK3T",
        "outputId": "9b7eca11-7719-47e2-8a0f-ab420b32f206"
      },
      "execution_count": 707,
      "outputs": [
        {
          "output_type": "execute_result",
          "data": {
            "text/plain": [
              "array([nan, 'Yes'], dtype=object)"
            ]
          },
          "metadata": {},
          "execution_count": 707
        }
      ]
    },
    {
      "cell_type": "code",
      "source": [
        "valDf['offered_floor'].unique()"
      ],
      "metadata": {
        "colab": {
          "base_uri": "https://localhost:8080/"
        },
        "id": "BAXV4kZ5mKcc",
        "outputId": "3c26a5e1-b51a-4f72-8ec1-ab4ded360eee"
      },
      "execution_count": 708,
      "outputs": [
        {
          "output_type": "execute_result",
          "data": {
            "text/plain": [
              "array(['5', '4', '7', '1', nan, '3', '9', '2', '6', '18', '19', '11',\n",
              "       '17', '10', '30+', '16', '12', '15', '13'], dtype=object)"
            ]
          },
          "metadata": {},
          "execution_count": 708
        }
      ]
    },
    {
      "cell_type": "code",
      "source": [
        "valDf['parking'].unique()"
      ],
      "metadata": {
        "colab": {
          "base_uri": "https://localhost:8080/"
        },
        "id": "sQkWYp5tnU2v",
        "outputId": "29904693-4c44-4a96-d98d-b155c8e366dc"
      },
      "execution_count": 709,
      "outputs": [
        {
          "output_type": "execute_result",
          "data": {
            "text/plain": [
              "array([nan, '2 Slot', '1 Slot', '4 Slot', '20 Slot', '5 Slot', '7 Slot',\n",
              "       '3 Slot', '6 Slot', 'N/A Slot', '8 Slot', '১ Slot', '10+ Slot',\n",
              "       '10 Slot', '50 Slot', '28 Slot',\n",
              "       '2 level of basement Parking Slot', '14 Slot', '12 Slot',\n",
              "       '20+ Slot', '5/7 Slot', '1216 Slot', '37 Slot'], dtype=object)"
            ]
          },
          "metadata": {},
          "execution_count": 709
        }
      ]
    },
    {
      "cell_type": "code",
      "source": [
        "valDf['BUILDING_NATURE'].unique()"
      ],
      "metadata": {
        "colab": {
          "base_uri": "https://localhost:8080/"
        },
        "id": "qv1G2Rxnc3rS",
        "outputId": "b2b653fb-e3c3-445c-cffe-70fa9befc7ed"
      },
      "execution_count": 710,
      "outputs": [
        {
          "output_type": "execute_result",
          "data": {
            "text/plain": [
              "array(['Residential', 'Commercial', 'Land', 'None'], dtype=object)"
            ]
          },
          "metadata": {},
          "execution_count": 710
        }
      ]
    },
    {
      "cell_type": "code",
      "source": [
        "valDf['BUILDING_TYPE'].unique()"
      ],
      "metadata": {
        "colab": {
          "base_uri": "https://localhost:8080/"
        },
        "id": "VAY4Lo0klxXn",
        "outputId": "b8488f7a-ea58-4214-e44e-1fa7490f3698"
      },
      "execution_count": 711,
      "outputs": [
        {
          "output_type": "execute_result",
          "data": {
            "text/plain": [
              "array(['Apartment', 'Office Space', 'Service Apartment', 'Office',\n",
              "       'Factory Shade', 'Commercial Plot', 'Commercial Building',\n",
              "       'Industrial Plot', 'Ready Flat', 'Plot', 'Building', 'House',\n",
              "       'Open Field', 'Factory Land', 'High Land', 'Factory Building',\n",
              "       'Factory Sale', 'Apartment Office', 'Warehouse',\n",
              "       'Building For Office', 'Furnished', 'Floor', 'Land with building',\n",
              "       'Office Building', 'Brand New Apartment', 'Show-room',\n",
              "       'Duplex House', 'None', 'Resorts / Banglobari', 'Duplex Apartment',\n",
              "       'Open Floor', 'Semi Commercial Apartment'], dtype=object)"
            ]
          },
          "metadata": {},
          "execution_count": 711
        }
      ]
    },
    {
      "cell_type": "code",
      "source": [
        "valDf['PURPOSE'].unique()"
      ],
      "metadata": {
        "colab": {
          "base_uri": "https://localhost:8080/"
        },
        "id": "IlId5zwfl91B",
        "outputId": "32c5320d-0fe0-4728-dbac-5a39a76600f0"
      },
      "execution_count": 712,
      "outputs": [
        {
          "output_type": "execute_result",
          "data": {
            "text/plain": [
              "array(['Sale', 'Rent'], dtype=object)"
            ]
          },
          "metadata": {},
          "execution_count": 712
        }
      ]
    },
    {
      "cell_type": "code",
      "source": [
        "valDf.info()"
      ],
      "metadata": {
        "colab": {
          "base_uri": "https://localhost:8080/"
        },
        "id": "F_vZ0ToOmMSS",
        "outputId": "e56d6267-6497-43c6-8316-79c9d1146655"
      },
      "execution_count": 713,
      "outputs": [
        {
          "output_type": "stream",
          "name": "stdout",
          "text": [
            "<class 'pandas.core.frame.DataFrame'>\n",
            "RangeIndex: 555 entries, 0 to 554\n",
            "Data columns (total 21 columns):\n",
            " #   Column           Non-Null Count  Dtype \n",
            "---  ------           --------------  ----- \n",
            " 0   details          555 non-null    object\n",
            " 1   fire_exit        249 non-null    object\n",
            " 2   generator        505 non-null    object\n",
            " 3   gym              58 non-null     object\n",
            " 4   lift             294 non-null    object\n",
            " 5   offered_floor    491 non-null    object\n",
            " 6   parking          396 non-null    object\n",
            " 7   price            555 non-null    object\n",
            " 8   BUILDING_NATURE  555 non-null    object\n",
            " 9   property_id      555 non-null    int64 \n",
            " 10  AREA             555 non-null    int64 \n",
            " 11  BUILDING_TYPE    555 non-null    object\n",
            " 12  PURPOSE          555 non-null    object\n",
            " 13  rooftop_garden   201 non-null    object\n",
            " 14  swimming_pool    31 non-null     object\n",
            " 15  title            555 non-null    object\n",
            " 16  total_bathrooms  406 non-null    object\n",
            " 17  DISTRICT         555 non-null    object\n",
            " 18  CITY             555 non-null    object\n",
            " 19  OTHERZONEAREA    555 non-null    object\n",
            " 20  COUNTRY          555 non-null    object\n",
            "dtypes: int64(2), object(19)\n",
            "memory usage: 91.2+ KB\n"
          ]
        }
      ]
    },
    {
      "cell_type": "markdown",
      "source": [
        "#Cleaning\n",
        "###nan values\n",
        "###remove unit BDT from price\n",
        "###remove Slot from parking\n",
        "###data types for numeric fields\n"
      ],
      "metadata": {
        "id": "NwGi6BTzmK73"
      }
    },
    {
      "cell_type": "markdown",
      "source": [
        "##Fill NaN values"
      ],
      "metadata": {
        "id": "hPF-Sk9RtJl0"
      }
    },
    {
      "cell_type": "code",
      "source": [
        "valDf = valDf.replace(np.nan, '', regex=True)\n",
        "valDf.head(2)"
      ],
      "metadata": {
        "id": "SAQq5YJof2CH",
        "colab": {
          "base_uri": "https://localhost:8080/",
          "height": 431
        },
        "outputId": "5d311904-091b-407d-b9ea-5d4f1468fe40"
      },
      "execution_count": 714,
      "outputs": [
        {
          "output_type": "execute_result",
          "data": {
            "text/plain": [
              "                                             details fire_exit generator gym  \\\n",
              "0  Flat sale\\nReady Flat 1000 / 1200 / 1400 Squar...                           \n",
              "1  Gulshan avenue is the most expensive and sough...       Yes                 \n",
              "\n",
              "  lift offered_floor parking       price BUILDING_NATURE  property_id  ...  \\\n",
              "0                  5            1.00 BDT     Residential          864  ...   \n",
              "1  Yes             5  2 Slot  160.00 BDT      Commercial          875  ...   \n",
              "\n",
              "   BUILDING_TYPE PURPOSE rooftop_garden swimming_pool  \\\n",
              "0      Apartment    Sale                                \n",
              "1   Office Space    Rent            Yes                 \n",
              "\n",
              "                                               title total_bathrooms  \\\n",
              "0  Ready Flat 1000 / 1200 / 1400 Square Feet Flat...               3   \n",
              "1   2500 sft office space for rent in Gulshan Avenue                   \n",
              "\n",
              "         DISTRICT    CITY         OTHERZONEAREA     COUNTRY  \n",
              "0          Mirpur   Dhaka   Mirpur 60 fit road.  Bangladesh  \n",
              "1  Gulshan Avenue   Dhaka        Gulshan Avenue  Bangladesh  \n",
              "\n",
              "[2 rows x 21 columns]"
            ],
            "text/html": [
              "\n",
              "  <div id=\"df-4153fff3-da1d-438b-ab8d-eb3008c21402\">\n",
              "    <div class=\"colab-df-container\">\n",
              "      <div>\n",
              "<style scoped>\n",
              "    .dataframe tbody tr th:only-of-type {\n",
              "        vertical-align: middle;\n",
              "    }\n",
              "\n",
              "    .dataframe tbody tr th {\n",
              "        vertical-align: top;\n",
              "    }\n",
              "\n",
              "    .dataframe thead th {\n",
              "        text-align: right;\n",
              "    }\n",
              "</style>\n",
              "<table border=\"1\" class=\"dataframe\">\n",
              "  <thead>\n",
              "    <tr style=\"text-align: right;\">\n",
              "      <th></th>\n",
              "      <th>details</th>\n",
              "      <th>fire_exit</th>\n",
              "      <th>generator</th>\n",
              "      <th>gym</th>\n",
              "      <th>lift</th>\n",
              "      <th>offered_floor</th>\n",
              "      <th>parking</th>\n",
              "      <th>price</th>\n",
              "      <th>BUILDING_NATURE</th>\n",
              "      <th>property_id</th>\n",
              "      <th>...</th>\n",
              "      <th>BUILDING_TYPE</th>\n",
              "      <th>PURPOSE</th>\n",
              "      <th>rooftop_garden</th>\n",
              "      <th>swimming_pool</th>\n",
              "      <th>title</th>\n",
              "      <th>total_bathrooms</th>\n",
              "      <th>DISTRICT</th>\n",
              "      <th>CITY</th>\n",
              "      <th>OTHERZONEAREA</th>\n",
              "      <th>COUNTRY</th>\n",
              "    </tr>\n",
              "  </thead>\n",
              "  <tbody>\n",
              "    <tr>\n",
              "      <th>0</th>\n",
              "      <td>Flat sale\\nReady Flat 1000 / 1200 / 1400 Squar...</td>\n",
              "      <td></td>\n",
              "      <td></td>\n",
              "      <td></td>\n",
              "      <td></td>\n",
              "      <td>5</td>\n",
              "      <td></td>\n",
              "      <td>1.00 BDT</td>\n",
              "      <td>Residential</td>\n",
              "      <td>864</td>\n",
              "      <td>...</td>\n",
              "      <td>Apartment</td>\n",
              "      <td>Sale</td>\n",
              "      <td></td>\n",
              "      <td></td>\n",
              "      <td>Ready Flat 1000 / 1200 / 1400 Square Feet Flat...</td>\n",
              "      <td>3</td>\n",
              "      <td>Mirpur</td>\n",
              "      <td>Dhaka</td>\n",
              "      <td>Mirpur 60 fit road.</td>\n",
              "      <td>Bangladesh</td>\n",
              "    </tr>\n",
              "    <tr>\n",
              "      <th>1</th>\n",
              "      <td>Gulshan avenue is the most expensive and sough...</td>\n",
              "      <td>Yes</td>\n",
              "      <td></td>\n",
              "      <td></td>\n",
              "      <td>Yes</td>\n",
              "      <td>5</td>\n",
              "      <td>2 Slot</td>\n",
              "      <td>160.00 BDT</td>\n",
              "      <td>Commercial</td>\n",
              "      <td>875</td>\n",
              "      <td>...</td>\n",
              "      <td>Office Space</td>\n",
              "      <td>Rent</td>\n",
              "      <td>Yes</td>\n",
              "      <td></td>\n",
              "      <td>2500 sft office space for rent in Gulshan Avenue</td>\n",
              "      <td></td>\n",
              "      <td>Gulshan Avenue</td>\n",
              "      <td>Dhaka</td>\n",
              "      <td>Gulshan Avenue</td>\n",
              "      <td>Bangladesh</td>\n",
              "    </tr>\n",
              "  </tbody>\n",
              "</table>\n",
              "<p>2 rows × 21 columns</p>\n",
              "</div>\n",
              "      <button class=\"colab-df-convert\" onclick=\"convertToInteractive('df-4153fff3-da1d-438b-ab8d-eb3008c21402')\"\n",
              "              title=\"Convert this dataframe to an interactive table.\"\n",
              "              style=\"display:none;\">\n",
              "        \n",
              "  <svg xmlns=\"http://www.w3.org/2000/svg\" height=\"24px\"viewBox=\"0 0 24 24\"\n",
              "       width=\"24px\">\n",
              "    <path d=\"M0 0h24v24H0V0z\" fill=\"none\"/>\n",
              "    <path d=\"M18.56 5.44l.94 2.06.94-2.06 2.06-.94-2.06-.94-.94-2.06-.94 2.06-2.06.94zm-11 1L8.5 8.5l.94-2.06 2.06-.94-2.06-.94L8.5 2.5l-.94 2.06-2.06.94zm10 10l.94 2.06.94-2.06 2.06-.94-2.06-.94-.94-2.06-.94 2.06-2.06.94z\"/><path d=\"M17.41 7.96l-1.37-1.37c-.4-.4-.92-.59-1.43-.59-.52 0-1.04.2-1.43.59L10.3 9.45l-7.72 7.72c-.78.78-.78 2.05 0 2.83L4 21.41c.39.39.9.59 1.41.59.51 0 1.02-.2 1.41-.59l7.78-7.78 2.81-2.81c.8-.78.8-2.07 0-2.86zM5.41 20L4 18.59l7.72-7.72 1.47 1.35L5.41 20z\"/>\n",
              "  </svg>\n",
              "      </button>\n",
              "      \n",
              "  <style>\n",
              "    .colab-df-container {\n",
              "      display:flex;\n",
              "      flex-wrap:wrap;\n",
              "      gap: 12px;\n",
              "    }\n",
              "\n",
              "    .colab-df-convert {\n",
              "      background-color: #E8F0FE;\n",
              "      border: none;\n",
              "      border-radius: 50%;\n",
              "      cursor: pointer;\n",
              "      display: none;\n",
              "      fill: #1967D2;\n",
              "      height: 32px;\n",
              "      padding: 0 0 0 0;\n",
              "      width: 32px;\n",
              "    }\n",
              "\n",
              "    .colab-df-convert:hover {\n",
              "      background-color: #E2EBFA;\n",
              "      box-shadow: 0px 1px 2px rgba(60, 64, 67, 0.3), 0px 1px 3px 1px rgba(60, 64, 67, 0.15);\n",
              "      fill: #174EA6;\n",
              "    }\n",
              "\n",
              "    [theme=dark] .colab-df-convert {\n",
              "      background-color: #3B4455;\n",
              "      fill: #D2E3FC;\n",
              "    }\n",
              "\n",
              "    [theme=dark] .colab-df-convert:hover {\n",
              "      background-color: #434B5C;\n",
              "      box-shadow: 0px 1px 3px 1px rgba(0, 0, 0, 0.15);\n",
              "      filter: drop-shadow(0px 1px 2px rgba(0, 0, 0, 0.3));\n",
              "      fill: #FFFFFF;\n",
              "    }\n",
              "  </style>\n",
              "\n",
              "      <script>\n",
              "        const buttonEl =\n",
              "          document.querySelector('#df-4153fff3-da1d-438b-ab8d-eb3008c21402 button.colab-df-convert');\n",
              "        buttonEl.style.display =\n",
              "          google.colab.kernel.accessAllowed ? 'block' : 'none';\n",
              "\n",
              "        async function convertToInteractive(key) {\n",
              "          const element = document.querySelector('#df-4153fff3-da1d-438b-ab8d-eb3008c21402');\n",
              "          const dataTable =\n",
              "            await google.colab.kernel.invokeFunction('convertToInteractive',\n",
              "                                                     [key], {});\n",
              "          if (!dataTable) return;\n",
              "\n",
              "          const docLinkHtml = 'Like what you see? Visit the ' +\n",
              "            '<a target=\"_blank\" href=https://colab.research.google.com/notebooks/data_table.ipynb>data table notebook</a>'\n",
              "            + ' to learn more about interactive tables.';\n",
              "          element.innerHTML = '';\n",
              "          dataTable['output_type'] = 'display_data';\n",
              "          await google.colab.output.renderOutput(dataTable, element);\n",
              "          const docLink = document.createElement('div');\n",
              "          docLink.innerHTML = docLinkHtml;\n",
              "          element.appendChild(docLink);\n",
              "        }\n",
              "      </script>\n",
              "    </div>\n",
              "  </div>\n",
              "  "
            ]
          },
          "metadata": {},
          "execution_count": 714
        }
      ]
    },
    {
      "cell_type": "markdown",
      "source": [],
      "metadata": {
        "id": "GlNqBsNvtaAc"
      }
    },
    {
      "cell_type": "markdown",
      "source": [
        "##Remove Unit from Price"
      ],
      "metadata": {
        "id": "ZIL5UFZptb-l"
      }
    },
    {
      "cell_type": "code",
      "source": [
        "valDf['price']=valDf['price'].apply(lambda x: x.split(\" \")[0] )\n",
        "valDf['price'].unique()"
      ],
      "metadata": {
        "colab": {
          "base_uri": "https://localhost:8080/"
        },
        "id": "DZ5AFZI3tsrd",
        "outputId": "d4e7e1ea-ffb9-4be4-ca24-b22801161110"
      },
      "execution_count": 715,
      "outputs": [
        {
          "output_type": "execute_result",
          "data": {
            "text/plain": [
              "array(['1.00', '160.00', '36000.00', '1050000.00', '500000.00',\n",
              "       '4000000.00', '48000.00', '170000.00', '430000000.00', '150000.00',\n",
              "       '4250000.00', '600000000.00', '3500.00', '25000.00', '88.00',\n",
              "       '5000.00', '800000.00', '285000000.00', '60.00', '110000000.00',\n",
              "       '200000000.00', '1125000.00', '400000000.00', '15000000.00',\n",
              "       '62000000.00', '2000000.00', '180000000.00', '6000000.00',\n",
              "       '230000.00', '35000.00', '34999.00', '275000.00', '85000.00',\n",
              "       '0.00', '120.00', '2017500.00', '4600.00', '900000000.00',\n",
              "       '28000000.00', '11000000.00', '60000000.00', '1000000.00',\n",
              "       '65000000.00', '75000000.00', '180000.00', '35000000.00',\n",
              "       '7500000.00', '300000.00', '110000.00', '55000.00', '770000.00',\n",
              "       '28.00', '140.00', '45000000.00', '61500000.00', '57000000.00',\n",
              "       '3500000.00', '14175000.00', '2050000000.00', '1344000000.00',\n",
              "       '10000.00', '22000000.00', '280000.00', '415500.00', '1600000.00',\n",
              "       '215000.00', '130.00', '70000.00', '345000000.00', '331870.00',\n",
              "       '25000000.00', '16000000.00', '42000000.00', '12000000.00',\n",
              "       '8500.00', '145000000.00', '1300000.00', '435000.00', '1470000.00',\n",
              "       '600000.00', '255000000.00', '7750.00', '13000000.00',\n",
              "       '800000000.00', '13500000.00', '85000000.00', '2700000.00',\n",
              "       '21000000.00', '75000.00', '735000.00', '1650000.00', '220000.00',\n",
              "       '140000.00', '100000000.00', '55000000.00', '4500000.00',\n",
              "       '80000.00', '4000.00', '1000123.00', '8600000.00', '352000.00',\n",
              "       '250000.00', '2400000.00', '204000000.00', '84000000.00',\n",
              "       '175000000.00', '33000000.00', '1400000.00', '120000000.00',\n",
              "       '430200000.00', '12250000.00', '1700000.00', '11500000.00',\n",
              "       '67200000.00', '27500000.00', '10500000.00', '21500000.00',\n",
              "       '137500000.00', '120250000.00', '232500000.00', '80000000.00',\n",
              "       '275000000.00', '5000000.00', '192000.00', '480000.00',\n",
              "       '450000.00', '91690000.00', '34000000.00', '7000000.00',\n",
              "       '32500000.00', '17500000.00', '456000000.00', '36000000.00',\n",
              "       '40000000.00', '90000.00', '270000.00', '140000000.00',\n",
              "       '1120000.00', '360000.00', '1380000.00', '8280000.00', '45000.00',\n",
              "       '105000000.00', '30000000.00', '5200.00', '100.00', '300000000.00',\n",
              "       '260000.00', '280000000.00', '17000000.00', '14000000.00',\n",
              "       '2800000.00', '4800000.00', '95000000.00', '185000000.00',\n",
              "       '350000.00', '734400.00', '65000.00', '7800000.00', '350000000.00',\n",
              "       '89000000.00', '5700.00', '4200.00', '9000.00', '8500000.00',\n",
              "       '200000.00', '120000.00', '400000.00', '650000.00', '51000000.00',\n",
              "       '135000000.00', '9800000.00', '162000000.00', '68000.00',\n",
              "       '972000.00', '1124000.00', '840000.00', '47500000.00', '306000.00',\n",
              "       '32000000.00', '26500000.00', '27000000.00', '315000.00',\n",
              "       '127500.00', '100000.00', '728000.00', '960000.00', '188800.00',\n",
              "       '16000.00', '12000.00', '640000.00', '440000.00', '19000.00',\n",
              "       '30000.00', '850000.00', '50000.00', '330000.00', '240000.00',\n",
              "       '11000.00', '580000.00', '1500000.00', '1000.00', '780000.00',\n",
              "       '60000.00', '20000000.00', '320000000.00', '23000.00',\n",
              "       '1250000.00', '2560000.00', '750000.00', '190000.00', '325000.00',\n",
              "       '444450.00', '2100000.00', '1200000.00', '1920000.00', '990000.00',\n",
              "       '1882800.00', '115000.00', '810000.00', '420000.00', '7300.00',\n",
              "       '296000000.00', '320000.00', '1100000.00', '3912000.00',\n",
              "       '160000.00', '385000.00', '856000.00', '145000.00', '125000.00',\n",
              "       '265000.00', '1350000.00', '460000.00', '5800.00', '5900000.00',\n",
              "       '1072500.00', '1800000.00', '70000000.00', '496000.00',\n",
              "       '157500000.00', '130000.00', '2250000.00', '424000.00', '14000.00',\n",
              "       '31000.00', '1490000.00', '7500.00', '550000.00', '335000.00',\n",
              "       '515000.00', '330610.00', '24000.00', '316500.00', '900000.00',\n",
              "       '365000000.00', '1270000.00', '2620125.00', '1150000.00',\n",
              "       '135000.00', '175000.00', '430000.00', '1450000.00', '5500000.00',\n",
              "       '1275000.00', '1210000.00', '1020000.00'], dtype=object)"
            ]
          },
          "metadata": {},
          "execution_count": 715
        }
      ]
    },
    {
      "cell_type": "markdown",
      "source": [
        "##Remove Slot from parking"
      ],
      "metadata": {
        "id": "29s3Cq71tjDt"
      }
    },
    {
      "cell_type": "code",
      "source": [
        "valDf[\"parking\"]=valDf[\"parking\"].str.replace(\"10+ Slot\", \"10\")\n",
        "valDf[\"parking\"]=valDf[\"parking\"].str.replace(\"20+ Slot\", \"20\")\n",
        "valDf[\"parking\"]=valDf[\"parking\"].str.replace(\"Slot\", \"\")\n",
        "valDf[\"parking\"]=valDf[\"parking\"].str.replace(\"N/A\", \"0\")\n",
        "valDf[\"parking\"]=valDf[\"parking\"].str.replace(\"2 level of basement Parking\", \"2\")\n",
        "valDf[\"parking\"]=valDf[\"parking\"].str.replace(\"১ \", \"1\")\n",
        "valDf[\"parking\"]=valDf[\"parking\"].str.replace(\"5/7\", \"5\")\n"
      ],
      "metadata": {
        "colab": {
          "base_uri": "https://localhost:8080/"
        },
        "id": "97KuYB8Ayhno",
        "outputId": "2bfff419-9e99-442a-8536-728442652bc3"
      },
      "execution_count": 716,
      "outputs": [
        {
          "output_type": "stream",
          "name": "stderr",
          "text": [
            "<ipython-input-716-13d205ec2e92>:1: FutureWarning: The default value of regex will change from True to False in a future version.\n",
            "  valDf[\"parking\"]=valDf[\"parking\"].str.replace(\"10+ Slot\", \"10\")\n",
            "<ipython-input-716-13d205ec2e92>:2: FutureWarning: The default value of regex will change from True to False in a future version.\n",
            "  valDf[\"parking\"]=valDf[\"parking\"].str.replace(\"20+ Slot\", \"20\")\n"
          ]
        }
      ]
    },
    {
      "cell_type": "code",
      "source": [
        "valDf['price'].dtype"
      ],
      "metadata": {
        "colab": {
          "base_uri": "https://localhost:8080/"
        },
        "id": "fR57NvJtwuMN",
        "outputId": "588c65a0-5c93-4509-b553-fba8849d9ca4"
      },
      "execution_count": 717,
      "outputs": [
        {
          "output_type": "execute_result",
          "data": {
            "text/plain": [
              "dtype('O')"
            ]
          },
          "metadata": {},
          "execution_count": 717
        }
      ]
    },
    {
      "cell_type": "code",
      "source": [
        "valDf['parking'].unique()"
      ],
      "metadata": {
        "colab": {
          "base_uri": "https://localhost:8080/"
        },
        "id": "wkZo6JBlxw06",
        "outputId": "5774a4d3-ed56-42b0-d49d-b28610620505"
      },
      "execution_count": 718,
      "outputs": [
        {
          "output_type": "execute_result",
          "data": {
            "text/plain": [
              "array(['', '2 ', '1 ', '4 ', '20', '5 ', '7 ', '3 ', '6 ', '0 ', '8 ',\n",
              "       '1', '10+ ', '10', '50 ', '28 ', '14 ', '12 ', '20+ ', '1216 ',\n",
              "       '37 '], dtype=object)"
            ]
          },
          "metadata": {},
          "execution_count": 718
        }
      ]
    },
    {
      "cell_type": "code",
      "source": [
        "valDf.head()"
      ],
      "metadata": {
        "colab": {
          "base_uri": "https://localhost:8080/",
          "height": 716
        },
        "id": "74muwUG8x0Sf",
        "outputId": "0a7429d2-74a6-4405-c933-f9043390e161"
      },
      "execution_count": 719,
      "outputs": [
        {
          "output_type": "execute_result",
          "data": {
            "text/plain": [
              "                                             details fire_exit    generator  \\\n",
              "0  Flat sale\\nReady Flat 1000 / 1200 / 1400 Squar...                          \n",
              "1  Gulshan avenue is the most expensive and sough...       Yes                \n",
              "2  Two Room Furnished Serviced Apartment RENT in ...       Yes  Full Backup   \n",
              "3  Fully furnished 7000 sft office available for ...       Yes  Full Backup   \n",
              "4                                         open space            Full Backup   \n",
              "\n",
              "  gym lift offered_floor parking       price BUILDING_NATURE  property_id  \\\n",
              "0                      5                1.00     Residential          864   \n",
              "1      Yes             5      2       160.00      Commercial          875   \n",
              "2      Yes             4      1     36000.00     Residential          821   \n",
              "3      Yes             7      4   1050000.00      Commercial          815   \n",
              "4                      1      2    500000.00      Commercial          856   \n",
              "\n",
              "   ...      BUILDING_TYPE PURPOSE rooftop_garden swimming_pool  \\\n",
              "0  ...          Apartment    Sale                                \n",
              "1  ...       Office Space    Rent            Yes                 \n",
              "2  ...  Service Apartment    Rent                                \n",
              "3  ...             Office    Rent            Yes                 \n",
              "4  ...      Factory Shade    Rent                                \n",
              "\n",
              "                                               title total_bathrooms  \\\n",
              "0  Ready Flat 1000 / 1200 / 1400 Square Feet Flat...               3   \n",
              "1   2500 sft office space for rent in Gulshan Avenue                   \n",
              "2  Two Room Furnished Serviced Apartment RENT in ...               1   \n",
              "3  Ready Fully furnished 7,000 sft office for ren...                   \n",
              "4                              Office space for rent              10   \n",
              "\n",
              "                       DISTRICT    CITY         OTHERZONEAREA     COUNTRY  \n",
              "0                        Mirpur   Dhaka   Mirpur 60 fit road.  Bangladesh  \n",
              "1                Gulshan Avenue   Dhaka        Gulshan Avenue  Bangladesh  \n",
              "2  Bashundhara Residential Area   Dhaka       Bashundhara R/A  Bangladesh  \n",
              "3                Gulshan Avenue   Dhaka        Gulshan Avenue  Bangladesh  \n",
              "4                     Motijheel   Dhaka                 Dhaka  Bangladesh  \n",
              "\n",
              "[5 rows x 21 columns]"
            ],
            "text/html": [
              "\n",
              "  <div id=\"df-56224195-7fc9-45de-98a8-c1682ed4c6a4\">\n",
              "    <div class=\"colab-df-container\">\n",
              "      <div>\n",
              "<style scoped>\n",
              "    .dataframe tbody tr th:only-of-type {\n",
              "        vertical-align: middle;\n",
              "    }\n",
              "\n",
              "    .dataframe tbody tr th {\n",
              "        vertical-align: top;\n",
              "    }\n",
              "\n",
              "    .dataframe thead th {\n",
              "        text-align: right;\n",
              "    }\n",
              "</style>\n",
              "<table border=\"1\" class=\"dataframe\">\n",
              "  <thead>\n",
              "    <tr style=\"text-align: right;\">\n",
              "      <th></th>\n",
              "      <th>details</th>\n",
              "      <th>fire_exit</th>\n",
              "      <th>generator</th>\n",
              "      <th>gym</th>\n",
              "      <th>lift</th>\n",
              "      <th>offered_floor</th>\n",
              "      <th>parking</th>\n",
              "      <th>price</th>\n",
              "      <th>BUILDING_NATURE</th>\n",
              "      <th>property_id</th>\n",
              "      <th>...</th>\n",
              "      <th>BUILDING_TYPE</th>\n",
              "      <th>PURPOSE</th>\n",
              "      <th>rooftop_garden</th>\n",
              "      <th>swimming_pool</th>\n",
              "      <th>title</th>\n",
              "      <th>total_bathrooms</th>\n",
              "      <th>DISTRICT</th>\n",
              "      <th>CITY</th>\n",
              "      <th>OTHERZONEAREA</th>\n",
              "      <th>COUNTRY</th>\n",
              "    </tr>\n",
              "  </thead>\n",
              "  <tbody>\n",
              "    <tr>\n",
              "      <th>0</th>\n",
              "      <td>Flat sale\\nReady Flat 1000 / 1200 / 1400 Squar...</td>\n",
              "      <td></td>\n",
              "      <td></td>\n",
              "      <td></td>\n",
              "      <td></td>\n",
              "      <td>5</td>\n",
              "      <td></td>\n",
              "      <td>1.00</td>\n",
              "      <td>Residential</td>\n",
              "      <td>864</td>\n",
              "      <td>...</td>\n",
              "      <td>Apartment</td>\n",
              "      <td>Sale</td>\n",
              "      <td></td>\n",
              "      <td></td>\n",
              "      <td>Ready Flat 1000 / 1200 / 1400 Square Feet Flat...</td>\n",
              "      <td>3</td>\n",
              "      <td>Mirpur</td>\n",
              "      <td>Dhaka</td>\n",
              "      <td>Mirpur 60 fit road.</td>\n",
              "      <td>Bangladesh</td>\n",
              "    </tr>\n",
              "    <tr>\n",
              "      <th>1</th>\n",
              "      <td>Gulshan avenue is the most expensive and sough...</td>\n",
              "      <td>Yes</td>\n",
              "      <td></td>\n",
              "      <td></td>\n",
              "      <td>Yes</td>\n",
              "      <td>5</td>\n",
              "      <td>2</td>\n",
              "      <td>160.00</td>\n",
              "      <td>Commercial</td>\n",
              "      <td>875</td>\n",
              "      <td>...</td>\n",
              "      <td>Office Space</td>\n",
              "      <td>Rent</td>\n",
              "      <td>Yes</td>\n",
              "      <td></td>\n",
              "      <td>2500 sft office space for rent in Gulshan Avenue</td>\n",
              "      <td></td>\n",
              "      <td>Gulshan Avenue</td>\n",
              "      <td>Dhaka</td>\n",
              "      <td>Gulshan Avenue</td>\n",
              "      <td>Bangladesh</td>\n",
              "    </tr>\n",
              "    <tr>\n",
              "      <th>2</th>\n",
              "      <td>Two Room Furnished Serviced Apartment RENT in ...</td>\n",
              "      <td>Yes</td>\n",
              "      <td>Full Backup</td>\n",
              "      <td></td>\n",
              "      <td>Yes</td>\n",
              "      <td>4</td>\n",
              "      <td>1</td>\n",
              "      <td>36000.00</td>\n",
              "      <td>Residential</td>\n",
              "      <td>821</td>\n",
              "      <td>...</td>\n",
              "      <td>Service Apartment</td>\n",
              "      <td>Rent</td>\n",
              "      <td></td>\n",
              "      <td></td>\n",
              "      <td>Two Room Furnished Serviced Apartment RENT in ...</td>\n",
              "      <td>1</td>\n",
              "      <td>Bashundhara Residential Area</td>\n",
              "      <td>Dhaka</td>\n",
              "      <td>Bashundhara R/A</td>\n",
              "      <td>Bangladesh</td>\n",
              "    </tr>\n",
              "    <tr>\n",
              "      <th>3</th>\n",
              "      <td>Fully furnished 7000 sft office available for ...</td>\n",
              "      <td>Yes</td>\n",
              "      <td>Full Backup</td>\n",
              "      <td></td>\n",
              "      <td>Yes</td>\n",
              "      <td>7</td>\n",
              "      <td>4</td>\n",
              "      <td>1050000.00</td>\n",
              "      <td>Commercial</td>\n",
              "      <td>815</td>\n",
              "      <td>...</td>\n",
              "      <td>Office</td>\n",
              "      <td>Rent</td>\n",
              "      <td>Yes</td>\n",
              "      <td></td>\n",
              "      <td>Ready Fully furnished 7,000 sft office for ren...</td>\n",
              "      <td></td>\n",
              "      <td>Gulshan Avenue</td>\n",
              "      <td>Dhaka</td>\n",
              "      <td>Gulshan Avenue</td>\n",
              "      <td>Bangladesh</td>\n",
              "    </tr>\n",
              "    <tr>\n",
              "      <th>4</th>\n",
              "      <td>open space</td>\n",
              "      <td></td>\n",
              "      <td>Full Backup</td>\n",
              "      <td></td>\n",
              "      <td></td>\n",
              "      <td>1</td>\n",
              "      <td>2</td>\n",
              "      <td>500000.00</td>\n",
              "      <td>Commercial</td>\n",
              "      <td>856</td>\n",
              "      <td>...</td>\n",
              "      <td>Factory Shade</td>\n",
              "      <td>Rent</td>\n",
              "      <td></td>\n",
              "      <td></td>\n",
              "      <td>Office space for rent</td>\n",
              "      <td>10</td>\n",
              "      <td>Motijheel</td>\n",
              "      <td>Dhaka</td>\n",
              "      <td>Dhaka</td>\n",
              "      <td>Bangladesh</td>\n",
              "    </tr>\n",
              "  </tbody>\n",
              "</table>\n",
              "<p>5 rows × 21 columns</p>\n",
              "</div>\n",
              "      <button class=\"colab-df-convert\" onclick=\"convertToInteractive('df-56224195-7fc9-45de-98a8-c1682ed4c6a4')\"\n",
              "              title=\"Convert this dataframe to an interactive table.\"\n",
              "              style=\"display:none;\">\n",
              "        \n",
              "  <svg xmlns=\"http://www.w3.org/2000/svg\" height=\"24px\"viewBox=\"0 0 24 24\"\n",
              "       width=\"24px\">\n",
              "    <path d=\"M0 0h24v24H0V0z\" fill=\"none\"/>\n",
              "    <path d=\"M18.56 5.44l.94 2.06.94-2.06 2.06-.94-2.06-.94-.94-2.06-.94 2.06-2.06.94zm-11 1L8.5 8.5l.94-2.06 2.06-.94-2.06-.94L8.5 2.5l-.94 2.06-2.06.94zm10 10l.94 2.06.94-2.06 2.06-.94-2.06-.94-.94-2.06-.94 2.06-2.06.94z\"/><path d=\"M17.41 7.96l-1.37-1.37c-.4-.4-.92-.59-1.43-.59-.52 0-1.04.2-1.43.59L10.3 9.45l-7.72 7.72c-.78.78-.78 2.05 0 2.83L4 21.41c.39.39.9.59 1.41.59.51 0 1.02-.2 1.41-.59l7.78-7.78 2.81-2.81c.8-.78.8-2.07 0-2.86zM5.41 20L4 18.59l7.72-7.72 1.47 1.35L5.41 20z\"/>\n",
              "  </svg>\n",
              "      </button>\n",
              "      \n",
              "  <style>\n",
              "    .colab-df-container {\n",
              "      display:flex;\n",
              "      flex-wrap:wrap;\n",
              "      gap: 12px;\n",
              "    }\n",
              "\n",
              "    .colab-df-convert {\n",
              "      background-color: #E8F0FE;\n",
              "      border: none;\n",
              "      border-radius: 50%;\n",
              "      cursor: pointer;\n",
              "      display: none;\n",
              "      fill: #1967D2;\n",
              "      height: 32px;\n",
              "      padding: 0 0 0 0;\n",
              "      width: 32px;\n",
              "    }\n",
              "\n",
              "    .colab-df-convert:hover {\n",
              "      background-color: #E2EBFA;\n",
              "      box-shadow: 0px 1px 2px rgba(60, 64, 67, 0.3), 0px 1px 3px 1px rgba(60, 64, 67, 0.15);\n",
              "      fill: #174EA6;\n",
              "    }\n",
              "\n",
              "    [theme=dark] .colab-df-convert {\n",
              "      background-color: #3B4455;\n",
              "      fill: #D2E3FC;\n",
              "    }\n",
              "\n",
              "    [theme=dark] .colab-df-convert:hover {\n",
              "      background-color: #434B5C;\n",
              "      box-shadow: 0px 1px 3px 1px rgba(0, 0, 0, 0.15);\n",
              "      filter: drop-shadow(0px 1px 2px rgba(0, 0, 0, 0.3));\n",
              "      fill: #FFFFFF;\n",
              "    }\n",
              "  </style>\n",
              "\n",
              "      <script>\n",
              "        const buttonEl =\n",
              "          document.querySelector('#df-56224195-7fc9-45de-98a8-c1682ed4c6a4 button.colab-df-convert');\n",
              "        buttonEl.style.display =\n",
              "          google.colab.kernel.accessAllowed ? 'block' : 'none';\n",
              "\n",
              "        async function convertToInteractive(key) {\n",
              "          const element = document.querySelector('#df-56224195-7fc9-45de-98a8-c1682ed4c6a4');\n",
              "          const dataTable =\n",
              "            await google.colab.kernel.invokeFunction('convertToInteractive',\n",
              "                                                     [key], {});\n",
              "          if (!dataTable) return;\n",
              "\n",
              "          const docLinkHtml = 'Like what you see? Visit the ' +\n",
              "            '<a target=\"_blank\" href=https://colab.research.google.com/notebooks/data_table.ipynb>data table notebook</a>'\n",
              "            + ' to learn more about interactive tables.';\n",
              "          element.innerHTML = '';\n",
              "          dataTable['output_type'] = 'display_data';\n",
              "          await google.colab.output.renderOutput(dataTable, element);\n",
              "          const docLink = document.createElement('div');\n",
              "          docLink.innerHTML = docLinkHtml;\n",
              "          element.appendChild(docLink);\n",
              "        }\n",
              "      </script>\n",
              "    </div>\n",
              "  </div>\n",
              "  "
            ]
          },
          "metadata": {},
          "execution_count": 719
        }
      ]
    },
    {
      "cell_type": "markdown",
      "source": [
        "##Fix the data types for numeric columns"
      ],
      "metadata": {
        "id": "lirfcTlltllZ"
      }
    },
    {
      "cell_type": "code",
      "source": [
        "valDf[['price','AREA']] = valDf[['price','AREA']].apply(pd.to_numeric)"
      ],
      "metadata": {
        "id": "jnAOppN50axq"
      },
      "execution_count": 720,
      "outputs": []
    },
    {
      "cell_type": "code",
      "source": [],
      "metadata": {
        "id": "kte6yWJI4TvP"
      },
      "execution_count": 720,
      "outputs": []
    },
    {
      "cell_type": "code",
      "source": [
        "valDf[['parking','offered_floor','total_bathrooms']] = valDf[['parking','offered_floor','total_bathrooms']].apply(pd.to_numeric)"
      ],
      "metadata": {
        "colab": {
          "base_uri": "https://localhost:8080/",
          "height": 293
        },
        "id": "BS8I7IPo2__o",
        "outputId": "88efb36f-837f-448a-d917-c00362938190"
      },
      "execution_count": 721,
      "outputs": [
        {
          "output_type": "error",
          "ename": "ValueError",
          "evalue": "ignored",
          "traceback": [
            "\u001b[0;31m---------------------------------------------------------------------------\u001b[0m",
            "\u001b[0;31mValueError\u001b[0m                                Traceback (most recent call last)",
            "\u001b[0;32m/usr/local/lib/python3.9/dist-packages/pandas/_libs/lib.pyx\u001b[0m in \u001b[0;36mpandas._libs.lib.maybe_convert_numeric\u001b[0;34m()\u001b[0m\n",
            "\u001b[0;31mValueError\u001b[0m: Unable to parse string \"10+ \"",
            "\nDuring handling of the above exception, another exception occurred:\n",
            "\u001b[0;31mValueError\u001b[0m                                Traceback (most recent call last)",
            "\u001b[0;32m<ipython-input-721-d58d6a274ed4>\u001b[0m in \u001b[0;36m<cell line: 1>\u001b[0;34m()\u001b[0m\n\u001b[0;32m----> 1\u001b[0;31m \u001b[0mvalDf\u001b[0m\u001b[0;34m[\u001b[0m\u001b[0;34m[\u001b[0m\u001b[0;34m'parking'\u001b[0m\u001b[0;34m,\u001b[0m\u001b[0;34m'offered_floor'\u001b[0m\u001b[0;34m,\u001b[0m\u001b[0;34m'total_bathrooms'\u001b[0m\u001b[0;34m]\u001b[0m\u001b[0;34m]\u001b[0m \u001b[0;34m=\u001b[0m \u001b[0mvalDf\u001b[0m\u001b[0;34m[\u001b[0m\u001b[0;34m[\u001b[0m\u001b[0;34m'parking'\u001b[0m\u001b[0;34m,\u001b[0m\u001b[0;34m'offered_floor'\u001b[0m\u001b[0;34m,\u001b[0m\u001b[0;34m'total_bathrooms'\u001b[0m\u001b[0;34m]\u001b[0m\u001b[0;34m]\u001b[0m\u001b[0;34m.\u001b[0m\u001b[0mapply\u001b[0m\u001b[0;34m(\u001b[0m\u001b[0mpd\u001b[0m\u001b[0;34m.\u001b[0m\u001b[0mto_numeric\u001b[0m\u001b[0;34m)\u001b[0m\u001b[0;34m\u001b[0m\u001b[0;34m\u001b[0m\u001b[0m\n\u001b[0m",
            "\u001b[0;32m/usr/local/lib/python3.9/dist-packages/pandas/core/frame.py\u001b[0m in \u001b[0;36mapply\u001b[0;34m(self, func, axis, raw, result_type, args, **kwargs)\u001b[0m\n\u001b[1;32m   9566\u001b[0m             \u001b[0mkwargs\u001b[0m\u001b[0;34m=\u001b[0m\u001b[0mkwargs\u001b[0m\u001b[0;34m,\u001b[0m\u001b[0;34m\u001b[0m\u001b[0;34m\u001b[0m\u001b[0m\n\u001b[1;32m   9567\u001b[0m         )\n\u001b[0;32m-> 9568\u001b[0;31m         \u001b[0;32mreturn\u001b[0m \u001b[0mop\u001b[0m\u001b[0;34m.\u001b[0m\u001b[0mapply\u001b[0m\u001b[0;34m(\u001b[0m\u001b[0;34m)\u001b[0m\u001b[0;34m.\u001b[0m\u001b[0m__finalize__\u001b[0m\u001b[0;34m(\u001b[0m\u001b[0mself\u001b[0m\u001b[0;34m,\u001b[0m \u001b[0mmethod\u001b[0m\u001b[0;34m=\u001b[0m\u001b[0;34m\"apply\"\u001b[0m\u001b[0;34m)\u001b[0m\u001b[0;34m\u001b[0m\u001b[0;34m\u001b[0m\u001b[0m\n\u001b[0m\u001b[1;32m   9569\u001b[0m \u001b[0;34m\u001b[0m\u001b[0m\n\u001b[1;32m   9570\u001b[0m     def applymap(\n",
            "\u001b[0;32m/usr/local/lib/python3.9/dist-packages/pandas/core/apply.py\u001b[0m in \u001b[0;36mapply\u001b[0;34m(self)\u001b[0m\n\u001b[1;32m    762\u001b[0m             \u001b[0;32mreturn\u001b[0m \u001b[0mself\u001b[0m\u001b[0;34m.\u001b[0m\u001b[0mapply_raw\u001b[0m\u001b[0;34m(\u001b[0m\u001b[0;34m)\u001b[0m\u001b[0;34m\u001b[0m\u001b[0;34m\u001b[0m\u001b[0m\n\u001b[1;32m    763\u001b[0m \u001b[0;34m\u001b[0m\u001b[0m\n\u001b[0;32m--> 764\u001b[0;31m         \u001b[0;32mreturn\u001b[0m \u001b[0mself\u001b[0m\u001b[0;34m.\u001b[0m\u001b[0mapply_standard\u001b[0m\u001b[0;34m(\u001b[0m\u001b[0;34m)\u001b[0m\u001b[0;34m\u001b[0m\u001b[0;34m\u001b[0m\u001b[0m\n\u001b[0m\u001b[1;32m    765\u001b[0m \u001b[0;34m\u001b[0m\u001b[0m\n\u001b[1;32m    766\u001b[0m     \u001b[0;32mdef\u001b[0m \u001b[0magg\u001b[0m\u001b[0;34m(\u001b[0m\u001b[0mself\u001b[0m\u001b[0;34m)\u001b[0m\u001b[0;34m:\u001b[0m\u001b[0;34m\u001b[0m\u001b[0;34m\u001b[0m\u001b[0m\n",
            "\u001b[0;32m/usr/local/lib/python3.9/dist-packages/pandas/core/apply.py\u001b[0m in \u001b[0;36mapply_standard\u001b[0;34m(self)\u001b[0m\n\u001b[1;32m    889\u001b[0m \u001b[0;34m\u001b[0m\u001b[0m\n\u001b[1;32m    890\u001b[0m     \u001b[0;32mdef\u001b[0m \u001b[0mapply_standard\u001b[0m\u001b[0;34m(\u001b[0m\u001b[0mself\u001b[0m\u001b[0;34m)\u001b[0m\u001b[0;34m:\u001b[0m\u001b[0;34m\u001b[0m\u001b[0;34m\u001b[0m\u001b[0m\n\u001b[0;32m--> 891\u001b[0;31m         \u001b[0mresults\u001b[0m\u001b[0;34m,\u001b[0m \u001b[0mres_index\u001b[0m \u001b[0;34m=\u001b[0m \u001b[0mself\u001b[0m\u001b[0;34m.\u001b[0m\u001b[0mapply_series_generator\u001b[0m\u001b[0;34m(\u001b[0m\u001b[0;34m)\u001b[0m\u001b[0;34m\u001b[0m\u001b[0;34m\u001b[0m\u001b[0m\n\u001b[0m\u001b[1;32m    892\u001b[0m \u001b[0;34m\u001b[0m\u001b[0m\n\u001b[1;32m    893\u001b[0m         \u001b[0;31m# wrap results\u001b[0m\u001b[0;34m\u001b[0m\u001b[0;34m\u001b[0m\u001b[0m\n",
            "\u001b[0;32m/usr/local/lib/python3.9/dist-packages/pandas/core/apply.py\u001b[0m in \u001b[0;36mapply_series_generator\u001b[0;34m(self)\u001b[0m\n\u001b[1;32m    905\u001b[0m             \u001b[0;32mfor\u001b[0m \u001b[0mi\u001b[0m\u001b[0;34m,\u001b[0m \u001b[0mv\u001b[0m \u001b[0;32min\u001b[0m \u001b[0menumerate\u001b[0m\u001b[0;34m(\u001b[0m\u001b[0mseries_gen\u001b[0m\u001b[0;34m)\u001b[0m\u001b[0;34m:\u001b[0m\u001b[0;34m\u001b[0m\u001b[0;34m\u001b[0m\u001b[0m\n\u001b[1;32m    906\u001b[0m                 \u001b[0;31m# ignore SettingWithCopy here in case the user mutates\u001b[0m\u001b[0;34m\u001b[0m\u001b[0;34m\u001b[0m\u001b[0m\n\u001b[0;32m--> 907\u001b[0;31m                 \u001b[0mresults\u001b[0m\u001b[0;34m[\u001b[0m\u001b[0mi\u001b[0m\u001b[0;34m]\u001b[0m \u001b[0;34m=\u001b[0m \u001b[0mself\u001b[0m\u001b[0;34m.\u001b[0m\u001b[0mf\u001b[0m\u001b[0;34m(\u001b[0m\u001b[0mv\u001b[0m\u001b[0;34m)\u001b[0m\u001b[0;34m\u001b[0m\u001b[0;34m\u001b[0m\u001b[0m\n\u001b[0m\u001b[1;32m    908\u001b[0m                 \u001b[0;32mif\u001b[0m \u001b[0misinstance\u001b[0m\u001b[0;34m(\u001b[0m\u001b[0mresults\u001b[0m\u001b[0;34m[\u001b[0m\u001b[0mi\u001b[0m\u001b[0;34m]\u001b[0m\u001b[0;34m,\u001b[0m \u001b[0mABCSeries\u001b[0m\u001b[0;34m)\u001b[0m\u001b[0;34m:\u001b[0m\u001b[0;34m\u001b[0m\u001b[0;34m\u001b[0m\u001b[0m\n\u001b[1;32m    909\u001b[0m                     \u001b[0;31m# If we have a view on v, we need to make a copy because\u001b[0m\u001b[0;34m\u001b[0m\u001b[0;34m\u001b[0m\u001b[0m\n",
            "\u001b[0;32m/usr/local/lib/python3.9/dist-packages/pandas/core/tools/numeric.py\u001b[0m in \u001b[0;36mto_numeric\u001b[0;34m(arg, errors, downcast)\u001b[0m\n\u001b[1;32m    183\u001b[0m         \u001b[0mcoerce_numeric\u001b[0m \u001b[0;34m=\u001b[0m \u001b[0merrors\u001b[0m \u001b[0;32mnot\u001b[0m \u001b[0;32min\u001b[0m \u001b[0;34m(\u001b[0m\u001b[0;34m\"ignore\"\u001b[0m\u001b[0;34m,\u001b[0m \u001b[0;34m\"raise\"\u001b[0m\u001b[0;34m)\u001b[0m\u001b[0;34m\u001b[0m\u001b[0;34m\u001b[0m\u001b[0m\n\u001b[1;32m    184\u001b[0m         \u001b[0;32mtry\u001b[0m\u001b[0;34m:\u001b[0m\u001b[0;34m\u001b[0m\u001b[0;34m\u001b[0m\u001b[0m\n\u001b[0;32m--> 185\u001b[0;31m             values, _ = lib.maybe_convert_numeric(\n\u001b[0m\u001b[1;32m    186\u001b[0m                 \u001b[0mvalues\u001b[0m\u001b[0;34m,\u001b[0m \u001b[0mset\u001b[0m\u001b[0;34m(\u001b[0m\u001b[0;34m)\u001b[0m\u001b[0;34m,\u001b[0m \u001b[0mcoerce_numeric\u001b[0m\u001b[0;34m=\u001b[0m\u001b[0mcoerce_numeric\u001b[0m\u001b[0;34m\u001b[0m\u001b[0;34m\u001b[0m\u001b[0m\n\u001b[1;32m    187\u001b[0m             )\n",
            "\u001b[0;32m/usr/local/lib/python3.9/dist-packages/pandas/_libs/lib.pyx\u001b[0m in \u001b[0;36mpandas._libs.lib.maybe_convert_numeric\u001b[0;34m()\u001b[0m\n",
            "\u001b[0;31mValueError\u001b[0m: Unable to parse string \"10+ \" at position 172"
          ]
        }
      ]
    },
    {
      "cell_type": "code",
      "source": [
        "valDf.info()"
      ],
      "metadata": {
        "id": "fznTz2Fl0kGF"
      },
      "execution_count": null,
      "outputs": []
    },
    {
      "cell_type": "code",
      "source": [
        "valDf.to_csv('./naveenkumar_propertyfinderbd_cleaned.csv', index=False)"
      ],
      "metadata": {
        "id": "h7XiMOUY62wa"
      },
      "execution_count": 722,
      "outputs": []
    }
  ]
}