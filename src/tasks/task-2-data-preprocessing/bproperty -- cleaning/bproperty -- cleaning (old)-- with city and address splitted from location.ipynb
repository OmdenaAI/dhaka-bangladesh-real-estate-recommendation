{
 "cells": [
  {
   "cell_type": "code",
   "execution_count": null,
   "id": "7aab3316",
   "metadata": {},
   "outputs": [],
   "source": []
  },
  {
   "cell_type": "markdown",
   "id": "d83c7ca4",
   "metadata": {},
   "source": [
    "## Table of content\n",
    "\n",
    "1. [bproperty assessment](#bproperty-assessment) -> [Report summary](#bproperty-assessment-report)\n",
    "1. [bproperty cleaning](#bproperty-cleaning)"
   ]
  },
  {
   "cell_type": "code",
   "execution_count": null,
   "id": "427ae44b",
   "metadata": {},
   "outputs": [],
   "source": []
  },
  {
   "cell_type": "code",
   "execution_count": 1,
   "id": "c78a506b",
   "metadata": {},
   "outputs": [],
   "source": [
    "import pandas as pd\n",
    "import numpy as np\n",
    "\n",
    "import matplotlib.pyplot as plt\n",
    "\n",
    "from slugify import slugify\n",
    "import os\n",
    "\n",
    "%matplotlib inline"
   ]
  },
  {
   "cell_type": "code",
   "execution_count": null,
   "id": "a2b9d70f",
   "metadata": {},
   "outputs": [],
   "source": []
  },
  {
   "cell_type": "code",
   "execution_count": 2,
   "id": "4153854b",
   "metadata": {},
   "outputs": [],
   "source": [
    "# CSV folders\n",
    "\n",
    "raw_data_folder=\"../../../data/Raw_Data\"\n",
    "cleaned_data_folder=\"../../../data/CLeaned_Data\"\n",
    "\n",
    "bproperty_folder= f\"{raw_data_folder}/bproperty_spider\"\n",
    "cleaned_bproperty_folder= f\"{cleaned_data_folder}/bproperty\""
   ]
  },
  {
   "cell_type": "code",
   "execution_count": null,
   "id": "e3d28402",
   "metadata": {},
   "outputs": [],
   "source": []
  },
  {
   "cell_type": "code",
   "execution_count": null,
   "id": "742bc66a",
   "metadata": {},
   "outputs": [],
   "source": []
  },
  {
   "cell_type": "code",
   "execution_count": 3,
   "id": "108a05f4",
   "metadata": {},
   "outputs": [
    {
     "data": {
      "text/html": [
       "<div>\n",
       "<style scoped>\n",
       "    .dataframe tbody tr th:only-of-type {\n",
       "        vertical-align: middle;\n",
       "    }\n",
       "\n",
       "    .dataframe tbody tr th {\n",
       "        vertical-align: top;\n",
       "    }\n",
       "\n",
       "    .dataframe thead th {\n",
       "        text-align: right;\n",
       "    }\n",
       "</style>\n",
       "<table border=\"1\" class=\"dataframe\">\n",
       "  <thead>\n",
       "    <tr style=\"text-align: right;\">\n",
       "      <th></th>\n",
       "    </tr>\n",
       "  </thead>\n",
       "  <tbody>\n",
       "    <tr>\n",
       "      <th>area</th>\n",
       "    </tr>\n",
       "    <tr>\n",
       "      <th>building_type</th>\n",
       "    </tr>\n",
       "    <tr>\n",
       "      <th>building_nature</th>\n",
       "    </tr>\n",
       "    <tr>\n",
       "      <th>city</th>\n",
       "    </tr>\n",
       "    <tr>\n",
       "      <th>address</th>\n",
       "    </tr>\n",
       "    <tr>\n",
       "      <th>num_bath_rooms</th>\n",
       "    </tr>\n",
       "    <tr>\n",
       "      <th>num_bed_rooms</th>\n",
       "    </tr>\n",
       "    <tr>\n",
       "      <th>price</th>\n",
       "    </tr>\n",
       "    <tr>\n",
       "      <th>property_description</th>\n",
       "    </tr>\n",
       "    <tr>\n",
       "      <th>property_overview</th>\n",
       "    </tr>\n",
       "    <tr>\n",
       "      <th>purpose</th>\n",
       "    </tr>\n",
       "    <tr>\n",
       "      <th>k1</th>\n",
       "    </tr>\n",
       "    <tr>\n",
       "      <th>k2</th>\n",
       "    </tr>\n",
       "    <tr>\n",
       "      <th>k3</th>\n",
       "    </tr>\n",
       "  </tbody>\n",
       "</table>\n",
       "</div>"
      ],
      "text/plain": [
       "Empty DataFrame\n",
       "Columns: []\n",
       "Index: [area, building_type, building_nature, city, address, num_bath_rooms, num_bed_rooms, price, property_description, property_overview, purpose, k1, k2, k3]"
      ]
     },
     "execution_count": 3,
     "metadata": {},
     "output_type": "execute_result"
    }
   ],
   "source": [
    "target_df_dic = {\n",
    "    \"area\":[],  # value in float, in sqft; 1 Katha = 720 sqft (Thanks @Kausthab Dutta Phukan)\n",
    "    \"building_type\":[],\n",
    "    \"building_nature\": [], # originally named commercial_type; value will be either Commercial or Residential\n",
    "    \n",
    "    # splitted from location column\n",
    "    \"city\": [],\n",
    "    \"address\":[],\n",
    "    #\"country\": [],\n",
    "    #\"municipality\":[],\n",
    "    #\"district\":[],\n",
    "    #...\n",
    "    #\"otherZoneArea\":[], # create new column for any new zone information, and keep collaborators informed\n",
    "    \n",
    "    \n",
    "    \"num_bath_rooms\":[], # for Commercial properties, give 0 as value (since that make sense), not NaN\n",
    "    \"num_bed_rooms\":[], # for Commercial properties, give 0 as value (since that make sense), not NaN\n",
    "    \n",
    "    # convert currencies to BDT : 1 lakh=100000 BDT, 1 crore=10000000 BDT, 1 Arab= 1000000000 BDT (Thanks @Al Momin Faruk)\n",
    "    \"price\": [], \n",
    "    \n",
    "    \"property_description\":[],\n",
    "    \"property_overview\":[],\n",
    "    \n",
    "    \"purpose\":[], # Either Rent/Sale\n",
    "    \n",
    "    # retrieved from amenities column: assuming in sample 1 amenities has {\"k1\":\"v1\",\"k2\":\"v2\"} \n",
    "    #   and in sample 2 amenities has {\"k3\":\"v3\"}, we create new columns in the dataframe based on the keys of\n",
    "    #   the dictionnaries\n",
    "    \"k1\":[],\n",
    "    \"k2\":[],\n",
    "    \"k3\":[],\n",
    "    \n",
    "    # when any relevant column from other csv files is added, inform collaborators so that they follow the same principle\n",
    "}\n",
    "\n",
    "target_df = pd.DataFrame(target_df_dic)\n",
    "target_df.T"
   ]
  },
  {
   "cell_type": "code",
   "execution_count": null,
   "id": "98124150",
   "metadata": {},
   "outputs": [],
   "source": []
  },
  {
   "cell_type": "code",
   "execution_count": null,
   "id": "b0a0b235",
   "metadata": {},
   "outputs": [],
   "source": []
  },
  {
   "cell_type": "markdown",
   "id": "8798b133",
   "metadata": {},
   "source": [
    "<span id=\"bproperty-assessment\"> </span>\n",
    "\n",
    "## Assessing `bproperty_spider_2023-04-09T19-44-07`"
   ]
  },
  {
   "cell_type": "code",
   "execution_count": 4,
   "id": "13555204",
   "metadata": {},
   "outputs": [
    {
     "data": {
      "text/html": [
       "<div>\n",
       "<style scoped>\n",
       "    .dataframe tbody tr th:only-of-type {\n",
       "        vertical-align: middle;\n",
       "    }\n",
       "\n",
       "    .dataframe tbody tr th {\n",
       "        vertical-align: top;\n",
       "    }\n",
       "\n",
       "    .dataframe thead th {\n",
       "        text-align: right;\n",
       "    }\n",
       "</style>\n",
       "<table border=\"1\" class=\"dataframe\">\n",
       "  <thead>\n",
       "    <tr style=\"text-align: right;\">\n",
       "      <th></th>\n",
       "      <th>0</th>\n",
       "      <th>1</th>\n",
       "      <th>2</th>\n",
       "      <th>3</th>\n",
       "      <th>4</th>\n",
       "    </tr>\n",
       "  </thead>\n",
       "  <tbody>\n",
       "    <tr>\n",
       "      <th>amenities</th>\n",
       "      <td>{'Flooring': 'yes', 'Parking Spaces': ' 1', 'B...</td>\n",
       "      <td>NaN</td>\n",
       "      <td>{'View': 'yes', 'Balcony or Terrace': 'yes', '...</td>\n",
       "      <td>{'View': 'yes', 'Balcony or Terrace': 'yes', '...</td>\n",
       "      <td>{'View': 'yes', 'Balcony or Terrace': 'yes', '...</td>\n",
       "    </tr>\n",
       "    <tr>\n",
       "      <th>area</th>\n",
       "      <td>1,265 sqft</td>\n",
       "      <td>4,400 sqft</td>\n",
       "      <td>1,160 sqft</td>\n",
       "      <td>1,185 sqft</td>\n",
       "      <td>970 sqft</td>\n",
       "    </tr>\n",
       "    <tr>\n",
       "      <th>building_type</th>\n",
       "      <td>Apartment</td>\n",
       "      <td>Apartment</td>\n",
       "      <td>Apartment</td>\n",
       "      <td>Apartment</td>\n",
       "      <td>Apartment</td>\n",
       "    </tr>\n",
       "    <tr>\n",
       "      <th>commercial_type</th>\n",
       "      <td>False</td>\n",
       "      <td>False</td>\n",
       "      <td>False</td>\n",
       "      <td>False</td>\n",
       "      <td>False</td>\n",
       "    </tr>\n",
       "    <tr>\n",
       "      <th>location</th>\n",
       "      <td>Baridhara DOHS, Dhaka</td>\n",
       "      <td>Gulshan 2, Gulshan, Dhaka</td>\n",
       "      <td>Khilgaon, Dhaka</td>\n",
       "      <td>Khilgaon, Dhaka</td>\n",
       "      <td>Khilgaon, Dhaka</td>\n",
       "    </tr>\n",
       "    <tr>\n",
       "      <th>num_bath_rooms</th>\n",
       "      <td>3 Baths</td>\n",
       "      <td>4 Baths</td>\n",
       "      <td>NaN</td>\n",
       "      <td>NaN</td>\n",
       "      <td>NaN</td>\n",
       "    </tr>\n",
       "    <tr>\n",
       "      <th>num_bed_rooms</th>\n",
       "      <td>3 Beds</td>\n",
       "      <td>4 Beds</td>\n",
       "      <td>3 Beds</td>\n",
       "      <td>3 Beds</td>\n",
       "      <td>2 Beds</td>\n",
       "    </tr>\n",
       "    <tr>\n",
       "      <th>price</th>\n",
       "      <td>1.25 Crore</td>\n",
       "      <td>7.04 Crore</td>\n",
       "      <td>62 Lakh</td>\n",
       "      <td>61 Lakh</td>\n",
       "      <td>52 Lakh</td>\n",
       "    </tr>\n",
       "    <tr>\n",
       "      <th>property_description</th>\n",
       "      <td>Ready Flat Of 1265 Sq Ft Is Now Up For Sale In...</td>\n",
       "      <td>You Can Move Into This Well Planned And Comfor...</td>\n",
       "      <td>Buy This 1160 Sq Ft Flat In Khilgaon, South Goran</td>\n",
       "      <td>1185 Sq Ft Flat Is Up For Sale In South Goran,...</td>\n",
       "      <td>Relax In This 970 Sq Ft Flat For Sale In South...</td>\n",
       "    </tr>\n",
       "    <tr>\n",
       "      <th>property_overview</th>\n",
       "      <td>Looking for a luxurious apartment with top-not...</td>\n",
       "      <td>Amicable environment, appropriate commuting sy...</td>\n",
       "      <td>A lively area to live, lovely home to settle a...</td>\n",
       "      <td>Considering a suitable lifestyle, this is one ...</td>\n",
       "      <td>Are you concerned about finding a home which w...</td>\n",
       "    </tr>\n",
       "    <tr>\n",
       "      <th>property_url</th>\n",
       "      <td>https://www.bproperty.com/en/property/details-...</td>\n",
       "      <td>https://www.bproperty.com/en/property/details-...</td>\n",
       "      <td>https://www.bproperty.com/en/property/details-...</td>\n",
       "      <td>https://www.bproperty.com/en/property/details-...</td>\n",
       "      <td>https://www.bproperty.com/en/property/details-...</td>\n",
       "    </tr>\n",
       "    <tr>\n",
       "      <th>purpose</th>\n",
       "      <td>For Sale</td>\n",
       "      <td>For Sale</td>\n",
       "      <td>For Sale</td>\n",
       "      <td>For Sale</td>\n",
       "      <td>For Sale</td>\n",
       "    </tr>\n",
       "  </tbody>\n",
       "</table>\n",
       "</div>"
      ],
      "text/plain": [
       "                                                                      0  \\\n",
       "amenities             {'Flooring': 'yes', 'Parking Spaces': ' 1', 'B...   \n",
       "area                                                         1,265 sqft   \n",
       "building_type                                                 Apartment   \n",
       "commercial_type                                                   False   \n",
       "location                                          Baridhara DOHS, Dhaka   \n",
       "num_bath_rooms                                                  3 Baths   \n",
       "num_bed_rooms                                                    3 Beds   \n",
       "price                                                        1.25 Crore   \n",
       "property_description  Ready Flat Of 1265 Sq Ft Is Now Up For Sale In...   \n",
       "property_overview     Looking for a luxurious apartment with top-not...   \n",
       "property_url          https://www.bproperty.com/en/property/details-...   \n",
       "purpose                                                        For Sale   \n",
       "\n",
       "                                                                      1  \\\n",
       "amenities                                                           NaN   \n",
       "area                                                         4,400 sqft   \n",
       "building_type                                                 Apartment   \n",
       "commercial_type                                                   False   \n",
       "location                                      Gulshan 2, Gulshan, Dhaka   \n",
       "num_bath_rooms                                                  4 Baths   \n",
       "num_bed_rooms                                                    4 Beds   \n",
       "price                                                        7.04 Crore   \n",
       "property_description  You Can Move Into This Well Planned And Comfor...   \n",
       "property_overview     Amicable environment, appropriate commuting sy...   \n",
       "property_url          https://www.bproperty.com/en/property/details-...   \n",
       "purpose                                                        For Sale   \n",
       "\n",
       "                                                                      2  \\\n",
       "amenities             {'View': 'yes', 'Balcony or Terrace': 'yes', '...   \n",
       "area                                                         1,160 sqft   \n",
       "building_type                                                 Apartment   \n",
       "commercial_type                                                   False   \n",
       "location                                                Khilgaon, Dhaka   \n",
       "num_bath_rooms                                                      NaN   \n",
       "num_bed_rooms                                                    3 Beds   \n",
       "price                                                           62 Lakh   \n",
       "property_description  Buy This 1160 Sq Ft Flat In Khilgaon, South Goran   \n",
       "property_overview     A lively area to live, lovely home to settle a...   \n",
       "property_url          https://www.bproperty.com/en/property/details-...   \n",
       "purpose                                                        For Sale   \n",
       "\n",
       "                                                                      3  \\\n",
       "amenities             {'View': 'yes', 'Balcony or Terrace': 'yes', '...   \n",
       "area                                                         1,185 sqft   \n",
       "building_type                                                 Apartment   \n",
       "commercial_type                                                   False   \n",
       "location                                                Khilgaon, Dhaka   \n",
       "num_bath_rooms                                                      NaN   \n",
       "num_bed_rooms                                                    3 Beds   \n",
       "price                                                           61 Lakh   \n",
       "property_description  1185 Sq Ft Flat Is Up For Sale In South Goran,...   \n",
       "property_overview     Considering a suitable lifestyle, this is one ...   \n",
       "property_url          https://www.bproperty.com/en/property/details-...   \n",
       "purpose                                                        For Sale   \n",
       "\n",
       "                                                                      4  \n",
       "amenities             {'View': 'yes', 'Balcony or Terrace': 'yes', '...  \n",
       "area                                                           970 sqft  \n",
       "building_type                                                 Apartment  \n",
       "commercial_type                                                   False  \n",
       "location                                                Khilgaon, Dhaka  \n",
       "num_bath_rooms                                                      NaN  \n",
       "num_bed_rooms                                                    2 Beds  \n",
       "price                                                           52 Lakh  \n",
       "property_description  Relax In This 970 Sq Ft Flat For Sale In South...  \n",
       "property_overview     Are you concerned about finding a home which w...  \n",
       "property_url          https://www.bproperty.com/en/property/details-...  \n",
       "purpose                                                        For Sale  "
      ]
     },
     "execution_count": 4,
     "metadata": {},
     "output_type": "execute_result"
    }
   ],
   "source": [
    "bproperty_df=pd.read_csv(f\"{bproperty_folder}/bproperty_spider_2023-04-14T18-31-56.csv\")\n",
    "bproperty_df.head().T"
   ]
  },
  {
   "cell_type": "code",
   "execution_count": 5,
   "id": "633f7f13",
   "metadata": {},
   "outputs": [
    {
     "data": {
      "text/plain": [
       "(17256, 12)"
      ]
     },
     "execution_count": 5,
     "metadata": {},
     "output_type": "execute_result"
    }
   ],
   "source": [
    "bproperty_df.shape"
   ]
  },
  {
   "cell_type": "code",
   "execution_count": null,
   "id": "a4118e5c",
   "metadata": {},
   "outputs": [],
   "source": []
  },
  {
   "cell_type": "code",
   "execution_count": 6,
   "id": "81543301",
   "metadata": {},
   "outputs": [
    {
     "name": "stdout",
     "output_type": "stream",
     "text": [
      "<class 'pandas.core.frame.DataFrame'>\n",
      "RangeIndex: 17256 entries, 0 to 17255\n",
      "Data columns (total 12 columns):\n",
      " #   Column                Non-Null Count  Dtype \n",
      "---  ------                --------------  ----- \n",
      " 0   amenities             16367 non-null  object\n",
      " 1   area                  17256 non-null  object\n",
      " 2   building_type         17256 non-null  object\n",
      " 3   commercial_type       17256 non-null  bool  \n",
      " 4   location              17256 non-null  object\n",
      " 5   num_bath_rooms        5681 non-null   object\n",
      " 6   num_bed_rooms         12574 non-null  object\n",
      " 7   price                 17256 non-null  object\n",
      " 8   property_description  17256 non-null  object\n",
      " 9   property_overview     17256 non-null  object\n",
      " 10  property_url          17256 non-null  object\n",
      " 11  purpose               17256 non-null  object\n",
      "dtypes: bool(1), object(11)\n",
      "memory usage: 1.5+ MB\n"
     ]
    }
   ],
   "source": [
    "bproperty_df.info()"
   ]
  },
  {
   "cell_type": "markdown",
   "id": "b202a5dd",
   "metadata": {},
   "source": [
    "* `area` column should be decimal, not string (quality issue)\n",
    "* Replace column name `commercial_type` by `building_nature` (or any relevant name), and change its values to `residential` or `commercial` accordingly.  (quality issue)\n",
    "* `location` is has concatened information: city, district, sector, etc. Those informations should be splitted in their relevant columns (column `city`, column `district`, ...). (tidiness issue)\n",
    "* `num_bath_rooms` and `num_bed_rooms` should be decimal, no string. (quality issue)\n"
   ]
  },
  {
   "cell_type": "code",
   "execution_count": null,
   "id": "ecd84c41",
   "metadata": {},
   "outputs": [],
   "source": []
  },
  {
   "cell_type": "code",
   "execution_count": 7,
   "id": "1e4e9861",
   "metadata": {},
   "outputs": [
    {
     "data": {
      "text/plain": [
       "array(['1.25 Crore', '7.04 Crore', '62 Lakh', ..., '13.98 Lakh',\n",
       "       '96.25 Lakh', '92.1 Lakh'], dtype=object)"
      ]
     },
     "execution_count": 7,
     "metadata": {},
     "output_type": "execute_result"
    }
   ],
   "source": [
    "bproperty_df[\"price\"].unique()"
   ]
  },
  {
   "cell_type": "markdown",
   "id": "c6b2565b",
   "metadata": {},
   "source": [
    "* `price` content is not uniform accross the dataset. Some are in `Lakh`, other in `Crore`, etc... The unit used for the price should be uniformized. A special attention should be paid to the fact that there are `price` without unit (a solution need to be found for them). (quality issue)\n",
    "* `price` should be decimal, not string"
   ]
  },
  {
   "cell_type": "code",
   "execution_count": null,
   "id": "6102b1ec",
   "metadata": {},
   "outputs": [],
   "source": []
  },
  {
   "cell_type": "code",
   "execution_count": 8,
   "id": "0d3fc8e7",
   "metadata": {},
   "outputs": [
    {
     "data": {
      "text/plain": [
       "'Ready Flat Of 1265 Sq Ft Is Now Up For Sale In Baridhara Dohs'"
      ]
     },
     "execution_count": 8,
     "metadata": {},
     "output_type": "execute_result"
    }
   ],
   "source": [
    "bproperty_df[\"property_description\"][0]"
   ]
  },
  {
   "cell_type": "code",
   "execution_count": 9,
   "id": "345d9ece",
   "metadata": {},
   "outputs": [
    {
     "data": {
      "text/plain": [
       "'This 1,350 SQ FT Marvelous and Prominent Office Space For Rent Is Available Close To Crescent Hospital In Uttara'"
      ]
     },
     "execution_count": 9,
     "metadata": {},
     "output_type": "execute_result"
    }
   ],
   "source": [
    "bproperty_df[\"property_description\"][15]"
   ]
  },
  {
   "cell_type": "code",
   "execution_count": null,
   "id": "c2192244",
   "metadata": {},
   "outputs": [],
   "source": []
  },
  {
   "cell_type": "code",
   "execution_count": 10,
   "id": "8fd558b4",
   "metadata": {},
   "outputs": [
    {
     "data": {
      "text/plain": [
       "\"Looking for a luxurious apartment with top-notch amenities and easy access to all the essential facilities you need? This stunning 3-bedroom, 3-bathroom apartment in the heart of Baridhara DOHS is a rare find. With 1,265 sqft of living space, this home boasts 2 balconies, a drawing room, a dining area, and a modern kitchen with all the latest fittings. With an attendant's bathroom, electricity backup, community space, parking space, CCTV security, visitor log, security staff, and beautiful interior, this apartment is sure to impress. But what truly sets this home apart is its prime location. Baridhara DOHS is one of the most sought-after areas in Dhaka, and for good reason. Residents enjoy easy access to top-notch educational institutions, including Baridhara Scholars Institution and the American International School Dhaka. There are also several healthcare facilities in the area, such as United Hospital and Upasham Hospital, ensuring that residents can receive quality medical care whenever they need it. For those who love to shop, Baridhara DOHS has plenty of options. The area is home to many shopping malls, including Pink City Shopping Center, Gulshan DCC and Super Market, Jamuna Future Park, which is one of the largest shopping malls in South Asia. There are also several supermarkets and local markets in the area, providing residents with everything they need for their day-to-day living. Connectivity is another major advantage of living in Baridhara DOHS. The area is well-connected to the rest of Dhaka, with easy access to major roads and highways. Residents can easily commute to other parts of the city, making it an ideal location for professionals who need to travel for work. Overall, this apartment offers the perfect combination of luxurious living and convenient location. Don't miss your chance to make this your new home!\""
      ]
     },
     "execution_count": 10,
     "metadata": {},
     "output_type": "execute_result"
    }
   ],
   "source": [
    "bproperty_df[\"property_overview\"][0]"
   ]
  },
  {
   "cell_type": "code",
   "execution_count": 11,
   "id": "a2f64764",
   "metadata": {},
   "outputs": [
    {
     "data": {
      "text/plain": [
       "'An open floor is up for rent in the busiest suburb of Dhanmondi. The floor can be a perfect opportunity to expand your business or open a new branch in Dhanmondi area. With an area of the business space makes sure you get all the upgraded necessary facilities. For a business, an easily accessible location is very important. And finding such space in a location like Dhanmondi is really difficult, that too on a budget. But this wonderfully organized space of 4235  Square Feet can be an amazing option both in terms of location and accessibility. Book this space and make a wise choice which also comes within your affordability.'"
      ]
     },
     "execution_count": 11,
     "metadata": {},
     "output_type": "execute_result"
    }
   ],
   "source": [
    "bproperty_df[\"property_overview\"][150]"
   ]
  },
  {
   "cell_type": "code",
   "execution_count": null,
   "id": "9817bdef",
   "metadata": {},
   "outputs": [],
   "source": []
  },
  {
   "cell_type": "code",
   "execution_count": 12,
   "id": "444aa1e8",
   "metadata": {},
   "outputs": [
    {
     "data": {
      "text/plain": [
       "For Sale    10905\n",
       "For Rent     6351\n",
       "Name: purpose, dtype: int64"
      ]
     },
     "execution_count": 12,
     "metadata": {},
     "output_type": "execute_result"
    }
   ],
   "source": [
    "property_per_purpose = bproperty_df[\"purpose\"].value_counts()\n",
    "property_per_purpose"
   ]
  },
  {
   "cell_type": "code",
   "execution_count": 13,
   "id": "b1a29bda",
   "metadata": {},
   "outputs": [
    {
     "data": {
      "image/png": "[encoded data removed]",
      "text/plain": [
       "<Figure size 432x288 with 1 Axes>"
      ]
     },
     "metadata": {
      "needs_background": "light"
     },
     "output_type": "display_data"
    }
   ],
   "source": [
    "property_per_purpose.plot(kind=\"bar\")\n",
    "plt.xlabel(\"Properties tag\")\n",
    "plt.ylabel(\"Count\")\n",
    "plt.title(\"Properties count\");"
   ]
  },
  {
   "cell_type": "markdown",
   "id": "14672eb3",
   "metadata": {},
   "source": [
    "Properties for sale are nearly the double of the properties for rent. And the amount of properties may be a little low to make the futures model predict well on unknow data."
   ]
  },
  {
   "cell_type": "code",
   "execution_count": null,
   "id": "a60e91dc",
   "metadata": {},
   "outputs": [],
   "source": []
  },
  {
   "cell_type": "code",
   "execution_count": 14,
   "id": "54217a88",
   "metadata": {},
   "outputs": [
    {
     "data": {
      "text/plain": [
       "\"{'Flooring': 'yes', 'Parking Spaces': ' 1', 'Balcony or Terrace': 'yes', 'Floor Level': 'yes', 'View': 'yes', 'Elevators in Building': ' 1', 'Lobby in Building': 'yes'}\""
      ]
     },
     "execution_count": 14,
     "metadata": {},
     "output_type": "execute_result"
    }
   ],
   "source": [
    "bproperty_df[\"amenities\"][0]"
   ]
  },
  {
   "cell_type": "code",
   "execution_count": 15,
   "id": "ed3a5b19",
   "metadata": {
    "scrolled": true
   },
   "outputs": [
    {
     "data": {
      "text/plain": [
       "\"{'View': 'yes', 'Floor Level': 'yes', 'Balcony or Terrace': 'yes', 'Flooring': 'yes', 'Central Heating': 'yes', 'Elevators in Building': ' 1', 'Parking Spaces': ' 1', 'Lobby in Building': 'yes', 'Freehold': 'yes', 'Electricity Backup': 'yes', '24 Hours Concierge': 'yes', 'Intercom': 'yes', 'CCTV Security': 'yes', 'Maintenance Staff': 'yes'}\""
      ]
     },
     "execution_count": 15,
     "metadata": {},
     "output_type": "execute_result"
    }
   ],
   "source": [
    "bproperty_df[\"amenities\"][220]"
   ]
  },
  {
   "cell_type": "markdown",
   "id": "b83b8b38",
   "metadata": {},
   "source": [
    "Each key in the dictionary of the feature `amenities` should become a column, with the following indications:\n",
    "* `Floor level`: should be of type integer; its content should be the number of floor of the property\n",
    "* `View`: should be of type boolean\n",
    "* `Balcony or Terrace`: column should be named `balcony-or-terrace`, and should be of type boolean\n",
    "* `Flooring`: should be of type boolean\n",
    "* `Electricity backup`: column should be named `electricity-backup`, and should be of type boolean\n",
    "* `Elevators in Buildings`: column should be named `elevator`, and should be of type int\n",
    "* `Broadband Internet`: column should be named `internet`, and content should be boolean\n",
    "* `CCTV Security`: column should be named `cctv-security`, and should be boolean\n",
    "* `Cleaning Services`: column should be named `cleaning-services`, and should be boolean\n",
    "* Keys present in the dictionary but not mentioned in the above list should also become a column\n",
    "\n",
    "(tidiness issues)"
   ]
  },
  {
   "cell_type": "code",
   "execution_count": null,
   "id": "ac829602",
   "metadata": {},
   "outputs": [],
   "source": []
  },
  {
   "cell_type": "code",
   "execution_count": 16,
   "id": "228152a9",
   "metadata": {},
   "outputs": [
    {
     "data": {
      "text/plain": [
       "array(['Apartment', 'Office', 'Floor', 'Building', 'Plot', 'Shop',\n",
       "       'Duplex', 'Warehouse', 'Factory'], dtype=object)"
      ]
     },
     "execution_count": 16,
     "metadata": {},
     "output_type": "execute_result"
    }
   ],
   "source": [
    "bproperty_df[\"building_type\"].unique()"
   ]
  },
  {
   "cell_type": "code",
   "execution_count": null,
   "id": "c42f00ea",
   "metadata": {},
   "outputs": [],
   "source": []
  },
  {
   "cell_type": "code",
   "execution_count": 17,
   "id": "5fba7d34",
   "metadata": {},
   "outputs": [
    {
     "data": {
      "text/plain": [
       "array(['For Sale', 'For Rent'], dtype=object)"
      ]
     },
     "execution_count": 17,
     "metadata": {},
     "output_type": "execute_result"
    }
   ],
   "source": [
    "bproperty_df[\"purpose\"].unique()"
   ]
  },
  {
   "cell_type": "markdown",
   "id": "917fe67e",
   "metadata": {},
   "source": [
    "`purpose` should have `Rent` or `Sale` as values, to keep all cleaned datasets consistent."
   ]
  },
  {
   "cell_type": "code",
   "execution_count": null,
   "id": "5f9f2638",
   "metadata": {},
   "outputs": [],
   "source": []
  },
  {
   "cell_type": "markdown",
   "id": "b73ff279",
   "metadata": {},
   "source": [
    "<span id=\"bproperty-assessment-report\"> </span>\n",
    "\n",
    "#### Assessment report summary\n",
    "\n",
    "##### Quality issues\n",
    "1. `area` column should be decimal, not string.\n",
    "1. Replace column name `commercial_type` by `building_nature`, and change its values to `residential` or `commercial` accordingly.\n",
    "1. `num_bath_rooms` and `num_bed_rooms` should be decimal, no string.\n",
    "1. `price` content is not uniform accross the dataset. Some are in `Lakh`, other in `Crore`, etc... The unit used for the price should be uniformized. Please pay attention to the fact that there are `price` without unit.\n",
    "1. `price` should be decimal, not string\n",
    "1. `purpose` should have `Rent` or `Sale` as values. This is not really an issue, its goal is only to keep values consistent accross all cleaned datasets.\n",
    "\n",
    "\n",
    "##### Tidiness issues\n",
    "1. `location` has concatened informations: city, district, sector, etc. Those informations will be splitted into `city` and `address`..\n",
    "1. In `amenities` feature, each key in the dictionary should become a column, with the following indications:\n",
    "    * `Floor level`:  column should be named `floor-level`, and should be of type integer; its content should be the number of floor of the property ??\n",
    "    * `View`: should be of type boolean\n",
    "    * `Balcony or Terrace`: column should be named `balcony-or-terrace`, and should be of type boolean\n",
    "    * `Flooring`: should be of type boolean\n",
    "    * `Electricity backup`: column should be named `electricity-backup`, and should be of type boolean\n",
    "    * `Elevators in Buildings`: column should be named `elevator`, and should be of type int\n",
    "    * `Broadband Internet`: column should be named `internet`, and content should be boolean\n",
    "    * `CCTV Security`: column should be named `cctv-security`, and should be boolean\n",
    "    * `Cleaning Services`: column should be named `cleaning-services`, and should be boolean\n",
    "    * Keys present in the dictionary but not mentioned in the above list should also become a column\n",
    "    "
   ]
  },
  {
   "cell_type": "code",
   "execution_count": null,
   "id": "7902d870",
   "metadata": {},
   "outputs": [],
   "source": []
  },
  {
   "cell_type": "code",
   "execution_count": null,
   "id": "1e0380a7",
   "metadata": {},
   "outputs": [],
   "source": []
  },
  {
   "cell_type": "markdown",
   "id": "fe9e30f0",
   "metadata": {},
   "source": [
    "<span id=\"bproperty-cleaning\"> </span>\n",
    "\n",
    "## Cleaning `bproperty`"
   ]
  },
  {
   "cell_type": "code",
   "execution_count": null,
   "id": "e95b139b",
   "metadata": {},
   "outputs": [],
   "source": []
  },
  {
   "cell_type": "markdown",
   "id": "1eb7c2da",
   "metadata": {},
   "source": [
    "### `area` column should be decimal, not string ( [quality issue #1](#bproperty-assessment-report) )"
   ]
  },
  {
   "cell_type": "code",
   "execution_count": 18,
   "id": "b7779176",
   "metadata": {},
   "outputs": [
    {
     "data": {
      "text/plain": [
       "dtype('O')"
      ]
     },
     "execution_count": 18,
     "metadata": {},
     "output_type": "execute_result"
    }
   ],
   "source": [
    "# Recalling the type of area feature\n",
    "bproperty_df[\"area\"].dtype"
   ]
  },
  {
   "cell_type": "code",
   "execution_count": 19,
   "id": "0f63cbcf",
   "metadata": {},
   "outputs": [
    {
     "data": {
      "text/plain": [
       "array(['1,265 sqft', '4,400 sqft', '1,160 sqft', ..., '233 sqft',\n",
       "       '185 sqft', '307 sqft'], dtype=object)"
      ]
     },
     "execution_count": 19,
     "metadata": {},
     "output_type": "execute_result"
    }
   ],
   "source": [
    "bproperty_df[\"area\"].unique()"
   ]
  },
  {
   "cell_type": "markdown",
   "id": "cd3c02a3",
   "metadata": {},
   "source": [
    "There are value in `sqft` and in `Katha`"
   ]
  },
  {
   "cell_type": "markdown",
   "id": "1cc48744",
   "metadata": {},
   "source": [
    "#### Define\n",
    "* Loop through `area` column, while:\n",
    "    * converting `Katha` value to `sqft` value\n",
    "    * removing the unit in the value, to only have the number left\n",
    "* Convert `area` column to decimal"
   ]
  },
  {
   "cell_type": "markdown",
   "id": "f4cde336",
   "metadata": {},
   "source": [
    "#### Code"
   ]
  },
  {
   "cell_type": "code",
   "execution_count": 20,
   "id": "f273e40f",
   "metadata": {},
   "outputs": [
    {
     "name": "stdout",
     "output_type": "stream",
     "text": [
      "Currently processing sample 0...\n",
      "Currently processing sample 1000...\n",
      "Currently processing sample 2000...\n",
      "Currently processing sample 3000...\n",
      "Currently processing sample 4000...\n",
      "Currently processing sample 5000...\n",
      "Currently processing sample 6000...\n",
      "Currently processing sample 7000...\n",
      "Currently processing sample 8000...\n",
      "Currently processing sample 9000...\n",
      "Currently processing sample 10000...\n",
      "Currently processing sample 11000...\n",
      "Currently processing sample 12000...\n",
      "Currently processing sample 13000...\n",
      "Currently processing sample 14000...\n",
      "Currently processing sample 15000...\n",
      "Currently processing sample 16000...\n",
      "Currently processing sample 17000...\n",
      "Processing has come to an end\n"
     ]
    }
   ],
   "source": [
    "\"\"\"\n",
    "    Loop through `area` column, while:\n",
    "        - converting `Katha` value to `sqft` value\n",
    "        - removing the unit in the value, to only have the number left\n",
    "\"\"\"\n",
    "\n",
    "for index, row in bproperty_df.iterrows(): # loop through each sample\n",
    "    \n",
    "    # The code may take time, log in the console to keep track of things\n",
    "    if index==0 or index%1000==0:\n",
    "        print(f\"Currently processing sample {index}...\")\n",
    "        \n",
    "    # retrieve the area\n",
    "    sample_area = bproperty_df.loc[index, \"area\"] \n",
    "    splitted_sample_area = sample_area.split()\n",
    "    \n",
    "    # making sure there is only the value and the unit in sample_area\n",
    "    if len(splitted_sample_area)>2:\n",
    "        print(f\"Sample of index {index} has a suspicious value as area: {sample_area}\")\n",
    "        break\n",
    "        \n",
    "    area = float( splitted_sample_area[0].replace(\",\",\"\") ) # will contain the area; eg: 1345\n",
    "    area_unit = splitted_sample_area[1].lower() # will contain the unit; eg: sqft\n",
    "    \n",
    "    # making sure all units are taken into account\n",
    "    if area_unit not in [\"sqft\",\"katha\"]:\n",
    "        print(f\"Sample of index {index} has a unit not taken into account for its area: {sample_area}\")\n",
    "        break\n",
    "   \n",
    "    # converting katha area to sqft area (1 Katha = 720 sqft => Thanks @Kausthab Dutta Phukan )\n",
    "    if area_unit==\"katha\":\n",
    "        area *= 720\n",
    "        \n",
    "    # updating the area of the sample in the dataframe\n",
    "    bproperty_df.loc[index, \"area\"] = area\n",
    "    \n",
    "print(\"Processing has come to an end\")\n",
    "\n",
    "# Converting area to decimal\n",
    "bproperty_df[\"area\"] = bproperty_df[\"area\"].astype(float)"
   ]
  },
  {
   "cell_type": "code",
   "execution_count": null,
   "id": "61d70d8c",
   "metadata": {},
   "outputs": [],
   "source": []
  },
  {
   "cell_type": "markdown",
   "id": "3675cb6d",
   "metadata": {},
   "source": [
    "#### Testing"
   ]
  },
  {
   "cell_type": "code",
   "execution_count": 21,
   "id": "0f2e56d1",
   "metadata": {},
   "outputs": [
    {
     "data": {
      "text/plain": [
       "dtype('float64')"
      ]
     },
     "execution_count": 21,
     "metadata": {},
     "output_type": "execute_result"
    }
   ],
   "source": [
    "bproperty_df[\"area\"].dtype"
   ]
  },
  {
   "cell_type": "code",
   "execution_count": null,
   "id": "39c3603c",
   "metadata": {},
   "outputs": [],
   "source": []
  },
  {
   "cell_type": "code",
   "execution_count": null,
   "id": "b9a244c6",
   "metadata": {},
   "outputs": [],
   "source": []
  },
  {
   "cell_type": "markdown",
   "id": "5a0d149a",
   "metadata": {},
   "source": [
    "### Cleaning `commercial_type` feature ( [quality issue #2](#bproperty-assessment-report) )\n",
    "\n",
    "Replace column name `commercial_type` by `building_nature`, and change its values to `residential` or `commercial` accordingly."
   ]
  },
  {
   "cell_type": "code",
   "execution_count": 22,
   "id": "d2b1daf6",
   "metadata": {},
   "outputs": [
    {
     "data": {
      "text/plain": [
       "array([False,  True])"
      ]
     },
     "execution_count": 22,
     "metadata": {},
     "output_type": "execute_result"
    }
   ],
   "source": [
    "bproperty_df[\"commercial_type\"].unique()"
   ]
  },
  {
   "cell_type": "markdown",
   "id": "725439be",
   "metadata": {},
   "source": [
    "#### Define\n",
    "* Change column values: `True` is to be updated to `Commercial`, and `False` is to become `Residential`\n",
    "* Replace column name (`commercial_type`) by `building_nature`"
   ]
  },
  {
   "cell_type": "code",
   "execution_count": null,
   "id": "a76d79d3",
   "metadata": {},
   "outputs": [],
   "source": []
  },
  {
   "cell_type": "markdown",
   "id": "a3429c54",
   "metadata": {},
   "source": [
    "#### Code"
   ]
  },
  {
   "cell_type": "code",
   "execution_count": 23,
   "id": "73fa1d54",
   "metadata": {},
   "outputs": [
    {
     "data": {
      "text/plain": [
       "array(['Residential', 'Commercial'], dtype=object)"
      ]
     },
     "execution_count": 23,
     "metadata": {},
     "output_type": "execute_result"
    }
   ],
   "source": [
    "# Replacing values of commercial_type column\n",
    "bproperty_df.loc[ bproperty_df[\"commercial_type\"]==True, [\"commercial_type\"] ] = \"Commercial\"\n",
    "bproperty_df.loc[ bproperty_df[\"commercial_type\"]==False, [\"commercial_type\"] ] = \"Residential\"\n",
    "\n",
    "# Making sure values were updated\n",
    "bproperty_df[\"commercial_type\"].unique()"
   ]
  },
  {
   "cell_type": "code",
   "execution_count": 24,
   "id": "e7c7d363",
   "metadata": {},
   "outputs": [
    {
     "data": {
      "text/plain": [
       "['amenities',\n",
       " 'area',\n",
       " 'building_type',\n",
       " 'building_nature',\n",
       " 'location',\n",
       " 'num_bath_rooms',\n",
       " 'num_bed_rooms',\n",
       " 'price',\n",
       " 'property_description',\n",
       " 'property_overview',\n",
       " 'property_url',\n",
       " 'purpose']"
      ]
     },
     "execution_count": 24,
     "metadata": {},
     "output_type": "execute_result"
    }
   ],
   "source": [
    "# Renaming column\n",
    "bproperty_df.rename(columns={\n",
    "    \"commercial_type\":\"building_nature\"\n",
    "}, inplace=True)\n",
    "\n",
    "# Confirming rename was done\n",
    "bproperty_df.columns.to_list()"
   ]
  },
  {
   "cell_type": "code",
   "execution_count": 25,
   "id": "ea154b70",
   "metadata": {},
   "outputs": [
    {
     "data": {
      "text/html": [
       "<div>\n",
       "<style scoped>\n",
       "    .dataframe tbody tr th:only-of-type {\n",
       "        vertical-align: middle;\n",
       "    }\n",
       "\n",
       "    .dataframe tbody tr th {\n",
       "        vertical-align: top;\n",
       "    }\n",
       "\n",
       "    .dataframe thead th {\n",
       "        text-align: right;\n",
       "    }\n",
       "</style>\n",
       "<table border=\"1\" class=\"dataframe\">\n",
       "  <thead>\n",
       "    <tr style=\"text-align: right;\">\n",
       "      <th></th>\n",
       "      <th>0</th>\n",
       "      <th>1</th>\n",
       "    </tr>\n",
       "  </thead>\n",
       "  <tbody>\n",
       "    <tr>\n",
       "      <th>amenities</th>\n",
       "      <td>{'Flooring': 'yes', 'Parking Spaces': ' 1', 'B...</td>\n",
       "      <td>NaN</td>\n",
       "    </tr>\n",
       "    <tr>\n",
       "      <th>area</th>\n",
       "      <td>1265.0</td>\n",
       "      <td>4400.0</td>\n",
       "    </tr>\n",
       "    <tr>\n",
       "      <th>building_type</th>\n",
       "      <td>Apartment</td>\n",
       "      <td>Apartment</td>\n",
       "    </tr>\n",
       "    <tr>\n",
       "      <th>building_nature</th>\n",
       "      <td>Residential</td>\n",
       "      <td>Residential</td>\n",
       "    </tr>\n",
       "    <tr>\n",
       "      <th>location</th>\n",
       "      <td>Baridhara DOHS, Dhaka</td>\n",
       "      <td>Gulshan 2, Gulshan, Dhaka</td>\n",
       "    </tr>\n",
       "    <tr>\n",
       "      <th>num_bath_rooms</th>\n",
       "      <td>3 Baths</td>\n",
       "      <td>4 Baths</td>\n",
       "    </tr>\n",
       "    <tr>\n",
       "      <th>num_bed_rooms</th>\n",
       "      <td>3 Beds</td>\n",
       "      <td>4 Beds</td>\n",
       "    </tr>\n",
       "    <tr>\n",
       "      <th>price</th>\n",
       "      <td>1.25 Crore</td>\n",
       "      <td>7.04 Crore</td>\n",
       "    </tr>\n",
       "    <tr>\n",
       "      <th>property_description</th>\n",
       "      <td>Ready Flat Of 1265 Sq Ft Is Now Up For Sale In...</td>\n",
       "      <td>You Can Move Into This Well Planned And Comfor...</td>\n",
       "    </tr>\n",
       "    <tr>\n",
       "      <th>property_overview</th>\n",
       "      <td>Looking for a luxurious apartment with top-not...</td>\n",
       "      <td>Amicable environment, appropriate commuting sy...</td>\n",
       "    </tr>\n",
       "    <tr>\n",
       "      <th>property_url</th>\n",
       "      <td>https://www.bproperty.com/en/property/details-...</td>\n",
       "      <td>https://www.bproperty.com/en/property/details-...</td>\n",
       "    </tr>\n",
       "    <tr>\n",
       "      <th>purpose</th>\n",
       "      <td>For Sale</td>\n",
       "      <td>For Sale</td>\n",
       "    </tr>\n",
       "  </tbody>\n",
       "</table>\n",
       "</div>"
      ],
      "text/plain": [
       "                                                                      0  \\\n",
       "amenities             {'Flooring': 'yes', 'Parking Spaces': ' 1', 'B...   \n",
       "area                                                             1265.0   \n",
       "building_type                                                 Apartment   \n",
       "building_nature                                             Residential   \n",
       "location                                          Baridhara DOHS, Dhaka   \n",
       "num_bath_rooms                                                  3 Baths   \n",
       "num_bed_rooms                                                    3 Beds   \n",
       "price                                                        1.25 Crore   \n",
       "property_description  Ready Flat Of 1265 Sq Ft Is Now Up For Sale In...   \n",
       "property_overview     Looking for a luxurious apartment with top-not...   \n",
       "property_url          https://www.bproperty.com/en/property/details-...   \n",
       "purpose                                                        For Sale   \n",
       "\n",
       "                                                                      1  \n",
       "amenities                                                           NaN  \n",
       "area                                                             4400.0  \n",
       "building_type                                                 Apartment  \n",
       "building_nature                                             Residential  \n",
       "location                                      Gulshan 2, Gulshan, Dhaka  \n",
       "num_bath_rooms                                                  4 Baths  \n",
       "num_bed_rooms                                                    4 Beds  \n",
       "price                                                        7.04 Crore  \n",
       "property_description  You Can Move Into This Well Planned And Comfor...  \n",
       "property_overview     Amicable environment, appropriate commuting sy...  \n",
       "property_url          https://www.bproperty.com/en/property/details-...  \n",
       "purpose                                                        For Sale  "
      ]
     },
     "execution_count": 25,
     "metadata": {},
     "output_type": "execute_result"
    }
   ],
   "source": [
    "# Taking a look at content (for general confirmation)\n",
    "bproperty_df.head(2).T"
   ]
  },
  {
   "cell_type": "code",
   "execution_count": null,
   "id": "c31a80e4",
   "metadata": {},
   "outputs": [],
   "source": []
  },
  {
   "cell_type": "markdown",
   "id": "3bff1b89",
   "metadata": {},
   "source": [
    "### `num_bath_rooms` and `num_bed_rooms` should be integer, no string. ( [quality issue #3](#bproperty-assessment-report) )"
   ]
  },
  {
   "cell_type": "code",
   "execution_count": 26,
   "id": "d075e7eb",
   "metadata": {},
   "outputs": [
    {
     "data": {
      "text/plain": [
       "dtype('O')"
      ]
     },
     "execution_count": 26,
     "metadata": {},
     "output_type": "execute_result"
    }
   ],
   "source": [
    "bproperty_df[\"num_bath_rooms\"].dtype"
   ]
  },
  {
   "cell_type": "code",
   "execution_count": 27,
   "id": "263478fd",
   "metadata": {},
   "outputs": [
    {
     "data": {
      "text/plain": [
       "array(['3 Baths', '4 Baths', nan, '2 Baths', '10 Baths', '5 Baths',\n",
       "       '8 Baths', '1 Bath', '7 Baths', '6 Baths', '9 Baths'], dtype=object)"
      ]
     },
     "execution_count": 27,
     "metadata": {},
     "output_type": "execute_result"
    }
   ],
   "source": [
    "bproperty_df[\"num_bath_rooms\"].unique()"
   ]
  },
  {
   "cell_type": "code",
   "execution_count": 28,
   "id": "258f07b5",
   "metadata": {},
   "outputs": [
    {
     "data": {
      "text/plain": [
       "dtype('O')"
      ]
     },
     "execution_count": 28,
     "metadata": {},
     "output_type": "execute_result"
    }
   ],
   "source": [
    "bproperty_df[\"num_bed_rooms\"].dtype"
   ]
  },
  {
   "cell_type": "code",
   "execution_count": 29,
   "id": "5a0190c2",
   "metadata": {},
   "outputs": [
    {
     "data": {
      "text/plain": [
       "array(['3 Beds', '4 Beds', '2 Beds', nan, '21 Beds', '5 Beds', '7 Beds',\n",
       "       '1 Bed', '6 Beds', '19 Beds', '24 Beds', '33 Beds', '56 Beds',\n",
       "       '10 Beds', '13 Beds', '48 Beds', '12 Beds', '60 Beds', '18 Beds',\n",
       "       '40 Beds', '29 Beds', '23 Beds', '8 Beds', '75 Beds', '14 Beds',\n",
       "       '50 Beds', '42 Beds', '16 Beds', '36 Beds', '15 Beds', '25 Beds',\n",
       "       '22 Beds', '46 Beds', '32 Beds', '30 Beds', '11 Beds', '94 Beds',\n",
       "       '17 Beds', '20 Beds'], dtype=object)"
      ]
     },
     "execution_count": 29,
     "metadata": {},
     "output_type": "execute_result"
    }
   ],
   "source": [
    "bproperty_df[\"num_bed_rooms\"].unique()"
   ]
  },
  {
   "cell_type": "code",
   "execution_count": null,
   "id": "02b0889b",
   "metadata": {},
   "outputs": [],
   "source": []
  },
  {
   "cell_type": "markdown",
   "id": "06219ee0",
   "metadata": {},
   "source": [
    "#### Define\n",
    "* Replace `NaN` values by `0` (since in this case, that made sense: it mean the sample doesn't have a bath_room or bed_room \n",
    "* Remove `Bed`, `Beds`, `Bath` and `Baths` from the values of `num_bed_rooms` and `num_bath_rooms`\n",
    "* Convert `num_bed_rooms` and `num_bath_rooms` to integer"
   ]
  },
  {
   "cell_type": "markdown",
   "id": "a2b0b823",
   "metadata": {},
   "source": [
    "#### Code"
   ]
  },
  {
   "cell_type": "code",
   "execution_count": 30,
   "id": "c8af8490",
   "metadata": {},
   "outputs": [
    {
     "data": {
      "text/plain": [
       "(0, 0)"
      ]
     },
     "execution_count": 30,
     "metadata": {},
     "output_type": "execute_result"
    }
   ],
   "source": [
    "# Replace NaN value by 0 in num_bed_rooms and num_bath_rooms\n",
    "bproperty_df[\"num_bed_rooms\"].fillna(\"0\", inplace=True)\n",
    "bproperty_df[\"num_bath_rooms\"].fillna(\"0\", inplace=True)\n",
    "\n",
    "# Check that NaN values where replaced\n",
    "bproperty_df[\"num_bed_rooms\"].isnull().sum(), bproperty_df[\"num_bath_rooms\"].isnull().sum()"
   ]
  },
  {
   "cell_type": "code",
   "execution_count": 31,
   "id": "85fe710b",
   "metadata": {},
   "outputs": [],
   "source": [
    "# Removing the units (bed, bath, ...) in num_bed_rooms and num_bath_rooms\n",
    "bproperty_df[\"num_bed_rooms\"] = bproperty_df[\"num_bed_rooms\"].apply(lambda x: x.split(\" \")[0] )\n",
    "bproperty_df[\"num_bath_rooms\"] = bproperty_df[\"num_bath_rooms\"].apply(lambda x: x.split(\" \")[0] )"
   ]
  },
  {
   "cell_type": "code",
   "execution_count": 32,
   "id": "5fda035e",
   "metadata": {},
   "outputs": [],
   "source": [
    "# Converting num_bed_rooms and num_bath_rooms to integer\n",
    "bproperty_df[\"num_bed_rooms\"] = bproperty_df[\"num_bed_rooms\"].astype(int)\n",
    "bproperty_df[\"num_bath_rooms\"] = bproperty_df[\"num_bath_rooms\"].astype(int)\n"
   ]
  },
  {
   "cell_type": "code",
   "execution_count": null,
   "id": "4828b8f9",
   "metadata": {},
   "outputs": [],
   "source": []
  },
  {
   "cell_type": "markdown",
   "id": "d95f9603",
   "metadata": {},
   "source": [
    "#### Testing"
   ]
  },
  {
   "cell_type": "code",
   "execution_count": 33,
   "id": "86a90166",
   "metadata": {},
   "outputs": [
    {
     "data": {
      "text/plain": [
       "(dtype('int32'), dtype('int32'))"
      ]
     },
     "execution_count": 33,
     "metadata": {},
     "output_type": "execute_result"
    }
   ],
   "source": [
    "# Checking type conversion was succesful\n",
    "bproperty_df[\"num_bed_rooms\"].dtype, bproperty_df[\"num_bath_rooms\"].dtype"
   ]
  },
  {
   "cell_type": "code",
   "execution_count": null,
   "id": "ada6daa2",
   "metadata": {},
   "outputs": [],
   "source": []
  },
  {
   "cell_type": "code",
   "execution_count": null,
   "id": "658b7c8f",
   "metadata": {},
   "outputs": [],
   "source": []
  },
  {
   "cell_type": "markdown",
   "id": "22c23f8a",
   "metadata": {},
   "source": [
    "### `price` content is not uniform accross the dataset ( [quality issue #4 & #5](#bproperty-assessment-report) )\n",
    "\n",
    "`price` content is not uniform accross the dataset. Some are in `Lakh`, other in `Crore`, etc... The unit used for the price should be uniformized. A special attention should be paid to the fact that there are `price` without unit.  \n",
    "\n",
    "Furthermore, `price` should be decimal, not string."
   ]
  },
  {
   "cell_type": "code",
   "execution_count": 34,
   "id": "a747c7f2",
   "metadata": {},
   "outputs": [
    {
     "data": {
      "text/plain": [
       "array(['1.25 Crore', '7.04 Crore', '62 Lakh', ..., '13.98 Lakh',\n",
       "       '96.25 Lakh', '92.1 Lakh'], dtype=object)"
      ]
     },
     "execution_count": 34,
     "metadata": {},
     "output_type": "execute_result"
    }
   ],
   "source": [
    "bproperty_df[\"price\"].unique()"
   ]
  },
  {
   "cell_type": "markdown",
   "id": "e481cd85",
   "metadata": {},
   "source": [
    "#### Define\n",
    "* Convert all price to the same currency\n",
    "* Replace `Thousand` by triple `0`\n",
    "* Convert the column to float"
   ]
  },
  {
   "cell_type": "markdown",
   "id": "715cb7d0",
   "metadata": {},
   "source": [
    "#### Code"
   ]
  },
  {
   "cell_type": "code",
   "execution_count": 35,
   "id": "358a67d7",
   "metadata": {},
   "outputs": [
    {
     "name": "stdout",
     "output_type": "stream",
     "text": [
      "Currently processing sample 0...\n",
      "Currently processing sample 1000...\n",
      "Currently processing sample 2000...\n",
      "Currently processing sample 3000...\n",
      "Currently processing sample 4000...\n",
      "Currently processing sample 5000...\n",
      "Currently processing sample 6000...\n",
      "Currently processing sample 7000...\n",
      "Currently processing sample 8000...\n",
      "Currently processing sample 9000...\n",
      "Currently processing sample 10000...\n",
      "Currently processing sample 11000...\n",
      "Currently processing sample 12000...\n",
      "Currently processing sample 13000...\n",
      "Currently processing sample 14000...\n",
      "Currently processing sample 15000...\n",
      "Currently processing sample 16000...\n",
      "Currently processing sample 17000...\n",
      "Processing has come to an end\n"
     ]
    }
   ],
   "source": [
    "\"\"\"\n",
    "    Loop through `price` column, while:\n",
    "        * Converting all prices to BDT currency\n",
    "        * Replacing `Thousand` by triple `0`\n",
    "\"\"\"\n",
    "\n",
    "for index, row in bproperty_df.iterrows(): # loop through each sample\n",
    "    \n",
    "    # The code may take time, log in the console to keep track of things\n",
    "    if index==0 or index%1000==0:\n",
    "        print(f\"Currently processing sample {index}...\")\n",
    "        \n",
    "    # retrieve the price\n",
    "    sample_price = bproperty_df.loc[index, \"price\"]\n",
    "    splitted_sample_price= sample_price.split()\n",
    "    \n",
    "    # making sure there are only the value and unit in sample price\n",
    "    if len(splitted_sample_price)>2:\n",
    "        print(f\"Sample of index {index} has a suspicious value as price: {sample_price}\")\n",
    "        break\n",
    "        \n",
    "    price = float( splitted_sample_price[0] ) # will contain the price; eg: 1345\n",
    "    price_unit = splitted_sample_price[1].lower() # will contain the unit; eg: Lakh, Crore\n",
    "    \n",
    "    # making sure all units are taken into account\n",
    "    if price_unit not in [\"arab\",\"crore\",\"lakh\",\"thousand\"]:\n",
    "        print(f\"Sample of index {index} has a unit not taken into account for its price: {sample_price}\")\n",
    "        break\n",
    "    \n",
    "    # converting all price unit to BDT : 1 lakh=100000 BDT,1 crore=10000000 BDT, 1 Arab= 1000000000 BDT (Thanks @Al Momin Faruk)\n",
    "    if price_unit==\"arab\":\n",
    "        price *= 1000000000\n",
    "    elif price_unit==\"crore\":\n",
    "        price *= 10000000\n",
    "    elif price_unit==\"lakh\":\n",
    "        price *= 100000\n",
    "    elif price_unit==\"thousand\":\n",
    "        price *= 1000\n",
    "    else:\n",
    "        raise Exception(f\"Currency {price_unit} not taken to account\")\n",
    "    \n",
    "    # updating the price of the sample in the dataframe\n",
    "    bproperty_df.loc[index, \"price\"] = price\n",
    "\n",
    "print(\"Processing has come to an end\")\n",
    "    \n",
    "# Converting area to decimal\n",
    "bproperty_df[\"price\"] = bproperty_df[\"price\"].astype(float)"
   ]
  },
  {
   "cell_type": "code",
   "execution_count": null,
   "id": "4e7190cd",
   "metadata": {},
   "outputs": [],
   "source": []
  },
  {
   "cell_type": "markdown",
   "id": "00830f96",
   "metadata": {},
   "source": [
    "#### Testing"
   ]
  },
  {
   "cell_type": "code",
   "execution_count": 36,
   "id": "702f9cac",
   "metadata": {},
   "outputs": [
    {
     "data": {
      "text/plain": [
       "dtype('float64')"
      ]
     },
     "execution_count": 36,
     "metadata": {},
     "output_type": "execute_result"
    }
   ],
   "source": [
    "bproperty_df[\"price\"].dtype"
   ]
  },
  {
   "cell_type": "code",
   "execution_count": null,
   "id": "3a1e5c30",
   "metadata": {},
   "outputs": [],
   "source": []
  },
  {
   "cell_type": "code",
   "execution_count": null,
   "id": "8e650950",
   "metadata": {},
   "outputs": [],
   "source": []
  },
  {
   "cell_type": "markdown",
   "id": "b1843495",
   "metadata": {},
   "source": [
    "### Set `purpose` values to `Rent` or `Sale` ( [quality issue #6](#bproperty-assessment-report) )\n",
    "\n",
    "`purpose` should have `Rent` or `Sale` as values. This is not really an issue, its goal is only to keep values consistent accross all cleaned datasets."
   ]
  },
  {
   "cell_type": "code",
   "execution_count": 37,
   "id": "36a723ce",
   "metadata": {},
   "outputs": [
    {
     "data": {
      "text/plain": [
       "array(['For Sale', 'For Rent'], dtype=object)"
      ]
     },
     "execution_count": 37,
     "metadata": {},
     "output_type": "execute_result"
    }
   ],
   "source": [
    "bproperty_df[\"purpose\"].unique()"
   ]
  },
  {
   "cell_type": "code",
   "execution_count": null,
   "id": "68b638f7",
   "metadata": {},
   "outputs": [],
   "source": []
  },
  {
   "cell_type": "markdown",
   "id": "6f70f4e6",
   "metadata": {},
   "source": [
    "#### Define\n",
    "* Replace `For Sale` by `Sale`, and `For Rent` by `Rent` "
   ]
  },
  {
   "cell_type": "code",
   "execution_count": null,
   "id": "c66412c5",
   "metadata": {},
   "outputs": [],
   "source": []
  },
  {
   "cell_type": "markdown",
   "id": "4f56cbdb",
   "metadata": {},
   "source": [
    "#### Code"
   ]
  },
  {
   "cell_type": "code",
   "execution_count": 38,
   "id": "c336a58e",
   "metadata": {},
   "outputs": [],
   "source": [
    "bproperty_df[\"purpose\"] = bproperty_df[\"purpose\"].apply(lambda x: x.split(\" \")[1] )"
   ]
  },
  {
   "cell_type": "markdown",
   "id": "908f57a7",
   "metadata": {},
   "source": [
    "#### Testing"
   ]
  },
  {
   "cell_type": "code",
   "execution_count": 39,
   "id": "8e63f348",
   "metadata": {},
   "outputs": [
    {
     "data": {
      "text/plain": [
       "array(['Sale', 'Rent'], dtype=object)"
      ]
     },
     "execution_count": 39,
     "metadata": {},
     "output_type": "execute_result"
    }
   ],
   "source": [
    "bproperty_df[\"purpose\"].unique()"
   ]
  },
  {
   "cell_type": "code",
   "execution_count": null,
   "id": "101cee5f",
   "metadata": {},
   "outputs": [],
   "source": []
  },
  {
   "cell_type": "code",
   "execution_count": null,
   "id": "c98ac873",
   "metadata": {},
   "outputs": [],
   "source": []
  },
  {
   "cell_type": "markdown",
   "id": "29884ef8",
   "metadata": {},
   "source": [
    "### Split `location` column content into adequate columns ( [tidiness issue #1](#bproperty-assessment-report) )\n",
    "\n",
    "`location` has concatened informations: city, district, sector, etc. Those will be splitted into `city` and `address`."
   ]
  },
  {
   "cell_type": "code",
   "execution_count": 40,
   "id": "35897387",
   "metadata": {},
   "outputs": [
    {
     "data": {
      "text/plain": [
       "0                  Baridhara DOHS, Dhaka\n",
       "1              Gulshan 2, Gulshan, Dhaka\n",
       "2                        Khilgaon, Dhaka\n",
       "3                        Khilgaon, Dhaka\n",
       "4                        Khilgaon, Dhaka\n",
       "                      ...               \n",
       "17251          Darussalam, Mirpur, Dhaka\n",
       "17252           Meradia, Khilgaon, Dhaka\n",
       "17253    Block J, Bashundhara R-A, Dhaka\n",
       "17254    Block G, Bashundhara R-A, Dhaka\n",
       "17255           Block H, Banasree, Dhaka\n",
       "Name: location, Length: 17256, dtype: object"
      ]
     },
     "execution_count": 40,
     "metadata": {},
     "output_type": "execute_result"
    }
   ],
   "source": [
    "bproperty_df[\"location\"]"
   ]
  },
  {
   "cell_type": "code",
   "execution_count": null,
   "id": "879d928b",
   "metadata": {},
   "outputs": [],
   "source": []
  },
  {
   "cell_type": "markdown",
   "id": "501252b3",
   "metadata": {},
   "source": [
    "#### Define\n",
    "* Split content of `location` to `city` and `address`\n",
    "* Remove `location` column"
   ]
  },
  {
   "cell_type": "code",
   "execution_count": null,
   "id": "550820f3",
   "metadata": {},
   "outputs": [],
   "source": []
  },
  {
   "cell_type": "markdown",
   "id": "a894ac70",
   "metadata": {},
   "source": [
    "#### Code"
   ]
  },
  {
   "cell_type": "code",
   "execution_count": 41,
   "id": "0e15de8a",
   "metadata": {},
   "outputs": [],
   "source": [
    "# Retrieve city in location\n",
    "bproperty_df[\"city\"] = bproperty_df[\"location\"].apply(lambda x: x.split(\",\")[-1].strip() )\n",
    "\n",
    "# Retrieve address in location\n",
    "bproperty_df[\"address\"] = bproperty_df[\"location\"].apply(lambda x: \",\".join(x.split(\",\")[:-1]).strip() )"
   ]
  },
  {
   "cell_type": "code",
   "execution_count": 42,
   "id": "17979263",
   "metadata": {},
   "outputs": [
    {
     "data": {
      "text/html": [
       "<div>\n",
       "<style scoped>\n",
       "    .dataframe tbody tr th:only-of-type {\n",
       "        vertical-align: middle;\n",
       "    }\n",
       "\n",
       "    .dataframe tbody tr th {\n",
       "        vertical-align: top;\n",
       "    }\n",
       "\n",
       "    .dataframe thead th {\n",
       "        text-align: right;\n",
       "    }\n",
       "</style>\n",
       "<table border=\"1\" class=\"dataframe\">\n",
       "  <thead>\n",
       "    <tr style=\"text-align: right;\">\n",
       "      <th></th>\n",
       "      <th>location</th>\n",
       "      <th>city</th>\n",
       "      <th>address</th>\n",
       "    </tr>\n",
       "  </thead>\n",
       "  <tbody>\n",
       "    <tr>\n",
       "      <th>0</th>\n",
       "      <td>Baridhara DOHS, Dhaka</td>\n",
       "      <td>Dhaka</td>\n",
       "      <td>Baridhara DOHS</td>\n",
       "    </tr>\n",
       "    <tr>\n",
       "      <th>1</th>\n",
       "      <td>Gulshan 2, Gulshan, Dhaka</td>\n",
       "      <td>Dhaka</td>\n",
       "      <td>Gulshan 2, Gulshan</td>\n",
       "    </tr>\n",
       "    <tr>\n",
       "      <th>2</th>\n",
       "      <td>Khilgaon, Dhaka</td>\n",
       "      <td>Dhaka</td>\n",
       "      <td>Khilgaon</td>\n",
       "    </tr>\n",
       "    <tr>\n",
       "      <th>3</th>\n",
       "      <td>Khilgaon, Dhaka</td>\n",
       "      <td>Dhaka</td>\n",
       "      <td>Khilgaon</td>\n",
       "    </tr>\n",
       "    <tr>\n",
       "      <th>4</th>\n",
       "      <td>Khilgaon, Dhaka</td>\n",
       "      <td>Dhaka</td>\n",
       "      <td>Khilgaon</td>\n",
       "    </tr>\n",
       "    <tr>\n",
       "      <th>...</th>\n",
       "      <td>...</td>\n",
       "      <td>...</td>\n",
       "      <td>...</td>\n",
       "    </tr>\n",
       "    <tr>\n",
       "      <th>17251</th>\n",
       "      <td>Darussalam, Mirpur, Dhaka</td>\n",
       "      <td>Dhaka</td>\n",
       "      <td>Darussalam, Mirpur</td>\n",
       "    </tr>\n",
       "    <tr>\n",
       "      <th>17252</th>\n",
       "      <td>Meradia, Khilgaon, Dhaka</td>\n",
       "      <td>Dhaka</td>\n",
       "      <td>Meradia, Khilgaon</td>\n",
       "    </tr>\n",
       "    <tr>\n",
       "      <th>17253</th>\n",
       "      <td>Block J, Bashundhara R-A, Dhaka</td>\n",
       "      <td>Dhaka</td>\n",
       "      <td>Block J, Bashundhara R-A</td>\n",
       "    </tr>\n",
       "    <tr>\n",
       "      <th>17254</th>\n",
       "      <td>Block G, Bashundhara R-A, Dhaka</td>\n",
       "      <td>Dhaka</td>\n",
       "      <td>Block G, Bashundhara R-A</td>\n",
       "    </tr>\n",
       "    <tr>\n",
       "      <th>17255</th>\n",
       "      <td>Block H, Banasree, Dhaka</td>\n",
       "      <td>Dhaka</td>\n",
       "      <td>Block H, Banasree</td>\n",
       "    </tr>\n",
       "  </tbody>\n",
       "</table>\n",
       "<p>17256 rows × 3 columns</p>\n",
       "</div>"
      ],
      "text/plain": [
       "                              location   city                   address\n",
       "0                Baridhara DOHS, Dhaka  Dhaka            Baridhara DOHS\n",
       "1            Gulshan 2, Gulshan, Dhaka  Dhaka        Gulshan 2, Gulshan\n",
       "2                      Khilgaon, Dhaka  Dhaka                  Khilgaon\n",
       "3                      Khilgaon, Dhaka  Dhaka                  Khilgaon\n",
       "4                      Khilgaon, Dhaka  Dhaka                  Khilgaon\n",
       "...                                ...    ...                       ...\n",
       "17251        Darussalam, Mirpur, Dhaka  Dhaka        Darussalam, Mirpur\n",
       "17252         Meradia, Khilgaon, Dhaka  Dhaka         Meradia, Khilgaon\n",
       "17253  Block J, Bashundhara R-A, Dhaka  Dhaka  Block J, Bashundhara R-A\n",
       "17254  Block G, Bashundhara R-A, Dhaka  Dhaka  Block G, Bashundhara R-A\n",
       "17255         Block H, Banasree, Dhaka  Dhaka         Block H, Banasree\n",
       "\n",
       "[17256 rows x 3 columns]"
      ]
     },
     "execution_count": 42,
     "metadata": {},
     "output_type": "execute_result"
    }
   ],
   "source": [
    "# Checking the content of location, city, and address\n",
    "bproperty_df[ [\"location\",\"city\",\"address\"] ] "
   ]
  },
  {
   "cell_type": "code",
   "execution_count": 43,
   "id": "adc2a8ac",
   "metadata": {},
   "outputs": [
    {
     "data": {
      "text/plain": [
       "(17256, 14)"
      ]
     },
     "execution_count": 43,
     "metadata": {},
     "output_type": "execute_result"
    }
   ],
   "source": [
    "bproperty_df.shape"
   ]
  },
  {
   "cell_type": "code",
   "execution_count": 44,
   "id": "80e2ba50",
   "metadata": {},
   "outputs": [],
   "source": [
    "# Drop location column\n",
    "bproperty_df.drop([\"location\"], axis=1, inplace=True)"
   ]
  },
  {
   "cell_type": "code",
   "execution_count": 45,
   "id": "55ecedfe",
   "metadata": {},
   "outputs": [
    {
     "data": {
      "text/plain": [
       "(17256, 13)"
      ]
     },
     "execution_count": 45,
     "metadata": {},
     "output_type": "execute_result"
    }
   ],
   "source": [
    "# Making sure removal was successful\n",
    "bproperty_df.shape"
   ]
  },
  {
   "cell_type": "code",
   "execution_count": null,
   "id": "22053c89",
   "metadata": {},
   "outputs": [],
   "source": []
  },
  {
   "cell_type": "markdown",
   "id": "f941b3d1",
   "metadata": {},
   "source": [
    "### Cleaning `amenities` feature ( [tidiness issue #2](#bproperty-assessment-report) )\n",
    "\n",
    "In `amenities` feature, each key in the dictionaries (in its content) should become a column. The value of the key should become the sample value corresponding to that column."
   ]
  },
  {
   "cell_type": "code",
   "execution_count": 46,
   "id": "e292f609",
   "metadata": {},
   "outputs": [
    {
     "data": {
      "text/plain": [
       "\"{'Flooring': 'yes', 'Parking Spaces': ' 1', 'Balcony or Terrace': 'yes', 'Floor Level': 'yes', 'View': 'yes', 'Elevators in Building': ' 1', 'Lobby in Building': 'yes'}\""
      ]
     },
     "execution_count": 46,
     "metadata": {},
     "output_type": "execute_result"
    }
   ],
   "source": [
    "bproperty_df[\"amenities\"][0]"
   ]
  },
  {
   "cell_type": "code",
   "execution_count": 47,
   "id": "e13f70b8",
   "metadata": {},
   "outputs": [
    {
     "data": {
      "text/plain": [
       "\"{'View': 'yes', 'Parking Spaces': ' 1', 'Floor Level': 'yes', 'Balcony or Terrace': 'yes', 'Lobby in Building': 'yes', 'Electricity Backup': 'yes', 'Flooring': 'yes', 'Elevators in Building': ' 1', 'Maintenance Staff': 'yes', 'Cleaning Services': 'yes'}\""
      ]
     },
     "execution_count": 47,
     "metadata": {},
     "output_type": "execute_result"
    }
   ],
   "source": [
    "bproperty_df[\"amenities\"][12]"
   ]
  },
  {
   "cell_type": "code",
   "execution_count": null,
   "id": "7842b67a",
   "metadata": {},
   "outputs": [],
   "source": []
  },
  {
   "cell_type": "markdown",
   "id": "292dc2db",
   "metadata": {},
   "source": [
    "#### Define\n",
    "* Keys in the dictionaries of `amenities` will become new columns in the dataset; the values of the keys will become the new columns values for the corresponding sample."
   ]
  },
  {
   "cell_type": "code",
   "execution_count": null,
   "id": "efe404a1",
   "metadata": {},
   "outputs": [],
   "source": []
  },
  {
   "cell_type": "markdown",
   "id": "9a990682",
   "metadata": {},
   "source": [
    "#### Code"
   ]
  },
  {
   "cell_type": "code",
   "execution_count": 48,
   "id": "d93012b3",
   "metadata": {},
   "outputs": [
    {
     "name": "stdout",
     "output_type": "stream",
     "text": [
      "Currently processing sample 0...\n",
      "Currently processing sample 1000...\n",
      "Currently processing sample 2000...\n",
      "Currently processing sample 3000...\n",
      "Currently processing sample 4000...\n",
      "Currently processing sample 5000...\n",
      "Currently processing sample 6000...\n",
      "Currently processing sample 7000...\n",
      "Currently processing sample 8000...\n",
      "Currently processing sample 9000...\n",
      "Currently processing sample 10000...\n",
      "Currently processing sample 11000...\n",
      "Currently processing sample 12000...\n",
      "Currently processing sample 13000...\n",
      "Currently processing sample 14000...\n",
      "Currently processing sample 15000...\n",
      "Currently processing sample 16000...\n",
      "Currently processing sample 17000...\n"
     ]
    }
   ],
   "source": [
    "\"\"\"\n",
    "    Loop through `amenities` column, while:\n",
    "         * Converting the dictionnaries keys to new columns; the values of the keys are becoming\n",
    "             the new columns values for the corresponding sample\n",
    "\"\"\"\n",
    "\n",
    "for index, row in bproperty_df.iterrows(): # loop through each sample\n",
    "    \n",
    "    # The code may take time, log in the console to keep track of things\n",
    "    if index==0 or index%1000==0:\n",
    "        print(f\"Currently processing sample {index}...\")\n",
    "        \n",
    "    # If current sample doen't have amenities, go to the next one\n",
    "    if pd.isna(bproperty_df.loc[index, \"amenities\"]):\n",
    "        continue\n",
    "    \n",
    "    # retrieve the amenities\n",
    "    sample_amenities = str(bproperty_df.loc[index, \"amenities\"]).replace(\"'\",\"\\\"\")\n",
    "    \n",
    "    amenities_dict = eval(sample_amenities)\n",
    "    \n",
    "    # Go through each key in the amenities dictionnary\n",
    "    for key, value in amenities_dict.items():\n",
    "        \n",
    "        # put a suffix to the new column name, so that collaborators know it was generated from amenities feature\n",
    "        column_name = slugify(key)+\"-amenity\"\n",
    "        #print(column_name)\n",
    "        \n",
    "        # Create new column based on the key if not already existing\n",
    "        if column_name not in bproperty_df.columns.to_list():\n",
    "            bproperty_df[column_name]= np.NaN # Giving NaN as the default value for the column\n",
    "        \n",
    "        # Affecting to the new column created, for the current sample, the value of the dictionary's key\n",
    "        bproperty_df.loc[index, column_name] = value\n",
    "        "
   ]
  },
  {
   "cell_type": "code",
   "execution_count": 49,
   "id": "a30f5507",
   "metadata": {},
   "outputs": [
    {
     "data": {
      "text/html": [
       "<div>\n",
       "<style scoped>\n",
       "    .dataframe tbody tr th:only-of-type {\n",
       "        vertical-align: middle;\n",
       "    }\n",
       "\n",
       "    .dataframe tbody tr th {\n",
       "        vertical-align: top;\n",
       "    }\n",
       "\n",
       "    .dataframe thead th {\n",
       "        text-align: right;\n",
       "    }\n",
       "</style>\n",
       "<table border=\"1\" class=\"dataframe\">\n",
       "  <thead>\n",
       "    <tr style=\"text-align: right;\">\n",
       "      <th></th>\n",
       "      <th>0</th>\n",
       "      <th>1</th>\n",
       "      <th>2</th>\n",
       "    </tr>\n",
       "  </thead>\n",
       "  <tbody>\n",
       "    <tr>\n",
       "      <th>amenities</th>\n",
       "      <td>{'Flooring': 'yes', 'Parking Spaces': ' 1', 'B...</td>\n",
       "      <td>NaN</td>\n",
       "      <td>{'View': 'yes', 'Balcony or Terrace': 'yes', '...</td>\n",
       "    </tr>\n",
       "    <tr>\n",
       "      <th>area</th>\n",
       "      <td>1265.0</td>\n",
       "      <td>4400.0</td>\n",
       "      <td>1160.0</td>\n",
       "    </tr>\n",
       "    <tr>\n",
       "      <th>building_type</th>\n",
       "      <td>Apartment</td>\n",
       "      <td>Apartment</td>\n",
       "      <td>Apartment</td>\n",
       "    </tr>\n",
       "    <tr>\n",
       "      <th>building_nature</th>\n",
       "      <td>Residential</td>\n",
       "      <td>Residential</td>\n",
       "      <td>Residential</td>\n",
       "    </tr>\n",
       "    <tr>\n",
       "      <th>num_bath_rooms</th>\n",
       "      <td>3</td>\n",
       "      <td>4</td>\n",
       "      <td>0</td>\n",
       "    </tr>\n",
       "    <tr>\n",
       "      <th>num_bed_rooms</th>\n",
       "      <td>3</td>\n",
       "      <td>4</td>\n",
       "      <td>3</td>\n",
       "    </tr>\n",
       "    <tr>\n",
       "      <th>price</th>\n",
       "      <td>12500000.0</td>\n",
       "      <td>70400000.0</td>\n",
       "      <td>6200000.0</td>\n",
       "    </tr>\n",
       "    <tr>\n",
       "      <th>property_description</th>\n",
       "      <td>Ready Flat Of 1265 Sq Ft Is Now Up For Sale In...</td>\n",
       "      <td>You Can Move Into This Well Planned And Comfor...</td>\n",
       "      <td>Buy This 1160 Sq Ft Flat In Khilgaon, South Goran</td>\n",
       "    </tr>\n",
       "    <tr>\n",
       "      <th>property_overview</th>\n",
       "      <td>Looking for a luxurious apartment with top-not...</td>\n",
       "      <td>Amicable environment, appropriate commuting sy...</td>\n",
       "      <td>A lively area to live, lovely home to settle a...</td>\n",
       "    </tr>\n",
       "    <tr>\n",
       "      <th>property_url</th>\n",
       "      <td>https://www.bproperty.com/en/property/details-...</td>\n",
       "      <td>https://www.bproperty.com/en/property/details-...</td>\n",
       "      <td>https://www.bproperty.com/en/property/details-...</td>\n",
       "    </tr>\n",
       "    <tr>\n",
       "      <th>purpose</th>\n",
       "      <td>Sale</td>\n",
       "      <td>Sale</td>\n",
       "      <td>Sale</td>\n",
       "    </tr>\n",
       "    <tr>\n",
       "      <th>city</th>\n",
       "      <td>Dhaka</td>\n",
       "      <td>Dhaka</td>\n",
       "      <td>Dhaka</td>\n",
       "    </tr>\n",
       "    <tr>\n",
       "      <th>address</th>\n",
       "      <td>Baridhara DOHS</td>\n",
       "      <td>Gulshan 2, Gulshan</td>\n",
       "      <td>Khilgaon</td>\n",
       "    </tr>\n",
       "    <tr>\n",
       "      <th>flooring-amenity</th>\n",
       "      <td>yes</td>\n",
       "      <td>NaN</td>\n",
       "      <td>yes</td>\n",
       "    </tr>\n",
       "    <tr>\n",
       "      <th>parking-spaces-amenity</th>\n",
       "      <td>1</td>\n",
       "      <td>NaN</td>\n",
       "      <td>1</td>\n",
       "    </tr>\n",
       "    <tr>\n",
       "      <th>balcony-or-terrace-amenity</th>\n",
       "      <td>yes</td>\n",
       "      <td>NaN</td>\n",
       "      <td>yes</td>\n",
       "    </tr>\n",
       "    <tr>\n",
       "      <th>floor-level-amenity</th>\n",
       "      <td>yes</td>\n",
       "      <td>NaN</td>\n",
       "      <td>yes</td>\n",
       "    </tr>\n",
       "    <tr>\n",
       "      <th>view-amenity</th>\n",
       "      <td>yes</td>\n",
       "      <td>NaN</td>\n",
       "      <td>yes</td>\n",
       "    </tr>\n",
       "    <tr>\n",
       "      <th>elevators-in-building-amenity</th>\n",
       "      <td>1</td>\n",
       "      <td>NaN</td>\n",
       "      <td>1</td>\n",
       "    </tr>\n",
       "    <tr>\n",
       "      <th>lobby-in-building-amenity</th>\n",
       "      <td>yes</td>\n",
       "      <td>NaN</td>\n",
       "      <td>yes</td>\n",
       "    </tr>\n",
       "    <tr>\n",
       "      <th>electricity-backup-amenity</th>\n",
       "      <td>NaN</td>\n",
       "      <td>NaN</td>\n",
       "      <td>yes</td>\n",
       "    </tr>\n",
       "    <tr>\n",
       "      <th>cctv-security-amenity</th>\n",
       "      <td>NaN</td>\n",
       "      <td>NaN</td>\n",
       "      <td>yes</td>\n",
       "    </tr>\n",
       "    <tr>\n",
       "      <th>maintenance-staff-amenity</th>\n",
       "      <td>NaN</td>\n",
       "      <td>NaN</td>\n",
       "      <td>yes</td>\n",
       "    </tr>\n",
       "    <tr>\n",
       "      <th>cleaning-services-amenity</th>\n",
       "      <td>NaN</td>\n",
       "      <td>NaN</td>\n",
       "      <td>yes</td>\n",
       "    </tr>\n",
       "    <tr>\n",
       "      <th>freehold-amenity</th>\n",
       "      <td>NaN</td>\n",
       "      <td>NaN</td>\n",
       "      <td>NaN</td>\n",
       "    </tr>\n",
       "    <tr>\n",
       "      <th>24-hours-concierge-amenity</th>\n",
       "      <td>NaN</td>\n",
       "      <td>NaN</td>\n",
       "      <td>NaN</td>\n",
       "    </tr>\n",
       "    <tr>\n",
       "      <th>waste-disposal-amenity</th>\n",
       "      <td>NaN</td>\n",
       "      <td>NaN</td>\n",
       "      <td>NaN</td>\n",
       "    </tr>\n",
       "    <tr>\n",
       "      <th>double-glazed-windows-amenity</th>\n",
       "      <td>NaN</td>\n",
       "      <td>NaN</td>\n",
       "      <td>NaN</td>\n",
       "    </tr>\n",
       "    <tr>\n",
       "      <th>broadband-internet-amenity</th>\n",
       "      <td>NaN</td>\n",
       "      <td>NaN</td>\n",
       "      <td>NaN</td>\n",
       "    </tr>\n",
       "    <tr>\n",
       "      <th>lawn-or-garden-amenity</th>\n",
       "      <td>NaN</td>\n",
       "      <td>NaN</td>\n",
       "      <td>NaN</td>\n",
       "    </tr>\n",
       "    <tr>\n",
       "      <th>storage-areas-amenity</th>\n",
       "      <td>NaN</td>\n",
       "      <td>NaN</td>\n",
       "      <td>NaN</td>\n",
       "    </tr>\n",
       "    <tr>\n",
       "      <th>service-elevators-amenity</th>\n",
       "      <td>NaN</td>\n",
       "      <td>NaN</td>\n",
       "      <td>NaN</td>\n",
       "    </tr>\n",
       "    <tr>\n",
       "      <th>intercom-amenity</th>\n",
       "      <td>NaN</td>\n",
       "      <td>NaN</td>\n",
       "      <td>NaN</td>\n",
       "    </tr>\n",
       "    <tr>\n",
       "      <th>prayer-room-amenity</th>\n",
       "      <td>NaN</td>\n",
       "      <td>NaN</td>\n",
       "      <td>NaN</td>\n",
       "    </tr>\n",
       "    <tr>\n",
       "      <th>conference-room-amenity</th>\n",
       "      <td>NaN</td>\n",
       "      <td>NaN</td>\n",
       "      <td>NaN</td>\n",
       "    </tr>\n",
       "    <tr>\n",
       "      <th>first-aid-medical-center-amenity</th>\n",
       "      <td>NaN</td>\n",
       "      <td>NaN</td>\n",
       "      <td>NaN</td>\n",
       "    </tr>\n",
       "    <tr>\n",
       "      <th>business-center-amenity</th>\n",
       "      <td>NaN</td>\n",
       "      <td>NaN</td>\n",
       "      <td>NaN</td>\n",
       "    </tr>\n",
       "    <tr>\n",
       "      <th>facilities-for-disabled-amenity</th>\n",
       "      <td>NaN</td>\n",
       "      <td>NaN</td>\n",
       "      <td>NaN</td>\n",
       "    </tr>\n",
       "    <tr>\n",
       "      <th>furnished-amenity</th>\n",
       "      <td>NaN</td>\n",
       "      <td>NaN</td>\n",
       "      <td>NaN</td>\n",
       "    </tr>\n",
       "    <tr>\n",
       "      <th>swimming-pool-amenity</th>\n",
       "      <td>NaN</td>\n",
       "      <td>NaN</td>\n",
       "      <td>NaN</td>\n",
       "    </tr>\n",
       "    <tr>\n",
       "      <th>steam-room-amenity</th>\n",
       "      <td>NaN</td>\n",
       "      <td>NaN</td>\n",
       "      <td>NaN</td>\n",
       "    </tr>\n",
       "    <tr>\n",
       "      <th>sauna-amenity</th>\n",
       "      <td>NaN</td>\n",
       "      <td>NaN</td>\n",
       "      <td>NaN</td>\n",
       "    </tr>\n",
       "    <tr>\n",
       "      <th>jacuzzi-amenity</th>\n",
       "      <td>NaN</td>\n",
       "      <td>NaN</td>\n",
       "      <td>NaN</td>\n",
       "    </tr>\n",
       "    <tr>\n",
       "      <th>central-heating-amenity</th>\n",
       "      <td>NaN</td>\n",
       "      <td>NaN</td>\n",
       "      <td>NaN</td>\n",
       "    </tr>\n",
       "    <tr>\n",
       "      <th>atm-facility-amenity</th>\n",
       "      <td>NaN</td>\n",
       "      <td>NaN</td>\n",
       "      <td>NaN</td>\n",
       "    </tr>\n",
       "    <tr>\n",
       "      <th>cafeteria-or-canteen-amenity</th>\n",
       "      <td>NaN</td>\n",
       "      <td>NaN</td>\n",
       "      <td>NaN</td>\n",
       "    </tr>\n",
       "    <tr>\n",
       "      <th>barbeque-area-amenity</th>\n",
       "      <td>NaN</td>\n",
       "      <td>NaN</td>\n",
       "      <td>NaN</td>\n",
       "    </tr>\n",
       "    <tr>\n",
       "      <th>laundry-facility-amenity</th>\n",
       "      <td>NaN</td>\n",
       "      <td>NaN</td>\n",
       "      <td>NaN</td>\n",
       "    </tr>\n",
       "    <tr>\n",
       "      <th>shared-kitchen-amenity</th>\n",
       "      <td>NaN</td>\n",
       "      <td>NaN</td>\n",
       "      <td>NaN</td>\n",
       "    </tr>\n",
       "    <tr>\n",
       "      <th>day-care-center-amenity</th>\n",
       "      <td>NaN</td>\n",
       "      <td>NaN</td>\n",
       "      <td>NaN</td>\n",
       "    </tr>\n",
       "  </tbody>\n",
       "</table>\n",
       "</div>"
      ],
      "text/plain": [
       "                                                                                  0  \\\n",
       "amenities                         {'Flooring': 'yes', 'Parking Spaces': ' 1', 'B...   \n",
       "area                                                                         1265.0   \n",
       "building_type                                                             Apartment   \n",
       "building_nature                                                         Residential   \n",
       "num_bath_rooms                                                                    3   \n",
       "num_bed_rooms                                                                     3   \n",
       "price                                                                    12500000.0   \n",
       "property_description              Ready Flat Of 1265 Sq Ft Is Now Up For Sale In...   \n",
       "property_overview                 Looking for a luxurious apartment with top-not...   \n",
       "property_url                      https://www.bproperty.com/en/property/details-...   \n",
       "purpose                                                                        Sale   \n",
       "city                                                                          Dhaka   \n",
       "address                                                              Baridhara DOHS   \n",
       "flooring-amenity                                                                yes   \n",
       "parking-spaces-amenity                                                            1   \n",
       "balcony-or-terrace-amenity                                                      yes   \n",
       "floor-level-amenity                                                             yes   \n",
       "view-amenity                                                                    yes   \n",
       "elevators-in-building-amenity                                                     1   \n",
       "lobby-in-building-amenity                                                       yes   \n",
       "electricity-backup-amenity                                                      NaN   \n",
       "cctv-security-amenity                                                           NaN   \n",
       "maintenance-staff-amenity                                                       NaN   \n",
       "cleaning-services-amenity                                                       NaN   \n",
       "freehold-amenity                                                                NaN   \n",
       "24-hours-concierge-amenity                                                      NaN   \n",
       "waste-disposal-amenity                                                          NaN   \n",
       "double-glazed-windows-amenity                                                   NaN   \n",
       "broadband-internet-amenity                                                      NaN   \n",
       "lawn-or-garden-amenity                                                          NaN   \n",
       "storage-areas-amenity                                                           NaN   \n",
       "service-elevators-amenity                                                       NaN   \n",
       "intercom-amenity                                                                NaN   \n",
       "prayer-room-amenity                                                             NaN   \n",
       "conference-room-amenity                                                         NaN   \n",
       "first-aid-medical-center-amenity                                                NaN   \n",
       "business-center-amenity                                                         NaN   \n",
       "facilities-for-disabled-amenity                                                 NaN   \n",
       "furnished-amenity                                                               NaN   \n",
       "swimming-pool-amenity                                                           NaN   \n",
       "steam-room-amenity                                                              NaN   \n",
       "sauna-amenity                                                                   NaN   \n",
       "jacuzzi-amenity                                                                 NaN   \n",
       "central-heating-amenity                                                         NaN   \n",
       "atm-facility-amenity                                                            NaN   \n",
       "cafeteria-or-canteen-amenity                                                    NaN   \n",
       "barbeque-area-amenity                                                           NaN   \n",
       "laundry-facility-amenity                                                        NaN   \n",
       "shared-kitchen-amenity                                                          NaN   \n",
       "day-care-center-amenity                                                         NaN   \n",
       "\n",
       "                                                                                  1  \\\n",
       "amenities                                                                       NaN   \n",
       "area                                                                         4400.0   \n",
       "building_type                                                             Apartment   \n",
       "building_nature                                                         Residential   \n",
       "num_bath_rooms                                                                    4   \n",
       "num_bed_rooms                                                                     4   \n",
       "price                                                                    70400000.0   \n",
       "property_description              You Can Move Into This Well Planned And Comfor...   \n",
       "property_overview                 Amicable environment, appropriate commuting sy...   \n",
       "property_url                      https://www.bproperty.com/en/property/details-...   \n",
       "purpose                                                                        Sale   \n",
       "city                                                                          Dhaka   \n",
       "address                                                          Gulshan 2, Gulshan   \n",
       "flooring-amenity                                                                NaN   \n",
       "parking-spaces-amenity                                                          NaN   \n",
       "balcony-or-terrace-amenity                                                      NaN   \n",
       "floor-level-amenity                                                             NaN   \n",
       "view-amenity                                                                    NaN   \n",
       "elevators-in-building-amenity                                                   NaN   \n",
       "lobby-in-building-amenity                                                       NaN   \n",
       "electricity-backup-amenity                                                      NaN   \n",
       "cctv-security-amenity                                                           NaN   \n",
       "maintenance-staff-amenity                                                       NaN   \n",
       "cleaning-services-amenity                                                       NaN   \n",
       "freehold-amenity                                                                NaN   \n",
       "24-hours-concierge-amenity                                                      NaN   \n",
       "waste-disposal-amenity                                                          NaN   \n",
       "double-glazed-windows-amenity                                                   NaN   \n",
       "broadband-internet-amenity                                                      NaN   \n",
       "lawn-or-garden-amenity                                                          NaN   \n",
       "storage-areas-amenity                                                           NaN   \n",
       "service-elevators-amenity                                                       NaN   \n",
       "intercom-amenity                                                                NaN   \n",
       "prayer-room-amenity                                                             NaN   \n",
       "conference-room-amenity                                                         NaN   \n",
       "first-aid-medical-center-amenity                                                NaN   \n",
       "business-center-amenity                                                         NaN   \n",
       "facilities-for-disabled-amenity                                                 NaN   \n",
       "furnished-amenity                                                               NaN   \n",
       "swimming-pool-amenity                                                           NaN   \n",
       "steam-room-amenity                                                              NaN   \n",
       "sauna-amenity                                                                   NaN   \n",
       "jacuzzi-amenity                                                                 NaN   \n",
       "central-heating-amenity                                                         NaN   \n",
       "atm-facility-amenity                                                            NaN   \n",
       "cafeteria-or-canteen-amenity                                                    NaN   \n",
       "barbeque-area-amenity                                                           NaN   \n",
       "laundry-facility-amenity                                                        NaN   \n",
       "shared-kitchen-amenity                                                          NaN   \n",
       "day-care-center-amenity                                                         NaN   \n",
       "\n",
       "                                                                                  2  \n",
       "amenities                         {'View': 'yes', 'Balcony or Terrace': 'yes', '...  \n",
       "area                                                                         1160.0  \n",
       "building_type                                                             Apartment  \n",
       "building_nature                                                         Residential  \n",
       "num_bath_rooms                                                                    0  \n",
       "num_bed_rooms                                                                     3  \n",
       "price                                                                     6200000.0  \n",
       "property_description              Buy This 1160 Sq Ft Flat In Khilgaon, South Goran  \n",
       "property_overview                 A lively area to live, lovely home to settle a...  \n",
       "property_url                      https://www.bproperty.com/en/property/details-...  \n",
       "purpose                                                                        Sale  \n",
       "city                                                                          Dhaka  \n",
       "address                                                                    Khilgaon  \n",
       "flooring-amenity                                                                yes  \n",
       "parking-spaces-amenity                                                            1  \n",
       "balcony-or-terrace-amenity                                                      yes  \n",
       "floor-level-amenity                                                             yes  \n",
       "view-amenity                                                                    yes  \n",
       "elevators-in-building-amenity                                                     1  \n",
       "lobby-in-building-amenity                                                       yes  \n",
       "electricity-backup-amenity                                                      yes  \n",
       "cctv-security-amenity                                                           yes  \n",
       "maintenance-staff-amenity                                                       yes  \n",
       "cleaning-services-amenity                                                       yes  \n",
       "freehold-amenity                                                                NaN  \n",
       "24-hours-concierge-amenity                                                      NaN  \n",
       "waste-disposal-amenity                                                          NaN  \n",
       "double-glazed-windows-amenity                                                   NaN  \n",
       "broadband-internet-amenity                                                      NaN  \n",
       "lawn-or-garden-amenity                                                          NaN  \n",
       "storage-areas-amenity                                                           NaN  \n",
       "service-elevators-amenity                                                       NaN  \n",
       "intercom-amenity                                                                NaN  \n",
       "prayer-room-amenity                                                             NaN  \n",
       "conference-room-amenity                                                         NaN  \n",
       "first-aid-medical-center-amenity                                                NaN  \n",
       "business-center-amenity                                                         NaN  \n",
       "facilities-for-disabled-amenity                                                 NaN  \n",
       "furnished-amenity                                                               NaN  \n",
       "swimming-pool-amenity                                                           NaN  \n",
       "steam-room-amenity                                                              NaN  \n",
       "sauna-amenity                                                                   NaN  \n",
       "jacuzzi-amenity                                                                 NaN  \n",
       "central-heating-amenity                                                         NaN  \n",
       "atm-facility-amenity                                                            NaN  \n",
       "cafeteria-or-canteen-amenity                                                    NaN  \n",
       "barbeque-area-amenity                                                           NaN  \n",
       "laundry-facility-amenity                                                        NaN  \n",
       "shared-kitchen-amenity                                                          NaN  \n",
       "day-care-center-amenity                                                         NaN  "
      ]
     },
     "execution_count": 49,
     "metadata": {},
     "output_type": "execute_result"
    }
   ],
   "source": [
    "# Checking columns\n",
    "bproperty_df.head(3).T"
   ]
  },
  {
   "cell_type": "code",
   "execution_count": 50,
   "id": "f78596f5",
   "metadata": {},
   "outputs": [
    {
     "data": {
      "text/plain": [
       "False"
      ]
     },
     "execution_count": 50,
     "metadata": {},
     "output_type": "execute_result"
    }
   ],
   "source": [
    "# Drop amenities column\n",
    "bproperty_df.drop([\"amenities\"],axis=1, inplace=True)\n",
    "\n",
    "# Check that removal was effective\n",
    "\"amenities\" in bproperty_df.columns.to_list()"
   ]
  },
  {
   "cell_type": "code",
   "execution_count": null,
   "id": "1b085cf3",
   "metadata": {},
   "outputs": [],
   "source": []
  },
  {
   "cell_type": "code",
   "execution_count": null,
   "id": "8721ba1e",
   "metadata": {},
   "outputs": [],
   "source": []
  },
  {
   "cell_type": "markdown",
   "id": "b2b2b8e7",
   "metadata": {},
   "source": [
    "### Save cleaned dataset"
   ]
  },
  {
   "cell_type": "code",
   "execution_count": 51,
   "id": "a0e3524d",
   "metadata": {},
   "outputs": [
    {
     "name": "stdout",
     "output_type": "stream",
     "text": [
      "Create folder '../../../data/CLeaned_Data/bproperty'\n"
     ]
    }
   ],
   "source": [
    "# Create folder in which to save cleaned dataset\n",
    "if not os.path.exists(cleaned_bproperty_folder):\n",
    "    os.makedirs(cleaned_bproperty_folder)\n",
    "    print(f\"Create folder '{cleaned_bproperty_folder}'\")\n",
    "else:\n",
    "    print(f\"Folder '{cleaned_bproperty_folder}' already exists\")"
   ]
  },
  {
   "cell_type": "code",
   "execution_count": 52,
   "id": "15e930f5",
   "metadata": {},
   "outputs": [],
   "source": [
    "# Save cleaned dataset to csv\n",
    "bproperty_df.to_csv(f\"{cleaned_bproperty_folder}/cleaned_bproperty.csv\", index=False)"
   ]
  },
  {
   "cell_type": "code",
   "execution_count": 53,
   "id": "b8bcffb0",
   "metadata": {},
   "outputs": [
    {
     "name": "stderr",
     "output_type": "stream",
     "text": [
      "C:\\ProgramData\\Anaconda3\\lib\\site-packages\\IPython\\core\\interactiveshell.py:3165: DtypeWarning: Columns (13) have mixed types.Specify dtype option on import or set low_memory=False.\n",
      "  has_raised = await self.run_ast_nodes(code_ast.body, cell_name,\n"
     ]
    },
    {
     "data": {
      "text/html": [
       "<div>\n",
       "<style scoped>\n",
       "    .dataframe tbody tr th:only-of-type {\n",
       "        vertical-align: middle;\n",
       "    }\n",
       "\n",
       "    .dataframe tbody tr th {\n",
       "        vertical-align: top;\n",
       "    }\n",
       "\n",
       "    .dataframe thead th {\n",
       "        text-align: right;\n",
       "    }\n",
       "</style>\n",
       "<table border=\"1\" class=\"dataframe\">\n",
       "  <thead>\n",
       "    <tr style=\"text-align: right;\">\n",
       "      <th></th>\n",
       "      <th>0</th>\n",
       "      <th>1</th>\n",
       "      <th>2</th>\n",
       "    </tr>\n",
       "  </thead>\n",
       "  <tbody>\n",
       "    <tr>\n",
       "      <th>area</th>\n",
       "      <td>1265.0</td>\n",
       "      <td>4400.0</td>\n",
       "      <td>1160.0</td>\n",
       "    </tr>\n",
       "    <tr>\n",
       "      <th>building_type</th>\n",
       "      <td>Apartment</td>\n",
       "      <td>Apartment</td>\n",
       "      <td>Apartment</td>\n",
       "    </tr>\n",
       "    <tr>\n",
       "      <th>building_nature</th>\n",
       "      <td>Residential</td>\n",
       "      <td>Residential</td>\n",
       "      <td>Residential</td>\n",
       "    </tr>\n",
       "    <tr>\n",
       "      <th>num_bath_rooms</th>\n",
       "      <td>3</td>\n",
       "      <td>4</td>\n",
       "      <td>0</td>\n",
       "    </tr>\n",
       "    <tr>\n",
       "      <th>num_bed_rooms</th>\n",
       "      <td>3</td>\n",
       "      <td>4</td>\n",
       "      <td>3</td>\n",
       "    </tr>\n",
       "    <tr>\n",
       "      <th>price</th>\n",
       "      <td>12500000.0</td>\n",
       "      <td>70400000.0</td>\n",
       "      <td>6200000.0</td>\n",
       "    </tr>\n",
       "    <tr>\n",
       "      <th>property_description</th>\n",
       "      <td>Ready Flat Of 1265 Sq Ft Is Now Up For Sale In...</td>\n",
       "      <td>You Can Move Into This Well Planned And Comfor...</td>\n",
       "      <td>Buy This 1160 Sq Ft Flat In Khilgaon, South Goran</td>\n",
       "    </tr>\n",
       "    <tr>\n",
       "      <th>property_overview</th>\n",
       "      <td>Looking for a luxurious apartment with top-not...</td>\n",
       "      <td>Amicable environment, appropriate commuting sy...</td>\n",
       "      <td>A lively area to live, lovely home to settle a...</td>\n",
       "    </tr>\n",
       "    <tr>\n",
       "      <th>property_url</th>\n",
       "      <td>https://www.bproperty.com/en/property/details-...</td>\n",
       "      <td>https://www.bproperty.com/en/property/details-...</td>\n",
       "      <td>https://www.bproperty.com/en/property/details-...</td>\n",
       "    </tr>\n",
       "    <tr>\n",
       "      <th>purpose</th>\n",
       "      <td>Sale</td>\n",
       "      <td>Sale</td>\n",
       "      <td>Sale</td>\n",
       "    </tr>\n",
       "    <tr>\n",
       "      <th>city</th>\n",
       "      <td>Dhaka</td>\n",
       "      <td>Dhaka</td>\n",
       "      <td>Dhaka</td>\n",
       "    </tr>\n",
       "    <tr>\n",
       "      <th>address</th>\n",
       "      <td>Baridhara DOHS</td>\n",
       "      <td>Gulshan 2, Gulshan</td>\n",
       "      <td>Khilgaon</td>\n",
       "    </tr>\n",
       "    <tr>\n",
       "      <th>flooring-amenity</th>\n",
       "      <td>yes</td>\n",
       "      <td>NaN</td>\n",
       "      <td>yes</td>\n",
       "    </tr>\n",
       "    <tr>\n",
       "      <th>parking-spaces-amenity</th>\n",
       "      <td>1</td>\n",
       "      <td>NaN</td>\n",
       "      <td>1</td>\n",
       "    </tr>\n",
       "    <tr>\n",
       "      <th>balcony-or-terrace-amenity</th>\n",
       "      <td>yes</td>\n",
       "      <td>NaN</td>\n",
       "      <td>yes</td>\n",
       "    </tr>\n",
       "    <tr>\n",
       "      <th>floor-level-amenity</th>\n",
       "      <td>yes</td>\n",
       "      <td>NaN</td>\n",
       "      <td>yes</td>\n",
       "    </tr>\n",
       "    <tr>\n",
       "      <th>view-amenity</th>\n",
       "      <td>yes</td>\n",
       "      <td>NaN</td>\n",
       "      <td>yes</td>\n",
       "    </tr>\n",
       "    <tr>\n",
       "      <th>elevators-in-building-amenity</th>\n",
       "      <td>1.0</td>\n",
       "      <td>NaN</td>\n",
       "      <td>1.0</td>\n",
       "    </tr>\n",
       "    <tr>\n",
       "      <th>lobby-in-building-amenity</th>\n",
       "      <td>yes</td>\n",
       "      <td>NaN</td>\n",
       "      <td>yes</td>\n",
       "    </tr>\n",
       "    <tr>\n",
       "      <th>electricity-backup-amenity</th>\n",
       "      <td>NaN</td>\n",
       "      <td>NaN</td>\n",
       "      <td>yes</td>\n",
       "    </tr>\n",
       "    <tr>\n",
       "      <th>cctv-security-amenity</th>\n",
       "      <td>NaN</td>\n",
       "      <td>NaN</td>\n",
       "      <td>yes</td>\n",
       "    </tr>\n",
       "    <tr>\n",
       "      <th>maintenance-staff-amenity</th>\n",
       "      <td>NaN</td>\n",
       "      <td>NaN</td>\n",
       "      <td>yes</td>\n",
       "    </tr>\n",
       "    <tr>\n",
       "      <th>cleaning-services-amenity</th>\n",
       "      <td>NaN</td>\n",
       "      <td>NaN</td>\n",
       "      <td>yes</td>\n",
       "    </tr>\n",
       "    <tr>\n",
       "      <th>freehold-amenity</th>\n",
       "      <td>NaN</td>\n",
       "      <td>NaN</td>\n",
       "      <td>NaN</td>\n",
       "    </tr>\n",
       "    <tr>\n",
       "      <th>24-hours-concierge-amenity</th>\n",
       "      <td>NaN</td>\n",
       "      <td>NaN</td>\n",
       "      <td>NaN</td>\n",
       "    </tr>\n",
       "    <tr>\n",
       "      <th>waste-disposal-amenity</th>\n",
       "      <td>NaN</td>\n",
       "      <td>NaN</td>\n",
       "      <td>NaN</td>\n",
       "    </tr>\n",
       "    <tr>\n",
       "      <th>double-glazed-windows-amenity</th>\n",
       "      <td>NaN</td>\n",
       "      <td>NaN</td>\n",
       "      <td>NaN</td>\n",
       "    </tr>\n",
       "    <tr>\n",
       "      <th>broadband-internet-amenity</th>\n",
       "      <td>NaN</td>\n",
       "      <td>NaN</td>\n",
       "      <td>NaN</td>\n",
       "    </tr>\n",
       "    <tr>\n",
       "      <th>lawn-or-garden-amenity</th>\n",
       "      <td>NaN</td>\n",
       "      <td>NaN</td>\n",
       "      <td>NaN</td>\n",
       "    </tr>\n",
       "    <tr>\n",
       "      <th>storage-areas-amenity</th>\n",
       "      <td>NaN</td>\n",
       "      <td>NaN</td>\n",
       "      <td>NaN</td>\n",
       "    </tr>\n",
       "    <tr>\n",
       "      <th>service-elevators-amenity</th>\n",
       "      <td>NaN</td>\n",
       "      <td>NaN</td>\n",
       "      <td>NaN</td>\n",
       "    </tr>\n",
       "    <tr>\n",
       "      <th>intercom-amenity</th>\n",
       "      <td>NaN</td>\n",
       "      <td>NaN</td>\n",
       "      <td>NaN</td>\n",
       "    </tr>\n",
       "    <tr>\n",
       "      <th>prayer-room-amenity</th>\n",
       "      <td>NaN</td>\n",
       "      <td>NaN</td>\n",
       "      <td>NaN</td>\n",
       "    </tr>\n",
       "    <tr>\n",
       "      <th>conference-room-amenity</th>\n",
       "      <td>NaN</td>\n",
       "      <td>NaN</td>\n",
       "      <td>NaN</td>\n",
       "    </tr>\n",
       "    <tr>\n",
       "      <th>first-aid-medical-center-amenity</th>\n",
       "      <td>NaN</td>\n",
       "      <td>NaN</td>\n",
       "      <td>NaN</td>\n",
       "    </tr>\n",
       "    <tr>\n",
       "      <th>business-center-amenity</th>\n",
       "      <td>NaN</td>\n",
       "      <td>NaN</td>\n",
       "      <td>NaN</td>\n",
       "    </tr>\n",
       "    <tr>\n",
       "      <th>facilities-for-disabled-amenity</th>\n",
       "      <td>NaN</td>\n",
       "      <td>NaN</td>\n",
       "      <td>NaN</td>\n",
       "    </tr>\n",
       "    <tr>\n",
       "      <th>furnished-amenity</th>\n",
       "      <td>NaN</td>\n",
       "      <td>NaN</td>\n",
       "      <td>NaN</td>\n",
       "    </tr>\n",
       "    <tr>\n",
       "      <th>swimming-pool-amenity</th>\n",
       "      <td>NaN</td>\n",
       "      <td>NaN</td>\n",
       "      <td>NaN</td>\n",
       "    </tr>\n",
       "    <tr>\n",
       "      <th>steam-room-amenity</th>\n",
       "      <td>NaN</td>\n",
       "      <td>NaN</td>\n",
       "      <td>NaN</td>\n",
       "    </tr>\n",
       "    <tr>\n",
       "      <th>sauna-amenity</th>\n",
       "      <td>NaN</td>\n",
       "      <td>NaN</td>\n",
       "      <td>NaN</td>\n",
       "    </tr>\n",
       "    <tr>\n",
       "      <th>jacuzzi-amenity</th>\n",
       "      <td>NaN</td>\n",
       "      <td>NaN</td>\n",
       "      <td>NaN</td>\n",
       "    </tr>\n",
       "    <tr>\n",
       "      <th>central-heating-amenity</th>\n",
       "      <td>NaN</td>\n",
       "      <td>NaN</td>\n",
       "      <td>NaN</td>\n",
       "    </tr>\n",
       "    <tr>\n",
       "      <th>atm-facility-amenity</th>\n",
       "      <td>NaN</td>\n",
       "      <td>NaN</td>\n",
       "      <td>NaN</td>\n",
       "    </tr>\n",
       "    <tr>\n",
       "      <th>cafeteria-or-canteen-amenity</th>\n",
       "      <td>NaN</td>\n",
       "      <td>NaN</td>\n",
       "      <td>NaN</td>\n",
       "    </tr>\n",
       "    <tr>\n",
       "      <th>barbeque-area-amenity</th>\n",
       "      <td>NaN</td>\n",
       "      <td>NaN</td>\n",
       "      <td>NaN</td>\n",
       "    </tr>\n",
       "    <tr>\n",
       "      <th>laundry-facility-amenity</th>\n",
       "      <td>NaN</td>\n",
       "      <td>NaN</td>\n",
       "      <td>NaN</td>\n",
       "    </tr>\n",
       "    <tr>\n",
       "      <th>shared-kitchen-amenity</th>\n",
       "      <td>NaN</td>\n",
       "      <td>NaN</td>\n",
       "      <td>NaN</td>\n",
       "    </tr>\n",
       "    <tr>\n",
       "      <th>day-care-center-amenity</th>\n",
       "      <td>NaN</td>\n",
       "      <td>NaN</td>\n",
       "      <td>NaN</td>\n",
       "    </tr>\n",
       "  </tbody>\n",
       "</table>\n",
       "</div>"
      ],
      "text/plain": [
       "                                                                                  0  \\\n",
       "area                                                                         1265.0   \n",
       "building_type                                                             Apartment   \n",
       "building_nature                                                         Residential   \n",
       "num_bath_rooms                                                                    3   \n",
       "num_bed_rooms                                                                     3   \n",
       "price                                                                    12500000.0   \n",
       "property_description              Ready Flat Of 1265 Sq Ft Is Now Up For Sale In...   \n",
       "property_overview                 Looking for a luxurious apartment with top-not...   \n",
       "property_url                      https://www.bproperty.com/en/property/details-...   \n",
       "purpose                                                                        Sale   \n",
       "city                                                                          Dhaka   \n",
       "address                                                              Baridhara DOHS   \n",
       "flooring-amenity                                                                yes   \n",
       "parking-spaces-amenity                                                            1   \n",
       "balcony-or-terrace-amenity                                                      yes   \n",
       "floor-level-amenity                                                             yes   \n",
       "view-amenity                                                                    yes   \n",
       "elevators-in-building-amenity                                                   1.0   \n",
       "lobby-in-building-amenity                                                       yes   \n",
       "electricity-backup-amenity                                                      NaN   \n",
       "cctv-security-amenity                                                           NaN   \n",
       "maintenance-staff-amenity                                                       NaN   \n",
       "cleaning-services-amenity                                                       NaN   \n",
       "freehold-amenity                                                                NaN   \n",
       "24-hours-concierge-amenity                                                      NaN   \n",
       "waste-disposal-amenity                                                          NaN   \n",
       "double-glazed-windows-amenity                                                   NaN   \n",
       "broadband-internet-amenity                                                      NaN   \n",
       "lawn-or-garden-amenity                                                          NaN   \n",
       "storage-areas-amenity                                                           NaN   \n",
       "service-elevators-amenity                                                       NaN   \n",
       "intercom-amenity                                                                NaN   \n",
       "prayer-room-amenity                                                             NaN   \n",
       "conference-room-amenity                                                         NaN   \n",
       "first-aid-medical-center-amenity                                                NaN   \n",
       "business-center-amenity                                                         NaN   \n",
       "facilities-for-disabled-amenity                                                 NaN   \n",
       "furnished-amenity                                                               NaN   \n",
       "swimming-pool-amenity                                                           NaN   \n",
       "steam-room-amenity                                                              NaN   \n",
       "sauna-amenity                                                                   NaN   \n",
       "jacuzzi-amenity                                                                 NaN   \n",
       "central-heating-amenity                                                         NaN   \n",
       "atm-facility-amenity                                                            NaN   \n",
       "cafeteria-or-canteen-amenity                                                    NaN   \n",
       "barbeque-area-amenity                                                           NaN   \n",
       "laundry-facility-amenity                                                        NaN   \n",
       "shared-kitchen-amenity                                                          NaN   \n",
       "day-care-center-amenity                                                         NaN   \n",
       "\n",
       "                                                                                  1  \\\n",
       "area                                                                         4400.0   \n",
       "building_type                                                             Apartment   \n",
       "building_nature                                                         Residential   \n",
       "num_bath_rooms                                                                    4   \n",
       "num_bed_rooms                                                                     4   \n",
       "price                                                                    70400000.0   \n",
       "property_description              You Can Move Into This Well Planned And Comfor...   \n",
       "property_overview                 Amicable environment, appropriate commuting sy...   \n",
       "property_url                      https://www.bproperty.com/en/property/details-...   \n",
       "purpose                                                                        Sale   \n",
       "city                                                                          Dhaka   \n",
       "address                                                          Gulshan 2, Gulshan   \n",
       "flooring-amenity                                                                NaN   \n",
       "parking-spaces-amenity                                                          NaN   \n",
       "balcony-or-terrace-amenity                                                      NaN   \n",
       "floor-level-amenity                                                             NaN   \n",
       "view-amenity                                                                    NaN   \n",
       "elevators-in-building-amenity                                                   NaN   \n",
       "lobby-in-building-amenity                                                       NaN   \n",
       "electricity-backup-amenity                                                      NaN   \n",
       "cctv-security-amenity                                                           NaN   \n",
       "maintenance-staff-amenity                                                       NaN   \n",
       "cleaning-services-amenity                                                       NaN   \n",
       "freehold-amenity                                                                NaN   \n",
       "24-hours-concierge-amenity                                                      NaN   \n",
       "waste-disposal-amenity                                                          NaN   \n",
       "double-glazed-windows-amenity                                                   NaN   \n",
       "broadband-internet-amenity                                                      NaN   \n",
       "lawn-or-garden-amenity                                                          NaN   \n",
       "storage-areas-amenity                                                           NaN   \n",
       "service-elevators-amenity                                                       NaN   \n",
       "intercom-amenity                                                                NaN   \n",
       "prayer-room-amenity                                                             NaN   \n",
       "conference-room-amenity                                                         NaN   \n",
       "first-aid-medical-center-amenity                                                NaN   \n",
       "business-center-amenity                                                         NaN   \n",
       "facilities-for-disabled-amenity                                                 NaN   \n",
       "furnished-amenity                                                               NaN   \n",
       "swimming-pool-amenity                                                           NaN   \n",
       "steam-room-amenity                                                              NaN   \n",
       "sauna-amenity                                                                   NaN   \n",
       "jacuzzi-amenity                                                                 NaN   \n",
       "central-heating-amenity                                                         NaN   \n",
       "atm-facility-amenity                                                            NaN   \n",
       "cafeteria-or-canteen-amenity                                                    NaN   \n",
       "barbeque-area-amenity                                                           NaN   \n",
       "laundry-facility-amenity                                                        NaN   \n",
       "shared-kitchen-amenity                                                          NaN   \n",
       "day-care-center-amenity                                                         NaN   \n",
       "\n",
       "                                                                                  2  \n",
       "area                                                                         1160.0  \n",
       "building_type                                                             Apartment  \n",
       "building_nature                                                         Residential  \n",
       "num_bath_rooms                                                                    0  \n",
       "num_bed_rooms                                                                     3  \n",
       "price                                                                     6200000.0  \n",
       "property_description              Buy This 1160 Sq Ft Flat In Khilgaon, South Goran  \n",
       "property_overview                 A lively area to live, lovely home to settle a...  \n",
       "property_url                      https://www.bproperty.com/en/property/details-...  \n",
       "purpose                                                                        Sale  \n",
       "city                                                                          Dhaka  \n",
       "address                                                                    Khilgaon  \n",
       "flooring-amenity                                                                yes  \n",
       "parking-spaces-amenity                                                            1  \n",
       "balcony-or-terrace-amenity                                                      yes  \n",
       "floor-level-amenity                                                             yes  \n",
       "view-amenity                                                                    yes  \n",
       "elevators-in-building-amenity                                                   1.0  \n",
       "lobby-in-building-amenity                                                       yes  \n",
       "electricity-backup-amenity                                                      yes  \n",
       "cctv-security-amenity                                                           yes  \n",
       "maintenance-staff-amenity                                                       yes  \n",
       "cleaning-services-amenity                                                       yes  \n",
       "freehold-amenity                                                                NaN  \n",
       "24-hours-concierge-amenity                                                      NaN  \n",
       "waste-disposal-amenity                                                          NaN  \n",
       "double-glazed-windows-amenity                                                   NaN  \n",
       "broadband-internet-amenity                                                      NaN  \n",
       "lawn-or-garden-amenity                                                          NaN  \n",
       "storage-areas-amenity                                                           NaN  \n",
       "service-elevators-amenity                                                       NaN  \n",
       "intercom-amenity                                                                NaN  \n",
       "prayer-room-amenity                                                             NaN  \n",
       "conference-room-amenity                                                         NaN  \n",
       "first-aid-medical-center-amenity                                                NaN  \n",
       "business-center-amenity                                                         NaN  \n",
       "facilities-for-disabled-amenity                                                 NaN  \n",
       "furnished-amenity                                                               NaN  \n",
       "swimming-pool-amenity                                                           NaN  \n",
       "steam-room-amenity                                                              NaN  \n",
       "sauna-amenity                                                                   NaN  \n",
       "jacuzzi-amenity                                                                 NaN  \n",
       "central-heating-amenity                                                         NaN  \n",
       "atm-facility-amenity                                                            NaN  \n",
       "cafeteria-or-canteen-amenity                                                    NaN  \n",
       "barbeque-area-amenity                                                           NaN  \n",
       "laundry-facility-amenity                                                        NaN  \n",
       "shared-kitchen-amenity                                                          NaN  \n",
       "day-care-center-amenity                                                         NaN  "
      ]
     },
     "execution_count": 53,
     "metadata": {},
     "output_type": "execute_result"
    }
   ],
   "source": [
    "# Load saved csv (to make sure it was successfully save)\n",
    "clean_bproperty_df = pd.read_csv(f\"{cleaned_bproperty_folder}/cleaned_bproperty.csv\")\n",
    "clean_bproperty_df.head(3).T"
   ]
  },
  {
   "cell_type": "code",
   "execution_count": null,
   "id": "7db13bf4",
   "metadata": {},
   "outputs": [],
   "source": []
  },
  {
   "cell_type": "code",
   "execution_count": null,
   "id": "30b00e35",
   "metadata": {},
   "outputs": [],
   "source": []
  },
  {
   "cell_type": "code",
   "execution_count": null,
   "id": "d09dd1cc",
   "metadata": {},
   "outputs": [],
   "source": []
  }
 ],
 "metadata": {
  "kernelspec": {
   "display_name": "Python 3",
   "language": "python",
   "name": "python3"
  },
  "language_info": {
   "codemirror_mode": {
    "name": "ipython",
    "version": 3
   },
   "file_extension": ".py",
   "mimetype": "text/x-python",
   "name": "python",
   "nbconvert_exporter": "python",
   "pygments_lexer": "ipython3",
   "version": "3.8.8"
  }
 },
 "nbformat": 4,
 "nbformat_minor": 5
}
