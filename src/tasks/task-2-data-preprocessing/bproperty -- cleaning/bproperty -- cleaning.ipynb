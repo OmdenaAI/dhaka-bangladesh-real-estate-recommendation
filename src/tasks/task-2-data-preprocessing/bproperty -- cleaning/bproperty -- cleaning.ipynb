{
 "cells": [
  {
   "cell_type": "code",
   "execution_count": null,
   "id": "7aab3316",
   "metadata": {},
   "outputs": [],
   "source": []
  },
  {
   "cell_type": "markdown",
   "id": "d83c7ca4",
   "metadata": {},
   "source": [
    "## Table of content\n",
    "\n",
    "1. [bproperty assessment](#bproperty-assessment) -> [Report summary](#bproperty-assessment-report)\n",
    "1. [bproperty cleaning](#bproperty-cleaning)"
   ]
  },
  {
   "cell_type": "code",
   "execution_count": null,
   "id": "427ae44b",
   "metadata": {},
   "outputs": [],
   "source": []
  },
  {
   "cell_type": "code",
   "execution_count": 1,
   "id": "c78a506b",
   "metadata": {},
   "outputs": [],
   "source": [
    "import pandas as pd\n",
    "import numpy as np\n",
    "\n",
    "import matplotlib.pyplot as plt\n",
    "\n",
    "from slugify import slugify\n",
    "import os\n",
    "import sys\n",
    "\n",
    "sys.path.append(\"../functions\")\n",
    "from address_extractor import get_detailed_address\n",
    "\n",
    "%matplotlib inline"
   ]
  },
  {
   "cell_type": "code",
   "execution_count": 2,
   "id": "10bf1fa3",
   "metadata": {},
   "outputs": [
    {
     "data": {
      "text/plain": [
       "{'City': 'Dhaka', 'Area': 'Rampura', 'Address': ''}"
      ]
     },
     "execution_count": 2,
     "metadata": {},
     "output_type": "execute_result"
    }
   ],
   "source": [
    "get_detailed_address(\"Dhaka, Dhaka, Rampura\")"
   ]
  },
  {
   "cell_type": "code",
   "execution_count": 3,
   "id": "8a24b76b",
   "metadata": {},
   "outputs": [],
   "source": [
    "# \"\"\"\n",
    "#  The functions below are developed by one of the teammate from Omdena\n",
    "# \"\"\"\n",
    "\n",
    "# def get_detailed_address(address):\n",
    "#     address = address.title()\n",
    "#     address_dict = {\"City\": \"\", \"Area\": \"\", \"Address\": \"\"}\n",
    "#     splitted_address = address.split(',')\n",
    "\n",
    "#     for i in reversed(splitted_address):\n",
    "#         if get_city_name(i.strip()):\n",
    "#             address_dict[\"City\"] = i.strip()\n",
    "#             splitted_address.remove(i)\n",
    "#         elif get_area_name(i.strip()):\n",
    "#             address_dict[\"Area\"] = i.strip()\n",
    "#             splitted_address.remove(i)\n",
    "\n",
    "#     address_dict[\"Address\"] = ','.join(splitted_address)\n",
    "\n",
    "#     return address_dict\n",
    "\n",
    "\n",
    "# def get_city_name(name):\n",
    "#     cities = ['Dhaka', 'Chattogram', 'Narayanganj City', 'Gazipur', 'Sylhet']\n",
    "\n",
    "#     try:\n",
    "#         cities.index(name)\n",
    "#         return True\n",
    "\n",
    "#     except:\n",
    "#         return False\n",
    "\n",
    "\n",
    "# def get_area_name(name):\n",
    "\n",
    "#     areas = ['10 No. North Kattali Ward', '11 No. South Kattali Ward', '15 No. Bagmoniram Ward',\n",
    "#              '16 No. Chawk Bazaar Ward', '22 No. Enayet Bazaar Ward', '29 No. West Madarbari Ward',\n",
    "#              '30 No. East Madarbari Ward', '31 No. Alkoron Ward', '32 No. Andarkilla Ward',\n",
    "#              '33 No. Firingee Bazaar Ward', '36 Goshail Danga Ward', '4 No Chandgaon Ward',\n",
    "#              '7 No. West Sholoshohor Ward', '9 No. North Pahartali Ward', 'Adabor', 'Aftab Nagar', 'Agargaon',\n",
    "#              'Ambarkhana', 'Badda', 'Bakalia', 'Banani', 'Banani Dohs', 'Banasree', 'Banglamotors', 'Bangshal',\n",
    "#              'Baridhara', 'Baridhara Dohs', 'Bashabo', 'Bashundhara R-A', 'Bayazid', 'Cantonment', 'Chandra',\n",
    "#              'Dakshin Khan', 'Demra', 'Dhanmondi', 'Double Mooring', 'Dumni', 'East Nasirabad', 'Eskaton', 'Fatulla',\n",
    "#              'Firojshah Colony', 'Gazipur Sadar Upazila', 'Gulistan', 'Gulshan', 'Halishahar', 'Hathazari', 'Hatirpool',\n",
    "#              'Hazaribag', 'Ibrahimpur', 'Jalalabad Housing Society', 'Jamal Khan', 'Jatra Bari', 'Joar Sahara',\n",
    "#              'Kachukhet', 'Kafrul', 'Kakrail', 'Kalabagan', 'Kalachandpur', 'Kamrangirchar', 'Kathalbagan',\n",
    "#              'Kazir Dewri', 'Keraniganj', 'Khilgaon', 'Khilkhet', 'Khulshi', 'Kotwali', 'Kuril', 'Lal Khan Bazaar',\n",
    "#              'Lalbagh', 'Lalmatia', 'Maghbazar', 'Malibagh', 'Maniknagar', 'Mirpur', 'Mohakhali', 'Mohakhali Dohs',\n",
    "#              'Mohammadpur', 'Motijheel', 'Mugdapara', 'Muradpur', 'Nadda', 'Narayanganj', 'New Market', 'Niketan',\n",
    "#              'Nikunja', 'North Shahjahanpur', 'Panchlaish', 'Paribagh', 'Patenga', 'Purbachal', 'Railway Colony',\n",
    "#              'Rampura', 'Riaj Uddin Bazar', 'Sagorika Bscic Industrial Area', 'Savar', 'Shahbagh', 'Shahjahanpur',\n",
    "#              'Shantinagar', 'Shegunbagicha', 'Shiddheswari', 'Shiddhirganj', 'Sholokbahar', 'Shyamoli', 'Shyampur',\n",
    "#              'Sreepur', 'Sutrapur', 'Taltola', 'Tejgaon', 'Turag', 'Uttar Khan', 'Uttar Lalkhan', 'Uttara', 'Zafrabad',\n",
    "#              'Zindabazar']\n",
    "\n",
    "\n",
    "#     try:\n",
    "#         areas.index(name)\n",
    "#         return True\n",
    "\n",
    "#     except:\n",
    "#         return False"
   ]
  },
  {
   "cell_type": "code",
   "execution_count": null,
   "id": "23ea52b3",
   "metadata": {},
   "outputs": [],
   "source": []
  },
  {
   "cell_type": "code",
   "execution_count": null,
   "id": "a2b9d70f",
   "metadata": {},
   "outputs": [],
   "source": []
  },
  {
   "cell_type": "code",
   "execution_count": 4,
   "id": "4153854b",
   "metadata": {},
   "outputs": [],
   "source": [
    "# CSV folders\n",
    "\n",
    "raw_data_folder=\"../../../data/Raw_Data\"\n",
    "cleaned_data_folder=\"../../../data/CLeaned_Data\"\n",
    "\n",
    "bproperty_folder= f\"{raw_data_folder}/bproperty_spider\"\n",
    "cleaned_bproperty_folder= f\"{cleaned_data_folder}/bproperty\""
   ]
  },
  {
   "cell_type": "code",
   "execution_count": null,
   "id": "e3d28402",
   "metadata": {},
   "outputs": [],
   "source": []
  },
  {
   "cell_type": "code",
   "execution_count": null,
   "id": "742bc66a",
   "metadata": {},
   "outputs": [],
   "source": []
  },
  {
   "cell_type": "code",
   "execution_count": 5,
   "id": "108a05f4",
   "metadata": {},
   "outputs": [
    {
     "data": {
      "text/html": [
       "<div>\n",
       "<style scoped>\n",
       "    .dataframe tbody tr th:only-of-type {\n",
       "        vertical-align: middle;\n",
       "    }\n",
       "\n",
       "    .dataframe tbody tr th {\n",
       "        vertical-align: top;\n",
       "    }\n",
       "\n",
       "    .dataframe thead th {\n",
       "        text-align: right;\n",
       "    }\n",
       "</style>\n",
       "<table border=\"1\" class=\"dataframe\">\n",
       "  <thead>\n",
       "    <tr style=\"text-align: right;\">\n",
       "      <th></th>\n",
       "    </tr>\n",
       "  </thead>\n",
       "  <tbody>\n",
       "    <tr>\n",
       "      <th>area</th>\n",
       "    </tr>\n",
       "    <tr>\n",
       "      <th>building_type</th>\n",
       "    </tr>\n",
       "    <tr>\n",
       "      <th>building_nature</th>\n",
       "    </tr>\n",
       "    <tr>\n",
       "      <th>city</th>\n",
       "    </tr>\n",
       "    <tr>\n",
       "      <th>locality</th>\n",
       "    </tr>\n",
       "    <tr>\n",
       "      <th>address</th>\n",
       "    </tr>\n",
       "    <tr>\n",
       "      <th>num_bath_rooms</th>\n",
       "    </tr>\n",
       "    <tr>\n",
       "      <th>num_bed_rooms</th>\n",
       "    </tr>\n",
       "    <tr>\n",
       "      <th>price</th>\n",
       "    </tr>\n",
       "    <tr>\n",
       "      <th>property_description</th>\n",
       "    </tr>\n",
       "    <tr>\n",
       "      <th>property_overview</th>\n",
       "    </tr>\n",
       "    <tr>\n",
       "      <th>purpose</th>\n",
       "    </tr>\n",
       "    <tr>\n",
       "      <th>k1</th>\n",
       "    </tr>\n",
       "    <tr>\n",
       "      <th>k2</th>\n",
       "    </tr>\n",
       "    <tr>\n",
       "      <th>k3</th>\n",
       "    </tr>\n",
       "  </tbody>\n",
       "</table>\n",
       "</div>"
      ],
      "text/plain": [
       "Empty DataFrame\n",
       "Columns: []\n",
       "Index: [area, building_type, building_nature, city, locality, address, num_bath_rooms, num_bed_rooms, price, property_description, property_overview, purpose, k1, k2, k3]"
      ]
     },
     "execution_count": 5,
     "metadata": {},
     "output_type": "execute_result"
    }
   ],
   "source": [
    "target_df_dic = {\n",
    "    \"area\":[],  # value in float, in sqft; 1 Katha = 720 sqft (Thanks @Kausthab Dutta Phukan)\n",
    "    \"building_type\":[],\n",
    "    \"building_nature\": [], # originally named commercial_type; value will be either Commercial or Residential\n",
    "    \n",
    "    # splitted from location column\n",
    "    \"city\": [],\n",
    "    \"locality\": [],\n",
    "    \"address\":[],\n",
    "    #\"country\": [],\n",
    "    #\"municipality\":[],\n",
    "    #\"district\":[],\n",
    "    #...\n",
    "    #\"otherZoneArea\":[], # create new column for any new zone information, and keep collaborators informed\n",
    "    \n",
    "    \n",
    "    \"num_bath_rooms\":[], # for Commercial properties, give 0 as value (since that make sense), not NaN\n",
    "    \"num_bed_rooms\":[], # for Commercial properties, give 0 as value (since that make sense), not NaN\n",
    "    \n",
    "    # convert currencies to BDT : 1 lakh=100000 BDT, 1 crore=10000000 BDT, 1 Arab= 1000000000 BDT (Thanks @Al Momin Faruk)\n",
    "    \"price\": [], \n",
    "    \n",
    "    \"property_description\":[],\n",
    "    \"property_overview\":[],\n",
    "    \n",
    "    \"purpose\":[], # Either Rent/Sale\n",
    "    \n",
    "    # retrieved from amenities column: assuming in sample 1 amenities has {\"k1\":\"v1\",\"k2\":\"v2\"} \n",
    "    #   and in sample 2 amenities has {\"k3\":\"v3\"}, we create new columns in the dataframe based on the keys of\n",
    "    #   the dictionnaries\n",
    "    \"k1\":[],\n",
    "    \"k2\":[],\n",
    "    \"k3\":[],\n",
    "    \n",
    "    # when any relevant column from other csv files is added, inform collaborators so that they follow the same principle\n",
    "}\n",
    "\n",
    "target_df = pd.DataFrame(target_df_dic)\n",
    "target_df.T"
   ]
  },
  {
   "cell_type": "code",
   "execution_count": null,
   "id": "98124150",
   "metadata": {},
   "outputs": [],
   "source": []
  },
  {
   "cell_type": "code",
   "execution_count": null,
   "id": "b0a0b235",
   "metadata": {},
   "outputs": [],
   "source": []
  },
  {
   "cell_type": "markdown",
   "id": "8798b133",
   "metadata": {},
   "source": [
    "<span id=\"bproperty-assessment\"> </span>\n",
    "\n",
    "## Assessing `bproperty_spider_2023-04-09T19-44-07`"
   ]
  },
  {
   "cell_type": "code",
   "execution_count": 6,
   "id": "13555204",
   "metadata": {},
   "outputs": [
    {
     "data": {
      "text/html": [
       "<div>\n",
       "<style scoped>\n",
       "    .dataframe tbody tr th:only-of-type {\n",
       "        vertical-align: middle;\n",
       "    }\n",
       "\n",
       "    .dataframe tbody tr th {\n",
       "        vertical-align: top;\n",
       "    }\n",
       "\n",
       "    .dataframe thead th {\n",
       "        text-align: right;\n",
       "    }\n",
       "</style>\n",
       "<table border=\"1\" class=\"dataframe\">\n",
       "  <thead>\n",
       "    <tr style=\"text-align: right;\">\n",
       "      <th></th>\n",
       "      <th>0</th>\n",
       "      <th>1</th>\n",
       "      <th>2</th>\n",
       "      <th>3</th>\n",
       "      <th>4</th>\n",
       "    </tr>\n",
       "  </thead>\n",
       "  <tbody>\n",
       "    <tr>\n",
       "      <th>amenities</th>\n",
       "      <td>{'Balcony or Terrace': 'yes', 'Flooring': 'yes...</td>\n",
       "      <td>{'View': 'yes', 'Parking Spaces': ' 1', 'Balco...</td>\n",
       "      <td>{'View': 'yes', 'Balcony or Terrace': 'yes', '...</td>\n",
       "      <td>{'Parking Spaces': ' 1', 'Floor Level': 'yes',...</td>\n",
       "      <td>{'Flooring': 'yes', 'Parking Spaces': ' 1', 'B...</td>\n",
       "    </tr>\n",
       "    <tr>\n",
       "      <th>area</th>\n",
       "      <td>1,185 sqft</td>\n",
       "      <td>2,464 sqft</td>\n",
       "      <td>1,140 sqft</td>\n",
       "      <td>1,920 sqft</td>\n",
       "      <td>1,445 sqft</td>\n",
       "    </tr>\n",
       "    <tr>\n",
       "      <th>building_type</th>\n",
       "      <td>Apartment</td>\n",
       "      <td>Apartment</td>\n",
       "      <td>Apartment</td>\n",
       "      <td>Apartment</td>\n",
       "      <td>Apartment</td>\n",
       "    </tr>\n",
       "    <tr>\n",
       "      <th>commercial_type</th>\n",
       "      <td>False</td>\n",
       "      <td>False</td>\n",
       "      <td>False</td>\n",
       "      <td>False</td>\n",
       "      <td>False</td>\n",
       "    </tr>\n",
       "    <tr>\n",
       "      <th>image_url</th>\n",
       "      <td>https://images-cdn.bproperty.com/thumbnails/15...</td>\n",
       "      <td>https://images-cdn.bproperty.com/thumbnails/15...</td>\n",
       "      <td>https://images-cdn.bproperty.com/thumbnails/15...</td>\n",
       "      <td>https://images-cdn.bproperty.com/thumbnails/15...</td>\n",
       "      <td>https://images-cdn.bproperty.com/thumbnails/15...</td>\n",
       "    </tr>\n",
       "    <tr>\n",
       "      <th>location</th>\n",
       "      <td>Khilgaon, Dhaka</td>\n",
       "      <td>Dhanmondi, Dhaka</td>\n",
       "      <td>Block TA, Section 6, Mirpur, Dhaka</td>\n",
       "      <td>Block J, Bashundhara R-A, Dhaka</td>\n",
       "      <td>Block M, South Banasree Project, Banasree, Dhaka</td>\n",
       "    </tr>\n",
       "    <tr>\n",
       "      <th>num_bath_rooms</th>\n",
       "      <td>NaN</td>\n",
       "      <td>4 Baths</td>\n",
       "      <td>NaN</td>\n",
       "      <td>3 Baths</td>\n",
       "      <td>3 Baths</td>\n",
       "    </tr>\n",
       "    <tr>\n",
       "      <th>num_bed_rooms</th>\n",
       "      <td>3 Beds</td>\n",
       "      <td>3 Beds</td>\n",
       "      <td>3 Beds</td>\n",
       "      <td>3 Beds</td>\n",
       "      <td>3 Beds</td>\n",
       "    </tr>\n",
       "    <tr>\n",
       "      <th>price</th>\n",
       "      <td>61 Lakh</td>\n",
       "      <td>2.89 Crore</td>\n",
       "      <td>75 Lakh</td>\n",
       "      <td>2 Crore</td>\n",
       "      <td>1.08 Crore</td>\n",
       "    </tr>\n",
       "    <tr>\n",
       "      <th>property_description</th>\n",
       "      <td>Grab This 1185 Sq Ft Beautiful Flat Is Vacant ...</td>\n",
       "      <td>A Vibrant 2464 Sq Ft Residential Flat For Sale...</td>\n",
       "      <td>1140 Sq Ft Nicely Planned Apartment Is Availab...</td>\n",
       "      <td>A Modern Well-planned Apartment Of 1920 Sq Ft ...</td>\n",
       "      <td>1445 Sq Ft Ready Flat For Sale In Banasree, Wi...</td>\n",
       "    </tr>\n",
       "    <tr>\n",
       "      <th>property_overview</th>\n",
       "      <td>This flat consists of facilities you can think...</td>\n",
       "      <td>Ready to move in somewhere with everything nea...</td>\n",
       "      <td>A spacious 1140  Square Feet apartment in Mirp...</td>\n",
       "      <td>Looking for the perfect home that offers a lux...</td>\n",
       "      <td>Choosing a new home can be an overwhelming exp...</td>\n",
       "    </tr>\n",
       "    <tr>\n",
       "      <th>property_url</th>\n",
       "      <td>https://www.bproperty.com/en/property/details-...</td>\n",
       "      <td>https://www.bproperty.com/en/property/details-...</td>\n",
       "      <td>https://www.bproperty.com/en/property/details-...</td>\n",
       "      <td>https://www.bproperty.com/en/property/details-...</td>\n",
       "      <td>https://www.bproperty.com/en/property/details-...</td>\n",
       "    </tr>\n",
       "    <tr>\n",
       "      <th>purpose</th>\n",
       "      <td>For Sale</td>\n",
       "      <td>For Sale</td>\n",
       "      <td>For Sale</td>\n",
       "      <td>For Sale</td>\n",
       "      <td>For Sale</td>\n",
       "    </tr>\n",
       "  </tbody>\n",
       "</table>\n",
       "</div>"
      ],
      "text/plain": [
       "                                                                      0  \\\n",
       "amenities             {'Balcony or Terrace': 'yes', 'Flooring': 'yes...   \n",
       "area                                                         1,185 sqft   \n",
       "building_type                                                 Apartment   \n",
       "commercial_type                                                   False   \n",
       "image_url             https://images-cdn.bproperty.com/thumbnails/15...   \n",
       "location                                                Khilgaon, Dhaka   \n",
       "num_bath_rooms                                                      NaN   \n",
       "num_bed_rooms                                                    3 Beds   \n",
       "price                                                           61 Lakh   \n",
       "property_description  Grab This 1185 Sq Ft Beautiful Flat Is Vacant ...   \n",
       "property_overview     This flat consists of facilities you can think...   \n",
       "property_url          https://www.bproperty.com/en/property/details-...   \n",
       "purpose                                                        For Sale   \n",
       "\n",
       "                                                                      1  \\\n",
       "amenities             {'View': 'yes', 'Parking Spaces': ' 1', 'Balco...   \n",
       "area                                                         2,464 sqft   \n",
       "building_type                                                 Apartment   \n",
       "commercial_type                                                   False   \n",
       "image_url             https://images-cdn.bproperty.com/thumbnails/15...   \n",
       "location                                               Dhanmondi, Dhaka   \n",
       "num_bath_rooms                                                  4 Baths   \n",
       "num_bed_rooms                                                    3 Beds   \n",
       "price                                                        2.89 Crore   \n",
       "property_description  A Vibrant 2464 Sq Ft Residential Flat For Sale...   \n",
       "property_overview     Ready to move in somewhere with everything nea...   \n",
       "property_url          https://www.bproperty.com/en/property/details-...   \n",
       "purpose                                                        For Sale   \n",
       "\n",
       "                                                                      2  \\\n",
       "amenities             {'View': 'yes', 'Balcony or Terrace': 'yes', '...   \n",
       "area                                                         1,140 sqft   \n",
       "building_type                                                 Apartment   \n",
       "commercial_type                                                   False   \n",
       "image_url             https://images-cdn.bproperty.com/thumbnails/15...   \n",
       "location                             Block TA, Section 6, Mirpur, Dhaka   \n",
       "num_bath_rooms                                                      NaN   \n",
       "num_bed_rooms                                                    3 Beds   \n",
       "price                                                           75 Lakh   \n",
       "property_description  1140 Sq Ft Nicely Planned Apartment Is Availab...   \n",
       "property_overview     A spacious 1140  Square Feet apartment in Mirp...   \n",
       "property_url          https://www.bproperty.com/en/property/details-...   \n",
       "purpose                                                        For Sale   \n",
       "\n",
       "                                                                      3  \\\n",
       "amenities             {'Parking Spaces': ' 1', 'Floor Level': 'yes',...   \n",
       "area                                                         1,920 sqft   \n",
       "building_type                                                 Apartment   \n",
       "commercial_type                                                   False   \n",
       "image_url             https://images-cdn.bproperty.com/thumbnails/15...   \n",
       "location                                Block J, Bashundhara R-A, Dhaka   \n",
       "num_bath_rooms                                                  3 Baths   \n",
       "num_bed_rooms                                                    3 Beds   \n",
       "price                                                           2 Crore   \n",
       "property_description  A Modern Well-planned Apartment Of 1920 Sq Ft ...   \n",
       "property_overview     Looking for the perfect home that offers a lux...   \n",
       "property_url          https://www.bproperty.com/en/property/details-...   \n",
       "purpose                                                        For Sale   \n",
       "\n",
       "                                                                      4  \n",
       "amenities             {'Flooring': 'yes', 'Parking Spaces': ' 1', 'B...  \n",
       "area                                                         1,445 sqft  \n",
       "building_type                                                 Apartment  \n",
       "commercial_type                                                   False  \n",
       "image_url             https://images-cdn.bproperty.com/thumbnails/15...  \n",
       "location               Block M, South Banasree Project, Banasree, Dhaka  \n",
       "num_bath_rooms                                                  3 Baths  \n",
       "num_bed_rooms                                                    3 Beds  \n",
       "price                                                        1.08 Crore  \n",
       "property_description  1445 Sq Ft Ready Flat For Sale In Banasree, Wi...  \n",
       "property_overview     Choosing a new home can be an overwhelming exp...  \n",
       "property_url          https://www.bproperty.com/en/property/details-...  \n",
       "purpose                                                        For Sale  "
      ]
     },
     "execution_count": 6,
     "metadata": {},
     "output_type": "execute_result"
    }
   ],
   "source": [
    "bproperty_df=pd.read_csv(f\"{bproperty_folder}/bproperty_spider_2023-04-18T01-34-24.csv\")\n",
    "bproperty_df.head().T"
   ]
  },
  {
   "cell_type": "code",
   "execution_count": 7,
   "id": "633f7f13",
   "metadata": {},
   "outputs": [
    {
     "data": {
      "text/plain": [
       "(17329, 13)"
      ]
     },
     "execution_count": 7,
     "metadata": {},
     "output_type": "execute_result"
    }
   ],
   "source": [
    "bproperty_df.shape"
   ]
  },
  {
   "cell_type": "code",
   "execution_count": null,
   "id": "a4118e5c",
   "metadata": {},
   "outputs": [],
   "source": []
  },
  {
   "cell_type": "code",
   "execution_count": 8,
   "id": "81543301",
   "metadata": {},
   "outputs": [
    {
     "name": "stdout",
     "output_type": "stream",
     "text": [
      "<class 'pandas.core.frame.DataFrame'>\n",
      "RangeIndex: 17329 entries, 0 to 17328\n",
      "Data columns (total 13 columns):\n",
      " #   Column                Non-Null Count  Dtype \n",
      "---  ------                --------------  ----- \n",
      " 0   amenities             16438 non-null  object\n",
      " 1   area                  17329 non-null  object\n",
      " 2   building_type         17329 non-null  object\n",
      " 3   commercial_type       17329 non-null  bool  \n",
      " 4   image_url             17312 non-null  object\n",
      " 5   location              17329 non-null  object\n",
      " 6   num_bath_rooms        5691 non-null   object\n",
      " 7   num_bed_rooms         12646 non-null  object\n",
      " 8   price                 17329 non-null  object\n",
      " 9   property_description  17329 non-null  object\n",
      " 10  property_overview     17329 non-null  object\n",
      " 11  property_url          17329 non-null  object\n",
      " 12  purpose               17329 non-null  object\n",
      "dtypes: bool(1), object(12)\n",
      "memory usage: 1.6+ MB\n"
     ]
    }
   ],
   "source": [
    "bproperty_df.info()"
   ]
  },
  {
   "cell_type": "markdown",
   "id": "b202a5dd",
   "metadata": {},
   "source": [
    "* `area` column should be decimal, not string (quality issue)\n",
    "* Replace column name `commercial_type` by `building_nature` (or any relevant name), and change its values to `residential` or `commercial` accordingly.  (quality issue)\n",
    "* `location` is has concatened information: city, district, sector, etc. Those informations should be splitted in their relevant columns (column `city`, column `district`, ...). (tidiness issue)\n",
    "* `num_bath_rooms` and `num_bed_rooms` should be decimal, no string. (quality issue)\n"
   ]
  },
  {
   "cell_type": "code",
   "execution_count": null,
   "id": "ecd84c41",
   "metadata": {},
   "outputs": [],
   "source": []
  },
  {
   "cell_type": "code",
   "execution_count": 9,
   "id": "1e4e9861",
   "metadata": {},
   "outputs": [
    {
     "data": {
      "text/plain": [
       "array(['61 Lakh', '2.89 Crore', '75 Lakh', ..., '24 Crore', '7.3 Crore',\n",
       "       '92.1 Lakh'], dtype=object)"
      ]
     },
     "execution_count": 9,
     "metadata": {},
     "output_type": "execute_result"
    }
   ],
   "source": [
    "bproperty_df[\"price\"].unique()"
   ]
  },
  {
   "cell_type": "markdown",
   "id": "c6b2565b",
   "metadata": {},
   "source": [
    "* `price` content is not uniform accross the dataset. Some are in `Lakh`, other in `Crore`, etc... The unit used for the price should be uniformized. A special attention should be paid to the fact that there are `price` without unit (a solution need to be found for them). (quality issue)\n",
    "* `price` should be decimal, not string"
   ]
  },
  {
   "cell_type": "code",
   "execution_count": null,
   "id": "6102b1ec",
   "metadata": {},
   "outputs": [],
   "source": []
  },
  {
   "cell_type": "code",
   "execution_count": 10,
   "id": "0d3fc8e7",
   "metadata": {},
   "outputs": [
    {
     "data": {
      "text/plain": [
       "'Grab This 1185 Sq Ft Beautiful Flat Is Vacant For Sale In Khilgaon'"
      ]
     },
     "execution_count": 10,
     "metadata": {},
     "output_type": "execute_result"
    }
   ],
   "source": [
    "bproperty_df[\"property_description\"][0]"
   ]
  },
  {
   "cell_type": "code",
   "execution_count": 11,
   "id": "345d9ece",
   "metadata": {},
   "outputs": [
    {
     "data": {
      "text/plain": [
       "'Find 1522 Sq Ft Flat Available For Sale In Pallabi'"
      ]
     },
     "execution_count": 11,
     "metadata": {},
     "output_type": "execute_result"
    }
   ],
   "source": [
    "bproperty_df[\"property_description\"][15]"
   ]
  },
  {
   "cell_type": "code",
   "execution_count": null,
   "id": "c2192244",
   "metadata": {},
   "outputs": [],
   "source": []
  },
  {
   "cell_type": "code",
   "execution_count": 12,
   "id": "8fd558b4",
   "metadata": {},
   "outputs": [
    {
     "data": {
      "text/plain": [
       "'This flat consists of facilities you can think of for a proper living standards. The amazing floor plan of this flat ensures the buyer decision even more rightful for what they are pursuing for. The washroom comes with all the up-to-date fixtures. For your delish cooking essentials, you are getting a convenient kitchen having a nice kitchen counter. You would also have refreshing balconies to spend some good family times in your morning and evening hours with your family. There are plenty of places nearby so going for recreational activities outside is an easy option to pick as well. Make yourself a happy buyer by calling us about this beautiful apartment right away!'"
      ]
     },
     "execution_count": 12,
     "metadata": {},
     "output_type": "execute_result"
    }
   ],
   "source": [
    "bproperty_df[\"property_overview\"][0]"
   ]
  },
  {
   "cell_type": "code",
   "execution_count": 13,
   "id": "a2f64764",
   "metadata": {},
   "outputs": [
    {
     "data": {
      "text/plain": [
       "'This plot is designed with your desired home in mind. It will not only offer you a pleasant lifestyle but also will offer you complete privacy and security to ensure that your family and guests have a safe and enjoyable time. It also offers you a very good payment plan. This beautiful plot is now available with full building.  If you like the plot, call us right away to know more.'"
      ]
     },
     "execution_count": 13,
     "metadata": {},
     "output_type": "execute_result"
    }
   ],
   "source": [
    "bproperty_df[\"property_overview\"][150]"
   ]
  },
  {
   "cell_type": "code",
   "execution_count": null,
   "id": "9817bdef",
   "metadata": {},
   "outputs": [],
   "source": []
  },
  {
   "cell_type": "code",
   "execution_count": 14,
   "id": "444aa1e8",
   "metadata": {},
   "outputs": [
    {
     "data": {
      "text/plain": [
       "For Sale    10943\n",
       "For Rent     6386\n",
       "Name: purpose, dtype: int64"
      ]
     },
     "execution_count": 14,
     "metadata": {},
     "output_type": "execute_result"
    }
   ],
   "source": [
    "property_per_purpose = bproperty_df[\"purpose\"].value_counts()\n",
    "property_per_purpose"
   ]
  },
  {
   "cell_type": "code",
   "execution_count": 15,
   "id": "b1a29bda",
   "metadata": {},
   "outputs": [
    {
     "data": {
      "image/png": "[encoded data removed]",
      "text/plain": [
       "<Figure size 432x288 with 1 Axes>"
      ]
     },
     "metadata": {
      "needs_background": "light"
     },
     "output_type": "display_data"
    }
   ],
   "source": [
    "property_per_purpose.plot(kind=\"bar\")\n",
    "plt.xlabel(\"Properties tag\")\n",
    "plt.ylabel(\"Count\")\n",
    "plt.title(\"Properties count\");"
   ]
  },
  {
   "cell_type": "markdown",
   "id": "14672eb3",
   "metadata": {},
   "source": [
    "Properties for sale are nearly the double of the properties for rent. And the amount of properties may be a little low to make the futures model predict well on unknow data."
   ]
  },
  {
   "cell_type": "code",
   "execution_count": null,
   "id": "a60e91dc",
   "metadata": {},
   "outputs": [],
   "source": []
  },
  {
   "cell_type": "code",
   "execution_count": 16,
   "id": "54217a88",
   "metadata": {},
   "outputs": [
    {
     "data": {
      "text/plain": [
       "\"{'Balcony or Terrace': 'yes', 'Flooring': 'yes', 'Parking Spaces': ' 1', 'View': 'yes', 'Lobby in Building': 'yes', 'Electricity Backup': 'yes', 'Elevators in Building': ' 1', 'Floor Level': 'yes', 'CCTV Security': 'yes', 'Maintenance Staff': 'yes', 'Cleaning Services': 'yes'}\""
      ]
     },
     "execution_count": 16,
     "metadata": {},
     "output_type": "execute_result"
    }
   ],
   "source": [
    "bproperty_df[\"amenities\"][0]"
   ]
  },
  {
   "cell_type": "code",
   "execution_count": 17,
   "id": "ed3a5b19",
   "metadata": {
    "scrolled": true
   },
   "outputs": [
    {
     "data": {
      "text/plain": [
       "\"{'Parking Spaces': ' 1', 'Flooring': 'yes', 'View': 'yes', 'Balcony or Terrace': 'yes', '24 Hours Concierge': 'yes', 'Double Glazed Windows': 'yes', 'Elevators in Building': ' 1', 'Floor Level': 'yes', 'Lobby in Building': 'yes', 'Broadband Internet': 'yes', 'Lawn or Garden': 'yes', 'CCTV Security': 'yes', 'Maintenance Staff': 'yes'}\""
      ]
     },
     "execution_count": 17,
     "metadata": {},
     "output_type": "execute_result"
    }
   ],
   "source": [
    "bproperty_df[\"amenities\"][220]"
   ]
  },
  {
   "cell_type": "markdown",
   "id": "b83b8b38",
   "metadata": {},
   "source": [
    "Each key in the dictionary of the feature `amenities` should become a column, with the following indications:\n",
    "* `Floor level`: should be of type integer; its content should be the number of floor of the property\n",
    "* `View`: should be of type boolean\n",
    "* `Balcony or Terrace`: column should be named `balcony-or-terrace`, and should be of type boolean\n",
    "* `Flooring`: should be of type boolean\n",
    "* `Electricity backup`: column should be named `electricity-backup`, and should be of type boolean\n",
    "* `Elevators in Buildings`: column should be named `elevator`, and should be of type int\n",
    "* `Broadband Internet`: column should be named `internet`, and content should be boolean\n",
    "* `CCTV Security`: column should be named `cctv-security`, and should be boolean\n",
    "* `Cleaning Services`: column should be named `cleaning-services`, and should be boolean\n",
    "* Keys present in the dictionary but not mentioned in the above list should also become a column\n",
    "\n",
    "(tidiness issues)"
   ]
  },
  {
   "cell_type": "code",
   "execution_count": null,
   "id": "ac829602",
   "metadata": {},
   "outputs": [],
   "source": []
  },
  {
   "cell_type": "code",
   "execution_count": 18,
   "id": "228152a9",
   "metadata": {},
   "outputs": [
    {
     "data": {
      "text/plain": [
       "array(['Apartment', 'Shop', 'Floor', 'Office', 'Building', 'Plot',\n",
       "       'Duplex', 'Warehouse', 'Factory'], dtype=object)"
      ]
     },
     "execution_count": 18,
     "metadata": {},
     "output_type": "execute_result"
    }
   ],
   "source": [
    "bproperty_df[\"building_type\"].unique()"
   ]
  },
  {
   "cell_type": "code",
   "execution_count": null,
   "id": "c42f00ea",
   "metadata": {},
   "outputs": [],
   "source": []
  },
  {
   "cell_type": "code",
   "execution_count": 19,
   "id": "5fba7d34",
   "metadata": {},
   "outputs": [
    {
     "data": {
      "text/plain": [
       "array(['For Sale', 'For Rent'], dtype=object)"
      ]
     },
     "execution_count": 19,
     "metadata": {},
     "output_type": "execute_result"
    }
   ],
   "source": [
    "bproperty_df[\"purpose\"].unique()"
   ]
  },
  {
   "cell_type": "markdown",
   "id": "917fe67e",
   "metadata": {},
   "source": [
    "`purpose` should have `Rent` or `Sale` as values, to keep all cleaned datasets consistent."
   ]
  },
  {
   "cell_type": "code",
   "execution_count": null,
   "id": "5f9f2638",
   "metadata": {},
   "outputs": [],
   "source": []
  },
  {
   "cell_type": "markdown",
   "id": "b73ff279",
   "metadata": {},
   "source": [
    "<span id=\"bproperty-assessment-report\"> </span>\n",
    "\n",
    "#### Assessment report summary\n",
    "\n",
    "##### Quality issues\n",
    "1. `area` column should be decimal, not string.\n",
    "1. Replace column name `commercial_type` by `building_nature`, and change its values to `residential` or `commercial` accordingly.\n",
    "1. `num_bath_rooms` and `num_bed_rooms` should be decimal, no string.\n",
    "1. `price` content is not uniform accross the dataset. Some are in `Lakh`, other in `Crore`, etc... The unit used for the price should be uniformized. Please pay attention to the fact that there are `price` without unit.\n",
    "1. `price` should be decimal, not string\n",
    "1. `purpose` should have `Rent` or `Sale` as values. This is not really an issue, its goal is only to keep values consistent accross all cleaned datasets.\n",
    "\n",
    "\n",
    "##### Tidiness issues\n",
    "1. `location` has concatened informations: city, district, sector, etc. Those informations will be splitted into `city` and `address`..\n",
    "1. In `amenities` feature, each key in the dictionary should become a column, with the following indications:\n",
    "    * `Floor level`:  column should be named `floor-level`, and should be of type integer; its content should be the number of floor of the property ??\n",
    "    * `View`: should be of type boolean\n",
    "    * `Balcony or Terrace`: column should be named `balcony-or-terrace`, and should be of type boolean\n",
    "    * `Flooring`: should be of type boolean\n",
    "    * `Electricity backup`: column should be named `electricity-backup`, and should be of type boolean\n",
    "    * `Elevators in Buildings`: column should be named `elevator`, and should be of type int\n",
    "    * `Broadband Internet`: column should be named `internet`, and content should be boolean\n",
    "    * `CCTV Security`: column should be named `cctv-security`, and should be boolean\n",
    "    * `Cleaning Services`: column should be named `cleaning-services`, and should be boolean\n",
    "    * Keys present in the dictionary but not mentioned in the above list should also become a column\n",
    "    "
   ]
  },
  {
   "cell_type": "code",
   "execution_count": null,
   "id": "7902d870",
   "metadata": {},
   "outputs": [],
   "source": []
  },
  {
   "cell_type": "code",
   "execution_count": null,
   "id": "1e0380a7",
   "metadata": {},
   "outputs": [],
   "source": []
  },
  {
   "cell_type": "markdown",
   "id": "fe9e30f0",
   "metadata": {},
   "source": [
    "<span id=\"bproperty-cleaning\"> </span>\n",
    "\n",
    "## Cleaning `bproperty`"
   ]
  },
  {
   "cell_type": "code",
   "execution_count": null,
   "id": "e95b139b",
   "metadata": {},
   "outputs": [],
   "source": []
  },
  {
   "cell_type": "markdown",
   "id": "1eb7c2da",
   "metadata": {},
   "source": [
    "### `area` column should be decimal, not string ( [quality issue #1](#bproperty-assessment-report) )"
   ]
  },
  {
   "cell_type": "code",
   "execution_count": 20,
   "id": "b7779176",
   "metadata": {},
   "outputs": [
    {
     "data": {
      "text/plain": [
       "dtype('O')"
      ]
     },
     "execution_count": 20,
     "metadata": {},
     "output_type": "execute_result"
    }
   ],
   "source": [
    "# Recalling the type of area feature\n",
    "bproperty_df[\"area\"].dtype"
   ]
  },
  {
   "cell_type": "code",
   "execution_count": 21,
   "id": "0f63cbcf",
   "metadata": {},
   "outputs": [
    {
     "data": {
      "text/plain": [
       "array(['1,185 sqft', '2,464 sqft', '1,140 sqft', ..., '3,842 sqft',\n",
       "       '13,350 sqft', '307 sqft'], dtype=object)"
      ]
     },
     "execution_count": 21,
     "metadata": {},
     "output_type": "execute_result"
    }
   ],
   "source": [
    "bproperty_df[\"area\"].unique()"
   ]
  },
  {
   "cell_type": "markdown",
   "id": "cd3c02a3",
   "metadata": {},
   "source": [
    "There are value in `sqft` and in `Katha`"
   ]
  },
  {
   "cell_type": "markdown",
   "id": "1cc48744",
   "metadata": {},
   "source": [
    "#### Define\n",
    "* Loop through `area` column, while:\n",
    "    * converting `Katha` value to `sqft` value\n",
    "    * removing the unit in the value, to only have the number left\n",
    "* Convert `area` column to decimal"
   ]
  },
  {
   "cell_type": "markdown",
   "id": "f4cde336",
   "metadata": {},
   "source": [
    "#### Code"
   ]
  },
  {
   "cell_type": "code",
   "execution_count": 22,
   "id": "f273e40f",
   "metadata": {},
   "outputs": [
    {
     "name": "stdout",
     "output_type": "stream",
     "text": [
      "Currently processing sample 0...\n",
      "Currently processing sample 1000...\n",
      "Currently processing sample 2000...\n",
      "Currently processing sample 3000...\n",
      "Currently processing sample 4000...\n",
      "Currently processing sample 5000...\n",
      "Currently processing sample 6000...\n",
      "Currently processing sample 7000...\n",
      "Currently processing sample 8000...\n",
      "Currently processing sample 9000...\n",
      "Currently processing sample 10000...\n",
      "Currently processing sample 11000...\n",
      "Currently processing sample 12000...\n",
      "Currently processing sample 13000...\n",
      "Currently processing sample 14000...\n",
      "Currently processing sample 15000...\n",
      "Currently processing sample 16000...\n",
      "Currently processing sample 17000...\n",
      "Processing has come to an end\n"
     ]
    }
   ],
   "source": [
    "\"\"\"\n",
    "    Loop through `area` column, while:\n",
    "        - converting `Katha` value to `sqft` value\n",
    "        - removing the unit in the value, to only have the number left\n",
    "\"\"\"\n",
    "\n",
    "for index, row in bproperty_df.iterrows(): # loop through each sample\n",
    "    \n",
    "    # The code may take time, log in the console to keep track of things\n",
    "    if index==0 or index%1000==0:\n",
    "        print(f\"Currently processing sample {index}...\")\n",
    "        \n",
    "    # retrieve the area\n",
    "    sample_area = bproperty_df.loc[index, \"area\"] \n",
    "    splitted_sample_area = sample_area.split()\n",
    "    \n",
    "    # making sure there is only the value and the unit in sample_area\n",
    "    if len(splitted_sample_area)>2:\n",
    "        print(f\"Sample of index {index} has a suspicious value as area: {sample_area}\")\n",
    "        break\n",
    "        \n",
    "    area = float( splitted_sample_area[0].replace(\",\",\"\") ) # will contain the area; eg: 1345\n",
    "    area_unit = splitted_sample_area[1].lower() # will contain the unit; eg: sqft\n",
    "    \n",
    "    # making sure all units are taken into account\n",
    "    if area_unit not in [\"sqft\",\"katha\"]:\n",
    "        print(f\"Sample of index {index} has a unit not taken into account for its area: {sample_area}\")\n",
    "        break\n",
    "   \n",
    "    # converting katha area to sqft area (1 Katha = 720 sqft => Thanks @Kausthab Dutta Phukan )\n",
    "    if area_unit==\"katha\":\n",
    "        area *= 720\n",
    "        \n",
    "    # updating the area of the sample in the dataframe\n",
    "    bproperty_df.loc[index, \"area\"] = area\n",
    "    \n",
    "print(\"Processing has come to an end\")\n",
    "\n",
    "# Converting area to decimal\n",
    "bproperty_df[\"area\"] = bproperty_df[\"area\"].astype(float)"
   ]
  },
  {
   "cell_type": "code",
   "execution_count": null,
   "id": "61d70d8c",
   "metadata": {},
   "outputs": [],
   "source": []
  },
  {
   "cell_type": "markdown",
   "id": "3675cb6d",
   "metadata": {},
   "source": [
    "#### Testing"
   ]
  },
  {
   "cell_type": "code",
   "execution_count": 23,
   "id": "0f2e56d1",
   "metadata": {},
   "outputs": [
    {
     "data": {
      "text/plain": [
       "dtype('float64')"
      ]
     },
     "execution_count": 23,
     "metadata": {},
     "output_type": "execute_result"
    }
   ],
   "source": [
    "bproperty_df[\"area\"].dtype"
   ]
  },
  {
   "cell_type": "code",
   "execution_count": null,
   "id": "39c3603c",
   "metadata": {},
   "outputs": [],
   "source": []
  },
  {
   "cell_type": "code",
   "execution_count": null,
   "id": "b9a244c6",
   "metadata": {},
   "outputs": [],
   "source": []
  },
  {
   "cell_type": "markdown",
   "id": "5a0d149a",
   "metadata": {},
   "source": [
    "### Cleaning `commercial_type` feature ( [quality issue #2](#bproperty-assessment-report) )\n",
    "\n",
    "Replace column name `commercial_type` by `building_nature`, and change its values to `residential` or `commercial` accordingly."
   ]
  },
  {
   "cell_type": "code",
   "execution_count": 24,
   "id": "d2b1daf6",
   "metadata": {},
   "outputs": [
    {
     "data": {
      "text/plain": [
       "array([False,  True])"
      ]
     },
     "execution_count": 24,
     "metadata": {},
     "output_type": "execute_result"
    }
   ],
   "source": [
    "bproperty_df[\"commercial_type\"].unique()"
   ]
  },
  {
   "cell_type": "markdown",
   "id": "725439be",
   "metadata": {},
   "source": [
    "#### Define\n",
    "* Change column values: `True` is to be updated to `Commercial`, and `False` is to become `Residential`\n",
    "* Replace column name (`commercial_type`) by `building_nature`"
   ]
  },
  {
   "cell_type": "code",
   "execution_count": null,
   "id": "a76d79d3",
   "metadata": {},
   "outputs": [],
   "source": []
  },
  {
   "cell_type": "markdown",
   "id": "a3429c54",
   "metadata": {},
   "source": [
    "#### Code"
   ]
  },
  {
   "cell_type": "code",
   "execution_count": 25,
   "id": "73fa1d54",
   "metadata": {},
   "outputs": [
    {
     "data": {
      "text/plain": [
       "array(['Residential', 'Commercial'], dtype=object)"
      ]
     },
     "execution_count": 25,
     "metadata": {},
     "output_type": "execute_result"
    }
   ],
   "source": [
    "# Replacing values of commercial_type column\n",
    "bproperty_df.loc[ bproperty_df[\"commercial_type\"]==True, [\"commercial_type\"] ] = \"Commercial\"\n",
    "bproperty_df.loc[ bproperty_df[\"commercial_type\"]==False, [\"commercial_type\"] ] = \"Residential\"\n",
    "\n",
    "# Making sure values were updated\n",
    "bproperty_df[\"commercial_type\"].unique()"
   ]
  },
  {
   "cell_type": "code",
   "execution_count": 26,
   "id": "e7c7d363",
   "metadata": {},
   "outputs": [
    {
     "data": {
      "text/plain": [
       "['amenities',\n",
       " 'area',\n",
       " 'building_type',\n",
       " 'building_nature',\n",
       " 'image_url',\n",
       " 'location',\n",
       " 'num_bath_rooms',\n",
       " 'num_bed_rooms',\n",
       " 'price',\n",
       " 'property_description',\n",
       " 'property_overview',\n",
       " 'property_url',\n",
       " 'purpose']"
      ]
     },
     "execution_count": 26,
     "metadata": {},
     "output_type": "execute_result"
    }
   ],
   "source": [
    "# Renaming column\n",
    "bproperty_df.rename(columns={\n",
    "    \"commercial_type\":\"building_nature\"\n",
    "}, inplace=True)\n",
    "\n",
    "# Confirming rename was done\n",
    "bproperty_df.columns.to_list()"
   ]
  },
  {
   "cell_type": "code",
   "execution_count": 27,
   "id": "ea154b70",
   "metadata": {},
   "outputs": [
    {
     "data": {
      "text/html": [
       "<div>\n",
       "<style scoped>\n",
       "    .dataframe tbody tr th:only-of-type {\n",
       "        vertical-align: middle;\n",
       "    }\n",
       "\n",
       "    .dataframe tbody tr th {\n",
       "        vertical-align: top;\n",
       "    }\n",
       "\n",
       "    .dataframe thead th {\n",
       "        text-align: right;\n",
       "    }\n",
       "</style>\n",
       "<table border=\"1\" class=\"dataframe\">\n",
       "  <thead>\n",
       "    <tr style=\"text-align: right;\">\n",
       "      <th></th>\n",
       "      <th>0</th>\n",
       "      <th>1</th>\n",
       "    </tr>\n",
       "  </thead>\n",
       "  <tbody>\n",
       "    <tr>\n",
       "      <th>amenities</th>\n",
       "      <td>{'Balcony or Terrace': 'yes', 'Flooring': 'yes...</td>\n",
       "      <td>{'View': 'yes', 'Parking Spaces': ' 1', 'Balco...</td>\n",
       "    </tr>\n",
       "    <tr>\n",
       "      <th>area</th>\n",
       "      <td>1185.0</td>\n",
       "      <td>2464.0</td>\n",
       "    </tr>\n",
       "    <tr>\n",
       "      <th>building_type</th>\n",
       "      <td>Apartment</td>\n",
       "      <td>Apartment</td>\n",
       "    </tr>\n",
       "    <tr>\n",
       "      <th>building_nature</th>\n",
       "      <td>Residential</td>\n",
       "      <td>Residential</td>\n",
       "    </tr>\n",
       "    <tr>\n",
       "      <th>image_url</th>\n",
       "      <td>https://images-cdn.bproperty.com/thumbnails/15...</td>\n",
       "      <td>https://images-cdn.bproperty.com/thumbnails/15...</td>\n",
       "    </tr>\n",
       "    <tr>\n",
       "      <th>location</th>\n",
       "      <td>Khilgaon, Dhaka</td>\n",
       "      <td>Dhanmondi, Dhaka</td>\n",
       "    </tr>\n",
       "    <tr>\n",
       "      <th>num_bath_rooms</th>\n",
       "      <td>NaN</td>\n",
       "      <td>4 Baths</td>\n",
       "    </tr>\n",
       "    <tr>\n",
       "      <th>num_bed_rooms</th>\n",
       "      <td>3 Beds</td>\n",
       "      <td>3 Beds</td>\n",
       "    </tr>\n",
       "    <tr>\n",
       "      <th>price</th>\n",
       "      <td>61 Lakh</td>\n",
       "      <td>2.89 Crore</td>\n",
       "    </tr>\n",
       "    <tr>\n",
       "      <th>property_description</th>\n",
       "      <td>Grab This 1185 Sq Ft Beautiful Flat Is Vacant ...</td>\n",
       "      <td>A Vibrant 2464 Sq Ft Residential Flat For Sale...</td>\n",
       "    </tr>\n",
       "    <tr>\n",
       "      <th>property_overview</th>\n",
       "      <td>This flat consists of facilities you can think...</td>\n",
       "      <td>Ready to move in somewhere with everything nea...</td>\n",
       "    </tr>\n",
       "    <tr>\n",
       "      <th>property_url</th>\n",
       "      <td>https://www.bproperty.com/en/property/details-...</td>\n",
       "      <td>https://www.bproperty.com/en/property/details-...</td>\n",
       "    </tr>\n",
       "    <tr>\n",
       "      <th>purpose</th>\n",
       "      <td>For Sale</td>\n",
       "      <td>For Sale</td>\n",
       "    </tr>\n",
       "  </tbody>\n",
       "</table>\n",
       "</div>"
      ],
      "text/plain": [
       "                                                                      0  \\\n",
       "amenities             {'Balcony or Terrace': 'yes', 'Flooring': 'yes...   \n",
       "area                                                             1185.0   \n",
       "building_type                                                 Apartment   \n",
       "building_nature                                             Residential   \n",
       "image_url             https://images-cdn.bproperty.com/thumbnails/15...   \n",
       "location                                                Khilgaon, Dhaka   \n",
       "num_bath_rooms                                                      NaN   \n",
       "num_bed_rooms                                                    3 Beds   \n",
       "price                                                           61 Lakh   \n",
       "property_description  Grab This 1185 Sq Ft Beautiful Flat Is Vacant ...   \n",
       "property_overview     This flat consists of facilities you can think...   \n",
       "property_url          https://www.bproperty.com/en/property/details-...   \n",
       "purpose                                                        For Sale   \n",
       "\n",
       "                                                                      1  \n",
       "amenities             {'View': 'yes', 'Parking Spaces': ' 1', 'Balco...  \n",
       "area                                                             2464.0  \n",
       "building_type                                                 Apartment  \n",
       "building_nature                                             Residential  \n",
       "image_url             https://images-cdn.bproperty.com/thumbnails/15...  \n",
       "location                                               Dhanmondi, Dhaka  \n",
       "num_bath_rooms                                                  4 Baths  \n",
       "num_bed_rooms                                                    3 Beds  \n",
       "price                                                        2.89 Crore  \n",
       "property_description  A Vibrant 2464 Sq Ft Residential Flat For Sale...  \n",
       "property_overview     Ready to move in somewhere with everything nea...  \n",
       "property_url          https://www.bproperty.com/en/property/details-...  \n",
       "purpose                                                        For Sale  "
      ]
     },
     "execution_count": 27,
     "metadata": {},
     "output_type": "execute_result"
    }
   ],
   "source": [
    "# Taking a look at content (for general confirmation)\n",
    "bproperty_df.head(2).T"
   ]
  },
  {
   "cell_type": "code",
   "execution_count": null,
   "id": "c31a80e4",
   "metadata": {},
   "outputs": [],
   "source": []
  },
  {
   "cell_type": "markdown",
   "id": "3bff1b89",
   "metadata": {},
   "source": [
    "### `num_bath_rooms` and `num_bed_rooms` should be integer, no string. ( [quality issue #3](#bproperty-assessment-report) )"
   ]
  },
  {
   "cell_type": "code",
   "execution_count": 28,
   "id": "d075e7eb",
   "metadata": {},
   "outputs": [
    {
     "data": {
      "text/plain": [
       "dtype('O')"
      ]
     },
     "execution_count": 28,
     "metadata": {},
     "output_type": "execute_result"
    }
   ],
   "source": [
    "bproperty_df[\"num_bath_rooms\"].dtype"
   ]
  },
  {
   "cell_type": "code",
   "execution_count": 29,
   "id": "263478fd",
   "metadata": {},
   "outputs": [
    {
     "data": {
      "text/plain": [
       "array([nan, '4 Baths', '3 Baths', '2 Baths', '10 Baths', '5 Baths',\n",
       "       '8 Baths', '1 Bath', '7 Baths', '6 Baths', '9 Baths'], dtype=object)"
      ]
     },
     "execution_count": 29,
     "metadata": {},
     "output_type": "execute_result"
    }
   ],
   "source": [
    "bproperty_df[\"num_bath_rooms\"].unique()"
   ]
  },
  {
   "cell_type": "code",
   "execution_count": 30,
   "id": "258f07b5",
   "metadata": {},
   "outputs": [
    {
     "data": {
      "text/plain": [
       "dtype('O')"
      ]
     },
     "execution_count": 30,
     "metadata": {},
     "output_type": "execute_result"
    }
   ],
   "source": [
    "bproperty_df[\"num_bed_rooms\"].dtype"
   ]
  },
  {
   "cell_type": "code",
   "execution_count": 31,
   "id": "5a0190c2",
   "metadata": {},
   "outputs": [
    {
     "data": {
      "text/plain": [
       "array(['3 Beds', '2 Beds', '4 Beds', nan, '21 Beds', '20 Beds', '5 Beds',\n",
       "       '7 Beds', '1 Bed', '6 Beds', '19 Beds', '24 Beds', '33 Beds',\n",
       "       '56 Beds', '18 Beds', '10 Beds', '13 Beds', '48 Beds', '12 Beds',\n",
       "       '60 Beds', '40 Beds', '29 Beds', '23 Beds', '17 Beds', '14 Beds',\n",
       "       '8 Beds', '50 Beds', '75 Beds', '42 Beds', '16 Beds', '36 Beds',\n",
       "       '15 Beds', '25 Beds', '22 Beds', '46 Beds', '30 Beds', '11 Beds',\n",
       "       '32 Beds', '94 Beds'], dtype=object)"
      ]
     },
     "execution_count": 31,
     "metadata": {},
     "output_type": "execute_result"
    }
   ],
   "source": [
    "bproperty_df[\"num_bed_rooms\"].unique()"
   ]
  },
  {
   "cell_type": "code",
   "execution_count": null,
   "id": "02b0889b",
   "metadata": {},
   "outputs": [],
   "source": []
  },
  {
   "cell_type": "markdown",
   "id": "06219ee0",
   "metadata": {},
   "source": [
    "#### Define\n",
    "* Replace `NaN` values by `0` (since in this case, that made sense: it mean the sample doesn't have a bath_room or bed_room \n",
    "* Remove `Bed`, `Beds`, `Bath` and `Baths` from the values of `num_bed_rooms` and `num_bath_rooms`\n",
    "* Convert `num_bed_rooms` and `num_bath_rooms` to integer"
   ]
  },
  {
   "cell_type": "markdown",
   "id": "a2b0b823",
   "metadata": {},
   "source": [
    "#### Code"
   ]
  },
  {
   "cell_type": "code",
   "execution_count": 32,
   "id": "c8af8490",
   "metadata": {},
   "outputs": [
    {
     "data": {
      "text/plain": [
       "(0, 0)"
      ]
     },
     "execution_count": 32,
     "metadata": {},
     "output_type": "execute_result"
    }
   ],
   "source": [
    "# Replace NaN value by 0 in num_bed_rooms and num_bath_rooms\n",
    "bproperty_df[\"num_bed_rooms\"].fillna(\"0\", inplace=True)\n",
    "bproperty_df[\"num_bath_rooms\"].fillna(\"0\", inplace=True)\n",
    "\n",
    "# Check that NaN values where replaced\n",
    "bproperty_df[\"num_bed_rooms\"].isnull().sum(), bproperty_df[\"num_bath_rooms\"].isnull().sum()"
   ]
  },
  {
   "cell_type": "code",
   "execution_count": 33,
   "id": "85fe710b",
   "metadata": {},
   "outputs": [],
   "source": [
    "# Removing the units (bed, bath, ...) in num_bed_rooms and num_bath_rooms\n",
    "bproperty_df[\"num_bed_rooms\"] = bproperty_df[\"num_bed_rooms\"].apply(lambda x: x.split(\" \")[0] )\n",
    "bproperty_df[\"num_bath_rooms\"] = bproperty_df[\"num_bath_rooms\"].apply(lambda x: x.split(\" \")[0] )"
   ]
  },
  {
   "cell_type": "code",
   "execution_count": 34,
   "id": "5fda035e",
   "metadata": {},
   "outputs": [],
   "source": [
    "# Converting num_bed_rooms and num_bath_rooms to integer\n",
    "bproperty_df[\"num_bed_rooms\"] = bproperty_df[\"num_bed_rooms\"].astype(int)\n",
    "bproperty_df[\"num_bath_rooms\"] = bproperty_df[\"num_bath_rooms\"].astype(int)\n"
   ]
  },
  {
   "cell_type": "code",
   "execution_count": null,
   "id": "4828b8f9",
   "metadata": {},
   "outputs": [],
   "source": []
  },
  {
   "cell_type": "markdown",
   "id": "d95f9603",
   "metadata": {},
   "source": [
    "#### Testing"
   ]
  },
  {
   "cell_type": "code",
   "execution_count": 35,
   "id": "86a90166",
   "metadata": {},
   "outputs": [
    {
     "data": {
      "text/plain": [
       "(dtype('int32'), dtype('int32'))"
      ]
     },
     "execution_count": 35,
     "metadata": {},
     "output_type": "execute_result"
    }
   ],
   "source": [
    "# Checking type conversion was succesful\n",
    "bproperty_df[\"num_bed_rooms\"].dtype, bproperty_df[\"num_bath_rooms\"].dtype"
   ]
  },
  {
   "cell_type": "code",
   "execution_count": null,
   "id": "ada6daa2",
   "metadata": {},
   "outputs": [],
   "source": []
  },
  {
   "cell_type": "code",
   "execution_count": null,
   "id": "658b7c8f",
   "metadata": {},
   "outputs": [],
   "source": []
  },
  {
   "cell_type": "markdown",
   "id": "22c23f8a",
   "metadata": {},
   "source": [
    "### `price` content is not uniform accross the dataset ( [quality issue #4 & #5](#bproperty-assessment-report) )\n",
    "\n",
    "`price` content is not uniform accross the dataset. Some are in `Lakh`, other in `Crore`, etc... The unit used for the price should be uniformized. A special attention should be paid to the fact that there are `price` without unit.  \n",
    "\n",
    "Furthermore, `price` should be decimal, not string."
   ]
  },
  {
   "cell_type": "code",
   "execution_count": 36,
   "id": "a747c7f2",
   "metadata": {},
   "outputs": [
    {
     "data": {
      "text/plain": [
       "array(['61 Lakh', '2.89 Crore', '75 Lakh', ..., '24 Crore', '7.3 Crore',\n",
       "       '92.1 Lakh'], dtype=object)"
      ]
     },
     "execution_count": 36,
     "metadata": {},
     "output_type": "execute_result"
    }
   ],
   "source": [
    "bproperty_df[\"price\"].unique()"
   ]
  },
  {
   "cell_type": "markdown",
   "id": "e481cd85",
   "metadata": {},
   "source": [
    "#### Define\n",
    "* Convert all price to the same currency\n",
    "* Replace `Thousand` by triple `0`\n",
    "* Convert the column to float"
   ]
  },
  {
   "cell_type": "markdown",
   "id": "715cb7d0",
   "metadata": {},
   "source": [
    "#### Code"
   ]
  },
  {
   "cell_type": "code",
   "execution_count": 37,
   "id": "358a67d7",
   "metadata": {},
   "outputs": [
    {
     "name": "stdout",
     "output_type": "stream",
     "text": [
      "Currently processing sample 0...\n",
      "Currently processing sample 1000...\n",
      "Currently processing sample 2000...\n",
      "Currently processing sample 3000...\n",
      "Currently processing sample 4000...\n",
      "Currently processing sample 5000...\n",
      "Currently processing sample 6000...\n",
      "Currently processing sample 7000...\n",
      "Currently processing sample 8000...\n",
      "Currently processing sample 9000...\n",
      "Currently processing sample 10000...\n",
      "Currently processing sample 11000...\n",
      "Currently processing sample 12000...\n",
      "Currently processing sample 13000...\n",
      "Currently processing sample 14000...\n",
      "Currently processing sample 15000...\n",
      "Currently processing sample 16000...\n",
      "Currently processing sample 17000...\n",
      "Processing has come to an end\n"
     ]
    }
   ],
   "source": [
    "\"\"\"\n",
    "    Loop through `price` column, while:\n",
    "        * Converting all prices to BDT currency\n",
    "        * Replacing `Thousand` by triple `0`\n",
    "\"\"\"\n",
    "\n",
    "for index, row in bproperty_df.iterrows(): # loop through each sample\n",
    "    \n",
    "    # The code may take time, log in the console to keep track of things\n",
    "    if index==0 or index%1000==0:\n",
    "        print(f\"Currently processing sample {index}...\")\n",
    "        \n",
    "    # retrieve the price\n",
    "    sample_price = bproperty_df.loc[index, \"price\"]\n",
    "    splitted_sample_price= sample_price.split()\n",
    "    \n",
    "    # making sure there are only the value and unit in sample price\n",
    "    if len(splitted_sample_price)>2:\n",
    "        print(f\"Sample of index {index} has a suspicious value as price: {sample_price}\")\n",
    "        break\n",
    "        \n",
    "    price = float( splitted_sample_price[0] ) # will contain the price; eg: 1345\n",
    "    price_unit = splitted_sample_price[1].lower() # will contain the unit; eg: Lakh, Crore\n",
    "    \n",
    "    # making sure all units are taken into account\n",
    "    if price_unit not in [\"arab\",\"crore\",\"lakh\",\"thousand\"]:\n",
    "        print(f\"Sample of index {index} has a unit not taken into account for its price: {sample_price}\")\n",
    "        break\n",
    "    \n",
    "    # converting all price unit to BDT : 1 lakh=100000 BDT,1 crore=10000000 BDT, 1 Arab= 1000000000 BDT (Thanks @Al Momin Faruk)\n",
    "    if price_unit==\"arab\":\n",
    "        price *= 1000000000\n",
    "    elif price_unit==\"crore\":\n",
    "        price *= 10000000\n",
    "    elif price_unit==\"lakh\":\n",
    "        price *= 100000\n",
    "    elif price_unit==\"thousand\":\n",
    "        price *= 1000\n",
    "    else:\n",
    "        raise Exception(f\"Currency {price_unit} not taken to account\")\n",
    "    \n",
    "    # updating the price of the sample in the dataframe\n",
    "    bproperty_df.loc[index, \"price\"] = price\n",
    "\n",
    "print(\"Processing has come to an end\")\n",
    "    \n",
    "# Converting area to decimal\n",
    "bproperty_df[\"price\"] = bproperty_df[\"price\"].astype(float)"
   ]
  },
  {
   "cell_type": "code",
   "execution_count": null,
   "id": "4e7190cd",
   "metadata": {},
   "outputs": [],
   "source": []
  },
  {
   "cell_type": "markdown",
   "id": "00830f96",
   "metadata": {},
   "source": [
    "#### Testing"
   ]
  },
  {
   "cell_type": "code",
   "execution_count": 38,
   "id": "702f9cac",
   "metadata": {},
   "outputs": [
    {
     "data": {
      "text/plain": [
       "dtype('float64')"
      ]
     },
     "execution_count": 38,
     "metadata": {},
     "output_type": "execute_result"
    }
   ],
   "source": [
    "bproperty_df[\"price\"].dtype"
   ]
  },
  {
   "cell_type": "code",
   "execution_count": null,
   "id": "3a1e5c30",
   "metadata": {},
   "outputs": [],
   "source": []
  },
  {
   "cell_type": "code",
   "execution_count": null,
   "id": "8e650950",
   "metadata": {},
   "outputs": [],
   "source": []
  },
  {
   "cell_type": "markdown",
   "id": "b1843495",
   "metadata": {},
   "source": [
    "### Set `purpose` values to `Rent` or `Sale` ( [quality issue #6](#bproperty-assessment-report) )\n",
    "\n",
    "`purpose` should have `Rent` or `Sale` as values. This is not really an issue, its goal is only to keep values consistent accross all cleaned datasets."
   ]
  },
  {
   "cell_type": "code",
   "execution_count": 39,
   "id": "36a723ce",
   "metadata": {},
   "outputs": [
    {
     "data": {
      "text/plain": [
       "array(['For Sale', 'For Rent'], dtype=object)"
      ]
     },
     "execution_count": 39,
     "metadata": {},
     "output_type": "execute_result"
    }
   ],
   "source": [
    "bproperty_df[\"purpose\"].unique()"
   ]
  },
  {
   "cell_type": "code",
   "execution_count": null,
   "id": "68b638f7",
   "metadata": {},
   "outputs": [],
   "source": []
  },
  {
   "cell_type": "markdown",
   "id": "6f70f4e6",
   "metadata": {},
   "source": [
    "#### Define\n",
    "* Replace `For Sale` by `Sale`, and `For Rent` by `Rent` "
   ]
  },
  {
   "cell_type": "code",
   "execution_count": null,
   "id": "c66412c5",
   "metadata": {},
   "outputs": [],
   "source": []
  },
  {
   "cell_type": "markdown",
   "id": "4f56cbdb",
   "metadata": {},
   "source": [
    "#### Code"
   ]
  },
  {
   "cell_type": "code",
   "execution_count": 40,
   "id": "c336a58e",
   "metadata": {},
   "outputs": [],
   "source": [
    "bproperty_df[\"purpose\"] = bproperty_df[\"purpose\"].apply(lambda x: x.split(\" \")[1] )"
   ]
  },
  {
   "cell_type": "markdown",
   "id": "908f57a7",
   "metadata": {},
   "source": [
    "#### Testing"
   ]
  },
  {
   "cell_type": "code",
   "execution_count": 41,
   "id": "8e63f348",
   "metadata": {},
   "outputs": [
    {
     "data": {
      "text/plain": [
       "array(['Sale', 'Rent'], dtype=object)"
      ]
     },
     "execution_count": 41,
     "metadata": {},
     "output_type": "execute_result"
    }
   ],
   "source": [
    "bproperty_df[\"purpose\"].unique()"
   ]
  },
  {
   "cell_type": "code",
   "execution_count": null,
   "id": "101cee5f",
   "metadata": {},
   "outputs": [],
   "source": []
  },
  {
   "cell_type": "code",
   "execution_count": null,
   "id": "c98ac873",
   "metadata": {},
   "outputs": [],
   "source": []
  },
  {
   "cell_type": "markdown",
   "id": "29884ef8",
   "metadata": {},
   "source": [
    "### Split `location` column content into adequate columns ( [tidiness issue #1](#bproperty-assessment-report) )\n",
    "\n",
    "`location` has concatened informations: city, district, sector, etc. Those will be splitted into `city` and `address`."
   ]
  },
  {
   "cell_type": "code",
   "execution_count": null,
   "id": "5d3d4420",
   "metadata": {},
   "outputs": [],
   "source": []
  },
  {
   "cell_type": "code",
   "execution_count": 42,
   "id": "35897387",
   "metadata": {},
   "outputs": [
    {
     "data": {
      "text/plain": [
       "0                                         Khilgaon, Dhaka\n",
       "1                                        Dhanmondi, Dhaka\n",
       "2                      Block TA, Section 6, Mirpur, Dhaka\n",
       "3                         Block J, Bashundhara R-A, Dhaka\n",
       "4        Block M, South Banasree Project, Banasree, Dhaka\n",
       "                               ...                       \n",
       "17324                            Block H, Banasree, Dhaka\n",
       "17325                     Block J, Bashundhara R-A, Dhaka\n",
       "17326                     Block G, Bashundhara R-A, Dhaka\n",
       "17327                               Baridhara DOHS, Dhaka\n",
       "17328                            Block F, Banasree, Dhaka\n",
       "Name: location, Length: 17329, dtype: object"
      ]
     },
     "execution_count": 42,
     "metadata": {},
     "output_type": "execute_result"
    }
   ],
   "source": [
    "bproperty_df[\"location\"]"
   ]
  },
  {
   "cell_type": "code",
   "execution_count": null,
   "id": "032df1a8",
   "metadata": {},
   "outputs": [],
   "source": []
  },
  {
   "cell_type": "markdown",
   "id": "501252b3",
   "metadata": {},
   "source": [
    "#### Define\n",
    "* Before\n",
    "    * Split content of `location` to `city` and `address`\n",
    "    * Remove `location` column\n",
    "* Now\n",
    "    * Retrieve the city, area, and address from each `location` through `get_detailed_address()`\n",
    "    * Update new columns (city, locality, address) based on values retrieve from `location`"
   ]
  },
  {
   "cell_type": "code",
   "execution_count": null,
   "id": "550820f3",
   "metadata": {},
   "outputs": [],
   "source": []
  },
  {
   "cell_type": "markdown",
   "id": "a894ac70",
   "metadata": {},
   "source": [
    "#### Code"
   ]
  },
  {
   "cell_type": "code",
   "execution_count": 43,
   "id": "bd7656bd",
   "metadata": {},
   "outputs": [
    {
     "data": {
      "text/plain": [
       "{'City': 'Dhaka', 'Area': 'Khilgaon', 'Address': ''}"
      ]
     },
     "execution_count": 43,
     "metadata": {},
     "output_type": "execute_result"
    }
   ],
   "source": [
    "# testing the get_detailed_address\n",
    "get_detailed_address(bproperty_df[\"location\"][0])"
   ]
  },
  {
   "cell_type": "code",
   "execution_count": 44,
   "id": "734d9e72",
   "metadata": {},
   "outputs": [],
   "source": [
    "# bproperty_df[\"location\"][13].title()"
   ]
  },
  {
   "cell_type": "code",
   "execution_count": 45,
   "id": "8bed5ea2",
   "metadata": {},
   "outputs": [
    {
     "data": {
      "text/html": [
       "<div>\n",
       "<style scoped>\n",
       "    .dataframe tbody tr th:only-of-type {\n",
       "        vertical-align: middle;\n",
       "    }\n",
       "\n",
       "    .dataframe tbody tr th {\n",
       "        vertical-align: top;\n",
       "    }\n",
       "\n",
       "    .dataframe thead th {\n",
       "        text-align: right;\n",
       "    }\n",
       "</style>\n",
       "<table border=\"1\" class=\"dataframe\">\n",
       "  <thead>\n",
       "    <tr style=\"text-align: right;\">\n",
       "      <th></th>\n",
       "      <th>0</th>\n",
       "      <th>1</th>\n",
       "      <th>2</th>\n",
       "    </tr>\n",
       "  </thead>\n",
       "  <tbody>\n",
       "    <tr>\n",
       "      <th>amenities</th>\n",
       "      <td>{'Balcony or Terrace': 'yes', 'Flooring': 'yes...</td>\n",
       "      <td>{'View': 'yes', 'Parking Spaces': ' 1', 'Balco...</td>\n",
       "      <td>{'View': 'yes', 'Balcony or Terrace': 'yes', '...</td>\n",
       "    </tr>\n",
       "    <tr>\n",
       "      <th>area</th>\n",
       "      <td>1185.0</td>\n",
       "      <td>2464.0</td>\n",
       "      <td>1140.0</td>\n",
       "    </tr>\n",
       "    <tr>\n",
       "      <th>building_type</th>\n",
       "      <td>Apartment</td>\n",
       "      <td>Apartment</td>\n",
       "      <td>Apartment</td>\n",
       "    </tr>\n",
       "    <tr>\n",
       "      <th>building_nature</th>\n",
       "      <td>Residential</td>\n",
       "      <td>Residential</td>\n",
       "      <td>Residential</td>\n",
       "    </tr>\n",
       "    <tr>\n",
       "      <th>image_url</th>\n",
       "      <td>https://images-cdn.bproperty.com/thumbnails/15...</td>\n",
       "      <td>https://images-cdn.bproperty.com/thumbnails/15...</td>\n",
       "      <td>https://images-cdn.bproperty.com/thumbnails/15...</td>\n",
       "    </tr>\n",
       "    <tr>\n",
       "      <th>location</th>\n",
       "      <td>Khilgaon, Dhaka</td>\n",
       "      <td>Dhanmondi, Dhaka</td>\n",
       "      <td>Block TA, Section 6, Mirpur, Dhaka</td>\n",
       "    </tr>\n",
       "    <tr>\n",
       "      <th>num_bath_rooms</th>\n",
       "      <td>0</td>\n",
       "      <td>4</td>\n",
       "      <td>0</td>\n",
       "    </tr>\n",
       "    <tr>\n",
       "      <th>num_bed_rooms</th>\n",
       "      <td>3</td>\n",
       "      <td>3</td>\n",
       "      <td>3</td>\n",
       "    </tr>\n",
       "    <tr>\n",
       "      <th>price</th>\n",
       "      <td>6100000.0</td>\n",
       "      <td>28900000.0</td>\n",
       "      <td>7500000.0</td>\n",
       "    </tr>\n",
       "    <tr>\n",
       "      <th>property_description</th>\n",
       "      <td>Grab This 1185 Sq Ft Beautiful Flat Is Vacant ...</td>\n",
       "      <td>A Vibrant 2464 Sq Ft Residential Flat For Sale...</td>\n",
       "      <td>1140 Sq Ft Nicely Planned Apartment Is Availab...</td>\n",
       "    </tr>\n",
       "    <tr>\n",
       "      <th>property_overview</th>\n",
       "      <td>This flat consists of facilities you can think...</td>\n",
       "      <td>Ready to move in somewhere with everything nea...</td>\n",
       "      <td>A spacious 1140  Square Feet apartment in Mirp...</td>\n",
       "    </tr>\n",
       "    <tr>\n",
       "      <th>property_url</th>\n",
       "      <td>https://www.bproperty.com/en/property/details-...</td>\n",
       "      <td>https://www.bproperty.com/en/property/details-...</td>\n",
       "      <td>https://www.bproperty.com/en/property/details-...</td>\n",
       "    </tr>\n",
       "    <tr>\n",
       "      <th>purpose</th>\n",
       "      <td>Sale</td>\n",
       "      <td>Sale</td>\n",
       "      <td>Sale</td>\n",
       "    </tr>\n",
       "    <tr>\n",
       "      <th>city</th>\n",
       "      <td>NaN</td>\n",
       "      <td>NaN</td>\n",
       "      <td>NaN</td>\n",
       "    </tr>\n",
       "    <tr>\n",
       "      <th>locality</th>\n",
       "      <td>NaN</td>\n",
       "      <td>NaN</td>\n",
       "      <td>NaN</td>\n",
       "    </tr>\n",
       "    <tr>\n",
       "      <th>address</th>\n",
       "      <td>NaN</td>\n",
       "      <td>NaN</td>\n",
       "      <td>NaN</td>\n",
       "    </tr>\n",
       "  </tbody>\n",
       "</table>\n",
       "</div>"
      ],
      "text/plain": [
       "                                                                      0  \\\n",
       "amenities             {'Balcony or Terrace': 'yes', 'Flooring': 'yes...   \n",
       "area                                                             1185.0   \n",
       "building_type                                                 Apartment   \n",
       "building_nature                                             Residential   \n",
       "image_url             https://images-cdn.bproperty.com/thumbnails/15...   \n",
       "location                                                Khilgaon, Dhaka   \n",
       "num_bath_rooms                                                        0   \n",
       "num_bed_rooms                                                         3   \n",
       "price                                                         6100000.0   \n",
       "property_description  Grab This 1185 Sq Ft Beautiful Flat Is Vacant ...   \n",
       "property_overview     This flat consists of facilities you can think...   \n",
       "property_url          https://www.bproperty.com/en/property/details-...   \n",
       "purpose                                                            Sale   \n",
       "city                                                                NaN   \n",
       "locality                                                            NaN   \n",
       "address                                                             NaN   \n",
       "\n",
       "                                                                      1  \\\n",
       "amenities             {'View': 'yes', 'Parking Spaces': ' 1', 'Balco...   \n",
       "area                                                             2464.0   \n",
       "building_type                                                 Apartment   \n",
       "building_nature                                             Residential   \n",
       "image_url             https://images-cdn.bproperty.com/thumbnails/15...   \n",
       "location                                               Dhanmondi, Dhaka   \n",
       "num_bath_rooms                                                        4   \n",
       "num_bed_rooms                                                         3   \n",
       "price                                                        28900000.0   \n",
       "property_description  A Vibrant 2464 Sq Ft Residential Flat For Sale...   \n",
       "property_overview     Ready to move in somewhere with everything nea...   \n",
       "property_url          https://www.bproperty.com/en/property/details-...   \n",
       "purpose                                                            Sale   \n",
       "city                                                                NaN   \n",
       "locality                                                            NaN   \n",
       "address                                                             NaN   \n",
       "\n",
       "                                                                      2  \n",
       "amenities             {'View': 'yes', 'Balcony or Terrace': 'yes', '...  \n",
       "area                                                             1140.0  \n",
       "building_type                                                 Apartment  \n",
       "building_nature                                             Residential  \n",
       "image_url             https://images-cdn.bproperty.com/thumbnails/15...  \n",
       "location                             Block TA, Section 6, Mirpur, Dhaka  \n",
       "num_bath_rooms                                                        0  \n",
       "num_bed_rooms                                                         3  \n",
       "price                                                         7500000.0  \n",
       "property_description  1140 Sq Ft Nicely Planned Apartment Is Availab...  \n",
       "property_overview     A spacious 1140  Square Feet apartment in Mirp...  \n",
       "property_url          https://www.bproperty.com/en/property/details-...  \n",
       "purpose                                                            Sale  \n",
       "city                                                                NaN  \n",
       "locality                                                            NaN  \n",
       "address                                                             NaN  "
      ]
     },
     "execution_count": 45,
     "metadata": {},
     "output_type": "execute_result"
    }
   ],
   "source": [
    "# Create new columns\n",
    "bproperty_df[\"city\"] = np.NaN\n",
    "bproperty_df[\"locality\"] = np.NaN\n",
    "bproperty_df[\"address\"] = np.nan\n",
    "\n",
    "# Check new columns\n",
    "bproperty_df.head(3).T"
   ]
  },
  {
   "cell_type": "code",
   "execution_count": null,
   "id": "39f3c80d",
   "metadata": {},
   "outputs": [],
   "source": []
  },
  {
   "cell_type": "code",
   "execution_count": 46,
   "id": "0e15de8a",
   "metadata": {},
   "outputs": [],
   "source": [
    "# Old code\n",
    "\n",
    "# # Retrieve city in location\n",
    "# bproperty_df[\"city\"] = bproperty_df[\"location\"].apply(lambda x: x.split(\",\")[-1].strip() )\n",
    "\n",
    "# # Retrieve address in location\n",
    "# bproperty_df[\"address\"] = bproperty_df[\"location\"].apply(lambda x: \",\".join(x.split(\",\")[:-1]).strip() )\n",
    "\n",
    "# # Checking the content of location, city, and address\n",
    "# bproperty_df[ [\"location\",\"city\",\"address\"] ] "
   ]
  },
  {
   "cell_type": "code",
   "execution_count": 47,
   "id": "204b4119",
   "metadata": {},
   "outputs": [
    {
     "name": "stdout",
     "output_type": "stream",
     "text": [
      "Currently processing sample 0...\n",
      "Currently processing sample 1000...\n",
      "Currently processing sample 2000...\n",
      "Currently processing sample 3000...\n",
      "Currently processing sample 4000...\n",
      "Currently processing sample 5000...\n",
      "Currently processing sample 6000...\n",
      "Currently processing sample 7000...\n",
      "Currently processing sample 8000...\n",
      "Currently processing sample 9000...\n",
      "Currently processing sample 10000...\n",
      "Currently processing sample 11000...\n",
      "Currently processing sample 12000...\n",
      "Currently processing sample 13000...\n",
      "Currently processing sample 14000...\n",
      "Currently processing sample 15000...\n",
      "Currently processing sample 16000...\n",
      "Currently processing sample 17000...\n",
      "Processing has come to an end\n"
     ]
    }
   ],
   "source": [
    "# New code\n",
    "\n",
    "\"\"\"\n",
    "    Loop through `location` column, while splitting each location to city, zone, address and add them\n",
    "        to the relevant column\n",
    "\"\"\"\n",
    "\n",
    "for index, row in bproperty_df.iterrows(): # loop through each sample\n",
    "    \n",
    "    # The code may take time, log in the console to keep track of things\n",
    "    if index==0 or index%1000==0:\n",
    "        print(f\"Currently processing sample {index}...\")\n",
    "        \n",
    "    # retrieve the location\n",
    "    location = bproperty_df.loc[index, \"location\"]\n",
    "    \n",
    "    # split the location to dictionary with Area, City, Address as keys\n",
    "    location_dict = get_detailed_address(location)\n",
    "    \n",
    "    city = location_dict.get(\"City\", np.NaN)\n",
    "    locality = location_dict.get(\"Area\", np.NaN)\n",
    "    address = location_dict.get(\"Address\", np.NaN)\n",
    "    \n",
    "\n",
    "    # updating the relevant columns of the sample in the dataframe\n",
    "    bproperty_df.loc[index, \"city\"] = city\n",
    "    bproperty_df.loc[index, \"locality\"] = locality\n",
    "    bproperty_df.loc[index, \"address\"] = address\n",
    "\n",
    "print(\"Processing has come to an end\")"
   ]
  },
  {
   "cell_type": "code",
   "execution_count": 48,
   "id": "787bafec",
   "metadata": {},
   "outputs": [
    {
     "data": {
      "text/html": [
       "<div>\n",
       "<style scoped>\n",
       "    .dataframe tbody tr th:only-of-type {\n",
       "        vertical-align: middle;\n",
       "    }\n",
       "\n",
       "    .dataframe tbody tr th {\n",
       "        vertical-align: top;\n",
       "    }\n",
       "\n",
       "    .dataframe thead th {\n",
       "        text-align: right;\n",
       "    }\n",
       "</style>\n",
       "<table border=\"1\" class=\"dataframe\">\n",
       "  <thead>\n",
       "    <tr style=\"text-align: right;\">\n",
       "      <th></th>\n",
       "      <th>location</th>\n",
       "      <th>city</th>\n",
       "      <th>locality</th>\n",
       "      <th>address</th>\n",
       "    </tr>\n",
       "  </thead>\n",
       "  <tbody>\n",
       "    <tr>\n",
       "      <th>0</th>\n",
       "      <td>Khilgaon, Dhaka</td>\n",
       "      <td>Dhaka</td>\n",
       "      <td>Khilgaon</td>\n",
       "      <td></td>\n",
       "    </tr>\n",
       "    <tr>\n",
       "      <th>1</th>\n",
       "      <td>Dhanmondi, Dhaka</td>\n",
       "      <td>Dhaka</td>\n",
       "      <td>Dhanmondi</td>\n",
       "      <td></td>\n",
       "    </tr>\n",
       "    <tr>\n",
       "      <th>2</th>\n",
       "      <td>Block TA, Section 6, Mirpur, Dhaka</td>\n",
       "      <td>Dhaka</td>\n",
       "      <td>Mirpur</td>\n",
       "      <td>Block Ta, Section 6</td>\n",
       "    </tr>\n",
       "    <tr>\n",
       "      <th>3</th>\n",
       "      <td>Block J, Bashundhara R-A, Dhaka</td>\n",
       "      <td>Dhaka</td>\n",
       "      <td>Bashundhara R-A</td>\n",
       "      <td>Block J</td>\n",
       "    </tr>\n",
       "    <tr>\n",
       "      <th>4</th>\n",
       "      <td>Block M, South Banasree Project, Banasree, Dhaka</td>\n",
       "      <td>Dhaka</td>\n",
       "      <td>Banasree</td>\n",
       "      <td>Block M, South Banasree Project</td>\n",
       "    </tr>\n",
       "    <tr>\n",
       "      <th>...</th>\n",
       "      <td>...</td>\n",
       "      <td>...</td>\n",
       "      <td>...</td>\n",
       "      <td>...</td>\n",
       "    </tr>\n",
       "    <tr>\n",
       "      <th>17324</th>\n",
       "      <td>Block H, Banasree, Dhaka</td>\n",
       "      <td>Dhaka</td>\n",
       "      <td>Banasree</td>\n",
       "      <td>Block H</td>\n",
       "    </tr>\n",
       "    <tr>\n",
       "      <th>17325</th>\n",
       "      <td>Block J, Bashundhara R-A, Dhaka</td>\n",
       "      <td>Dhaka</td>\n",
       "      <td>Bashundhara R-A</td>\n",
       "      <td>Block J</td>\n",
       "    </tr>\n",
       "    <tr>\n",
       "      <th>17326</th>\n",
       "      <td>Block G, Bashundhara R-A, Dhaka</td>\n",
       "      <td>Dhaka</td>\n",
       "      <td>Bashundhara R-A</td>\n",
       "      <td>Block G</td>\n",
       "    </tr>\n",
       "    <tr>\n",
       "      <th>17327</th>\n",
       "      <td>Baridhara DOHS, Dhaka</td>\n",
       "      <td>Dhaka</td>\n",
       "      <td>Baridhara Dohs</td>\n",
       "      <td></td>\n",
       "    </tr>\n",
       "    <tr>\n",
       "      <th>17328</th>\n",
       "      <td>Block F, Banasree, Dhaka</td>\n",
       "      <td>Dhaka</td>\n",
       "      <td>Banasree</td>\n",
       "      <td>Block F</td>\n",
       "    </tr>\n",
       "  </tbody>\n",
       "</table>\n",
       "<p>17329 rows × 4 columns</p>\n",
       "</div>"
      ],
      "text/plain": [
       "                                               location   city  \\\n",
       "0                                       Khilgaon, Dhaka  Dhaka   \n",
       "1                                      Dhanmondi, Dhaka  Dhaka   \n",
       "2                    Block TA, Section 6, Mirpur, Dhaka  Dhaka   \n",
       "3                       Block J, Bashundhara R-A, Dhaka  Dhaka   \n",
       "4      Block M, South Banasree Project, Banasree, Dhaka  Dhaka   \n",
       "...                                                 ...    ...   \n",
       "17324                          Block H, Banasree, Dhaka  Dhaka   \n",
       "17325                   Block J, Bashundhara R-A, Dhaka  Dhaka   \n",
       "17326                   Block G, Bashundhara R-A, Dhaka  Dhaka   \n",
       "17327                             Baridhara DOHS, Dhaka  Dhaka   \n",
       "17328                          Block F, Banasree, Dhaka  Dhaka   \n",
       "\n",
       "              locality                          address  \n",
       "0             Khilgaon                                   \n",
       "1            Dhanmondi                                   \n",
       "2               Mirpur              Block Ta, Section 6  \n",
       "3      Bashundhara R-A                          Block J  \n",
       "4             Banasree  Block M, South Banasree Project  \n",
       "...                ...                              ...  \n",
       "17324         Banasree                          Block H  \n",
       "17325  Bashundhara R-A                          Block J  \n",
       "17326  Bashundhara R-A                          Block G  \n",
       "17327   Baridhara Dohs                                   \n",
       "17328         Banasree                          Block F  \n",
       "\n",
       "[17329 rows x 4 columns]"
      ]
     },
     "execution_count": 48,
     "metadata": {},
     "output_type": "execute_result"
    }
   ],
   "source": [
    "# Making sure the columns were splitted efficiently\n",
    "bproperty_df[ [\"location\",\"city\",\"locality\",\"address\"] ]"
   ]
  },
  {
   "cell_type": "code",
   "execution_count": 49,
   "id": "adc2a8ac",
   "metadata": {},
   "outputs": [
    {
     "data": {
      "text/plain": [
       "(17329, 16)"
      ]
     },
     "execution_count": 49,
     "metadata": {},
     "output_type": "execute_result"
    }
   ],
   "source": [
    "bproperty_df.shape"
   ]
  },
  {
   "cell_type": "code",
   "execution_count": 50,
   "id": "80e2ba50",
   "metadata": {},
   "outputs": [],
   "source": [
    "# Drop location column\n",
    "bproperty_df.drop([\"location\"], axis=1, inplace=True)"
   ]
  },
  {
   "cell_type": "code",
   "execution_count": 51,
   "id": "55ecedfe",
   "metadata": {},
   "outputs": [
    {
     "data": {
      "text/plain": [
       "(17329, 15)"
      ]
     },
     "execution_count": 51,
     "metadata": {},
     "output_type": "execute_result"
    }
   ],
   "source": [
    "# Making sure removal was successful\n",
    "bproperty_df.shape"
   ]
  },
  {
   "cell_type": "code",
   "execution_count": null,
   "id": "22053c89",
   "metadata": {},
   "outputs": [],
   "source": []
  },
  {
   "cell_type": "markdown",
   "id": "f941b3d1",
   "metadata": {},
   "source": [
    "### Cleaning `amenities` feature ( [tidiness issue #2](#bproperty-assessment-report) )\n",
    "\n",
    "In `amenities` feature, each key in the dictionaries (in its content) should become a column. The value of the key should become the sample value corresponding to that column."
   ]
  },
  {
   "cell_type": "code",
   "execution_count": 52,
   "id": "e292f609",
   "metadata": {},
   "outputs": [
    {
     "data": {
      "text/plain": [
       "\"{'Balcony or Terrace': 'yes', 'Flooring': 'yes', 'Parking Spaces': ' 1', 'View': 'yes', 'Lobby in Building': 'yes', 'Electricity Backup': 'yes', 'Elevators in Building': ' 1', 'Floor Level': 'yes', 'CCTV Security': 'yes', 'Maintenance Staff': 'yes', 'Cleaning Services': 'yes'}\""
      ]
     },
     "execution_count": 52,
     "metadata": {},
     "output_type": "execute_result"
    }
   ],
   "source": [
    "bproperty_df[\"amenities\"][0]"
   ]
  },
  {
   "cell_type": "code",
   "execution_count": 53,
   "id": "e13f70b8",
   "metadata": {},
   "outputs": [
    {
     "data": {
      "text/plain": [
       "\"{'View': 'yes', 'Parking Spaces': ' 1', 'Floor Level': 'yes', 'Balcony or Terrace': 'yes', 'Lobby in Building': 'yes', 'Electricity Backup': 'yes', 'Flooring': 'yes', 'Elevators in Building': ' 1', 'Maintenance Staff': 'yes', 'Cleaning Services': 'yes'}\""
      ]
     },
     "execution_count": 53,
     "metadata": {},
     "output_type": "execute_result"
    }
   ],
   "source": [
    "bproperty_df[\"amenities\"][12]"
   ]
  },
  {
   "cell_type": "code",
   "execution_count": null,
   "id": "7842b67a",
   "metadata": {},
   "outputs": [],
   "source": []
  },
  {
   "cell_type": "markdown",
   "id": "292dc2db",
   "metadata": {},
   "source": [
    "#### Define\n",
    "* Keys in the dictionaries of `amenities` will become new columns in the dataset; the values of the keys will become the new columns values for the corresponding sample."
   ]
  },
  {
   "cell_type": "code",
   "execution_count": null,
   "id": "efe404a1",
   "metadata": {},
   "outputs": [],
   "source": []
  },
  {
   "cell_type": "markdown",
   "id": "9a990682",
   "metadata": {},
   "source": [
    "#### Code"
   ]
  },
  {
   "cell_type": "code",
   "execution_count": 54,
   "id": "d93012b3",
   "metadata": {},
   "outputs": [
    {
     "name": "stdout",
     "output_type": "stream",
     "text": [
      "Currently processing sample 0...\n",
      "Currently processing sample 1000...\n",
      "Currently processing sample 2000...\n",
      "Currently processing sample 3000...\n",
      "Currently processing sample 4000...\n",
      "Currently processing sample 5000...\n",
      "Currently processing sample 6000...\n",
      "Currently processing sample 7000...\n",
      "Currently processing sample 8000...\n",
      "Currently processing sample 9000...\n",
      "Currently processing sample 10000...\n",
      "Currently processing sample 11000...\n",
      "Currently processing sample 12000...\n",
      "Currently processing sample 13000...\n",
      "Currently processing sample 14000...\n",
      "Currently processing sample 15000...\n",
      "Currently processing sample 16000...\n",
      "Currently processing sample 17000...\n"
     ]
    }
   ],
   "source": [
    "\"\"\"\n",
    "    Loop through `amenities` column, while:\n",
    "         * Converting the dictionnaries keys to new columns; the values of the keys are becoming\n",
    "             the new columns values for the corresponding sample\n",
    "\"\"\"\n",
    "\n",
    "for index, row in bproperty_df.iterrows(): # loop through each sample\n",
    "    \n",
    "    # The code may take time, log in the console to keep track of things\n",
    "    if index==0 or index%1000==0:\n",
    "        print(f\"Currently processing sample {index}...\")\n",
    "        \n",
    "    # If current sample doen't have amenities, go to the next one\n",
    "    if pd.isna(bproperty_df.loc[index, \"amenities\"]):\n",
    "        continue\n",
    "    \n",
    "    # retrieve the amenities\n",
    "    sample_amenities = str(bproperty_df.loc[index, \"amenities\"]).replace(\"'\",\"\\\"\")\n",
    "    \n",
    "    amenities_dict = eval(sample_amenities)\n",
    "    \n",
    "    # Go through each key in the amenities dictionnary\n",
    "    for key, value in amenities_dict.items():\n",
    "        \n",
    "        # put a suffix to the new column name, so that collaborators know it was generated from amenities feature\n",
    "        column_name = slugify(key)+\"-amenity\"\n",
    "        #print(column_name)\n",
    "        \n",
    "        # Create new column based on the key if not already existing\n",
    "        if column_name not in bproperty_df.columns.to_list():\n",
    "            bproperty_df[column_name]= np.NaN # Giving NaN as the default value for the column\n",
    "        \n",
    "        # Affecting to the new column created, for the current sample, the value of the dictionary's key\n",
    "        bproperty_df.loc[index, column_name] = value\n",
    "        "
   ]
  },
  {
   "cell_type": "code",
   "execution_count": 55,
   "id": "a30f5507",
   "metadata": {},
   "outputs": [
    {
     "data": {
      "text/html": [
       "<div>\n",
       "<style scoped>\n",
       "    .dataframe tbody tr th:only-of-type {\n",
       "        vertical-align: middle;\n",
       "    }\n",
       "\n",
       "    .dataframe tbody tr th {\n",
       "        vertical-align: top;\n",
       "    }\n",
       "\n",
       "    .dataframe thead th {\n",
       "        text-align: right;\n",
       "    }\n",
       "</style>\n",
       "<table border=\"1\" class=\"dataframe\">\n",
       "  <thead>\n",
       "    <tr style=\"text-align: right;\">\n",
       "      <th></th>\n",
       "      <th>0</th>\n",
       "      <th>1</th>\n",
       "      <th>2</th>\n",
       "    </tr>\n",
       "  </thead>\n",
       "  <tbody>\n",
       "    <tr>\n",
       "      <th>amenities</th>\n",
       "      <td>{'Balcony or Terrace': 'yes', 'Flooring': 'yes...</td>\n",
       "      <td>{'View': 'yes', 'Parking Spaces': ' 1', 'Balco...</td>\n",
       "      <td>{'View': 'yes', 'Balcony or Terrace': 'yes', '...</td>\n",
       "    </tr>\n",
       "    <tr>\n",
       "      <th>area</th>\n",
       "      <td>1185.0</td>\n",
       "      <td>2464.0</td>\n",
       "      <td>1140.0</td>\n",
       "    </tr>\n",
       "    <tr>\n",
       "      <th>building_type</th>\n",
       "      <td>Apartment</td>\n",
       "      <td>Apartment</td>\n",
       "      <td>Apartment</td>\n",
       "    </tr>\n",
       "    <tr>\n",
       "      <th>building_nature</th>\n",
       "      <td>Residential</td>\n",
       "      <td>Residential</td>\n",
       "      <td>Residential</td>\n",
       "    </tr>\n",
       "    <tr>\n",
       "      <th>image_url</th>\n",
       "      <td>https://images-cdn.bproperty.com/thumbnails/15...</td>\n",
       "      <td>https://images-cdn.bproperty.com/thumbnails/15...</td>\n",
       "      <td>https://images-cdn.bproperty.com/thumbnails/15...</td>\n",
       "    </tr>\n",
       "    <tr>\n",
       "      <th>num_bath_rooms</th>\n",
       "      <td>0</td>\n",
       "      <td>4</td>\n",
       "      <td>0</td>\n",
       "    </tr>\n",
       "    <tr>\n",
       "      <th>num_bed_rooms</th>\n",
       "      <td>3</td>\n",
       "      <td>3</td>\n",
       "      <td>3</td>\n",
       "    </tr>\n",
       "    <tr>\n",
       "      <th>price</th>\n",
       "      <td>6100000.0</td>\n",
       "      <td>28900000.0</td>\n",
       "      <td>7500000.0</td>\n",
       "    </tr>\n",
       "    <tr>\n",
       "      <th>property_description</th>\n",
       "      <td>Grab This 1185 Sq Ft Beautiful Flat Is Vacant ...</td>\n",
       "      <td>A Vibrant 2464 Sq Ft Residential Flat For Sale...</td>\n",
       "      <td>1140 Sq Ft Nicely Planned Apartment Is Availab...</td>\n",
       "    </tr>\n",
       "    <tr>\n",
       "      <th>property_overview</th>\n",
       "      <td>This flat consists of facilities you can think...</td>\n",
       "      <td>Ready to move in somewhere with everything nea...</td>\n",
       "      <td>A spacious 1140  Square Feet apartment in Mirp...</td>\n",
       "    </tr>\n",
       "    <tr>\n",
       "      <th>property_url</th>\n",
       "      <td>https://www.bproperty.com/en/property/details-...</td>\n",
       "      <td>https://www.bproperty.com/en/property/details-...</td>\n",
       "      <td>https://www.bproperty.com/en/property/details-...</td>\n",
       "    </tr>\n",
       "    <tr>\n",
       "      <th>purpose</th>\n",
       "      <td>Sale</td>\n",
       "      <td>Sale</td>\n",
       "      <td>Sale</td>\n",
       "    </tr>\n",
       "    <tr>\n",
       "      <th>city</th>\n",
       "      <td>Dhaka</td>\n",
       "      <td>Dhaka</td>\n",
       "      <td>Dhaka</td>\n",
       "    </tr>\n",
       "    <tr>\n",
       "      <th>locality</th>\n",
       "      <td>Khilgaon</td>\n",
       "      <td>Dhanmondi</td>\n",
       "      <td>Mirpur</td>\n",
       "    </tr>\n",
       "    <tr>\n",
       "      <th>address</th>\n",
       "      <td></td>\n",
       "      <td></td>\n",
       "      <td>Block Ta, Section 6</td>\n",
       "    </tr>\n",
       "    <tr>\n",
       "      <th>balcony-or-terrace-amenity</th>\n",
       "      <td>yes</td>\n",
       "      <td>yes</td>\n",
       "      <td>yes</td>\n",
       "    </tr>\n",
       "    <tr>\n",
       "      <th>flooring-amenity</th>\n",
       "      <td>yes</td>\n",
       "      <td>yes</td>\n",
       "      <td>yes</td>\n",
       "    </tr>\n",
       "    <tr>\n",
       "      <th>parking-spaces-amenity</th>\n",
       "      <td>1</td>\n",
       "      <td>1</td>\n",
       "      <td>NaN</td>\n",
       "    </tr>\n",
       "    <tr>\n",
       "      <th>view-amenity</th>\n",
       "      <td>yes</td>\n",
       "      <td>yes</td>\n",
       "      <td>yes</td>\n",
       "    </tr>\n",
       "    <tr>\n",
       "      <th>lobby-in-building-amenity</th>\n",
       "      <td>yes</td>\n",
       "      <td>yes</td>\n",
       "      <td>yes</td>\n",
       "    </tr>\n",
       "    <tr>\n",
       "      <th>electricity-backup-amenity</th>\n",
       "      <td>yes</td>\n",
       "      <td>yes</td>\n",
       "      <td>yes</td>\n",
       "    </tr>\n",
       "    <tr>\n",
       "      <th>elevators-in-building-amenity</th>\n",
       "      <td>1</td>\n",
       "      <td>2</td>\n",
       "      <td>1</td>\n",
       "    </tr>\n",
       "    <tr>\n",
       "      <th>floor-level-amenity</th>\n",
       "      <td>yes</td>\n",
       "      <td>yes</td>\n",
       "      <td>yes</td>\n",
       "    </tr>\n",
       "    <tr>\n",
       "      <th>cctv-security-amenity</th>\n",
       "      <td>yes</td>\n",
       "      <td>yes</td>\n",
       "      <td>yes</td>\n",
       "    </tr>\n",
       "    <tr>\n",
       "      <th>maintenance-staff-amenity</th>\n",
       "      <td>yes</td>\n",
       "      <td>NaN</td>\n",
       "      <td>yes</td>\n",
       "    </tr>\n",
       "    <tr>\n",
       "      <th>cleaning-services-amenity</th>\n",
       "      <td>yes</td>\n",
       "      <td>NaN</td>\n",
       "      <td>yes</td>\n",
       "    </tr>\n",
       "    <tr>\n",
       "      <th>service-elevators-amenity</th>\n",
       "      <td>NaN</td>\n",
       "      <td>yes</td>\n",
       "      <td>NaN</td>\n",
       "    </tr>\n",
       "    <tr>\n",
       "      <th>intercom-amenity</th>\n",
       "      <td>NaN</td>\n",
       "      <td>yes</td>\n",
       "      <td>yes</td>\n",
       "    </tr>\n",
       "    <tr>\n",
       "      <th>atm-facility-amenity</th>\n",
       "      <td>NaN</td>\n",
       "      <td>yes</td>\n",
       "      <td>NaN</td>\n",
       "    </tr>\n",
       "    <tr>\n",
       "      <th>freehold-amenity</th>\n",
       "      <td>NaN</td>\n",
       "      <td>NaN</td>\n",
       "      <td>yes</td>\n",
       "    </tr>\n",
       "    <tr>\n",
       "      <th>broadband-internet-amenity</th>\n",
       "      <td>NaN</td>\n",
       "      <td>NaN</td>\n",
       "      <td>yes</td>\n",
       "    </tr>\n",
       "    <tr>\n",
       "      <th>double-glazed-windows-amenity</th>\n",
       "      <td>NaN</td>\n",
       "      <td>NaN</td>\n",
       "      <td>NaN</td>\n",
       "    </tr>\n",
       "    <tr>\n",
       "      <th>storage-areas-amenity</th>\n",
       "      <td>NaN</td>\n",
       "      <td>NaN</td>\n",
       "      <td>NaN</td>\n",
       "    </tr>\n",
       "    <tr>\n",
       "      <th>24-hours-concierge-amenity</th>\n",
       "      <td>NaN</td>\n",
       "      <td>NaN</td>\n",
       "      <td>NaN</td>\n",
       "    </tr>\n",
       "    <tr>\n",
       "      <th>waste-disposal-amenity</th>\n",
       "      <td>NaN</td>\n",
       "      <td>NaN</td>\n",
       "      <td>NaN</td>\n",
       "    </tr>\n",
       "    <tr>\n",
       "      <th>lawn-or-garden-amenity</th>\n",
       "      <td>NaN</td>\n",
       "      <td>NaN</td>\n",
       "      <td>NaN</td>\n",
       "    </tr>\n",
       "    <tr>\n",
       "      <th>prayer-room-amenity</th>\n",
       "      <td>NaN</td>\n",
       "      <td>NaN</td>\n",
       "      <td>NaN</td>\n",
       "    </tr>\n",
       "    <tr>\n",
       "      <th>facilities-for-disabled-amenity</th>\n",
       "      <td>NaN</td>\n",
       "      <td>NaN</td>\n",
       "      <td>NaN</td>\n",
       "    </tr>\n",
       "    <tr>\n",
       "      <th>conference-room-amenity</th>\n",
       "      <td>NaN</td>\n",
       "      <td>NaN</td>\n",
       "      <td>NaN</td>\n",
       "    </tr>\n",
       "    <tr>\n",
       "      <th>furnished-amenity</th>\n",
       "      <td>NaN</td>\n",
       "      <td>NaN</td>\n",
       "      <td>NaN</td>\n",
       "    </tr>\n",
       "    <tr>\n",
       "      <th>swimming-pool-amenity</th>\n",
       "      <td>NaN</td>\n",
       "      <td>NaN</td>\n",
       "      <td>NaN</td>\n",
       "    </tr>\n",
       "    <tr>\n",
       "      <th>steam-room-amenity</th>\n",
       "      <td>NaN</td>\n",
       "      <td>NaN</td>\n",
       "      <td>NaN</td>\n",
       "    </tr>\n",
       "    <tr>\n",
       "      <th>sauna-amenity</th>\n",
       "      <td>NaN</td>\n",
       "      <td>NaN</td>\n",
       "      <td>NaN</td>\n",
       "    </tr>\n",
       "    <tr>\n",
       "      <th>jacuzzi-amenity</th>\n",
       "      <td>NaN</td>\n",
       "      <td>NaN</td>\n",
       "      <td>NaN</td>\n",
       "    </tr>\n",
       "    <tr>\n",
       "      <th>barbeque-area-amenity</th>\n",
       "      <td>NaN</td>\n",
       "      <td>NaN</td>\n",
       "      <td>NaN</td>\n",
       "    </tr>\n",
       "    <tr>\n",
       "      <th>central-heating-amenity</th>\n",
       "      <td>NaN</td>\n",
       "      <td>NaN</td>\n",
       "      <td>NaN</td>\n",
       "    </tr>\n",
       "    <tr>\n",
       "      <th>business-center-amenity</th>\n",
       "      <td>NaN</td>\n",
       "      <td>NaN</td>\n",
       "      <td>NaN</td>\n",
       "    </tr>\n",
       "    <tr>\n",
       "      <th>first-aid-medical-center-amenity</th>\n",
       "      <td>NaN</td>\n",
       "      <td>NaN</td>\n",
       "      <td>NaN</td>\n",
       "    </tr>\n",
       "    <tr>\n",
       "      <th>day-care-center-amenity</th>\n",
       "      <td>NaN</td>\n",
       "      <td>NaN</td>\n",
       "      <td>NaN</td>\n",
       "    </tr>\n",
       "    <tr>\n",
       "      <th>shared-kitchen-amenity</th>\n",
       "      <td>NaN</td>\n",
       "      <td>NaN</td>\n",
       "      <td>NaN</td>\n",
       "    </tr>\n",
       "    <tr>\n",
       "      <th>cafeteria-or-canteen-amenity</th>\n",
       "      <td>NaN</td>\n",
       "      <td>NaN</td>\n",
       "      <td>NaN</td>\n",
       "    </tr>\n",
       "    <tr>\n",
       "      <th>laundry-facility-amenity</th>\n",
       "      <td>NaN</td>\n",
       "      <td>NaN</td>\n",
       "      <td>NaN</td>\n",
       "    </tr>\n",
       "  </tbody>\n",
       "</table>\n",
       "</div>"
      ],
      "text/plain": [
       "                                                                                  0  \\\n",
       "amenities                         {'Balcony or Terrace': 'yes', 'Flooring': 'yes...   \n",
       "area                                                                         1185.0   \n",
       "building_type                                                             Apartment   \n",
       "building_nature                                                         Residential   \n",
       "image_url                         https://images-cdn.bproperty.com/thumbnails/15...   \n",
       "num_bath_rooms                                                                    0   \n",
       "num_bed_rooms                                                                     3   \n",
       "price                                                                     6100000.0   \n",
       "property_description              Grab This 1185 Sq Ft Beautiful Flat Is Vacant ...   \n",
       "property_overview                 This flat consists of facilities you can think...   \n",
       "property_url                      https://www.bproperty.com/en/property/details-...   \n",
       "purpose                                                                        Sale   \n",
       "city                                                                          Dhaka   \n",
       "locality                                                                   Khilgaon   \n",
       "address                                                                               \n",
       "balcony-or-terrace-amenity                                                      yes   \n",
       "flooring-amenity                                                                yes   \n",
       "parking-spaces-amenity                                                            1   \n",
       "view-amenity                                                                    yes   \n",
       "lobby-in-building-amenity                                                       yes   \n",
       "electricity-backup-amenity                                                      yes   \n",
       "elevators-in-building-amenity                                                     1   \n",
       "floor-level-amenity                                                             yes   \n",
       "cctv-security-amenity                                                           yes   \n",
       "maintenance-staff-amenity                                                       yes   \n",
       "cleaning-services-amenity                                                       yes   \n",
       "service-elevators-amenity                                                       NaN   \n",
       "intercom-amenity                                                                NaN   \n",
       "atm-facility-amenity                                                            NaN   \n",
       "freehold-amenity                                                                NaN   \n",
       "broadband-internet-amenity                                                      NaN   \n",
       "double-glazed-windows-amenity                                                   NaN   \n",
       "storage-areas-amenity                                                           NaN   \n",
       "24-hours-concierge-amenity                                                      NaN   \n",
       "waste-disposal-amenity                                                          NaN   \n",
       "lawn-or-garden-amenity                                                          NaN   \n",
       "prayer-room-amenity                                                             NaN   \n",
       "facilities-for-disabled-amenity                                                 NaN   \n",
       "conference-room-amenity                                                         NaN   \n",
       "furnished-amenity                                                               NaN   \n",
       "swimming-pool-amenity                                                           NaN   \n",
       "steam-room-amenity                                                              NaN   \n",
       "sauna-amenity                                                                   NaN   \n",
       "jacuzzi-amenity                                                                 NaN   \n",
       "barbeque-area-amenity                                                           NaN   \n",
       "central-heating-amenity                                                         NaN   \n",
       "business-center-amenity                                                         NaN   \n",
       "first-aid-medical-center-amenity                                                NaN   \n",
       "day-care-center-amenity                                                         NaN   \n",
       "shared-kitchen-amenity                                                          NaN   \n",
       "cafeteria-or-canteen-amenity                                                    NaN   \n",
       "laundry-facility-amenity                                                        NaN   \n",
       "\n",
       "                                                                                  1  \\\n",
       "amenities                         {'View': 'yes', 'Parking Spaces': ' 1', 'Balco...   \n",
       "area                                                                         2464.0   \n",
       "building_type                                                             Apartment   \n",
       "building_nature                                                         Residential   \n",
       "image_url                         https://images-cdn.bproperty.com/thumbnails/15...   \n",
       "num_bath_rooms                                                                    4   \n",
       "num_bed_rooms                                                                     3   \n",
       "price                                                                    28900000.0   \n",
       "property_description              A Vibrant 2464 Sq Ft Residential Flat For Sale...   \n",
       "property_overview                 Ready to move in somewhere with everything nea...   \n",
       "property_url                      https://www.bproperty.com/en/property/details-...   \n",
       "purpose                                                                        Sale   \n",
       "city                                                                          Dhaka   \n",
       "locality                                                                  Dhanmondi   \n",
       "address                                                                               \n",
       "balcony-or-terrace-amenity                                                      yes   \n",
       "flooring-amenity                                                                yes   \n",
       "parking-spaces-amenity                                                            1   \n",
       "view-amenity                                                                    yes   \n",
       "lobby-in-building-amenity                                                       yes   \n",
       "electricity-backup-amenity                                                      yes   \n",
       "elevators-in-building-amenity                                                     2   \n",
       "floor-level-amenity                                                             yes   \n",
       "cctv-security-amenity                                                           yes   \n",
       "maintenance-staff-amenity                                                       NaN   \n",
       "cleaning-services-amenity                                                       NaN   \n",
       "service-elevators-amenity                                                       yes   \n",
       "intercom-amenity                                                                yes   \n",
       "atm-facility-amenity                                                            yes   \n",
       "freehold-amenity                                                                NaN   \n",
       "broadband-internet-amenity                                                      NaN   \n",
       "double-glazed-windows-amenity                                                   NaN   \n",
       "storage-areas-amenity                                                           NaN   \n",
       "24-hours-concierge-amenity                                                      NaN   \n",
       "waste-disposal-amenity                                                          NaN   \n",
       "lawn-or-garden-amenity                                                          NaN   \n",
       "prayer-room-amenity                                                             NaN   \n",
       "facilities-for-disabled-amenity                                                 NaN   \n",
       "conference-room-amenity                                                         NaN   \n",
       "furnished-amenity                                                               NaN   \n",
       "swimming-pool-amenity                                                           NaN   \n",
       "steam-room-amenity                                                              NaN   \n",
       "sauna-amenity                                                                   NaN   \n",
       "jacuzzi-amenity                                                                 NaN   \n",
       "barbeque-area-amenity                                                           NaN   \n",
       "central-heating-amenity                                                         NaN   \n",
       "business-center-amenity                                                         NaN   \n",
       "first-aid-medical-center-amenity                                                NaN   \n",
       "day-care-center-amenity                                                         NaN   \n",
       "shared-kitchen-amenity                                                          NaN   \n",
       "cafeteria-or-canteen-amenity                                                    NaN   \n",
       "laundry-facility-amenity                                                        NaN   \n",
       "\n",
       "                                                                                  2  \n",
       "amenities                         {'View': 'yes', 'Balcony or Terrace': 'yes', '...  \n",
       "area                                                                         1140.0  \n",
       "building_type                                                             Apartment  \n",
       "building_nature                                                         Residential  \n",
       "image_url                         https://images-cdn.bproperty.com/thumbnails/15...  \n",
       "num_bath_rooms                                                                    0  \n",
       "num_bed_rooms                                                                     3  \n",
       "price                                                                     7500000.0  \n",
       "property_description              1140 Sq Ft Nicely Planned Apartment Is Availab...  \n",
       "property_overview                 A spacious 1140  Square Feet apartment in Mirp...  \n",
       "property_url                      https://www.bproperty.com/en/property/details-...  \n",
       "purpose                                                                        Sale  \n",
       "city                                                                          Dhaka  \n",
       "locality                                                                     Mirpur  \n",
       "address                                                         Block Ta, Section 6  \n",
       "balcony-or-terrace-amenity                                                      yes  \n",
       "flooring-amenity                                                                yes  \n",
       "parking-spaces-amenity                                                          NaN  \n",
       "view-amenity                                                                    yes  \n",
       "lobby-in-building-amenity                                                       yes  \n",
       "electricity-backup-amenity                                                      yes  \n",
       "elevators-in-building-amenity                                                     1  \n",
       "floor-level-amenity                                                             yes  \n",
       "cctv-security-amenity                                                           yes  \n",
       "maintenance-staff-amenity                                                       yes  \n",
       "cleaning-services-amenity                                                       yes  \n",
       "service-elevators-amenity                                                       NaN  \n",
       "intercom-amenity                                                                yes  \n",
       "atm-facility-amenity                                                            NaN  \n",
       "freehold-amenity                                                                yes  \n",
       "broadband-internet-amenity                                                      yes  \n",
       "double-glazed-windows-amenity                                                   NaN  \n",
       "storage-areas-amenity                                                           NaN  \n",
       "24-hours-concierge-amenity                                                      NaN  \n",
       "waste-disposal-amenity                                                          NaN  \n",
       "lawn-or-garden-amenity                                                          NaN  \n",
       "prayer-room-amenity                                                             NaN  \n",
       "facilities-for-disabled-amenity                                                 NaN  \n",
       "conference-room-amenity                                                         NaN  \n",
       "furnished-amenity                                                               NaN  \n",
       "swimming-pool-amenity                                                           NaN  \n",
       "steam-room-amenity                                                              NaN  \n",
       "sauna-amenity                                                                   NaN  \n",
       "jacuzzi-amenity                                                                 NaN  \n",
       "barbeque-area-amenity                                                           NaN  \n",
       "central-heating-amenity                                                         NaN  \n",
       "business-center-amenity                                                         NaN  \n",
       "first-aid-medical-center-amenity                                                NaN  \n",
       "day-care-center-amenity                                                         NaN  \n",
       "shared-kitchen-amenity                                                          NaN  \n",
       "cafeteria-or-canteen-amenity                                                    NaN  \n",
       "laundry-facility-amenity                                                        NaN  "
      ]
     },
     "execution_count": 55,
     "metadata": {},
     "output_type": "execute_result"
    }
   ],
   "source": [
    "# Checking columns\n",
    "bproperty_df.head(3).T"
   ]
  },
  {
   "cell_type": "code",
   "execution_count": 56,
   "id": "f78596f5",
   "metadata": {},
   "outputs": [
    {
     "data": {
      "text/plain": [
       "False"
      ]
     },
     "execution_count": 56,
     "metadata": {},
     "output_type": "execute_result"
    }
   ],
   "source": [
    "# Drop amenities column\n",
    "bproperty_df.drop([\"amenities\"],axis=1, inplace=True)\n",
    "\n",
    "# Check that removal was effective\n",
    "\"amenities\" in bproperty_df.columns.to_list()"
   ]
  },
  {
   "cell_type": "code",
   "execution_count": null,
   "id": "1b085cf3",
   "metadata": {},
   "outputs": [],
   "source": []
  },
  {
   "cell_type": "code",
   "execution_count": null,
   "id": "8721ba1e",
   "metadata": {},
   "outputs": [],
   "source": []
  },
  {
   "cell_type": "markdown",
   "id": "b2b2b8e7",
   "metadata": {},
   "source": [
    "### Save cleaned dataset"
   ]
  },
  {
   "cell_type": "code",
   "execution_count": 57,
   "id": "a0e3524d",
   "metadata": {},
   "outputs": [
    {
     "name": "stdout",
     "output_type": "stream",
     "text": [
      "Create folder '../../../data/CLeaned_Data/bproperty'\n"
     ]
    }
   ],
   "source": [
    "# Create folder in which to save cleaned dataset\n",
    "if not os.path.exists(cleaned_bproperty_folder):\n",
    "    os.makedirs(cleaned_bproperty_folder)\n",
    "    print(f\"Create folder '{cleaned_bproperty_folder}'\")\n",
    "else:\n",
    "    print(f\"Folder '{cleaned_bproperty_folder}' already exists\")"
   ]
  },
  {
   "cell_type": "code",
   "execution_count": 58,
   "id": "15e930f5",
   "metadata": {},
   "outputs": [],
   "source": [
    "# Save cleaned dataset to csv\n",
    "bproperty_df.to_csv(f\"{cleaned_bproperty_folder}/cleaned_bproperty.csv\", index=False)"
   ]
  },
  {
   "cell_type": "code",
   "execution_count": 59,
   "id": "b8bcffb0",
   "metadata": {},
   "outputs": [
    {
     "name": "stderr",
     "output_type": "stream",
     "text": [
      "C:\\ProgramData\\Anaconda3\\lib\\site-packages\\IPython\\core\\interactiveshell.py:3165: DtypeWarning: Columns (16) have mixed types.Specify dtype option on import or set low_memory=False.\n",
      "  has_raised = await self.run_ast_nodes(code_ast.body, cell_name,\n"
     ]
    },
    {
     "data": {
      "text/html": [
       "<div>\n",
       "<style scoped>\n",
       "    .dataframe tbody tr th:only-of-type {\n",
       "        vertical-align: middle;\n",
       "    }\n",
       "\n",
       "    .dataframe tbody tr th {\n",
       "        vertical-align: top;\n",
       "    }\n",
       "\n",
       "    .dataframe thead th {\n",
       "        text-align: right;\n",
       "    }\n",
       "</style>\n",
       "<table border=\"1\" class=\"dataframe\">\n",
       "  <thead>\n",
       "    <tr style=\"text-align: right;\">\n",
       "      <th></th>\n",
       "      <th>0</th>\n",
       "      <th>1</th>\n",
       "      <th>2</th>\n",
       "    </tr>\n",
       "  </thead>\n",
       "  <tbody>\n",
       "    <tr>\n",
       "      <th>area</th>\n",
       "      <td>1185.0</td>\n",
       "      <td>2464.0</td>\n",
       "      <td>1140.0</td>\n",
       "    </tr>\n",
       "    <tr>\n",
       "      <th>building_type</th>\n",
       "      <td>Apartment</td>\n",
       "      <td>Apartment</td>\n",
       "      <td>Apartment</td>\n",
       "    </tr>\n",
       "    <tr>\n",
       "      <th>building_nature</th>\n",
       "      <td>Residential</td>\n",
       "      <td>Residential</td>\n",
       "      <td>Residential</td>\n",
       "    </tr>\n",
       "    <tr>\n",
       "      <th>image_url</th>\n",
       "      <td>https://images-cdn.bproperty.com/thumbnails/15...</td>\n",
       "      <td>https://images-cdn.bproperty.com/thumbnails/15...</td>\n",
       "      <td>https://images-cdn.bproperty.com/thumbnails/15...</td>\n",
       "    </tr>\n",
       "    <tr>\n",
       "      <th>num_bath_rooms</th>\n",
       "      <td>0</td>\n",
       "      <td>4</td>\n",
       "      <td>0</td>\n",
       "    </tr>\n",
       "    <tr>\n",
       "      <th>num_bed_rooms</th>\n",
       "      <td>3</td>\n",
       "      <td>3</td>\n",
       "      <td>3</td>\n",
       "    </tr>\n",
       "    <tr>\n",
       "      <th>price</th>\n",
       "      <td>6100000.0</td>\n",
       "      <td>28900000.0</td>\n",
       "      <td>7500000.0</td>\n",
       "    </tr>\n",
       "    <tr>\n",
       "      <th>property_description</th>\n",
       "      <td>Grab This 1185 Sq Ft Beautiful Flat Is Vacant ...</td>\n",
       "      <td>A Vibrant 2464 Sq Ft Residential Flat For Sale...</td>\n",
       "      <td>1140 Sq Ft Nicely Planned Apartment Is Availab...</td>\n",
       "    </tr>\n",
       "    <tr>\n",
       "      <th>property_overview</th>\n",
       "      <td>This flat consists of facilities you can think...</td>\n",
       "      <td>Ready to move in somewhere with everything nea...</td>\n",
       "      <td>A spacious 1140  Square Feet apartment in Mirp...</td>\n",
       "    </tr>\n",
       "    <tr>\n",
       "      <th>property_url</th>\n",
       "      <td>https://www.bproperty.com/en/property/details-...</td>\n",
       "      <td>https://www.bproperty.com/en/property/details-...</td>\n",
       "      <td>https://www.bproperty.com/en/property/details-...</td>\n",
       "    </tr>\n",
       "    <tr>\n",
       "      <th>purpose</th>\n",
       "      <td>Sale</td>\n",
       "      <td>Sale</td>\n",
       "      <td>Sale</td>\n",
       "    </tr>\n",
       "    <tr>\n",
       "      <th>city</th>\n",
       "      <td>Dhaka</td>\n",
       "      <td>Dhaka</td>\n",
       "      <td>Dhaka</td>\n",
       "    </tr>\n",
       "    <tr>\n",
       "      <th>locality</th>\n",
       "      <td>Khilgaon</td>\n",
       "      <td>Dhanmondi</td>\n",
       "      <td>Mirpur</td>\n",
       "    </tr>\n",
       "    <tr>\n",
       "      <th>address</th>\n",
       "      <td>NaN</td>\n",
       "      <td>NaN</td>\n",
       "      <td>Block Ta, Section 6</td>\n",
       "    </tr>\n",
       "    <tr>\n",
       "      <th>balcony-or-terrace-amenity</th>\n",
       "      <td>yes</td>\n",
       "      <td>yes</td>\n",
       "      <td>yes</td>\n",
       "    </tr>\n",
       "    <tr>\n",
       "      <th>flooring-amenity</th>\n",
       "      <td>yes</td>\n",
       "      <td>yes</td>\n",
       "      <td>yes</td>\n",
       "    </tr>\n",
       "    <tr>\n",
       "      <th>parking-spaces-amenity</th>\n",
       "      <td>1</td>\n",
       "      <td>1</td>\n",
       "      <td>NaN</td>\n",
       "    </tr>\n",
       "    <tr>\n",
       "      <th>view-amenity</th>\n",
       "      <td>yes</td>\n",
       "      <td>yes</td>\n",
       "      <td>yes</td>\n",
       "    </tr>\n",
       "    <tr>\n",
       "      <th>lobby-in-building-amenity</th>\n",
       "      <td>yes</td>\n",
       "      <td>yes</td>\n",
       "      <td>yes</td>\n",
       "    </tr>\n",
       "    <tr>\n",
       "      <th>electricity-backup-amenity</th>\n",
       "      <td>yes</td>\n",
       "      <td>yes</td>\n",
       "      <td>yes</td>\n",
       "    </tr>\n",
       "    <tr>\n",
       "      <th>elevators-in-building-amenity</th>\n",
       "      <td>1.0</td>\n",
       "      <td>2.0</td>\n",
       "      <td>1.0</td>\n",
       "    </tr>\n",
       "    <tr>\n",
       "      <th>floor-level-amenity</th>\n",
       "      <td>yes</td>\n",
       "      <td>yes</td>\n",
       "      <td>yes</td>\n",
       "    </tr>\n",
       "    <tr>\n",
       "      <th>cctv-security-amenity</th>\n",
       "      <td>yes</td>\n",
       "      <td>yes</td>\n",
       "      <td>yes</td>\n",
       "    </tr>\n",
       "    <tr>\n",
       "      <th>maintenance-staff-amenity</th>\n",
       "      <td>yes</td>\n",
       "      <td>NaN</td>\n",
       "      <td>yes</td>\n",
       "    </tr>\n",
       "    <tr>\n",
       "      <th>cleaning-services-amenity</th>\n",
       "      <td>yes</td>\n",
       "      <td>NaN</td>\n",
       "      <td>yes</td>\n",
       "    </tr>\n",
       "    <tr>\n",
       "      <th>service-elevators-amenity</th>\n",
       "      <td>NaN</td>\n",
       "      <td>yes</td>\n",
       "      <td>NaN</td>\n",
       "    </tr>\n",
       "    <tr>\n",
       "      <th>intercom-amenity</th>\n",
       "      <td>NaN</td>\n",
       "      <td>yes</td>\n",
       "      <td>yes</td>\n",
       "    </tr>\n",
       "    <tr>\n",
       "      <th>atm-facility-amenity</th>\n",
       "      <td>NaN</td>\n",
       "      <td>yes</td>\n",
       "      <td>NaN</td>\n",
       "    </tr>\n",
       "    <tr>\n",
       "      <th>freehold-amenity</th>\n",
       "      <td>NaN</td>\n",
       "      <td>NaN</td>\n",
       "      <td>yes</td>\n",
       "    </tr>\n",
       "    <tr>\n",
       "      <th>broadband-internet-amenity</th>\n",
       "      <td>NaN</td>\n",
       "      <td>NaN</td>\n",
       "      <td>yes</td>\n",
       "    </tr>\n",
       "    <tr>\n",
       "      <th>double-glazed-windows-amenity</th>\n",
       "      <td>NaN</td>\n",
       "      <td>NaN</td>\n",
       "      <td>NaN</td>\n",
       "    </tr>\n",
       "    <tr>\n",
       "      <th>storage-areas-amenity</th>\n",
       "      <td>NaN</td>\n",
       "      <td>NaN</td>\n",
       "      <td>NaN</td>\n",
       "    </tr>\n",
       "    <tr>\n",
       "      <th>24-hours-concierge-amenity</th>\n",
       "      <td>NaN</td>\n",
       "      <td>NaN</td>\n",
       "      <td>NaN</td>\n",
       "    </tr>\n",
       "    <tr>\n",
       "      <th>waste-disposal-amenity</th>\n",
       "      <td>NaN</td>\n",
       "      <td>NaN</td>\n",
       "      <td>NaN</td>\n",
       "    </tr>\n",
       "    <tr>\n",
       "      <th>lawn-or-garden-amenity</th>\n",
       "      <td>NaN</td>\n",
       "      <td>NaN</td>\n",
       "      <td>NaN</td>\n",
       "    </tr>\n",
       "    <tr>\n",
       "      <th>prayer-room-amenity</th>\n",
       "      <td>NaN</td>\n",
       "      <td>NaN</td>\n",
       "      <td>NaN</td>\n",
       "    </tr>\n",
       "    <tr>\n",
       "      <th>facilities-for-disabled-amenity</th>\n",
       "      <td>NaN</td>\n",
       "      <td>NaN</td>\n",
       "      <td>NaN</td>\n",
       "    </tr>\n",
       "    <tr>\n",
       "      <th>conference-room-amenity</th>\n",
       "      <td>NaN</td>\n",
       "      <td>NaN</td>\n",
       "      <td>NaN</td>\n",
       "    </tr>\n",
       "    <tr>\n",
       "      <th>furnished-amenity</th>\n",
       "      <td>NaN</td>\n",
       "      <td>NaN</td>\n",
       "      <td>NaN</td>\n",
       "    </tr>\n",
       "    <tr>\n",
       "      <th>swimming-pool-amenity</th>\n",
       "      <td>NaN</td>\n",
       "      <td>NaN</td>\n",
       "      <td>NaN</td>\n",
       "    </tr>\n",
       "    <tr>\n",
       "      <th>steam-room-amenity</th>\n",
       "      <td>NaN</td>\n",
       "      <td>NaN</td>\n",
       "      <td>NaN</td>\n",
       "    </tr>\n",
       "    <tr>\n",
       "      <th>sauna-amenity</th>\n",
       "      <td>NaN</td>\n",
       "      <td>NaN</td>\n",
       "      <td>NaN</td>\n",
       "    </tr>\n",
       "    <tr>\n",
       "      <th>jacuzzi-amenity</th>\n",
       "      <td>NaN</td>\n",
       "      <td>NaN</td>\n",
       "      <td>NaN</td>\n",
       "    </tr>\n",
       "    <tr>\n",
       "      <th>barbeque-area-amenity</th>\n",
       "      <td>NaN</td>\n",
       "      <td>NaN</td>\n",
       "      <td>NaN</td>\n",
       "    </tr>\n",
       "    <tr>\n",
       "      <th>central-heating-amenity</th>\n",
       "      <td>NaN</td>\n",
       "      <td>NaN</td>\n",
       "      <td>NaN</td>\n",
       "    </tr>\n",
       "    <tr>\n",
       "      <th>business-center-amenity</th>\n",
       "      <td>NaN</td>\n",
       "      <td>NaN</td>\n",
       "      <td>NaN</td>\n",
       "    </tr>\n",
       "    <tr>\n",
       "      <th>first-aid-medical-center-amenity</th>\n",
       "      <td>NaN</td>\n",
       "      <td>NaN</td>\n",
       "      <td>NaN</td>\n",
       "    </tr>\n",
       "    <tr>\n",
       "      <th>day-care-center-amenity</th>\n",
       "      <td>NaN</td>\n",
       "      <td>NaN</td>\n",
       "      <td>NaN</td>\n",
       "    </tr>\n",
       "    <tr>\n",
       "      <th>shared-kitchen-amenity</th>\n",
       "      <td>NaN</td>\n",
       "      <td>NaN</td>\n",
       "      <td>NaN</td>\n",
       "    </tr>\n",
       "    <tr>\n",
       "      <th>cafeteria-or-canteen-amenity</th>\n",
       "      <td>NaN</td>\n",
       "      <td>NaN</td>\n",
       "      <td>NaN</td>\n",
       "    </tr>\n",
       "    <tr>\n",
       "      <th>laundry-facility-amenity</th>\n",
       "      <td>NaN</td>\n",
       "      <td>NaN</td>\n",
       "      <td>NaN</td>\n",
       "    </tr>\n",
       "  </tbody>\n",
       "</table>\n",
       "</div>"
      ],
      "text/plain": [
       "                                                                                  0  \\\n",
       "area                                                                         1185.0   \n",
       "building_type                                                             Apartment   \n",
       "building_nature                                                         Residential   \n",
       "image_url                         https://images-cdn.bproperty.com/thumbnails/15...   \n",
       "num_bath_rooms                                                                    0   \n",
       "num_bed_rooms                                                                     3   \n",
       "price                                                                     6100000.0   \n",
       "property_description              Grab This 1185 Sq Ft Beautiful Flat Is Vacant ...   \n",
       "property_overview                 This flat consists of facilities you can think...   \n",
       "property_url                      https://www.bproperty.com/en/property/details-...   \n",
       "purpose                                                                        Sale   \n",
       "city                                                                          Dhaka   \n",
       "locality                                                                   Khilgaon   \n",
       "address                                                                         NaN   \n",
       "balcony-or-terrace-amenity                                                      yes   \n",
       "flooring-amenity                                                                yes   \n",
       "parking-spaces-amenity                                                            1   \n",
       "view-amenity                                                                    yes   \n",
       "lobby-in-building-amenity                                                       yes   \n",
       "electricity-backup-amenity                                                      yes   \n",
       "elevators-in-building-amenity                                                   1.0   \n",
       "floor-level-amenity                                                             yes   \n",
       "cctv-security-amenity                                                           yes   \n",
       "maintenance-staff-amenity                                                       yes   \n",
       "cleaning-services-amenity                                                       yes   \n",
       "service-elevators-amenity                                                       NaN   \n",
       "intercom-amenity                                                                NaN   \n",
       "atm-facility-amenity                                                            NaN   \n",
       "freehold-amenity                                                                NaN   \n",
       "broadband-internet-amenity                                                      NaN   \n",
       "double-glazed-windows-amenity                                                   NaN   \n",
       "storage-areas-amenity                                                           NaN   \n",
       "24-hours-concierge-amenity                                                      NaN   \n",
       "waste-disposal-amenity                                                          NaN   \n",
       "lawn-or-garden-amenity                                                          NaN   \n",
       "prayer-room-amenity                                                             NaN   \n",
       "facilities-for-disabled-amenity                                                 NaN   \n",
       "conference-room-amenity                                                         NaN   \n",
       "furnished-amenity                                                               NaN   \n",
       "swimming-pool-amenity                                                           NaN   \n",
       "steam-room-amenity                                                              NaN   \n",
       "sauna-amenity                                                                   NaN   \n",
       "jacuzzi-amenity                                                                 NaN   \n",
       "barbeque-area-amenity                                                           NaN   \n",
       "central-heating-amenity                                                         NaN   \n",
       "business-center-amenity                                                         NaN   \n",
       "first-aid-medical-center-amenity                                                NaN   \n",
       "day-care-center-amenity                                                         NaN   \n",
       "shared-kitchen-amenity                                                          NaN   \n",
       "cafeteria-or-canteen-amenity                                                    NaN   \n",
       "laundry-facility-amenity                                                        NaN   \n",
       "\n",
       "                                                                                  1  \\\n",
       "area                                                                         2464.0   \n",
       "building_type                                                             Apartment   \n",
       "building_nature                                                         Residential   \n",
       "image_url                         https://images-cdn.bproperty.com/thumbnails/15...   \n",
       "num_bath_rooms                                                                    4   \n",
       "num_bed_rooms                                                                     3   \n",
       "price                                                                    28900000.0   \n",
       "property_description              A Vibrant 2464 Sq Ft Residential Flat For Sale...   \n",
       "property_overview                 Ready to move in somewhere with everything nea...   \n",
       "property_url                      https://www.bproperty.com/en/property/details-...   \n",
       "purpose                                                                        Sale   \n",
       "city                                                                          Dhaka   \n",
       "locality                                                                  Dhanmondi   \n",
       "address                                                                         NaN   \n",
       "balcony-or-terrace-amenity                                                      yes   \n",
       "flooring-amenity                                                                yes   \n",
       "parking-spaces-amenity                                                            1   \n",
       "view-amenity                                                                    yes   \n",
       "lobby-in-building-amenity                                                       yes   \n",
       "electricity-backup-amenity                                                      yes   \n",
       "elevators-in-building-amenity                                                   2.0   \n",
       "floor-level-amenity                                                             yes   \n",
       "cctv-security-amenity                                                           yes   \n",
       "maintenance-staff-amenity                                                       NaN   \n",
       "cleaning-services-amenity                                                       NaN   \n",
       "service-elevators-amenity                                                       yes   \n",
       "intercom-amenity                                                                yes   \n",
       "atm-facility-amenity                                                            yes   \n",
       "freehold-amenity                                                                NaN   \n",
       "broadband-internet-amenity                                                      NaN   \n",
       "double-glazed-windows-amenity                                                   NaN   \n",
       "storage-areas-amenity                                                           NaN   \n",
       "24-hours-concierge-amenity                                                      NaN   \n",
       "waste-disposal-amenity                                                          NaN   \n",
       "lawn-or-garden-amenity                                                          NaN   \n",
       "prayer-room-amenity                                                             NaN   \n",
       "facilities-for-disabled-amenity                                                 NaN   \n",
       "conference-room-amenity                                                         NaN   \n",
       "furnished-amenity                                                               NaN   \n",
       "swimming-pool-amenity                                                           NaN   \n",
       "steam-room-amenity                                                              NaN   \n",
       "sauna-amenity                                                                   NaN   \n",
       "jacuzzi-amenity                                                                 NaN   \n",
       "barbeque-area-amenity                                                           NaN   \n",
       "central-heating-amenity                                                         NaN   \n",
       "business-center-amenity                                                         NaN   \n",
       "first-aid-medical-center-amenity                                                NaN   \n",
       "day-care-center-amenity                                                         NaN   \n",
       "shared-kitchen-amenity                                                          NaN   \n",
       "cafeteria-or-canteen-amenity                                                    NaN   \n",
       "laundry-facility-amenity                                                        NaN   \n",
       "\n",
       "                                                                                  2  \n",
       "area                                                                         1140.0  \n",
       "building_type                                                             Apartment  \n",
       "building_nature                                                         Residential  \n",
       "image_url                         https://images-cdn.bproperty.com/thumbnails/15...  \n",
       "num_bath_rooms                                                                    0  \n",
       "num_bed_rooms                                                                     3  \n",
       "price                                                                     7500000.0  \n",
       "property_description              1140 Sq Ft Nicely Planned Apartment Is Availab...  \n",
       "property_overview                 A spacious 1140  Square Feet apartment in Mirp...  \n",
       "property_url                      https://www.bproperty.com/en/property/details-...  \n",
       "purpose                                                                        Sale  \n",
       "city                                                                          Dhaka  \n",
       "locality                                                                     Mirpur  \n",
       "address                                                         Block Ta, Section 6  \n",
       "balcony-or-terrace-amenity                                                      yes  \n",
       "flooring-amenity                                                                yes  \n",
       "parking-spaces-amenity                                                          NaN  \n",
       "view-amenity                                                                    yes  \n",
       "lobby-in-building-amenity                                                       yes  \n",
       "electricity-backup-amenity                                                      yes  \n",
       "elevators-in-building-amenity                                                   1.0  \n",
       "floor-level-amenity                                                             yes  \n",
       "cctv-security-amenity                                                           yes  \n",
       "maintenance-staff-amenity                                                       yes  \n",
       "cleaning-services-amenity                                                       yes  \n",
       "service-elevators-amenity                                                       NaN  \n",
       "intercom-amenity                                                                yes  \n",
       "atm-facility-amenity                                                            NaN  \n",
       "freehold-amenity                                                                yes  \n",
       "broadband-internet-amenity                                                      yes  \n",
       "double-glazed-windows-amenity                                                   NaN  \n",
       "storage-areas-amenity                                                           NaN  \n",
       "24-hours-concierge-amenity                                                      NaN  \n",
       "waste-disposal-amenity                                                          NaN  \n",
       "lawn-or-garden-amenity                                                          NaN  \n",
       "prayer-room-amenity                                                             NaN  \n",
       "facilities-for-disabled-amenity                                                 NaN  \n",
       "conference-room-amenity                                                         NaN  \n",
       "furnished-amenity                                                               NaN  \n",
       "swimming-pool-amenity                                                           NaN  \n",
       "steam-room-amenity                                                              NaN  \n",
       "sauna-amenity                                                                   NaN  \n",
       "jacuzzi-amenity                                                                 NaN  \n",
       "barbeque-area-amenity                                                           NaN  \n",
       "central-heating-amenity                                                         NaN  \n",
       "business-center-amenity                                                         NaN  \n",
       "first-aid-medical-center-amenity                                                NaN  \n",
       "day-care-center-amenity                                                         NaN  \n",
       "shared-kitchen-amenity                                                          NaN  \n",
       "cafeteria-or-canteen-amenity                                                    NaN  \n",
       "laundry-facility-amenity                                                        NaN  "
      ]
     },
     "execution_count": 59,
     "metadata": {},
     "output_type": "execute_result"
    }
   ],
   "source": [
    "# Load saved csv (to make sure it was successfully save)\n",
    "clean_bproperty_df = pd.read_csv(f\"{cleaned_bproperty_folder}/cleaned_bproperty.csv\")\n",
    "clean_bproperty_df.head(3).T"
   ]
  },
  {
   "cell_type": "code",
   "execution_count": null,
   "id": "7db13bf4",
   "metadata": {},
   "outputs": [],
   "source": []
  },
  {
   "cell_type": "code",
   "execution_count": null,
   "id": "30b00e35",
   "metadata": {},
   "outputs": [],
   "source": []
  },
  {
   "cell_type": "code",
   "execution_count": null,
   "id": "d09dd1cc",
   "metadata": {},
   "outputs": [],
   "source": []
  }
 ],
 "metadata": {
  "kernelspec": {
   "display_name": "Python 3",
   "language": "python",
   "name": "python3"
  },
  "language_info": {
   "codemirror_mode": {
    "name": "ipython",
    "version": 3
   },
   "file_extension": ".py",
   "mimetype": "text/x-python",
   "name": "python",
   "nbconvert_exporter": "python",
   "pygments_lexer": "ipython3",
   "version": "3.8.8"
  }
 },
 "nbformat": 4,
 "nbformat_minor": 5
}
