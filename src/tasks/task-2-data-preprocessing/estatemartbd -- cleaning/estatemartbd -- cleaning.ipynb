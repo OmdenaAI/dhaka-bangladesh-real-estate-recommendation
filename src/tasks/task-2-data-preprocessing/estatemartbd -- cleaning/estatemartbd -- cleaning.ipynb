{
 "cells": [
  {
   "cell_type": "code",
   "execution_count": 1,
   "id": "c239782c",
   "metadata": {},
   "outputs": [],
   "source": [
    "import pandas as pd\n",
    "import numpy as np\n",
    "import matplotlib.pyplot as plt\n",
    "import seaborn as sns\n",
    "from address_extractor import get_detailed_address\n",
    "from googletrans import Translator, constants\n",
    "import re"
   ]
  },
  {
   "cell_type": "code",
   "execution_count": null,
   "id": "7115be9c",
   "metadata": {},
   "outputs": [],
   "source": []
  },
  {
   "cell_type": "code",
   "execution_count": 2,
   "id": "26506f00",
   "metadata": {},
   "outputs": [
    {
     "data": {
      "text/html": [
       "<div>\n",
       "<style scoped>\n",
       "    .dataframe tbody tr th:only-of-type {\n",
       "        vertical-align: middle;\n",
       "    }\n",
       "\n",
       "    .dataframe tbody tr th {\n",
       "        vertical-align: top;\n",
       "    }\n",
       "\n",
       "    .dataframe thead th {\n",
       "        text-align: right;\n",
       "    }\n",
       "</style>\n",
       "<table border=\"1\" class=\"dataframe\">\n",
       "  <thead>\n",
       "    <tr style=\"text-align: right;\">\n",
       "      <th></th>\n",
       "      <th>Name</th>\n",
       "      <th>Location</th>\n",
       "      <th>Bathrooms</th>\n",
       "      <th>Bedrooms</th>\n",
       "      <th>Size (in sqft)</th>\n",
       "      <th>Price per sqft</th>\n",
       "      <th>Ownership type</th>\n",
       "      <th>Description</th>\n",
       "      <th>Posting</th>\n",
       "      <th>Features</th>\n",
       "      <th>property_type</th>\n",
       "      <th>Total price</th>\n",
       "      <th>AD URL</th>\n",
       "    </tr>\n",
       "  </thead>\n",
       "  <tbody>\n",
       "    <tr>\n",
       "      <th>0</th>\n",
       "      <td>The Valley Bangladesh                         ...</td>\n",
       "      <td>Dhaka</td>\n",
       "      <td>NaN</td>\n",
       "      <td>NaN</td>\n",
       "      <td>3, 4, 5 kasha land SqFt</td>\n",
       "      <td>1400000/katha</td>\n",
       "      <td>Owner</td>\n",
       "      <td>The Valley is a small gated community land pro...</td>\n",
       "      <td>Sale</td>\n",
       "      <td>NaN</td>\n",
       "      <td>None</td>\n",
       "      <td>4,200,000.00</td>\n",
       "      <td>https://www.estatemartbd.com/property/234/en/t...</td>\n",
       "    </tr>\n",
       "    <tr>\n",
       "      <th>1</th>\n",
       "      <td>1250 Sqft Flat for Sale along with the Land Sh...</td>\n",
       "      <td>Banasree Dhaka</td>\n",
       "      <td>3</td>\n",
       "      <td>3</td>\n",
       "      <td>1250 SqFt</td>\n",
       "      <td>NaN</td>\n",
       "      <td>Agent</td>\n",
       "      <td>জমি: ৬৭ কাঠা/ (৭৩ কাঠা)\\nটাওয়ার: ৬টি\\nফ্লাট: ৪...</td>\n",
       "      <td>Sale</td>\n",
       "      <td>NaN</td>\n",
       "      <td>Residential</td>\n",
       "      <td>1,660,000.00</td>\n",
       "      <td>https://www.estatemartbd.com/property/231/en/1...</td>\n",
       "    </tr>\n",
       "    <tr>\n",
       "      <th>2</th>\n",
       "      <td>1518 sqft, 3 Beds large Apartment is ready for...</td>\n",
       "      <td>Dhaka</td>\n",
       "      <td>3</td>\n",
       "      <td>3</td>\n",
       "      <td>1518 SqFt</td>\n",
       "      <td>11,000</td>\n",
       "      <td>Agent</td>\n",
       "      <td>When it comes to securing a permanent address ...</td>\n",
       "      <td>Sale</td>\n",
       "      <td>Balcony ,Lift ,Grill ,Pool ,Parking</td>\n",
       "      <td>Residential</td>\n",
       "      <td>16,698,000.00</td>\n",
       "      <td>https://www.estatemartbd.com/property/233/en/1...</td>\n",
       "    </tr>\n",
       "    <tr>\n",
       "      <th>3</th>\n",
       "      <td>Sina Sweet Pea                                ...</td>\n",
       "      <td>Dhaka</td>\n",
       "      <td>2</td>\n",
       "      <td>3</td>\n",
       "      <td>950 SqFt</td>\n",
       "      <td>NaN</td>\n",
       "      <td>Owner</td>\n",
       "      <td>NaN</td>\n",
       "      <td>Sale</td>\n",
       "      <td>Cable TV ,Balcony ,Parking</td>\n",
       "      <td>None</td>\n",
       "      <td>29,500,000.00</td>\n",
       "      <td>https://www.estatemartbd.com/property/240/en/s...</td>\n",
       "    </tr>\n",
       "    <tr>\n",
       "      <th>4</th>\n",
       "      <td>Ready Flat For Sale In Shyamoli, Shakhertek Ma...</td>\n",
       "      <td>Dhaka</td>\n",
       "      <td>03</td>\n",
       "      <td>03</td>\n",
       "      <td>1400 SqFt</td>\n",
       "      <td>6000</td>\n",
       "      <td>Agent</td>\n",
       "      <td>This apartment is spacious. The kitchen is bea...</td>\n",
       "      <td>Sale</td>\n",
       "      <td>Air conditioning ,Cable TV ,Computer ,Dishwash...</td>\n",
       "      <td>Residential</td>\n",
       "      <td>8,700,000.00</td>\n",
       "      <td>https://www.estatemartbd.com/property/232/en/r...</td>\n",
       "    </tr>\n",
       "    <tr>\n",
       "      <th>...</th>\n",
       "      <td>...</td>\n",
       "      <td>...</td>\n",
       "      <td>...</td>\n",
       "      <td>...</td>\n",
       "      <td>...</td>\n",
       "      <td>...</td>\n",
       "      <td>...</td>\n",
       "      <td>...</td>\n",
       "      <td>...</td>\n",
       "      <td>...</td>\n",
       "      <td>...</td>\n",
       "      <td>...</td>\n",
       "      <td>...</td>\n",
       "    </tr>\n",
       "    <tr>\n",
       "      <th>148</th>\n",
       "      <td>Orchard Shadows 2165 Sqft at Bashundhara R/A  ...</td>\n",
       "      <td>Bashundhara R/A</td>\n",
       "      <td>4</td>\n",
       "      <td>4</td>\n",
       "      <td>2165 SqFt</td>\n",
       "      <td>9500</td>\n",
       "      <td>Builder</td>\n",
       "      <td>Project Name: Orchard ShadowsAddress: Plot 289...</td>\n",
       "      <td>Sale</td>\n",
       "      <td>Air conditioning ,Cable TV ,Computer ,Dishwash...</td>\n",
       "      <td>Residential</td>\n",
       "      <td>21,567,500.00</td>\n",
       "      <td>https://www.estatemartbd.com/property/194/en/o...</td>\n",
       "    </tr>\n",
       "    <tr>\n",
       "      <th>149</th>\n",
       "      <td>Ready Flat for Sale at Keraniganj with Loan Fa...</td>\n",
       "      <td>Dhaka</td>\n",
       "      <td>3</td>\n",
       "      <td>3</td>\n",
       "      <td>1200 SqFt</td>\n",
       "      <td>2600(Fixed)</td>\n",
       "      <td>Owner</td>\n",
       "      <td>Want to sale ready flat at Keraniganj in Dhaka...</td>\n",
       "      <td>Sale</td>\n",
       "      <td>NaN</td>\n",
       "      <td>Residential</td>\n",
       "      <td>3,120,000.00</td>\n",
       "      <td>https://www.estatemartbd.com/property/199/en/r...</td>\n",
       "    </tr>\n",
       "    <tr>\n",
       "      <th>150</th>\n",
       "      <td>Find 1900-2400 sqft Hatirjheel lakeside view L...</td>\n",
       "      <td>Badda, Dhaka</td>\n",
       "      <td>4</td>\n",
       "      <td>3</td>\n",
       "      <td>1900 SqFt</td>\n",
       "      <td>NaN</td>\n",
       "      <td>Builder</td>\n",
       "      <td>A well-designed and well-constructed building ...</td>\n",
       "      <td>Sale</td>\n",
       "      <td>NaN</td>\n",
       "      <td>Residential</td>\n",
       "      <td>20,300,000.00</td>\n",
       "      <td>https://www.estatemartbd.com/property/203/en/f...</td>\n",
       "    </tr>\n",
       "    <tr>\n",
       "      <th>151</th>\n",
       "      <td>Vivek Maliat 1200 Sqft Luxurious Flat for Sale...</td>\n",
       "      <td>Uttara, Dhaka</td>\n",
       "      <td>3</td>\n",
       "      <td>3</td>\n",
       "      <td>1200 SqFt</td>\n",
       "      <td>7000</td>\n",
       "      <td>Builder</td>\n",
       "      <td>Address: Road-20/A, Plot-1140, Sector-3, Uttar...</td>\n",
       "      <td>Sale</td>\n",
       "      <td>Balcony ,Lift ,Grill ,Parking</td>\n",
       "      <td>Residential</td>\n",
       "      <td>9,100,000.00</td>\n",
       "      <td>https://www.estatemartbd.com/property/204/en/v...</td>\n",
       "    </tr>\n",
       "    <tr>\n",
       "      <th>152</th>\n",
       "      <td>Dream Touch Land Share Sale for Flat at Uttara...</td>\n",
       "      <td>Uttara</td>\n",
       "      <td>3</td>\n",
       "      <td>3</td>\n",
       "      <td>1250 SqFt</td>\n",
       "      <td>NaN</td>\n",
       "      <td>Owner</td>\n",
       "      <td>ঢাকায় সাধ্যের মধ্যে নিজের একটা ফ্ল্যাট করার স্...</td>\n",
       "      <td>Sale</td>\n",
       "      <td>NaN</td>\n",
       "      <td>Residential</td>\n",
       "      <td>1,000,000.00</td>\n",
       "      <td>https://www.estatemartbd.com/property/205/en/d...</td>\n",
       "    </tr>\n",
       "  </tbody>\n",
       "</table>\n",
       "<p>153 rows × 13 columns</p>\n",
       "</div>"
      ],
      "text/plain": [
       "                                                  Name           Location  \\\n",
       "0    The Valley Bangladesh                         ...             Dhaka    \n",
       "1    1250 Sqft Flat for Sale along with the Land Sh...    Banasree Dhaka    \n",
       "2    1518 sqft, 3 Beds large Apartment is ready for...             Dhaka    \n",
       "3    Sina Sweet Pea                                ...             Dhaka    \n",
       "4    Ready Flat For Sale In Shyamoli, Shakhertek Ma...             Dhaka    \n",
       "..                                                 ...                ...   \n",
       "148  Orchard Shadows 2165 Sqft at Bashundhara R/A  ...   Bashundhara R/A    \n",
       "149  Ready Flat for Sale at Keraniganj with Loan Fa...             Dhaka    \n",
       "150  Find 1900-2400 sqft Hatirjheel lakeside view L...      Badda, Dhaka    \n",
       "151  Vivek Maliat 1200 Sqft Luxurious Flat for Sale...     Uttara, Dhaka    \n",
       "152  Dream Touch Land Share Sale for Flat at Uttara...            Uttara    \n",
       "\n",
       "    Bathrooms Bedrooms            Size (in sqft)   Price per sqft  \\\n",
       "0         NaN      NaN   3, 4, 5 kasha land SqFt   1400000/katha    \n",
       "1          3        3                  1250 SqFt              NaN   \n",
       "2          3        3                  1518 SqFt          11,000    \n",
       "3          2        3                   950 SqFt              NaN   \n",
       "4         03       03                  1400 SqFt            6000    \n",
       "..        ...      ...                       ...              ...   \n",
       "148        4        4                  2165 SqFt            9500    \n",
       "149        3        3                  1200 SqFt     2600(Fixed)    \n",
       "150        4        3                  1900 SqFt              NaN   \n",
       "151        3        3                  1200 SqFt            7000    \n",
       "152        3        3                  1250 SqFt              NaN   \n",
       "\n",
       "    Ownership type                                        Description Posting  \\\n",
       "0            Owner  The Valley is a small gated community land pro...    Sale   \n",
       "1            Agent  জমি: ৬৭ কাঠা/ (৭৩ কাঠা)\\nটাওয়ার: ৬টি\\nফ্লাট: ৪...    Sale   \n",
       "2            Agent  When it comes to securing a permanent address ...    Sale   \n",
       "3            Owner                                                NaN    Sale   \n",
       "4            Agent  This apartment is spacious. The kitchen is bea...    Sale   \n",
       "..             ...                                                ...     ...   \n",
       "148        Builder  Project Name: Orchard ShadowsAddress: Plot 289...    Sale   \n",
       "149          Owner  Want to sale ready flat at Keraniganj in Dhaka...    Sale   \n",
       "150        Builder  A well-designed and well-constructed building ...    Sale   \n",
       "151        Builder  Address: Road-20/A, Plot-1140, Sector-3, Uttar...    Sale   \n",
       "152          Owner  ঢাকায় সাধ্যের মধ্যে নিজের একটা ফ্ল্যাট করার স্...    Sale   \n",
       "\n",
       "                                              Features property_type  \\\n",
       "0                                                  NaN          None   \n",
       "1                                                  NaN   Residential   \n",
       "2                 Balcony ,Lift ,Grill ,Pool ,Parking    Residential   \n",
       "3                          Cable TV ,Balcony ,Parking           None   \n",
       "4    Air conditioning ,Cable TV ,Computer ,Dishwash...   Residential   \n",
       "..                                                 ...           ...   \n",
       "148  Air conditioning ,Cable TV ,Computer ,Dishwash...   Residential   \n",
       "149                                                NaN   Residential   \n",
       "150                                                NaN   Residential   \n",
       "151                     Balcony ,Lift ,Grill ,Parking    Residential   \n",
       "152                                                NaN   Residential   \n",
       "\n",
       "       Total price                                             AD URL  \n",
       "0     4,200,000.00  https://www.estatemartbd.com/property/234/en/t...  \n",
       "1     1,660,000.00  https://www.estatemartbd.com/property/231/en/1...  \n",
       "2    16,698,000.00  https://www.estatemartbd.com/property/233/en/1...  \n",
       "3    29,500,000.00  https://www.estatemartbd.com/property/240/en/s...  \n",
       "4     8,700,000.00  https://www.estatemartbd.com/property/232/en/r...  \n",
       "..             ...                                                ...  \n",
       "148  21,567,500.00  https://www.estatemartbd.com/property/194/en/o...  \n",
       "149   3,120,000.00  https://www.estatemartbd.com/property/199/en/r...  \n",
       "150  20,300,000.00  https://www.estatemartbd.com/property/203/en/f...  \n",
       "151   9,100,000.00  https://www.estatemartbd.com/property/204/en/v...  \n",
       "152   1,000,000.00  https://www.estatemartbd.com/property/205/en/d...  \n",
       "\n",
       "[153 rows x 13 columns]"
      ]
     },
     "execution_count": 2,
     "metadata": {},
     "output_type": "execute_result"
    }
   ],
   "source": [
    "df = pd.read_csv(\"mohammedadnan_estatemartbd.csv\")\n",
    "df"
   ]
  },
  {
   "cell_type": "code",
   "execution_count": 3,
   "id": "490fd2ed",
   "metadata": {},
   "outputs": [
    {
     "data": {
      "text/html": [
       "<div>\n",
       "<style scoped>\n",
       "    .dataframe tbody tr th:only-of-type {\n",
       "        vertical-align: middle;\n",
       "    }\n",
       "\n",
       "    .dataframe tbody tr th {\n",
       "        vertical-align: top;\n",
       "    }\n",
       "\n",
       "    .dataframe thead th {\n",
       "        text-align: right;\n",
       "    }\n",
       "</style>\n",
       "<table border=\"1\" class=\"dataframe\">\n",
       "  <thead>\n",
       "    <tr style=\"text-align: right;\">\n",
       "      <th></th>\n",
       "      <th>Name</th>\n",
       "      <th>Location</th>\n",
       "      <th>Bathrooms</th>\n",
       "      <th>Bedrooms</th>\n",
       "      <th>Size (in sqft)</th>\n",
       "      <th>Price per sqft</th>\n",
       "      <th>Ownership type</th>\n",
       "      <th>Description</th>\n",
       "      <th>Posting</th>\n",
       "      <th>Features</th>\n",
       "      <th>property_type</th>\n",
       "      <th>Total price</th>\n",
       "      <th>AD URL</th>\n",
       "    </tr>\n",
       "  </thead>\n",
       "  <tbody>\n",
       "    <tr>\n",
       "      <th>0</th>\n",
       "      <td>The Valley Bangladesh                         ...</td>\n",
       "      <td>Dhaka</td>\n",
       "      <td>NaN</td>\n",
       "      <td>NaN</td>\n",
       "      <td>3, 4, 5 kasha land SqFt</td>\n",
       "      <td>1400000/katha</td>\n",
       "      <td>Owner</td>\n",
       "      <td>The Valley is a small gated community land pro...</td>\n",
       "      <td>Sale</td>\n",
       "      <td>NaN</td>\n",
       "      <td>None</td>\n",
       "      <td>4,200,000.00</td>\n",
       "      <td>https://www.estatemartbd.com/property/234/en/t...</td>\n",
       "    </tr>\n",
       "    <tr>\n",
       "      <th>1</th>\n",
       "      <td>1250 Sqft Flat for Sale along with the Land Sh...</td>\n",
       "      <td>Banasree Dhaka</td>\n",
       "      <td>3</td>\n",
       "      <td>3</td>\n",
       "      <td>1250 SqFt</td>\n",
       "      <td>NaN</td>\n",
       "      <td>Agent</td>\n",
       "      <td>জমি: ৬৭ কাঠা/ (৭৩ কাঠা)\\nটাওয়ার: ৬টি\\nফ্লাট: ৪...</td>\n",
       "      <td>Sale</td>\n",
       "      <td>NaN</td>\n",
       "      <td>Residential</td>\n",
       "      <td>1,660,000.00</td>\n",
       "      <td>https://www.estatemartbd.com/property/231/en/1...</td>\n",
       "    </tr>\n",
       "    <tr>\n",
       "      <th>2</th>\n",
       "      <td>1518 sqft, 3 Beds large Apartment is ready for...</td>\n",
       "      <td>Dhaka</td>\n",
       "      <td>3</td>\n",
       "      <td>3</td>\n",
       "      <td>1518 SqFt</td>\n",
       "      <td>11,000</td>\n",
       "      <td>Agent</td>\n",
       "      <td>When it comes to securing a permanent address ...</td>\n",
       "      <td>Sale</td>\n",
       "      <td>Balcony ,Lift ,Grill ,Pool ,Parking</td>\n",
       "      <td>Residential</td>\n",
       "      <td>16,698,000.00</td>\n",
       "      <td>https://www.estatemartbd.com/property/233/en/1...</td>\n",
       "    </tr>\n",
       "    <tr>\n",
       "      <th>3</th>\n",
       "      <td>Sina Sweet Pea                                ...</td>\n",
       "      <td>Dhaka</td>\n",
       "      <td>2</td>\n",
       "      <td>3</td>\n",
       "      <td>950 SqFt</td>\n",
       "      <td>NaN</td>\n",
       "      <td>Owner</td>\n",
       "      <td>NaN</td>\n",
       "      <td>Sale</td>\n",
       "      <td>Cable TV ,Balcony ,Parking</td>\n",
       "      <td>None</td>\n",
       "      <td>29,500,000.00</td>\n",
       "      <td>https://www.estatemartbd.com/property/240/en/s...</td>\n",
       "    </tr>\n",
       "    <tr>\n",
       "      <th>4</th>\n",
       "      <td>Ready Flat For Sale In Shyamoli, Shakhertek Ma...</td>\n",
       "      <td>Dhaka</td>\n",
       "      <td>03</td>\n",
       "      <td>03</td>\n",
       "      <td>1400 SqFt</td>\n",
       "      <td>6000</td>\n",
       "      <td>Agent</td>\n",
       "      <td>This apartment is spacious. The kitchen is bea...</td>\n",
       "      <td>Sale</td>\n",
       "      <td>Air conditioning ,Cable TV ,Computer ,Dishwash...</td>\n",
       "      <td>Residential</td>\n",
       "      <td>8,700,000.00</td>\n",
       "      <td>https://www.estatemartbd.com/property/232/en/r...</td>\n",
       "    </tr>\n",
       "    <tr>\n",
       "      <th>...</th>\n",
       "      <td>...</td>\n",
       "      <td>...</td>\n",
       "      <td>...</td>\n",
       "      <td>...</td>\n",
       "      <td>...</td>\n",
       "      <td>...</td>\n",
       "      <td>...</td>\n",
       "      <td>...</td>\n",
       "      <td>...</td>\n",
       "      <td>...</td>\n",
       "      <td>...</td>\n",
       "      <td>...</td>\n",
       "      <td>...</td>\n",
       "    </tr>\n",
       "    <tr>\n",
       "      <th>148</th>\n",
       "      <td>Orchard Shadows 2165 Sqft at Bashundhara R/A  ...</td>\n",
       "      <td>Bashundhara R/A</td>\n",
       "      <td>4</td>\n",
       "      <td>4</td>\n",
       "      <td>2165 SqFt</td>\n",
       "      <td>9500</td>\n",
       "      <td>Builder</td>\n",
       "      <td>Project Name: Orchard ShadowsAddress: Plot 289...</td>\n",
       "      <td>Sale</td>\n",
       "      <td>Air conditioning ,Cable TV ,Computer ,Dishwash...</td>\n",
       "      <td>Residential</td>\n",
       "      <td>21,567,500.00</td>\n",
       "      <td>https://www.estatemartbd.com/property/194/en/o...</td>\n",
       "    </tr>\n",
       "    <tr>\n",
       "      <th>149</th>\n",
       "      <td>Ready Flat for Sale at Keraniganj with Loan Fa...</td>\n",
       "      <td>Dhaka</td>\n",
       "      <td>3</td>\n",
       "      <td>3</td>\n",
       "      <td>1200 SqFt</td>\n",
       "      <td>2600(Fixed)</td>\n",
       "      <td>Owner</td>\n",
       "      <td>Want to sale ready flat at Keraniganj in Dhaka...</td>\n",
       "      <td>Sale</td>\n",
       "      <td>NaN</td>\n",
       "      <td>Residential</td>\n",
       "      <td>3,120,000.00</td>\n",
       "      <td>https://www.estatemartbd.com/property/199/en/r...</td>\n",
       "    </tr>\n",
       "    <tr>\n",
       "      <th>150</th>\n",
       "      <td>Find 1900-2400 sqft Hatirjheel lakeside view L...</td>\n",
       "      <td>Badda, Dhaka</td>\n",
       "      <td>4</td>\n",
       "      <td>3</td>\n",
       "      <td>1900 SqFt</td>\n",
       "      <td>NaN</td>\n",
       "      <td>Builder</td>\n",
       "      <td>A well-designed and well-constructed building ...</td>\n",
       "      <td>Sale</td>\n",
       "      <td>NaN</td>\n",
       "      <td>Residential</td>\n",
       "      <td>20,300,000.00</td>\n",
       "      <td>https://www.estatemartbd.com/property/203/en/f...</td>\n",
       "    </tr>\n",
       "    <tr>\n",
       "      <th>151</th>\n",
       "      <td>Vivek Maliat 1200 Sqft Luxurious Flat for Sale...</td>\n",
       "      <td>Uttara, Dhaka</td>\n",
       "      <td>3</td>\n",
       "      <td>3</td>\n",
       "      <td>1200 SqFt</td>\n",
       "      <td>7000</td>\n",
       "      <td>Builder</td>\n",
       "      <td>Address: Road-20/A, Plot-1140, Sector-3, Uttar...</td>\n",
       "      <td>Sale</td>\n",
       "      <td>Balcony ,Lift ,Grill ,Parking</td>\n",
       "      <td>Residential</td>\n",
       "      <td>9,100,000.00</td>\n",
       "      <td>https://www.estatemartbd.com/property/204/en/v...</td>\n",
       "    </tr>\n",
       "    <tr>\n",
       "      <th>152</th>\n",
       "      <td>Dream Touch Land Share Sale for Flat at Uttara...</td>\n",
       "      <td>Uttara</td>\n",
       "      <td>3</td>\n",
       "      <td>3</td>\n",
       "      <td>1250 SqFt</td>\n",
       "      <td>NaN</td>\n",
       "      <td>Owner</td>\n",
       "      <td>ঢাকায় সাধ্যের মধ্যে নিজের একটা ফ্ল্যাট করার স্...</td>\n",
       "      <td>Sale</td>\n",
       "      <td>NaN</td>\n",
       "      <td>Residential</td>\n",
       "      <td>1,000,000.00</td>\n",
       "      <td>https://www.estatemartbd.com/property/205/en/d...</td>\n",
       "    </tr>\n",
       "  </tbody>\n",
       "</table>\n",
       "<p>153 rows × 13 columns</p>\n",
       "</div>"
      ],
      "text/plain": [
       "                                                  Name           Location  \\\n",
       "0    The Valley Bangladesh                         ...             Dhaka    \n",
       "1    1250 Sqft Flat for Sale along with the Land Sh...    Banasree Dhaka    \n",
       "2    1518 sqft, 3 Beds large Apartment is ready for...             Dhaka    \n",
       "3    Sina Sweet Pea                                ...             Dhaka    \n",
       "4    Ready Flat For Sale In Shyamoli, Shakhertek Ma...             Dhaka    \n",
       "..                                                 ...                ...   \n",
       "148  Orchard Shadows 2165 Sqft at Bashundhara R/A  ...   Bashundhara R/A    \n",
       "149  Ready Flat for Sale at Keraniganj with Loan Fa...             Dhaka    \n",
       "150  Find 1900-2400 sqft Hatirjheel lakeside view L...      Badda, Dhaka    \n",
       "151  Vivek Maliat 1200 Sqft Luxurious Flat for Sale...     Uttara, Dhaka    \n",
       "152  Dream Touch Land Share Sale for Flat at Uttara...            Uttara    \n",
       "\n",
       "    Bathrooms Bedrooms            Size (in sqft)   Price per sqft  \\\n",
       "0         NaN      NaN   3, 4, 5 kasha land SqFt   1400000/katha    \n",
       "1          3        3                  1250 SqFt              NaN   \n",
       "2          3        3                  1518 SqFt          11,000    \n",
       "3          2        3                   950 SqFt              NaN   \n",
       "4         03       03                  1400 SqFt            6000    \n",
       "..        ...      ...                       ...              ...   \n",
       "148        4        4                  2165 SqFt            9500    \n",
       "149        3        3                  1200 SqFt     2600(Fixed)    \n",
       "150        4        3                  1900 SqFt              NaN   \n",
       "151        3        3                  1200 SqFt            7000    \n",
       "152        3        3                  1250 SqFt              NaN   \n",
       "\n",
       "    Ownership type                                        Description Posting  \\\n",
       "0            Owner  The Valley is a small gated community land pro...    Sale   \n",
       "1            Agent  জমি: ৬৭ কাঠা/ (৭৩ কাঠা)\\nটাওয়ার: ৬টি\\nফ্লাট: ৪...    Sale   \n",
       "2            Agent  When it comes to securing a permanent address ...    Sale   \n",
       "3            Owner                                                NaN    Sale   \n",
       "4            Agent  This apartment is spacious. The kitchen is bea...    Sale   \n",
       "..             ...                                                ...     ...   \n",
       "148        Builder  Project Name: Orchard ShadowsAddress: Plot 289...    Sale   \n",
       "149          Owner  Want to sale ready flat at Keraniganj in Dhaka...    Sale   \n",
       "150        Builder  A well-designed and well-constructed building ...    Sale   \n",
       "151        Builder  Address: Road-20/A, Plot-1140, Sector-3, Uttar...    Sale   \n",
       "152          Owner  ঢাকায় সাধ্যের মধ্যে নিজের একটা ফ্ল্যাট করার স্...    Sale   \n",
       "\n",
       "                                              Features property_type  \\\n",
       "0                                                  NaN          None   \n",
       "1                                                  NaN   Residential   \n",
       "2                 Balcony ,Lift ,Grill ,Pool ,Parking    Residential   \n",
       "3                          Cable TV ,Balcony ,Parking           None   \n",
       "4    Air conditioning ,Cable TV ,Computer ,Dishwash...   Residential   \n",
       "..                                                 ...           ...   \n",
       "148  Air conditioning ,Cable TV ,Computer ,Dishwash...   Residential   \n",
       "149                                                NaN   Residential   \n",
       "150                                                NaN   Residential   \n",
       "151                     Balcony ,Lift ,Grill ,Parking    Residential   \n",
       "152                                                NaN   Residential   \n",
       "\n",
       "       Total price                                             AD URL  \n",
       "0     4,200,000.00  https://www.estatemartbd.com/property/234/en/t...  \n",
       "1     1,660,000.00  https://www.estatemartbd.com/property/231/en/1...  \n",
       "2    16,698,000.00  https://www.estatemartbd.com/property/233/en/1...  \n",
       "3    29,500,000.00  https://www.estatemartbd.com/property/240/en/s...  \n",
       "4     8,700,000.00  https://www.estatemartbd.com/property/232/en/r...  \n",
       "..             ...                                                ...  \n",
       "148  21,567,500.00  https://www.estatemartbd.com/property/194/en/o...  \n",
       "149   3,120,000.00  https://www.estatemartbd.com/property/199/en/r...  \n",
       "150  20,300,000.00  https://www.estatemartbd.com/property/203/en/f...  \n",
       "151   9,100,000.00  https://www.estatemartbd.com/property/204/en/v...  \n",
       "152   1,000,000.00  https://www.estatemartbd.com/property/205/en/d...  \n",
       "\n",
       "[153 rows x 13 columns]"
      ]
     },
     "execution_count": 3,
     "metadata": {},
     "output_type": "execute_result"
    }
   ],
   "source": [
    "df_fin = df.copy()\n",
    "df_fin"
   ]
  },
  {
   "cell_type": "code",
   "execution_count": 4,
   "id": "bf2fe812",
   "metadata": {},
   "outputs": [],
   "source": [
    "df_fin = df.copy()"
   ]
  },
  {
   "cell_type": "code",
   "execution_count": 5,
   "id": "3a63a28b",
   "metadata": {},
   "outputs": [
    {
     "name": "stdout",
     "output_type": "stream",
     "text": [
      "<class 'pandas.core.frame.DataFrame'>\n",
      "RangeIndex: 153 entries, 0 to 152\n",
      "Data columns (total 13 columns):\n",
      " #   Column          Non-Null Count  Dtype \n",
      "---  ------          --------------  ----- \n",
      " 0   Name            153 non-null    object\n",
      " 1   Location        153 non-null    object\n",
      " 2   Bathrooms       110 non-null    object\n",
      " 3   Bedrooms        108 non-null    object\n",
      " 4   Size (in sqft)  151 non-null    object\n",
      " 5   Price per sqft  45 non-null     object\n",
      " 6   Ownership type  133 non-null    object\n",
      " 7   Description     148 non-null    object\n",
      " 8   Posting         153 non-null    object\n",
      " 9   Features        106 non-null    object\n",
      " 10  property_type   153 non-null    object\n",
      " 11  Total price     131 non-null    object\n",
      " 12  AD URL          153 non-null    object\n",
      "dtypes: object(13)\n",
      "memory usage: 15.7+ KB\n"
     ]
    }
   ],
   "source": [
    "df_fin.info()"
   ]
  },
  {
   "cell_type": "code",
   "execution_count": 6,
   "id": "6342f642",
   "metadata": {},
   "outputs": [
    {
     "data": {
      "text/plain": [
       "<AxesSubplot:xlabel='Posting', ylabel='count'>"
      ]
     },
     "execution_count": 6,
     "metadata": {},
     "output_type": "execute_result"
    },
    {
     "data": {
      "image/png": "[encoded data removed]",
      "text/plain": [
       "<Figure size 720x360 with 1 Axes>"
      ]
     },
     "metadata": {
      "needs_background": "light"
     },
     "output_type": "display_data"
    }
   ],
   "source": [
    "plt.figure(figsize = (10,5))\n",
    "sns.countplot(x = \"Posting\",data = df_fin)"
   ]
  },
  {
   "cell_type": "markdown",
   "id": "b6d0fa87",
   "metadata": {},
   "source": [
    "# Cleaning Estatemartbd"
   ]
  },
  {
   "cell_type": "code",
   "execution_count": 7,
   "id": "65395ece",
   "metadata": {},
   "outputs": [],
   "source": [
    "# dropping extra columns\n",
    "df_fin.drop([\"Ownership type\",\"Price per sqft\"],axis = 1 ,inplace = True)"
   ]
  },
  {
   "cell_type": "code",
   "execution_count": 8,
   "id": "b354eb82",
   "metadata": {},
   "outputs": [
    {
     "name": "stdout",
     "output_type": "stream",
     "text": [
      "<class 'pandas.core.frame.DataFrame'>\n",
      "RangeIndex: 153 entries, 0 to 152\n",
      "Data columns (total 11 columns):\n",
      " #   Column          Non-Null Count  Dtype \n",
      "---  ------          --------------  ----- \n",
      " 0   Name            153 non-null    object\n",
      " 1   Location        153 non-null    object\n",
      " 2   Bathrooms       110 non-null    object\n",
      " 3   Bedrooms        108 non-null    object\n",
      " 4   Size (in sqft)  151 non-null    object\n",
      " 5   Description     148 non-null    object\n",
      " 6   Posting         153 non-null    object\n",
      " 7   Features        106 non-null    object\n",
      " 8   property_type   153 non-null    object\n",
      " 9   Total price     131 non-null    object\n",
      " 10  AD URL          153 non-null    object\n",
      "dtypes: object(11)\n",
      "memory usage: 13.3+ KB\n"
     ]
    }
   ],
   "source": [
    "df_fin.info()"
   ]
  },
  {
   "cell_type": "markdown",
   "id": "e45972bd",
   "metadata": {},
   "source": [
    "## Columns : bedrooms,bathrooms"
   ]
  },
  {
   "cell_type": "code",
   "execution_count": 9,
   "id": "4b1cc995",
   "metadata": {},
   "outputs": [
    {
     "data": {
      "text/plain": [
       "(array([nan, ' 3 ', ' 2 ', ' 03 ', ' 4 ', ' 5 ', ' 6 ', ' 3 Bathrooms ',\n",
       "        ' 02 '], dtype=object),\n",
       " array([nan, ' 3 ', ' 03 ', ' 2 ', ' 6 ', ' 4 ', ' 5 ', ' 3 Bedrooms ',\n",
       "        ' 02 '], dtype=object))"
      ]
     },
     "execution_count": 9,
     "metadata": {},
     "output_type": "execute_result"
    }
   ],
   "source": [
    "df_fin[\"Bathrooms\"].unique()  , df_fin[\"Bedrooms\"].unique() "
   ]
  },
  {
   "cell_type": "code",
   "execution_count": 10,
   "id": "6288e1ec",
   "metadata": {},
   "outputs": [
    {
     "data": {
      "text/plain": [
       "( 3               67\n",
       "  4               22\n",
       "  2               14\n",
       "  5                2\n",
       "  6                2\n",
       "  03               1\n",
       "  3 Bathrooms      1\n",
       "  02               1\n",
       " Name: Bathrooms, dtype: int64,\n",
       "  3              73\n",
       "  4              20\n",
       "  2               8\n",
       "  6               2\n",
       "  5               2\n",
       "  03              1\n",
       "  3 Bedrooms      1\n",
       "  02              1\n",
       " Name: Bedrooms, dtype: int64)"
      ]
     },
     "execution_count": 10,
     "metadata": {},
     "output_type": "execute_result"
    }
   ],
   "source": [
    "df_fin[\"Bathrooms\"].value_counts()  , df_fin[\"Bedrooms\"].value_counts() "
   ]
  },
  {
   "cell_type": "code",
   "execution_count": 11,
   "id": "d222f622",
   "metadata": {},
   "outputs": [],
   "source": [
    "df_fin[\"Bathrooms\"].replace({\" 3 Bathrooms \":3,\" 02 \":2,\" 03 \":3}, inplace = True)\n",
    "df_fin[\"Bedrooms\"].replace({\" 3 Bedrooms \":3,\" 02 \":2,\" 03 \":3},inplace = True)\n"
   ]
  },
  {
   "cell_type": "code",
   "execution_count": 12,
   "id": "b65170dd",
   "metadata": {},
   "outputs": [
    {
     "data": {
      "text/plain": [
       "( 3     67\n",
       "  4     22\n",
       "  2     14\n",
       " 3       2\n",
       "  5      2\n",
       "  6      2\n",
       " 2       1\n",
       " Name: Bathrooms, dtype: int64,\n",
       "  3     73\n",
       "  4     20\n",
       "  2      8\n",
       " 3       2\n",
       "  6      2\n",
       "  5      2\n",
       " 2       1\n",
       " Name: Bedrooms, dtype: int64)"
      ]
     },
     "execution_count": 12,
     "metadata": {},
     "output_type": "execute_result"
    }
   ],
   "source": [
    "df_fin[\"Bathrooms\"].value_counts()  , df_fin[\"Bedrooms\"].value_counts() "
   ]
  },
  {
   "cell_type": "code",
   "execution_count": 13,
   "id": "34dfc56b",
   "metadata": {},
   "outputs": [],
   "source": [
    "# filling null values to 0\n",
    "df_fin[\"Bathrooms\"].fillna(0,inplace = True)\n",
    "df_fin[\"Bedrooms\"].fillna(0,inplace = True)"
   ]
  },
  {
   "cell_type": "code",
   "execution_count": 14,
   "id": "dcee6d54",
   "metadata": {},
   "outputs": [],
   "source": [
    "# datatype object-> float\n",
    "df_fin[\"Bathrooms\"] = df_fin[\"Bathrooms\"].astype(\"float\")\n",
    "df_fin[\"Bedrooms\"] = df_fin[\"Bedrooms\"].astype(\"float\")"
   ]
  },
  {
   "cell_type": "code",
   "execution_count": 15,
   "id": "5a8e54e1",
   "metadata": {},
   "outputs": [
    {
     "data": {
      "text/plain": [
       "0"
      ]
     },
     "execution_count": 15,
     "metadata": {},
     "output_type": "execute_result"
    }
   ],
   "source": [
    "df_fin[\"Bedrooms\"].isna().sum()"
   ]
  },
  {
   "cell_type": "code",
   "execution_count": null,
   "id": "edc8af2a",
   "metadata": {},
   "outputs": [],
   "source": []
  },
  {
   "cell_type": "code",
   "execution_count": 16,
   "id": "3fa0fed6",
   "metadata": {},
   "outputs": [],
   "source": [
    "df_fin.rename(columns = {\"Bathrooms\":\"num_bath_rooms\",\"Bedrooms\":\"num_bed_rooms\"},inplace = True)"
   ]
  },
  {
   "cell_type": "code",
   "execution_count": 17,
   "id": "c5bc5c26",
   "metadata": {},
   "outputs": [
    {
     "name": "stdout",
     "output_type": "stream",
     "text": [
      "<class 'pandas.core.frame.DataFrame'>\n",
      "RangeIndex: 153 entries, 0 to 152\n",
      "Data columns (total 11 columns):\n",
      " #   Column          Non-Null Count  Dtype  \n",
      "---  ------          --------------  -----  \n",
      " 0   Name            153 non-null    object \n",
      " 1   Location        153 non-null    object \n",
      " 2   num_bath_rooms  153 non-null    float64\n",
      " 3   num_bed_rooms   153 non-null    float64\n",
      " 4   Size (in sqft)  151 non-null    object \n",
      " 5   Description     148 non-null    object \n",
      " 6   Posting         153 non-null    object \n",
      " 7   Features        106 non-null    object \n",
      " 8   property_type   153 non-null    object \n",
      " 9   Total price     131 non-null    object \n",
      " 10  AD URL          153 non-null    object \n",
      "dtypes: float64(2), object(9)\n",
      "memory usage: 13.3+ KB\n"
     ]
    }
   ],
   "source": [
    "df_fin.info()"
   ]
  },
  {
   "cell_type": "code",
   "execution_count": null,
   "id": "c0a40d25",
   "metadata": {},
   "outputs": [],
   "source": []
  },
  {
   "cell_type": "markdown",
   "id": "5defaeab",
   "metadata": {},
   "source": [
    "## Column : area"
   ]
  },
  {
   "cell_type": "code",
   "execution_count": 18,
   "id": "b837dae9",
   "metadata": {},
   "outputs": [
    {
     "data": {
      "text/plain": [
       "array([' 3, 4, 5 kasha land SqFt', ' 1250 SqFt', ' 1518 SqFt',\n",
       "       ' 950 SqFt', ' 1400 SqFt', ' 1000 SqFt', ' 1500 SqFt',\n",
       "       ' 1300 SqFt', ' 3/5 kata SqFt', nan, ' 1350 SqFt', ' 1200 SqFt',\n",
       "       ' 1270 SqFt', ' 1220 SqFt', ' 115 SqFt', ' 3240 SqFt',\n",
       "       ' 1075 SqFt', ' 1237 SqFt', ' 1560 SqFt', ' 1125 SqFt',\n",
       "       ' 1366 SqFt', ' 1480 SqFt', ' 1568 SqFt', ' 700 SqFt',\n",
       "       ' 2000 SqFt', ' 100 SqFt', ' 2178 SqFt', ' 21600 SqFt',\n",
       "       ' 1702 SqFt', ' 1,842 SqFt', ' 17280 SqFt', ' 1,310 SqFt',\n",
       "       ' 2,218 SqFt', ' 1,409 SqFt', ' 1,638 SqFt', ' 1,666 SqFt',\n",
       "       ' 2100 SqFt', ' 2080 SqFt', ' 2,360 SqFt', ' 1706 SqFt',\n",
       "       ' 910 SqFt', ' 1,240 SqFt', ' 1645 SqFt', ' 1,506 SqFt',\n",
       "       ' 1498 SqFt', ' 3,750 SqFt', ' 1575 SqFt', ' 900 SqFt',\n",
       "       ' 3600 SqFt', ' 2880 SqFt', ' 1545 SFT SqFt', ' 720 SqFt',\n",
       "       ' 1760 SqFt', ' 1,645 SqFt', ' 800 SqFt', ' 7200 SqFt',\n",
       "       ' 1,480 SqFt', ' 2160 SqFt', ' 3,650 SqFt', ' 3900 SqFt',\n",
       "       ' 4500 SqFt', ' 8,000 SqFt', ' 1,850 SqFt', ' 3,608 SqFt',\n",
       "       ' Mirpur SqFt', ' 1260 SqFt', ' 2130 SqFt', ' 1265 SqFt',\n",
       "       ' 1240 SqFt', ' 1325 SqFt', ' 1150 SqFt', ' 1309 SqFt',\n",
       "       ' 5400 SqFt', ' 1,030 SqFt', ' 1,640 SqFt', ' 1,275 SqFt',\n",
       "       ' 1581 SqFt', ' 7920 SqFt', ' 1,096 SqFt', ' 2200 SqFt',\n",
       "       ' 2313 SqFt', ' 1,400 SqFt', ' 12960 SqFt', ' 1800 SqFt',\n",
       "       ' 1440 SqFt', ' 2,165 SqFt', ' 4,600 SqFt', ' 29520 SqFt',\n",
       "       ' 1,500 SqFt', ' 1,697 SqFt', ' 1,875 SqFt', ' 2,455 SqFt',\n",
       "       ' 1,150 SqFt', ' 560 SqFt', ' 2,600 SqFt', ' 1,000 SqFt',\n",
       "       ' 1050 SqFt', ' 1750 SqFt', ' 2016 SqFt', ' 1,350 SqFt',\n",
       "       ' 2,198 SqFt', ' 1,525 SqFt', ' 2135 SqFt', ' 2,300 SqFt',\n",
       "       ' 1,503 SqFt', ' 2500 SqFt', ' 1365 SqFt', ' 1450 SqFt',\n",
       "       ' 1016 SqFt', ' 1380 SqFt', ' 1360 SqFt', ' 135 SqFt',\n",
       "       ' 2165 SqFt', ' 1900 SqFt'], dtype=object)"
      ]
     },
     "execution_count": 18,
     "metadata": {},
     "output_type": "execute_result"
    }
   ],
   "source": [
    "df_fin[\"Size (in sqft)\"].unique()"
   ]
  },
  {
   "cell_type": "code",
   "execution_count": 19,
   "id": "d57b1021",
   "metadata": {},
   "outputs": [],
   "source": [
    "df_fin.rename(columns = {\"Size (in sqft)\":\"area\"},inplace = True)"
   ]
  },
  {
   "cell_type": "code",
   "execution_count": 20,
   "id": "5cf68761",
   "metadata": {},
   "outputs": [
    {
     "name": "stdout",
     "output_type": "stream",
     "text": [
      "0\n"
     ]
    }
   ],
   "source": [
    "# returning rows whose split value is not equal to 2\n",
    "for index, i in df_fin.iterrows():\n",
    "    units = [\"kata\",\"kasha\"]\n",
    "    size_ = df_fin.loc[index,\"area\"]\n",
    "    splitted_size = size_.split()\n",
    "    if len(splitted_size) !=  2:\n",
    "        print(f\"{index}\")\n",
    "        break\n",
    "    \"\"\"\n",
    "    size_ = splitted_size[0]\n",
    "    size_units = splitted_size[1]\n",
    "    \n",
    "    if size_units in units:\n",
    "        area = size_ * 720\n",
    "    \n",
    "    df_fin.loc[index,\"area\"] = area\n",
    "    \"\"\"\n",
    "    \n",
    "df_fin[\"area\"] = df_fin[\"area\"].replace(\" 3/5 kata SqFt\",\"4 kata\")\n",
    "df_fin[\"area\"] = df_fin[\"area\"].replace(\" 3, 4, 5 kasha land SqFt\",\"5 kata\")"
   ]
  },
  {
   "cell_type": "code",
   "execution_count": null,
   "id": "1f513c5b",
   "metadata": {},
   "outputs": [],
   "source": []
  },
  {
   "cell_type": "code",
   "execution_count": null,
   "id": "458f7019",
   "metadata": {},
   "outputs": [],
   "source": []
  },
  {
   "cell_type": "code",
   "execution_count": 21,
   "id": "a69c0fb0",
   "metadata": {},
   "outputs": [
    {
     "name": "stdout",
     "output_type": "stream",
     "text": [
      "4\n"
     ]
    }
   ],
   "source": [
    "# checking sample column\n",
    "size_ = df_fin.loc[8,\"area\"]\n",
    "splitted_size = size_.split()[0]\n",
    "print(splitted_size)"
   ]
  },
  {
   "cell_type": "code",
   "execution_count": 22,
   "id": "a823120a",
   "metadata": {},
   "outputs": [
    {
     "data": {
      "text/plain": [
       "array(['5 kata', ' 1250 SqFt', ' 1518 SqFt', ' 950 SqFt', ' 1400 SqFt',\n",
       "       ' 1000 SqFt', ' 1500 SqFt', ' 1300 SqFt', '4 kata', nan,\n",
       "       ' 1350 SqFt', ' 1200 SqFt', ' 1270 SqFt', ' 1220 SqFt',\n",
       "       ' 115 SqFt', ' 3240 SqFt', ' 1075 SqFt', ' 1237 SqFt',\n",
       "       ' 1560 SqFt', ' 1125 SqFt', ' 1366 SqFt', ' 1480 SqFt',\n",
       "       ' 1568 SqFt', ' 700 SqFt', ' 2000 SqFt', ' 100 SqFt', ' 2178 SqFt',\n",
       "       ' 21600 SqFt', ' 1702 SqFt', ' 1,842 SqFt', ' 17280 SqFt',\n",
       "       ' 1,310 SqFt', ' 2,218 SqFt', ' 1,409 SqFt', ' 1,638 SqFt',\n",
       "       ' 1,666 SqFt', ' 2100 SqFt', ' 2080 SqFt', ' 2,360 SqFt',\n",
       "       ' 1706 SqFt', ' 910 SqFt', ' 1,240 SqFt', ' 1645 SqFt',\n",
       "       ' 1,506 SqFt', ' 1498 SqFt', ' 3,750 SqFt', ' 1575 SqFt',\n",
       "       ' 900 SqFt', ' 3600 SqFt', ' 2880 SqFt', ' 1545 SFT SqFt',\n",
       "       ' 720 SqFt', ' 1760 SqFt', ' 1,645 SqFt', ' 800 SqFt',\n",
       "       ' 7200 SqFt', ' 1,480 SqFt', ' 2160 SqFt', ' 3,650 SqFt',\n",
       "       ' 3900 SqFt', ' 4500 SqFt', ' 8,000 SqFt', ' 1,850 SqFt',\n",
       "       ' 3,608 SqFt', ' Mirpur SqFt', ' 1260 SqFt', ' 2130 SqFt',\n",
       "       ' 1265 SqFt', ' 1240 SqFt', ' 1325 SqFt', ' 1150 SqFt',\n",
       "       ' 1309 SqFt', ' 5400 SqFt', ' 1,030 SqFt', ' 1,640 SqFt',\n",
       "       ' 1,275 SqFt', ' 1581 SqFt', ' 7920 SqFt', ' 1,096 SqFt',\n",
       "       ' 2200 SqFt', ' 2313 SqFt', ' 1,400 SqFt', ' 12960 SqFt',\n",
       "       ' 1800 SqFt', ' 1440 SqFt', ' 2,165 SqFt', ' 4,600 SqFt',\n",
       "       ' 29520 SqFt', ' 1,500 SqFt', ' 1,697 SqFt', ' 1,875 SqFt',\n",
       "       ' 2,455 SqFt', ' 1,150 SqFt', ' 560 SqFt', ' 2,600 SqFt',\n",
       "       ' 1,000 SqFt', ' 1050 SqFt', ' 1750 SqFt', ' 2016 SqFt',\n",
       "       ' 1,350 SqFt', ' 2,198 SqFt', ' 1,525 SqFt', ' 2135 SqFt',\n",
       "       ' 2,300 SqFt', ' 1,503 SqFt', ' 2500 SqFt', ' 1365 SqFt',\n",
       "       ' 1450 SqFt', ' 1016 SqFt', ' 1380 SqFt', ' 1360 SqFt',\n",
       "       ' 135 SqFt', ' 2165 SqFt', ' 1900 SqFt'], dtype=object)"
      ]
     },
     "execution_count": 22,
     "metadata": {},
     "output_type": "execute_result"
    }
   ],
   "source": [
    "df_fin.area.unique()"
   ]
  },
  {
   "cell_type": "code",
   "execution_count": null,
   "id": "6a4546c5",
   "metadata": {},
   "outputs": [],
   "source": []
  },
  {
   "cell_type": "code",
   "execution_count": 23,
   "id": "75e96df8",
   "metadata": {},
   "outputs": [],
   "source": [
    "# removing unwanted spaces and commas in the numbers and converting kata to sqft \n",
    "df_fin[\"area\"].fillna(\"0\",inplace = True)\n",
    "for index,i in df_fin.iterrows():\n",
    "    units = [\"kata\"]\n",
    "    splitted_area = df_fin.loc[index,\"area\"].strip().split()\n",
    "    area = splitted_area[0]\n",
    "    unit = splitted_area[-1]\n",
    "    \n",
    "    if unit in units:\n",
    "        new_area = float(area.replace(\",\",\"\")) * 720\n",
    "        df_fin.loc[index,\"area\"] = new_area\n",
    "    elif unit == \"SqFt\" :\n",
    "        df_fin.loc[index,\"area\"] = area.replace(\",\",\"\")\n",
    "    else:\n",
    "        df_fin.loc[index,\"area\"] = np.nan\n"
   ]
  },
  {
   "cell_type": "code",
   "execution_count": 24,
   "id": "07915555",
   "metadata": {},
   "outputs": [],
   "source": [
    "#np.where(df_fin[\"area\"] == \"Mirpur\")\n",
    "df_fin[\"area\"] = df_fin[\"area\"].replace(\"Mirpur\",np.nan)"
   ]
  },
  {
   "cell_type": "code",
   "execution_count": 25,
   "id": "49830a05",
   "metadata": {
    "scrolled": true
   },
   "outputs": [],
   "source": [
    "df_fin[\"area\"] = df_fin[\"area\"].astype(float)"
   ]
  },
  {
   "cell_type": "code",
   "execution_count": 26,
   "id": "3d5e854c",
   "metadata": {},
   "outputs": [
    {
     "data": {
      "text/plain": [
       "array([ 3600.,  1250.,  1518.,   950.,  1400.,  1000.,  1500.,  1300.,\n",
       "        2880.,    nan,  1350.,  1200.,  1270.,  1220.,   115.,  3240.,\n",
       "        1075.,  1237.,  1560.,  1125.,  1366.,  1480.,  1568.,   700.,\n",
       "        2000.,   100.,  2178., 21600.,  1702.,  1842., 17280.,  1310.,\n",
       "        2218.,  1409.,  1638.,  1666.,  2100.,  2080.,  2360.,  1706.,\n",
       "         910.,  1240.,  1645.,  1506.,  1498.,  3750.,  1575.,   900.,\n",
       "        1545.,   720.,  1760.,   800.,  7200.,  2160.,  3650.,  3900.,\n",
       "        4500.,  8000.,  1850.,  3608.,  1260.,  2130.,  1265.,  1325.,\n",
       "        1150.,  1309.,  5400.,  1030.,  1640.,  1275.,  1581.,  7920.,\n",
       "        1096.,  2200.,  2313., 12960.,  1800.,  1440.,  2165.,  4600.,\n",
       "       29520.,  1697.,  1875.,  2455.,   560.,  2600.,  1050.,  1750.,\n",
       "        2016.,  2198.,  1525.,  2135.,  2300.,  1503.,  2500.,  1365.,\n",
       "        1450.,  1016.,  1380.,  1360.,   135.,  1900.])"
      ]
     },
     "execution_count": 26,
     "metadata": {},
     "output_type": "execute_result"
    }
   ],
   "source": [
    "df_fin.area.unique()"
   ]
  },
  {
   "cell_type": "code",
   "execution_count": null,
   "id": "29d44577",
   "metadata": {},
   "outputs": [],
   "source": []
  },
  {
   "cell_type": "code",
   "execution_count": 27,
   "id": "7e18aee2",
   "metadata": {},
   "outputs": [
    {
     "name": "stdout",
     "output_type": "stream",
     "text": [
      "<class 'pandas.core.frame.DataFrame'>\n",
      "RangeIndex: 153 entries, 0 to 152\n",
      "Data columns (total 11 columns):\n",
      " #   Column          Non-Null Count  Dtype  \n",
      "---  ------          --------------  -----  \n",
      " 0   Name            153 non-null    object \n",
      " 1   Location        153 non-null    object \n",
      " 2   num_bath_rooms  153 non-null    float64\n",
      " 3   num_bed_rooms   153 non-null    float64\n",
      " 4   area            150 non-null    float64\n",
      " 5   Description     148 non-null    object \n",
      " 6   Posting         153 non-null    object \n",
      " 7   Features        106 non-null    object \n",
      " 8   property_type   153 non-null    object \n",
      " 9   Total price     131 non-null    object \n",
      " 10  AD URL          153 non-null    object \n",
      "dtypes: float64(3), object(8)\n",
      "memory usage: 13.3+ KB\n"
     ]
    }
   ],
   "source": [
    "df_fin.info()"
   ]
  },
  {
   "cell_type": "code",
   "execution_count": 28,
   "id": "aa52c87a",
   "metadata": {},
   "outputs": [],
   "source": [
    "# dropping rows which have null area values \n",
    "df_fin.dropna(subset = [\"area\"],inplace = True)\n"
   ]
  },
  {
   "cell_type": "code",
   "execution_count": 29,
   "id": "c20a1899",
   "metadata": {},
   "outputs": [
    {
     "name": "stdout",
     "output_type": "stream",
     "text": [
      "<class 'pandas.core.frame.DataFrame'>\n",
      "Int64Index: 150 entries, 0 to 152\n",
      "Data columns (total 11 columns):\n",
      " #   Column          Non-Null Count  Dtype  \n",
      "---  ------          --------------  -----  \n",
      " 0   Name            150 non-null    object \n",
      " 1   Location        150 non-null    object \n",
      " 2   num_bath_rooms  150 non-null    float64\n",
      " 3   num_bed_rooms   150 non-null    float64\n",
      " 4   area            150 non-null    float64\n",
      " 5   Description     145 non-null    object \n",
      " 6   Posting         150 non-null    object \n",
      " 7   Features        104 non-null    object \n",
      " 8   property_type   150 non-null    object \n",
      " 9   Total price     129 non-null    object \n",
      " 10  AD URL          150 non-null    object \n",
      "dtypes: float64(3), object(8)\n",
      "memory usage: 14.1+ KB\n"
     ]
    }
   ],
   "source": [
    "df_fin.info()"
   ]
  },
  {
   "cell_type": "code",
   "execution_count": null,
   "id": "9f81fc2c",
   "metadata": {},
   "outputs": [],
   "source": []
  },
  {
   "cell_type": "code",
   "execution_count": 30,
   "id": "8e640e0c",
   "metadata": {},
   "outputs": [],
   "source": [
    "df_fin.rename(columns = {\"Posting\":\"purpose\"},inplace = True)"
   ]
  },
  {
   "cell_type": "code",
   "execution_count": 31,
   "id": "503c435b",
   "metadata": {},
   "outputs": [
    {
     "name": "stdout",
     "output_type": "stream",
     "text": [
      "<class 'pandas.core.frame.DataFrame'>\n",
      "Int64Index: 150 entries, 0 to 152\n",
      "Data columns (total 11 columns):\n",
      " #   Column          Non-Null Count  Dtype  \n",
      "---  ------          --------------  -----  \n",
      " 0   Name            150 non-null    object \n",
      " 1   Location        150 non-null    object \n",
      " 2   num_bath_rooms  150 non-null    float64\n",
      " 3   num_bed_rooms   150 non-null    float64\n",
      " 4   area            150 non-null    float64\n",
      " 5   Description     145 non-null    object \n",
      " 6   purpose         150 non-null    object \n",
      " 7   Features        104 non-null    object \n",
      " 8   property_type   150 non-null    object \n",
      " 9   Total price     129 non-null    object \n",
      " 10  AD URL          150 non-null    object \n",
      "dtypes: float64(3), object(8)\n",
      "memory usage: 14.1+ KB\n"
     ]
    }
   ],
   "source": [
    "df_fin.info()"
   ]
  },
  {
   "cell_type": "markdown",
   "id": "01f9105b",
   "metadata": {},
   "source": [
    "## Column : price"
   ]
  },
  {
   "cell_type": "code",
   "execution_count": 32,
   "id": "8f9ede5d",
   "metadata": {},
   "outputs": [
    {
     "data": {
      "text/plain": [
       "array(['4,200,000.00', '1,660,000.00', '16,698,000.00', '29,500,000.00',\n",
       "       '8,700,000.00', '6,000,000.00', '60,000.00', '7,500,000.00', nan,\n",
       "       '1,725,000.00', '6,500,000.00', '7,669,400.00', '9,180,000.00',\n",
       "       '7,450,000.00', '8,400,000.00', '12,500,000.00', '11,600,000.00',\n",
       "       '8,500,000.00', '8,970,000.00', '42,000.00', '11,914,000.00',\n",
       "       '12,894,000.00', '276,000,000.00', '7,205,000.00', '4,375,000.00',\n",
       "       '30,000,000.00', '11,976,500.00', '10,647,000.00', '6,480,000.00',\n",
       "       '10,829,000.00', '9,776,000.00', '22,420,000.00', '8,871,200.00',\n",
       "       '3,500,000.00', '5,580,000.00', '12,337,500.00', '10,240,800.00',\n",
       "       '16,640,000.00', '28,000,000.00', '8,200,000.00', '3,900,000.00',\n",
       "       '15,000,000.00', '8,800,000.00', '8,200.00', '1,100,000.00',\n",
       "       '26,000.00', '5,200,000.00', '66,000,000.00', '11,692,000.00',\n",
       "       '13,500,000.00', '47,000,000.00', '60,450,000.00', '8,000,000.00',\n",
       "       '55,500,000.00', '6,250,000.00', '0.00', '3,600,000.00',\n",
       "       '9,000,000.00', '1,250,000.00', '4,554,000.00', '3,700,000.00',\n",
       "       '16,250,000.00', '530,000.00', '6,465,600.00', '48,000,000.00',\n",
       "       '5,500,000.00', '4,800,000.00', '5,600,000.00', '10,600,000.00',\n",
       "       '90,200,000.00', '16,440,000.00', '9,100,000.00', '207,000,000.00',\n",
       "       '26,000,000.00', '4,000,000.00', '1,850,000.00', '3,000,000.00',\n",
       "       '19,200,000.00', '65,000,000.00', '22,730,335.00', '41,216,000.00',\n",
       "       '266,500,000.00', '11,879,000.00', '13,106,250.00',\n",
       "       '24,525,450.00', '6,037,500.00', '2,300,000.00', '4,410,000.00',\n",
       "       '7,350,000.00', '5,400,000.00', '16,482,802.00', '16,000,000.00',\n",
       "       '18,000,000.00', '10,980,000.00', '18,147,500.00', '20,700,000.00',\n",
       "       '10,070,100.00', '3,720,000.00', '4,300,000.00', '6,600,000.00',\n",
       "       '7,975,000.00', '3,870,000.00', '7,590,000.00', '7,700,000.00',\n",
       "       '9,900,000.00', '8,300,000.00', '4,500,000.00', '2,430,000.00',\n",
       "       '21,567,500.00', '3,120,000.00', '20,300,000.00', '1,000,000.00'],\n",
       "      dtype=object)"
      ]
     },
     "execution_count": 32,
     "metadata": {},
     "output_type": "execute_result"
    }
   ],
   "source": [
    "df_fin[\"Total price\"].unique()"
   ]
  },
  {
   "cell_type": "code",
   "execution_count": 33,
   "id": "76aecee5",
   "metadata": {},
   "outputs": [],
   "source": [
    "# removing the commas in the price values\n",
    "df_fin.rename(columns = {\"Total price\":\"price\"},inplace = True)\n",
    "df_fin.dropna(subset = [\"price\"],inplace = True)\n",
    "for index,i in df_fin.iterrows():\n",
    "    df_fin.loc[index,\"price\"] = df_fin.loc[index,\"price\"].replace(\",\",\"\")"
   ]
  },
  {
   "cell_type": "code",
   "execution_count": 34,
   "id": "8837399e",
   "metadata": {},
   "outputs": [],
   "source": [
    "#df_fin[\"price\"].fillna(0,inplace = True)"
   ]
  },
  {
   "cell_type": "code",
   "execution_count": null,
   "id": "7fa2358c",
   "metadata": {},
   "outputs": [],
   "source": []
  },
  {
   "cell_type": "code",
   "execution_count": 35,
   "id": "ca6d718d",
   "metadata": {},
   "outputs": [
    {
     "data": {
      "text/plain": [
       "array(['4200000.00', '1660000.00', '16698000.00', '29500000.00',\n",
       "       '8700000.00', '6000000.00', '60000.00', '7500000.00', '1725000.00',\n",
       "       '6500000.00', '7669400.00', '9180000.00', '7450000.00',\n",
       "       '8400000.00', '12500000.00', '11600000.00', '8500000.00',\n",
       "       '8970000.00', '42000.00', '11914000.00', '12894000.00',\n",
       "       '276000000.00', '7205000.00', '4375000.00', '30000000.00',\n",
       "       '11976500.00', '10647000.00', '6480000.00', '10829000.00',\n",
       "       '9776000.00', '22420000.00', '8871200.00', '3500000.00',\n",
       "       '5580000.00', '12337500.00', '10240800.00', '16640000.00',\n",
       "       '28000000.00', '8200000.00', '3900000.00', '15000000.00',\n",
       "       '8800000.00', '8200.00', '1100000.00', '26000.00', '5200000.00',\n",
       "       '66000000.00', '11692000.00', '13500000.00', '47000000.00',\n",
       "       '60450000.00', '8000000.00', '55500000.00', '6250000.00', '0.00',\n",
       "       '3600000.00', '9000000.00', '1250000.00', '4554000.00',\n",
       "       '3700000.00', '16250000.00', '530000.00', '6465600.00',\n",
       "       '48000000.00', '5500000.00', '4800000.00', '5600000.00',\n",
       "       '10600000.00', '90200000.00', '16440000.00', '9100000.00',\n",
       "       '207000000.00', '26000000.00', '4000000.00', '1850000.00',\n",
       "       '3000000.00', '19200000.00', '65000000.00', '22730335.00',\n",
       "       '41216000.00', '266500000.00', '11879000.00', '13106250.00',\n",
       "       '24525450.00', '6037500.00', '2300000.00', '4410000.00',\n",
       "       '7350000.00', '5400000.00', '16482802.00', '16000000.00',\n",
       "       '18000000.00', '10980000.00', '18147500.00', '20700000.00',\n",
       "       '10070100.00', '3720000.00', '4300000.00', '6600000.00',\n",
       "       '7975000.00', '3870000.00', '7590000.00', '7700000.00',\n",
       "       '9900000.00', '8300000.00', '4500000.00', '2430000.00',\n",
       "       '21567500.00', '3120000.00', '20300000.00', '1000000.00'],\n",
       "      dtype=object)"
      ]
     },
     "execution_count": 35,
     "metadata": {},
     "output_type": "execute_result"
    }
   ],
   "source": [
    "df_fin[\"price\"].unique()"
   ]
  },
  {
   "cell_type": "code",
   "execution_count": 36,
   "id": "92fc1790",
   "metadata": {},
   "outputs": [],
   "source": [
    "df_fin[\"price\"] = df_fin[\"price\"].astype(float)"
   ]
  },
  {
   "cell_type": "code",
   "execution_count": 37,
   "id": "cfac8e59",
   "metadata": {
    "scrolled": true
   },
   "outputs": [
    {
     "name": "stdout",
     "output_type": "stream",
     "text": [
      "<class 'pandas.core.frame.DataFrame'>\n",
      "Int64Index: 129 entries, 0 to 152\n",
      "Data columns (total 11 columns):\n",
      " #   Column          Non-Null Count  Dtype  \n",
      "---  ------          --------------  -----  \n",
      " 0   Name            129 non-null    object \n",
      " 1   Location        129 non-null    object \n",
      " 2   num_bath_rooms  129 non-null    float64\n",
      " 3   num_bed_rooms   129 non-null    float64\n",
      " 4   area            129 non-null    float64\n",
      " 5   Description     124 non-null    object \n",
      " 6   purpose         129 non-null    object \n",
      " 7   Features        93 non-null     object \n",
      " 8   property_type   129 non-null    object \n",
      " 9   price           129 non-null    float64\n",
      " 10  AD URL          129 non-null    object \n",
      "dtypes: float64(4), object(7)\n",
      "memory usage: 16.2+ KB\n"
     ]
    }
   ],
   "source": [
    "df_fin.info()"
   ]
  },
  {
   "cell_type": "markdown",
   "id": "f5dd04e7",
   "metadata": {},
   "source": [
    "## Column : Address,Area,City"
   ]
  },
  {
   "cell_type": "code",
   "execution_count": 38,
   "id": "4524d541",
   "metadata": {},
   "outputs": [
    {
     "data": {
      "text/html": [
       "<div>\n",
       "<style scoped>\n",
       "    .dataframe tbody tr th:only-of-type {\n",
       "        vertical-align: middle;\n",
       "    }\n",
       "\n",
       "    .dataframe tbody tr th {\n",
       "        vertical-align: top;\n",
       "    }\n",
       "\n",
       "    .dataframe thead th {\n",
       "        text-align: right;\n",
       "    }\n",
       "</style>\n",
       "<table border=\"1\" class=\"dataframe\">\n",
       "  <thead>\n",
       "    <tr style=\"text-align: right;\">\n",
       "      <th></th>\n",
       "      <th>City</th>\n",
       "      <th>Area</th>\n",
       "      <th>Address</th>\n",
       "    </tr>\n",
       "  </thead>\n",
       "  <tbody>\n",
       "    <tr>\n",
       "      <th>0</th>\n",
       "      <td>Dhaka</td>\n",
       "      <td></td>\n",
       "      <td></td>\n",
       "    </tr>\n",
       "    <tr>\n",
       "      <th>1</th>\n",
       "      <td></td>\n",
       "      <td></td>\n",
       "      <td>Banasree Dhaka</td>\n",
       "    </tr>\n",
       "    <tr>\n",
       "      <th>2</th>\n",
       "      <td>Dhaka</td>\n",
       "      <td></td>\n",
       "      <td></td>\n",
       "    </tr>\n",
       "    <tr>\n",
       "      <th>3</th>\n",
       "      <td>Dhaka</td>\n",
       "      <td></td>\n",
       "      <td></td>\n",
       "    </tr>\n",
       "    <tr>\n",
       "      <th>4</th>\n",
       "      <td>Dhaka</td>\n",
       "      <td></td>\n",
       "      <td></td>\n",
       "    </tr>\n",
       "    <tr>\n",
       "      <th>...</th>\n",
       "      <td>...</td>\n",
       "      <td>...</td>\n",
       "      <td>...</td>\n",
       "    </tr>\n",
       "    <tr>\n",
       "      <th>148</th>\n",
       "      <td></td>\n",
       "      <td></td>\n",
       "      <td>Bashundhara R/A</td>\n",
       "    </tr>\n",
       "    <tr>\n",
       "      <th>149</th>\n",
       "      <td>Dhaka</td>\n",
       "      <td></td>\n",
       "      <td></td>\n",
       "    </tr>\n",
       "    <tr>\n",
       "      <th>150</th>\n",
       "      <td>Dhaka</td>\n",
       "      <td>Badda</td>\n",
       "      <td></td>\n",
       "    </tr>\n",
       "    <tr>\n",
       "      <th>151</th>\n",
       "      <td>Dhaka</td>\n",
       "      <td>Uttara</td>\n",
       "      <td></td>\n",
       "    </tr>\n",
       "    <tr>\n",
       "      <th>152</th>\n",
       "      <td></td>\n",
       "      <td>Uttara</td>\n",
       "      <td></td>\n",
       "    </tr>\n",
       "  </tbody>\n",
       "</table>\n",
       "<p>129 rows × 3 columns</p>\n",
       "</div>"
      ],
      "text/plain": [
       "      City    Area            Address\n",
       "0    Dhaka                           \n",
       "1                     Banasree Dhaka \n",
       "2    Dhaka                           \n",
       "3    Dhaka                           \n",
       "4    Dhaka                           \n",
       "..     ...     ...                ...\n",
       "148                  Bashundhara R/A \n",
       "149  Dhaka                           \n",
       "150  Dhaka   Badda                   \n",
       "151  Dhaka  Uttara                   \n",
       "152         Uttara                   \n",
       "\n",
       "[129 rows x 3 columns]"
      ]
     },
     "execution_count": 38,
     "metadata": {},
     "output_type": "execute_result"
    }
   ],
   "source": [
    "address = df_fin[\"Location\"].apply(get_detailed_address).apply(pd.Series)\n",
    "address"
   ]
  },
  {
   "cell_type": "code",
   "execution_count": 150,
   "id": "ab4671d3",
   "metadata": {},
   "outputs": [],
   "source": []
  },
  {
   "cell_type": "code",
   "execution_count": 39,
   "id": "1b2eca36",
   "metadata": {
    "scrolled": true
   },
   "outputs": [
    {
     "data": {
      "text/html": [
       "<div>\n",
       "<style scoped>\n",
       "    .dataframe tbody tr th:only-of-type {\n",
       "        vertical-align: middle;\n",
       "    }\n",
       "\n",
       "    .dataframe tbody tr th {\n",
       "        vertical-align: top;\n",
       "    }\n",
       "\n",
       "    .dataframe thead th {\n",
       "        text-align: right;\n",
       "    }\n",
       "</style>\n",
       "<table border=\"1\" class=\"dataframe\">\n",
       "  <thead>\n",
       "    <tr style=\"text-align: right;\">\n",
       "      <th></th>\n",
       "      <th>Name</th>\n",
       "      <th>Location</th>\n",
       "      <th>num_bath_rooms</th>\n",
       "      <th>num_bed_rooms</th>\n",
       "      <th>area</th>\n",
       "      <th>Description</th>\n",
       "      <th>purpose</th>\n",
       "      <th>Features</th>\n",
       "      <th>property_type</th>\n",
       "      <th>price</th>\n",
       "      <th>AD URL</th>\n",
       "      <th>City</th>\n",
       "      <th>Area</th>\n",
       "      <th>Address</th>\n",
       "    </tr>\n",
       "  </thead>\n",
       "  <tbody>\n",
       "    <tr>\n",
       "      <th>0</th>\n",
       "      <td>The Valley Bangladesh                         ...</td>\n",
       "      <td>Dhaka</td>\n",
       "      <td>0.0</td>\n",
       "      <td>0.0</td>\n",
       "      <td>3600.0</td>\n",
       "      <td>The Valley is a small gated community land pro...</td>\n",
       "      <td>Sale</td>\n",
       "      <td>NaN</td>\n",
       "      <td>None</td>\n",
       "      <td>4200000.0</td>\n",
       "      <td>https://www.estatemartbd.com/property/234/en/t...</td>\n",
       "      <td>Dhaka</td>\n",
       "      <td></td>\n",
       "      <td></td>\n",
       "    </tr>\n",
       "    <tr>\n",
       "      <th>1</th>\n",
       "      <td>1250 Sqft Flat for Sale along with the Land Sh...</td>\n",
       "      <td>Banasree Dhaka</td>\n",
       "      <td>3.0</td>\n",
       "      <td>3.0</td>\n",
       "      <td>1250.0</td>\n",
       "      <td>জমি: ৬৭ কাঠা/ (৭৩ কাঠা)\\nটাওয়ার: ৬টি\\nফ্লাট: ৪...</td>\n",
       "      <td>Sale</td>\n",
       "      <td>NaN</td>\n",
       "      <td>Residential</td>\n",
       "      <td>1660000.0</td>\n",
       "      <td>https://www.estatemartbd.com/property/231/en/1...</td>\n",
       "      <td></td>\n",
       "      <td></td>\n",
       "      <td>Banasree Dhaka</td>\n",
       "    </tr>\n",
       "    <tr>\n",
       "      <th>2</th>\n",
       "      <td>1518 sqft, 3 Beds large Apartment is ready for...</td>\n",
       "      <td>Dhaka</td>\n",
       "      <td>3.0</td>\n",
       "      <td>3.0</td>\n",
       "      <td>1518.0</td>\n",
       "      <td>When it comes to securing a permanent address ...</td>\n",
       "      <td>Sale</td>\n",
       "      <td>Balcony ,Lift ,Grill ,Pool ,Parking</td>\n",
       "      <td>Residential</td>\n",
       "      <td>16698000.0</td>\n",
       "      <td>https://www.estatemartbd.com/property/233/en/1...</td>\n",
       "      <td>Dhaka</td>\n",
       "      <td></td>\n",
       "      <td></td>\n",
       "    </tr>\n",
       "    <tr>\n",
       "      <th>3</th>\n",
       "      <td>Sina Sweet Pea                                ...</td>\n",
       "      <td>Dhaka</td>\n",
       "      <td>2.0</td>\n",
       "      <td>3.0</td>\n",
       "      <td>950.0</td>\n",
       "      <td>NaN</td>\n",
       "      <td>Sale</td>\n",
       "      <td>Cable TV ,Balcony ,Parking</td>\n",
       "      <td>None</td>\n",
       "      <td>29500000.0</td>\n",
       "      <td>https://www.estatemartbd.com/property/240/en/s...</td>\n",
       "      <td>Dhaka</td>\n",
       "      <td></td>\n",
       "      <td></td>\n",
       "    </tr>\n",
       "    <tr>\n",
       "      <th>4</th>\n",
       "      <td>Ready Flat For Sale In Shyamoli, Shakhertek Ma...</td>\n",
       "      <td>Dhaka</td>\n",
       "      <td>3.0</td>\n",
       "      <td>3.0</td>\n",
       "      <td>1400.0</td>\n",
       "      <td>This apartment is spacious. The kitchen is bea...</td>\n",
       "      <td>Sale</td>\n",
       "      <td>Air conditioning ,Cable TV ,Computer ,Dishwash...</td>\n",
       "      <td>Residential</td>\n",
       "      <td>8700000.0</td>\n",
       "      <td>https://www.estatemartbd.com/property/232/en/r...</td>\n",
       "      <td>Dhaka</td>\n",
       "      <td></td>\n",
       "      <td></td>\n",
       "    </tr>\n",
       "    <tr>\n",
       "      <th>5</th>\n",
       "      <td>A Fairly Large 1000 Sq Ft Apartment is Ready f...</td>\n",
       "      <td>Dhaka</td>\n",
       "      <td>3.0</td>\n",
       "      <td>3.0</td>\n",
       "      <td>1000.0</td>\n",
       "      <td>G.A Buddi Montro Pur is the perfect place if y...</td>\n",
       "      <td>Sale</td>\n",
       "      <td>Air conditioning ,Cable TV ,Computer ,Dishwash...</td>\n",
       "      <td>Residential</td>\n",
       "      <td>6000000.0</td>\n",
       "      <td>https://www.estatemartbd.com/property/229/en/a...</td>\n",
       "      <td>Dhaka</td>\n",
       "      <td></td>\n",
       "      <td></td>\n",
       "    </tr>\n",
       "    <tr>\n",
       "      <th>6</th>\n",
       "      <td>Commercial Space To-Let                       ...</td>\n",
       "      <td>1208</td>\n",
       "      <td>2.0</td>\n",
       "      <td>0.0</td>\n",
       "      <td>1500.0</td>\n",
       "      <td>1500 Sft(approx) ready Space avialble for Offi...</td>\n",
       "      <td>Rent</td>\n",
       "      <td>NaN</td>\n",
       "      <td>None</td>\n",
       "      <td>60000.0</td>\n",
       "      <td>https://www.estatemartbd.com/property/239/en/c...</td>\n",
       "      <td></td>\n",
       "      <td></td>\n",
       "      <td>1208</td>\n",
       "    </tr>\n",
       "    <tr>\n",
       "      <th>7</th>\n",
       "      <td>A well-developed 1300 sq ft apartment is avail...</td>\n",
       "      <td>Dhaka</td>\n",
       "      <td>3.0</td>\n",
       "      <td>3.0</td>\n",
       "      <td>1300.0</td>\n",
       "      <td>The happy future of your dream home is now in ...</td>\n",
       "      <td>Sale</td>\n",
       "      <td>Air conditioning ,Cable TV ,Computer ,Dishwash...</td>\n",
       "      <td>Residential</td>\n",
       "      <td>7500000.0</td>\n",
       "      <td>https://www.estatemartbd.com/property/230/en/a...</td>\n",
       "      <td>Dhaka</td>\n",
       "      <td></td>\n",
       "      <td></td>\n",
       "    </tr>\n",
       "    <tr>\n",
       "      <th>15</th>\n",
       "      <td>Buy 1st Floor Shop at Olympia Plaza           ...</td>\n",
       "      <td>Savar</td>\n",
       "      <td>0.0</td>\n",
       "      <td>0.0</td>\n",
       "      <td>115.0</td>\n",
       "      <td>Booking Ongoing!FIRST FLOOR BEST LOCATION SHOP...</td>\n",
       "      <td>Sale</td>\n",
       "      <td>Air conditioning ,Cable TV ,Computer ,Dishwash...</td>\n",
       "      <td>Commercial</td>\n",
       "      <td>1725000.0</td>\n",
       "      <td>https://www.estatemartbd.com/property/206/en/b...</td>\n",
       "      <td></td>\n",
       "      <td>Savar</td>\n",
       "      <td></td>\n",
       "    </tr>\n",
       "    <tr>\n",
       "      <th>17</th>\n",
       "      <td>Scion Priyota Apartment for Sale              ...</td>\n",
       "      <td>Dhaka</td>\n",
       "      <td>2.0</td>\n",
       "      <td>3.0</td>\n",
       "      <td>1075.0</td>\n",
       "      <td>Assistant ManagerCell: 01611556613Scion Asset ...</td>\n",
       "      <td>Sale</td>\n",
       "      <td>Air conditioning ,Cable TV ,Dishwasher ,Heatin...</td>\n",
       "      <td>Residential</td>\n",
       "      <td>6500000.0</td>\n",
       "      <td>https://www.estatemartbd.com/property/165/en/s...</td>\n",
       "      <td>Dhaka</td>\n",
       "      <td></td>\n",
       "      <td></td>\n",
       "    </tr>\n",
       "  </tbody>\n",
       "</table>\n",
       "</div>"
      ],
      "text/plain": [
       "                                                 Name          Location  \\\n",
       "0   The Valley Bangladesh                         ...            Dhaka    \n",
       "1   1250 Sqft Flat for Sale along with the Land Sh...   Banasree Dhaka    \n",
       "2   1518 sqft, 3 Beds large Apartment is ready for...            Dhaka    \n",
       "3   Sina Sweet Pea                                ...            Dhaka    \n",
       "4   Ready Flat For Sale In Shyamoli, Shakhertek Ma...            Dhaka    \n",
       "5   A Fairly Large 1000 Sq Ft Apartment is Ready f...            Dhaka    \n",
       "6   Commercial Space To-Let                       ...             1208    \n",
       "7   A well-developed 1300 sq ft apartment is avail...            Dhaka    \n",
       "15  Buy 1st Floor Shop at Olympia Plaza           ...            Savar    \n",
       "17  Scion Priyota Apartment for Sale              ...            Dhaka    \n",
       "\n",
       "    num_bath_rooms  num_bed_rooms    area  \\\n",
       "0              0.0            0.0  3600.0   \n",
       "1              3.0            3.0  1250.0   \n",
       "2              3.0            3.0  1518.0   \n",
       "3              2.0            3.0   950.0   \n",
       "4              3.0            3.0  1400.0   \n",
       "5              3.0            3.0  1000.0   \n",
       "6              2.0            0.0  1500.0   \n",
       "7              3.0            3.0  1300.0   \n",
       "15             0.0            0.0   115.0   \n",
       "17             2.0            3.0  1075.0   \n",
       "\n",
       "                                          Description purpose  \\\n",
       "0   The Valley is a small gated community land pro...    Sale   \n",
       "1   জমি: ৬৭ কাঠা/ (৭৩ কাঠা)\\nটাওয়ার: ৬টি\\nফ্লাট: ৪...    Sale   \n",
       "2   When it comes to securing a permanent address ...    Sale   \n",
       "3                                                 NaN    Sale   \n",
       "4   This apartment is spacious. The kitchen is bea...    Sale   \n",
       "5   G.A Buddi Montro Pur is the perfect place if y...    Sale   \n",
       "6   1500 Sft(approx) ready Space avialble for Offi...    Rent   \n",
       "7   The happy future of your dream home is now in ...    Sale   \n",
       "15  Booking Ongoing!FIRST FLOOR BEST LOCATION SHOP...    Sale   \n",
       "17  Assistant ManagerCell: 01611556613Scion Asset ...    Sale   \n",
       "\n",
       "                                             Features property_type  \\\n",
       "0                                                 NaN          None   \n",
       "1                                                 NaN   Residential   \n",
       "2                Balcony ,Lift ,Grill ,Pool ,Parking    Residential   \n",
       "3                         Cable TV ,Balcony ,Parking           None   \n",
       "4   Air conditioning ,Cable TV ,Computer ,Dishwash...   Residential   \n",
       "5   Air conditioning ,Cable TV ,Computer ,Dishwash...   Residential   \n",
       "6                                                 NaN          None   \n",
       "7   Air conditioning ,Cable TV ,Computer ,Dishwash...   Residential   \n",
       "15  Air conditioning ,Cable TV ,Computer ,Dishwash...    Commercial   \n",
       "17  Air conditioning ,Cable TV ,Dishwasher ,Heatin...   Residential   \n",
       "\n",
       "         price                                             AD URL   City  \\\n",
       "0    4200000.0  https://www.estatemartbd.com/property/234/en/t...  Dhaka   \n",
       "1    1660000.0  https://www.estatemartbd.com/property/231/en/1...          \n",
       "2   16698000.0  https://www.estatemartbd.com/property/233/en/1...  Dhaka   \n",
       "3   29500000.0  https://www.estatemartbd.com/property/240/en/s...  Dhaka   \n",
       "4    8700000.0  https://www.estatemartbd.com/property/232/en/r...  Dhaka   \n",
       "5    6000000.0  https://www.estatemartbd.com/property/229/en/a...  Dhaka   \n",
       "6      60000.0  https://www.estatemartbd.com/property/239/en/c...          \n",
       "7    7500000.0  https://www.estatemartbd.com/property/230/en/a...  Dhaka   \n",
       "15   1725000.0  https://www.estatemartbd.com/property/206/en/b...          \n",
       "17   6500000.0  https://www.estatemartbd.com/property/165/en/s...  Dhaka   \n",
       "\n",
       "     Area           Address  \n",
       "0                            \n",
       "1           Banasree Dhaka   \n",
       "2                            \n",
       "3                            \n",
       "4                            \n",
       "5                            \n",
       "6                     1208   \n",
       "7                            \n",
       "15  Savar                    \n",
       "17                           "
      ]
     },
     "execution_count": 39,
     "metadata": {},
     "output_type": "execute_result"
    }
   ],
   "source": [
    "# concatinating the new address(city,area,address) with the existing dataframe df_fin\n",
    "df_fin = pd.concat([df_fin,address],axis = 1)\n",
    "df_fin.head(10)"
   ]
  },
  {
   "cell_type": "code",
   "execution_count": 40,
   "id": "2eb62b4b",
   "metadata": {},
   "outputs": [],
   "source": [
    "df_fin.rename(columns = {\"City\":\"city\",\"Area\":\"locality\",\"Address\":\"address\"},inplace = True)"
   ]
  },
  {
   "cell_type": "code",
   "execution_count": 41,
   "id": "33ec37a1",
   "metadata": {},
   "outputs": [
    {
     "name": "stdout",
     "output_type": "stream",
     "text": [
      "<class 'pandas.core.frame.DataFrame'>\n",
      "Int64Index: 129 entries, 0 to 152\n",
      "Data columns (total 14 columns):\n",
      " #   Column          Non-Null Count  Dtype  \n",
      "---  ------          --------------  -----  \n",
      " 0   Name            129 non-null    object \n",
      " 1   Location        129 non-null    object \n",
      " 2   num_bath_rooms  129 non-null    float64\n",
      " 3   num_bed_rooms   129 non-null    float64\n",
      " 4   area            129 non-null    float64\n",
      " 5   Description     124 non-null    object \n",
      " 6   purpose         129 non-null    object \n",
      " 7   Features        93 non-null     object \n",
      " 8   property_type   129 non-null    object \n",
      " 9   price           129 non-null    float64\n",
      " 10  AD URL          129 non-null    object \n",
      " 11  city            129 non-null    object \n",
      " 12  locality        129 non-null    object \n",
      " 13  address         129 non-null    object \n",
      "dtypes: float64(4), object(10)\n",
      "memory usage: 19.2+ KB\n"
     ]
    }
   ],
   "source": [
    "df_fin.info()"
   ]
  },
  {
   "cell_type": "code",
   "execution_count": 42,
   "id": "463d706b",
   "metadata": {},
   "outputs": [
    {
     "data": {
      "text/plain": [
       "(129, 14)"
      ]
     },
     "execution_count": 42,
     "metadata": {},
     "output_type": "execute_result"
    }
   ],
   "source": [
    "df_fin.shape"
   ]
  },
  {
   "cell_type": "code",
   "execution_count": 43,
   "id": "f375e615",
   "metadata": {},
   "outputs": [],
   "source": [
    "df_fin.drop(columns = [\"Location\"],axis = 1, inplace = True)"
   ]
  },
  {
   "cell_type": "code",
   "execution_count": 44,
   "id": "2cd5e4d5",
   "metadata": {},
   "outputs": [
    {
     "data": {
      "text/plain": [
       "(129, 13)"
      ]
     },
     "execution_count": 44,
     "metadata": {},
     "output_type": "execute_result"
    }
   ],
   "source": [
    "df_fin.shape"
   ]
  },
  {
   "cell_type": "markdown",
   "id": "3e6e2b08",
   "metadata": {},
   "source": [
    "## Columns : Amenities"
   ]
  },
  {
   "cell_type": "code",
   "execution_count": 45,
   "id": "8b573517",
   "metadata": {},
   "outputs": [],
   "source": [
    "df_fin.rename(columns = {\"Features\":\"amenities\"},inplace = True)"
   ]
  },
  {
   "cell_type": "code",
   "execution_count": 46,
   "id": "ad891885",
   "metadata": {
    "scrolled": true
   },
   "outputs": [
    {
     "name": "stdout",
     "output_type": "stream",
     "text": [
      "<class 'pandas.core.frame.DataFrame'>\n",
      "Int64Index: 129 entries, 0 to 152\n",
      "Data columns (total 13 columns):\n",
      " #   Column          Non-Null Count  Dtype  \n",
      "---  ------          --------------  -----  \n",
      " 0   Name            129 non-null    object \n",
      " 1   num_bath_rooms  129 non-null    float64\n",
      " 2   num_bed_rooms   129 non-null    float64\n",
      " 3   area            129 non-null    float64\n",
      " 4   Description     124 non-null    object \n",
      " 5   purpose         129 non-null    object \n",
      " 6   amenities       93 non-null     object \n",
      " 7   property_type   129 non-null    object \n",
      " 8   price           129 non-null    float64\n",
      " 9   AD URL          129 non-null    object \n",
      " 10  city            129 non-null    object \n",
      " 11  locality        129 non-null    object \n",
      " 12  address         129 non-null    object \n",
      "dtypes: float64(4), object(9)\n",
      "memory usage: 18.2+ KB\n"
     ]
    }
   ],
   "source": [
    "df_fin.info()"
   ]
  },
  {
   "cell_type": "code",
   "execution_count": 47,
   "id": "73470b1c",
   "metadata": {},
   "outputs": [],
   "source": [
    "df_fin[\"amenities\"].fillna(\"null\",inplace = True)"
   ]
  },
  {
   "cell_type": "code",
   "execution_count": 49,
   "id": "4bf88aff",
   "metadata": {},
   "outputs": [
    {
     "data": {
      "text/plain": [
       "{'Air conditioning ',\n",
       " 'Balcony ',\n",
       " 'Cable TV ',\n",
       " 'Computer ',\n",
       " 'Dishwasher ',\n",
       " 'Grill ',\n",
       " 'Heating ',\n",
       " 'Internet ',\n",
       " 'Lift ',\n",
       " 'Microwave ',\n",
       " 'Parking ',\n",
       " 'Pool ',\n",
       " 'null'}"
      ]
     },
     "execution_count": 49,
     "metadata": {},
     "output_type": "execute_result"
    }
   ],
   "source": [
    "amenities = set()\n",
    "for i in df_fin[\"amenities\"]:\n",
    "    if i is not np.nan:\n",
    "        amenities.update(i.split(\",\"))\n",
    "amenities"
   ]
  },
  {
   "cell_type": "code",
   "execution_count": 50,
   "id": "93cde457",
   "metadata": {},
   "outputs": [],
   "source": [
    "for amenity in amenities:\n",
    "    df_fin[f'{amenity.strip().replace(\" \",\"-\").lower()}-amenity'] = df_fin[\"amenities\"].str.contains(amenity).map({True:\"Yes\",False:'No'})"
   ]
  },
  {
   "cell_type": "code",
   "execution_count": 51,
   "id": "4c001cfa",
   "metadata": {
    "scrolled": true
   },
   "outputs": [
    {
     "data": {
      "text/html": [
       "<div>\n",
       "<style scoped>\n",
       "    .dataframe tbody tr th:only-of-type {\n",
       "        vertical-align: middle;\n",
       "    }\n",
       "\n",
       "    .dataframe tbody tr th {\n",
       "        vertical-align: top;\n",
       "    }\n",
       "\n",
       "    .dataframe thead th {\n",
       "        text-align: right;\n",
       "    }\n",
       "</style>\n",
       "<table border=\"1\" class=\"dataframe\">\n",
       "  <thead>\n",
       "    <tr style=\"text-align: right;\">\n",
       "      <th></th>\n",
       "      <th>Name</th>\n",
       "      <th>num_bath_rooms</th>\n",
       "      <th>num_bed_rooms</th>\n",
       "      <th>area</th>\n",
       "      <th>Description</th>\n",
       "      <th>purpose</th>\n",
       "      <th>amenities</th>\n",
       "      <th>property_type</th>\n",
       "      <th>price</th>\n",
       "      <th>AD URL</th>\n",
       "      <th>...</th>\n",
       "      <th>air-conditioning-amenity</th>\n",
       "      <th>cable-tv-amenity</th>\n",
       "      <th>dishwasher-amenity</th>\n",
       "      <th>lift-amenity</th>\n",
       "      <th>heating-amenity</th>\n",
       "      <th>microwave-amenity</th>\n",
       "      <th>balcony-amenity</th>\n",
       "      <th>internet-amenity</th>\n",
       "      <th>null-amenity</th>\n",
       "      <th>parking-amenity</th>\n",
       "    </tr>\n",
       "  </thead>\n",
       "  <tbody>\n",
       "    <tr>\n",
       "      <th>0</th>\n",
       "      <td>The Valley Bangladesh                         ...</td>\n",
       "      <td>0.0</td>\n",
       "      <td>0.0</td>\n",
       "      <td>3600.0</td>\n",
       "      <td>The Valley is a small gated community land pro...</td>\n",
       "      <td>Sale</td>\n",
       "      <td>null</td>\n",
       "      <td>None</td>\n",
       "      <td>4200000.0</td>\n",
       "      <td>https://www.estatemartbd.com/property/234/en/t...</td>\n",
       "      <td>...</td>\n",
       "      <td>No</td>\n",
       "      <td>No</td>\n",
       "      <td>No</td>\n",
       "      <td>No</td>\n",
       "      <td>No</td>\n",
       "      <td>No</td>\n",
       "      <td>No</td>\n",
       "      <td>No</td>\n",
       "      <td>Yes</td>\n",
       "      <td>No</td>\n",
       "    </tr>\n",
       "    <tr>\n",
       "      <th>1</th>\n",
       "      <td>1250 Sqft Flat for Sale along with the Land Sh...</td>\n",
       "      <td>3.0</td>\n",
       "      <td>3.0</td>\n",
       "      <td>1250.0</td>\n",
       "      <td>জমি: ৬৭ কাঠা/ (৭৩ কাঠা)\\nটাওয়ার: ৬টি\\nফ্লাট: ৪...</td>\n",
       "      <td>Sale</td>\n",
       "      <td>null</td>\n",
       "      <td>Residential</td>\n",
       "      <td>1660000.0</td>\n",
       "      <td>https://www.estatemartbd.com/property/231/en/1...</td>\n",
       "      <td>...</td>\n",
       "      <td>No</td>\n",
       "      <td>No</td>\n",
       "      <td>No</td>\n",
       "      <td>No</td>\n",
       "      <td>No</td>\n",
       "      <td>No</td>\n",
       "      <td>No</td>\n",
       "      <td>No</td>\n",
       "      <td>Yes</td>\n",
       "      <td>No</td>\n",
       "    </tr>\n",
       "    <tr>\n",
       "      <th>2</th>\n",
       "      <td>1518 sqft, 3 Beds large Apartment is ready for...</td>\n",
       "      <td>3.0</td>\n",
       "      <td>3.0</td>\n",
       "      <td>1518.0</td>\n",
       "      <td>When it comes to securing a permanent address ...</td>\n",
       "      <td>Sale</td>\n",
       "      <td>Balcony ,Lift ,Grill ,Pool ,Parking</td>\n",
       "      <td>Residential</td>\n",
       "      <td>16698000.0</td>\n",
       "      <td>https://www.estatemartbd.com/property/233/en/1...</td>\n",
       "      <td>...</td>\n",
       "      <td>No</td>\n",
       "      <td>No</td>\n",
       "      <td>No</td>\n",
       "      <td>Yes</td>\n",
       "      <td>No</td>\n",
       "      <td>No</td>\n",
       "      <td>Yes</td>\n",
       "      <td>No</td>\n",
       "      <td>No</td>\n",
       "      <td>Yes</td>\n",
       "    </tr>\n",
       "    <tr>\n",
       "      <th>3</th>\n",
       "      <td>Sina Sweet Pea                                ...</td>\n",
       "      <td>2.0</td>\n",
       "      <td>3.0</td>\n",
       "      <td>950.0</td>\n",
       "      <td>NaN</td>\n",
       "      <td>Sale</td>\n",
       "      <td>Cable TV ,Balcony ,Parking</td>\n",
       "      <td>None</td>\n",
       "      <td>29500000.0</td>\n",
       "      <td>https://www.estatemartbd.com/property/240/en/s...</td>\n",
       "      <td>...</td>\n",
       "      <td>No</td>\n",
       "      <td>Yes</td>\n",
       "      <td>No</td>\n",
       "      <td>No</td>\n",
       "      <td>No</td>\n",
       "      <td>No</td>\n",
       "      <td>Yes</td>\n",
       "      <td>No</td>\n",
       "      <td>No</td>\n",
       "      <td>Yes</td>\n",
       "    </tr>\n",
       "    <tr>\n",
       "      <th>4</th>\n",
       "      <td>Ready Flat For Sale In Shyamoli, Shakhertek Ma...</td>\n",
       "      <td>3.0</td>\n",
       "      <td>3.0</td>\n",
       "      <td>1400.0</td>\n",
       "      <td>This apartment is spacious. The kitchen is bea...</td>\n",
       "      <td>Sale</td>\n",
       "      <td>Air conditioning ,Cable TV ,Computer ,Dishwash...</td>\n",
       "      <td>Residential</td>\n",
       "      <td>8700000.0</td>\n",
       "      <td>https://www.estatemartbd.com/property/232/en/r...</td>\n",
       "      <td>...</td>\n",
       "      <td>Yes</td>\n",
       "      <td>Yes</td>\n",
       "      <td>Yes</td>\n",
       "      <td>Yes</td>\n",
       "      <td>No</td>\n",
       "      <td>No</td>\n",
       "      <td>Yes</td>\n",
       "      <td>No</td>\n",
       "      <td>No</td>\n",
       "      <td>Yes</td>\n",
       "    </tr>\n",
       "    <tr>\n",
       "      <th>5</th>\n",
       "      <td>A Fairly Large 1000 Sq Ft Apartment is Ready f...</td>\n",
       "      <td>3.0</td>\n",
       "      <td>3.0</td>\n",
       "      <td>1000.0</td>\n",
       "      <td>G.A Buddi Montro Pur is the perfect place if y...</td>\n",
       "      <td>Sale</td>\n",
       "      <td>Air conditioning ,Cable TV ,Computer ,Dishwash...</td>\n",
       "      <td>Residential</td>\n",
       "      <td>6000000.0</td>\n",
       "      <td>https://www.estatemartbd.com/property/229/en/a...</td>\n",
       "      <td>...</td>\n",
       "      <td>Yes</td>\n",
       "      <td>Yes</td>\n",
       "      <td>Yes</td>\n",
       "      <td>Yes</td>\n",
       "      <td>Yes</td>\n",
       "      <td>Yes</td>\n",
       "      <td>Yes</td>\n",
       "      <td>Yes</td>\n",
       "      <td>No</td>\n",
       "      <td>Yes</td>\n",
       "    </tr>\n",
       "    <tr>\n",
       "      <th>6</th>\n",
       "      <td>Commercial Space To-Let                       ...</td>\n",
       "      <td>2.0</td>\n",
       "      <td>0.0</td>\n",
       "      <td>1500.0</td>\n",
       "      <td>1500 Sft(approx) ready Space avialble for Offi...</td>\n",
       "      <td>Rent</td>\n",
       "      <td>null</td>\n",
       "      <td>None</td>\n",
       "      <td>60000.0</td>\n",
       "      <td>https://www.estatemartbd.com/property/239/en/c...</td>\n",
       "      <td>...</td>\n",
       "      <td>No</td>\n",
       "      <td>No</td>\n",
       "      <td>No</td>\n",
       "      <td>No</td>\n",
       "      <td>No</td>\n",
       "      <td>No</td>\n",
       "      <td>No</td>\n",
       "      <td>No</td>\n",
       "      <td>Yes</td>\n",
       "      <td>No</td>\n",
       "    </tr>\n",
       "    <tr>\n",
       "      <th>7</th>\n",
       "      <td>A well-developed 1300 sq ft apartment is avail...</td>\n",
       "      <td>3.0</td>\n",
       "      <td>3.0</td>\n",
       "      <td>1300.0</td>\n",
       "      <td>The happy future of your dream home is now in ...</td>\n",
       "      <td>Sale</td>\n",
       "      <td>Air conditioning ,Cable TV ,Computer ,Dishwash...</td>\n",
       "      <td>Residential</td>\n",
       "      <td>7500000.0</td>\n",
       "      <td>https://www.estatemartbd.com/property/230/en/a...</td>\n",
       "      <td>...</td>\n",
       "      <td>Yes</td>\n",
       "      <td>Yes</td>\n",
       "      <td>Yes</td>\n",
       "      <td>Yes</td>\n",
       "      <td>Yes</td>\n",
       "      <td>Yes</td>\n",
       "      <td>Yes</td>\n",
       "      <td>Yes</td>\n",
       "      <td>No</td>\n",
       "      <td>Yes</td>\n",
       "    </tr>\n",
       "    <tr>\n",
       "      <th>15</th>\n",
       "      <td>Buy 1st Floor Shop at Olympia Plaza           ...</td>\n",
       "      <td>0.0</td>\n",
       "      <td>0.0</td>\n",
       "      <td>115.0</td>\n",
       "      <td>Booking Ongoing!FIRST FLOOR BEST LOCATION SHOP...</td>\n",
       "      <td>Sale</td>\n",
       "      <td>Air conditioning ,Cable TV ,Computer ,Dishwash...</td>\n",
       "      <td>Commercial</td>\n",
       "      <td>1725000.0</td>\n",
       "      <td>https://www.estatemartbd.com/property/206/en/b...</td>\n",
       "      <td>...</td>\n",
       "      <td>Yes</td>\n",
       "      <td>Yes</td>\n",
       "      <td>Yes</td>\n",
       "      <td>Yes</td>\n",
       "      <td>Yes</td>\n",
       "      <td>Yes</td>\n",
       "      <td>No</td>\n",
       "      <td>Yes</td>\n",
       "      <td>No</td>\n",
       "      <td>Yes</td>\n",
       "    </tr>\n",
       "    <tr>\n",
       "      <th>17</th>\n",
       "      <td>Scion Priyota Apartment for Sale              ...</td>\n",
       "      <td>2.0</td>\n",
       "      <td>3.0</td>\n",
       "      <td>1075.0</td>\n",
       "      <td>Assistant ManagerCell: 01611556613Scion Asset ...</td>\n",
       "      <td>Sale</td>\n",
       "      <td>Air conditioning ,Cable TV ,Dishwasher ,Heatin...</td>\n",
       "      <td>Residential</td>\n",
       "      <td>6500000.0</td>\n",
       "      <td>https://www.estatemartbd.com/property/165/en/s...</td>\n",
       "      <td>...</td>\n",
       "      <td>Yes</td>\n",
       "      <td>Yes</td>\n",
       "      <td>Yes</td>\n",
       "      <td>Yes</td>\n",
       "      <td>Yes</td>\n",
       "      <td>No</td>\n",
       "      <td>Yes</td>\n",
       "      <td>Yes</td>\n",
       "      <td>No</td>\n",
       "      <td>Yes</td>\n",
       "    </tr>\n",
       "  </tbody>\n",
       "</table>\n",
       "<p>10 rows × 26 columns</p>\n",
       "</div>"
      ],
      "text/plain": [
       "                                                 Name  num_bath_rooms  \\\n",
       "0   The Valley Bangladesh                         ...             0.0   \n",
       "1   1250 Sqft Flat for Sale along with the Land Sh...             3.0   \n",
       "2   1518 sqft, 3 Beds large Apartment is ready for...             3.0   \n",
       "3   Sina Sweet Pea                                ...             2.0   \n",
       "4   Ready Flat For Sale In Shyamoli, Shakhertek Ma...             3.0   \n",
       "5   A Fairly Large 1000 Sq Ft Apartment is Ready f...             3.0   \n",
       "6   Commercial Space To-Let                       ...             2.0   \n",
       "7   A well-developed 1300 sq ft apartment is avail...             3.0   \n",
       "15  Buy 1st Floor Shop at Olympia Plaza           ...             0.0   \n",
       "17  Scion Priyota Apartment for Sale              ...             2.0   \n",
       "\n",
       "    num_bed_rooms    area                                        Description  \\\n",
       "0             0.0  3600.0  The Valley is a small gated community land pro...   \n",
       "1             3.0  1250.0  জমি: ৬৭ কাঠা/ (৭৩ কাঠা)\\nটাওয়ার: ৬টি\\nফ্লাট: ৪...   \n",
       "2             3.0  1518.0  When it comes to securing a permanent address ...   \n",
       "3             3.0   950.0                                                NaN   \n",
       "4             3.0  1400.0  This apartment is spacious. The kitchen is bea...   \n",
       "5             3.0  1000.0  G.A Buddi Montro Pur is the perfect place if y...   \n",
       "6             0.0  1500.0  1500 Sft(approx) ready Space avialble for Offi...   \n",
       "7             3.0  1300.0  The happy future of your dream home is now in ...   \n",
       "15            0.0   115.0  Booking Ongoing!FIRST FLOOR BEST LOCATION SHOP...   \n",
       "17            3.0  1075.0  Assistant ManagerCell: 01611556613Scion Asset ...   \n",
       "\n",
       "   purpose                                          amenities property_type  \\\n",
       "0     Sale                                               null          None   \n",
       "1     Sale                                               null   Residential   \n",
       "2     Sale               Balcony ,Lift ,Grill ,Pool ,Parking    Residential   \n",
       "3     Sale                        Cable TV ,Balcony ,Parking           None   \n",
       "4     Sale  Air conditioning ,Cable TV ,Computer ,Dishwash...   Residential   \n",
       "5     Sale  Air conditioning ,Cable TV ,Computer ,Dishwash...   Residential   \n",
       "6     Rent                                               null          None   \n",
       "7     Sale  Air conditioning ,Cable TV ,Computer ,Dishwash...   Residential   \n",
       "15    Sale  Air conditioning ,Cable TV ,Computer ,Dishwash...    Commercial   \n",
       "17    Sale  Air conditioning ,Cable TV ,Dishwasher ,Heatin...   Residential   \n",
       "\n",
       "         price                                             AD URL  ...  \\\n",
       "0    4200000.0  https://www.estatemartbd.com/property/234/en/t...  ...   \n",
       "1    1660000.0  https://www.estatemartbd.com/property/231/en/1...  ...   \n",
       "2   16698000.0  https://www.estatemartbd.com/property/233/en/1...  ...   \n",
       "3   29500000.0  https://www.estatemartbd.com/property/240/en/s...  ...   \n",
       "4    8700000.0  https://www.estatemartbd.com/property/232/en/r...  ...   \n",
       "5    6000000.0  https://www.estatemartbd.com/property/229/en/a...  ...   \n",
       "6      60000.0  https://www.estatemartbd.com/property/239/en/c...  ...   \n",
       "7    7500000.0  https://www.estatemartbd.com/property/230/en/a...  ...   \n",
       "15   1725000.0  https://www.estatemartbd.com/property/206/en/b...  ...   \n",
       "17   6500000.0  https://www.estatemartbd.com/property/165/en/s...  ...   \n",
       "\n",
       "   air-conditioning-amenity cable-tv-amenity dishwasher-amenity lift-amenity  \\\n",
       "0                        No               No                 No           No   \n",
       "1                        No               No                 No           No   \n",
       "2                        No               No                 No          Yes   \n",
       "3                        No              Yes                 No           No   \n",
       "4                       Yes              Yes                Yes          Yes   \n",
       "5                       Yes              Yes                Yes          Yes   \n",
       "6                        No               No                 No           No   \n",
       "7                       Yes              Yes                Yes          Yes   \n",
       "15                      Yes              Yes                Yes          Yes   \n",
       "17                      Yes              Yes                Yes          Yes   \n",
       "\n",
       "   heating-amenity microwave-amenity balcony-amenity internet-amenity  \\\n",
       "0               No                No              No               No   \n",
       "1               No                No              No               No   \n",
       "2               No                No             Yes               No   \n",
       "3               No                No             Yes               No   \n",
       "4               No                No             Yes               No   \n",
       "5              Yes               Yes             Yes              Yes   \n",
       "6               No                No              No               No   \n",
       "7              Yes               Yes             Yes              Yes   \n",
       "15             Yes               Yes              No              Yes   \n",
       "17             Yes                No             Yes              Yes   \n",
       "\n",
       "   null-amenity parking-amenity  \n",
       "0           Yes              No  \n",
       "1           Yes              No  \n",
       "2            No             Yes  \n",
       "3            No             Yes  \n",
       "4            No             Yes  \n",
       "5            No             Yes  \n",
       "6           Yes              No  \n",
       "7            No             Yes  \n",
       "15           No             Yes  \n",
       "17           No             Yes  \n",
       "\n",
       "[10 rows x 26 columns]"
      ]
     },
     "execution_count": 51,
     "metadata": {},
     "output_type": "execute_result"
    }
   ],
   "source": [
    "df_fin.head(10)"
   ]
  },
  {
   "cell_type": "code",
   "execution_count": null,
   "id": "38c2ffa1",
   "metadata": {},
   "outputs": [],
   "source": []
  },
  {
   "cell_type": "code",
   "execution_count": 52,
   "id": "971e332b",
   "metadata": {},
   "outputs": [
    {
     "name": "stdout",
     "output_type": "stream",
     "text": [
      "<class 'pandas.core.frame.DataFrame'>\n",
      "Int64Index: 129 entries, 0 to 152\n",
      "Data columns (total 26 columns):\n",
      " #   Column                    Non-Null Count  Dtype  \n",
      "---  ------                    --------------  -----  \n",
      " 0   Name                      129 non-null    object \n",
      " 1   num_bath_rooms            129 non-null    float64\n",
      " 2   num_bed_rooms             129 non-null    float64\n",
      " 3   area                      129 non-null    float64\n",
      " 4   Description               124 non-null    object \n",
      " 5   purpose                   129 non-null    object \n",
      " 6   amenities                 129 non-null    object \n",
      " 7   property_type             129 non-null    object \n",
      " 8   price                     129 non-null    float64\n",
      " 9   AD URL                    129 non-null    object \n",
      " 10  city                      129 non-null    object \n",
      " 11  locality                  129 non-null    object \n",
      " 12  address                   129 non-null    object \n",
      " 13  pool-amenity              129 non-null    object \n",
      " 14  grill-amenity             129 non-null    object \n",
      " 15  computer-amenity          129 non-null    object \n",
      " 16  air-conditioning-amenity  129 non-null    object \n",
      " 17  cable-tv-amenity          129 non-null    object \n",
      " 18  dishwasher-amenity        129 non-null    object \n",
      " 19  lift-amenity              129 non-null    object \n",
      " 20  heating-amenity           129 non-null    object \n",
      " 21  microwave-amenity         129 non-null    object \n",
      " 22  balcony-amenity           129 non-null    object \n",
      " 23  internet-amenity          129 non-null    object \n",
      " 24  null-amenity              129 non-null    object \n",
      " 25  parking-amenity           129 non-null    object \n",
      "dtypes: float64(4), object(22)\n",
      "memory usage: 31.3+ KB\n"
     ]
    }
   ],
   "source": [
    "df_fin.info()"
   ]
  },
  {
   "cell_type": "code",
   "execution_count": 53,
   "id": "fd53fb85",
   "metadata": {},
   "outputs": [],
   "source": [
    "df_fin.drop([\"amenities\"],axis = 1,inplace = True)"
   ]
  },
  {
   "cell_type": "code",
   "execution_count": 54,
   "id": "81654ef0",
   "metadata": {},
   "outputs": [
    {
     "name": "stdout",
     "output_type": "stream",
     "text": [
      "<class 'pandas.core.frame.DataFrame'>\n",
      "Int64Index: 129 entries, 0 to 152\n",
      "Data columns (total 25 columns):\n",
      " #   Column                    Non-Null Count  Dtype  \n",
      "---  ------                    --------------  -----  \n",
      " 0   Name                      129 non-null    object \n",
      " 1   num_bath_rooms            129 non-null    float64\n",
      " 2   num_bed_rooms             129 non-null    float64\n",
      " 3   area                      129 non-null    float64\n",
      " 4   Description               124 non-null    object \n",
      " 5   purpose                   129 non-null    object \n",
      " 6   property_type             129 non-null    object \n",
      " 7   price                     129 non-null    float64\n",
      " 8   AD URL                    129 non-null    object \n",
      " 9   city                      129 non-null    object \n",
      " 10  locality                  129 non-null    object \n",
      " 11  address                   129 non-null    object \n",
      " 12  pool-amenity              129 non-null    object \n",
      " 13  grill-amenity             129 non-null    object \n",
      " 14  computer-amenity          129 non-null    object \n",
      " 15  air-conditioning-amenity  129 non-null    object \n",
      " 16  cable-tv-amenity          129 non-null    object \n",
      " 17  dishwasher-amenity        129 non-null    object \n",
      " 18  lift-amenity              129 non-null    object \n",
      " 19  heating-amenity           129 non-null    object \n",
      " 20  microwave-amenity         129 non-null    object \n",
      " 21  balcony-amenity           129 non-null    object \n",
      " 22  internet-amenity          129 non-null    object \n",
      " 23  null-amenity              129 non-null    object \n",
      " 24  parking-amenity           129 non-null    object \n",
      "dtypes: float64(4), object(21)\n",
      "memory usage: 30.3+ KB\n"
     ]
    }
   ],
   "source": [
    "df_fin.info()"
   ]
  },
  {
   "cell_type": "markdown",
   "id": "fffb88dc",
   "metadata": {},
   "source": [
    "## Column : building_type , building_nature"
   ]
  },
  {
   "cell_type": "code",
   "execution_count": null,
   "id": "bd838aa9",
   "metadata": {},
   "outputs": [],
   "source": []
  },
  {
   "cell_type": "code",
   "execution_count": 55,
   "id": "2e8b30db",
   "metadata": {},
   "outputs": [
    {
     "data": {
      "text/plain": [
       "0             None\n",
       "1      Residential\n",
       "2      Residential\n",
       "3             None\n",
       "4      Residential\n",
       "          ...     \n",
       "148    Residential\n",
       "149    Residential\n",
       "150    Residential\n",
       "151    Residential\n",
       "152    Residential\n",
       "Name: property_type, Length: 129, dtype: object"
      ]
     },
     "execution_count": 55,
     "metadata": {},
     "output_type": "execute_result"
    }
   ],
   "source": [
    "df_fin[\"property_type\"]"
   ]
  },
  {
   "cell_type": "code",
   "execution_count": 56,
   "id": "13ac7103",
   "metadata": {},
   "outputs": [],
   "source": [
    "translator = Translator()"
   ]
  },
  {
   "cell_type": "code",
   "execution_count": 57,
   "id": "ffb7b2a6",
   "metadata": {},
   "outputs": [],
   "source": [
    "df_fin.rename(columns = {\"property_type\":\"building_type\"},inplace = True)"
   ]
  },
  {
   "cell_type": "code",
   "execution_count": 58,
   "id": "604ea2a2",
   "metadata": {},
   "outputs": [],
   "source": [
    "df_fin[\"building_nature\"] = None\n"
   ]
  },
  {
   "cell_type": "code",
   "execution_count": 59,
   "id": "2139fea8",
   "metadata": {},
   "outputs": [
    {
     "name": "stdout",
     "output_type": "stream",
     "text": [
      "<class 'pandas.core.frame.DataFrame'>\n",
      "Int64Index: 129 entries, 0 to 152\n",
      "Data columns (total 26 columns):\n",
      " #   Column                    Non-Null Count  Dtype  \n",
      "---  ------                    --------------  -----  \n",
      " 0   Name                      129 non-null    object \n",
      " 1   num_bath_rooms            129 non-null    float64\n",
      " 2   num_bed_rooms             129 non-null    float64\n",
      " 3   area                      129 non-null    float64\n",
      " 4   Description               124 non-null    object \n",
      " 5   purpose                   129 non-null    object \n",
      " 6   building_type             129 non-null    object \n",
      " 7   price                     129 non-null    float64\n",
      " 8   AD URL                    129 non-null    object \n",
      " 9   city                      129 non-null    object \n",
      " 10  locality                  129 non-null    object \n",
      " 11  address                   129 non-null    object \n",
      " 12  pool-amenity              129 non-null    object \n",
      " 13  grill-amenity             129 non-null    object \n",
      " 14  computer-amenity          129 non-null    object \n",
      " 15  air-conditioning-amenity  129 non-null    object \n",
      " 16  cable-tv-amenity          129 non-null    object \n",
      " 17  dishwasher-amenity        129 non-null    object \n",
      " 18  lift-amenity              129 non-null    object \n",
      " 19  heating-amenity           129 non-null    object \n",
      " 20  microwave-amenity         129 non-null    object \n",
      " 21  balcony-amenity           129 non-null    object \n",
      " 22  internet-amenity          129 non-null    object \n",
      " 23  null-amenity              129 non-null    object \n",
      " 24  parking-amenity           129 non-null    object \n",
      " 25  building_nature           0 non-null      object \n",
      "dtypes: float64(4), object(22)\n",
      "memory usage: 31.3+ KB\n"
     ]
    }
   ],
   "source": [
    "df_fin.info()"
   ]
  },
  {
   "cell_type": "code",
   "execution_count": null,
   "id": "1c2d6e49",
   "metadata": {},
   "outputs": [],
   "source": []
  },
  {
   "cell_type": "code",
   "execution_count": 60,
   "id": "40182db3",
   "metadata": {},
   "outputs": [],
   "source": [
    "# using the Translator class to translate bangla to english\n",
    "# which is applied on the \"property_description\" and \"property_name\" column\n",
    "# in order to find out nature of building \n",
    "\n",
    "# keywords for residential and commercial\n",
    "residential = \"residency.|Residential.| Residential |residential|gated|community|House|house|Apartment|apartment|Flat|flat |Duplex |Home |home |Independent House\"\n",
    "commercial = \"Commercial |commercial| Office/Showroom/Warehouse|Office space|office space|Showroom|showroom|Shop|shop |restaurant |Restaurant\"\n",
    "\n",
    "for index,i in df_fin.iterrows():\n",
    "    #if df_fin.loc[index,\"property_type\"] == \"None\":\n",
    "        \n",
    "        # here the description and name columns are translated from bangla to english\n",
    "        translated_desc = translator.translate(df_fin.loc[index,\"Description\"])\n",
    "        translated_name = translator.translate(df_fin.loc[index,\"Name\"])\n",
    "       \n",
    "        # regex used to check if the given word is found in keywords\n",
    "        search_key_word_res_desc = re.search(residential,translated_desc.text)\n",
    "        search_key_word_com_desc = re.search(commercial,translated_desc.text)\n",
    "        \n",
    "        \n",
    "        if bool(search_key_word_res_desc):\n",
    "            # if keyword lies in \"residential\" then property_type is assigned as Residential\n",
    "            df_fin.loc[index,\"building_nature\"] = \"Residential\"\n",
    "        elif bool(search_key_word_com_desc):\n",
    "            # if keyword lies in \"commercial\" then property_type is assigned as Commercial\n",
    "            df_fin.loc[index,\"building_nature\"] = \"Commercial\"\n",
    "       \n",
    "        \n",
    "        else:\n",
    "            # if description doesn't exist or doens't have keywords\n",
    "            # regex is used on  property name column \n",
    "            search_key_word_res_name = re.search(residential,translated_name.text)\n",
    "            search_key_word_com_name = re.search(commercial,translated_name.text)\n",
    "            \n",
    "            if bool(search_key_word_res_name):\n",
    "                # if keyword lies in \"residential\" then property_type is assigned as Residential\n",
    "                df_fin.loc[index,\"building_nature\"] = \"Residential\"\n",
    "            elif bool(search_key_word_com_name):\n",
    "                # if keyword lies in \"commercial\" then property_type is assigned as Commercial\n",
    "                df_fin.loc[index,\"building_nature\"] = \"Commercial\" \n",
    "            else:\n",
    "                df_fin.loc[index,\"building_nature\"] = \"None\"\n",
    "            \n",
    "        "
   ]
  },
  {
   "cell_type": "code",
   "execution_count": null,
   "id": "520e5ef0",
   "metadata": {},
   "outputs": [],
   "source": []
  },
  {
   "cell_type": "code",
   "execution_count": 265,
   "id": "435a155d",
   "metadata": {},
   "outputs": [],
   "source": [
    "#df_fin.loc[1,\"property_type\"]"
   ]
  },
  {
   "cell_type": "code",
   "execution_count": 61,
   "id": "bccef88c",
   "metadata": {},
   "outputs": [
    {
     "name": "stdout",
     "output_type": "stream",
     "text": [
      "<class 'pandas.core.frame.DataFrame'>\n",
      "Int64Index: 129 entries, 0 to 152\n",
      "Data columns (total 26 columns):\n",
      " #   Column                    Non-Null Count  Dtype  \n",
      "---  ------                    --------------  -----  \n",
      " 0   Name                      129 non-null    object \n",
      " 1   num_bath_rooms            129 non-null    float64\n",
      " 2   num_bed_rooms             129 non-null    float64\n",
      " 3   area                      129 non-null    float64\n",
      " 4   Description               124 non-null    object \n",
      " 5   purpose                   129 non-null    object \n",
      " 6   building_type             129 non-null    object \n",
      " 7   price                     129 non-null    float64\n",
      " 8   AD URL                    129 non-null    object \n",
      " 9   city                      129 non-null    object \n",
      " 10  locality                  129 non-null    object \n",
      " 11  address                   129 non-null    object \n",
      " 12  pool-amenity              129 non-null    object \n",
      " 13  grill-amenity             129 non-null    object \n",
      " 14  computer-amenity          129 non-null    object \n",
      " 15  air-conditioning-amenity  129 non-null    object \n",
      " 16  cable-tv-amenity          129 non-null    object \n",
      " 17  dishwasher-amenity        129 non-null    object \n",
      " 18  lift-amenity              129 non-null    object \n",
      " 19  heating-amenity           129 non-null    object \n",
      " 20  microwave-amenity         129 non-null    object \n",
      " 21  balcony-amenity           129 non-null    object \n",
      " 22  internet-amenity          129 non-null    object \n",
      " 23  null-amenity              129 non-null    object \n",
      " 24  parking-amenity           129 non-null    object \n",
      " 25  building_nature           129 non-null    object \n",
      "dtypes: float64(4), object(22)\n",
      "memory usage: 31.3+ KB\n"
     ]
    }
   ],
   "source": [
    "df_fin.info()"
   ]
  },
  {
   "cell_type": "code",
   "execution_count": 62,
   "id": "f38a6f19",
   "metadata": {},
   "outputs": [
    {
     "data": {
      "text/plain": [
       "(array(['None', 'Residential', 'Commercial'], dtype=object),\n",
       " array(['Residential', 'None', 'Commercial'], dtype=object))"
      ]
     },
     "execution_count": 62,
     "metadata": {},
     "output_type": "execute_result"
    }
   ],
   "source": [
    "df_fin[\"building_type\"].unique() , df_fin[\"building_nature\"].unique()"
   ]
  },
  {
   "cell_type": "code",
   "execution_count": 63,
   "id": "13189e71",
   "metadata": {},
   "outputs": [],
   "source": [
    "#df_fin[\"property_type\"] = None"
   ]
  },
  {
   "cell_type": "code",
   "execution_count": 64,
   "id": "1137667b",
   "metadata": {},
   "outputs": [
    {
     "data": {
      "text/plain": [
       "Residential    112\n",
       "None            13\n",
       "Commercial       4\n",
       "Name: building_nature, dtype: int64"
      ]
     },
     "execution_count": 64,
     "metadata": {},
     "output_type": "execute_result"
    }
   ],
   "source": [
    "df_fin[\"building_nature\"].value_counts()"
   ]
  },
  {
   "cell_type": "code",
   "execution_count": 65,
   "id": "6d4cecbd",
   "metadata": {},
   "outputs": [
    {
     "data": {
      "text/plain": [
       "Residential    80\n",
       "None           46\n",
       "Commercial      3\n",
       "Name: building_type, dtype: int64"
      ]
     },
     "execution_count": 65,
     "metadata": {},
     "output_type": "execute_result"
    }
   ],
   "source": [
    "df_fin.building_type.value_counts()"
   ]
  },
  {
   "cell_type": "code",
   "execution_count": null,
   "id": "3b02aed9",
   "metadata": {},
   "outputs": [],
   "source": []
  },
  {
   "cell_type": "code",
   "execution_count": 66,
   "id": "094c2ddd",
   "metadata": {},
   "outputs": [],
   "source": [
    "df_fin.loc[3,\"building_nature\"] = \"Residential\""
   ]
  },
  {
   "cell_type": "code",
   "execution_count": 67,
   "id": "4cd11741",
   "metadata": {
    "scrolled": true
   },
   "outputs": [
    {
     "name": "stdout",
     "output_type": "stream",
     "text": [
      "28 \"Description\": Please Contact the number below for further information: Mo So Hossain018339341110176446828601586364425 Land 45 decimals with the two Cattel shade, caretaker living room toilet and bath with kitchen, Fish with pond, all around boundary and front side wall boundary. Whole property beside of carpeting road, garden full of fruits tree and vegetables plants.For more information do not hesitate to call me.\n",
      "28 \"Name\":30 Khata Plot Selling with All Existing Properties\n",
      "49 \"Description\": Please Contact the number below for further information.City Island Properties 01672322168 A plot of 2.08 plots will be sold Aftab Nagar Project Block E Sector 1 Road 5 Rampura Badda Dhaka Registry has been modded 7 talar pelan will be passed\n",
      "49 \"Name\":2.08 cut plot will be sold Aftab Nagar Project Dhaka\n",
      "54 \"Description\": Please Contact the number below for further information.Macro Properties Limited01780228888 Bashundhara, P block 5 katha Ready plot will be sale:????Block - P ( Adjacent to 300ft wide Eastern Bypass)???? Katha - 05 ( 50ft X 72 ft )????Registration, Mutation and Boundary complete plot.????Front road 25 ft, connecting road 300ft wide eastern by pass.????Very close to 300ft Eastern bypass highway.????Plot price 30 lac per katha (Plot name transfer fee 5 lac per Katha+ registration cost excluding this price).????????This offer for limited time????????✅Contact Only real buyer\n",
      "54 \"Name\":5 Katha Plot for Investment at P Block\n",
      "55 \"Description\": Please Contact the number below for further information: Fahim0191810683701689993837 The place is 5 minutes away from Baunia Bazar in Uttara Bhit. Baunia Mazar is 3-4 places after it. Very quiet environment. You will like the place ????. Suitable for home. The land documents are all in order. There are roads on 2 sides of the place. The place is located in front of three roads. The place is in a very good position. You can come and see in time.\n",
      "55 \"Name\":4 Kattha Plot for Sale in East Baunia, Dhaka\n",
      "56 \"Description\": Not available\n",
      "56 \"Name\":National Housing Project\n",
      "65 \"Description\": Please Contact the number below for further information:\\Property Mart0161158296401711582964\n",
      "65 \"Name\":South facing 3 khata plot for sale en block on 60 feet road, Bashundhara, Dhaka\n",
      "82 \"Description\": LIVE IN LUXURY AT  @ BASHUNDHARA R/A--Ongoing/Al Most Ready-2130 sft-June-202210 Katha-G*9-18More Info....\n",
      "82 \"Name\":JBS Fressia at Block-I, Basahundara R/A-01313717466\n",
      "84 \"Description\": Not available\n",
      "84 \"Name\":Alif Ahil Propertise Ltd.\n",
      "86 \"Description\": PROJECT DETAILS: •NAME: Moyen's M.A. Tower •FACING: SOUTH (FRONT SIDE 40 FEET ROAD) •HEIGHT: B+G+9 •UNIT: 4 UNITS PER FLOOR •PARKING: AVAILABLE •PLOT AREA: 12.83 KATHA • HAND OVER: JULY-2022 APARTMENT INSIDE ARRANGEMENT: •SEPARATE DINING •FAMILY LIVING •KITCHEN •A/C PROVISION •FRIDGE PROVISION •WASHING MACHINE PROVISION •PROVISION FOR GEYSER IN BATHROOMS • GENERATOR CONNECTION AVAILABLE   OTHER FEATURES: 1. Single PASSENGER LIFTS (10 persons). 2. PROVISIONS FOR CABLE TV AND TELEPHONE CONNECTION. 3. 28 UNITS EMERGENCY GENERATOR BACKUP. 4. SPACIOUS LOBBY AND DRIVEWAY. 5. DRIVERS WAITING SPACE WITH OTHER FACILITY. 6. Adjacet to Dakshin Khan Bazar. 7. GAS: IN SUBJECT TO GET PERMISSION. 8. WELL DECORATE WAITING LOUNGE. 9. AUTO STARTED GENERATOR. 10. ROOFTOP COMMUNITY ROOM. 11. GARDEN. 12. INTERCOM. 13. WELL VENTILATED FOR SUFFICIENT AIR FLOW. 14. BANK LOAN FACILITIES. 15. CALM & QUITE AREA. 16. LESS TRAFFIC JAM. 17. HIGH SECURITY. 18. CONSTRUCTION FOLLOW BNBC RULES. 19. ALL FACILITIES AVAILABLE IN MODERN LIVING. 20. EARTHQUAKE RESISTANT STRUCTURE. “No Media Please” For More information visit our website: www.moyenrealestateltd.com\n",
      "86 \"Name\":Moyen's M. A Tower\n",
      "106 \"Description\": Please Contact the number below for further information. Property Communication0173571554101912037155 ???? ????Plot for sale !!! Plot for sale !!! Plot for sale !!!???? ????⏭Exclusive- Lake View Corner Plot > 4 Katha ar Aftanagar,Block- E.⏮???? Code: A 04090120PROB???? Plot Details ???????? Block - E???? Sector- 03???? Road - Av-08???? Plot :- xx???? Facing: South+West???? Plot Size: 4 Katha???? Road Size: 50+30 Feet???? Price: 70 Lac Per Katha Price???? Papers Status :- All Paper Complete.???? Plot Special Feature ???????? At Block- E, Is a posh zone.???? Lush and beautiful location.???? All connecting road developed, you can stay on plot driving car.???? At a time payment no installment available.???? Call for More details.❗❗ Thanks - Property Communication\n",
      "106 \"Name\":Exclusive- Lake View Corner Plot > 4 Katha ar Aftabnagar, Block- E\n",
      "112 \"Description\": Please Contact the number below for further information.\n",
      "Hannan017113873902.20 Katha with 5.5 Floored Building. Location-West malibag, dhaka.(Exactly Shafena Hospital). Total Area 2.25Katha(Approx).1st,2nd Floors has one unit(1400+sq Feet)1master bed,2Bed rooms,2Balconies,kitchen,Modern dining,Drawing,3 Toilets. 3rd ,4th (two units )5th Floor one units (800sq feet).Ground floor has 3car parking with two rooms.\n",
      "112 \"Name\":5.5 Floor 1400 Sqft Building Is Listed for Sale\n",
      "132 \"Description\": Please Contact the number below for further information: BNA Property Developments0171013967401711472418 ????location: Bashundhara R/a , Baridhara,dhaka-1229 ????land: 4 Khata ????block: M ????serial: Xyz ????land Price: 48 Lac per Khata ( only Land Price ) ????➡Papers : Registration, Mutation, Demarcation Complete.All Paper 100% Complete Thanks Bna Property Developments S.S Complex, Ka-6 / B, Level-3, Bashundhara Road, Dhaka-1229\n",
      "132 \"Name\":Land for Sale in an Excellent Location M-Block, Bashundhara, Dhaka\n"
     ]
    }
   ],
   "source": [
    "# the indexes of the columns are searched whose property_type is None or cannot be differentiated as \n",
    "# \"Residential\" or \"Commercial\"\n",
    "for number in df_fin[df_fin[\"building_nature\"] == \"None\"].index:\n",
    "            \n",
    "    print(f'{number} \"Description\": {translator.translate(df_fin.loc[number,\"Description\"]).text}')\n",
    "    print(f'{number} \"Name\":{translator.translate(df_fin.loc[number,\"Name\"]).text}')\n",
    " \n"
   ]
  },
  {
   "cell_type": "code",
   "execution_count": 68,
   "id": "11cf9aee",
   "metadata": {},
   "outputs": [],
   "source": [
    "df_fin[\"building_nature\"] = df_fin[\"building_nature\"].replace(\"None\",np.nan)\n",
    "df_fin.dropna(subset = [\"building_nature\"],inplace = True)"
   ]
  },
  {
   "cell_type": "code",
   "execution_count": 69,
   "id": "5f43bf74",
   "metadata": {},
   "outputs": [
    {
     "data": {
      "text/plain": [
       "<AxesSubplot:xlabel='building_nature', ylabel='count'>"
      ]
     },
     "execution_count": 69,
     "metadata": {},
     "output_type": "execute_result"
    },
    {
     "data": {
      "image/png": "[encoded data removed]",
      "text/plain": [
       "<Figure size 720x360 with 1 Axes>"
      ]
     },
     "metadata": {
      "needs_background": "light"
     },
     "output_type": "display_data"
    }
   ],
   "source": [
    "plt.figure(figsize = (10,5))\n",
    "sns.countplot(x = \"building_nature\",data = df_fin)"
   ]
  },
  {
   "cell_type": "code",
   "execution_count": null,
   "id": "95bf1ae6",
   "metadata": {},
   "outputs": [],
   "source": []
  },
  {
   "cell_type": "code",
   "execution_count": 70,
   "id": "0538268e",
   "metadata": {},
   "outputs": [],
   "source": [
    "df_fin.drop(columns = [\"Name\"],axis = 1,inplace = True)"
   ]
  },
  {
   "cell_type": "code",
   "execution_count": 71,
   "id": "f6310c72",
   "metadata": {},
   "outputs": [
    {
     "name": "stdout",
     "output_type": "stream",
     "text": [
      "<class 'pandas.core.frame.DataFrame'>\n",
      "Int64Index: 117 entries, 0 to 152\n",
      "Data columns (total 25 columns):\n",
      " #   Column                    Non-Null Count  Dtype  \n",
      "---  ------                    --------------  -----  \n",
      " 0   num_bath_rooms            117 non-null    float64\n",
      " 1   num_bed_rooms             117 non-null    float64\n",
      " 2   area                      117 non-null    float64\n",
      " 3   Description               112 non-null    object \n",
      " 4   purpose                   117 non-null    object \n",
      " 5   building_type             117 non-null    object \n",
      " 6   price                     117 non-null    float64\n",
      " 7   AD URL                    117 non-null    object \n",
      " 8   city                      117 non-null    object \n",
      " 9   locality                  117 non-null    object \n",
      " 10  address                   117 non-null    object \n",
      " 11  pool-amenity              117 non-null    object \n",
      " 12  grill-amenity             117 non-null    object \n",
      " 13  computer-amenity          117 non-null    object \n",
      " 14  air-conditioning-amenity  117 non-null    object \n",
      " 15  cable-tv-amenity          117 non-null    object \n",
      " 16  dishwasher-amenity        117 non-null    object \n",
      " 17  lift-amenity              117 non-null    object \n",
      " 18  heating-amenity           117 non-null    object \n",
      " 19  microwave-amenity         117 non-null    object \n",
      " 20  balcony-amenity           117 non-null    object \n",
      " 21  internet-amenity          117 non-null    object \n",
      " 22  null-amenity              117 non-null    object \n",
      " 23  parking-amenity           117 non-null    object \n",
      " 24  building_nature           117 non-null    object \n",
      "dtypes: float64(4), object(21)\n",
      "memory usage: 23.8+ KB\n"
     ]
    }
   ],
   "source": [
    "df_fin.info()"
   ]
  },
  {
   "cell_type": "code",
   "execution_count": 72,
   "id": "84f3dae9",
   "metadata": {},
   "outputs": [],
   "source": [
    "df_fin.rename(columns = {\"Description\":\"property_description\"},inplace = True)"
   ]
  },
  {
   "cell_type": "code",
   "execution_count": 73,
   "id": "502afc9e",
   "metadata": {},
   "outputs": [],
   "source": [
    "df_fin.drop(columns = [\"building_type\"],axis = 1,inplace = True)"
   ]
  },
  {
   "cell_type": "code",
   "execution_count": 74,
   "id": "c7e39e1a",
   "metadata": {},
   "outputs": [
    {
     "name": "stdout",
     "output_type": "stream",
     "text": [
      "<class 'pandas.core.frame.DataFrame'>\n",
      "Int64Index: 117 entries, 0 to 152\n",
      "Data columns (total 24 columns):\n",
      " #   Column                    Non-Null Count  Dtype  \n",
      "---  ------                    --------------  -----  \n",
      " 0   num_bath_rooms            117 non-null    float64\n",
      " 1   num_bed_rooms             117 non-null    float64\n",
      " 2   area                      117 non-null    float64\n",
      " 3   property_description      112 non-null    object \n",
      " 4   purpose                   117 non-null    object \n",
      " 5   price                     117 non-null    float64\n",
      " 6   AD URL                    117 non-null    object \n",
      " 7   city                      117 non-null    object \n",
      " 8   locality                  117 non-null    object \n",
      " 9   address                   117 non-null    object \n",
      " 10  pool-amenity              117 non-null    object \n",
      " 11  grill-amenity             117 non-null    object \n",
      " 12  computer-amenity          117 non-null    object \n",
      " 13  air-conditioning-amenity  117 non-null    object \n",
      " 14  cable-tv-amenity          117 non-null    object \n",
      " 15  dishwasher-amenity        117 non-null    object \n",
      " 16  lift-amenity              117 non-null    object \n",
      " 17  heating-amenity           117 non-null    object \n",
      " 18  microwave-amenity         117 non-null    object \n",
      " 19  balcony-amenity           117 non-null    object \n",
      " 20  internet-amenity          117 non-null    object \n",
      " 21  null-amenity              117 non-null    object \n",
      " 22  parking-amenity           117 non-null    object \n",
      " 23  building_nature           117 non-null    object \n",
      "dtypes: float64(4), object(20)\n",
      "memory usage: 22.9+ KB\n"
     ]
    }
   ],
   "source": [
    "df_fin.info()"
   ]
  },
  {
   "cell_type": "code",
   "execution_count": 75,
   "id": "0fde8432",
   "metadata": {},
   "outputs": [],
   "source": [
    "df_fin.rename(columns = {\"AD URL\":\"property_url\"},inplace = True)"
   ]
  },
  {
   "cell_type": "code",
   "execution_count": 76,
   "id": "afd0553a",
   "metadata": {},
   "outputs": [
    {
     "name": "stdout",
     "output_type": "stream",
     "text": [
      "<class 'pandas.core.frame.DataFrame'>\n",
      "Int64Index: 117 entries, 0 to 152\n",
      "Data columns (total 24 columns):\n",
      " #   Column                    Non-Null Count  Dtype  \n",
      "---  ------                    --------------  -----  \n",
      " 0   num_bath_rooms            117 non-null    float64\n",
      " 1   num_bed_rooms             117 non-null    float64\n",
      " 2   area                      117 non-null    float64\n",
      " 3   property_description      112 non-null    object \n",
      " 4   purpose                   117 non-null    object \n",
      " 5   price                     117 non-null    float64\n",
      " 6   property_url              117 non-null    object \n",
      " 7   city                      117 non-null    object \n",
      " 8   locality                  117 non-null    object \n",
      " 9   address                   117 non-null    object \n",
      " 10  pool-amenity              117 non-null    object \n",
      " 11  grill-amenity             117 non-null    object \n",
      " 12  computer-amenity          117 non-null    object \n",
      " 13  air-conditioning-amenity  117 non-null    object \n",
      " 14  cable-tv-amenity          117 non-null    object \n",
      " 15  dishwasher-amenity        117 non-null    object \n",
      " 16  lift-amenity              117 non-null    object \n",
      " 17  heating-amenity           117 non-null    object \n",
      " 18  microwave-amenity         117 non-null    object \n",
      " 19  balcony-amenity           117 non-null    object \n",
      " 20  internet-amenity          117 non-null    object \n",
      " 21  null-amenity              117 non-null    object \n",
      " 22  parking-amenity           117 non-null    object \n",
      " 23  building_nature           117 non-null    object \n",
      "dtypes: float64(4), object(20)\n",
      "memory usage: 22.9+ KB\n"
     ]
    }
   ],
   "source": [
    "df_fin.info()"
   ]
  },
  {
   "cell_type": "code",
   "execution_count": 77,
   "id": "474ceccb",
   "metadata": {},
   "outputs": [],
   "source": [
    "df_fin.to_csv(\"cleaned_estatemartbd.csv\",index = False)\n"
   ]
  }
 ],
 "metadata": {
  "kernelspec": {
   "display_name": "Python 3 (ipykernel)",
   "language": "python",
   "name": "python3"
  },
  "language_info": {
   "codemirror_mode": {
    "name": "ipython",
    "version": 3
   },
   "file_extension": ".py",
   "mimetype": "text/x-python",
   "name": "python",
   "nbconvert_exporter": "python",
   "pygments_lexer": "ipython3",
   "version": "3.10.1"
  }
 },
 "nbformat": 4,
 "nbformat_minor": 5
}
