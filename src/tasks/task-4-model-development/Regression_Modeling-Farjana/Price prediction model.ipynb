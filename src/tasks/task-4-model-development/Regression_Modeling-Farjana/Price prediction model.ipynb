{
 "cells": [
  {
   "cell_type": "code",
   "execution_count": 1,
   "id": "a2cad62c",
   "metadata": {},
   "outputs": [],
   "source": [
    "import numpy as np\n",
    "import pandas as pd\n",
    "import matplotlib.pyplot as plt\n",
    "import numpy as np\n",
    "import seaborn as sns\n",
    "from sklearn import metrics\n",
    "from sklearn.model_selection import GridSearchCV\n",
    "from sklearn.metrics import mean_squared_error , r2_score, mean_absolute_error"
   ]
  },
  {
   "cell_type": "code",
   "execution_count": 2,
   "id": "4b6b415a",
   "metadata": {},
   "outputs": [
    {
     "name": "stderr",
     "output_type": "stream",
     "text": [
      "C:\\Users\\Jamil\\AppData\\Local\\Temp\\ipykernel_2832\\2186388098.py:2: DtypeWarning: Columns (3) have mixed types. Specify dtype option on import or set low_memory=False.\n",
      "  df  = pd.read_csv(path)\n"
     ]
    },
    {
     "data": {
      "text/html": [
       "<div>\n",
       "<style scoped>\n",
       "    .dataframe tbody tr th:only-of-type {\n",
       "        vertical-align: middle;\n",
       "    }\n",
       "\n",
       "    .dataframe tbody tr th {\n",
       "        vertical-align: top;\n",
       "    }\n",
       "\n",
       "    .dataframe thead th {\n",
       "        text-align: right;\n",
       "    }\n",
       "</style>\n",
       "<table border=\"1\" class=\"dataframe\">\n",
       "  <thead>\n",
       "    <tr style=\"text-align: right;\">\n",
       "      <th></th>\n",
       "      <th>0</th>\n",
       "      <th>1</th>\n",
       "      <th>2</th>\n",
       "      <th>3</th>\n",
       "      <th>4</th>\n",
       "      <th>5</th>\n",
       "      <th>6</th>\n",
       "      <th>7</th>\n",
       "      <th>8</th>\n",
       "      <th>9</th>\n",
       "    </tr>\n",
       "  </thead>\n",
       "  <tbody>\n",
       "    <tr>\n",
       "      <th>area</th>\n",
       "      <td>1185.0</td>\n",
       "      <td>2464.0</td>\n",
       "      <td>1140.0</td>\n",
       "      <td>1920.0</td>\n",
       "      <td>1445.0</td>\n",
       "      <td>925.0</td>\n",
       "      <td>2468.0</td>\n",
       "      <td>1475.0</td>\n",
       "      <td>1066.0</td>\n",
       "      <td>950.0</td>\n",
       "    </tr>\n",
       "    <tr>\n",
       "      <th>building_type</th>\n",
       "      <td>Apartment</td>\n",
       "      <td>Apartment</td>\n",
       "      <td>Apartment</td>\n",
       "      <td>Apartment</td>\n",
       "      <td>Apartment</td>\n",
       "      <td>Apartment</td>\n",
       "      <td>Apartment</td>\n",
       "      <td>Apartment</td>\n",
       "      <td>Apartment</td>\n",
       "      <td>Apartment</td>\n",
       "    </tr>\n",
       "    <tr>\n",
       "      <th>building_nature</th>\n",
       "      <td>Residential</td>\n",
       "      <td>Residential</td>\n",
       "      <td>Residential</td>\n",
       "      <td>Residential</td>\n",
       "      <td>Residential</td>\n",
       "      <td>Residential</td>\n",
       "      <td>Residential</td>\n",
       "      <td>Residential</td>\n",
       "      <td>Residential</td>\n",
       "      <td>Residential</td>\n",
       "    </tr>\n",
       "    <tr>\n",
       "      <th>image_url</th>\n",
       "      <td>https://images-cdn.bproperty.com/thumbnails/15...</td>\n",
       "      <td>https://images-cdn.bproperty.com/thumbnails/15...</td>\n",
       "      <td>https://images-cdn.bproperty.com/thumbnails/15...</td>\n",
       "      <td>https://images-cdn.bproperty.com/thumbnails/15...</td>\n",
       "      <td>https://images-cdn.bproperty.com/thumbnails/15...</td>\n",
       "      <td>https://images-cdn.bproperty.com/thumbnails/15...</td>\n",
       "      <td>https://images-cdn.bproperty.com/thumbnails/15...</td>\n",
       "      <td>https://images-cdn.bproperty.com/thumbnails/15...</td>\n",
       "      <td>https://images-cdn.bproperty.com/thumbnails/13...</td>\n",
       "      <td>https://images-cdn.bproperty.com/thumbnails/15...</td>\n",
       "    </tr>\n",
       "    <tr>\n",
       "      <th>num_bath_rooms</th>\n",
       "      <td>0.0</td>\n",
       "      <td>4.0</td>\n",
       "      <td>0.0</td>\n",
       "      <td>3.0</td>\n",
       "      <td>3.0</td>\n",
       "      <td>0.0</td>\n",
       "      <td>3.0</td>\n",
       "      <td>3.0</td>\n",
       "      <td>2.0</td>\n",
       "      <td>2.0</td>\n",
       "    </tr>\n",
       "    <tr>\n",
       "      <th>num_bed_rooms</th>\n",
       "      <td>3.0</td>\n",
       "      <td>3.0</td>\n",
       "      <td>3.0</td>\n",
       "      <td>3.0</td>\n",
       "      <td>3.0</td>\n",
       "      <td>2.0</td>\n",
       "      <td>3.0</td>\n",
       "      <td>3.0</td>\n",
       "      <td>3.0</td>\n",
       "      <td>2.0</td>\n",
       "    </tr>\n",
       "    <tr>\n",
       "      <th>price</th>\n",
       "      <td>6100000.0</td>\n",
       "      <td>28900000.0</td>\n",
       "      <td>7500000.0</td>\n",
       "      <td>20000000.0</td>\n",
       "      <td>10800000.0</td>\n",
       "      <td>5000000.0</td>\n",
       "      <td>36500000.0</td>\n",
       "      <td>10500000.0</td>\n",
       "      <td>8000000.0</td>\n",
       "      <td>5000000.0</td>\n",
       "    </tr>\n",
       "    <tr>\n",
       "      <th>property_description</th>\n",
       "      <td>Grab This 1185 Sq Ft Beautiful Flat Is Vacant ...</td>\n",
       "      <td>A Vibrant 2464 Sq Ft Residential Flat For Sale...</td>\n",
       "      <td>1140 Sq Ft Nicely Planned Apartment Is Availab...</td>\n",
       "      <td>A Modern Well-planned Apartment Of 1920 Sq Ft ...</td>\n",
       "      <td>1445 Sq Ft Ready Flat For Sale In Banasree, Wi...</td>\n",
       "      <td>Deal With This 925 Sq Ft Ready Flat For Sale I...</td>\n",
       "      <td>Tastefully Designed This 2468 Sq Ft Flat Is No...</td>\n",
       "      <td>At Uttara, A 1475 Sq Ft Well Fitted Residentia...</td>\n",
       "      <td>Attention! A 1066 Sq. Ft Flat Is Up For Sale A...</td>\n",
       "      <td>Here Is A Cozy And Nice Flat Of 950 Sq Ft Wait...</td>\n",
       "    </tr>\n",
       "    <tr>\n",
       "      <th>property_overview</th>\n",
       "      <td>This flat consists of facilities you can think...</td>\n",
       "      <td>Ready to move in somewhere with everything nea...</td>\n",
       "      <td>A spacious 1140  Square Feet apartment in Mirp...</td>\n",
       "      <td>Looking for the perfect home that offers a lux...</td>\n",
       "      <td>Choosing a new home can be an overwhelming exp...</td>\n",
       "      <td>Choosing a new home can be an overwhelming exp...</td>\n",
       "      <td>Looking for an apartment on a budget? Then thi...</td>\n",
       "      <td>End the disparity of wanting a suitable home, ...</td>\n",
       "      <td>So you are looking for a cozy abode? We will h...</td>\n",
       "      <td>Introducing a stunning residential apartment l...</td>\n",
       "    </tr>\n",
       "    <tr>\n",
       "      <th>property_url</th>\n",
       "      <td>https://www.bproperty.com/en/property/details-...</td>\n",
       "      <td>https://www.bproperty.com/en/property/details-...</td>\n",
       "      <td>https://www.bproperty.com/en/property/details-...</td>\n",
       "      <td>https://www.bproperty.com/en/property/details-...</td>\n",
       "      <td>https://www.bproperty.com/en/property/details-...</td>\n",
       "      <td>https://www.bproperty.com/en/property/details-...</td>\n",
       "      <td>https://www.bproperty.com/en/property/details-...</td>\n",
       "      <td>https://www.bproperty.com/en/property/details-...</td>\n",
       "      <td>https://www.bproperty.com/en/property/details-...</td>\n",
       "      <td>https://www.bproperty.com/en/property/details-...</td>\n",
       "    </tr>\n",
       "    <tr>\n",
       "      <th>purpose</th>\n",
       "      <td>Sale</td>\n",
       "      <td>Sale</td>\n",
       "      <td>Sale</td>\n",
       "      <td>Sale</td>\n",
       "      <td>Sale</td>\n",
       "      <td>Sale</td>\n",
       "      <td>Sale</td>\n",
       "      <td>Sale</td>\n",
       "      <td>Sale</td>\n",
       "      <td>Sale</td>\n",
       "    </tr>\n",
       "    <tr>\n",
       "      <th>city</th>\n",
       "      <td>Dhaka</td>\n",
       "      <td>Dhaka</td>\n",
       "      <td>Dhaka</td>\n",
       "      <td>Dhaka</td>\n",
       "      <td>Dhaka</td>\n",
       "      <td>Dhaka</td>\n",
       "      <td>Dhaka</td>\n",
       "      <td>Dhaka</td>\n",
       "      <td>Dhaka</td>\n",
       "      <td>Dhaka</td>\n",
       "    </tr>\n",
       "    <tr>\n",
       "      <th>locality</th>\n",
       "      <td>Khilgaon</td>\n",
       "      <td>Dhanmondi</td>\n",
       "      <td>Mirpur</td>\n",
       "      <td>Bashundhara R-A</td>\n",
       "      <td>Banasree</td>\n",
       "      <td>Khilgaon</td>\n",
       "      <td>Banani</td>\n",
       "      <td>Uttara</td>\n",
       "      <td>Sutrapur</td>\n",
       "      <td>Mirpur</td>\n",
       "    </tr>\n",
       "    <tr>\n",
       "      <th>address</th>\n",
       "      <td>NaN</td>\n",
       "      <td>NaN</td>\n",
       "      <td>Block Ta, Section 6</td>\n",
       "      <td>Block J</td>\n",
       "      <td>Block M, South Banasree Project</td>\n",
       "      <td>NaN</td>\n",
       "      <td>NaN</td>\n",
       "      <td>Sector 10</td>\n",
       "      <td>Narinda</td>\n",
       "      <td>NaN</td>\n",
       "    </tr>\n",
       "    <tr>\n",
       "      <th>id</th>\n",
       "      <td>bproperty-0</td>\n",
       "      <td>bproperty-1</td>\n",
       "      <td>bproperty-2</td>\n",
       "      <td>bproperty-3</td>\n",
       "      <td>bproperty-4</td>\n",
       "      <td>bproperty-5</td>\n",
       "      <td>bproperty-6</td>\n",
       "      <td>bproperty-7</td>\n",
       "      <td>bproperty-8</td>\n",
       "      <td>bproperty-9</td>\n",
       "    </tr>\n",
       "    <tr>\n",
       "      <th>relaxation_amenity_count</th>\n",
       "      <td>0</td>\n",
       "      <td>0</td>\n",
       "      <td>0</td>\n",
       "      <td>0</td>\n",
       "      <td>0</td>\n",
       "      <td>0</td>\n",
       "      <td>0</td>\n",
       "      <td>0</td>\n",
       "      <td>0</td>\n",
       "      <td>0</td>\n",
       "    </tr>\n",
       "    <tr>\n",
       "      <th>security_amenity_count</th>\n",
       "      <td>1</td>\n",
       "      <td>2</td>\n",
       "      <td>2</td>\n",
       "      <td>1</td>\n",
       "      <td>0</td>\n",
       "      <td>1</td>\n",
       "      <td>2</td>\n",
       "      <td>2</td>\n",
       "      <td>1</td>\n",
       "      <td>1</td>\n",
       "    </tr>\n",
       "    <tr>\n",
       "      <th>maintenance_or_cleaning_amenity_count</th>\n",
       "      <td>2</td>\n",
       "      <td>0</td>\n",
       "      <td>2</td>\n",
       "      <td>2</td>\n",
       "      <td>2</td>\n",
       "      <td>2</td>\n",
       "      <td>2</td>\n",
       "      <td>3</td>\n",
       "      <td>2</td>\n",
       "      <td>2</td>\n",
       "    </tr>\n",
       "    <tr>\n",
       "      <th>social_amenity_count</th>\n",
       "      <td>0</td>\n",
       "      <td>0</td>\n",
       "      <td>0</td>\n",
       "      <td>0</td>\n",
       "      <td>0</td>\n",
       "      <td>0</td>\n",
       "      <td>0</td>\n",
       "      <td>0</td>\n",
       "      <td>1</td>\n",
       "      <td>0</td>\n",
       "    </tr>\n",
       "    <tr>\n",
       "      <th>expendable_amenity_count</th>\n",
       "      <td>2</td>\n",
       "      <td>3</td>\n",
       "      <td>2</td>\n",
       "      <td>3</td>\n",
       "      <td>1</td>\n",
       "      <td>2</td>\n",
       "      <td>4</td>\n",
       "      <td>3</td>\n",
       "      <td>4</td>\n",
       "      <td>5</td>\n",
       "    </tr>\n",
       "    <tr>\n",
       "      <th>service_staff_amenity_count</th>\n",
       "      <td>0</td>\n",
       "      <td>0</td>\n",
       "      <td>0</td>\n",
       "      <td>0</td>\n",
       "      <td>0</td>\n",
       "      <td>0</td>\n",
       "      <td>0</td>\n",
       "      <td>0</td>\n",
       "      <td>0</td>\n",
       "      <td>0</td>\n",
       "    </tr>\n",
       "    <tr>\n",
       "      <th>unclassify_amenity_count</th>\n",
       "      <td>3</td>\n",
       "      <td>4</td>\n",
       "      <td>4</td>\n",
       "      <td>3</td>\n",
       "      <td>4</td>\n",
       "      <td>3</td>\n",
       "      <td>4</td>\n",
       "      <td>4</td>\n",
       "      <td>4</td>\n",
       "      <td>3</td>\n",
       "    </tr>\n",
       "    <tr>\n",
       "      <th>division</th>\n",
       "      <td>Dhaka</td>\n",
       "      <td>Dhaka</td>\n",
       "      <td>Dhaka</td>\n",
       "      <td>Dhaka</td>\n",
       "      <td>Dhaka</td>\n",
       "      <td>Dhaka</td>\n",
       "      <td>Dhaka</td>\n",
       "      <td>Dhaka</td>\n",
       "      <td>Dhaka</td>\n",
       "      <td>Dhaka</td>\n",
       "    </tr>\n",
       "    <tr>\n",
       "      <th>zone</th>\n",
       "      <td>Khilgaon</td>\n",
       "      <td>Dhanmondi</td>\n",
       "      <td>Mirpur</td>\n",
       "      <td>Bashundhara R/A</td>\n",
       "      <td>Khilgaon</td>\n",
       "      <td>Khilgaon</td>\n",
       "      <td>Banani</td>\n",
       "      <td>Uttara</td>\n",
       "      <td>Sutrapur</td>\n",
       "      <td>Mirpur</td>\n",
       "    </tr>\n",
       "  </tbody>\n",
       "</table>\n",
       "</div>"
      ],
      "text/plain": [
       "                                                                                       0  \\\n",
       "area                                                                              1185.0   \n",
       "building_type                                                                  Apartment   \n",
       "building_nature                                                              Residential   \n",
       "image_url                              https://images-cdn.bproperty.com/thumbnails/15...   \n",
       "num_bath_rooms                                                                       0.0   \n",
       "num_bed_rooms                                                                        3.0   \n",
       "price                                                                          6100000.0   \n",
       "property_description                   Grab This 1185 Sq Ft Beautiful Flat Is Vacant ...   \n",
       "property_overview                      This flat consists of facilities you can think...   \n",
       "property_url                           https://www.bproperty.com/en/property/details-...   \n",
       "purpose                                                                             Sale   \n",
       "city                                                                               Dhaka   \n",
       "locality                                                                        Khilgaon   \n",
       "address                                                                              NaN   \n",
       "id                                                                           bproperty-0   \n",
       "relaxation_amenity_count                                                               0   \n",
       "security_amenity_count                                                                 1   \n",
       "maintenance_or_cleaning_amenity_count                                                  2   \n",
       "social_amenity_count                                                                   0   \n",
       "expendable_amenity_count                                                               2   \n",
       "service_staff_amenity_count                                                            0   \n",
       "unclassify_amenity_count                                                               3   \n",
       "division                                                                           Dhaka   \n",
       "zone                                                                            Khilgaon   \n",
       "\n",
       "                                                                                       1  \\\n",
       "area                                                                              2464.0   \n",
       "building_type                                                                  Apartment   \n",
       "building_nature                                                              Residential   \n",
       "image_url                              https://images-cdn.bproperty.com/thumbnails/15...   \n",
       "num_bath_rooms                                                                       4.0   \n",
       "num_bed_rooms                                                                        3.0   \n",
       "price                                                                         28900000.0   \n",
       "property_description                   A Vibrant 2464 Sq Ft Residential Flat For Sale...   \n",
       "property_overview                      Ready to move in somewhere with everything nea...   \n",
       "property_url                           https://www.bproperty.com/en/property/details-...   \n",
       "purpose                                                                             Sale   \n",
       "city                                                                               Dhaka   \n",
       "locality                                                                       Dhanmondi   \n",
       "address                                                                              NaN   \n",
       "id                                                                           bproperty-1   \n",
       "relaxation_amenity_count                                                               0   \n",
       "security_amenity_count                                                                 2   \n",
       "maintenance_or_cleaning_amenity_count                                                  0   \n",
       "social_amenity_count                                                                   0   \n",
       "expendable_amenity_count                                                               3   \n",
       "service_staff_amenity_count                                                            0   \n",
       "unclassify_amenity_count                                                               4   \n",
       "division                                                                           Dhaka   \n",
       "zone                                                                           Dhanmondi   \n",
       "\n",
       "                                                                                       2  \\\n",
       "area                                                                              1140.0   \n",
       "building_type                                                                  Apartment   \n",
       "building_nature                                                              Residential   \n",
       "image_url                              https://images-cdn.bproperty.com/thumbnails/15...   \n",
       "num_bath_rooms                                                                       0.0   \n",
       "num_bed_rooms                                                                        3.0   \n",
       "price                                                                          7500000.0   \n",
       "property_description                   1140 Sq Ft Nicely Planned Apartment Is Availab...   \n",
       "property_overview                      A spacious 1140  Square Feet apartment in Mirp...   \n",
       "property_url                           https://www.bproperty.com/en/property/details-...   \n",
       "purpose                                                                             Sale   \n",
       "city                                                                               Dhaka   \n",
       "locality                                                                          Mirpur   \n",
       "address                                                              Block Ta, Section 6   \n",
       "id                                                                           bproperty-2   \n",
       "relaxation_amenity_count                                                               0   \n",
       "security_amenity_count                                                                 2   \n",
       "maintenance_or_cleaning_amenity_count                                                  2   \n",
       "social_amenity_count                                                                   0   \n",
       "expendable_amenity_count                                                               2   \n",
       "service_staff_amenity_count                                                            0   \n",
       "unclassify_amenity_count                                                               4   \n",
       "division                                                                           Dhaka   \n",
       "zone                                                                              Mirpur   \n",
       "\n",
       "                                                                                       3  \\\n",
       "area                                                                              1920.0   \n",
       "building_type                                                                  Apartment   \n",
       "building_nature                                                              Residential   \n",
       "image_url                              https://images-cdn.bproperty.com/thumbnails/15...   \n",
       "num_bath_rooms                                                                       3.0   \n",
       "num_bed_rooms                                                                        3.0   \n",
       "price                                                                         20000000.0   \n",
       "property_description                   A Modern Well-planned Apartment Of 1920 Sq Ft ...   \n",
       "property_overview                      Looking for the perfect home that offers a lux...   \n",
       "property_url                           https://www.bproperty.com/en/property/details-...   \n",
       "purpose                                                                             Sale   \n",
       "city                                                                               Dhaka   \n",
       "locality                                                                 Bashundhara R-A   \n",
       "address                                                                          Block J   \n",
       "id                                                                           bproperty-3   \n",
       "relaxation_amenity_count                                                               0   \n",
       "security_amenity_count                                                                 1   \n",
       "maintenance_or_cleaning_amenity_count                                                  2   \n",
       "social_amenity_count                                                                   0   \n",
       "expendable_amenity_count                                                               3   \n",
       "service_staff_amenity_count                                                            0   \n",
       "unclassify_amenity_count                                                               3   \n",
       "division                                                                           Dhaka   \n",
       "zone                                                                     Bashundhara R/A   \n",
       "\n",
       "                                                                                       4  \\\n",
       "area                                                                              1445.0   \n",
       "building_type                                                                  Apartment   \n",
       "building_nature                                                              Residential   \n",
       "image_url                              https://images-cdn.bproperty.com/thumbnails/15...   \n",
       "num_bath_rooms                                                                       3.0   \n",
       "num_bed_rooms                                                                        3.0   \n",
       "price                                                                         10800000.0   \n",
       "property_description                   1445 Sq Ft Ready Flat For Sale In Banasree, Wi...   \n",
       "property_overview                      Choosing a new home can be an overwhelming exp...   \n",
       "property_url                           https://www.bproperty.com/en/property/details-...   \n",
       "purpose                                                                             Sale   \n",
       "city                                                                               Dhaka   \n",
       "locality                                                                        Banasree   \n",
       "address                                                  Block M, South Banasree Project   \n",
       "id                                                                           bproperty-4   \n",
       "relaxation_amenity_count                                                               0   \n",
       "security_amenity_count                                                                 0   \n",
       "maintenance_or_cleaning_amenity_count                                                  2   \n",
       "social_amenity_count                                                                   0   \n",
       "expendable_amenity_count                                                               1   \n",
       "service_staff_amenity_count                                                            0   \n",
       "unclassify_amenity_count                                                               4   \n",
       "division                                                                           Dhaka   \n",
       "zone                                                                            Khilgaon   \n",
       "\n",
       "                                                                                       5  \\\n",
       "area                                                                               925.0   \n",
       "building_type                                                                  Apartment   \n",
       "building_nature                                                              Residential   \n",
       "image_url                              https://images-cdn.bproperty.com/thumbnails/15...   \n",
       "num_bath_rooms                                                                       0.0   \n",
       "num_bed_rooms                                                                        2.0   \n",
       "price                                                                          5000000.0   \n",
       "property_description                   Deal With This 925 Sq Ft Ready Flat For Sale I...   \n",
       "property_overview                      Choosing a new home can be an overwhelming exp...   \n",
       "property_url                           https://www.bproperty.com/en/property/details-...   \n",
       "purpose                                                                             Sale   \n",
       "city                                                                               Dhaka   \n",
       "locality                                                                        Khilgaon   \n",
       "address                                                                              NaN   \n",
       "id                                                                           bproperty-5   \n",
       "relaxation_amenity_count                                                               0   \n",
       "security_amenity_count                                                                 1   \n",
       "maintenance_or_cleaning_amenity_count                                                  2   \n",
       "social_amenity_count                                                                   0   \n",
       "expendable_amenity_count                                                               2   \n",
       "service_staff_amenity_count                                                            0   \n",
       "unclassify_amenity_count                                                               3   \n",
       "division                                                                           Dhaka   \n",
       "zone                                                                            Khilgaon   \n",
       "\n",
       "                                                                                       6  \\\n",
       "area                                                                              2468.0   \n",
       "building_type                                                                  Apartment   \n",
       "building_nature                                                              Residential   \n",
       "image_url                              https://images-cdn.bproperty.com/thumbnails/15...   \n",
       "num_bath_rooms                                                                       3.0   \n",
       "num_bed_rooms                                                                        3.0   \n",
       "price                                                                         36500000.0   \n",
       "property_description                   Tastefully Designed This 2468 Sq Ft Flat Is No...   \n",
       "property_overview                      Looking for an apartment on a budget? Then thi...   \n",
       "property_url                           https://www.bproperty.com/en/property/details-...   \n",
       "purpose                                                                             Sale   \n",
       "city                                                                               Dhaka   \n",
       "locality                                                                          Banani   \n",
       "address                                                                              NaN   \n",
       "id                                                                           bproperty-6   \n",
       "relaxation_amenity_count                                                               0   \n",
       "security_amenity_count                                                                 2   \n",
       "maintenance_or_cleaning_amenity_count                                                  2   \n",
       "social_amenity_count                                                                   0   \n",
       "expendable_amenity_count                                                               4   \n",
       "service_staff_amenity_count                                                            0   \n",
       "unclassify_amenity_count                                                               4   \n",
       "division                                                                           Dhaka   \n",
       "zone                                                                              Banani   \n",
       "\n",
       "                                                                                       7  \\\n",
       "area                                                                              1475.0   \n",
       "building_type                                                                  Apartment   \n",
       "building_nature                                                              Residential   \n",
       "image_url                              https://images-cdn.bproperty.com/thumbnails/15...   \n",
       "num_bath_rooms                                                                       3.0   \n",
       "num_bed_rooms                                                                        3.0   \n",
       "price                                                                         10500000.0   \n",
       "property_description                   At Uttara, A 1475 Sq Ft Well Fitted Residentia...   \n",
       "property_overview                      End the disparity of wanting a suitable home, ...   \n",
       "property_url                           https://www.bproperty.com/en/property/details-...   \n",
       "purpose                                                                             Sale   \n",
       "city                                                                               Dhaka   \n",
       "locality                                                                          Uttara   \n",
       "address                                                                        Sector 10   \n",
       "id                                                                           bproperty-7   \n",
       "relaxation_amenity_count                                                               0   \n",
       "security_amenity_count                                                                 2   \n",
       "maintenance_or_cleaning_amenity_count                                                  3   \n",
       "social_amenity_count                                                                   0   \n",
       "expendable_amenity_count                                                               3   \n",
       "service_staff_amenity_count                                                            0   \n",
       "unclassify_amenity_count                                                               4   \n",
       "division                                                                           Dhaka   \n",
       "zone                                                                              Uttara   \n",
       "\n",
       "                                                                                       8  \\\n",
       "area                                                                              1066.0   \n",
       "building_type                                                                  Apartment   \n",
       "building_nature                                                              Residential   \n",
       "image_url                              https://images-cdn.bproperty.com/thumbnails/13...   \n",
       "num_bath_rooms                                                                       2.0   \n",
       "num_bed_rooms                                                                        3.0   \n",
       "price                                                                          8000000.0   \n",
       "property_description                   Attention! A 1066 Sq. Ft Flat Is Up For Sale A...   \n",
       "property_overview                      So you are looking for a cozy abode? We will h...   \n",
       "property_url                           https://www.bproperty.com/en/property/details-...   \n",
       "purpose                                                                             Sale   \n",
       "city                                                                               Dhaka   \n",
       "locality                                                                        Sutrapur   \n",
       "address                                                                          Narinda   \n",
       "id                                                                           bproperty-8   \n",
       "relaxation_amenity_count                                                               0   \n",
       "security_amenity_count                                                                 1   \n",
       "maintenance_or_cleaning_amenity_count                                                  2   \n",
       "social_amenity_count                                                                   1   \n",
       "expendable_amenity_count                                                               4   \n",
       "service_staff_amenity_count                                                            0   \n",
       "unclassify_amenity_count                                                               4   \n",
       "division                                                                           Dhaka   \n",
       "zone                                                                            Sutrapur   \n",
       "\n",
       "                                                                                       9  \n",
       "area                                                                               950.0  \n",
       "building_type                                                                  Apartment  \n",
       "building_nature                                                              Residential  \n",
       "image_url                              https://images-cdn.bproperty.com/thumbnails/15...  \n",
       "num_bath_rooms                                                                       2.0  \n",
       "num_bed_rooms                                                                        2.0  \n",
       "price                                                                          5000000.0  \n",
       "property_description                   Here Is A Cozy And Nice Flat Of 950 Sq Ft Wait...  \n",
       "property_overview                      Introducing a stunning residential apartment l...  \n",
       "property_url                           https://www.bproperty.com/en/property/details-...  \n",
       "purpose                                                                             Sale  \n",
       "city                                                                               Dhaka  \n",
       "locality                                                                          Mirpur  \n",
       "address                                                                              NaN  \n",
       "id                                                                           bproperty-9  \n",
       "relaxation_amenity_count                                                               0  \n",
       "security_amenity_count                                                                 1  \n",
       "maintenance_or_cleaning_amenity_count                                                  2  \n",
       "social_amenity_count                                                                   0  \n",
       "expendable_amenity_count                                                               5  \n",
       "service_staff_amenity_count                                                            0  \n",
       "unclassify_amenity_count                                                               3  \n",
       "division                                                                           Dhaka  \n",
       "zone                                                                              Mirpur  "
      ]
     },
     "execution_count": 2,
     "metadata": {},
     "output_type": "execute_result"
    }
   ],
   "source": [
    "path = r\"C:\\Users\\Jamil\\Desktop\\Untitled Folder\\New folder/cleaned_merged_datasets.csv\"\n",
    "df  = pd.read_csv(path)\n",
    "df.head(10).T"
   ]
  },
  {
   "cell_type": "code",
   "execution_count": 3,
   "id": "847d622a",
   "metadata": {},
   "outputs": [
    {
     "data": {
      "text/plain": [
       "(33701, 24)"
      ]
     },
     "execution_count": 3,
     "metadata": {},
     "output_type": "execute_result"
    }
   ],
   "source": [
    "df.shape"
   ]
  },
  {
   "cell_type": "code",
   "execution_count": 4,
   "id": "a7653f84",
   "metadata": {},
   "outputs": [
    {
     "data": {
      "text/html": [
       "<div>\n",
       "<style scoped>\n",
       "    .dataframe tbody tr th:only-of-type {\n",
       "        vertical-align: middle;\n",
       "    }\n",
       "\n",
       "    .dataframe tbody tr th {\n",
       "        vertical-align: top;\n",
       "    }\n",
       "\n",
       "    .dataframe thead th {\n",
       "        text-align: right;\n",
       "    }\n",
       "</style>\n",
       "<table border=\"1\" class=\"dataframe\">\n",
       "  <thead>\n",
       "    <tr style=\"text-align: right;\">\n",
       "      <th></th>\n",
       "      <th>0</th>\n",
       "      <th>1</th>\n",
       "      <th>2</th>\n",
       "      <th>3</th>\n",
       "      <th>4</th>\n",
       "      <th>5</th>\n",
       "      <th>6</th>\n",
       "      <th>7</th>\n",
       "      <th>8</th>\n",
       "      <th>9</th>\n",
       "    </tr>\n",
       "  </thead>\n",
       "  <tbody>\n",
       "    <tr>\n",
       "      <th>area</th>\n",
       "      <td>1185.0</td>\n",
       "      <td>2464.0</td>\n",
       "      <td>1140.0</td>\n",
       "      <td>1920.0</td>\n",
       "      <td>1445.0</td>\n",
       "      <td>925.0</td>\n",
       "      <td>2468.0</td>\n",
       "      <td>1475.0</td>\n",
       "      <td>1066.0</td>\n",
       "      <td>950.0</td>\n",
       "    </tr>\n",
       "    <tr>\n",
       "      <th>building_type</th>\n",
       "      <td>Apartment</td>\n",
       "      <td>Apartment</td>\n",
       "      <td>Apartment</td>\n",
       "      <td>Apartment</td>\n",
       "      <td>Apartment</td>\n",
       "      <td>Apartment</td>\n",
       "      <td>Apartment</td>\n",
       "      <td>Apartment</td>\n",
       "      <td>Apartment</td>\n",
       "      <td>Apartment</td>\n",
       "    </tr>\n",
       "    <tr>\n",
       "      <th>building_nature</th>\n",
       "      <td>Residential</td>\n",
       "      <td>Residential</td>\n",
       "      <td>Residential</td>\n",
       "      <td>Residential</td>\n",
       "      <td>Residential</td>\n",
       "      <td>Residential</td>\n",
       "      <td>Residential</td>\n",
       "      <td>Residential</td>\n",
       "      <td>Residential</td>\n",
       "      <td>Residential</td>\n",
       "    </tr>\n",
       "    <tr>\n",
       "      <th>num_bath_rooms</th>\n",
       "      <td>0.0</td>\n",
       "      <td>4.0</td>\n",
       "      <td>0.0</td>\n",
       "      <td>3.0</td>\n",
       "      <td>3.0</td>\n",
       "      <td>0.0</td>\n",
       "      <td>3.0</td>\n",
       "      <td>3.0</td>\n",
       "      <td>2.0</td>\n",
       "      <td>2.0</td>\n",
       "    </tr>\n",
       "    <tr>\n",
       "      <th>num_bed_rooms</th>\n",
       "      <td>3.0</td>\n",
       "      <td>3.0</td>\n",
       "      <td>3.0</td>\n",
       "      <td>3.0</td>\n",
       "      <td>3.0</td>\n",
       "      <td>2.0</td>\n",
       "      <td>3.0</td>\n",
       "      <td>3.0</td>\n",
       "      <td>3.0</td>\n",
       "      <td>2.0</td>\n",
       "    </tr>\n",
       "    <tr>\n",
       "      <th>price</th>\n",
       "      <td>6100000.0</td>\n",
       "      <td>28900000.0</td>\n",
       "      <td>7500000.0</td>\n",
       "      <td>20000000.0</td>\n",
       "      <td>10800000.0</td>\n",
       "      <td>5000000.0</td>\n",
       "      <td>36500000.0</td>\n",
       "      <td>10500000.0</td>\n",
       "      <td>8000000.0</td>\n",
       "      <td>5000000.0</td>\n",
       "    </tr>\n",
       "    <tr>\n",
       "      <th>purpose</th>\n",
       "      <td>Sale</td>\n",
       "      <td>Sale</td>\n",
       "      <td>Sale</td>\n",
       "      <td>Sale</td>\n",
       "      <td>Sale</td>\n",
       "      <td>Sale</td>\n",
       "      <td>Sale</td>\n",
       "      <td>Sale</td>\n",
       "      <td>Sale</td>\n",
       "      <td>Sale</td>\n",
       "    </tr>\n",
       "    <tr>\n",
       "      <th>city</th>\n",
       "      <td>Dhaka</td>\n",
       "      <td>Dhaka</td>\n",
       "      <td>Dhaka</td>\n",
       "      <td>Dhaka</td>\n",
       "      <td>Dhaka</td>\n",
       "      <td>Dhaka</td>\n",
       "      <td>Dhaka</td>\n",
       "      <td>Dhaka</td>\n",
       "      <td>Dhaka</td>\n",
       "      <td>Dhaka</td>\n",
       "    </tr>\n",
       "    <tr>\n",
       "      <th>relaxation_amenity_count</th>\n",
       "      <td>0</td>\n",
       "      <td>0</td>\n",
       "      <td>0</td>\n",
       "      <td>0</td>\n",
       "      <td>0</td>\n",
       "      <td>0</td>\n",
       "      <td>0</td>\n",
       "      <td>0</td>\n",
       "      <td>0</td>\n",
       "      <td>0</td>\n",
       "    </tr>\n",
       "    <tr>\n",
       "      <th>security_amenity_count</th>\n",
       "      <td>1</td>\n",
       "      <td>2</td>\n",
       "      <td>2</td>\n",
       "      <td>1</td>\n",
       "      <td>0</td>\n",
       "      <td>1</td>\n",
       "      <td>2</td>\n",
       "      <td>2</td>\n",
       "      <td>1</td>\n",
       "      <td>1</td>\n",
       "    </tr>\n",
       "    <tr>\n",
       "      <th>maintenance_or_cleaning_amenity_count</th>\n",
       "      <td>2</td>\n",
       "      <td>0</td>\n",
       "      <td>2</td>\n",
       "      <td>2</td>\n",
       "      <td>2</td>\n",
       "      <td>2</td>\n",
       "      <td>2</td>\n",
       "      <td>3</td>\n",
       "      <td>2</td>\n",
       "      <td>2</td>\n",
       "    </tr>\n",
       "    <tr>\n",
       "      <th>social_amenity_count</th>\n",
       "      <td>0</td>\n",
       "      <td>0</td>\n",
       "      <td>0</td>\n",
       "      <td>0</td>\n",
       "      <td>0</td>\n",
       "      <td>0</td>\n",
       "      <td>0</td>\n",
       "      <td>0</td>\n",
       "      <td>1</td>\n",
       "      <td>0</td>\n",
       "    </tr>\n",
       "    <tr>\n",
       "      <th>expendable_amenity_count</th>\n",
       "      <td>2</td>\n",
       "      <td>3</td>\n",
       "      <td>2</td>\n",
       "      <td>3</td>\n",
       "      <td>1</td>\n",
       "      <td>2</td>\n",
       "      <td>4</td>\n",
       "      <td>3</td>\n",
       "      <td>4</td>\n",
       "      <td>5</td>\n",
       "    </tr>\n",
       "    <tr>\n",
       "      <th>service_staff_amenity_count</th>\n",
       "      <td>0</td>\n",
       "      <td>0</td>\n",
       "      <td>0</td>\n",
       "      <td>0</td>\n",
       "      <td>0</td>\n",
       "      <td>0</td>\n",
       "      <td>0</td>\n",
       "      <td>0</td>\n",
       "      <td>0</td>\n",
       "      <td>0</td>\n",
       "    </tr>\n",
       "    <tr>\n",
       "      <th>unclassify_amenity_count</th>\n",
       "      <td>3</td>\n",
       "      <td>4</td>\n",
       "      <td>4</td>\n",
       "      <td>3</td>\n",
       "      <td>4</td>\n",
       "      <td>3</td>\n",
       "      <td>4</td>\n",
       "      <td>4</td>\n",
       "      <td>4</td>\n",
       "      <td>3</td>\n",
       "    </tr>\n",
       "    <tr>\n",
       "      <th>zone</th>\n",
       "      <td>Khilgaon</td>\n",
       "      <td>Dhanmondi</td>\n",
       "      <td>Mirpur</td>\n",
       "      <td>Bashundhara R/A</td>\n",
       "      <td>Khilgaon</td>\n",
       "      <td>Khilgaon</td>\n",
       "      <td>Banani</td>\n",
       "      <td>Uttara</td>\n",
       "      <td>Sutrapur</td>\n",
       "      <td>Mirpur</td>\n",
       "    </tr>\n",
       "  </tbody>\n",
       "</table>\n",
       "</div>"
      ],
      "text/plain": [
       "                                                 0            1            2  \\\n",
       "area                                        1185.0       2464.0       1140.0   \n",
       "building_type                            Apartment    Apartment    Apartment   \n",
       "building_nature                        Residential  Residential  Residential   \n",
       "num_bath_rooms                                 0.0          4.0          0.0   \n",
       "num_bed_rooms                                  3.0          3.0          3.0   \n",
       "price                                    6100000.0   28900000.0    7500000.0   \n",
       "purpose                                       Sale         Sale         Sale   \n",
       "city                                         Dhaka        Dhaka        Dhaka   \n",
       "relaxation_amenity_count                         0            0            0   \n",
       "security_amenity_count                           1            2            2   \n",
       "maintenance_or_cleaning_amenity_count            2            0            2   \n",
       "social_amenity_count                             0            0            0   \n",
       "expendable_amenity_count                         2            3            2   \n",
       "service_staff_amenity_count                      0            0            0   \n",
       "unclassify_amenity_count                         3            4            4   \n",
       "zone                                      Khilgaon    Dhanmondi       Mirpur   \n",
       "\n",
       "                                                     3            4  \\\n",
       "area                                            1920.0       1445.0   \n",
       "building_type                                Apartment    Apartment   \n",
       "building_nature                            Residential  Residential   \n",
       "num_bath_rooms                                     3.0          3.0   \n",
       "num_bed_rooms                                      3.0          3.0   \n",
       "price                                       20000000.0   10800000.0   \n",
       "purpose                                           Sale         Sale   \n",
       "city                                             Dhaka        Dhaka   \n",
       "relaxation_amenity_count                             0            0   \n",
       "security_amenity_count                               1            0   \n",
       "maintenance_or_cleaning_amenity_count                2            2   \n",
       "social_amenity_count                                 0            0   \n",
       "expendable_amenity_count                             3            1   \n",
       "service_staff_amenity_count                          0            0   \n",
       "unclassify_amenity_count                             3            4   \n",
       "zone                                   Bashundhara R/A     Khilgaon   \n",
       "\n",
       "                                                 5            6            7  \\\n",
       "area                                         925.0       2468.0       1475.0   \n",
       "building_type                            Apartment    Apartment    Apartment   \n",
       "building_nature                        Residential  Residential  Residential   \n",
       "num_bath_rooms                                 0.0          3.0          3.0   \n",
       "num_bed_rooms                                  2.0          3.0          3.0   \n",
       "price                                    5000000.0   36500000.0   10500000.0   \n",
       "purpose                                       Sale         Sale         Sale   \n",
       "city                                         Dhaka        Dhaka        Dhaka   \n",
       "relaxation_amenity_count                         0            0            0   \n",
       "security_amenity_count                           1            2            2   \n",
       "maintenance_or_cleaning_amenity_count            2            2            3   \n",
       "social_amenity_count                             0            0            0   \n",
       "expendable_amenity_count                         2            4            3   \n",
       "service_staff_amenity_count                      0            0            0   \n",
       "unclassify_amenity_count                         3            4            4   \n",
       "zone                                      Khilgaon       Banani       Uttara   \n",
       "\n",
       "                                                 8            9  \n",
       "area                                        1066.0        950.0  \n",
       "building_type                            Apartment    Apartment  \n",
       "building_nature                        Residential  Residential  \n",
       "num_bath_rooms                                 2.0          2.0  \n",
       "num_bed_rooms                                  3.0          2.0  \n",
       "price                                    8000000.0    5000000.0  \n",
       "purpose                                       Sale         Sale  \n",
       "city                                         Dhaka        Dhaka  \n",
       "relaxation_amenity_count                         0            0  \n",
       "security_amenity_count                           1            1  \n",
       "maintenance_or_cleaning_amenity_count            2            2  \n",
       "social_amenity_count                             1            0  \n",
       "expendable_amenity_count                         4            5  \n",
       "service_staff_amenity_count                      0            0  \n",
       "unclassify_amenity_count                         4            3  \n",
       "zone                                      Sutrapur       Mirpur  "
      ]
     },
     "execution_count": 4,
     "metadata": {},
     "output_type": "execute_result"
    }
   ],
   "source": [
    "# Drop the specified columns\n",
    "df = df.drop(['image_url', 'property_url', 'property_description', 'property_overview', 'address', 'id', 'division', 'locality'], axis=1)\n",
    "\n",
    "# Print the updated DataFrame\n",
    "df.head(10).T"
   ]
  },
  {
   "cell_type": "code",
   "execution_count": 5,
   "id": "29903929",
   "metadata": {},
   "outputs": [],
   "source": [
    "df['building_nature'].replace('Residential','0', inplace=True)\n",
    "df['building_nature'].replace('Commercial','1', inplace=True)\n",
    "df['building_nature']=df.building_nature.astype(int)"
   ]
  },
  {
   "cell_type": "code",
   "execution_count": 6,
   "id": "88f6a241",
   "metadata": {},
   "outputs": [
    {
     "data": {
      "text/plain": [
       "building_nature\n",
       "0    27220\n",
       "1     6481\n",
       "Name: building_nature, dtype: int64"
      ]
     },
     "execution_count": 6,
     "metadata": {},
     "output_type": "execute_result"
    }
   ],
   "source": [
    "df.groupby('building_nature')['building_nature'].agg('count')"
   ]
  },
  {
   "cell_type": "code",
   "execution_count": 7,
   "id": "d3dc8c2a",
   "metadata": {},
   "outputs": [
    {
     "data": {
      "text/plain": [
       "purpose\n",
       "Rent    20723\n",
       "Sale    12978\n",
       "Name: purpose, dtype: int64"
      ]
     },
     "execution_count": 7,
     "metadata": {},
     "output_type": "execute_result"
    }
   ],
   "source": [
    "df.groupby('purpose')['purpose'].agg('count')"
   ]
  },
  {
   "cell_type": "code",
   "execution_count": 8,
   "id": "fd9c7cad",
   "metadata": {},
   "outputs": [],
   "source": [
    "zone_counts=df.groupby('zone')['zone'].agg('count').sort_values(ascending=False)\n",
    "less_than_10 = zone_counts[zone_counts < 10]\n",
    "df.loc[df['zone'].isin(less_than_10.index), 'zone'] = 'Others'"
   ]
  },
  {
   "cell_type": "code",
   "execution_count": 9,
   "id": "722a1e53",
   "metadata": {},
   "outputs": [
    {
     "data": {
      "text/plain": [
       "zone\n",
       "Mirpur                         6461\n",
       "Chattogram City                3135\n",
       "Gulshan                        2787\n",
       "Mohammadpur                    2632\n",
       "Bashundhara R/A                2587\n",
       "Khilgaon                       2503\n",
       "Uttara                         2409\n",
       "Dhanmondi                      1084\n",
       "Badda                          1031\n",
       "Banani                          947\n",
       "Mohakhali                       889\n",
       "Tejgaon                         780\n",
       "Khilkhet                        626\n",
       "Motijheel                       619\n",
       "Sub-district of Narayanganj     490\n",
       "Ramna                           489\n",
       "Dakshin Khan                    373\n",
       "Sub-district of Barishal        352\n",
       "Sub-district of Gazipur         329\n",
       "Hatirpool                       318\n",
       "Shyamoli                        317\n",
       "Sub-district of Chattogram      300\n",
       "Savar                           281\n",
       "Dhaka Cantonment                273\n",
       "Old Dhaka                       213\n",
       "Sher-E-Bangla Nagar             210\n",
       "Sutrapur                        133\n",
       "Turag                           110\n",
       "Hazaribagh                      108\n",
       "Keraniganj                      107\n",
       "New Market                      103\n",
       "Others                           95\n",
       "Sub-district of Rangpur          73\n",
       "Purbachal                        72\n",
       "Demra                            65\n",
       "Sub-district of Dinajpur         64\n",
       "Jatrabari                        59\n",
       "Sylhet City                      56\n",
       "Sub-district of Rajshahi         56\n",
       "Sub-district of Khulna           39\n",
       "Mugdapara                        16\n",
       "Shabujbag                        14\n",
       "Sub-district of Dhaka            11\n",
       "Name: zone, dtype: int64"
      ]
     },
     "execution_count": 9,
     "metadata": {},
     "output_type": "execute_result"
    }
   ],
   "source": [
    "df.groupby('zone')['zone'].agg('count').sort_values(ascending=False)"
   ]
  },
  {
   "cell_type": "code",
   "execution_count": 10,
   "id": "9a120cc7",
   "metadata": {},
   "outputs": [
    {
     "data": {
      "text/plain": [
       "building_type\n",
       "Apartment           26940\n",
       "Building             1412\n",
       "Commercial Plot        54\n",
       "Duplex                 84\n",
       "Factory                19\n",
       "Floor                 880\n",
       "House                 175\n",
       "Office               2266\n",
       "Others                 11\n",
       "Residential Plot      875\n",
       "Shop                  956\n",
       "Warehouse              29\n",
       "Name: building_type, dtype: int64"
      ]
     },
     "execution_count": 10,
     "metadata": {},
     "output_type": "execute_result"
    }
   ],
   "source": [
    "df.groupby('building_type')['building_type'].agg('count')"
   ]
  },
  {
   "cell_type": "code",
   "execution_count": 11,
   "id": "b07e606b",
   "metadata": {},
   "outputs": [],
   "source": [
    "df['building_type'] = df['building_type'].replace({'Apartment': 0, 'Building': 1, 'Commercial Plot': 2, 'Duplex': 3, 'Factory': 4, 'Floor': 5, 'House': 6, 'Office': 7, 'Others': 8, 'Residential Plot': 9, 'Shop': 10, 'Warehouse': 11})\n",
    "df['building_type']=df.building_type.astype(int)"
   ]
  },
  {
   "cell_type": "code",
   "execution_count": 12,
   "id": "53e5f15d",
   "metadata": {},
   "outputs": [
    {
     "name": "stdout",
     "output_type": "stream",
     "text": [
      "<class 'pandas.core.frame.DataFrame'>\n",
      "RangeIndex: 33701 entries, 0 to 33700\n",
      "Data columns (total 16 columns):\n",
      " #   Column                                 Non-Null Count  Dtype  \n",
      "---  ------                                 --------------  -----  \n",
      " 0   area                                   33701 non-null  float64\n",
      " 1   building_type                          33701 non-null  int32  \n",
      " 2   building_nature                        33701 non-null  int32  \n",
      " 3   num_bath_rooms                         33701 non-null  float64\n",
      " 4   num_bed_rooms                          33701 non-null  float64\n",
      " 5   price                                  33701 non-null  float64\n",
      " 6   purpose                                33701 non-null  object \n",
      " 7   city                                   33701 non-null  object \n",
      " 8   relaxation_amenity_count               33701 non-null  int64  \n",
      " 9   security_amenity_count                 33701 non-null  int64  \n",
      " 10  maintenance_or_cleaning_amenity_count  33701 non-null  int64  \n",
      " 11  social_amenity_count                   33701 non-null  int64  \n",
      " 12  expendable_amenity_count               33701 non-null  int64  \n",
      " 13  service_staff_amenity_count            33701 non-null  int64  \n",
      " 14  unclassify_amenity_count               33701 non-null  int64  \n",
      " 15  zone                                   33616 non-null  object \n",
      "dtypes: float64(4), int32(2), int64(7), object(3)\n",
      "memory usage: 3.9+ MB\n"
     ]
    }
   ],
   "source": [
    "df.info()"
   ]
  },
  {
   "cell_type": "code",
   "execution_count": 13,
   "id": "8d9a8ad4",
   "metadata": {},
   "outputs": [
    {
     "data": {
      "text/plain": [
       "area                                     0\n",
       "building_type                            0\n",
       "building_nature                          0\n",
       "num_bath_rooms                           0\n",
       "num_bed_rooms                            0\n",
       "price                                    0\n",
       "purpose                                  0\n",
       "city                                     0\n",
       "relaxation_amenity_count                 0\n",
       "security_amenity_count                   0\n",
       "maintenance_or_cleaning_amenity_count    0\n",
       "social_amenity_count                     0\n",
       "expendable_amenity_count                 0\n",
       "service_staff_amenity_count              0\n",
       "unclassify_amenity_count                 0\n",
       "zone                                     0\n",
       "dtype: int64"
      ]
     },
     "execution_count": 13,
     "metadata": {},
     "output_type": "execute_result"
    }
   ],
   "source": [
    "df=df.dropna()\n",
    "df.isnull().sum()"
   ]
  },
  {
   "cell_type": "code",
   "execution_count": 14,
   "id": "103d0c77",
   "metadata": {},
   "outputs": [
    {
     "data": {
      "text/plain": [
       "count    3.361600e+04\n",
       "mean     3.253700e+03\n",
       "std      1.221599e+05\n",
       "min      0.000000e+00\n",
       "25%      1.000000e+03\n",
       "50%      1.350000e+03\n",
       "75%      2.075000e+03\n",
       "max      1.450147e+07\n",
       "Name: area, dtype: float64"
      ]
     },
     "execution_count": 14,
     "metadata": {},
     "output_type": "execute_result"
    }
   ],
   "source": [
    "df. area.describe()"
   ]
  },
  {
   "cell_type": "code",
   "execution_count": 15,
   "id": "f66c219e",
   "metadata": {},
   "outputs": [],
   "source": [
    "df=df[df['area']!=0]"
   ]
  },
  {
   "cell_type": "code",
   "execution_count": 16,
   "id": "77494f9b",
   "metadata": {},
   "outputs": [],
   "source": [
    "df = df[df['area'] >= 100]"
   ]
  },
  {
   "cell_type": "code",
   "execution_count": 17,
   "id": "e1b14351",
   "metadata": {},
   "outputs": [
    {
     "data": {
      "text/plain": [
       "count    3.239900e+04\n",
       "mean     1.110288e+09\n",
       "std      1.344361e+11\n",
       "min      0.000000e+00\n",
       "25%      2.600000e+04\n",
       "50%      1.700000e+05\n",
       "75%      6.100000e+06\n",
       "max      2.400000e+13\n",
       "Name: price, dtype: float64"
      ]
     },
     "execution_count": 17,
     "metadata": {},
     "output_type": "execute_result"
    }
   ],
   "source": [
    "df.price.describe()"
   ]
  },
  {
   "cell_type": "code",
   "execution_count": null,
   "id": "782e740d",
   "metadata": {},
   "outputs": [],
   "source": []
  },
  {
   "cell_type": "code",
   "execution_count": 18,
   "id": "04e55b7f",
   "metadata": {},
   "outputs": [],
   "source": [
    "df=df[df['price']!=0]"
   ]
  },
  {
   "cell_type": "code",
   "execution_count": 19,
   "id": "39afc6ae",
   "metadata": {},
   "outputs": [],
   "source": [
    "df1=df.copy()\n",
    "df1['pricePerSqft']=df1['price']/df1['area']"
   ]
  },
  {
   "cell_type": "code",
   "execution_count": null,
   "id": "d024657c",
   "metadata": {},
   "outputs": [],
   "source": []
  },
  {
   "cell_type": "code",
   "execution_count": 20,
   "id": "44378c91",
   "metadata": {},
   "outputs": [
    {
     "data": {
      "text/plain": [
       "(32371, 17)"
      ]
     },
     "execution_count": 20,
     "metadata": {},
     "output_type": "execute_result"
    }
   ],
   "source": [
    "df1.shape"
   ]
  },
  {
   "cell_type": "code",
   "execution_count": 21,
   "id": "fcc14418",
   "metadata": {},
   "outputs": [
    {
     "data": {
      "text/plain": [
       "(12891, 17)"
      ]
     },
     "execution_count": 21,
     "metadata": {},
     "output_type": "execute_result"
    }
   ],
   "source": [
    "rent=df1[df1['purpose']==\"Rent\"]\n",
    "sale=df1[df1['purpose']==\"Sale\"]\n",
    "sale.shape\n"
   ]
  },
  {
   "cell_type": "code",
   "execution_count": 22,
   "id": "43e206de",
   "metadata": {},
   "outputs": [
    {
     "data": {
      "text/plain": [
       "(19480, 17)"
      ]
     },
     "execution_count": 22,
     "metadata": {},
     "output_type": "execute_result"
    }
   ],
   "source": [
    "rent.shape"
   ]
  },
  {
   "cell_type": "code",
   "execution_count": null,
   "id": "5d0775bf",
   "metadata": {},
   "outputs": [],
   "source": []
  },
  {
   "cell_type": "code",
   "execution_count": 23,
   "id": "a99eef4d",
   "metadata": {},
   "outputs": [
    {
     "data": {
      "text/plain": [
       "(3041000.0, 38000000.0)"
      ]
     },
     "execution_count": 23,
     "metadata": {},
     "output_type": "execute_result"
    }
   ],
   "source": [
    "min_thresold, max_thresold = sale.price.quantile([0.05, 0.95])\n",
    "min_thresold, max_thresold "
   ]
  },
  {
   "cell_type": "code",
   "execution_count": 24,
   "id": "c85183af",
   "metadata": {},
   "outputs": [
    {
     "data": {
      "text/plain": [
       "(11598, 17)"
      ]
     },
     "execution_count": 24,
     "metadata": {},
     "output_type": "execute_result"
    }
   ],
   "source": [
    "sale = sale[(sale.price > min_thresold) & (sale.price < max_thresold)]\n",
    "\n",
    "sale.shape"
   ]
  },
  {
   "cell_type": "code",
   "execution_count": 25,
   "id": "1982db14",
   "metadata": {},
   "outputs": [
    {
     "data": {
      "text/plain": [
       "(9000.0, 627099.9999999986)"
      ]
     },
     "execution_count": 25,
     "metadata": {},
     "output_type": "execute_result"
    }
   ],
   "source": [
    "min_thresold1, max_thresold1 = rent.price.quantile([0.05, 0.95])\n",
    "min_thresold1, max_thresold1 "
   ]
  },
  {
   "cell_type": "code",
   "execution_count": 26,
   "id": "e8cfcefe",
   "metadata": {},
   "outputs": [
    {
     "data": {
      "text/plain": [
       "(17523, 17)"
      ]
     },
     "execution_count": 26,
     "metadata": {},
     "output_type": "execute_result"
    }
   ],
   "source": [
    "rent=rent[(rent.price > min_thresold1) & (rent.price < max_thresold1)]\n",
    "rent. shape"
   ]
  },
  {
   "cell_type": "code",
   "execution_count": 27,
   "id": "16cd0b08",
   "metadata": {},
   "outputs": [
    {
     "data": {
      "text/plain": [
       "(29121, 17)"
      ]
     },
     "execution_count": 27,
     "metadata": {},
     "output_type": "execute_result"
    }
   ],
   "source": [
    "df4 = pd.concat([sale, rent])\n",
    "df4.shape"
   ]
  },
  {
   "cell_type": "code",
   "execution_count": 28,
   "id": "f410ee36",
   "metadata": {},
   "outputs": [
    {
     "name": "stdout",
     "output_type": "stream",
     "text": [
      "count    1.037200e+04\n",
      "mean     8.983048e+06\n",
      "std      5.275566e+06\n",
      "min      3.055000e+06\n",
      "25%      5.500000e+06\n",
      "50%      7.400000e+06\n",
      "75%      1.090000e+07\n",
      "max      3.769999e+07\n",
      "Name: price, dtype: float64\n"
     ]
    }
   ],
   "source": [
    "df_building_type_0 = sale[sale['building_type'] == 0]\n",
    "price_stats = df_building_type_0['price'].describe()\n",
    "print(price_stats)"
   ]
  },
  {
   "cell_type": "code",
   "execution_count": 29,
   "id": "7cf6e4bc",
   "metadata": {},
   "outputs": [
    {
     "data": {
      "image/png": "[encoded data removed]",
      "text/plain": [
       "<Figure size 1200x800 with 1 Axes>"
      ]
     },
     "metadata": {},
     "output_type": "display_data"
    }
   ],
   "source": [
    "import matplotlib.pyplot as plt\n",
    "import seaborn as sns\n",
    "\n",
    "# Filter the data for apartments in Dhaka\n",
    "dhaka_apartments = sale[sale['city'] == 'Dhaka']\n",
    "\n",
    "# Plotting the scatter plot\n",
    "plt.figure(figsize=(12, 8))\n",
    "sns.scatterplot(data=dhaka_apartments, x='area', y='price', hue='zone')\n",
    "plt.xlabel('Area (sqft)')\n",
    "plt.ylabel('Price')\n",
    "plt.title('Apartment Price Distribution in Dhaka by Zone')\n",
    "plt.show()"
   ]
  },
  {
   "cell_type": "code",
   "execution_count": 30,
   "id": "b8feca4c",
   "metadata": {},
   "outputs": [
    {
     "name": "stderr",
     "output_type": "stream",
     "text": [
      "C:\\Users\\Jamil\\AppData\\Local\\Temp\\ipykernel_2832\\3006967730.py:1: FutureWarning: The default value of numeric_only in DataFrame.corr is deprecated. In a future version, it will default to False. Select only valid columns or specify the value of numeric_only to silence this warning.\n",
      "  df4.corr()\n"
     ]
    },
    {
     "data": {
      "text/html": [
       "<div>\n",
       "<style scoped>\n",
       "    .dataframe tbody tr th:only-of-type {\n",
       "        vertical-align: middle;\n",
       "    }\n",
       "\n",
       "    .dataframe tbody tr th {\n",
       "        vertical-align: top;\n",
       "    }\n",
       "\n",
       "    .dataframe thead th {\n",
       "        text-align: right;\n",
       "    }\n",
       "</style>\n",
       "<table border=\"1\" class=\"dataframe\">\n",
       "  <thead>\n",
       "    <tr style=\"text-align: right;\">\n",
       "      <th></th>\n",
       "      <th>area</th>\n",
       "      <th>building_type</th>\n",
       "      <th>building_nature</th>\n",
       "      <th>num_bath_rooms</th>\n",
       "      <th>num_bed_rooms</th>\n",
       "      <th>price</th>\n",
       "      <th>relaxation_amenity_count</th>\n",
       "      <th>security_amenity_count</th>\n",
       "      <th>maintenance_or_cleaning_amenity_count</th>\n",
       "      <th>social_amenity_count</th>\n",
       "      <th>expendable_amenity_count</th>\n",
       "      <th>service_staff_amenity_count</th>\n",
       "      <th>unclassify_amenity_count</th>\n",
       "      <th>pricePerSqft</th>\n",
       "    </tr>\n",
       "  </thead>\n",
       "  <tbody>\n",
       "    <tr>\n",
       "      <th>area</th>\n",
       "      <td>1.000000</td>\n",
       "      <td>0.173613</td>\n",
       "      <td>0.236863</td>\n",
       "      <td>0.020743</td>\n",
       "      <td>-0.017537</td>\n",
       "      <td>0.025293</td>\n",
       "      <td>0.005144</td>\n",
       "      <td>0.049218</td>\n",
       "      <td>-0.033481</td>\n",
       "      <td>-0.016926</td>\n",
       "      <td>-0.016638</td>\n",
       "      <td>0.064676</td>\n",
       "      <td>0.006174</td>\n",
       "      <td>-0.150028</td>\n",
       "    </tr>\n",
       "    <tr>\n",
       "      <th>building_type</th>\n",
       "      <td>0.173613</td>\n",
       "      <td>1.000000</td>\n",
       "      <td>0.647093</td>\n",
       "      <td>-0.411158</td>\n",
       "      <td>-0.627070</td>\n",
       "      <td>-0.037049</td>\n",
       "      <td>-0.008278</td>\n",
       "      <td>0.065443</td>\n",
       "      <td>0.072019</td>\n",
       "      <td>0.130141</td>\n",
       "      <td>0.066992</td>\n",
       "      <td>-0.029249</td>\n",
       "      <td>0.090840</td>\n",
       "      <td>0.137540</td>\n",
       "    </tr>\n",
       "    <tr>\n",
       "      <th>building_nature</th>\n",
       "      <td>0.236863</td>\n",
       "      <td>0.647093</td>\n",
       "      <td>1.000000</td>\n",
       "      <td>-0.395990</td>\n",
       "      <td>-0.649058</td>\n",
       "      <td>-0.211845</td>\n",
       "      <td>-0.012217</td>\n",
       "      <td>0.035778</td>\n",
       "      <td>0.035167</td>\n",
       "      <td>0.093008</td>\n",
       "      <td>0.027903</td>\n",
       "      <td>-0.037827</td>\n",
       "      <td>0.041147</td>\n",
       "      <td>-0.035925</td>\n",
       "    </tr>\n",
       "    <tr>\n",
       "      <th>num_bath_rooms</th>\n",
       "      <td>0.020743</td>\n",
       "      <td>-0.411158</td>\n",
       "      <td>-0.395990</td>\n",
       "      <td>1.000000</td>\n",
       "      <td>0.497137</td>\n",
       "      <td>-0.054228</td>\n",
       "      <td>-0.014680</td>\n",
       "      <td>-0.193034</td>\n",
       "      <td>-0.328033</td>\n",
       "      <td>-0.100816</td>\n",
       "      <td>-0.288140</td>\n",
       "      <td>0.128580</td>\n",
       "      <td>-0.261723</td>\n",
       "      <td>-0.128383</td>\n",
       "    </tr>\n",
       "    <tr>\n",
       "      <th>num_bed_rooms</th>\n",
       "      <td>-0.017537</td>\n",
       "      <td>-0.627070</td>\n",
       "      <td>-0.649058</td>\n",
       "      <td>0.497137</td>\n",
       "      <td>1.000000</td>\n",
       "      <td>0.192969</td>\n",
       "      <td>0.018965</td>\n",
       "      <td>0.009405</td>\n",
       "      <td>-0.010771</td>\n",
       "      <td>-0.065695</td>\n",
       "      <td>0.002455</td>\n",
       "      <td>0.053144</td>\n",
       "      <td>-0.001452</td>\n",
       "      <td>0.013824</td>\n",
       "    </tr>\n",
       "    <tr>\n",
       "      <th>price</th>\n",
       "      <td>0.025293</td>\n",
       "      <td>-0.037049</td>\n",
       "      <td>-0.211845</td>\n",
       "      <td>-0.054228</td>\n",
       "      <td>0.192969</td>\n",
       "      <td>1.000000</td>\n",
       "      <td>0.088404</td>\n",
       "      <td>0.245945</td>\n",
       "      <td>0.310617</td>\n",
       "      <td>0.076754</td>\n",
       "      <td>0.330486</td>\n",
       "      <td>-0.058693</td>\n",
       "      <td>0.236889</td>\n",
       "      <td>0.662185</td>\n",
       "    </tr>\n",
       "    <tr>\n",
       "      <th>relaxation_amenity_count</th>\n",
       "      <td>0.005144</td>\n",
       "      <td>-0.008278</td>\n",
       "      <td>-0.012217</td>\n",
       "      <td>-0.014680</td>\n",
       "      <td>0.018965</td>\n",
       "      <td>0.088404</td>\n",
       "      <td>1.000000</td>\n",
       "      <td>0.101724</td>\n",
       "      <td>0.072007</td>\n",
       "      <td>0.420613</td>\n",
       "      <td>0.131712</td>\n",
       "      <td>0.003847</td>\n",
       "      <td>0.159466</td>\n",
       "      <td>0.051045</td>\n",
       "    </tr>\n",
       "    <tr>\n",
       "      <th>security_amenity_count</th>\n",
       "      <td>0.049218</td>\n",
       "      <td>0.065443</td>\n",
       "      <td>0.035778</td>\n",
       "      <td>-0.193034</td>\n",
       "      <td>0.009405</td>\n",
       "      <td>0.245945</td>\n",
       "      <td>0.101724</td>\n",
       "      <td>1.000000</td>\n",
       "      <td>0.592422</td>\n",
       "      <td>0.228181</td>\n",
       "      <td>0.599462</td>\n",
       "      <td>0.301065</td>\n",
       "      <td>0.717740</td>\n",
       "      <td>0.221023</td>\n",
       "    </tr>\n",
       "    <tr>\n",
       "      <th>maintenance_or_cleaning_amenity_count</th>\n",
       "      <td>-0.033481</td>\n",
       "      <td>0.072019</td>\n",
       "      <td>0.035167</td>\n",
       "      <td>-0.328033</td>\n",
       "      <td>-0.010771</td>\n",
       "      <td>0.310617</td>\n",
       "      <td>0.072007</td>\n",
       "      <td>0.592422</td>\n",
       "      <td>1.000000</td>\n",
       "      <td>0.225035</td>\n",
       "      <td>0.728156</td>\n",
       "      <td>-0.078918</td>\n",
       "      <td>0.595321</td>\n",
       "      <td>0.309213</td>\n",
       "    </tr>\n",
       "    <tr>\n",
       "      <th>social_amenity_count</th>\n",
       "      <td>-0.016926</td>\n",
       "      <td>0.130141</td>\n",
       "      <td>0.093008</td>\n",
       "      <td>-0.100816</td>\n",
       "      <td>-0.065695</td>\n",
       "      <td>0.076754</td>\n",
       "      <td>0.420613</td>\n",
       "      <td>0.228181</td>\n",
       "      <td>0.225035</td>\n",
       "      <td>1.000000</td>\n",
       "      <td>0.254672</td>\n",
       "      <td>-0.013533</td>\n",
       "      <td>0.245263</td>\n",
       "      <td>0.226257</td>\n",
       "    </tr>\n",
       "    <tr>\n",
       "      <th>expendable_amenity_count</th>\n",
       "      <td>-0.016638</td>\n",
       "      <td>0.066992</td>\n",
       "      <td>0.027903</td>\n",
       "      <td>-0.288140</td>\n",
       "      <td>0.002455</td>\n",
       "      <td>0.330486</td>\n",
       "      <td>0.131712</td>\n",
       "      <td>0.599462</td>\n",
       "      <td>0.728156</td>\n",
       "      <td>0.254672</td>\n",
       "      <td>1.000000</td>\n",
       "      <td>-0.015375</td>\n",
       "      <td>0.631996</td>\n",
       "      <td>0.317860</td>\n",
       "    </tr>\n",
       "    <tr>\n",
       "      <th>service_staff_amenity_count</th>\n",
       "      <td>0.064676</td>\n",
       "      <td>-0.029249</td>\n",
       "      <td>-0.037827</td>\n",
       "      <td>0.128580</td>\n",
       "      <td>0.053144</td>\n",
       "      <td>-0.058693</td>\n",
       "      <td>0.003847</td>\n",
       "      <td>0.301065</td>\n",
       "      <td>-0.078918</td>\n",
       "      <td>-0.013533</td>\n",
       "      <td>-0.015375</td>\n",
       "      <td>1.000000</td>\n",
       "      <td>0.508889</td>\n",
       "      <td>-0.053599</td>\n",
       "    </tr>\n",
       "    <tr>\n",
       "      <th>unclassify_amenity_count</th>\n",
       "      <td>0.006174</td>\n",
       "      <td>0.090840</td>\n",
       "      <td>0.041147</td>\n",
       "      <td>-0.261723</td>\n",
       "      <td>-0.001452</td>\n",
       "      <td>0.236889</td>\n",
       "      <td>0.159466</td>\n",
       "      <td>0.717740</td>\n",
       "      <td>0.595321</td>\n",
       "      <td>0.245263</td>\n",
       "      <td>0.631996</td>\n",
       "      <td>0.508889</td>\n",
       "      <td>1.000000</td>\n",
       "      <td>0.265628</td>\n",
       "    </tr>\n",
       "    <tr>\n",
       "      <th>pricePerSqft</th>\n",
       "      <td>-0.150028</td>\n",
       "      <td>0.137540</td>\n",
       "      <td>-0.035925</td>\n",
       "      <td>-0.128383</td>\n",
       "      <td>0.013824</td>\n",
       "      <td>0.662185</td>\n",
       "      <td>0.051045</td>\n",
       "      <td>0.221023</td>\n",
       "      <td>0.309213</td>\n",
       "      <td>0.226257</td>\n",
       "      <td>0.317860</td>\n",
       "      <td>-0.053599</td>\n",
       "      <td>0.265628</td>\n",
       "      <td>1.000000</td>\n",
       "    </tr>\n",
       "  </tbody>\n",
       "</table>\n",
       "</div>"
      ],
      "text/plain": [
       "                                           area  building_type  \\\n",
       "area                                   1.000000       0.173613   \n",
       "building_type                          0.173613       1.000000   \n",
       "building_nature                        0.236863       0.647093   \n",
       "num_bath_rooms                         0.020743      -0.411158   \n",
       "num_bed_rooms                         -0.017537      -0.627070   \n",
       "price                                  0.025293      -0.037049   \n",
       "relaxation_amenity_count               0.005144      -0.008278   \n",
       "security_amenity_count                 0.049218       0.065443   \n",
       "maintenance_or_cleaning_amenity_count -0.033481       0.072019   \n",
       "social_amenity_count                  -0.016926       0.130141   \n",
       "expendable_amenity_count              -0.016638       0.066992   \n",
       "service_staff_amenity_count            0.064676      -0.029249   \n",
       "unclassify_amenity_count               0.006174       0.090840   \n",
       "pricePerSqft                          -0.150028       0.137540   \n",
       "\n",
       "                                       building_nature  num_bath_rooms  \\\n",
       "area                                          0.236863        0.020743   \n",
       "building_type                                 0.647093       -0.411158   \n",
       "building_nature                               1.000000       -0.395990   \n",
       "num_bath_rooms                               -0.395990        1.000000   \n",
       "num_bed_rooms                                -0.649058        0.497137   \n",
       "price                                        -0.211845       -0.054228   \n",
       "relaxation_amenity_count                     -0.012217       -0.014680   \n",
       "security_amenity_count                        0.035778       -0.193034   \n",
       "maintenance_or_cleaning_amenity_count         0.035167       -0.328033   \n",
       "social_amenity_count                          0.093008       -0.100816   \n",
       "expendable_amenity_count                      0.027903       -0.288140   \n",
       "service_staff_amenity_count                  -0.037827        0.128580   \n",
       "unclassify_amenity_count                      0.041147       -0.261723   \n",
       "pricePerSqft                                 -0.035925       -0.128383   \n",
       "\n",
       "                                       num_bed_rooms     price  \\\n",
       "area                                       -0.017537  0.025293   \n",
       "building_type                              -0.627070 -0.037049   \n",
       "building_nature                            -0.649058 -0.211845   \n",
       "num_bath_rooms                              0.497137 -0.054228   \n",
       "num_bed_rooms                               1.000000  0.192969   \n",
       "price                                       0.192969  1.000000   \n",
       "relaxation_amenity_count                    0.018965  0.088404   \n",
       "security_amenity_count                      0.009405  0.245945   \n",
       "maintenance_or_cleaning_amenity_count      -0.010771  0.310617   \n",
       "social_amenity_count                       -0.065695  0.076754   \n",
       "expendable_amenity_count                    0.002455  0.330486   \n",
       "service_staff_amenity_count                 0.053144 -0.058693   \n",
       "unclassify_amenity_count                   -0.001452  0.236889   \n",
       "pricePerSqft                                0.013824  0.662185   \n",
       "\n",
       "                                       relaxation_amenity_count  \\\n",
       "area                                                   0.005144   \n",
       "building_type                                         -0.008278   \n",
       "building_nature                                       -0.012217   \n",
       "num_bath_rooms                                        -0.014680   \n",
       "num_bed_rooms                                          0.018965   \n",
       "price                                                  0.088404   \n",
       "relaxation_amenity_count                               1.000000   \n",
       "security_amenity_count                                 0.101724   \n",
       "maintenance_or_cleaning_amenity_count                  0.072007   \n",
       "social_amenity_count                                   0.420613   \n",
       "expendable_amenity_count                               0.131712   \n",
       "service_staff_amenity_count                            0.003847   \n",
       "unclassify_amenity_count                               0.159466   \n",
       "pricePerSqft                                           0.051045   \n",
       "\n",
       "                                       security_amenity_count  \\\n",
       "area                                                 0.049218   \n",
       "building_type                                        0.065443   \n",
       "building_nature                                      0.035778   \n",
       "num_bath_rooms                                      -0.193034   \n",
       "num_bed_rooms                                        0.009405   \n",
       "price                                                0.245945   \n",
       "relaxation_amenity_count                             0.101724   \n",
       "security_amenity_count                               1.000000   \n",
       "maintenance_or_cleaning_amenity_count                0.592422   \n",
       "social_amenity_count                                 0.228181   \n",
       "expendable_amenity_count                             0.599462   \n",
       "service_staff_amenity_count                          0.301065   \n",
       "unclassify_amenity_count                             0.717740   \n",
       "pricePerSqft                                         0.221023   \n",
       "\n",
       "                                       maintenance_or_cleaning_amenity_count  \\\n",
       "area                                                               -0.033481   \n",
       "building_type                                                       0.072019   \n",
       "building_nature                                                     0.035167   \n",
       "num_bath_rooms                                                     -0.328033   \n",
       "num_bed_rooms                                                      -0.010771   \n",
       "price                                                               0.310617   \n",
       "relaxation_amenity_count                                            0.072007   \n",
       "security_amenity_count                                              0.592422   \n",
       "maintenance_or_cleaning_amenity_count                               1.000000   \n",
       "social_amenity_count                                                0.225035   \n",
       "expendable_amenity_count                                            0.728156   \n",
       "service_staff_amenity_count                                        -0.078918   \n",
       "unclassify_amenity_count                                            0.595321   \n",
       "pricePerSqft                                                        0.309213   \n",
       "\n",
       "                                       social_amenity_count  \\\n",
       "area                                              -0.016926   \n",
       "building_type                                      0.130141   \n",
       "building_nature                                    0.093008   \n",
       "num_bath_rooms                                    -0.100816   \n",
       "num_bed_rooms                                     -0.065695   \n",
       "price                                              0.076754   \n",
       "relaxation_amenity_count                           0.420613   \n",
       "security_amenity_count                             0.228181   \n",
       "maintenance_or_cleaning_amenity_count              0.225035   \n",
       "social_amenity_count                               1.000000   \n",
       "expendable_amenity_count                           0.254672   \n",
       "service_staff_amenity_count                       -0.013533   \n",
       "unclassify_amenity_count                           0.245263   \n",
       "pricePerSqft                                       0.226257   \n",
       "\n",
       "                                       expendable_amenity_count  \\\n",
       "area                                                  -0.016638   \n",
       "building_type                                          0.066992   \n",
       "building_nature                                        0.027903   \n",
       "num_bath_rooms                                        -0.288140   \n",
       "num_bed_rooms                                          0.002455   \n",
       "price                                                  0.330486   \n",
       "relaxation_amenity_count                               0.131712   \n",
       "security_amenity_count                                 0.599462   \n",
       "maintenance_or_cleaning_amenity_count                  0.728156   \n",
       "social_amenity_count                                   0.254672   \n",
       "expendable_amenity_count                               1.000000   \n",
       "service_staff_amenity_count                           -0.015375   \n",
       "unclassify_amenity_count                               0.631996   \n",
       "pricePerSqft                                           0.317860   \n",
       "\n",
       "                                       service_staff_amenity_count  \\\n",
       "area                                                      0.064676   \n",
       "building_type                                            -0.029249   \n",
       "building_nature                                          -0.037827   \n",
       "num_bath_rooms                                            0.128580   \n",
       "num_bed_rooms                                             0.053144   \n",
       "price                                                    -0.058693   \n",
       "relaxation_amenity_count                                  0.003847   \n",
       "security_amenity_count                                    0.301065   \n",
       "maintenance_or_cleaning_amenity_count                    -0.078918   \n",
       "social_amenity_count                                     -0.013533   \n",
       "expendable_amenity_count                                 -0.015375   \n",
       "service_staff_amenity_count                               1.000000   \n",
       "unclassify_amenity_count                                  0.508889   \n",
       "pricePerSqft                                             -0.053599   \n",
       "\n",
       "                                       unclassify_amenity_count  pricePerSqft  \n",
       "area                                                   0.006174     -0.150028  \n",
       "building_type                                          0.090840      0.137540  \n",
       "building_nature                                        0.041147     -0.035925  \n",
       "num_bath_rooms                                        -0.261723     -0.128383  \n",
       "num_bed_rooms                                         -0.001452      0.013824  \n",
       "price                                                  0.236889      0.662185  \n",
       "relaxation_amenity_count                               0.159466      0.051045  \n",
       "security_amenity_count                                 0.717740      0.221023  \n",
       "maintenance_or_cleaning_amenity_count                  0.595321      0.309213  \n",
       "social_amenity_count                                   0.245263      0.226257  \n",
       "expendable_amenity_count                               0.631996      0.317860  \n",
       "service_staff_amenity_count                            0.508889     -0.053599  \n",
       "unclassify_amenity_count                               1.000000      0.265628  \n",
       "pricePerSqft                                           0.265628      1.000000  "
      ]
     },
     "execution_count": 30,
     "metadata": {},
     "output_type": "execute_result"
    }
   ],
   "source": [
    "df4.corr()"
   ]
  },
  {
   "cell_type": "code",
   "execution_count": 31,
   "id": "ad24cd36",
   "metadata": {},
   "outputs": [
    {
     "name": "stderr",
     "output_type": "stream",
     "text": [
      "C:\\Users\\Jamil\\AppData\\Local\\Temp\\ipykernel_2832\\13821312.py:2: FutureWarning: The default value of numeric_only in DataFrame.corr is deprecated. In a future version, it will default to False. Select only valid columns or specify the value of numeric_only to silence this warning.\n",
      "  sns.heatmap(df4.corr(), annot=True, vmin=-1, vmax=1, center=0)\n"
     ]
    },
    {
     "data": {
      "image/png": "[encoded data removed]",
      "text/plain": [
       "<Figure size 1000x800 with 2 Axes>"
      ]
     },
     "metadata": {},
     "output_type": "display_data"
    }
   ],
   "source": [
    "plt.figure(figsize=[10,8])\n",
    "sns.heatmap(df4.corr(), annot=True, vmin=-1, vmax=1, center=0)\n",
    "plt.show()"
   ]
  },
  {
   "cell_type": "code",
   "execution_count": 32,
   "id": "44eb52ef",
   "metadata": {},
   "outputs": [
    {
     "data": {
      "image/png": "[encoded data removed]",
      "text/plain": [
       "<Figure size 1500x1000 with 1 Axes>"
      ]
     },
     "metadata": {},
     "output_type": "display_data"
    }
   ],
   "source": [
    "import matplotlib.pyplot as plt\n",
    "\n",
    "def plot_scatter(df, zone):\n",
    "    bed3 = df[(df.zone == zone) & (df.num_bed_rooms == 3)]\n",
    "    bed4 = df[(df.zone == zone) & (df.num_bed_rooms == 4)]\n",
    "    plt.rcParams['figure.figsize'] = (15, 10)\n",
    "    plt.scatter(bed3.area, bed3.pricePerSqft, color='blue', label='3 bed', s=50)\n",
    "    plt.scatter(bed4.area, bed4.pricePerSqft, marker='+', color='green', label='4 bed', s=50)\n",
    "    plt.xlabel('Total sqft area')\n",
    "    plt.ylabel('Price')\n",
    "    plt.title('Total sqft area vs Price')\n",
    "    plt.legend()\n",
    "    plt.show()\n",
    "\n",
    "plot_scatter(df4, \"Dhanmondi\")"
   ]
  },
  {
   "cell_type": "code",
   "execution_count": 33,
   "id": "26127c2d",
   "metadata": {},
   "outputs": [
    {
     "data": {
      "text/plain": [
       "(29106, 17)"
      ]
     },
     "execution_count": 33,
     "metadata": {},
     "output_type": "execute_result"
    }
   ],
   "source": [
    "def remove_outlires(df):\n",
    "   exclude_indices=np.array([])\n",
    "   for zone, zone_df in df.groupby('zone'):\n",
    "     bed_stats={}\n",
    "     for num_bed_rooms, bed_df in zone_df.groupby('num_bed_rooms'):\n",
    "        bed_stats[num_bed_rooms]={\n",
    "            'mean':np.mean(bed_df.pricePerSqft),\n",
    "            'std':np.std(bed_df.pricePerSqft),\n",
    "            'count': bed_df.shape[0]\n",
    "\n",
    "        }\n",
    "     for num_bed_rooms, bed_df in zone_df.groupby('num_bed_rooms'):\n",
    "        stats= bed_stats.get(num_bed_rooms-1)\n",
    "        if stats and stats['count']>5:\n",
    "          exclude_indices=np.append(exclude_indices, bed_df[bed_df.pricePerSqft<(stats['mean'])].index.values)\n",
    "          return df.drop(exclude_indices, axis='index')\n",
    "df5=remove_outlires(df4)\n",
    "df5.shape"
   ]
  },
  {
   "cell_type": "code",
   "execution_count": 34,
   "id": "e3be2431",
   "metadata": {},
   "outputs": [
    {
     "data": {
      "text/html": [
       "<div>\n",
       "<style scoped>\n",
       "    .dataframe tbody tr th:only-of-type {\n",
       "        vertical-align: middle;\n",
       "    }\n",
       "\n",
       "    .dataframe tbody tr th {\n",
       "        vertical-align: top;\n",
       "    }\n",
       "\n",
       "    .dataframe thead th {\n",
       "        text-align: right;\n",
       "    }\n",
       "</style>\n",
       "<table border=\"1\" class=\"dataframe\">\n",
       "  <thead>\n",
       "    <tr style=\"text-align: right;\">\n",
       "      <th></th>\n",
       "      <th>area</th>\n",
       "      <th>building_type</th>\n",
       "      <th>building_nature</th>\n",
       "      <th>num_bath_rooms</th>\n",
       "      <th>num_bed_rooms</th>\n",
       "      <th>price</th>\n",
       "      <th>purpose</th>\n",
       "      <th>city</th>\n",
       "      <th>relaxation_amenity_count</th>\n",
       "      <th>security_amenity_count</th>\n",
       "      <th>maintenance_or_cleaning_amenity_count</th>\n",
       "      <th>social_amenity_count</th>\n",
       "      <th>expendable_amenity_count</th>\n",
       "      <th>service_staff_amenity_count</th>\n",
       "      <th>unclassify_amenity_count</th>\n",
       "      <th>zone</th>\n",
       "      <th>pricePerSqft</th>\n",
       "    </tr>\n",
       "  </thead>\n",
       "  <tbody>\n",
       "    <tr>\n",
       "      <th>14</th>\n",
       "      <td>750.0</td>\n",
       "      <td>0</td>\n",
       "      <td>0</td>\n",
       "      <td>2.0</td>\n",
       "      <td>3.0</td>\n",
       "      <td>4900000.0</td>\n",
       "      <td>Sale</td>\n",
       "      <td>Dhaka</td>\n",
       "      <td>0</td>\n",
       "      <td>0</td>\n",
       "      <td>2</td>\n",
       "      <td>0</td>\n",
       "      <td>4</td>\n",
       "      <td>0</td>\n",
       "      <td>4</td>\n",
       "      <td>Mirpur</td>\n",
       "      <td>6533.333333</td>\n",
       "    </tr>\n",
       "    <tr>\n",
       "      <th>78</th>\n",
       "      <td>730.0</td>\n",
       "      <td>0</td>\n",
       "      <td>0</td>\n",
       "      <td>0.0</td>\n",
       "      <td>3.0</td>\n",
       "      <td>5000000.0</td>\n",
       "      <td>Sale</td>\n",
       "      <td>Dhaka</td>\n",
       "      <td>0</td>\n",
       "      <td>2</td>\n",
       "      <td>2</td>\n",
       "      <td>0</td>\n",
       "      <td>1</td>\n",
       "      <td>0</td>\n",
       "      <td>3</td>\n",
       "      <td>Mirpur</td>\n",
       "      <td>6849.315068</td>\n",
       "    </tr>\n",
       "    <tr>\n",
       "      <th>247</th>\n",
       "      <td>850.0</td>\n",
       "      <td>0</td>\n",
       "      <td>0</td>\n",
       "      <td>2.0</td>\n",
       "      <td>3.0</td>\n",
       "      <td>5000000.0</td>\n",
       "      <td>Sale</td>\n",
       "      <td>Dhaka</td>\n",
       "      <td>0</td>\n",
       "      <td>0</td>\n",
       "      <td>2</td>\n",
       "      <td>0</td>\n",
       "      <td>1</td>\n",
       "      <td>0</td>\n",
       "      <td>3</td>\n",
       "      <td>Badda</td>\n",
       "      <td>5882.352941</td>\n",
       "    </tr>\n",
       "    <tr>\n",
       "      <th>318</th>\n",
       "      <td>850.0</td>\n",
       "      <td>0</td>\n",
       "      <td>0</td>\n",
       "      <td>2.0</td>\n",
       "      <td>3.0</td>\n",
       "      <td>5500000.0</td>\n",
       "      <td>Sale</td>\n",
       "      <td>Dhaka</td>\n",
       "      <td>0</td>\n",
       "      <td>0</td>\n",
       "      <td>2</td>\n",
       "      <td>0</td>\n",
       "      <td>3</td>\n",
       "      <td>0</td>\n",
       "      <td>3</td>\n",
       "      <td>Mirpur</td>\n",
       "      <td>6470.588235</td>\n",
       "    </tr>\n",
       "    <tr>\n",
       "      <th>378</th>\n",
       "      <td>250.0</td>\n",
       "      <td>0</td>\n",
       "      <td>0</td>\n",
       "      <td>1.0</td>\n",
       "      <td>1.0</td>\n",
       "      <td>3400000.0</td>\n",
       "      <td>Sale</td>\n",
       "      <td>Dhaka</td>\n",
       "      <td>0</td>\n",
       "      <td>1</td>\n",
       "      <td>2</td>\n",
       "      <td>0</td>\n",
       "      <td>2</td>\n",
       "      <td>0</td>\n",
       "      <td>3</td>\n",
       "      <td>Bashundhara R/A</td>\n",
       "      <td>13600.000000</td>\n",
       "    </tr>\n",
       "  </tbody>\n",
       "</table>\n",
       "</div>"
      ],
      "text/plain": [
       "      area  building_type  building_nature  num_bath_rooms  num_bed_rooms  \\\n",
       "14   750.0              0                0             2.0            3.0   \n",
       "78   730.0              0                0             0.0            3.0   \n",
       "247  850.0              0                0             2.0            3.0   \n",
       "318  850.0              0                0             2.0            3.0   \n",
       "378  250.0              0                0             1.0            1.0   \n",
       "\n",
       "         price purpose   city  relaxation_amenity_count  \\\n",
       "14   4900000.0    Sale  Dhaka                         0   \n",
       "78   5000000.0    Sale  Dhaka                         0   \n",
       "247  5000000.0    Sale  Dhaka                         0   \n",
       "318  5500000.0    Sale  Dhaka                         0   \n",
       "378  3400000.0    Sale  Dhaka                         0   \n",
       "\n",
       "     security_amenity_count  maintenance_or_cleaning_amenity_count  \\\n",
       "14                        0                                      2   \n",
       "78                        2                                      2   \n",
       "247                       0                                      2   \n",
       "318                       0                                      2   \n",
       "378                       1                                      2   \n",
       "\n",
       "     social_amenity_count  expendable_amenity_count  \\\n",
       "14                      0                         4   \n",
       "78                      0                         1   \n",
       "247                     0                         1   \n",
       "318                     0                         3   \n",
       "378                     0                         2   \n",
       "\n",
       "     service_staff_amenity_count  unclassify_amenity_count             zone  \\\n",
       "14                             0                         4           Mirpur   \n",
       "78                             0                         3           Mirpur   \n",
       "247                            0                         3            Badda   \n",
       "318                            0                         3           Mirpur   \n",
       "378                            0                         3  Bashundhara R/A   \n",
       "\n",
       "     pricePerSqft  \n",
       "14    6533.333333  \n",
       "78    6849.315068  \n",
       "247   5882.352941  \n",
       "318   6470.588235  \n",
       "378  13600.000000  "
      ]
     },
     "execution_count": 34,
     "metadata": {},
     "output_type": "execute_result"
    }
   ],
   "source": [
    "df5[df5.area/df5.num_bed_rooms < 300].head()"
   ]
  },
  {
   "cell_type": "code",
   "execution_count": 35,
   "id": "35323c1a",
   "metadata": {},
   "outputs": [
    {
     "data": {
      "text/plain": [
       "(29106, 17)"
      ]
     },
     "execution_count": 35,
     "metadata": {},
     "output_type": "execute_result"
    }
   ],
   "source": [
    "df5.shape\n"
   ]
  },
  {
   "cell_type": "code",
   "execution_count": 36,
   "id": "43eca686",
   "metadata": {},
   "outputs": [
    {
     "data": {
      "text/plain": [
       "(28646, 17)"
      ]
     },
     "execution_count": 36,
     "metadata": {},
     "output_type": "execute_result"
    }
   ],
   "source": [
    "df6=df5[~(df5.area/df5.num_bed_rooms < 300)]\n",
    "df6.shape"
   ]
  },
  {
   "cell_type": "code",
   "execution_count": 37,
   "id": "5c84bf85",
   "metadata": {},
   "outputs": [
    {
     "data": {
      "text/plain": [
       "count     28646.000000\n",
       "mean       2788.688425\n",
       "std        4862.756807\n",
       "min           1.000000\n",
       "25%          20.833333\n",
       "50%          60.000000\n",
       "75%        5225.653600\n",
       "max      140000.000000\n",
       "Name: pricePerSqft, dtype: float64"
      ]
     },
     "execution_count": 37,
     "metadata": {},
     "output_type": "execute_result"
    }
   ],
   "source": [
    "df6.pricePerSqft.describe()"
   ]
  },
  {
   "cell_type": "code",
   "execution_count": 38,
   "id": "421e3e8b",
   "metadata": {},
   "outputs": [
    {
     "data": {
      "text/plain": [
       "(22618, 17)"
      ]
     },
     "execution_count": 38,
     "metadata": {},
     "output_type": "execute_result"
    }
   ],
   "source": [
    "def priceOutliers(df):\n",
    "  df_out= pd.DataFrame()\n",
    "  for key, subdf in df.groupby('zone'):\n",
    "    m= np.mean(subdf.pricePerSqft)\n",
    "    st = np.std(subdf.pricePerSqft)\n",
    "    reduceDf = subdf[(subdf.pricePerSqft>(m-st))&(subdf.pricePerSqft<=(m+st))]\n",
    "    df_out = pd.concat([df_out, reduceDf], ignore_index=True)\n",
    "  return df_out\n",
    "df7=priceOutliers(df6)\n",
    "df7.shape"
   ]
  },
  {
   "cell_type": "code",
   "execution_count": 39,
   "id": "7df23181",
   "metadata": {},
   "outputs": [
    {
     "data": {
      "text/plain": [
       "count    22618.000000\n",
       "mean      1872.996406\n",
       "std       2651.292388\n",
       "min          1.000000\n",
       "25%         21.428571\n",
       "50%         50.175439\n",
       "75%       4500.000000\n",
       "max      14015.518914\n",
       "Name: pricePerSqft, dtype: float64"
      ]
     },
     "execution_count": 39,
     "metadata": {},
     "output_type": "execute_result"
    }
   ],
   "source": [
    "df7.pricePerSqft.describe()"
   ]
  },
  {
   "cell_type": "code",
   "execution_count": 40,
   "id": "8f8658f2",
   "metadata": {},
   "outputs": [
    {
     "name": "stdout",
     "output_type": "stream",
     "text": [
      "<class 'pandas.core.frame.DataFrame'>\n",
      "RangeIndex: 22618 entries, 0 to 22617\n",
      "Data columns (total 17 columns):\n",
      " #   Column                                 Non-Null Count  Dtype  \n",
      "---  ------                                 --------------  -----  \n",
      " 0   area                                   22618 non-null  float64\n",
      " 1   building_type                          22618 non-null  int32  \n",
      " 2   building_nature                        22618 non-null  int32  \n",
      " 3   num_bath_rooms                         22618 non-null  float64\n",
      " 4   num_bed_rooms                          22618 non-null  float64\n",
      " 5   price                                  22618 non-null  float64\n",
      " 6   purpose                                22618 non-null  object \n",
      " 7   city                                   22618 non-null  object \n",
      " 8   relaxation_amenity_count               22618 non-null  int64  \n",
      " 9   security_amenity_count                 22618 non-null  int64  \n",
      " 10  maintenance_or_cleaning_amenity_count  22618 non-null  int64  \n",
      " 11  social_amenity_count                   22618 non-null  int64  \n",
      " 12  expendable_amenity_count               22618 non-null  int64  \n",
      " 13  service_staff_amenity_count            22618 non-null  int64  \n",
      " 14  unclassify_amenity_count               22618 non-null  int64  \n",
      " 15  zone                                   22618 non-null  object \n",
      " 16  pricePerSqft                           22618 non-null  float64\n",
      "dtypes: float64(5), int32(2), int64(7), object(3)\n",
      "memory usage: 2.8+ MB\n"
     ]
    }
   ],
   "source": [
    "df7.info()"
   ]
  },
  {
   "cell_type": "code",
   "execution_count": 41,
   "id": "3f91ac48",
   "metadata": {},
   "outputs": [],
   "source": [
    "from sklearn.preprocessing import LabelEncoder\n",
    "df7 = df7.reindex(df.index)\n",
    "label_encoder = LabelEncoder()\n",
    "df7['city_encoded'] = label_encoder.fit_transform(df['city'])\n",
    "df7['zone_encoded'] = label_encoder.fit_transform(df['zone'])"
   ]
  },
  {
   "cell_type": "code",
   "execution_count": 42,
   "id": "d2cfbf74",
   "metadata": {},
   "outputs": [],
   "source": [
    "df7 = df7.drop(['city', 'zone','pricePerSqft'], axis=1)"
   ]
  },
  {
   "cell_type": "code",
   "execution_count": 43,
   "id": "29b52c09",
   "metadata": {},
   "outputs": [
    {
     "name": "stdout",
     "output_type": "stream",
     "text": [
      "9959\n"
     ]
    }
   ],
   "source": [
    "nan_rows = len(df7[df7['purpose'].isnull()])\n",
    "print(nan_rows)"
   ]
  },
  {
   "cell_type": "code",
   "execution_count": 44,
   "id": "93e6a960",
   "metadata": {},
   "outputs": [],
   "source": [
    "df7.dropna(inplace=True)"
   ]
  },
  {
   "cell_type": "code",
   "execution_count": 45,
   "id": "0edc0a38",
   "metadata": {},
   "outputs": [],
   "source": [
    "df7['purpose'].replace('Sale','0', inplace=True)\n",
    "df7['purpose'].replace('Rent','1', inplace=True)\n",
    "df7['purpose']=df7.purpose.astype(int)"
   ]
  },
  {
   "cell_type": "code",
   "execution_count": 46,
   "id": "2111f1ce",
   "metadata": {},
   "outputs": [
    {
     "data": {
      "text/html": [
       "<div>\n",
       "<style scoped>\n",
       "    .dataframe tbody tr th:only-of-type {\n",
       "        vertical-align: middle;\n",
       "    }\n",
       "\n",
       "    .dataframe tbody tr th {\n",
       "        vertical-align: top;\n",
       "    }\n",
       "\n",
       "    .dataframe thead th {\n",
       "        text-align: right;\n",
       "    }\n",
       "</style>\n",
       "<table border=\"1\" class=\"dataframe\">\n",
       "  <thead>\n",
       "    <tr style=\"text-align: right;\">\n",
       "      <th></th>\n",
       "      <th>0</th>\n",
       "      <th>1</th>\n",
       "      <th>2</th>\n",
       "      <th>3</th>\n",
       "      <th>4</th>\n",
       "      <th>5</th>\n",
       "      <th>6</th>\n",
       "      <th>7</th>\n",
       "      <th>8</th>\n",
       "      <th>9</th>\n",
       "      <th>...</th>\n",
       "      <th>22608</th>\n",
       "      <th>22609</th>\n",
       "      <th>22610</th>\n",
       "      <th>22611</th>\n",
       "      <th>22612</th>\n",
       "      <th>22613</th>\n",
       "      <th>22614</th>\n",
       "      <th>22615</th>\n",
       "      <th>22616</th>\n",
       "      <th>22617</th>\n",
       "    </tr>\n",
       "  </thead>\n",
       "  <tbody>\n",
       "    <tr>\n",
       "      <th>area</th>\n",
       "      <td>1075.0</td>\n",
       "      <td>1402.0</td>\n",
       "      <td>1100.0</td>\n",
       "      <td>1342.0</td>\n",
       "      <td>1100.0</td>\n",
       "      <td>925.0</td>\n",
       "      <td>900.0</td>\n",
       "      <td>900.0</td>\n",
       "      <td>1050.0</td>\n",
       "      <td>1050.0</td>\n",
       "      <td>...</td>\n",
       "      <td>1500.0</td>\n",
       "      <td>2750.0</td>\n",
       "      <td>20770.0</td>\n",
       "      <td>1650.0</td>\n",
       "      <td>6500.0</td>\n",
       "      <td>2450.0</td>\n",
       "      <td>2000.0</td>\n",
       "      <td>1400.0</td>\n",
       "      <td>900.0</td>\n",
       "      <td>350.0</td>\n",
       "    </tr>\n",
       "    <tr>\n",
       "      <th>building_type</th>\n",
       "      <td>0.0</td>\n",
       "      <td>0.0</td>\n",
       "      <td>0.0</td>\n",
       "      <td>0.0</td>\n",
       "      <td>0.0</td>\n",
       "      <td>0.0</td>\n",
       "      <td>0.0</td>\n",
       "      <td>0.0</td>\n",
       "      <td>0.0</td>\n",
       "      <td>0.0</td>\n",
       "      <td>...</td>\n",
       "      <td>0.0</td>\n",
       "      <td>7.0</td>\n",
       "      <td>7.0</td>\n",
       "      <td>0.0</td>\n",
       "      <td>6.0</td>\n",
       "      <td>0.0</td>\n",
       "      <td>0.0</td>\n",
       "      <td>0.0</td>\n",
       "      <td>0.0</td>\n",
       "      <td>0.0</td>\n",
       "    </tr>\n",
       "    <tr>\n",
       "      <th>building_nature</th>\n",
       "      <td>0.0</td>\n",
       "      <td>0.0</td>\n",
       "      <td>0.0</td>\n",
       "      <td>0.0</td>\n",
       "      <td>0.0</td>\n",
       "      <td>0.0</td>\n",
       "      <td>0.0</td>\n",
       "      <td>0.0</td>\n",
       "      <td>0.0</td>\n",
       "      <td>0.0</td>\n",
       "      <td>...</td>\n",
       "      <td>0.0</td>\n",
       "      <td>1.0</td>\n",
       "      <td>1.0</td>\n",
       "      <td>0.0</td>\n",
       "      <td>0.0</td>\n",
       "      <td>0.0</td>\n",
       "      <td>0.0</td>\n",
       "      <td>0.0</td>\n",
       "      <td>0.0</td>\n",
       "      <td>0.0</td>\n",
       "    </tr>\n",
       "    <tr>\n",
       "      <th>num_bath_rooms</th>\n",
       "      <td>3.0</td>\n",
       "      <td>2.0</td>\n",
       "      <td>3.0</td>\n",
       "      <td>3.0</td>\n",
       "      <td>3.0</td>\n",
       "      <td>0.0</td>\n",
       "      <td>2.0</td>\n",
       "      <td>2.0</td>\n",
       "      <td>2.0</td>\n",
       "      <td>0.0</td>\n",
       "      <td>...</td>\n",
       "      <td>3.0</td>\n",
       "      <td>0.0</td>\n",
       "      <td>0.0</td>\n",
       "      <td>4.0</td>\n",
       "      <td>6.0</td>\n",
       "      <td>1.0</td>\n",
       "      <td>5.0</td>\n",
       "      <td>3.0</td>\n",
       "      <td>2.0</td>\n",
       "      <td>1.0</td>\n",
       "    </tr>\n",
       "    <tr>\n",
       "      <th>num_bed_rooms</th>\n",
       "      <td>3.0</td>\n",
       "      <td>3.0</td>\n",
       "      <td>3.0</td>\n",
       "      <td>3.0</td>\n",
       "      <td>3.0</td>\n",
       "      <td>3.0</td>\n",
       "      <td>3.0</td>\n",
       "      <td>3.0</td>\n",
       "      <td>3.0</td>\n",
       "      <td>3.0</td>\n",
       "      <td>...</td>\n",
       "      <td>3.0</td>\n",
       "      <td>0.0</td>\n",
       "      <td>0.0</td>\n",
       "      <td>3.0</td>\n",
       "      <td>6.0</td>\n",
       "      <td>1.0</td>\n",
       "      <td>5.0</td>\n",
       "      <td>3.0</td>\n",
       "      <td>1.0</td>\n",
       "      <td>1.0</td>\n",
       "    </tr>\n",
       "    <tr>\n",
       "      <th>price</th>\n",
       "      <td>5700000.0</td>\n",
       "      <td>7500000.0</td>\n",
       "      <td>5300000.0</td>\n",
       "      <td>7200000.0</td>\n",
       "      <td>5300000.0</td>\n",
       "      <td>5200000.0</td>\n",
       "      <td>4300000.0</td>\n",
       "      <td>4000000.0</td>\n",
       "      <td>5300000.0</td>\n",
       "      <td>5300000.0</td>\n",
       "      <td>...</td>\n",
       "      <td>22000.0</td>\n",
       "      <td>260000.0</td>\n",
       "      <td>520000.0</td>\n",
       "      <td>26000.0</td>\n",
       "      <td>200000.0</td>\n",
       "      <td>70000.0</td>\n",
       "      <td>45000.0</td>\n",
       "      <td>23000.0</td>\n",
       "      <td>550000.0</td>\n",
       "      <td>550000.0</td>\n",
       "    </tr>\n",
       "    <tr>\n",
       "      <th>purpose</th>\n",
       "      <td>0.0</td>\n",
       "      <td>0.0</td>\n",
       "      <td>0.0</td>\n",
       "      <td>0.0</td>\n",
       "      <td>0.0</td>\n",
       "      <td>0.0</td>\n",
       "      <td>0.0</td>\n",
       "      <td>0.0</td>\n",
       "      <td>0.0</td>\n",
       "      <td>0.0</td>\n",
       "      <td>...</td>\n",
       "      <td>1.0</td>\n",
       "      <td>1.0</td>\n",
       "      <td>1.0</td>\n",
       "      <td>1.0</td>\n",
       "      <td>1.0</td>\n",
       "      <td>1.0</td>\n",
       "      <td>1.0</td>\n",
       "      <td>1.0</td>\n",
       "      <td>1.0</td>\n",
       "      <td>1.0</td>\n",
       "    </tr>\n",
       "    <tr>\n",
       "      <th>relaxation_amenity_count</th>\n",
       "      <td>0.0</td>\n",
       "      <td>0.0</td>\n",
       "      <td>0.0</td>\n",
       "      <td>0.0</td>\n",
       "      <td>0.0</td>\n",
       "      <td>0.0</td>\n",
       "      <td>0.0</td>\n",
       "      <td>0.0</td>\n",
       "      <td>0.0</td>\n",
       "      <td>0.0</td>\n",
       "      <td>...</td>\n",
       "      <td>0.0</td>\n",
       "      <td>0.0</td>\n",
       "      <td>0.0</td>\n",
       "      <td>0.0</td>\n",
       "      <td>0.0</td>\n",
       "      <td>0.0</td>\n",
       "      <td>0.0</td>\n",
       "      <td>0.0</td>\n",
       "      <td>0.0</td>\n",
       "      <td>0.0</td>\n",
       "    </tr>\n",
       "    <tr>\n",
       "      <th>security_amenity_count</th>\n",
       "      <td>0.0</td>\n",
       "      <td>1.0</td>\n",
       "      <td>1.0</td>\n",
       "      <td>0.0</td>\n",
       "      <td>1.0</td>\n",
       "      <td>0.0</td>\n",
       "      <td>1.0</td>\n",
       "      <td>1.0</td>\n",
       "      <td>1.0</td>\n",
       "      <td>1.0</td>\n",
       "      <td>...</td>\n",
       "      <td>0.0</td>\n",
       "      <td>0.0</td>\n",
       "      <td>0.0</td>\n",
       "      <td>1.0</td>\n",
       "      <td>0.0</td>\n",
       "      <td>0.0</td>\n",
       "      <td>1.0</td>\n",
       "      <td>1.0</td>\n",
       "      <td>0.0</td>\n",
       "      <td>0.0</td>\n",
       "    </tr>\n",
       "    <tr>\n",
       "      <th>maintenance_or_cleaning_amenity_count</th>\n",
       "      <td>0.0</td>\n",
       "      <td>3.0</td>\n",
       "      <td>2.0</td>\n",
       "      <td>3.0</td>\n",
       "      <td>2.0</td>\n",
       "      <td>3.0</td>\n",
       "      <td>2.0</td>\n",
       "      <td>2.0</td>\n",
       "      <td>2.0</td>\n",
       "      <td>2.0</td>\n",
       "      <td>...</td>\n",
       "      <td>0.0</td>\n",
       "      <td>0.0</td>\n",
       "      <td>0.0</td>\n",
       "      <td>0.0</td>\n",
       "      <td>0.0</td>\n",
       "      <td>0.0</td>\n",
       "      <td>0.0</td>\n",
       "      <td>0.0</td>\n",
       "      <td>0.0</td>\n",
       "      <td>0.0</td>\n",
       "    </tr>\n",
       "    <tr>\n",
       "      <th>social_amenity_count</th>\n",
       "      <td>0.0</td>\n",
       "      <td>0.0</td>\n",
       "      <td>1.0</td>\n",
       "      <td>0.0</td>\n",
       "      <td>1.0</td>\n",
       "      <td>0.0</td>\n",
       "      <td>1.0</td>\n",
       "      <td>1.0</td>\n",
       "      <td>0.0</td>\n",
       "      <td>0.0</td>\n",
       "      <td>...</td>\n",
       "      <td>0.0</td>\n",
       "      <td>0.0</td>\n",
       "      <td>0.0</td>\n",
       "      <td>0.0</td>\n",
       "      <td>0.0</td>\n",
       "      <td>0.0</td>\n",
       "      <td>0.0</td>\n",
       "      <td>0.0</td>\n",
       "      <td>0.0</td>\n",
       "      <td>0.0</td>\n",
       "    </tr>\n",
       "    <tr>\n",
       "      <th>expendable_amenity_count</th>\n",
       "      <td>0.0</td>\n",
       "      <td>4.0</td>\n",
       "      <td>4.0</td>\n",
       "      <td>4.0</td>\n",
       "      <td>4.0</td>\n",
       "      <td>4.0</td>\n",
       "      <td>4.0</td>\n",
       "      <td>4.0</td>\n",
       "      <td>4.0</td>\n",
       "      <td>4.0</td>\n",
       "      <td>...</td>\n",
       "      <td>0.0</td>\n",
       "      <td>0.0</td>\n",
       "      <td>0.0</td>\n",
       "      <td>0.0</td>\n",
       "      <td>0.0</td>\n",
       "      <td>0.0</td>\n",
       "      <td>0.0</td>\n",
       "      <td>0.0</td>\n",
       "      <td>0.0</td>\n",
       "      <td>0.0</td>\n",
       "    </tr>\n",
       "    <tr>\n",
       "      <th>service_staff_amenity_count</th>\n",
       "      <td>0.0</td>\n",
       "      <td>0.0</td>\n",
       "      <td>0.0</td>\n",
       "      <td>0.0</td>\n",
       "      <td>0.0</td>\n",
       "      <td>0.0</td>\n",
       "      <td>0.0</td>\n",
       "      <td>0.0</td>\n",
       "      <td>0.0</td>\n",
       "      <td>0.0</td>\n",
       "      <td>...</td>\n",
       "      <td>0.0</td>\n",
       "      <td>0.0</td>\n",
       "      <td>0.0</td>\n",
       "      <td>0.0</td>\n",
       "      <td>0.0</td>\n",
       "      <td>0.0</td>\n",
       "      <td>0.0</td>\n",
       "      <td>0.0</td>\n",
       "      <td>0.0</td>\n",
       "      <td>0.0</td>\n",
       "    </tr>\n",
       "    <tr>\n",
       "      <th>unclassify_amenity_count</th>\n",
       "      <td>0.0</td>\n",
       "      <td>3.0</td>\n",
       "      <td>3.0</td>\n",
       "      <td>3.0</td>\n",
       "      <td>3.0</td>\n",
       "      <td>3.0</td>\n",
       "      <td>3.0</td>\n",
       "      <td>3.0</td>\n",
       "      <td>4.0</td>\n",
       "      <td>4.0</td>\n",
       "      <td>...</td>\n",
       "      <td>0.0</td>\n",
       "      <td>1.0</td>\n",
       "      <td>0.0</td>\n",
       "      <td>1.0</td>\n",
       "      <td>1.0</td>\n",
       "      <td>0.0</td>\n",
       "      <td>1.0</td>\n",
       "      <td>1.0</td>\n",
       "      <td>1.0</td>\n",
       "      <td>1.0</td>\n",
       "    </tr>\n",
       "    <tr>\n",
       "      <th>city_encoded</th>\n",
       "      <td>9.0</td>\n",
       "      <td>9.0</td>\n",
       "      <td>9.0</td>\n",
       "      <td>9.0</td>\n",
       "      <td>9.0</td>\n",
       "      <td>9.0</td>\n",
       "      <td>9.0</td>\n",
       "      <td>9.0</td>\n",
       "      <td>9.0</td>\n",
       "      <td>9.0</td>\n",
       "      <td>...</td>\n",
       "      <td>9.0</td>\n",
       "      <td>9.0</td>\n",
       "      <td>9.0</td>\n",
       "      <td>9.0</td>\n",
       "      <td>9.0</td>\n",
       "      <td>9.0</td>\n",
       "      <td>9.0</td>\n",
       "      <td>9.0</td>\n",
       "      <td>9.0</td>\n",
       "      <td>9.0</td>\n",
       "    </tr>\n",
       "    <tr>\n",
       "      <th>zone_encoded</th>\n",
       "      <td>13.0</td>\n",
       "      <td>7.0</td>\n",
       "      <td>15.0</td>\n",
       "      <td>2.0</td>\n",
       "      <td>13.0</td>\n",
       "      <td>13.0</td>\n",
       "      <td>1.0</td>\n",
       "      <td>42.0</td>\n",
       "      <td>38.0</td>\n",
       "      <td>15.0</td>\n",
       "      <td>...</td>\n",
       "      <td>13.0</td>\n",
       "      <td>8.0</td>\n",
       "      <td>8.0</td>\n",
       "      <td>8.0</td>\n",
       "      <td>8.0</td>\n",
       "      <td>8.0</td>\n",
       "      <td>8.0</td>\n",
       "      <td>8.0</td>\n",
       "      <td>8.0</td>\n",
       "      <td>15.0</td>\n",
       "    </tr>\n",
       "  </tbody>\n",
       "</table>\n",
       "<p>16 rows × 22412 columns</p>\n",
       "</div>"
      ],
      "text/plain": [
       "                                           0          1          2      \\\n",
       "area                                      1075.0     1402.0     1100.0   \n",
       "building_type                                0.0        0.0        0.0   \n",
       "building_nature                              0.0        0.0        0.0   \n",
       "num_bath_rooms                               3.0        2.0        3.0   \n",
       "num_bed_rooms                                3.0        3.0        3.0   \n",
       "price                                  5700000.0  7500000.0  5300000.0   \n",
       "purpose                                      0.0        0.0        0.0   \n",
       "relaxation_amenity_count                     0.0        0.0        0.0   \n",
       "security_amenity_count                       0.0        1.0        1.0   \n",
       "maintenance_or_cleaning_amenity_count        0.0        3.0        2.0   \n",
       "social_amenity_count                         0.0        0.0        1.0   \n",
       "expendable_amenity_count                     0.0        4.0        4.0   \n",
       "service_staff_amenity_count                  0.0        0.0        0.0   \n",
       "unclassify_amenity_count                     0.0        3.0        3.0   \n",
       "city_encoded                                 9.0        9.0        9.0   \n",
       "zone_encoded                                13.0        7.0       15.0   \n",
       "\n",
       "                                           3          4          5      \\\n",
       "area                                      1342.0     1100.0      925.0   \n",
       "building_type                                0.0        0.0        0.0   \n",
       "building_nature                              0.0        0.0        0.0   \n",
       "num_bath_rooms                               3.0        3.0        0.0   \n",
       "num_bed_rooms                                3.0        3.0        3.0   \n",
       "price                                  7200000.0  5300000.0  5200000.0   \n",
       "purpose                                      0.0        0.0        0.0   \n",
       "relaxation_amenity_count                     0.0        0.0        0.0   \n",
       "security_amenity_count                       0.0        1.0        0.0   \n",
       "maintenance_or_cleaning_amenity_count        3.0        2.0        3.0   \n",
       "social_amenity_count                         0.0        1.0        0.0   \n",
       "expendable_amenity_count                     4.0        4.0        4.0   \n",
       "service_staff_amenity_count                  0.0        0.0        0.0   \n",
       "unclassify_amenity_count                     3.0        3.0        3.0   \n",
       "city_encoded                                 9.0        9.0        9.0   \n",
       "zone_encoded                                 2.0       13.0       13.0   \n",
       "\n",
       "                                           6          7          8      \\\n",
       "area                                       900.0      900.0     1050.0   \n",
       "building_type                                0.0        0.0        0.0   \n",
       "building_nature                              0.0        0.0        0.0   \n",
       "num_bath_rooms                               2.0        2.0        2.0   \n",
       "num_bed_rooms                                3.0        3.0        3.0   \n",
       "price                                  4300000.0  4000000.0  5300000.0   \n",
       "purpose                                      0.0        0.0        0.0   \n",
       "relaxation_amenity_count                     0.0        0.0        0.0   \n",
       "security_amenity_count                       1.0        1.0        1.0   \n",
       "maintenance_or_cleaning_amenity_count        2.0        2.0        2.0   \n",
       "social_amenity_count                         1.0        1.0        0.0   \n",
       "expendable_amenity_count                     4.0        4.0        4.0   \n",
       "service_staff_amenity_count                  0.0        0.0        0.0   \n",
       "unclassify_amenity_count                     3.0        3.0        4.0   \n",
       "city_encoded                                 9.0        9.0        9.0   \n",
       "zone_encoded                                 1.0       42.0       38.0   \n",
       "\n",
       "                                           9      ...    22608     22609  \\\n",
       "area                                      1050.0  ...   1500.0    2750.0   \n",
       "building_type                                0.0  ...      0.0       7.0   \n",
       "building_nature                              0.0  ...      0.0       1.0   \n",
       "num_bath_rooms                               0.0  ...      3.0       0.0   \n",
       "num_bed_rooms                                3.0  ...      3.0       0.0   \n",
       "price                                  5300000.0  ...  22000.0  260000.0   \n",
       "purpose                                      0.0  ...      1.0       1.0   \n",
       "relaxation_amenity_count                     0.0  ...      0.0       0.0   \n",
       "security_amenity_count                       1.0  ...      0.0       0.0   \n",
       "maintenance_or_cleaning_amenity_count        2.0  ...      0.0       0.0   \n",
       "social_amenity_count                         0.0  ...      0.0       0.0   \n",
       "expendable_amenity_count                     4.0  ...      0.0       0.0   \n",
       "service_staff_amenity_count                  0.0  ...      0.0       0.0   \n",
       "unclassify_amenity_count                     4.0  ...      0.0       1.0   \n",
       "city_encoded                                 9.0  ...      9.0       9.0   \n",
       "zone_encoded                                15.0  ...     13.0       8.0   \n",
       "\n",
       "                                          22610    22611     22612    22613  \\\n",
       "area                                    20770.0   1650.0    6500.0   2450.0   \n",
       "building_type                               7.0      0.0       6.0      0.0   \n",
       "building_nature                             1.0      0.0       0.0      0.0   \n",
       "num_bath_rooms                              0.0      4.0       6.0      1.0   \n",
       "num_bed_rooms                               0.0      3.0       6.0      1.0   \n",
       "price                                  520000.0  26000.0  200000.0  70000.0   \n",
       "purpose                                     1.0      1.0       1.0      1.0   \n",
       "relaxation_amenity_count                    0.0      0.0       0.0      0.0   \n",
       "security_amenity_count                      0.0      1.0       0.0      0.0   \n",
       "maintenance_or_cleaning_amenity_count       0.0      0.0       0.0      0.0   \n",
       "social_amenity_count                        0.0      0.0       0.0      0.0   \n",
       "expendable_amenity_count                    0.0      0.0       0.0      0.0   \n",
       "service_staff_amenity_count                 0.0      0.0       0.0      0.0   \n",
       "unclassify_amenity_count                    0.0      1.0       1.0      0.0   \n",
       "city_encoded                                9.0      9.0       9.0      9.0   \n",
       "zone_encoded                                8.0      8.0       8.0      8.0   \n",
       "\n",
       "                                         22614    22615     22616     22617  \n",
       "area                                    2000.0   1400.0     900.0     350.0  \n",
       "building_type                              0.0      0.0       0.0       0.0  \n",
       "building_nature                            0.0      0.0       0.0       0.0  \n",
       "num_bath_rooms                             5.0      3.0       2.0       1.0  \n",
       "num_bed_rooms                              5.0      3.0       1.0       1.0  \n",
       "price                                  45000.0  23000.0  550000.0  550000.0  \n",
       "purpose                                    1.0      1.0       1.0       1.0  \n",
       "relaxation_amenity_count                   0.0      0.0       0.0       0.0  \n",
       "security_amenity_count                     1.0      1.0       0.0       0.0  \n",
       "maintenance_or_cleaning_amenity_count      0.0      0.0       0.0       0.0  \n",
       "social_amenity_count                       0.0      0.0       0.0       0.0  \n",
       "expendable_amenity_count                   0.0      0.0       0.0       0.0  \n",
       "service_staff_amenity_count                0.0      0.0       0.0       0.0  \n",
       "unclassify_amenity_count                   1.0      1.0       1.0       1.0  \n",
       "city_encoded                               9.0      9.0       9.0       9.0  \n",
       "zone_encoded                               8.0      8.0       8.0      15.0  \n",
       "\n",
       "[16 rows x 22412 columns]"
      ]
     },
     "execution_count": 46,
     "metadata": {},
     "output_type": "execute_result"
    }
   ],
   "source": [
    "df7.T"
   ]
  },
  {
   "cell_type": "code",
   "execution_count": 47,
   "id": "97264b94",
   "metadata": {},
   "outputs": [],
   "source": [
    "#Define X and Y"
   ]
  },
  {
   "cell_type": "code",
   "execution_count": 48,
   "id": "2d655cf7",
   "metadata": {},
   "outputs": [],
   "source": [
    "X= df7.drop(['price'],axis=1).values\n",
    "y= df7['price'].values"
   ]
  },
  {
   "cell_type": "code",
   "execution_count": 49,
   "id": "bce871d8",
   "metadata": {},
   "outputs": [],
   "source": [
    "#split"
   ]
  },
  {
   "cell_type": "code",
   "execution_count": 50,
   "id": "affe1792",
   "metadata": {},
   "outputs": [],
   "source": [
    "from sklearn.model_selection import train_test_split\n",
    "X_train,X_test,y_train,y_test=train_test_split(X,y,test_size=0.2,random_state=0)"
   ]
  },
  {
   "cell_type": "code",
   "execution_count": 51,
   "id": "0b6e05e3",
   "metadata": {},
   "outputs": [
    {
     "name": "stdout",
     "output_type": "stream",
     "text": [
      "(22412, 15) (17929, 15) (4483, 15)\n"
     ]
    }
   ],
   "source": [
    "print(X.shape,X_train.shape,X_test.shape)"
   ]
  },
  {
   "cell_type": "code",
   "execution_count": 52,
   "id": "276415ca",
   "metadata": {},
   "outputs": [],
   "source": [
    "#Train the model\n"
   ]
  },
  {
   "cell_type": "code",
   "execution_count": 53,
   "id": "3977a779",
   "metadata": {},
   "outputs": [],
   "source": [
    "#Linear Regression"
   ]
  },
  {
   "cell_type": "code",
   "execution_count": 54,
   "id": "3c8ddf06",
   "metadata": {},
   "outputs": [
    {
     "data": {
      "text/html": [
       "<style>#sk-container-id-1 {color: black;background-color: white;}#sk-container-id-1 pre{padding: 0;}#sk-container-id-1 div.sk-toggleable {background-color: white;}#sk-container-id-1 label.sk-toggleable__label {cursor: pointer;display: block;width: 100%;margin-bottom: 0;padding: 0.3em;box-sizing: border-box;text-align: center;}#sk-container-id-1 label.sk-toggleable__label-arrow:before {content: \"▸\";float: left;margin-right: 0.25em;color: #696969;}#sk-container-id-1 label.sk-toggleable__label-arrow:hover:before {color: black;}#sk-container-id-1 div.sk-estimator:hover label.sk-toggleable__label-arrow:before {color: black;}#sk-container-id-1 div.sk-toggleable__content {max-height: 0;max-width: 0;overflow: hidden;text-align: left;background-color: #f0f8ff;}#sk-container-id-1 div.sk-toggleable__content pre {margin: 0.2em;color: black;border-radius: 0.25em;background-color: #f0f8ff;}#sk-container-id-1 input.sk-toggleable__control:checked~div.sk-toggleable__content {max-height: 200px;max-width: 100%;overflow: auto;}#sk-container-id-1 input.sk-toggleable__control:checked~label.sk-toggleable__label-arrow:before {content: \"▾\";}#sk-container-id-1 div.sk-estimator input.sk-toggleable__control:checked~label.sk-toggleable__label {background-color: #d4ebff;}#sk-container-id-1 div.sk-label input.sk-toggleable__control:checked~label.sk-toggleable__label {background-color: #d4ebff;}#sk-container-id-1 input.sk-hidden--visually {border: 0;clip: rect(1px 1px 1px 1px);clip: rect(1px, 1px, 1px, 1px);height: 1px;margin: -1px;overflow: hidden;padding: 0;position: absolute;width: 1px;}#sk-container-id-1 div.sk-estimator {font-family: monospace;background-color: #f0f8ff;border: 1px dotted black;border-radius: 0.25em;box-sizing: border-box;margin-bottom: 0.5em;}#sk-container-id-1 div.sk-estimator:hover {background-color: #d4ebff;}#sk-container-id-1 div.sk-parallel-item::after {content: \"\";width: 100%;border-bottom: 1px solid gray;flex-grow: 1;}#sk-container-id-1 div.sk-label:hover label.sk-toggleable__label {background-color: #d4ebff;}#sk-container-id-1 div.sk-serial::before {content: \"\";position: absolute;border-left: 1px solid gray;box-sizing: border-box;top: 0;bottom: 0;left: 50%;z-index: 0;}#sk-container-id-1 div.sk-serial {display: flex;flex-direction: column;align-items: center;background-color: white;padding-right: 0.2em;padding-left: 0.2em;position: relative;}#sk-container-id-1 div.sk-item {position: relative;z-index: 1;}#sk-container-id-1 div.sk-parallel {display: flex;align-items: stretch;justify-content: center;background-color: white;position: relative;}#sk-container-id-1 div.sk-item::before, #sk-container-id-1 div.sk-parallel-item::before {content: \"\";position: absolute;border-left: 1px solid gray;box-sizing: border-box;top: 0;bottom: 0;left: 50%;z-index: -1;}#sk-container-id-1 div.sk-parallel-item {display: flex;flex-direction: column;z-index: 1;position: relative;background-color: white;}#sk-container-id-1 div.sk-parallel-item:first-child::after {align-self: flex-end;width: 50%;}#sk-container-id-1 div.sk-parallel-item:last-child::after {align-self: flex-start;width: 50%;}#sk-container-id-1 div.sk-parallel-item:only-child::after {width: 0;}#sk-container-id-1 div.sk-dashed-wrapped {border: 1px dashed gray;margin: 0 0.4em 0.5em 0.4em;box-sizing: border-box;padding-bottom: 0.4em;background-color: white;}#sk-container-id-1 div.sk-label label {font-family: monospace;font-weight: bold;display: inline-block;line-height: 1.2em;}#sk-container-id-1 div.sk-label-container {text-align: center;}#sk-container-id-1 div.sk-container {/* jupyter's `normalize.less` sets `[hidden] { display: none; }` but bootstrap.min.css set `[hidden] { display: none !important; }` so we also need the `!important` here to be able to override the default hidden behavior on the sphinx rendered scikit-learn.org. See: https://github.com/scikit-learn/scikit-learn/issues/21755 */display: inline-block !important;position: relative;}#sk-container-id-1 div.sk-text-repr-fallback {display: none;}</style><div id=\"sk-container-id-1\" class=\"sk-top-container\"><div class=\"sk-text-repr-fallback\"><pre>LinearRegression()</pre><b>In a Jupyter environment, please rerun this cell to show the HTML representation or trust the notebook. <br />On GitHub, the HTML representation is unable to render, please try loading this page with nbviewer.org.</b></div><div class=\"sk-container\" hidden><div class=\"sk-item\"><div class=\"sk-estimator sk-toggleable\"><input class=\"sk-toggleable__control sk-hidden--visually\" id=\"sk-estimator-id-1\" type=\"checkbox\" checked><label for=\"sk-estimator-id-1\" class=\"sk-toggleable__label sk-toggleable__label-arrow\">LinearRegression</label><div class=\"sk-toggleable__content\"><pre>LinearRegression()</pre></div></div></div></div></div>"
      ],
      "text/plain": [
       "LinearRegression()"
      ]
     },
     "execution_count": 54,
     "metadata": {},
     "output_type": "execute_result"
    }
   ],
   "source": [
    "from sklearn.linear_model import LinearRegression\n",
    "ml=LinearRegression()\n",
    "ml.fit(X_train,y_train)"
   ]
  },
  {
   "cell_type": "code",
   "execution_count": 55,
   "id": "ff4910bc",
   "metadata": {},
   "outputs": [
    {
     "name": "stdout",
     "output_type": "stream",
     "text": [
      "[7375783.05489965   78426.58120433 7609140.80612306 ... 8616455.89036616\n",
      " -293915.50820623  616577.06027227]\n"
     ]
    }
   ],
   "source": [
    "forecast = ml.predict(X_test)\n",
    "print(forecast)"
   ]
  },
  {
   "cell_type": "code",
   "execution_count": 56,
   "id": "0b019975",
   "metadata": {},
   "outputs": [
    {
     "name": "stdout",
     "output_type": "stream",
     "text": [
      "[-5.39102410e+03 -3.28938213e+05  7.41573029e+06 ... -7.46762509e+05\n",
      " -1.46091793e+05  1.69956296e+05]\n"
     ]
    }
   ],
   "source": [
    "trainForecast=ml.predict(X_train)\n",
    "print(trainForecast)"
   ]
  },
  {
   "cell_type": "code",
   "execution_count": 57,
   "id": "6d86e4b1",
   "metadata": {},
   "outputs": [
    {
     "data": {
      "text/plain": [
       "array([7379899.61627748])"
      ]
     },
     "execution_count": 57,
     "metadata": {},
     "output_type": "execute_result"
    }
   ],
   "source": [
    "ml.predict([[1075.0,0,0,3,3,0,0,0,0,0,0,0,0,9,13]])"
   ]
  },
  {
   "cell_type": "code",
   "execution_count": 58,
   "id": "10d6ff2f",
   "metadata": {},
   "outputs": [],
   "source": [
    "#Performance Matrix"
   ]
  },
  {
   "cell_type": "code",
   "execution_count": 59,
   "id": "29328665",
   "metadata": {},
   "outputs": [
    {
     "name": "stdout",
     "output_type": "stream",
     "text": [
      "0.7280291498432672\n"
     ]
    }
   ],
   "source": [
    "from sklearn.metrics import r2_score\n",
    "r1=r2_score(y_test,forecast)\n",
    "print(r1)"
   ]
  },
  {
   "cell_type": "code",
   "execution_count": 60,
   "id": "b175f027",
   "metadata": {},
   "outputs": [],
   "source": [
    "#KNN Regressor Algorithm"
   ]
  },
  {
   "cell_type": "code",
   "execution_count": 61,
   "id": "c040c7f5",
   "metadata": {},
   "outputs": [
    {
     "data": {
      "text/html": [
       "<style>#sk-container-id-2 {color: black;background-color: white;}#sk-container-id-2 pre{padding: 0;}#sk-container-id-2 div.sk-toggleable {background-color: white;}#sk-container-id-2 label.sk-toggleable__label {cursor: pointer;display: block;width: 100%;margin-bottom: 0;padding: 0.3em;box-sizing: border-box;text-align: center;}#sk-container-id-2 label.sk-toggleable__label-arrow:before {content: \"▸\";float: left;margin-right: 0.25em;color: #696969;}#sk-container-id-2 label.sk-toggleable__label-arrow:hover:before {color: black;}#sk-container-id-2 div.sk-estimator:hover label.sk-toggleable__label-arrow:before {color: black;}#sk-container-id-2 div.sk-toggleable__content {max-height: 0;max-width: 0;overflow: hidden;text-align: left;background-color: #f0f8ff;}#sk-container-id-2 div.sk-toggleable__content pre {margin: 0.2em;color: black;border-radius: 0.25em;background-color: #f0f8ff;}#sk-container-id-2 input.sk-toggleable__control:checked~div.sk-toggleable__content {max-height: 200px;max-width: 100%;overflow: auto;}#sk-container-id-2 input.sk-toggleable__control:checked~label.sk-toggleable__label-arrow:before {content: \"▾\";}#sk-container-id-2 div.sk-estimator input.sk-toggleable__control:checked~label.sk-toggleable__label {background-color: #d4ebff;}#sk-container-id-2 div.sk-label input.sk-toggleable__control:checked~label.sk-toggleable__label {background-color: #d4ebff;}#sk-container-id-2 input.sk-hidden--visually {border: 0;clip: rect(1px 1px 1px 1px);clip: rect(1px, 1px, 1px, 1px);height: 1px;margin: -1px;overflow: hidden;padding: 0;position: absolute;width: 1px;}#sk-container-id-2 div.sk-estimator {font-family: monospace;background-color: #f0f8ff;border: 1px dotted black;border-radius: 0.25em;box-sizing: border-box;margin-bottom: 0.5em;}#sk-container-id-2 div.sk-estimator:hover {background-color: #d4ebff;}#sk-container-id-2 div.sk-parallel-item::after {content: \"\";width: 100%;border-bottom: 1px solid gray;flex-grow: 1;}#sk-container-id-2 div.sk-label:hover label.sk-toggleable__label {background-color: #d4ebff;}#sk-container-id-2 div.sk-serial::before {content: \"\";position: absolute;border-left: 1px solid gray;box-sizing: border-box;top: 0;bottom: 0;left: 50%;z-index: 0;}#sk-container-id-2 div.sk-serial {display: flex;flex-direction: column;align-items: center;background-color: white;padding-right: 0.2em;padding-left: 0.2em;position: relative;}#sk-container-id-2 div.sk-item {position: relative;z-index: 1;}#sk-container-id-2 div.sk-parallel {display: flex;align-items: stretch;justify-content: center;background-color: white;position: relative;}#sk-container-id-2 div.sk-item::before, #sk-container-id-2 div.sk-parallel-item::before {content: \"\";position: absolute;border-left: 1px solid gray;box-sizing: border-box;top: 0;bottom: 0;left: 50%;z-index: -1;}#sk-container-id-2 div.sk-parallel-item {display: flex;flex-direction: column;z-index: 1;position: relative;background-color: white;}#sk-container-id-2 div.sk-parallel-item:first-child::after {align-self: flex-end;width: 50%;}#sk-container-id-2 div.sk-parallel-item:last-child::after {align-self: flex-start;width: 50%;}#sk-container-id-2 div.sk-parallel-item:only-child::after {width: 0;}#sk-container-id-2 div.sk-dashed-wrapped {border: 1px dashed gray;margin: 0 0.4em 0.5em 0.4em;box-sizing: border-box;padding-bottom: 0.4em;background-color: white;}#sk-container-id-2 div.sk-label label {font-family: monospace;font-weight: bold;display: inline-block;line-height: 1.2em;}#sk-container-id-2 div.sk-label-container {text-align: center;}#sk-container-id-2 div.sk-container {/* jupyter's `normalize.less` sets `[hidden] { display: none; }` but bootstrap.min.css set `[hidden] { display: none !important; }` so we also need the `!important` here to be able to override the default hidden behavior on the sphinx rendered scikit-learn.org. See: https://github.com/scikit-learn/scikit-learn/issues/21755 */display: inline-block !important;position: relative;}#sk-container-id-2 div.sk-text-repr-fallback {display: none;}</style><div id=\"sk-container-id-2\" class=\"sk-top-container\"><div class=\"sk-text-repr-fallback\"><pre>KNeighborsRegressor()</pre><b>In a Jupyter environment, please rerun this cell to show the HTML representation or trust the notebook. <br />On GitHub, the HTML representation is unable to render, please try loading this page with nbviewer.org.</b></div><div class=\"sk-container\" hidden><div class=\"sk-item\"><div class=\"sk-estimator sk-toggleable\"><input class=\"sk-toggleable__control sk-hidden--visually\" id=\"sk-estimator-id-2\" type=\"checkbox\" checked><label for=\"sk-estimator-id-2\" class=\"sk-toggleable__label sk-toggleable__label-arrow\">KNeighborsRegressor</label><div class=\"sk-toggleable__content\"><pre>KNeighborsRegressor()</pre></div></div></div></div></div>"
      ],
      "text/plain": [
       "KNeighborsRegressor()"
      ]
     },
     "execution_count": 61,
     "metadata": {},
     "output_type": "execute_result"
    }
   ],
   "source": [
    "from sklearn.neighbors import KNeighborsRegressor\n",
    "KNNml=KNeighborsRegressor(n_neighbors=5)\n",
    "KNNml.fit(X_train,y_train)"
   ]
  },
  {
   "cell_type": "code",
   "execution_count": 62,
   "id": "d19cf9d6",
   "metadata": {},
   "outputs": [
    {
     "name": "stdout",
     "output_type": "stream",
     "text": [
      "[5040000.  113200. 7486400. ... 6320760. 4380000. 5816000.]\n"
     ]
    }
   ],
   "source": [
    "KNNforecast = KNNml.predict(X_test)\n",
    "print(KNNforecast)"
   ]
  },
  {
   "cell_type": "code",
   "execution_count": 63,
   "id": "fcb922f8",
   "metadata": {},
   "outputs": [
    {
     "data": {
      "text/plain": [
       "array([5189700.])"
      ]
     },
     "execution_count": 63,
     "metadata": {},
     "output_type": "execute_result"
    }
   ],
   "source": [
    "KNNml.predict([[1075.0,0,0,3,3,0,0,0,0,0,0,0,0,9,13]])"
   ]
  },
  {
   "cell_type": "code",
   "execution_count": 64,
   "id": "47054498",
   "metadata": {},
   "outputs": [],
   "source": [
    "#Performance Matrix"
   ]
  },
  {
   "cell_type": "code",
   "execution_count": 65,
   "id": "093a5d0d",
   "metadata": {},
   "outputs": [
    {
     "name": "stdout",
     "output_type": "stream",
     "text": [
      "0.3296462690006098\n"
     ]
    }
   ],
   "source": [
    "from sklearn.metrics import r2_score\n",
    "r4=r2_score(y_test,KNNforecast)\n",
    "print(r4)"
   ]
  },
  {
   "cell_type": "code",
   "execution_count": 66,
   "id": "387d6f2d",
   "metadata": {},
   "outputs": [],
   "source": [
    "#Gradient Boosting Regressor"
   ]
  },
  {
   "cell_type": "code",
   "execution_count": 67,
   "id": "da05f3a0",
   "metadata": {},
   "outputs": [
    {
     "data": {
      "text/html": [
       "<style>#sk-container-id-3 {color: black;background-color: white;}#sk-container-id-3 pre{padding: 0;}#sk-container-id-3 div.sk-toggleable {background-color: white;}#sk-container-id-3 label.sk-toggleable__label {cursor: pointer;display: block;width: 100%;margin-bottom: 0;padding: 0.3em;box-sizing: border-box;text-align: center;}#sk-container-id-3 label.sk-toggleable__label-arrow:before {content: \"▸\";float: left;margin-right: 0.25em;color: #696969;}#sk-container-id-3 label.sk-toggleable__label-arrow:hover:before {color: black;}#sk-container-id-3 div.sk-estimator:hover label.sk-toggleable__label-arrow:before {color: black;}#sk-container-id-3 div.sk-toggleable__content {max-height: 0;max-width: 0;overflow: hidden;text-align: left;background-color: #f0f8ff;}#sk-container-id-3 div.sk-toggleable__content pre {margin: 0.2em;color: black;border-radius: 0.25em;background-color: #f0f8ff;}#sk-container-id-3 input.sk-toggleable__control:checked~div.sk-toggleable__content {max-height: 200px;max-width: 100%;overflow: auto;}#sk-container-id-3 input.sk-toggleable__control:checked~label.sk-toggleable__label-arrow:before {content: \"▾\";}#sk-container-id-3 div.sk-estimator input.sk-toggleable__control:checked~label.sk-toggleable__label {background-color: #d4ebff;}#sk-container-id-3 div.sk-label input.sk-toggleable__control:checked~label.sk-toggleable__label {background-color: #d4ebff;}#sk-container-id-3 input.sk-hidden--visually {border: 0;clip: rect(1px 1px 1px 1px);clip: rect(1px, 1px, 1px, 1px);height: 1px;margin: -1px;overflow: hidden;padding: 0;position: absolute;width: 1px;}#sk-container-id-3 div.sk-estimator {font-family: monospace;background-color: #f0f8ff;border: 1px dotted black;border-radius: 0.25em;box-sizing: border-box;margin-bottom: 0.5em;}#sk-container-id-3 div.sk-estimator:hover {background-color: #d4ebff;}#sk-container-id-3 div.sk-parallel-item::after {content: \"\";width: 100%;border-bottom: 1px solid gray;flex-grow: 1;}#sk-container-id-3 div.sk-label:hover label.sk-toggleable__label {background-color: #d4ebff;}#sk-container-id-3 div.sk-serial::before {content: \"\";position: absolute;border-left: 1px solid gray;box-sizing: border-box;top: 0;bottom: 0;left: 50%;z-index: 0;}#sk-container-id-3 div.sk-serial {display: flex;flex-direction: column;align-items: center;background-color: white;padding-right: 0.2em;padding-left: 0.2em;position: relative;}#sk-container-id-3 div.sk-item {position: relative;z-index: 1;}#sk-container-id-3 div.sk-parallel {display: flex;align-items: stretch;justify-content: center;background-color: white;position: relative;}#sk-container-id-3 div.sk-item::before, #sk-container-id-3 div.sk-parallel-item::before {content: \"\";position: absolute;border-left: 1px solid gray;box-sizing: border-box;top: 0;bottom: 0;left: 50%;z-index: -1;}#sk-container-id-3 div.sk-parallel-item {display: flex;flex-direction: column;z-index: 1;position: relative;background-color: white;}#sk-container-id-3 div.sk-parallel-item:first-child::after {align-self: flex-end;width: 50%;}#sk-container-id-3 div.sk-parallel-item:last-child::after {align-self: flex-start;width: 50%;}#sk-container-id-3 div.sk-parallel-item:only-child::after {width: 0;}#sk-container-id-3 div.sk-dashed-wrapped {border: 1px dashed gray;margin: 0 0.4em 0.5em 0.4em;box-sizing: border-box;padding-bottom: 0.4em;background-color: white;}#sk-container-id-3 div.sk-label label {font-family: monospace;font-weight: bold;display: inline-block;line-height: 1.2em;}#sk-container-id-3 div.sk-label-container {text-align: center;}#sk-container-id-3 div.sk-container {/* jupyter's `normalize.less` sets `[hidden] { display: none; }` but bootstrap.min.css set `[hidden] { display: none !important; }` so we also need the `!important` here to be able to override the default hidden behavior on the sphinx rendered scikit-learn.org. See: https://github.com/scikit-learn/scikit-learn/issues/21755 */display: inline-block !important;position: relative;}#sk-container-id-3 div.sk-text-repr-fallback {display: none;}</style><div id=\"sk-container-id-3\" class=\"sk-top-container\"><div class=\"sk-text-repr-fallback\"><pre>GradientBoostingRegressor()</pre><b>In a Jupyter environment, please rerun this cell to show the HTML representation or trust the notebook. <br />On GitHub, the HTML representation is unable to render, please try loading this page with nbviewer.org.</b></div><div class=\"sk-container\" hidden><div class=\"sk-item\"><div class=\"sk-estimator sk-toggleable\"><input class=\"sk-toggleable__control sk-hidden--visually\" id=\"sk-estimator-id-3\" type=\"checkbox\" checked><label for=\"sk-estimator-id-3\" class=\"sk-toggleable__label sk-toggleable__label-arrow\">GradientBoostingRegressor</label><div class=\"sk-toggleable__content\"><pre>GradientBoostingRegressor()</pre></div></div></div></div></div>"
      ],
      "text/plain": [
       "GradientBoostingRegressor()"
      ]
     },
     "execution_count": 67,
     "metadata": {},
     "output_type": "execute_result"
    }
   ],
   "source": [
    "from sklearn.ensemble import GradientBoostingRegressor\n",
    "Boostml=GradientBoostingRegressor()\n",
    "Boostml.fit(X_train,y_train)"
   ]
  },
  {
   "cell_type": "code",
   "execution_count": 68,
   "id": "30d205da",
   "metadata": {},
   "outputs": [
    {
     "name": "stdout",
     "output_type": "stream",
     "text": [
      "[4943227.01805176  120950.82188939 7810162.91706322 ... 9595119.74402714\n",
      "   63432.77032477 -409180.05897476]\n"
     ]
    }
   ],
   "source": [
    "Boostforecast = Boostml.predict(X_test)\n",
    "print(Boostforecast)"
   ]
  },
  {
   "cell_type": "code",
   "execution_count": 69,
   "id": "c81ce4c1",
   "metadata": {},
   "outputs": [
    {
     "data": {
      "text/plain": [
       "array([5085714.71545555])"
      ]
     },
     "execution_count": 69,
     "metadata": {},
     "output_type": "execute_result"
    }
   ],
   "source": [
    "Boostml.predict([[1075.0,0,0,3,3,0,0,0,0,0,0,0,0,9,13]])"
   ]
  },
  {
   "cell_type": "code",
   "execution_count": 70,
   "id": "11e1c0e2",
   "metadata": {},
   "outputs": [],
   "source": [
    "# Performance Metrix GBR"
   ]
  },
  {
   "cell_type": "code",
   "execution_count": 71,
   "id": "d9cdff4a",
   "metadata": {},
   "outputs": [
    {
     "name": "stdout",
     "output_type": "stream",
     "text": [
      "0.9043182735454103\n"
     ]
    }
   ],
   "source": [
    "from sklearn.metrics import r2_score\n",
    "r5=r2_score(y_test,Boostforecast)\n",
    "print(r5)"
   ]
  },
  {
   "cell_type": "code",
   "execution_count": 72,
   "id": "68b2cfed",
   "metadata": {},
   "outputs": [],
   "source": [
    "# Random Forest"
   ]
  },
  {
   "cell_type": "code",
   "execution_count": 73,
   "id": "f34e8a32",
   "metadata": {},
   "outputs": [
    {
     "data": {
      "text/html": [
       "<style>#sk-container-id-4 {color: black;background-color: white;}#sk-container-id-4 pre{padding: 0;}#sk-container-id-4 div.sk-toggleable {background-color: white;}#sk-container-id-4 label.sk-toggleable__label {cursor: pointer;display: block;width: 100%;margin-bottom: 0;padding: 0.3em;box-sizing: border-box;text-align: center;}#sk-container-id-4 label.sk-toggleable__label-arrow:before {content: \"▸\";float: left;margin-right: 0.25em;color: #696969;}#sk-container-id-4 label.sk-toggleable__label-arrow:hover:before {color: black;}#sk-container-id-4 div.sk-estimator:hover label.sk-toggleable__label-arrow:before {color: black;}#sk-container-id-4 div.sk-toggleable__content {max-height: 0;max-width: 0;overflow: hidden;text-align: left;background-color: #f0f8ff;}#sk-container-id-4 div.sk-toggleable__content pre {margin: 0.2em;color: black;border-radius: 0.25em;background-color: #f0f8ff;}#sk-container-id-4 input.sk-toggleable__control:checked~div.sk-toggleable__content {max-height: 200px;max-width: 100%;overflow: auto;}#sk-container-id-4 input.sk-toggleable__control:checked~label.sk-toggleable__label-arrow:before {content: \"▾\";}#sk-container-id-4 div.sk-estimator input.sk-toggleable__control:checked~label.sk-toggleable__label {background-color: #d4ebff;}#sk-container-id-4 div.sk-label input.sk-toggleable__control:checked~label.sk-toggleable__label {background-color: #d4ebff;}#sk-container-id-4 input.sk-hidden--visually {border: 0;clip: rect(1px 1px 1px 1px);clip: rect(1px, 1px, 1px, 1px);height: 1px;margin: -1px;overflow: hidden;padding: 0;position: absolute;width: 1px;}#sk-container-id-4 div.sk-estimator {font-family: monospace;background-color: #f0f8ff;border: 1px dotted black;border-radius: 0.25em;box-sizing: border-box;margin-bottom: 0.5em;}#sk-container-id-4 div.sk-estimator:hover {background-color: #d4ebff;}#sk-container-id-4 div.sk-parallel-item::after {content: \"\";width: 100%;border-bottom: 1px solid gray;flex-grow: 1;}#sk-container-id-4 div.sk-label:hover label.sk-toggleable__label {background-color: #d4ebff;}#sk-container-id-4 div.sk-serial::before {content: \"\";position: absolute;border-left: 1px solid gray;box-sizing: border-box;top: 0;bottom: 0;left: 50%;z-index: 0;}#sk-container-id-4 div.sk-serial {display: flex;flex-direction: column;align-items: center;background-color: white;padding-right: 0.2em;padding-left: 0.2em;position: relative;}#sk-container-id-4 div.sk-item {position: relative;z-index: 1;}#sk-container-id-4 div.sk-parallel {display: flex;align-items: stretch;justify-content: center;background-color: white;position: relative;}#sk-container-id-4 div.sk-item::before, #sk-container-id-4 div.sk-parallel-item::before {content: \"\";position: absolute;border-left: 1px solid gray;box-sizing: border-box;top: 0;bottom: 0;left: 50%;z-index: -1;}#sk-container-id-4 div.sk-parallel-item {display: flex;flex-direction: column;z-index: 1;position: relative;background-color: white;}#sk-container-id-4 div.sk-parallel-item:first-child::after {align-self: flex-end;width: 50%;}#sk-container-id-4 div.sk-parallel-item:last-child::after {align-self: flex-start;width: 50%;}#sk-container-id-4 div.sk-parallel-item:only-child::after {width: 0;}#sk-container-id-4 div.sk-dashed-wrapped {border: 1px dashed gray;margin: 0 0.4em 0.5em 0.4em;box-sizing: border-box;padding-bottom: 0.4em;background-color: white;}#sk-container-id-4 div.sk-label label {font-family: monospace;font-weight: bold;display: inline-block;line-height: 1.2em;}#sk-container-id-4 div.sk-label-container {text-align: center;}#sk-container-id-4 div.sk-container {/* jupyter's `normalize.less` sets `[hidden] { display: none; }` but bootstrap.min.css set `[hidden] { display: none !important; }` so we also need the `!important` here to be able to override the default hidden behavior on the sphinx rendered scikit-learn.org. See: https://github.com/scikit-learn/scikit-learn/issues/21755 */display: inline-block !important;position: relative;}#sk-container-id-4 div.sk-text-repr-fallback {display: none;}</style><div id=\"sk-container-id-4\" class=\"sk-top-container\"><div class=\"sk-text-repr-fallback\"><pre>RandomForestRegressor()</pre><b>In a Jupyter environment, please rerun this cell to show the HTML representation or trust the notebook. <br />On GitHub, the HTML representation is unable to render, please try loading this page with nbviewer.org.</b></div><div class=\"sk-container\" hidden><div class=\"sk-item\"><div class=\"sk-estimator sk-toggleable\"><input class=\"sk-toggleable__control sk-hidden--visually\" id=\"sk-estimator-id-4\" type=\"checkbox\" checked><label for=\"sk-estimator-id-4\" class=\"sk-toggleable__label sk-toggleable__label-arrow\">RandomForestRegressor</label><div class=\"sk-toggleable__content\"><pre>RandomForestRegressor()</pre></div></div></div></div></div>"
      ],
      "text/plain": [
       "RandomForestRegressor()"
      ]
     },
     "execution_count": 73,
     "metadata": {},
     "output_type": "execute_result"
    }
   ],
   "source": [
    "from sklearn.ensemble import RandomForestRegressor\n",
    "Fml=RandomForestRegressor(n_estimators=100)\n",
    "Fml.fit(X_train,y_train)"
   ]
  },
  {
   "cell_type": "code",
   "execution_count": 74,
   "id": "6c50aec5",
   "metadata": {},
   "outputs": [
    {
     "name": "stdout",
     "output_type": "stream",
     "text": [
      "[4096290.          138381.2        6625480.         ... 8927790.\n",
      "   19505.           30933.33333333]\n"
     ]
    }
   ],
   "source": [
    "Fforecast = Fml.predict(X_test)\n",
    "print(Fforecast)"
   ]
  },
  {
   "cell_type": "code",
   "execution_count": 75,
   "id": "b165cc8f",
   "metadata": {},
   "outputs": [
    {
     "name": "stdout",
     "output_type": "stream",
     "text": [
      "[  24340.           25030.         3358130.         ...   16413.75\n",
      "   18710.09920635   47608.33333333]\n"
     ]
    }
   ],
   "source": [
    "trainFforecast = Fml.predict(X_train)\n",
    "print(trainFforecast)"
   ]
  },
  {
   "cell_type": "code",
   "execution_count": 76,
   "id": "740b9f49",
   "metadata": {},
   "outputs": [
    {
     "data": {
      "text/plain": [
       "array([5467994.91])"
      ]
     },
     "execution_count": 76,
     "metadata": {},
     "output_type": "execute_result"
    }
   ],
   "source": [
    "Fml.predict([[1075.0,0,0,3,3,0,0,0,0,0,0,0,0,9,13]])"
   ]
  },
  {
   "cell_type": "code",
   "execution_count": 77,
   "id": "949a6516",
   "metadata": {},
   "outputs": [],
   "source": [
    "# Performance Matrix"
   ]
  },
  {
   "cell_type": "code",
   "execution_count": 78,
   "id": "2ed2398a",
   "metadata": {},
   "outputs": [
    {
     "name": "stdout",
     "output_type": "stream",
     "text": [
      "0.914973951721117\n"
     ]
    }
   ],
   "source": [
    "from sklearn.metrics import r2_score\n",
    "r6=r2_score(y_test,Fforecast)\n",
    "print(r6)"
   ]
  },
  {
   "cell_type": "code",
   "execution_count": 79,
   "id": "d8ffbb91",
   "metadata": {},
   "outputs": [
    {
     "data": {
      "image/png": "[encoded data removed]",
      "text/plain": [
       "<Figure size 1500x1000 with 1 Axes>"
      ]
     },
     "metadata": {},
     "output_type": "display_data"
    }
   ],
   "source": [
    "score=r1,r4,r5,r6\n",
    "model=['LR','KNN','GBR','RF']\n",
    "plt.xlabel('Models')\n",
    "plt.ylabel('Score')\n",
    "\n",
    "plt.title(' MODELS vs Score')\n",
    "plt.plot(model,score, color='orange')\n",
    "plt.grid()"
   ]
  },
  {
   "cell_type": "code",
   "execution_count": 80,
   "id": "33c84789",
   "metadata": {},
   "outputs": [],
   "source": [
    "# import joblib \n",
    "# joblib.dump(Fml, \"Price_Prediction_Model.pkl\")"
   ]
  }
 ],
 "metadata": {
  "kernelspec": {
   "display_name": "Python 3 (ipykernel)",
   "language": "python",
   "name": "python3"
  },
  "language_info": {
   "codemirror_mode": {
    "name": "ipython",
    "version": 3
   },
   "file_extension": ".py",
   "mimetype": "text/x-python",
   "name": "python",
   "nbconvert_exporter": "python",
   "pygments_lexer": "ipython3",
   "version": "3.10.9"
  }
 },
 "nbformat": 4,
 "nbformat_minor": 5
}
