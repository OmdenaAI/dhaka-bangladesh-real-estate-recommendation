{
 "cells": [
  {
   "cell_type": "markdown",
   "id": "10b4f95e",
   "metadata": {},
   "source": [
    "## Run R in jupyter notebook"
   ]
  },
  {
   "cell_type": "code",
   "execution_count": 1,
   "id": "8769d9a5",
   "metadata": {},
   "outputs": [],
   "source": [
    "%load_ext rpy2.ipython"
   ]
  },
  {
   "cell_type": "markdown",
   "id": "d9dcc832",
   "metadata": {},
   "source": [
    "## Function: _predict_property_price_()"
   ]
  },
  {
   "cell_type": "code",
   "execution_count": 21,
   "id": "b037cf81",
   "metadata": {},
   "outputs": [],
   "source": [
    "%%R\n",
    "\n",
    "predict_property_price <- function(area = 1000, \n",
    "                                   num_bath_rooms = 1, \n",
    "                                   num_bed_rooms = 2, \n",
    "                                   zone='Mirpur', \n",
    "                                   purpose = \"sale\"){    \n",
    "\n",
    "    #     Create a data frame with user input\n",
    "    newdata <- data.frame(area, num_bath_rooms, num_bed_rooms, zone)\n",
    "\n",
    "    #     Load the model\n",
    "    if(purpose == \"sale\")\n",
    "        mod.reg <- readRDS(\"lmer.sale.allZones.rds\")\n",
    "    else if(purpose == \"rent\")\n",
    "        mod.reg <- readRDS(\"lmer.rent.allZones.rds\")\n",
    "    else{\n",
    "        print(\"ERROR: Purpose should be either 'sale' or 'rent'\")\n",
    "        return(0)\n",
    "    }\n",
    "\n",
    "    #     Generate predictions\n",
    "    y_predicted <- predict(mod.reg, newdata = newdata, re.form = NULL)\n",
    "\n",
    "    #     Back-transform the log-transformed price value\n",
    "    y_predicted_backtransformed <- exp(y_predicted)\n",
    "    \n",
    "    print(paste(round(as.numeric(y_predicted_backtransformed)), \"BDT\", \"for\", purpose, \"of\", area, \"Sq. ft\", \"in\", zone))\n",
    "    return(round(as.numeric(y_predicted_backtransformed)))\n",
    "}"
   ]
  },
  {
   "cell_type": "markdown",
   "id": "264be497",
   "metadata": {},
   "source": [
    "## Test the function: _predict_property_price_()"
   ]
  },
  {
   "cell_type": "code",
   "execution_count": 24,
   "id": "ff0b24c6",
   "metadata": {},
   "outputs": [
    {
     "name": "stdout",
     "output_type": "stream",
     "text": [
      "[1] \"70430 BDT for rent of 4000 Sq. ft in Chattogram City\"\n"
     ]
    }
   ],
   "source": [
    "%%R\n",
    "\n",
    "# A list of top 10 zones in terms of the no. data points in the training set\n",
    "zones_top_10 = c('Mirpur',\n",
    " 'Chattogram City',\n",
    " 'Bashundhara R/A',\n",
    " 'Khilgaon',\n",
    " 'Mohammadpur',\n",
    " 'Uttara',\n",
    " 'Badda',\n",
    " 'Dakshin Khan',\n",
    " 'Sub-district of Chattogram',\n",
    " 'Dhaka Cantonment')\n",
    "\n",
    "area           = 4000\n",
    "num_bath_rooms = 1\n",
    "num_bed_rooms  = 2\n",
    "zone           = zones_top_10[2]\n",
    "purpose        = \"rent\"\n",
    "\n",
    "predicted_price = predict_property_price(area, num_bath_rooms, num_bed_rooms, zone, purpose)"
   ]
  },
  {
   "cell_type": "code",
   "execution_count": 6,
   "id": "38468c0c",
   "metadata": {},
   "outputs": [],
   "source": [
    "# %%R\n",
    "\n",
    "# print(paste(\"Predicted sale price:\", predicted_price))\n",
    "# print(paste(\"Area:\", area))\n",
    "# print(paste(\"Zone:\", zone))"
   ]
  }
 ],
 "metadata": {
  "kernelspec": {
   "display_name": "Python 3 (ipykernel)",
   "language": "python",
   "name": "python3"
  },
  "language_info": {
   "codemirror_mode": {
    "name": "ipython",
    "version": 3
   },
   "file_extension": ".py",
   "mimetype": "text/x-python",
   "name": "python",
   "nbconvert_exporter": "python",
   "pygments_lexer": "ipython3",
   "version": "3.9.6"
  }
 },
 "nbformat": 4,
 "nbformat_minor": 5
}
