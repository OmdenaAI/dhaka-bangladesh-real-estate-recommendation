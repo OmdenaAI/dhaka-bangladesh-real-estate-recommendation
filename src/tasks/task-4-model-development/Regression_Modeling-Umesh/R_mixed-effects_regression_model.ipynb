{
 "cells": [
  {
   "cell_type": "markdown",
   "id": "11e0fe55",
   "metadata": {},
   "source": [
    "# Load `python` libraries for some EDA and wrangling"
   ]
  },
  {
   "cell_type": "code",
   "execution_count": 53,
   "id": "1483ac7b",
   "metadata": {},
   "outputs": [],
   "source": [
    "import pandas as pd\n",
    "import matplotlib.pyplot as plt\n",
    "import numpy as np"
   ]
  },
  {
   "cell_type": "code",
   "execution_count": 54,
   "id": "b6713492",
   "metadata": {
    "scrolled": true
   },
   "outputs": [
    {
     "name": "stderr",
     "output_type": "stream",
     "text": [
      "/Library/Frameworks/Python.framework/Versions/3.9/lib/python3.9/site-packages/IPython/core/interactiveshell.py:3441: DtypeWarning: Columns (3) have mixed types.Specify dtype option on import or set low_memory=False.\n",
      "  exec(code_obj, self.user_global_ns, self.user_ns)\n"
     ]
    }
   ],
   "source": [
    "df_cl_mg = pd.read_csv(\"cleaned_merged_datasets.csv\")\n"
   ]
  },
  {
   "cell_type": "markdown",
   "id": "eee7809a",
   "metadata": {},
   "source": [
    "## Check how _area_ and _price_ are distributed"
   ]
  },
  {
   "cell_type": "code",
   "execution_count": 55,
   "id": "4d973a7b",
   "metadata": {},
   "outputs": [],
   "source": [
    "# Distribution of area for 'Rent'\n",
    "percl_area_Rent = df_cl_mg[(df_cl_mg[\"purpose\"] == \"Rent\")][\"area\"].describe(percentiles=[.01, .02, .3, .6, .9, 0.95, .99])\n",
    "# percl_area_Rent\n",
    "\n",
    "# Distribution of area for 'Sale'\n",
    "percl_area_Sale = df_cl_mg[(df_cl_mg[\"purpose\"] == \"Sale\")][\"area\"].describe(percentiles=[.01, .02, .3, .6, .9, 0.95, .99])\n",
    "# percl_area_Sale\n",
    "\n",
    "# Distribution of prices for 'Rent'\n",
    "percl_price_Rent = df_cl_mg[(df_cl_mg[\"purpose\"] == \"Rent\")][\"price\"].describe(percentiles=[.01, .02, .3, .6, .9, 0.95, .99])\n",
    "# percl_price_Rent\n",
    "\n",
    "# Distribution of prices for 'Sale'\n",
    "percl_price_Sale = df_cl_mg[(df_cl_mg[\"purpose\"] == \"Sale\")][\"price\"].describe(percentiles=[.01, .02, .3, .6, .9, 0.95, .99])\n",
    "# percl_price_Sale"
   ]
  },
  {
   "cell_type": "code",
   "execution_count": 56,
   "id": "ba384617",
   "metadata": {},
   "outputs": [
    {
     "name": "stdout",
     "output_type": "stream",
     "text": [
      "count    2.072300e+04\n",
      "mean     4.241257e+03\n",
      "std      1.555526e+05\n",
      "min      0.000000e+00\n",
      "1%       0.000000e+00\n",
      "2%       0.000000e+00\n",
      "30%      1.000000e+03\n",
      "50%      1.400000e+03\n",
      "60%      1.650000e+03\n",
      "90%      3.373000e+03\n",
      "95%      5.000000e+03\n",
      "99%      1.200000e+04\n",
      "max      1.450147e+07\n",
      "Name: area, dtype: float64 \n",
      "\n",
      " count     12978.000000\n",
      "mean       1664.862321\n",
      "std        3755.222407\n",
      "min           1.000000\n",
      "1%          115.000000\n",
      "2%          135.000000\n",
      "30%        1150.000000\n",
      "50%        1320.000000\n",
      "60%        1445.000000\n",
      "90%        2289.300000\n",
      "95%        3600.000000\n",
      "99%        7218.216000\n",
      "max      296600.000000\n",
      "Name: area, dtype: float64\n"
     ]
    }
   ],
   "source": [
    "print(percl_area_Rent, '\\n\\n', percl_area_Sale)"
   ]
  },
  {
   "cell_type": "code",
   "execution_count": 57,
   "id": "5161d53b",
   "metadata": {
    "scrolled": false
   },
   "outputs": [
    {
     "data": {
      "image/png": "[encoded data removed]",
      "text/plain": [
       "<Figure size 432x288 with 1 Axes>"
      ]
     },
     "metadata": {
      "needs_background": "light"
     },
     "output_type": "display_data"
    },
    {
     "data": {
      "image/png": "[encoded data removed]",
      "text/plain": [
       "<Figure size 432x288 with 1 Axes>"
      ]
     },
     "metadata": {
      "needs_background": "light"
     },
     "output_type": "display_data"
    },
    {
     "data": {
      "image/png": "[encoded data removed]",
      "text/plain": [
       "<Figure size 432x288 with 1 Axes>"
      ]
     },
     "metadata": {
      "needs_background": "light"
     },
     "output_type": "display_data"
    }
   ],
   "source": [
    "feature1 = 'num_bath_rooms'\n",
    "feature2 = 'num_bed_rooms'\n",
    "feature3 = 'building_type'\n",
    "\n",
    "df_cl_mg[df_cl_mg.area == 0][feature1].value_counts().plot(kind = 'bar')\n",
    "plt.show()\n",
    "\n",
    "df_cl_mg[df_cl_mg.area == 0][feature2].value_counts().plot(kind = 'bar')\n",
    "plt.show()\n",
    "\n",
    "df_cl_mg[df_cl_mg.area == 0][feature3].value_counts().plot(kind = 'bar')\n",
    "plt.show()"
   ]
  },
  {
   "cell_type": "code",
   "execution_count": 58,
   "id": "ea750a74",
   "metadata": {},
   "outputs": [
    {
     "name": "stdout",
     "output_type": "stream",
     "text": [
      "count    2.072300e+04\n",
      "mean     1.048616e+07\n",
      "std      8.390854e+08\n",
      "min      0.000000e+00\n",
      "1%       0.000000e+00\n",
      "2%       0.000000e+00\n",
      "30%      2.000000e+04\n",
      "50%      3.300000e+04\n",
      "60%      5.000000e+04\n",
      "90%      3.800000e+05\n",
      "95%      7.350000e+05\n",
      "99%      2.500000e+06\n",
      "max      1.000000e+11\n",
      "Name: price, dtype: float64 \n",
      "\n",
      " count    1.297800e+04\n",
      "mean     2.762862e+09\n",
      "std      2.124047e+11\n",
      "min      0.000000e+00\n",
      "1%       1.700000e+06\n",
      "2%       2.263500e+06\n",
      "30%      5.500000e+06\n",
      "50%      7.350000e+06\n",
      "60%      8.350000e+06\n",
      "90%      2.100000e+07\n",
      "95%      3.800000e+07\n",
      "99%      5.423000e+09\n",
      "max      2.400000e+13\n",
      "Name: price, dtype: float64\n"
     ]
    }
   ],
   "source": [
    "print(percl_price_Rent, '\\n\\n', percl_price_Sale)"
   ]
  },
  {
   "cell_type": "code",
   "execution_count": 59,
   "id": "5488b34c",
   "metadata": {},
   "outputs": [
    {
     "data": {
      "text/plain": [
       "(33701, 24)"
      ]
     },
     "execution_count": 59,
     "metadata": {},
     "output_type": "execute_result"
    }
   ],
   "source": [
    "df_cl_mg.shape"
   ]
  },
  {
   "cell_type": "markdown",
   "id": "15cbea53",
   "metadata": {},
   "source": [
    "## Create a \"clean\" dataset for _Sale_\n",
    "    . Subset to \"Sale\"\n",
    "    . Only \"Apartments\"\n",
    "    . Get rid of area and price outliers"
   ]
  },
  {
   "cell_type": "code",
   "execution_count": 60,
   "id": "91f97b1f",
   "metadata": {},
   "outputs": [],
   "source": [
    "df_sale = df_cl_mg[(df_cl_mg.purpose == 'Sale')  &\n",
    "                   (df_cl_mg.building_type == 'Apartment')  &\n",
    "                   (df_cl_mg.area > percl_area_Sale['1%']) & \n",
    "                   (df_cl_mg.area <= percl_area_Sale['99%']) & \n",
    "                  (df_cl_mg.price <= percl_price_Sale['95%']) &\n",
    "                   (df_cl_mg.price > percl_price_Sale['2%'])\n",
    "                  ][['price', 'area', 'num_bath_rooms', 'num_bed_rooms', 'zone', 'building_nature']]"
   ]
  },
  {
   "cell_type": "code",
   "execution_count": 61,
   "id": "c77196d2",
   "metadata": {},
   "outputs": [
    {
     "data": {
      "text/plain": [
       "Residential    10737\n",
       "Commercial         3\n",
       "Name: building_nature, dtype: int64"
      ]
     },
     "execution_count": 61,
     "metadata": {},
     "output_type": "execute_result"
    }
   ],
   "source": [
    "df_sale.building_nature.value_counts()"
   ]
  },
  {
   "cell_type": "markdown",
   "id": "1c861252",
   "metadata": {},
   "source": [
    "**Not many 'Commercial' `building_nature`**"
   ]
  },
  {
   "cell_type": "code",
   "execution_count": 62,
   "id": "4ab7054a",
   "metadata": {},
   "outputs": [],
   "source": [
    "# df_sale.drop('building_nature', axis = 1, inplace = True)"
   ]
  },
  {
   "cell_type": "code",
   "execution_count": 63,
   "id": "114cd6fb",
   "metadata": {},
   "outputs": [],
   "source": [
    "# df_sale['price'].describe(percentiles=[0.02, .3, .6, .9, 0.95, .99])"
   ]
  },
  {
   "cell_type": "code",
   "execution_count": 64,
   "id": "3c8b9d5e",
   "metadata": {
    "scrolled": true
   },
   "outputs": [
    {
     "data": {
      "text/html": [
       "<div>\n",
       "<style scoped>\n",
       "    .dataframe tbody tr th:only-of-type {\n",
       "        vertical-align: middle;\n",
       "    }\n",
       "\n",
       "    .dataframe tbody tr th {\n",
       "        vertical-align: top;\n",
       "    }\n",
       "\n",
       "    .dataframe thead th {\n",
       "        text-align: right;\n",
       "    }\n",
       "</style>\n",
       "<table border=\"1\" class=\"dataframe\">\n",
       "  <thead>\n",
       "    <tr style=\"text-align: right;\">\n",
       "      <th></th>\n",
       "      <th>count</th>\n",
       "      <th>unique</th>\n",
       "      <th>top</th>\n",
       "      <th>freq</th>\n",
       "      <th>mean</th>\n",
       "      <th>std</th>\n",
       "      <th>min</th>\n",
       "      <th>25%</th>\n",
       "      <th>50%</th>\n",
       "      <th>75%</th>\n",
       "      <th>max</th>\n",
       "    </tr>\n",
       "  </thead>\n",
       "  <tbody>\n",
       "    <tr>\n",
       "      <th>price</th>\n",
       "      <td>10740.0</td>\n",
       "      <td>NaN</td>\n",
       "      <td>NaN</td>\n",
       "      <td>NaN</td>\n",
       "      <td>8791256.480066</td>\n",
       "      <td>5330544.604312</td>\n",
       "      <td>2275000.0</td>\n",
       "      <td>5250000.0</td>\n",
       "      <td>7200000.0</td>\n",
       "      <td>10500000.0</td>\n",
       "      <td>38000000.0</td>\n",
       "    </tr>\n",
       "    <tr>\n",
       "      <th>area</th>\n",
       "      <td>10740.0</td>\n",
       "      <td>NaN</td>\n",
       "      <td>NaN</td>\n",
       "      <td>NaN</td>\n",
       "      <td>1362.240782</td>\n",
       "      <td>437.435757</td>\n",
       "      <td>250.0</td>\n",
       "      <td>1100.0</td>\n",
       "      <td>1300.0</td>\n",
       "      <td>1550.0</td>\n",
       "      <td>6357.0</td>\n",
       "    </tr>\n",
       "    <tr>\n",
       "      <th>num_bath_rooms</th>\n",
       "      <td>10740.0</td>\n",
       "      <td>NaN</td>\n",
       "      <td>NaN</td>\n",
       "      <td>NaN</td>\n",
       "      <td>1.621415</td>\n",
       "      <td>1.516912</td>\n",
       "      <td>0.0</td>\n",
       "      <td>0.0</td>\n",
       "      <td>2.0</td>\n",
       "      <td>3.0</td>\n",
       "      <td>8.0</td>\n",
       "    </tr>\n",
       "    <tr>\n",
       "      <th>num_bed_rooms</th>\n",
       "      <td>10740.0</td>\n",
       "      <td>NaN</td>\n",
       "      <td>NaN</td>\n",
       "      <td>NaN</td>\n",
       "      <td>2.924022</td>\n",
       "      <td>0.5266</td>\n",
       "      <td>0.0</td>\n",
       "      <td>3.0</td>\n",
       "      <td>3.0</td>\n",
       "      <td>3.0</td>\n",
       "      <td>7.0</td>\n",
       "    </tr>\n",
       "    <tr>\n",
       "      <th>zone</th>\n",
       "      <td>10714</td>\n",
       "      <td>53</td>\n",
       "      <td>Mirpur</td>\n",
       "      <td>3671</td>\n",
       "      <td>NaN</td>\n",
       "      <td>NaN</td>\n",
       "      <td>NaN</td>\n",
       "      <td>NaN</td>\n",
       "      <td>NaN</td>\n",
       "      <td>NaN</td>\n",
       "      <td>NaN</td>\n",
       "    </tr>\n",
       "    <tr>\n",
       "      <th>building_nature</th>\n",
       "      <td>10740</td>\n",
       "      <td>2</td>\n",
       "      <td>Residential</td>\n",
       "      <td>10737</td>\n",
       "      <td>NaN</td>\n",
       "      <td>NaN</td>\n",
       "      <td>NaN</td>\n",
       "      <td>NaN</td>\n",
       "      <td>NaN</td>\n",
       "      <td>NaN</td>\n",
       "      <td>NaN</td>\n",
       "    </tr>\n",
       "  </tbody>\n",
       "</table>\n",
       "</div>"
      ],
      "text/plain": [
       "                   count unique          top   freq            mean  \\\n",
       "price            10740.0    NaN          NaN    NaN  8791256.480066   \n",
       "area             10740.0    NaN          NaN    NaN     1362.240782   \n",
       "num_bath_rooms   10740.0    NaN          NaN    NaN        1.621415   \n",
       "num_bed_rooms    10740.0    NaN          NaN    NaN        2.924022   \n",
       "zone               10714     53       Mirpur   3671             NaN   \n",
       "building_nature    10740      2  Residential  10737             NaN   \n",
       "\n",
       "                            std        min        25%        50%         75%  \\\n",
       "price            5330544.604312  2275000.0  5250000.0  7200000.0  10500000.0   \n",
       "area                 437.435757      250.0     1100.0     1300.0      1550.0   \n",
       "num_bath_rooms         1.516912        0.0        0.0        2.0         3.0   \n",
       "num_bed_rooms            0.5266        0.0        3.0        3.0         3.0   \n",
       "zone                        NaN        NaN        NaN        NaN         NaN   \n",
       "building_nature             NaN        NaN        NaN        NaN         NaN   \n",
       "\n",
       "                        max  \n",
       "price            38000000.0  \n",
       "area                 6357.0  \n",
       "num_bath_rooms          8.0  \n",
       "num_bed_rooms           7.0  \n",
       "zone                    NaN  \n",
       "building_nature         NaN  "
      ]
     },
     "execution_count": 64,
     "metadata": {},
     "output_type": "execute_result"
    }
   ],
   "source": [
    "df_sale.describe(include='all').T"
   ]
  },
  {
   "cell_type": "markdown",
   "id": "8b936eff",
   "metadata": {},
   "source": [
    "## Data imputation & transformation"
   ]
  },
  {
   "cell_type": "markdown",
   "id": "872e563e",
   "metadata": {},
   "source": [
    "#### How many properties don't have `num_bath_rooms` info?\n",
    "An apartment not having any bathrooms is very unlikely ==> these are just missing values (an error at some point in the process)"
   ]
  },
  {
   "cell_type": "code",
   "execution_count": 65,
   "id": "747a155b",
   "metadata": {
    "scrolled": true
   },
   "outputs": [
    {
     "data": {
      "text/plain": [
       "(4662, 6)"
      ]
     },
     "execution_count": 65,
     "metadata": {},
     "output_type": "execute_result"
    }
   ],
   "source": [
    "df_sale[df_sale.num_bath_rooms==0].shape"
   ]
  },
  {
   "cell_type": "markdown",
   "id": "28423dc7",
   "metadata": {},
   "source": [
    "There are too many entries with missing `num_bath_rooms` info ( == 0) which is going to have a negative influence on estimating parameters.\n",
    "\n",
    "Let's impute these \"missing values\" with the mean."
   ]
  },
  {
   "cell_type": "code",
   "execution_count": 66,
   "id": "28a6d783",
   "metadata": {},
   "outputs": [],
   "source": [
    "mean_num_bath_rooms = df_sale[df_sale.num_bath_rooms!=0].num_bath_rooms.mean()\n",
    "# mean_num_bath_rooms\n",
    "df_sale['num_bath_rooms'] = np.where(df_sale.num_bath_rooms==0, mean_num_bath_rooms, df_sale.num_bath_rooms)"
   ]
  },
  {
   "cell_type": "code",
   "execution_count": 67,
   "id": "40e2fd0f",
   "metadata": {
    "scrolled": true
   },
   "outputs": [
    {
     "data": {
      "text/plain": [
       "(0, 6)"
      ]
     },
     "execution_count": 67,
     "metadata": {},
     "output_type": "execute_result"
    }
   ],
   "source": [
    "# Sanity check\n",
    "df_sale[df_sale.num_bath_rooms==0].shape"
   ]
  },
  {
   "cell_type": "code",
   "execution_count": 68,
   "id": "45c3a524",
   "metadata": {},
   "outputs": [
    {
     "data": {
      "text/html": [
       "<div>\n",
       "<style scoped>\n",
       "    .dataframe tbody tr th:only-of-type {\n",
       "        vertical-align: middle;\n",
       "    }\n",
       "\n",
       "    .dataframe tbody tr th {\n",
       "        vertical-align: top;\n",
       "    }\n",
       "\n",
       "    .dataframe thead th {\n",
       "        text-align: right;\n",
       "    }\n",
       "</style>\n",
       "<table border=\"1\" class=\"dataframe\">\n",
       "  <thead>\n",
       "    <tr style=\"text-align: right;\">\n",
       "      <th></th>\n",
       "      <th>count</th>\n",
       "      <th>unique</th>\n",
       "      <th>top</th>\n",
       "      <th>freq</th>\n",
       "      <th>mean</th>\n",
       "      <th>std</th>\n",
       "      <th>min</th>\n",
       "      <th>25%</th>\n",
       "      <th>50%</th>\n",
       "      <th>75%</th>\n",
       "      <th>max</th>\n",
       "    </tr>\n",
       "  </thead>\n",
       "  <tbody>\n",
       "    <tr>\n",
       "      <th>price</th>\n",
       "      <td>10740.0</td>\n",
       "      <td>NaN</td>\n",
       "      <td>NaN</td>\n",
       "      <td>NaN</td>\n",
       "      <td>8791256.480066</td>\n",
       "      <td>5330544.604312</td>\n",
       "      <td>2275000.0</td>\n",
       "      <td>5250000.0</td>\n",
       "      <td>7200000.0</td>\n",
       "      <td>10500000.0</td>\n",
       "      <td>38000000.0</td>\n",
       "    </tr>\n",
       "    <tr>\n",
       "      <th>area</th>\n",
       "      <td>10740.0</td>\n",
       "      <td>NaN</td>\n",
       "      <td>NaN</td>\n",
       "      <td>NaN</td>\n",
       "      <td>1362.240782</td>\n",
       "      <td>437.435757</td>\n",
       "      <td>250.0</td>\n",
       "      <td>1100.0</td>\n",
       "      <td>1300.0</td>\n",
       "      <td>1550.0</td>\n",
       "      <td>6357.0</td>\n",
       "    </tr>\n",
       "    <tr>\n",
       "      <th>num_bath_rooms</th>\n",
       "      <td>10740.0</td>\n",
       "      <td>NaN</td>\n",
       "      <td>NaN</td>\n",
       "      <td>NaN</td>\n",
       "      <td>2.865087</td>\n",
       "      <td>0.533222</td>\n",
       "      <td>1.0</td>\n",
       "      <td>2.865087</td>\n",
       "      <td>2.865087</td>\n",
       "      <td>3.0</td>\n",
       "      <td>8.0</td>\n",
       "    </tr>\n",
       "    <tr>\n",
       "      <th>num_bed_rooms</th>\n",
       "      <td>10740.0</td>\n",
       "      <td>NaN</td>\n",
       "      <td>NaN</td>\n",
       "      <td>NaN</td>\n",
       "      <td>2.924022</td>\n",
       "      <td>0.5266</td>\n",
       "      <td>0.0</td>\n",
       "      <td>3.0</td>\n",
       "      <td>3.0</td>\n",
       "      <td>3.0</td>\n",
       "      <td>7.0</td>\n",
       "    </tr>\n",
       "    <tr>\n",
       "      <th>zone</th>\n",
       "      <td>10714</td>\n",
       "      <td>53</td>\n",
       "      <td>Mirpur</td>\n",
       "      <td>3671</td>\n",
       "      <td>NaN</td>\n",
       "      <td>NaN</td>\n",
       "      <td>NaN</td>\n",
       "      <td>NaN</td>\n",
       "      <td>NaN</td>\n",
       "      <td>NaN</td>\n",
       "      <td>NaN</td>\n",
       "    </tr>\n",
       "    <tr>\n",
       "      <th>building_nature</th>\n",
       "      <td>10740</td>\n",
       "      <td>2</td>\n",
       "      <td>Residential</td>\n",
       "      <td>10737</td>\n",
       "      <td>NaN</td>\n",
       "      <td>NaN</td>\n",
       "      <td>NaN</td>\n",
       "      <td>NaN</td>\n",
       "      <td>NaN</td>\n",
       "      <td>NaN</td>\n",
       "      <td>NaN</td>\n",
       "    </tr>\n",
       "  </tbody>\n",
       "</table>\n",
       "</div>"
      ],
      "text/plain": [
       "                   count unique          top   freq            mean  \\\n",
       "price            10740.0    NaN          NaN    NaN  8791256.480066   \n",
       "area             10740.0    NaN          NaN    NaN     1362.240782   \n",
       "num_bath_rooms   10740.0    NaN          NaN    NaN        2.865087   \n",
       "num_bed_rooms    10740.0    NaN          NaN    NaN        2.924022   \n",
       "zone               10714     53       Mirpur   3671             NaN   \n",
       "building_nature    10740      2  Residential  10737             NaN   \n",
       "\n",
       "                            std        min        25%        50%         75%  \\\n",
       "price            5330544.604312  2275000.0  5250000.0  7200000.0  10500000.0   \n",
       "area                 437.435757      250.0     1100.0     1300.0      1550.0   \n",
       "num_bath_rooms         0.533222        1.0   2.865087   2.865087         3.0   \n",
       "num_bed_rooms            0.5266        0.0        3.0        3.0         3.0   \n",
       "zone                        NaN        NaN        NaN        NaN         NaN   \n",
       "building_nature             NaN        NaN        NaN        NaN         NaN   \n",
       "\n",
       "                        max  \n",
       "price            38000000.0  \n",
       "area                 6357.0  \n",
       "num_bath_rooms          8.0  \n",
       "num_bed_rooms           7.0  \n",
       "zone                    NaN  \n",
       "building_nature         NaN  "
      ]
     },
     "execution_count": 68,
     "metadata": {},
     "output_type": "execute_result"
    }
   ],
   "source": [
    "df_sale.describe(include='all').T"
   ]
  },
  {
   "cell_type": "markdown",
   "id": "9825d710",
   "metadata": {},
   "source": [
    "#### As we saw in the EDA: the price increases non-linearly (_exponetially_) with `area` and `num_bath/bed_rooms`\n",
    "==> Log transform price so that we can fit a linear model"
   ]
  },
  {
   "cell_type": "code",
   "execution_count": 69,
   "id": "3c22478f",
   "metadata": {},
   "outputs": [],
   "source": [
    "df_sale['price_log'] = np.log(df_sale['price'])"
   ]
  },
  {
   "cell_type": "code",
   "execution_count": 70,
   "id": "18cc8c4f",
   "metadata": {
    "scrolled": true
   },
   "outputs": [
    {
     "data": {
      "text/html": [
       "<div>\n",
       "<style scoped>\n",
       "    .dataframe tbody tr th:only-of-type {\n",
       "        vertical-align: middle;\n",
       "    }\n",
       "\n",
       "    .dataframe tbody tr th {\n",
       "        vertical-align: top;\n",
       "    }\n",
       "\n",
       "    .dataframe thead th {\n",
       "        text-align: right;\n",
       "    }\n",
       "</style>\n",
       "<table border=\"1\" class=\"dataframe\">\n",
       "  <thead>\n",
       "    <tr style=\"text-align: right;\">\n",
       "      <th></th>\n",
       "      <th>count</th>\n",
       "      <th>unique</th>\n",
       "      <th>top</th>\n",
       "      <th>freq</th>\n",
       "      <th>mean</th>\n",
       "      <th>std</th>\n",
       "      <th>min</th>\n",
       "      <th>25%</th>\n",
       "      <th>50%</th>\n",
       "      <th>75%</th>\n",
       "      <th>max</th>\n",
       "    </tr>\n",
       "  </thead>\n",
       "  <tbody>\n",
       "    <tr>\n",
       "      <th>price</th>\n",
       "      <td>10740.0</td>\n",
       "      <td>NaN</td>\n",
       "      <td>NaN</td>\n",
       "      <td>NaN</td>\n",
       "      <td>8791256.480066</td>\n",
       "      <td>5330544.604312</td>\n",
       "      <td>2275000.0</td>\n",
       "      <td>5250000.0</td>\n",
       "      <td>7200000.0</td>\n",
       "      <td>10500000.0</td>\n",
       "      <td>38000000.0</td>\n",
       "    </tr>\n",
       "    <tr>\n",
       "      <th>area</th>\n",
       "      <td>10740.0</td>\n",
       "      <td>NaN</td>\n",
       "      <td>NaN</td>\n",
       "      <td>NaN</td>\n",
       "      <td>1362.240782</td>\n",
       "      <td>437.435757</td>\n",
       "      <td>250.0</td>\n",
       "      <td>1100.0</td>\n",
       "      <td>1300.0</td>\n",
       "      <td>1550.0</td>\n",
       "      <td>6357.0</td>\n",
       "    </tr>\n",
       "    <tr>\n",
       "      <th>num_bath_rooms</th>\n",
       "      <td>10740.0</td>\n",
       "      <td>NaN</td>\n",
       "      <td>NaN</td>\n",
       "      <td>NaN</td>\n",
       "      <td>2.865087</td>\n",
       "      <td>0.533222</td>\n",
       "      <td>1.0</td>\n",
       "      <td>2.865087</td>\n",
       "      <td>2.865087</td>\n",
       "      <td>3.0</td>\n",
       "      <td>8.0</td>\n",
       "    </tr>\n",
       "    <tr>\n",
       "      <th>num_bed_rooms</th>\n",
       "      <td>10740.0</td>\n",
       "      <td>NaN</td>\n",
       "      <td>NaN</td>\n",
       "      <td>NaN</td>\n",
       "      <td>2.924022</td>\n",
       "      <td>0.5266</td>\n",
       "      <td>0.0</td>\n",
       "      <td>3.0</td>\n",
       "      <td>3.0</td>\n",
       "      <td>3.0</td>\n",
       "      <td>7.0</td>\n",
       "    </tr>\n",
       "    <tr>\n",
       "      <th>zone</th>\n",
       "      <td>10714</td>\n",
       "      <td>53</td>\n",
       "      <td>Mirpur</td>\n",
       "      <td>3671</td>\n",
       "      <td>NaN</td>\n",
       "      <td>NaN</td>\n",
       "      <td>NaN</td>\n",
       "      <td>NaN</td>\n",
       "      <td>NaN</td>\n",
       "      <td>NaN</td>\n",
       "      <td>NaN</td>\n",
       "    </tr>\n",
       "    <tr>\n",
       "      <th>building_nature</th>\n",
       "      <td>10740</td>\n",
       "      <td>2</td>\n",
       "      <td>Residential</td>\n",
       "      <td>10737</td>\n",
       "      <td>NaN</td>\n",
       "      <td>NaN</td>\n",
       "      <td>NaN</td>\n",
       "      <td>NaN</td>\n",
       "      <td>NaN</td>\n",
       "      <td>NaN</td>\n",
       "      <td>NaN</td>\n",
       "    </tr>\n",
       "    <tr>\n",
       "      <th>price_log</th>\n",
       "      <td>10740.0</td>\n",
       "      <td>NaN</td>\n",
       "      <td>NaN</td>\n",
       "      <td>NaN</td>\n",
       "      <td>15.843863</td>\n",
       "      <td>0.52274</td>\n",
       "      <td>14.637491</td>\n",
       "      <td>15.473739</td>\n",
       "      <td>15.789592</td>\n",
       "      <td>16.166886</td>\n",
       "      <td>17.453097</td>\n",
       "    </tr>\n",
       "  </tbody>\n",
       "</table>\n",
       "</div>"
      ],
      "text/plain": [
       "                   count unique          top   freq            mean  \\\n",
       "price            10740.0    NaN          NaN    NaN  8791256.480066   \n",
       "area             10740.0    NaN          NaN    NaN     1362.240782   \n",
       "num_bath_rooms   10740.0    NaN          NaN    NaN        2.865087   \n",
       "num_bed_rooms    10740.0    NaN          NaN    NaN        2.924022   \n",
       "zone               10714     53       Mirpur   3671             NaN   \n",
       "building_nature    10740      2  Residential  10737             NaN   \n",
       "price_log        10740.0    NaN          NaN    NaN       15.843863   \n",
       "\n",
       "                            std        min        25%        50%         75%  \\\n",
       "price            5330544.604312  2275000.0  5250000.0  7200000.0  10500000.0   \n",
       "area                 437.435757      250.0     1100.0     1300.0      1550.0   \n",
       "num_bath_rooms         0.533222        1.0   2.865087   2.865087         3.0   \n",
       "num_bed_rooms            0.5266        0.0        3.0        3.0         3.0   \n",
       "zone                        NaN        NaN        NaN        NaN         NaN   \n",
       "building_nature             NaN        NaN        NaN        NaN         NaN   \n",
       "price_log               0.52274  14.637491  15.473739  15.789592   16.166886   \n",
       "\n",
       "                        max  \n",
       "price            38000000.0  \n",
       "area                 6357.0  \n",
       "num_bath_rooms          8.0  \n",
       "num_bed_rooms           7.0  \n",
       "zone                    NaN  \n",
       "building_nature         NaN  \n",
       "price_log         17.453097  "
      ]
     },
     "execution_count": 70,
     "metadata": {},
     "output_type": "execute_result"
    }
   ],
   "source": [
    "df_sale.describe(include='all').T"
   ]
  },
  {
   "cell_type": "code",
   "execution_count": 71,
   "id": "3f9e687c",
   "metadata": {},
   "outputs": [
    {
     "data": {
      "text/plain": [
       "(6, 7)"
      ]
     },
     "execution_count": 71,
     "metadata": {},
     "output_type": "execute_result"
    }
   ],
   "source": [
    "df_sale[df_sale.num_bed_rooms == 0].shape"
   ]
  },
  {
   "cell_type": "code",
   "execution_count": 72,
   "id": "f4402df7",
   "metadata": {},
   "outputs": [],
   "source": [
    "df_sale.to_csv('df-sale.csv', index=False)"
   ]
  },
  {
   "cell_type": "markdown",
   "id": "2844fabf",
   "metadata": {},
   "source": [
    "<br>\n",
    "\n",
    "\n",
    "# Load `R` for linear mixed-effects models"
   ]
  },
  {
   "cell_type": "code",
   "execution_count": 73,
   "id": "787dfbdf",
   "metadata": {},
   "outputs": [
    {
     "name": "stdout",
     "output_type": "stream",
     "text": [
      "The rpy2.ipython extension is already loaded. To reload it, use:\n",
      "  %reload_ext rpy2.ipython\n"
     ]
    }
   ],
   "source": [
    "%load_ext rpy2.ipython"
   ]
  },
  {
   "cell_type": "code",
   "execution_count": 74,
   "id": "182ee254",
   "metadata": {},
   "outputs": [
    {
     "name": "stdout",
     "output_type": "stream",
     "text": [
      "character(0)\n"
     ]
    }
   ],
   "source": [
    "%%R\n",
    "\n",
    "# Start fresh\n",
    "rm(list = ls())\n",
    "ls()"
   ]
  },
  {
   "cell_type": "code",
   "execution_count": 75,
   "id": "6c2f5eca",
   "metadata": {
    "scrolled": true
   },
   "outputs": [],
   "source": [
    "%%R\n",
    "\n",
    "# Load the packages\n",
    "library(Matrix)\n",
    "library(lme4)\n",
    "library(merTools)"
   ]
  },
  {
   "cell_type": "code",
   "execution_count": 76,
   "id": "a4f32e30",
   "metadata": {
    "scrolled": true
   },
   "outputs": [
    {
     "name": "stdout",
     "output_type": "stream",
     "text": [
      "[1] \"df.sale\"\n"
     ]
    }
   ],
   "source": [
    "%%R\n",
    "df.sale = read.csv(\"df-sale.csv\")\n",
    "ls()"
   ]
  },
  {
   "cell_type": "code",
   "execution_count": 77,
   "id": "56149e91",
   "metadata": {
    "scrolled": false
   },
   "outputs": [
    {
     "name": "stdout",
     "output_type": "stream",
     "text": [
      "     price area num_bath_rooms num_bed_rooms            zone building_nature\n",
      "1  6100000 1185       2.865087             3        Khilgaon     Residential\n",
      "2 28900000 2464       4.000000             3       Dhanmondi     Residential\n",
      "3  7500000 1140       2.865087             3          Mirpur     Residential\n",
      "4 20000000 1920       3.000000             3 Bashundhara R/A     Residential\n",
      "5 10800000 1445       3.000000             3        Khilgaon     Residential\n",
      "6  5000000  925       2.865087             2        Khilgaon     Residential\n",
      "  price_log\n",
      "1  15.62380\n",
      "2  17.17935\n",
      "3  15.83041\n",
      "4  16.81124\n",
      "5  16.19506\n",
      "6  15.42495\n"
     ]
    }
   ],
   "source": [
    "%%R\n",
    "head(df.sale)"
   ]
  },
  {
   "cell_type": "code",
   "execution_count": 78,
   "id": "44512c32",
   "metadata": {},
   "outputs": [
    {
     "name": "stdout",
     "output_type": "stream",
     "text": [
      "[1] 10740     7\n"
     ]
    }
   ],
   "source": [
    "%%R\n",
    "dim(df.sale)"
   ]
  },
  {
   "cell_type": "code",
   "execution_count": 79,
   "id": "f550813f",
   "metadata": {},
   "outputs": [],
   "source": [
    "%%R\n",
    "\n",
    "# Make 'zone' as factor for using it as a random effect\n",
    "df.sale$zone = as.factor(df.sale$zone)"
   ]
  },
  {
   "cell_type": "markdown",
   "id": "1d35ce36",
   "metadata": {},
   "source": [
    "### Fit an `lmer` model"
   ]
  },
  {
   "cell_type": "code",
   "execution_count": 80,
   "id": "789143e9",
   "metadata": {},
   "outputs": [],
   "source": [
    "%%R\n",
    "lmer.sale.allZones = lmer(price_log ~ \n",
    "                          area + \n",
    "                          num_bath_rooms + \n",
    "                          num_bed_rooms + \n",
    "                          (1 | zone), \n",
    "                          data = df.sale)\n"
   ]
  },
  {
   "cell_type": "code",
   "execution_count": 81,
   "id": "9158ec61",
   "metadata": {
    "scrolled": false
   },
   "outputs": [
    {
     "name": "stdout",
     "output_type": "stream",
     "text": [
      "Linear mixed model fit by REML ['lmerMod']\n",
      "Formula: price_log ~ area + num_bath_rooms + num_bed_rooms + (1 | zone)\n",
      "   Data: df.sale\n",
      "\n",
      "REML criterion at convergence: -92.9\n",
      "\n",
      "Scaled residuals: \n",
      "     Min       1Q   Median       3Q      Max \n",
      "-13.1753  -0.5881   0.0093   0.5783   5.5183 \n",
      "\n",
      "Random effects:\n",
      " Groups   Name        Variance Std.Dev.\n",
      " zone     (Intercept) 0.09608  0.3100  \n",
      " Residual             0.05673  0.2382  \n",
      "Number of obs: 10740, groups:  zone, 54\n",
      "\n",
      "Fixed effects:\n",
      "                Estimate Std. Error t value\n",
      "(Intercept)    1.440e+01  4.709e-02 305.740\n",
      "area           8.449e-04  8.265e-06 102.222\n",
      "num_bath_rooms 5.196e-02  5.241e-03   9.915\n",
      "num_bed_rooms  9.507e-03  6.227e-03   1.527\n",
      "\n",
      "Correlation of Fixed Effects:\n",
      "            (Intr) area   nm_bt_\n",
      "area         0.059              \n",
      "num_bth_rms -0.165 -0.248       \n",
      "num_bed_rms -0.171 -0.576 -0.234\n"
     ]
    }
   ],
   "source": [
    "%%R\n",
    "summary(lmer.sale.allZones)"
   ]
  },
  {
   "cell_type": "markdown",
   "id": "196b2873",
   "metadata": {},
   "source": [
    "### Save the model for generating predictions"
   ]
  },
  {
   "cell_type": "code",
   "execution_count": 82,
   "id": "7a9c4fb5",
   "metadata": {},
   "outputs": [],
   "source": [
    "%%R\n",
    "\n",
    "saveRDS(lmer.sale.allZones, file = \"lmer.sale.allZones.rds\")"
   ]
  },
  {
   "cell_type": "markdown",
   "id": "c93e806f",
   "metadata": {},
   "source": [
    "<br>\n",
    "\n",
    "## Create a \"clean\" dataset for _Rent_\n",
    "    . Subset to \"Rent\"\n",
    "    . Only \"Apartments\"\n",
    "    . Get rid of area and price outliers\n",
    "        - Around 1000 'Rent' 'Apartments' have area == 0\n",
    "        - Around 480 'Rent' 'Apartments' have price == 0\n",
    "        ==> Get rid of them"
   ]
  },
  {
   "cell_type": "code",
   "execution_count": 83,
   "id": "5a714d5e",
   "metadata": {},
   "outputs": [],
   "source": [
    "# # Distribution of area for 'Rent'\n",
    "# percl_area_Rent = df_cl_mg[(df_cl_mg[\"purpose\"] == \"Rent\")][\"area\"].describe(percentiles=[.01, .02, .3, .6, .9, 0.95, .99])\n",
    "# # percl_area_Rent\n",
    "\n",
    "# # Distribution of prices for 'Rent'\n",
    "# percl_price_Rent = df_cl_mg[(df_cl_mg[\"purpose\"] == \"Rent\")][\"price\"].describe(percentiles=[.01, .02, .3, .6, .9, 0.95, .99])\n",
    "# # percl_price_Rent\n"
   ]
  },
  {
   "cell_type": "code",
   "execution_count": 84,
   "id": "6d4cbb90",
   "metadata": {},
   "outputs": [
    {
     "data": {
      "text/plain": [
       "count    2.072300e+04\n",
       "mean     4.241257e+03\n",
       "std      1.555526e+05\n",
       "min      0.000000e+00\n",
       "1%       0.000000e+00\n",
       "2%       0.000000e+00\n",
       "30%      1.000000e+03\n",
       "50%      1.400000e+03\n",
       "60%      1.650000e+03\n",
       "90%      3.373000e+03\n",
       "95%      5.000000e+03\n",
       "99%      1.200000e+04\n",
       "max      1.450147e+07\n",
       "Name: area, dtype: float64"
      ]
     },
     "execution_count": 84,
     "metadata": {},
     "output_type": "execute_result"
    }
   ],
   "source": [
    "percl_area_Rent"
   ]
  },
  {
   "cell_type": "code",
   "execution_count": 85,
   "id": "141b9629",
   "metadata": {},
   "outputs": [
    {
     "data": {
      "text/plain": [
       "count    2.072300e+04\n",
       "mean     1.048616e+07\n",
       "std      8.390854e+08\n",
       "min      0.000000e+00\n",
       "1%       0.000000e+00\n",
       "2%       0.000000e+00\n",
       "30%      2.000000e+04\n",
       "50%      3.300000e+04\n",
       "60%      5.000000e+04\n",
       "90%      3.800000e+05\n",
       "95%      7.350000e+05\n",
       "99%      2.500000e+06\n",
       "max      1.000000e+11\n",
       "Name: price, dtype: float64"
      ]
     },
     "execution_count": 85,
     "metadata": {},
     "output_type": "execute_result"
    }
   ],
   "source": [
    "percl_price_Rent"
   ]
  },
  {
   "cell_type": "code",
   "execution_count": 86,
   "id": "311a36c0",
   "metadata": {},
   "outputs": [
    {
     "name": "stdout",
     "output_type": "stream",
     "text": [
      "<class 'pandas.core.frame.DataFrame'>\n",
      "Int64Index: 1001 entries, 17451 to 33685\n",
      "Data columns (total 24 columns):\n",
      " #   Column                                 Non-Null Count  Dtype  \n",
      "---  ------                                 --------------  -----  \n",
      " 0   area                                   1001 non-null   float64\n",
      " 1   building_type                          1001 non-null   object \n",
      " 2   building_nature                        1001 non-null   object \n",
      " 3   image_url                              0 non-null      object \n",
      " 4   num_bath_rooms                         1001 non-null   float64\n",
      " 5   num_bed_rooms                          1001 non-null   float64\n",
      " 6   price                                  1001 non-null   float64\n",
      " 7   property_description                   1001 non-null   object \n",
      " 8   property_overview                      922 non-null    object \n",
      " 9   property_url                           1001 non-null   object \n",
      " 10  purpose                                1001 non-null   object \n",
      " 11  city                                   1001 non-null   object \n",
      " 12  locality                               1001 non-null   object \n",
      " 13  address                                1000 non-null   object \n",
      " 14  id                                     1001 non-null   object \n",
      " 15  relaxation_amenity_count               1001 non-null   int64  \n",
      " 16  security_amenity_count                 1001 non-null   int64  \n",
      " 17  maintenance_or_cleaning_amenity_count  1001 non-null   int64  \n",
      " 18  social_amenity_count                   1001 non-null   int64  \n",
      " 19  expendable_amenity_count               1001 non-null   int64  \n",
      " 20  service_staff_amenity_count            1001 non-null   int64  \n",
      " 21  unclassify_amenity_count               1001 non-null   int64  \n",
      " 22  division                               1001 non-null   object \n",
      " 23  zone                                   1001 non-null   object \n",
      "dtypes: float64(4), int64(7), object(13)\n",
      "memory usage: 195.5+ KB\n"
     ]
    }
   ],
   "source": [
    "df_cl_mg[(df_cl_mg[\"purpose\"] == \"Rent\") & (df_cl_mg['area'] == 0)].info()"
   ]
  },
  {
   "cell_type": "code",
   "execution_count": 87,
   "id": "72d96dcd",
   "metadata": {},
   "outputs": [
    {
     "name": "stdout",
     "output_type": "stream",
     "text": [
      "<class 'pandas.core.frame.DataFrame'>\n",
      "Int64Index: 477 entries, 17603 to 33654\n",
      "Data columns (total 24 columns):\n",
      " #   Column                                 Non-Null Count  Dtype  \n",
      "---  ------                                 --------------  -----  \n",
      " 0   area                                   477 non-null    float64\n",
      " 1   building_type                          477 non-null    object \n",
      " 2   building_nature                        477 non-null    object \n",
      " 3   image_url                              0 non-null      object \n",
      " 4   num_bath_rooms                         477 non-null    float64\n",
      " 5   num_bed_rooms                          477 non-null    float64\n",
      " 6   price                                  477 non-null    float64\n",
      " 7   property_description                   477 non-null    object \n",
      " 8   property_overview                      445 non-null    object \n",
      " 9   property_url                           477 non-null    object \n",
      " 10  purpose                                477 non-null    object \n",
      " 11  city                                   477 non-null    object \n",
      " 12  locality                               477 non-null    object \n",
      " 13  address                                476 non-null    object \n",
      " 14  id                                     477 non-null    object \n",
      " 15  relaxation_amenity_count               477 non-null    int64  \n",
      " 16  security_amenity_count                 477 non-null    int64  \n",
      " 17  maintenance_or_cleaning_amenity_count  477 non-null    int64  \n",
      " 18  social_amenity_count                   477 non-null    int64  \n",
      " 19  expendable_amenity_count               477 non-null    int64  \n",
      " 20  service_staff_amenity_count            477 non-null    int64  \n",
      " 21  unclassify_amenity_count               477 non-null    int64  \n",
      " 22  division                               477 non-null    object \n",
      " 23  zone                                   477 non-null    object \n",
      "dtypes: float64(4), int64(7), object(13)\n",
      "memory usage: 93.2+ KB\n"
     ]
    }
   ],
   "source": [
    "df_cl_mg[(df_cl_mg[\"purpose\"] == \"Rent\") & (df_cl_mg['price'] == 0)].info()"
   ]
  },
  {
   "cell_type": "code",
   "execution_count": 88,
   "id": "544ce09a",
   "metadata": {},
   "outputs": [],
   "source": [
    "df_rent = df_cl_mg[(df_cl_mg.purpose == 'Rent')  &\n",
    "                   (df_cl_mg.building_type == 'Apartment')  &\n",
    "                   (df_cl_mg.area > 0) & # many properties (n = 1001) have area == 0 -> get rid of them\n",
    "                   (df_cl_mg.area <= percl_area_Rent['99%']) & \n",
    "                  (df_cl_mg.price <= percl_price_Rent['99%']) &\n",
    "                   (df_cl_mg.price > 0) # Some properties (n = 477) don't have price info -> get rid of them\n",
    "                  ][['price', 'area', 'num_bath_rooms', 'num_bed_rooms', 'zone', 'building_nature']]"
   ]
  },
  {
   "cell_type": "code",
   "execution_count": 89,
   "id": "302263ad",
   "metadata": {},
   "outputs": [
    {
     "data": {
      "text/plain": [
       "Residential    13679\n",
       "Commercial       940\n",
       "Name: building_nature, dtype: int64"
      ]
     },
     "execution_count": 89,
     "metadata": {},
     "output_type": "execute_result"
    }
   ],
   "source": [
    "df_rent.building_nature.value_counts()"
   ]
  },
  {
   "cell_type": "markdown",
   "id": "920894c9",
   "metadata": {},
   "source": [
    "**Since there are quite a few 'Commercial' `building_nature` the model need to take that into account** (possibly as a random effect)"
   ]
  },
  {
   "cell_type": "code",
   "execution_count": 90,
   "id": "ed7d8f99",
   "metadata": {},
   "outputs": [],
   "source": [
    "# df_sale.drop('building_nature', axis = 1, inplace = True)"
   ]
  },
  {
   "cell_type": "code",
   "execution_count": 91,
   "id": "1b9d1a4e",
   "metadata": {
    "scrolled": true
   },
   "outputs": [
    {
     "data": {
      "text/html": [
       "<div>\n",
       "<style scoped>\n",
       "    .dataframe tbody tr th:only-of-type {\n",
       "        vertical-align: middle;\n",
       "    }\n",
       "\n",
       "    .dataframe tbody tr th {\n",
       "        vertical-align: top;\n",
       "    }\n",
       "\n",
       "    .dataframe thead th {\n",
       "        text-align: right;\n",
       "    }\n",
       "</style>\n",
       "<table border=\"1\" class=\"dataframe\">\n",
       "  <thead>\n",
       "    <tr style=\"text-align: right;\">\n",
       "      <th></th>\n",
       "      <th>count</th>\n",
       "      <th>unique</th>\n",
       "      <th>top</th>\n",
       "      <th>freq</th>\n",
       "      <th>mean</th>\n",
       "      <th>std</th>\n",
       "      <th>min</th>\n",
       "      <th>25%</th>\n",
       "      <th>50%</th>\n",
       "      <th>75%</th>\n",
       "      <th>max</th>\n",
       "    </tr>\n",
       "  </thead>\n",
       "  <tbody>\n",
       "    <tr>\n",
       "      <th>price</th>\n",
       "      <td>14619.0</td>\n",
       "      <td>NaN</td>\n",
       "      <td>NaN</td>\n",
       "      <td>NaN</td>\n",
       "      <td>63654.494151</td>\n",
       "      <td>179817.65392</td>\n",
       "      <td>1.0</td>\n",
       "      <td>16000.0</td>\n",
       "      <td>25000.0</td>\n",
       "      <td>50000.0</td>\n",
       "      <td>2500000.0</td>\n",
       "    </tr>\n",
       "    <tr>\n",
       "      <th>area</th>\n",
       "      <td>14619.0</td>\n",
       "      <td>NaN</td>\n",
       "      <td>NaN</td>\n",
       "      <td>NaN</td>\n",
       "      <td>1527.354333</td>\n",
       "      <td>864.444689</td>\n",
       "      <td>1.0</td>\n",
       "      <td>950.0</td>\n",
       "      <td>1300.0</td>\n",
       "      <td>2000.0</td>\n",
       "      <td>12000.0</td>\n",
       "    </tr>\n",
       "    <tr>\n",
       "      <th>num_bath_rooms</th>\n",
       "      <td>14619.0</td>\n",
       "      <td>NaN</td>\n",
       "      <td>NaN</td>\n",
       "      <td>NaN</td>\n",
       "      <td>2.379233</td>\n",
       "      <td>1.411636</td>\n",
       "      <td>0.0</td>\n",
       "      <td>2.0</td>\n",
       "      <td>3.0</td>\n",
       "      <td>3.0</td>\n",
       "      <td>31.0</td>\n",
       "    </tr>\n",
       "    <tr>\n",
       "      <th>num_bed_rooms</th>\n",
       "      <td>14619.0</td>\n",
       "      <td>NaN</td>\n",
       "      <td>NaN</td>\n",
       "      <td>NaN</td>\n",
       "      <td>2.762296</td>\n",
       "      <td>0.86782</td>\n",
       "      <td>0.0</td>\n",
       "      <td>2.0</td>\n",
       "      <td>3.0</td>\n",
       "      <td>3.0</td>\n",
       "      <td>10.0</td>\n",
       "    </tr>\n",
       "    <tr>\n",
       "      <th>zone</th>\n",
       "      <td>14571</td>\n",
       "      <td>60</td>\n",
       "      <td>Mirpur</td>\n",
       "      <td>2050</td>\n",
       "      <td>NaN</td>\n",
       "      <td>NaN</td>\n",
       "      <td>NaN</td>\n",
       "      <td>NaN</td>\n",
       "      <td>NaN</td>\n",
       "      <td>NaN</td>\n",
       "      <td>NaN</td>\n",
       "    </tr>\n",
       "    <tr>\n",
       "      <th>building_nature</th>\n",
       "      <td>14619</td>\n",
       "      <td>2</td>\n",
       "      <td>Residential</td>\n",
       "      <td>13679</td>\n",
       "      <td>NaN</td>\n",
       "      <td>NaN</td>\n",
       "      <td>NaN</td>\n",
       "      <td>NaN</td>\n",
       "      <td>NaN</td>\n",
       "      <td>NaN</td>\n",
       "      <td>NaN</td>\n",
       "    </tr>\n",
       "  </tbody>\n",
       "</table>\n",
       "</div>"
      ],
      "text/plain": [
       "                   count unique          top   freq          mean  \\\n",
       "price            14619.0    NaN          NaN    NaN  63654.494151   \n",
       "area             14619.0    NaN          NaN    NaN   1527.354333   \n",
       "num_bath_rooms   14619.0    NaN          NaN    NaN      2.379233   \n",
       "num_bed_rooms    14619.0    NaN          NaN    NaN      2.762296   \n",
       "zone               14571     60       Mirpur   2050           NaN   \n",
       "building_nature    14619      2  Residential  13679           NaN   \n",
       "\n",
       "                          std  min      25%      50%      75%        max  \n",
       "price            179817.65392  1.0  16000.0  25000.0  50000.0  2500000.0  \n",
       "area               864.444689  1.0    950.0   1300.0   2000.0    12000.0  \n",
       "num_bath_rooms       1.411636  0.0      2.0      3.0      3.0       31.0  \n",
       "num_bed_rooms         0.86782  0.0      2.0      3.0      3.0       10.0  \n",
       "zone                      NaN  NaN      NaN      NaN      NaN        NaN  \n",
       "building_nature           NaN  NaN      NaN      NaN      NaN        NaN  "
      ]
     },
     "execution_count": 91,
     "metadata": {},
     "output_type": "execute_result"
    }
   ],
   "source": [
    "df_rent.describe(include='all').T"
   ]
  },
  {
   "cell_type": "markdown",
   "id": "cff6adec",
   "metadata": {},
   "source": [
    "## Data imputation & transformation"
   ]
  },
  {
   "cell_type": "markdown",
   "id": "e051daba",
   "metadata": {},
   "source": [
    "#### How many properties don't have `num_bath_rooms` info?\n",
    "An apartment not having any bathrooms is very unlikely ==> these are just missing values (an error at some point in the process)"
   ]
  },
  {
   "cell_type": "code",
   "execution_count": 92,
   "id": "ae252f11",
   "metadata": {
    "scrolled": true
   },
   "outputs": [
    {
     "data": {
      "text/plain": [
       "(2284, 6)"
      ]
     },
     "execution_count": 92,
     "metadata": {},
     "output_type": "execute_result"
    }
   ],
   "source": [
    "df_rent[df_rent.num_bath_rooms==0].shape"
   ]
  },
  {
   "cell_type": "markdown",
   "id": "0998eaf2",
   "metadata": {},
   "source": [
    "There are too many entries with missing `num_bath_rooms` info ( == 0) which is going to have a negative influence on estimating parameters.\n",
    "\n",
    "Let's impute these \"missing values\" with the mean."
   ]
  },
  {
   "cell_type": "code",
   "execution_count": 93,
   "id": "421125b6",
   "metadata": {},
   "outputs": [],
   "source": [
    "mean_num_bath_rooms_rent = df_rent[df_rent.num_bath_rooms!=0].num_bath_rooms.mean()\n",
    "# mean_num_bath_rooms\n",
    "df_rent['num_bath_rooms'] = np.where(df_rent.num_bath_rooms==0, mean_num_bath_rooms_rent, df_rent.num_bath_rooms)"
   ]
  },
  {
   "cell_type": "code",
   "execution_count": 94,
   "id": "a67545d9",
   "metadata": {
    "scrolled": true
   },
   "outputs": [
    {
     "data": {
      "text/plain": [
       "(0, 6)"
      ]
     },
     "execution_count": 94,
     "metadata": {},
     "output_type": "execute_result"
    }
   ],
   "source": [
    "# Sanity check\n",
    "df_rent[df_rent.num_bath_rooms==0].shape"
   ]
  },
  {
   "cell_type": "code",
   "execution_count": 95,
   "id": "a46acacb",
   "metadata": {
    "scrolled": false
   },
   "outputs": [
    {
     "data": {
      "text/html": [
       "<div>\n",
       "<style scoped>\n",
       "    .dataframe tbody tr th:only-of-type {\n",
       "        vertical-align: middle;\n",
       "    }\n",
       "\n",
       "    .dataframe tbody tr th {\n",
       "        vertical-align: top;\n",
       "    }\n",
       "\n",
       "    .dataframe thead th {\n",
       "        text-align: right;\n",
       "    }\n",
       "</style>\n",
       "<table border=\"1\" class=\"dataframe\">\n",
       "  <thead>\n",
       "    <tr style=\"text-align: right;\">\n",
       "      <th></th>\n",
       "      <th>count</th>\n",
       "      <th>unique</th>\n",
       "      <th>top</th>\n",
       "      <th>freq</th>\n",
       "      <th>mean</th>\n",
       "      <th>std</th>\n",
       "      <th>min</th>\n",
       "      <th>25%</th>\n",
       "      <th>50%</th>\n",
       "      <th>75%</th>\n",
       "      <th>max</th>\n",
       "    </tr>\n",
       "  </thead>\n",
       "  <tbody>\n",
       "    <tr>\n",
       "      <th>price</th>\n",
       "      <td>14619.0</td>\n",
       "      <td>NaN</td>\n",
       "      <td>NaN</td>\n",
       "      <td>NaN</td>\n",
       "      <td>63654.494151</td>\n",
       "      <td>179817.65392</td>\n",
       "      <td>1.0</td>\n",
       "      <td>16000.0</td>\n",
       "      <td>25000.0</td>\n",
       "      <td>50000.0</td>\n",
       "      <td>2500000.0</td>\n",
       "    </tr>\n",
       "    <tr>\n",
       "      <th>area</th>\n",
       "      <td>14619.0</td>\n",
       "      <td>NaN</td>\n",
       "      <td>NaN</td>\n",
       "      <td>NaN</td>\n",
       "      <td>1527.354333</td>\n",
       "      <td>864.444689</td>\n",
       "      <td>1.0</td>\n",
       "      <td>950.0</td>\n",
       "      <td>1300.0</td>\n",
       "      <td>2000.0</td>\n",
       "      <td>12000.0</td>\n",
       "    </tr>\n",
       "    <tr>\n",
       "      <th>num_bath_rooms</th>\n",
       "      <td>14619.0</td>\n",
       "      <td>NaN</td>\n",
       "      <td>NaN</td>\n",
       "      <td>NaN</td>\n",
       "      <td>2.819781</td>\n",
       "      <td>0.971842</td>\n",
       "      <td>1.0</td>\n",
       "      <td>2.0</td>\n",
       "      <td>3.0</td>\n",
       "      <td>3.0</td>\n",
       "      <td>31.0</td>\n",
       "    </tr>\n",
       "    <tr>\n",
       "      <th>num_bed_rooms</th>\n",
       "      <td>14619.0</td>\n",
       "      <td>NaN</td>\n",
       "      <td>NaN</td>\n",
       "      <td>NaN</td>\n",
       "      <td>2.762296</td>\n",
       "      <td>0.86782</td>\n",
       "      <td>0.0</td>\n",
       "      <td>2.0</td>\n",
       "      <td>3.0</td>\n",
       "      <td>3.0</td>\n",
       "      <td>10.0</td>\n",
       "    </tr>\n",
       "    <tr>\n",
       "      <th>zone</th>\n",
       "      <td>14571</td>\n",
       "      <td>60</td>\n",
       "      <td>Mirpur</td>\n",
       "      <td>2050</td>\n",
       "      <td>NaN</td>\n",
       "      <td>NaN</td>\n",
       "      <td>NaN</td>\n",
       "      <td>NaN</td>\n",
       "      <td>NaN</td>\n",
       "      <td>NaN</td>\n",
       "      <td>NaN</td>\n",
       "    </tr>\n",
       "    <tr>\n",
       "      <th>building_nature</th>\n",
       "      <td>14619</td>\n",
       "      <td>2</td>\n",
       "      <td>Residential</td>\n",
       "      <td>13679</td>\n",
       "      <td>NaN</td>\n",
       "      <td>NaN</td>\n",
       "      <td>NaN</td>\n",
       "      <td>NaN</td>\n",
       "      <td>NaN</td>\n",
       "      <td>NaN</td>\n",
       "      <td>NaN</td>\n",
       "    </tr>\n",
       "  </tbody>\n",
       "</table>\n",
       "</div>"
      ],
      "text/plain": [
       "                   count unique          top   freq          mean  \\\n",
       "price            14619.0    NaN          NaN    NaN  63654.494151   \n",
       "area             14619.0    NaN          NaN    NaN   1527.354333   \n",
       "num_bath_rooms   14619.0    NaN          NaN    NaN      2.819781   \n",
       "num_bed_rooms    14619.0    NaN          NaN    NaN      2.762296   \n",
       "zone               14571     60       Mirpur   2050           NaN   \n",
       "building_nature    14619      2  Residential  13679           NaN   \n",
       "\n",
       "                          std  min      25%      50%      75%        max  \n",
       "price            179817.65392  1.0  16000.0  25000.0  50000.0  2500000.0  \n",
       "area               864.444689  1.0    950.0   1300.0   2000.0    12000.0  \n",
       "num_bath_rooms       0.971842  1.0      2.0      3.0      3.0       31.0  \n",
       "num_bed_rooms         0.86782  0.0      2.0      3.0      3.0       10.0  \n",
       "zone                      NaN  NaN      NaN      NaN      NaN        NaN  \n",
       "building_nature           NaN  NaN      NaN      NaN      NaN        NaN  "
      ]
     },
     "execution_count": 95,
     "metadata": {},
     "output_type": "execute_result"
    }
   ],
   "source": [
    "df_rent.describe(include='all').T"
   ]
  },
  {
   "cell_type": "markdown",
   "id": "9407cd20",
   "metadata": {},
   "source": [
    "**It's fine to have num_bed_rooms to be zero (they could be studio apartments) as long as the number is not too high**"
   ]
  },
  {
   "cell_type": "code",
   "execution_count": 96,
   "id": "561cdf5a",
   "metadata": {},
   "outputs": [
    {
     "data": {
      "text/plain": [
       "(288, 6)"
      ]
     },
     "execution_count": 96,
     "metadata": {},
     "output_type": "execute_result"
    }
   ],
   "source": [
    "df_rent[df_rent.num_bed_rooms==0].shape"
   ]
  },
  {
   "cell_type": "markdown",
   "id": "e7194992",
   "metadata": {},
   "source": [
    "#### As we saw in the EDA: the price increases non-linearly (_exponetially_) with `area` and `num_bath/bed_rooms`\n",
    "==> Log transform price so that we can fit a linear model"
   ]
  },
  {
   "cell_type": "code",
   "execution_count": 97,
   "id": "bb9e6e16",
   "metadata": {},
   "outputs": [],
   "source": [
    "df_rent['price_log'] = np.log(df_rent['price'])"
   ]
  },
  {
   "cell_type": "code",
   "execution_count": 98,
   "id": "c9fefcfe",
   "metadata": {
    "scrolled": true
   },
   "outputs": [
    {
     "data": {
      "text/html": [
       "<div>\n",
       "<style scoped>\n",
       "    .dataframe tbody tr th:only-of-type {\n",
       "        vertical-align: middle;\n",
       "    }\n",
       "\n",
       "    .dataframe tbody tr th {\n",
       "        vertical-align: top;\n",
       "    }\n",
       "\n",
       "    .dataframe thead th {\n",
       "        text-align: right;\n",
       "    }\n",
       "</style>\n",
       "<table border=\"1\" class=\"dataframe\">\n",
       "  <thead>\n",
       "    <tr style=\"text-align: right;\">\n",
       "      <th></th>\n",
       "      <th>count</th>\n",
       "      <th>unique</th>\n",
       "      <th>top</th>\n",
       "      <th>freq</th>\n",
       "      <th>mean</th>\n",
       "      <th>std</th>\n",
       "      <th>min</th>\n",
       "      <th>25%</th>\n",
       "      <th>50%</th>\n",
       "      <th>75%</th>\n",
       "      <th>max</th>\n",
       "    </tr>\n",
       "  </thead>\n",
       "  <tbody>\n",
       "    <tr>\n",
       "      <th>price</th>\n",
       "      <td>14619.0</td>\n",
       "      <td>NaN</td>\n",
       "      <td>NaN</td>\n",
       "      <td>NaN</td>\n",
       "      <td>63654.494151</td>\n",
       "      <td>179817.65392</td>\n",
       "      <td>1.0</td>\n",
       "      <td>16000.0</td>\n",
       "      <td>25000.0</td>\n",
       "      <td>50000.0</td>\n",
       "      <td>2500000.0</td>\n",
       "    </tr>\n",
       "    <tr>\n",
       "      <th>area</th>\n",
       "      <td>14619.0</td>\n",
       "      <td>NaN</td>\n",
       "      <td>NaN</td>\n",
       "      <td>NaN</td>\n",
       "      <td>1527.354333</td>\n",
       "      <td>864.444689</td>\n",
       "      <td>1.0</td>\n",
       "      <td>950.0</td>\n",
       "      <td>1300.0</td>\n",
       "      <td>2000.0</td>\n",
       "      <td>12000.0</td>\n",
       "    </tr>\n",
       "    <tr>\n",
       "      <th>num_bath_rooms</th>\n",
       "      <td>14619.0</td>\n",
       "      <td>NaN</td>\n",
       "      <td>NaN</td>\n",
       "      <td>NaN</td>\n",
       "      <td>2.819781</td>\n",
       "      <td>0.971842</td>\n",
       "      <td>1.0</td>\n",
       "      <td>2.0</td>\n",
       "      <td>3.0</td>\n",
       "      <td>3.0</td>\n",
       "      <td>31.0</td>\n",
       "    </tr>\n",
       "    <tr>\n",
       "      <th>num_bed_rooms</th>\n",
       "      <td>14619.0</td>\n",
       "      <td>NaN</td>\n",
       "      <td>NaN</td>\n",
       "      <td>NaN</td>\n",
       "      <td>2.762296</td>\n",
       "      <td>0.86782</td>\n",
       "      <td>0.0</td>\n",
       "      <td>2.0</td>\n",
       "      <td>3.0</td>\n",
       "      <td>3.0</td>\n",
       "      <td>10.0</td>\n",
       "    </tr>\n",
       "    <tr>\n",
       "      <th>zone</th>\n",
       "      <td>14571</td>\n",
       "      <td>60</td>\n",
       "      <td>Mirpur</td>\n",
       "      <td>2050</td>\n",
       "      <td>NaN</td>\n",
       "      <td>NaN</td>\n",
       "      <td>NaN</td>\n",
       "      <td>NaN</td>\n",
       "      <td>NaN</td>\n",
       "      <td>NaN</td>\n",
       "      <td>NaN</td>\n",
       "    </tr>\n",
       "    <tr>\n",
       "      <th>building_nature</th>\n",
       "      <td>14619</td>\n",
       "      <td>2</td>\n",
       "      <td>Residential</td>\n",
       "      <td>13679</td>\n",
       "      <td>NaN</td>\n",
       "      <td>NaN</td>\n",
       "      <td>NaN</td>\n",
       "      <td>NaN</td>\n",
       "      <td>NaN</td>\n",
       "      <td>NaN</td>\n",
       "      <td>NaN</td>\n",
       "    </tr>\n",
       "    <tr>\n",
       "      <th>price_log</th>\n",
       "      <td>14619.0</td>\n",
       "      <td>NaN</td>\n",
       "      <td>NaN</td>\n",
       "      <td>NaN</td>\n",
       "      <td>10.302186</td>\n",
       "      <td>1.041855</td>\n",
       "      <td>0.0</td>\n",
       "      <td>9.680344</td>\n",
       "      <td>10.126631</td>\n",
       "      <td>10.819778</td>\n",
       "      <td>14.731801</td>\n",
       "    </tr>\n",
       "  </tbody>\n",
       "</table>\n",
       "</div>"
      ],
      "text/plain": [
       "                   count unique          top   freq          mean  \\\n",
       "price            14619.0    NaN          NaN    NaN  63654.494151   \n",
       "area             14619.0    NaN          NaN    NaN   1527.354333   \n",
       "num_bath_rooms   14619.0    NaN          NaN    NaN      2.819781   \n",
       "num_bed_rooms    14619.0    NaN          NaN    NaN      2.762296   \n",
       "zone               14571     60       Mirpur   2050           NaN   \n",
       "building_nature    14619      2  Residential  13679           NaN   \n",
       "price_log        14619.0    NaN          NaN    NaN     10.302186   \n",
       "\n",
       "                          std  min       25%        50%        75%        max  \n",
       "price            179817.65392  1.0   16000.0    25000.0    50000.0  2500000.0  \n",
       "area               864.444689  1.0     950.0     1300.0     2000.0    12000.0  \n",
       "num_bath_rooms       0.971842  1.0       2.0        3.0        3.0       31.0  \n",
       "num_bed_rooms         0.86782  0.0       2.0        3.0        3.0       10.0  \n",
       "zone                      NaN  NaN       NaN        NaN        NaN        NaN  \n",
       "building_nature           NaN  NaN       NaN        NaN        NaN        NaN  \n",
       "price_log            1.041855  0.0  9.680344  10.126631  10.819778  14.731801  "
      ]
     },
     "execution_count": 98,
     "metadata": {},
     "output_type": "execute_result"
    }
   ],
   "source": [
    "df_rent.describe(include='all').T"
   ]
  },
  {
   "cell_type": "markdown",
   "id": "59ce95cc",
   "metadata": {},
   "source": [
    "**How properties are distributed across different price values?**"
   ]
  },
  {
   "cell_type": "code",
   "execution_count": 99,
   "id": "ce51b463",
   "metadata": {
    "scrolled": false
   },
   "outputs": [
    {
     "data": {
      "image/png": "[encoded data removed]",
      "text/plain": [
       "<Figure size 432x288 with 1 Axes>"
      ]
     },
     "metadata": {
      "needs_background": "light"
     },
     "output_type": "display_data"
    },
    {
     "data": {
      "image/png": "[encoded data removed]",
      "text/plain": [
       "<Figure size 432x288 with 1 Axes>"
      ]
     },
     "metadata": {
      "needs_background": "light"
     },
     "output_type": "display_data"
    },
    {
     "data": {
      "image/png": "[encoded data removed]",
      "text/plain": [
       "<Figure size 432x288 with 1 Axes>"
      ]
     },
     "metadata": {
      "needs_background": "light"
     },
     "output_type": "display_data"
    },
    {
     "data": {
      "image/png": "[encoded data removed]",
      "text/plain": [
       "<Figure size 432x288 with 1 Axes>"
      ]
     },
     "metadata": {
      "needs_background": "light"
     },
     "output_type": "display_data"
    }
   ],
   "source": [
    "# df_rent['price'].plot(kind = 'hist')\n",
    "\n",
    "plt.hist(df_rent[df_rent.price < 1000]['price'])\n",
    "plt.ylim(0,4000)\n",
    "plt.show()\n",
    "\n",
    "plt.hist(df_rent[(df_rent.price >= 1000) & (df_rent.price < 10000)]['price'])\n",
    "plt.ylim(0,4000)\n",
    "plt.show()\n",
    "\n",
    "plt.hist(df_rent[(df_rent.price >= 10000) & (df_rent.price < 100000)]['price'])\n",
    "plt.ylim(0,4000)\n",
    "plt.show()\n",
    "\n",
    "# plt.hist(df_rent[(df_rent.price >= 100000) & (df_rent.price < 1000000)]['price'])\n",
    "# plt.ylim(0,4000)\n",
    "# plt.show()\n",
    "\n",
    "plt.hist(df_rent[df_rent.price >= 100000]['price'])\n",
    "plt.ylim(0,4000)\n",
    "plt.show()"
   ]
  },
  {
   "cell_type": "code",
   "execution_count": 100,
   "id": "06ff9436",
   "metadata": {},
   "outputs": [],
   "source": [
    "# import seaborn as sns"
   ]
  },
  {
   "cell_type": "code",
   "execution_count": 101,
   "id": "d83ec91c",
   "metadata": {},
   "outputs": [],
   "source": [
    "# g = sns.relplot(y=\"price_log\", x=\"area\", \n",
    "#                 data = df_rent,\n",
    "#                 kind=\"scatter\",\n",
    "#                 height=5, aspect=2\n",
    "#                )\n",
    "# g.set_titles('{row_name}', fontsize=24)\n",
    "# g.set_axis_labels('Area (Sq. ft.)', 'Price (log-transformed)')\n",
    "\n",
    "# plt.show()"
   ]
  },
  {
   "cell_type": "code",
   "execution_count": 102,
   "id": "fba5a06b",
   "metadata": {},
   "outputs": [],
   "source": [
    "# g = sns.relplot(y=\"price_log\", x=\"area\", \n",
    "#                 data = df_sale,\n",
    "#                 kind=\"scatter\",\n",
    "#                 height=5, aspect=2\n",
    "#                )\n",
    "# g.set_axis_labels('Area (Sq. ft.)', 'Price (log-transformed)')\n",
    "# g.fig.suptitle('Price vs. area for each property type', fontsize=12, y=1.02)\n",
    "\n",
    "# plt.show()"
   ]
  },
  {
   "cell_type": "code",
   "execution_count": 103,
   "id": "802bd4bf",
   "metadata": {
    "scrolled": true
   },
   "outputs": [
    {
     "name": "stdout",
     "output_type": "stream",
     "text": [
      "<class 'pandas.core.frame.DataFrame'>\n",
      "Int64Index: 14619 entries, 10859 to 33674\n",
      "Data columns (total 7 columns):\n",
      " #   Column           Non-Null Count  Dtype  \n",
      "---  ------           --------------  -----  \n",
      " 0   price            14619 non-null  float64\n",
      " 1   area             14619 non-null  float64\n",
      " 2   num_bath_rooms   14619 non-null  float64\n",
      " 3   num_bed_rooms    14619 non-null  float64\n",
      " 4   zone             14571 non-null  object \n",
      " 5   building_nature  14619 non-null  object \n",
      " 6   price_log        14619 non-null  float64\n",
      "dtypes: float64(5), object(2)\n",
      "memory usage: 913.7+ KB\n"
     ]
    }
   ],
   "source": [
    "df_rent.info()"
   ]
  },
  {
   "cell_type": "code",
   "execution_count": 104,
   "id": "9272fdf4",
   "metadata": {},
   "outputs": [],
   "source": [
    "df_rent.to_csv('df-rent.csv', index=False)"
   ]
  },
  {
   "cell_type": "markdown",
   "id": "3b893944",
   "metadata": {},
   "source": [
    "<br>\n",
    "\n",
    "\n",
    "# Load `R` for linear mixed-effects models"
   ]
  },
  {
   "cell_type": "code",
   "execution_count": 105,
   "id": "01f0b416",
   "metadata": {},
   "outputs": [],
   "source": [
    "# %load_ext rpy2.ipython"
   ]
  },
  {
   "cell_type": "code",
   "execution_count": 106,
   "id": "2e523e50",
   "metadata": {},
   "outputs": [
    {
     "name": "stdout",
     "output_type": "stream",
     "text": [
      "character(0)\n"
     ]
    }
   ],
   "source": [
    "%%R\n",
    "\n",
    "# Start fresh\n",
    "rm(list = ls())\n",
    "ls()"
   ]
  },
  {
   "cell_type": "code",
   "execution_count": 107,
   "id": "c3ad4f62",
   "metadata": {
    "scrolled": true
   },
   "outputs": [],
   "source": [
    "%%R\n",
    "\n",
    "# Load the packages\n",
    "library(Matrix)\n",
    "library(lme4)\n",
    "library(merTools)\n"
   ]
  },
  {
   "cell_type": "code",
   "execution_count": 108,
   "id": "d1808893",
   "metadata": {
    "scrolled": true
   },
   "outputs": [
    {
     "name": "stdout",
     "output_type": "stream",
     "text": [
      "[1] \"df.rent\"\n"
     ]
    }
   ],
   "source": [
    "%%R\n",
    "df.rent = read.csv(\"df-rent.csv\")\n",
    "ls()"
   ]
  },
  {
   "cell_type": "code",
   "execution_count": 109,
   "id": "f1600fd3",
   "metadata": {
    "scrolled": false
   },
   "outputs": [
    {
     "name": "stdout",
     "output_type": "stream",
     "text": [
      "     price              area       num_bath_rooms  num_bed_rooms   \n",
      " Min.   :      1   Min.   :    1   Min.   : 1.00   Min.   : 0.000  \n",
      " 1st Qu.:  16000   1st Qu.:  950   1st Qu.: 2.00   1st Qu.: 2.000  \n",
      " Median :  25000   Median : 1300   Median : 3.00   Median : 3.000  \n",
      " Mean   :  63654   Mean   : 1527   Mean   : 2.82   Mean   : 2.762  \n",
      " 3rd Qu.:  50000   3rd Qu.: 2000   3rd Qu.: 3.00   3rd Qu.: 3.000  \n",
      " Max.   :2500000   Max.   :12000   Max.   :31.00   Max.   :10.000  \n",
      "     zone           building_nature      price_log    \n",
      " Length:14619       Length:14619       Min.   : 0.00  \n",
      " Class :character   Class :character   1st Qu.: 9.68  \n",
      " Mode  :character   Mode  :character   Median :10.13  \n",
      "                                       Mean   :10.30  \n",
      "                                       3rd Qu.:10.82  \n",
      "                                       Max.   :14.73  \n"
     ]
    }
   ],
   "source": [
    "%%R\n",
    "summary(df.rent)"
   ]
  },
  {
   "cell_type": "code",
   "execution_count": 110,
   "id": "d6bcc834",
   "metadata": {},
   "outputs": [
    {
     "name": "stdout",
     "output_type": "stream",
     "text": [
      "[1] 14619     7\n"
     ]
    }
   ],
   "source": [
    "%%R\n",
    "dim(df.rent)"
   ]
  },
  {
   "cell_type": "code",
   "execution_count": 111,
   "id": "d6d5c83f",
   "metadata": {},
   "outputs": [],
   "source": [
    "%%R\n",
    "\n",
    "# Make 'zone' and 'building_nature' as factor for using it as a random effect\n",
    "df.rent$zone = as.factor(df.rent$zone)\n",
    "df.rent$building_nature = as.factor(df.rent$building_nature)"
   ]
  },
  {
   "cell_type": "markdown",
   "id": "f8832a23",
   "metadata": {},
   "source": [
    "### Fit an `lmer` model"
   ]
  },
  {
   "cell_type": "code",
   "execution_count": 112,
   "id": "f6a3c588",
   "metadata": {},
   "outputs": [],
   "source": [
    "%%R\n",
    "lmer.rent.allZones = lmer(price_log ~ \n",
    "                          area + \n",
    "                          num_bath_rooms + \n",
    "                          num_bed_rooms + \n",
    "                          (1 | zone) + (1 | building_nature), \n",
    "                          data = df.rent)\n"
   ]
  },
  {
   "cell_type": "code",
   "execution_count": 113,
   "id": "df7bedd5",
   "metadata": {
    "scrolled": false
   },
   "outputs": [
    {
     "name": "stdout",
     "output_type": "stream",
     "text": [
      "Linear mixed model fit by REML ['lmerMod']\n",
      "Formula: price_log ~ area + num_bath_rooms + num_bed_rooms + (1 | zone) +  \n",
      "    (1 | building_nature)\n",
      "   Data: df.rent\n",
      "\n",
      "REML criterion at convergence: 32023\n",
      "\n",
      "Scaled residuals: \n",
      "     Min       1Q   Median       3Q      Max \n",
      "-15.2774  -0.3184  -0.0724   0.2005   6.9924 \n",
      "\n",
      "Random effects:\n",
      " Groups          Name        Variance Std.Dev.\n",
      " zone            (Intercept) 0.41580  0.6448  \n",
      " building_nature (Intercept) 0.01844  0.1358  \n",
      " Residual                    0.51489  0.7176  \n",
      "Number of obs: 14619, groups:  zone, 61; building_nature, 2\n",
      "\n",
      "Fixed effects:\n",
      "                Estimate Std. Error t value\n",
      "(Intercept)    9.058e+00  1.338e-01  67.694\n",
      "area           4.729e-04  1.028e-05  46.025\n",
      "num_bath_rooms 5.253e-02  8.716e-03   6.027\n",
      "num_bed_rooms  5.007e-02  9.384e-03   5.335\n",
      "\n",
      "Correlation of Fixed Effects:\n",
      "            (Intr) area   nm_bt_\n",
      "area        -0.012              \n",
      "num_bth_rms -0.046 -0.347       \n",
      "num_bed_rms -0.066 -0.268 -0.408\n"
     ]
    }
   ],
   "source": [
    "%%R\n",
    "summary(lmer.rent.allZones)"
   ]
  },
  {
   "cell_type": "code",
   "execution_count": 114,
   "id": "1072f804",
   "metadata": {},
   "outputs": [
    {
     "name": "stdout",
     "output_type": "stream",
     "text": [
      "[1] 0.7162218\n"
     ]
    }
   ],
   "source": [
    "%%R\n",
    "# Calculate RMSE\n",
    "RMSE.merMod(lmer.rent.allZones)"
   ]
  },
  {
   "cell_type": "markdown",
   "id": "debd60c3",
   "metadata": {},
   "source": [
    "### Save the model for generating predictions"
   ]
  },
  {
   "cell_type": "code",
   "execution_count": 115,
   "id": "c9af6455",
   "metadata": {},
   "outputs": [],
   "source": [
    "%%R\n",
    "\n",
    "saveRDS(lmer.rent.allZones, file = \"lmer.rent.allZones.rds\")"
   ]
  }
 ],
 "metadata": {
  "kernelspec": {
   "display_name": "Python 3 (ipykernel)",
   "language": "python",
   "name": "python3"
  },
  "language_info": {
   "codemirror_mode": {
    "name": "ipython",
    "version": 3
   },
   "file_extension": ".py",
   "mimetype": "text/x-python",
   "name": "python",
   "nbconvert_exporter": "python",
   "pygments_lexer": "ipython3",
   "version": "3.9.6"
  }
 },
 "nbformat": 4,
 "nbformat_minor": 5
}
