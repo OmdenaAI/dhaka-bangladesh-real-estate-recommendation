{
 "cells": [
  {
   "cell_type": "markdown",
   "id": "c97f4e5a",
   "metadata": {},
   "source": [
    "# Load `python` libraries for some EDA and wrangling"
   ]
  },
  {
   "cell_type": "code",
   "execution_count": 39,
   "id": "1483ac7b",
   "metadata": {},
   "outputs": [],
   "source": [
    "import pandas as pd\n",
    "import matplotlib.pyplot as plt\n",
    "import numpy as np"
   ]
  },
  {
   "cell_type": "code",
   "execution_count": 40,
   "id": "b6713492",
   "metadata": {
    "scrolled": true
   },
   "outputs": [
    {
     "name": "stderr",
     "output_type": "stream",
     "text": [
      "/Library/Frameworks/Python.framework/Versions/3.9/lib/python3.9/site-packages/IPython/core/interactiveshell.py:3441: DtypeWarning: Columns (3) have mixed types.Specify dtype option on import or set low_memory=False.\n",
      "  exec(code_obj, self.user_global_ns, self.user_ns)\n"
     ]
    }
   ],
   "source": [
    "df_cl_mg = pd.read_csv(\"cleaned_merged_datasets.csv\")\n"
   ]
  },
  {
   "cell_type": "markdown",
   "id": "eee7809a",
   "metadata": {},
   "source": [
    "## Check how _area_ and _price_ are distributed"
   ]
  },
  {
   "cell_type": "code",
   "execution_count": 41,
   "id": "4d973a7b",
   "metadata": {},
   "outputs": [],
   "source": [
    "# Distribution of area for 'Rent'\n",
    "percl_area_Rent = df_cl_mg[(df_cl_mg[\"purpose\"] == \"Rent\")][\"area\"].describe(percentiles=[.01, .02, .3, .6, .9, 0.95, .99])\n",
    "# percl_area_Rent\n",
    "\n",
    "# Distribution of area for 'Sale'\n",
    "percl_area_Sale = df_cl_mg[(df_cl_mg[\"purpose\"] == \"Sale\")][\"area\"].describe(percentiles=[.01, .02, .3, .6, .9, 0.95, .99])\n",
    "# percl_area_Sale\n",
    "\n",
    "# Distribution of prices for 'Rent'\n",
    "percl_price_Rent = df_cl_mg[(df_cl_mg[\"purpose\"] == \"Rent\")][\"price\"].describe(percentiles=[.01, .02, .3, .6, .9, 0.95, .99])\n",
    "# percl_price_Rent\n",
    "\n",
    "# Distribution of prices for 'Sale'\n",
    "percl_price_Sale = df_cl_mg[(df_cl_mg[\"purpose\"] == \"Sale\")][\"price\"].describe(percentiles=[.01, .02, .3, .6, .9, 0.95, .99])\n",
    "# percl_price_Sale"
   ]
  },
  {
   "cell_type": "code",
   "execution_count": 42,
   "id": "ba384617",
   "metadata": {},
   "outputs": [
    {
     "name": "stdout",
     "output_type": "stream",
     "text": [
      "count    2.072300e+04\n",
      "mean     4.241257e+03\n",
      "std      1.555526e+05\n",
      "min      0.000000e+00\n",
      "1%       0.000000e+00\n",
      "2%       0.000000e+00\n",
      "30%      1.000000e+03\n",
      "50%      1.400000e+03\n",
      "60%      1.650000e+03\n",
      "90%      3.373000e+03\n",
      "95%      5.000000e+03\n",
      "99%      1.200000e+04\n",
      "max      1.450147e+07\n",
      "Name: area, dtype: float64 \n",
      "\n",
      " count     12978.000000\n",
      "mean       1664.862321\n",
      "std        3755.222407\n",
      "min           1.000000\n",
      "1%          115.000000\n",
      "2%          135.000000\n",
      "30%        1150.000000\n",
      "50%        1320.000000\n",
      "60%        1445.000000\n",
      "90%        2289.300000\n",
      "95%        3600.000000\n",
      "99%        7218.216000\n",
      "max      296600.000000\n",
      "Name: area, dtype: float64\n"
     ]
    }
   ],
   "source": [
    "print(percl_area_Rent, '\\n\\n', percl_area_Sale)"
   ]
  },
  {
   "cell_type": "code",
   "execution_count": 44,
   "id": "5161d53b",
   "metadata": {
    "scrolled": false
   },
   "outputs": [
    {
     "data": {
      "image/png": "[encoded data removed]",
      "text/plain": [
       "<Figure size 432x288 with 1 Axes>"
      ]
     },
     "metadata": {
      "needs_background": "light"
     },
     "output_type": "display_data"
    },
    {
     "data": {
      "image/png": "[encoded data removed]",
      "text/plain": [
       "<Figure size 432x288 with 1 Axes>"
      ]
     },
     "metadata": {
      "needs_background": "light"
     },
     "output_type": "display_data"
    },
    {
     "data": {
      "image/png": "[encoded data removed]",
      "text/plain": [
       "<Figure size 432x288 with 1 Axes>"
      ]
     },
     "metadata": {
      "needs_background": "light"
     },
     "output_type": "display_data"
    }
   ],
   "source": [
    "feature1 = 'num_bath_rooms'\n",
    "feature2 = 'num_bed_rooms'\n",
    "feature3 = 'building_type'\n",
    "\n",
    "df_cl_mg[df_cl_mg.area == 0][feature1].value_counts().plot(kind = 'bar')\n",
    "plt.show()\n",
    "\n",
    "df_cl_mg[df_cl_mg.area == 0][feature2].value_counts().plot(kind = 'bar')\n",
    "plt.show()\n",
    "\n",
    "df_cl_mg[df_cl_mg.area == 0][feature3].value_counts().plot(kind = 'bar')\n",
    "plt.show()"
   ]
  },
  {
   "cell_type": "code",
   "execution_count": 125,
   "id": "ea750a74",
   "metadata": {},
   "outputs": [
    {
     "name": "stdout",
     "output_type": "stream",
     "text": [
      "count    2.072300e+04\n",
      "mean     1.048616e+07\n",
      "std      8.390854e+08\n",
      "min      0.000000e+00\n",
      "2%       0.000000e+00\n",
      "30%      2.000000e+04\n",
      "50%      3.300000e+04\n",
      "60%      5.000000e+04\n",
      "90%      3.800000e+05\n",
      "95%      7.350000e+05\n",
      "99%      2.500000e+06\n",
      "max      1.000000e+11\n",
      "Name: price, dtype: float64 \n",
      "\n",
      " count    1.297800e+04\n",
      "mean     2.762862e+09\n",
      "std      2.124047e+11\n",
      "min      0.000000e+00\n",
      "2%       2.263500e+06\n",
      "30%      5.500000e+06\n",
      "50%      7.350000e+06\n",
      "60%      8.350000e+06\n",
      "90%      2.100000e+07\n",
      "95%      3.800000e+07\n",
      "99%      5.423000e+09\n",
      "max      2.400000e+13\n",
      "Name: price, dtype: float64\n"
     ]
    }
   ],
   "source": [
    "print(percl_price_Rent, '\\n\\n', percl_price_Sale)"
   ]
  },
  {
   "cell_type": "code",
   "execution_count": 45,
   "id": "5488b34c",
   "metadata": {},
   "outputs": [
    {
     "data": {
      "text/plain": [
       "(33701, 24)"
      ]
     },
     "execution_count": 45,
     "metadata": {},
     "output_type": "execute_result"
    }
   ],
   "source": [
    "df_cl_mg.shape"
   ]
  },
  {
   "cell_type": "markdown",
   "id": "e67b6582",
   "metadata": {},
   "source": [
    "## Create \"cleans\" sale dataset\n",
    "    . Subset to \"Sale\"\n",
    "    . Only \"Apartments\"\n",
    "    . Get rid of area and price outliers"
   ]
  },
  {
   "cell_type": "code",
   "execution_count": 46,
   "id": "91f97b1f",
   "metadata": {},
   "outputs": [],
   "source": [
    "df_sale = df_cl_mg[(df_cl_mg.purpose == 'Sale')  &\n",
    "                   (df_cl_mg.building_type == 'Apartment')  &\n",
    "                   (df_cl_mg.area > percl_area_Sale['1%']) & \n",
    "                   (df_cl_mg.area <= percl_area_Sale['99%']) & \n",
    "                  (df_cl_mg.price <= percl_price_Sale['95%']) &\n",
    "                   (df_cl_mg.price > percl_price_Sale['2%'])\n",
    "                  ][['price', 'area', 'num_bath_rooms', 'num_bed_rooms', 'zone']]"
   ]
  },
  {
   "cell_type": "code",
   "execution_count": 178,
   "id": "114cd6fb",
   "metadata": {},
   "outputs": [],
   "source": [
    "# df_sale['price'].describe(percentiles=[0.02, .3, .6, .9, 0.95, .99])"
   ]
  },
  {
   "cell_type": "code",
   "execution_count": 47,
   "id": "3c8b9d5e",
   "metadata": {
    "scrolled": true
   },
   "outputs": [
    {
     "data": {
      "text/html": [
       "<div>\n",
       "<style scoped>\n",
       "    .dataframe tbody tr th:only-of-type {\n",
       "        vertical-align: middle;\n",
       "    }\n",
       "\n",
       "    .dataframe tbody tr th {\n",
       "        vertical-align: top;\n",
       "    }\n",
       "\n",
       "    .dataframe thead th {\n",
       "        text-align: right;\n",
       "    }\n",
       "</style>\n",
       "<table border=\"1\" class=\"dataframe\">\n",
       "  <thead>\n",
       "    <tr style=\"text-align: right;\">\n",
       "      <th></th>\n",
       "      <th>count</th>\n",
       "      <th>unique</th>\n",
       "      <th>top</th>\n",
       "      <th>freq</th>\n",
       "      <th>mean</th>\n",
       "      <th>std</th>\n",
       "      <th>min</th>\n",
       "      <th>25%</th>\n",
       "      <th>50%</th>\n",
       "      <th>75%</th>\n",
       "      <th>max</th>\n",
       "    </tr>\n",
       "  </thead>\n",
       "  <tbody>\n",
       "    <tr>\n",
       "      <th>price</th>\n",
       "      <td>10740.0</td>\n",
       "      <td>NaN</td>\n",
       "      <td>NaN</td>\n",
       "      <td>NaN</td>\n",
       "      <td>8791256.480066</td>\n",
       "      <td>5330544.604312</td>\n",
       "      <td>2275000.0</td>\n",
       "      <td>5250000.0</td>\n",
       "      <td>7200000.0</td>\n",
       "      <td>10500000.0</td>\n",
       "      <td>38000000.0</td>\n",
       "    </tr>\n",
       "    <tr>\n",
       "      <th>area</th>\n",
       "      <td>10740.0</td>\n",
       "      <td>NaN</td>\n",
       "      <td>NaN</td>\n",
       "      <td>NaN</td>\n",
       "      <td>1362.240782</td>\n",
       "      <td>437.435757</td>\n",
       "      <td>250.0</td>\n",
       "      <td>1100.0</td>\n",
       "      <td>1300.0</td>\n",
       "      <td>1550.0</td>\n",
       "      <td>6357.0</td>\n",
       "    </tr>\n",
       "    <tr>\n",
       "      <th>num_bath_rooms</th>\n",
       "      <td>10740.0</td>\n",
       "      <td>NaN</td>\n",
       "      <td>NaN</td>\n",
       "      <td>NaN</td>\n",
       "      <td>1.621415</td>\n",
       "      <td>1.516912</td>\n",
       "      <td>0.0</td>\n",
       "      <td>0.0</td>\n",
       "      <td>2.0</td>\n",
       "      <td>3.0</td>\n",
       "      <td>8.0</td>\n",
       "    </tr>\n",
       "    <tr>\n",
       "      <th>num_bed_rooms</th>\n",
       "      <td>10740.0</td>\n",
       "      <td>NaN</td>\n",
       "      <td>NaN</td>\n",
       "      <td>NaN</td>\n",
       "      <td>2.924022</td>\n",
       "      <td>0.5266</td>\n",
       "      <td>0.0</td>\n",
       "      <td>3.0</td>\n",
       "      <td>3.0</td>\n",
       "      <td>3.0</td>\n",
       "      <td>7.0</td>\n",
       "    </tr>\n",
       "    <tr>\n",
       "      <th>zone</th>\n",
       "      <td>10714</td>\n",
       "      <td>53</td>\n",
       "      <td>Mirpur</td>\n",
       "      <td>3671</td>\n",
       "      <td>NaN</td>\n",
       "      <td>NaN</td>\n",
       "      <td>NaN</td>\n",
       "      <td>NaN</td>\n",
       "      <td>NaN</td>\n",
       "      <td>NaN</td>\n",
       "      <td>NaN</td>\n",
       "    </tr>\n",
       "  </tbody>\n",
       "</table>\n",
       "</div>"
      ],
      "text/plain": [
       "                  count unique     top  freq            mean             std  \\\n",
       "price           10740.0    NaN     NaN   NaN  8791256.480066  5330544.604312   \n",
       "area            10740.0    NaN     NaN   NaN     1362.240782      437.435757   \n",
       "num_bath_rooms  10740.0    NaN     NaN   NaN        1.621415        1.516912   \n",
       "num_bed_rooms   10740.0    NaN     NaN   NaN        2.924022          0.5266   \n",
       "zone              10714     53  Mirpur  3671             NaN             NaN   \n",
       "\n",
       "                      min        25%        50%         75%         max  \n",
       "price           2275000.0  5250000.0  7200000.0  10500000.0  38000000.0  \n",
       "area                250.0     1100.0     1300.0      1550.0      6357.0  \n",
       "num_bath_rooms        0.0        0.0        2.0         3.0         8.0  \n",
       "num_bed_rooms         0.0        3.0        3.0         3.0         7.0  \n",
       "zone                  NaN        NaN        NaN         NaN         NaN  "
      ]
     },
     "execution_count": 47,
     "metadata": {},
     "output_type": "execute_result"
    }
   ],
   "source": [
    "df_sale.describe(include='all').T"
   ]
  },
  {
   "cell_type": "markdown",
   "id": "8b936eff",
   "metadata": {},
   "source": [
    "## Data imputation & transformation"
   ]
  },
  {
   "cell_type": "markdown",
   "id": "872e563e",
   "metadata": {},
   "source": [
    "#### How many properties don't have `num_bath_rooms` info?\n",
    "An apartment not having any bathrooms is very unlikely ==> these are just missing values (an error at some point in the process)"
   ]
  },
  {
   "cell_type": "code",
   "execution_count": 48,
   "id": "747a155b",
   "metadata": {
    "scrolled": true
   },
   "outputs": [
    {
     "data": {
      "text/plain": [
       "(4662, 5)"
      ]
     },
     "execution_count": 48,
     "metadata": {},
     "output_type": "execute_result"
    }
   ],
   "source": [
    "df_sale[df_sale.num_bath_rooms==0].shape"
   ]
  },
  {
   "cell_type": "markdown",
   "id": "28423dc7",
   "metadata": {},
   "source": [
    "There are too many entries with missing `num_bath_rooms` info ( == 0) which is going to have a negative influence on estimating parameters.\n",
    "\n",
    "Let's impute these \"missing values\" with the mean."
   ]
  },
  {
   "cell_type": "code",
   "execution_count": 49,
   "id": "28a6d783",
   "metadata": {},
   "outputs": [],
   "source": [
    "mean_num_bath_rooms = df_sale[df_sale.num_bath_rooms!=0].num_bath_rooms.mean()\n",
    "# mean_num_bath_rooms\n",
    "df_sale['num_bath_rooms'] = np.where(df_sale.num_bath_rooms==0, mean_num_bath_rooms, df_sale.num_bath_rooms)"
   ]
  },
  {
   "cell_type": "code",
   "execution_count": 51,
   "id": "40e2fd0f",
   "metadata": {
    "scrolled": true
   },
   "outputs": [
    {
     "data": {
      "text/plain": [
       "(0, 5)"
      ]
     },
     "execution_count": 51,
     "metadata": {},
     "output_type": "execute_result"
    }
   ],
   "source": [
    "# Sanity check\n",
    "df_sale[df_sale.num_bath_rooms==0].shape"
   ]
  },
  {
   "cell_type": "code",
   "execution_count": 52,
   "id": "45c3a524",
   "metadata": {},
   "outputs": [
    {
     "data": {
      "text/html": [
       "<div>\n",
       "<style scoped>\n",
       "    .dataframe tbody tr th:only-of-type {\n",
       "        vertical-align: middle;\n",
       "    }\n",
       "\n",
       "    .dataframe tbody tr th {\n",
       "        vertical-align: top;\n",
       "    }\n",
       "\n",
       "    .dataframe thead th {\n",
       "        text-align: right;\n",
       "    }\n",
       "</style>\n",
       "<table border=\"1\" class=\"dataframe\">\n",
       "  <thead>\n",
       "    <tr style=\"text-align: right;\">\n",
       "      <th></th>\n",
       "      <th>count</th>\n",
       "      <th>unique</th>\n",
       "      <th>top</th>\n",
       "      <th>freq</th>\n",
       "      <th>mean</th>\n",
       "      <th>std</th>\n",
       "      <th>min</th>\n",
       "      <th>25%</th>\n",
       "      <th>50%</th>\n",
       "      <th>75%</th>\n",
       "      <th>max</th>\n",
       "    </tr>\n",
       "  </thead>\n",
       "  <tbody>\n",
       "    <tr>\n",
       "      <th>price</th>\n",
       "      <td>10740.0</td>\n",
       "      <td>NaN</td>\n",
       "      <td>NaN</td>\n",
       "      <td>NaN</td>\n",
       "      <td>8791256.480066</td>\n",
       "      <td>5330544.604312</td>\n",
       "      <td>2275000.0</td>\n",
       "      <td>5250000.0</td>\n",
       "      <td>7200000.0</td>\n",
       "      <td>10500000.0</td>\n",
       "      <td>38000000.0</td>\n",
       "    </tr>\n",
       "    <tr>\n",
       "      <th>area</th>\n",
       "      <td>10740.0</td>\n",
       "      <td>NaN</td>\n",
       "      <td>NaN</td>\n",
       "      <td>NaN</td>\n",
       "      <td>1362.240782</td>\n",
       "      <td>437.435757</td>\n",
       "      <td>250.0</td>\n",
       "      <td>1100.0</td>\n",
       "      <td>1300.0</td>\n",
       "      <td>1550.0</td>\n",
       "      <td>6357.0</td>\n",
       "    </tr>\n",
       "    <tr>\n",
       "      <th>num_bath_rooms</th>\n",
       "      <td>10740.0</td>\n",
       "      <td>NaN</td>\n",
       "      <td>NaN</td>\n",
       "      <td>NaN</td>\n",
       "      <td>2.865087</td>\n",
       "      <td>0.533222</td>\n",
       "      <td>1.0</td>\n",
       "      <td>2.865087</td>\n",
       "      <td>2.865087</td>\n",
       "      <td>3.0</td>\n",
       "      <td>8.0</td>\n",
       "    </tr>\n",
       "    <tr>\n",
       "      <th>num_bed_rooms</th>\n",
       "      <td>10740.0</td>\n",
       "      <td>NaN</td>\n",
       "      <td>NaN</td>\n",
       "      <td>NaN</td>\n",
       "      <td>2.924022</td>\n",
       "      <td>0.5266</td>\n",
       "      <td>0.0</td>\n",
       "      <td>3.0</td>\n",
       "      <td>3.0</td>\n",
       "      <td>3.0</td>\n",
       "      <td>7.0</td>\n",
       "    </tr>\n",
       "    <tr>\n",
       "      <th>zone</th>\n",
       "      <td>10714</td>\n",
       "      <td>53</td>\n",
       "      <td>Mirpur</td>\n",
       "      <td>3671</td>\n",
       "      <td>NaN</td>\n",
       "      <td>NaN</td>\n",
       "      <td>NaN</td>\n",
       "      <td>NaN</td>\n",
       "      <td>NaN</td>\n",
       "      <td>NaN</td>\n",
       "      <td>NaN</td>\n",
       "    </tr>\n",
       "  </tbody>\n",
       "</table>\n",
       "</div>"
      ],
      "text/plain": [
       "                  count unique     top  freq            mean             std  \\\n",
       "price           10740.0    NaN     NaN   NaN  8791256.480066  5330544.604312   \n",
       "area            10740.0    NaN     NaN   NaN     1362.240782      437.435757   \n",
       "num_bath_rooms  10740.0    NaN     NaN   NaN        2.865087        0.533222   \n",
       "num_bed_rooms   10740.0    NaN     NaN   NaN        2.924022          0.5266   \n",
       "zone              10714     53  Mirpur  3671             NaN             NaN   \n",
       "\n",
       "                      min        25%        50%         75%         max  \n",
       "price           2275000.0  5250000.0  7200000.0  10500000.0  38000000.0  \n",
       "area                250.0     1100.0     1300.0      1550.0      6357.0  \n",
       "num_bath_rooms        1.0   2.865087   2.865087         3.0         8.0  \n",
       "num_bed_rooms         0.0        3.0        3.0         3.0         7.0  \n",
       "zone                  NaN        NaN        NaN         NaN         NaN  "
      ]
     },
     "execution_count": 52,
     "metadata": {},
     "output_type": "execute_result"
    }
   ],
   "source": [
    "df_sale.describe(include='all').T"
   ]
  },
  {
   "cell_type": "markdown",
   "id": "d113a0e8",
   "metadata": {},
   "source": [
    "#### As we saw in the EDA: the price increases non-linearly (_exponetially_) with `area` and `num_bath/bed_rooms`\n",
    "==> Log transform price so that we can fit a linear model"
   ]
  },
  {
   "cell_type": "code",
   "execution_count": 55,
   "id": "3c22478f",
   "metadata": {},
   "outputs": [],
   "source": [
    "df_sale['price_log'] = np.log(df_sale['price'])"
   ]
  },
  {
   "cell_type": "code",
   "execution_count": 56,
   "id": "18cc8c4f",
   "metadata": {
    "scrolled": true
   },
   "outputs": [
    {
     "data": {
      "text/html": [
       "<div>\n",
       "<style scoped>\n",
       "    .dataframe tbody tr th:only-of-type {\n",
       "        vertical-align: middle;\n",
       "    }\n",
       "\n",
       "    .dataframe tbody tr th {\n",
       "        vertical-align: top;\n",
       "    }\n",
       "\n",
       "    .dataframe thead th {\n",
       "        text-align: right;\n",
       "    }\n",
       "</style>\n",
       "<table border=\"1\" class=\"dataframe\">\n",
       "  <thead>\n",
       "    <tr style=\"text-align: right;\">\n",
       "      <th></th>\n",
       "      <th>count</th>\n",
       "      <th>unique</th>\n",
       "      <th>top</th>\n",
       "      <th>freq</th>\n",
       "      <th>mean</th>\n",
       "      <th>std</th>\n",
       "      <th>min</th>\n",
       "      <th>25%</th>\n",
       "      <th>50%</th>\n",
       "      <th>75%</th>\n",
       "      <th>max</th>\n",
       "    </tr>\n",
       "  </thead>\n",
       "  <tbody>\n",
       "    <tr>\n",
       "      <th>price</th>\n",
       "      <td>10740.0</td>\n",
       "      <td>NaN</td>\n",
       "      <td>NaN</td>\n",
       "      <td>NaN</td>\n",
       "      <td>8791256.480066</td>\n",
       "      <td>5330544.604312</td>\n",
       "      <td>2275000.0</td>\n",
       "      <td>5250000.0</td>\n",
       "      <td>7200000.0</td>\n",
       "      <td>10500000.0</td>\n",
       "      <td>38000000.0</td>\n",
       "    </tr>\n",
       "    <tr>\n",
       "      <th>area</th>\n",
       "      <td>10740.0</td>\n",
       "      <td>NaN</td>\n",
       "      <td>NaN</td>\n",
       "      <td>NaN</td>\n",
       "      <td>1362.240782</td>\n",
       "      <td>437.435757</td>\n",
       "      <td>250.0</td>\n",
       "      <td>1100.0</td>\n",
       "      <td>1300.0</td>\n",
       "      <td>1550.0</td>\n",
       "      <td>6357.0</td>\n",
       "    </tr>\n",
       "    <tr>\n",
       "      <th>num_bath_rooms</th>\n",
       "      <td>10740.0</td>\n",
       "      <td>NaN</td>\n",
       "      <td>NaN</td>\n",
       "      <td>NaN</td>\n",
       "      <td>2.865087</td>\n",
       "      <td>0.533222</td>\n",
       "      <td>1.0</td>\n",
       "      <td>2.865087</td>\n",
       "      <td>2.865087</td>\n",
       "      <td>3.0</td>\n",
       "      <td>8.0</td>\n",
       "    </tr>\n",
       "    <tr>\n",
       "      <th>num_bed_rooms</th>\n",
       "      <td>10740.0</td>\n",
       "      <td>NaN</td>\n",
       "      <td>NaN</td>\n",
       "      <td>NaN</td>\n",
       "      <td>2.924022</td>\n",
       "      <td>0.5266</td>\n",
       "      <td>0.0</td>\n",
       "      <td>3.0</td>\n",
       "      <td>3.0</td>\n",
       "      <td>3.0</td>\n",
       "      <td>7.0</td>\n",
       "    </tr>\n",
       "    <tr>\n",
       "      <th>zone</th>\n",
       "      <td>10714</td>\n",
       "      <td>53</td>\n",
       "      <td>Mirpur</td>\n",
       "      <td>3671</td>\n",
       "      <td>NaN</td>\n",
       "      <td>NaN</td>\n",
       "      <td>NaN</td>\n",
       "      <td>NaN</td>\n",
       "      <td>NaN</td>\n",
       "      <td>NaN</td>\n",
       "      <td>NaN</td>\n",
       "    </tr>\n",
       "    <tr>\n",
       "      <th>price_log</th>\n",
       "      <td>10740.0</td>\n",
       "      <td>NaN</td>\n",
       "      <td>NaN</td>\n",
       "      <td>NaN</td>\n",
       "      <td>15.843863</td>\n",
       "      <td>0.52274</td>\n",
       "      <td>14.637491</td>\n",
       "      <td>15.473739</td>\n",
       "      <td>15.789592</td>\n",
       "      <td>16.166886</td>\n",
       "      <td>17.453097</td>\n",
       "    </tr>\n",
       "  </tbody>\n",
       "</table>\n",
       "</div>"
      ],
      "text/plain": [
       "                  count unique     top  freq            mean             std  \\\n",
       "price           10740.0    NaN     NaN   NaN  8791256.480066  5330544.604312   \n",
       "area            10740.0    NaN     NaN   NaN     1362.240782      437.435757   \n",
       "num_bath_rooms  10740.0    NaN     NaN   NaN        2.865087        0.533222   \n",
       "num_bed_rooms   10740.0    NaN     NaN   NaN        2.924022          0.5266   \n",
       "zone              10714     53  Mirpur  3671             NaN             NaN   \n",
       "price_log       10740.0    NaN     NaN   NaN       15.843863         0.52274   \n",
       "\n",
       "                      min        25%        50%         75%         max  \n",
       "price           2275000.0  5250000.0  7200000.0  10500000.0  38000000.0  \n",
       "area                250.0     1100.0     1300.0      1550.0      6357.0  \n",
       "num_bath_rooms        1.0   2.865087   2.865087         3.0         8.0  \n",
       "num_bed_rooms         0.0        3.0        3.0         3.0         7.0  \n",
       "zone                  NaN        NaN        NaN         NaN         NaN  \n",
       "price_log       14.637491  15.473739  15.789592   16.166886   17.453097  "
      ]
     },
     "execution_count": 56,
     "metadata": {},
     "output_type": "execute_result"
    }
   ],
   "source": [
    "df_sale.describe(include='all').T"
   ]
  },
  {
   "cell_type": "code",
   "execution_count": 57,
   "id": "3f9e687c",
   "metadata": {},
   "outputs": [
    {
     "data": {
      "text/plain": [
       "(6, 6)"
      ]
     },
     "execution_count": 57,
     "metadata": {},
     "output_type": "execute_result"
    }
   ],
   "source": [
    "df_sale[df_sale.num_bed_rooms == 0].shape"
   ]
  },
  {
   "cell_type": "code",
   "execution_count": 59,
   "id": "f4402df7",
   "metadata": {},
   "outputs": [],
   "source": [
    "df_sale.to_csv('df-sale.csv')"
   ]
  },
  {
   "cell_type": "markdown",
   "id": "0c9de26f",
   "metadata": {},
   "source": [
    "<br>\n",
    "\n",
    "\n",
    "# Load `R` for Linear mixed-effects models"
   ]
  },
  {
   "cell_type": "code",
   "execution_count": 64,
   "id": "787dfbdf",
   "metadata": {},
   "outputs": [
    {
     "name": "stdout",
     "output_type": "stream",
     "text": [
      "The rpy2.ipython extension is already loaded. To reload it, use:\n",
      "  %reload_ext rpy2.ipython\n"
     ]
    }
   ],
   "source": [
    "%load_ext rpy2.ipython"
   ]
  },
  {
   "cell_type": "code",
   "execution_count": 72,
   "id": "7ef49c0b",
   "metadata": {},
   "outputs": [
    {
     "name": "stdout",
     "output_type": "stream",
     "text": [
      "character(0)\n"
     ]
    }
   ],
   "source": [
    "%%R\n",
    "\n",
    "# Start fresh\n",
    "rm(list = ls())\n",
    "ls()"
   ]
  },
  {
   "cell_type": "code",
   "execution_count": 73,
   "id": "6c2f5eca",
   "metadata": {
    "scrolled": true
   },
   "outputs": [],
   "source": [
    "%%R\n",
    "\n",
    "# Load the packages\n",
    "library(Matrix)\n",
    "library(lme4)"
   ]
  },
  {
   "cell_type": "code",
   "execution_count": 74,
   "id": "a4f32e30",
   "metadata": {
    "scrolled": true
   },
   "outputs": [
    {
     "name": "stdout",
     "output_type": "stream",
     "text": [
      "[1] \"df.sale\"\n"
     ]
    }
   ],
   "source": [
    "%%R\n",
    "df.sale = read.csv(\"df-sale.csv\")\n",
    "ls()"
   ]
  },
  {
   "cell_type": "code",
   "execution_count": 75,
   "id": "3bfbe5e0",
   "metadata": {
    "scrolled": false
   },
   "outputs": [
    {
     "name": "stdout",
     "output_type": "stream",
     "text": [
      "  X    price area num_bath_rooms num_bed_rooms            zone price_log\n",
      "1 0  6100000 1185       2.865087             3        Khilgaon  15.62380\n",
      "2 1 28900000 2464       4.000000             3       Dhanmondi  17.17935\n",
      "3 2  7500000 1140       2.865087             3          Mirpur  15.83041\n",
      "4 3 20000000 1920       3.000000             3 Bashundhara R/A  16.81124\n",
      "5 4 10800000 1445       3.000000             3        Khilgaon  16.19506\n",
      "6 5  5000000  925       2.865087             2        Khilgaon  15.42495\n"
     ]
    }
   ],
   "source": [
    "%%R\n",
    "head(df.sale)"
   ]
  },
  {
   "cell_type": "code",
   "execution_count": 76,
   "id": "01e4de29",
   "metadata": {},
   "outputs": [
    {
     "name": "stdout",
     "output_type": "stream",
     "text": [
      "[1] 10740     7\n"
     ]
    }
   ],
   "source": [
    "%%R\n",
    "dim(df.sale)"
   ]
  },
  {
   "cell_type": "code",
   "execution_count": 78,
   "id": "f550813f",
   "metadata": {},
   "outputs": [],
   "source": [
    "%%R\n",
    "\n",
    "# Make 'zone' as factor for using it as a random effect\n",
    "df.sale$zone = as.factor(df.sale$zone)"
   ]
  },
  {
   "cell_type": "markdown",
   "id": "4bfc4a62",
   "metadata": {},
   "source": [
    "### Fit an `lmer` model"
   ]
  },
  {
   "cell_type": "code",
   "execution_count": 79,
   "id": "789143e9",
   "metadata": {},
   "outputs": [],
   "source": [
    "%%R\n",
    "lmer.sale.allZones = lmer(price_log ~ \n",
    "                          area + \n",
    "                          num_bath_rooms + \n",
    "                          num_bed_rooms + \n",
    "                          (1 | zone), \n",
    "                          data = df.sale)\n"
   ]
  },
  {
   "cell_type": "code",
   "execution_count": 80,
   "id": "9158ec61",
   "metadata": {
    "scrolled": false
   },
   "outputs": [
    {
     "name": "stdout",
     "output_type": "stream",
     "text": [
      "Linear mixed model fit by REML ['lmerMod']\n",
      "Formula: price_log ~ area + num_bath_rooms + num_bed_rooms + (1 | zone)\n",
      "   Data: df.sale\n",
      "\n",
      "REML criterion at convergence: -92.9\n",
      "\n",
      "Scaled residuals: \n",
      "     Min       1Q   Median       3Q      Max \n",
      "-13.1753  -0.5881   0.0093   0.5783   5.5183 \n",
      "\n",
      "Random effects:\n",
      " Groups   Name        Variance Std.Dev.\n",
      " zone     (Intercept) 0.09608  0.3100  \n",
      " Residual             0.05673  0.2382  \n",
      "Number of obs: 10740, groups:  zone, 54\n",
      "\n",
      "Fixed effects:\n",
      "                Estimate Std. Error t value\n",
      "(Intercept)    1.440e+01  4.709e-02 305.740\n",
      "area           8.449e-04  8.265e-06 102.222\n",
      "num_bath_rooms 5.196e-02  5.241e-03   9.915\n",
      "num_bed_rooms  9.507e-03  6.227e-03   1.527\n",
      "\n",
      "Correlation of Fixed Effects:\n",
      "            (Intr) area   nm_bt_\n",
      "area         0.059              \n",
      "num_bth_rms -0.165 -0.248       \n",
      "num_bed_rms -0.171 -0.576 -0.234\n"
     ]
    }
   ],
   "source": [
    "%%R\n",
    "summary(lmer.sale.allZones)"
   ]
  },
  {
   "cell_type": "markdown",
   "id": "70d262c7",
   "metadata": {},
   "source": [
    "### Save the model for generating predictions"
   ]
  },
  {
   "cell_type": "code",
   "execution_count": 81,
   "id": "7a9c4fb5",
   "metadata": {},
   "outputs": [],
   "source": [
    "%%R\n",
    "\n",
    "saveRDS(lmer.sale.allZones, file = \"lmer.sale.allZones.rds\")"
   ]
  }
 ],
 "metadata": {
  "kernelspec": {
   "display_name": "Python 3 (ipykernel)",
   "language": "python",
   "name": "python3"
  },
  "language_info": {
   "codemirror_mode": {
    "name": "ipython",
    "version": 3
   },
   "file_extension": ".py",
   "mimetype": "text/x-python",
   "name": "python",
   "nbconvert_exporter": "python",
   "pygments_lexer": "ipython3",
   "version": "3.9.6"
  }
 },
 "nbformat": 4,
 "nbformat_minor": 5
}
