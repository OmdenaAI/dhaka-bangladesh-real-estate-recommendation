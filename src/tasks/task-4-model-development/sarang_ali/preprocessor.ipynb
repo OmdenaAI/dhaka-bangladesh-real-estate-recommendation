{
 "cells": [
  {
   "cell_type": "code",
   "execution_count": 53,
   "metadata": {},
   "outputs": [],
   "source": [
    "import pandas as pd\n",
    "import numpy as np\n",
    "import matplotlib.pyplot as plt\n",
    "from sklearn.preprocessing import OneHotEncoder\n",
    "import category_encoders as ce\n",
    "from sklearn.preprocessing import StandardScaler"
   ]
  },
  {
   "cell_type": "code",
   "execution_count": 54,
   "metadata": {},
   "outputs": [],
   "source": [
    "#reading df\n",
    "df = pd.read_csv('prepare_df.csv',index_col='id')"
   ]
  },
  {
   "attachments": {},
   "cell_type": "markdown",
   "metadata": {},
   "source": [
    "### Data Splitting"
   ]
  },
  {
   "cell_type": "code",
   "execution_count": 55,
   "metadata": {},
   "outputs": [],
   "source": [
    "train_X = df.drop(columns=['price','price_log'], axis=1)\n",
    "train_y = df['price_log']"
   ]
  },
  {
   "attachments": {},
   "cell_type": "markdown",
   "metadata": {},
   "source": [
    "### Dividing and Selecting_features"
   ]
  },
  {
   "cell_type": "code",
   "execution_count": 56,
   "metadata": {},
   "outputs": [],
   "source": [
    "amenity_col = list(df.filter(like='amenity').columns)\n",
    "cat_cols = list(set(df.select_dtypes(include=['object']).columns) - set(['city', 'locality']))\n",
    "num_cols = list(set(df.select_dtypes(include='number').columns) - set(['price', 'price_log']) - set(amenity_col))\n",
    "large_cat = ['zone']\n",
    "small_cat = list(set(cat_cols) - set(large_cat))\n",
    "number_cols = list(set(num_cols) - set(['city', 'locality']))\n"
   ]
  },
  {
   "cell_type": "code",
   "execution_count": 57,
   "metadata": {},
   "outputs": [
    {
     "data": {
      "text/plain": [
       "(['building_nature', 'building_type', 'division', 'purpose'],\n",
       " ['zone'],\n",
       " ['area', 'num_bath_rooms', 'num_bed_rooms'])"
      ]
     },
     "execution_count": 57,
     "metadata": {},
     "output_type": "execute_result"
    }
   ],
   "source": [
    "small_cat, large_cat, number_cols"
   ]
  },
  {
   "attachments": {},
   "cell_type": "markdown",
   "metadata": {},
   "source": [
    "### Custom Transformers"
   ]
  },
  {
   "cell_type": "code",
   "execution_count": 58,
   "metadata": {},
   "outputs": [],
   "source": [
    "from sklearn.base import BaseEstimator, TransformerMixin\n",
    "\n",
    "class CatBoostEncoderTransformer(BaseEstimator, TransformerMixin):\n",
    "    def __init__(self, columns=None):\n",
    "        self.columns = columns\n",
    "        self.encoders = {}\n",
    "    \n",
    "    def fit(self, X, y=None):\n",
    "        for col in self.columns:\n",
    "            encoder = ce.CatBoostEncoder()\n",
    "            encoder.fit(X[col], y)\n",
    "            self.encoders[col] = encoder\n",
    "        \n",
    "        return self\n",
    "    \n",
    "    def transform(self, X):\n",
    "        transformed_X = X.copy()\n",
    "        \n",
    "        for col, encoder in self.encoders.items():\n",
    "            transformed_X[col] = encoder.transform(X[col])\n",
    "        \n",
    "        return transformed_X\n",
    "\n",
    "class OneHotEncoderTransformer(BaseEstimator, TransformerMixin):\n",
    "    def __init__(self, columns=None, drop_original=True):\n",
    "        self.columns = columns\n",
    "        self.drop_original = drop_original\n",
    "        self.encoder = OneHotEncoder(sparse=False, handle_unknown='ignore')\n",
    "        self.new_columns = None\n",
    "    \n",
    "    def fit(self, X, y=None):\n",
    "        if self.columns is None:\n",
    "            global small_cat\n",
    "            self.columns = small_cat.tolist()\n",
    "        \n",
    "        self.encoder.fit(X[self.columns])\n",
    "        self.new_columns = self.encoder.get_feature_names_out(self.columns)\n",
    "        \n",
    "        return self\n",
    "    \n",
    "    def transform(self, X):\n",
    "        transformed_X = pd.DataFrame(self.encoder.transform(X[self.columns]), columns=self.new_columns, index=X.index)\n",
    "        \n",
    "        if self.drop_original:\n",
    "            transformed_X = X.drop(columns=self.columns).join(transformed_X)\n",
    "        \n",
    "        return transformed_X\n",
    "    \n",
    "class NumberColsStandardScaler(BaseEstimator, TransformerMixin):\n",
    "    def __init__(self, number_cols=None):\n",
    "        self.number_cols = number_cols\n",
    "        self.scaler = StandardScaler()\n",
    "    \n",
    "    def fit(self, X, y=None):\n",
    "        if self.number_cols is None:\n",
    "            self.number_cols = X.select_dtypes(include='number').columns.tolist()\n",
    "        \n",
    "        self.scaler.fit(X[self.number_cols])\n",
    "        \n",
    "        return self\n",
    "    \n",
    "    def transform(self, X):\n",
    "        transformed_X = X.copy()\n",
    "        transformed_X[self.number_cols] = self.scaler.transform(X[self.number_cols])\n",
    "        \n",
    "        return transformed_X\n",
    "        \n",
    "class PassAmenityColumns(BaseEstimator, TransformerMixin):\n",
    "    def __init__(self):\n",
    "        self\n",
    "    def fit(self, X=None, y=None):\n",
    "        return self\n",
    "    def transform(self, df):\n",
    "        return df"
   ]
  },
  {
   "attachments": {},
   "cell_type": "markdown",
   "metadata": {},
   "source": [
    "### Columns Transformer"
   ]
  },
  {
   "cell_type": "code",
   "execution_count": 59,
   "metadata": {},
   "outputs": [],
   "source": [
    "from sklearn.compose import ColumnTransformer\n",
    "\n",
    "large_cat_transformer = CatBoostEncoderTransformer(columns=large_cat)\n",
    "Transformed_large_cat = large_cat_transformer.fit_transform(train_X[large_cat], train_y)\n",
    "number_cols.append('zone')\n",
    "train_X['zone'] = Transformed_large_cat['zone']\n",
    "small_cat_transformer = OneHotEncoderTransformer(columns=small_cat,drop_original=True)\n",
    "scaler_transformer = NumberColsStandardScaler(number_cols=number_cols)\n",
    "\n",
    "preprocessor = ColumnTransformer(transformers=[ \n",
    "    ('small_cat', small_cat_transformer, small_cat),\n",
    "    ('scaling', scaler_transformer, number_cols) ,\n",
    "    ('pass_amenity_cols', PassAmenityColumns(), amenity_col)\n",
    "])"
   ]
  },
  {
   "cell_type": "code",
   "execution_count": 60,
   "metadata": {},
   "outputs": [],
   "source": [
    "from sklearn.pipeline import Pipeline\n",
    "full_pipeline = Pipeline(steps=[\n",
    "    ('preprocessing', preprocessor),\n",
    "])"
   ]
  },
  {
   "cell_type": "code",
   "execution_count": 61,
   "metadata": {},
   "outputs": [],
   "source": [
    "prepared_train_x = preprocessor.fit_transform(train_X,train_y)"
   ]
  },
  {
   "cell_type": "code",
   "execution_count": 62,
   "metadata": {},
   "outputs": [],
   "source": [
    "\n",
    "def prepare_input_for_model(x):\n",
    "    x_large_preapered = large_cat_transformer.transform(x)\n",
    "    x['zone'] = x_large_preapered['zone']\n",
    "    x = preprocessor.transform(x)\n",
    "    return x"
   ]
  },
  {
   "attachments": {},
   "cell_type": "markdown",
   "metadata": {},
   "source": [
    "# Model Development\n"
   ]
  },
  {
   "attachments": {},
   "cell_type": "markdown",
   "metadata": {},
   "source": [
    "## RandomForestRegressor"
   ]
  },
  {
   "cell_type": "code",
   "execution_count": 68,
   "metadata": {},
   "outputs": [
    {
     "data": {
      "text/plain": [
       "RandomForestRegressor(max_features=8, n_estimators=15)"
      ]
     },
     "execution_count": 68,
     "metadata": {},
     "output_type": "execute_result"
    }
   ],
   "source": [
    "from sklearn.ensemble import RandomForestRegressor\n",
    "rf_reg = RandomForestRegressor(max_features=8, n_estimators=15)\n",
    "rf_reg.fit(prepared_train_x, train_y)"
   ]
  }
 ],
 "metadata": {
  "kernelspec": {
   "display_name": "base",
   "language": "python",
   "name": "python3"
  },
  "language_info": {
   "codemirror_mode": {
    "name": "ipython",
    "version": 3
   },
   "file_extension": ".py",
   "mimetype": "text/x-python",
   "name": "python",
   "nbconvert_exporter": "python",
   "pygments_lexer": "ipython3",
   "version": "3.9.13"
  },
  "orig_nbformat": 4
 },
 "nbformat": 4,
 "nbformat_minor": 2
}
