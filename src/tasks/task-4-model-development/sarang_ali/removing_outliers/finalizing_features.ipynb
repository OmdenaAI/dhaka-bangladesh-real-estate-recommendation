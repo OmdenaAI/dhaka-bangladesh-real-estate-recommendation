{
 "cells": [
  {
   "cell_type": "code",
   "execution_count": 46,
   "metadata": {},
   "outputs": [],
   "source": [
    "import pandas as pd\n",
    "import numpy as np\n",
    "import matplotlib.pyplot as plt\n",
    "import seaborn as sns"
   ]
  },
  {
   "cell_type": "code",
   "execution_count": 47,
   "metadata": {},
   "outputs": [
    {
     "data": {
      "text/html": [
       "<div>\n",
       "<style scoped>\n",
       "    .dataframe tbody tr th:only-of-type {\n",
       "        vertical-align: middle;\n",
       "    }\n",
       "\n",
       "    .dataframe tbody tr th {\n",
       "        vertical-align: top;\n",
       "    }\n",
       "\n",
       "    .dataframe thead th {\n",
       "        text-align: right;\n",
       "    }\n",
       "</style>\n",
       "<table border=\"1\" class=\"dataframe\">\n",
       "  <thead>\n",
       "    <tr style=\"text-align: right;\">\n",
       "      <th></th>\n",
       "      <th>0</th>\n",
       "      <th>1</th>\n",
       "      <th>2</th>\n",
       "      <th>3</th>\n",
       "      <th>4</th>\n",
       "    </tr>\n",
       "  </thead>\n",
       "  <tbody>\n",
       "    <tr>\n",
       "      <th>area</th>\n",
       "      <td>1100.0</td>\n",
       "      <td>1300.0</td>\n",
       "      <td>1500.0</td>\n",
       "      <td>1350.0</td>\n",
       "      <td>1825.0</td>\n",
       "    </tr>\n",
       "    <tr>\n",
       "      <th>building_type</th>\n",
       "      <td>Apartment</td>\n",
       "      <td>Apartment</td>\n",
       "      <td>Apartment</td>\n",
       "      <td>Apartment</td>\n",
       "      <td>Apartment</td>\n",
       "    </tr>\n",
       "    <tr>\n",
       "      <th>building_nature</th>\n",
       "      <td>Residential</td>\n",
       "      <td>Residential</td>\n",
       "      <td>Residential</td>\n",
       "      <td>Residential</td>\n",
       "      <td>Residential</td>\n",
       "    </tr>\n",
       "    <tr>\n",
       "      <th>image_url</th>\n",
       "      <td>https://images-cdn.bproperty.com/thumbnails/80...</td>\n",
       "      <td>https://images-cdn.bproperty.com/thumbnails/13...</td>\n",
       "      <td>https://images-cdn.bproperty.com/thumbnails/15...</td>\n",
       "      <td>https://images-cdn.bproperty.com/thumbnails/15...</td>\n",
       "      <td>https://images-cdn.bproperty.com/thumbnails/15...</td>\n",
       "    </tr>\n",
       "    <tr>\n",
       "      <th>num_bath_rooms</th>\n",
       "      <td>3.0</td>\n",
       "      <td>3.0</td>\n",
       "      <td>3.0</td>\n",
       "      <td>3.0</td>\n",
       "      <td>4.0</td>\n",
       "    </tr>\n",
       "    <tr>\n",
       "      <th>num_bed_rooms</th>\n",
       "      <td>3.0</td>\n",
       "      <td>3.0</td>\n",
       "      <td>3.0</td>\n",
       "      <td>3.0</td>\n",
       "      <td>3.0</td>\n",
       "    </tr>\n",
       "    <tr>\n",
       "      <th>price</th>\n",
       "      <td>22000.0</td>\n",
       "      <td>40000.0</td>\n",
       "      <td>35000.0</td>\n",
       "      <td>20000.0</td>\n",
       "      <td>60000.0</td>\n",
       "    </tr>\n",
       "    <tr>\n",
       "      <th>property_description</th>\n",
       "      <td>1150 Square Feet Apartment For Rent In Mohamma...</td>\n",
       "      <td>Grab This Lovely Flat For Rent In Bashundhara ...</td>\n",
       "      <td>1500 Square Feet Apartment With Necessary Resi...</td>\n",
       "      <td>Wow! This 1350 Sq Ft Apartment For Rent In Bas...</td>\n",
       "      <td>This 1825 Sq. Ft Apartment Will Ensure Your Go...</td>\n",
       "    </tr>\n",
       "    <tr>\n",
       "      <th>property_overview</th>\n",
       "      <td>The apartment of 1100  Square Feet is located ...</td>\n",
       "      <td>This lovely apartment is located in a great lo...</td>\n",
       "      <td>Make this beautiful 1,500 Sft apartment in Utt...</td>\n",
       "      <td>In a very busy city like Dhaka, everyone tranc...</td>\n",
       "      <td>In a very busy city like Dhaka, everyone tranc...</td>\n",
       "    </tr>\n",
       "    <tr>\n",
       "      <th>property_url</th>\n",
       "      <td>https://www.bproperty.com/en/property/details-...</td>\n",
       "      <td>https://www.bproperty.com/en/property/details-...</td>\n",
       "      <td>https://www.bproperty.com/en/property/details-...</td>\n",
       "      <td>https://www.bproperty.com/en/property/details-...</td>\n",
       "      <td>https://www.bproperty.com/en/property/details-...</td>\n",
       "    </tr>\n",
       "    <tr>\n",
       "      <th>purpose</th>\n",
       "      <td>Rent</td>\n",
       "      <td>Rent</td>\n",
       "      <td>Rent</td>\n",
       "      <td>Rent</td>\n",
       "      <td>Rent</td>\n",
       "    </tr>\n",
       "    <tr>\n",
       "      <th>city</th>\n",
       "      <td>Dhaka</td>\n",
       "      <td>Dhaka</td>\n",
       "      <td>Dhaka</td>\n",
       "      <td>Dhaka</td>\n",
       "      <td>Dhaka</td>\n",
       "    </tr>\n",
       "    <tr>\n",
       "      <th>locality</th>\n",
       "      <td>Mohammadpur</td>\n",
       "      <td>Bashundhara R-A</td>\n",
       "      <td>Uttara</td>\n",
       "      <td>Bashundhara R-A</td>\n",
       "      <td>Uttara</td>\n",
       "    </tr>\n",
       "    <tr>\n",
       "      <th>address</th>\n",
       "      <td>Shyamoli Housing, Shekhertek</td>\n",
       "      <td>Block D</td>\n",
       "      <td>Sector 4</td>\n",
       "      <td>Block K</td>\n",
       "      <td>Sector 9</td>\n",
       "    </tr>\n",
       "    <tr>\n",
       "      <th>id</th>\n",
       "      <td>bproperty-14087</td>\n",
       "      <td>bproperty-14091</td>\n",
       "      <td>bproperty-14092</td>\n",
       "      <td>bproperty-14093</td>\n",
       "      <td>bproperty-14094</td>\n",
       "    </tr>\n",
       "    <tr>\n",
       "      <th>relaxation_amenity_count</th>\n",
       "      <td>0</td>\n",
       "      <td>0</td>\n",
       "      <td>0</td>\n",
       "      <td>0</td>\n",
       "      <td>0</td>\n",
       "    </tr>\n",
       "    <tr>\n",
       "      <th>security_amenity_count</th>\n",
       "      <td>2</td>\n",
       "      <td>2</td>\n",
       "      <td>1</td>\n",
       "      <td>0</td>\n",
       "      <td>2</td>\n",
       "    </tr>\n",
       "    <tr>\n",
       "      <th>maintenance_or_cleaning_amenity_count</th>\n",
       "      <td>2</td>\n",
       "      <td>2</td>\n",
       "      <td>3</td>\n",
       "      <td>0</td>\n",
       "      <td>1</td>\n",
       "    </tr>\n",
       "    <tr>\n",
       "      <th>social_amenity_count</th>\n",
       "      <td>0</td>\n",
       "      <td>0</td>\n",
       "      <td>2</td>\n",
       "      <td>0</td>\n",
       "      <td>0</td>\n",
       "    </tr>\n",
       "    <tr>\n",
       "      <th>expendable_amenity_count</th>\n",
       "      <td>5</td>\n",
       "      <td>4</td>\n",
       "      <td>2</td>\n",
       "      <td>4</td>\n",
       "      <td>3</td>\n",
       "    </tr>\n",
       "    <tr>\n",
       "      <th>service_staff_amenity_count</th>\n",
       "      <td>0</td>\n",
       "      <td>0</td>\n",
       "      <td>0</td>\n",
       "      <td>0</td>\n",
       "      <td>0</td>\n",
       "    </tr>\n",
       "    <tr>\n",
       "      <th>unclassify_amenity_count</th>\n",
       "      <td>4</td>\n",
       "      <td>5</td>\n",
       "      <td>4</td>\n",
       "      <td>3</td>\n",
       "      <td>4</td>\n",
       "    </tr>\n",
       "    <tr>\n",
       "      <th>division</th>\n",
       "      <td>Dhaka</td>\n",
       "      <td>Dhaka</td>\n",
       "      <td>Dhaka</td>\n",
       "      <td>Dhaka</td>\n",
       "      <td>Dhaka</td>\n",
       "    </tr>\n",
       "    <tr>\n",
       "      <th>zone</th>\n",
       "      <td>Mohammadpur</td>\n",
       "      <td>Bashundhara R/A</td>\n",
       "      <td>Uttara</td>\n",
       "      <td>Bashundhara R/A</td>\n",
       "      <td>Uttara</td>\n",
       "    </tr>\n",
       "  </tbody>\n",
       "</table>\n",
       "</div>"
      ],
      "text/plain": [
       "                                                                                       0  \\\n",
       "area                                                                              1100.0   \n",
       "building_type                                                                  Apartment   \n",
       "building_nature                                                              Residential   \n",
       "image_url                              https://images-cdn.bproperty.com/thumbnails/80...   \n",
       "num_bath_rooms                                                                       3.0   \n",
       "num_bed_rooms                                                                        3.0   \n",
       "price                                                                            22000.0   \n",
       "property_description                   1150 Square Feet Apartment For Rent In Mohamma...   \n",
       "property_overview                      The apartment of 1100  Square Feet is located ...   \n",
       "property_url                           https://www.bproperty.com/en/property/details-...   \n",
       "purpose                                                                             Rent   \n",
       "city                                                                               Dhaka   \n",
       "locality                                                                     Mohammadpur   \n",
       "address                                                     Shyamoli Housing, Shekhertek   \n",
       "id                                                                       bproperty-14087   \n",
       "relaxation_amenity_count                                                               0   \n",
       "security_amenity_count                                                                 2   \n",
       "maintenance_or_cleaning_amenity_count                                                  2   \n",
       "social_amenity_count                                                                   0   \n",
       "expendable_amenity_count                                                               5   \n",
       "service_staff_amenity_count                                                            0   \n",
       "unclassify_amenity_count                                                               4   \n",
       "division                                                                           Dhaka   \n",
       "zone                                                                         Mohammadpur   \n",
       "\n",
       "                                                                                       1  \\\n",
       "area                                                                              1300.0   \n",
       "building_type                                                                  Apartment   \n",
       "building_nature                                                              Residential   \n",
       "image_url                              https://images-cdn.bproperty.com/thumbnails/13...   \n",
       "num_bath_rooms                                                                       3.0   \n",
       "num_bed_rooms                                                                        3.0   \n",
       "price                                                                            40000.0   \n",
       "property_description                   Grab This Lovely Flat For Rent In Bashundhara ...   \n",
       "property_overview                      This lovely apartment is located in a great lo...   \n",
       "property_url                           https://www.bproperty.com/en/property/details-...   \n",
       "purpose                                                                             Rent   \n",
       "city                                                                               Dhaka   \n",
       "locality                                                                 Bashundhara R-A   \n",
       "address                                                                          Block D   \n",
       "id                                                                       bproperty-14091   \n",
       "relaxation_amenity_count                                                               0   \n",
       "security_amenity_count                                                                 2   \n",
       "maintenance_or_cleaning_amenity_count                                                  2   \n",
       "social_amenity_count                                                                   0   \n",
       "expendable_amenity_count                                                               4   \n",
       "service_staff_amenity_count                                                            0   \n",
       "unclassify_amenity_count                                                               5   \n",
       "division                                                                           Dhaka   \n",
       "zone                                                                     Bashundhara R/A   \n",
       "\n",
       "                                                                                       2  \\\n",
       "area                                                                              1500.0   \n",
       "building_type                                                                  Apartment   \n",
       "building_nature                                                              Residential   \n",
       "image_url                              https://images-cdn.bproperty.com/thumbnails/15...   \n",
       "num_bath_rooms                                                                       3.0   \n",
       "num_bed_rooms                                                                        3.0   \n",
       "price                                                                            35000.0   \n",
       "property_description                   1500 Square Feet Apartment With Necessary Resi...   \n",
       "property_overview                      Make this beautiful 1,500 Sft apartment in Utt...   \n",
       "property_url                           https://www.bproperty.com/en/property/details-...   \n",
       "purpose                                                                             Rent   \n",
       "city                                                                               Dhaka   \n",
       "locality                                                                          Uttara   \n",
       "address                                                                         Sector 4   \n",
       "id                                                                       bproperty-14092   \n",
       "relaxation_amenity_count                                                               0   \n",
       "security_amenity_count                                                                 1   \n",
       "maintenance_or_cleaning_amenity_count                                                  3   \n",
       "social_amenity_count                                                                   2   \n",
       "expendable_amenity_count                                                               2   \n",
       "service_staff_amenity_count                                                            0   \n",
       "unclassify_amenity_count                                                               4   \n",
       "division                                                                           Dhaka   \n",
       "zone                                                                              Uttara   \n",
       "\n",
       "                                                                                       3  \\\n",
       "area                                                                              1350.0   \n",
       "building_type                                                                  Apartment   \n",
       "building_nature                                                              Residential   \n",
       "image_url                              https://images-cdn.bproperty.com/thumbnails/15...   \n",
       "num_bath_rooms                                                                       3.0   \n",
       "num_bed_rooms                                                                        3.0   \n",
       "price                                                                            20000.0   \n",
       "property_description                   Wow! This 1350 Sq Ft Apartment For Rent In Bas...   \n",
       "property_overview                      In a very busy city like Dhaka, everyone tranc...   \n",
       "property_url                           https://www.bproperty.com/en/property/details-...   \n",
       "purpose                                                                             Rent   \n",
       "city                                                                               Dhaka   \n",
       "locality                                                                 Bashundhara R-A   \n",
       "address                                                                          Block K   \n",
       "id                                                                       bproperty-14093   \n",
       "relaxation_amenity_count                                                               0   \n",
       "security_amenity_count                                                                 0   \n",
       "maintenance_or_cleaning_amenity_count                                                  0   \n",
       "social_amenity_count                                                                   0   \n",
       "expendable_amenity_count                                                               4   \n",
       "service_staff_amenity_count                                                            0   \n",
       "unclassify_amenity_count                                                               3   \n",
       "division                                                                           Dhaka   \n",
       "zone                                                                     Bashundhara R/A   \n",
       "\n",
       "                                                                                       4  \n",
       "area                                                                              1825.0  \n",
       "building_type                                                                  Apartment  \n",
       "building_nature                                                              Residential  \n",
       "image_url                              https://images-cdn.bproperty.com/thumbnails/15...  \n",
       "num_bath_rooms                                                                       4.0  \n",
       "num_bed_rooms                                                                        3.0  \n",
       "price                                                                            60000.0  \n",
       "property_description                   This 1825 Sq. Ft Apartment Will Ensure Your Go...  \n",
       "property_overview                      In a very busy city like Dhaka, everyone tranc...  \n",
       "property_url                           https://www.bproperty.com/en/property/details-...  \n",
       "purpose                                                                             Rent  \n",
       "city                                                                               Dhaka  \n",
       "locality                                                                          Uttara  \n",
       "address                                                                         Sector 9  \n",
       "id                                                                       bproperty-14094  \n",
       "relaxation_amenity_count                                                               0  \n",
       "security_amenity_count                                                                 2  \n",
       "maintenance_or_cleaning_amenity_count                                                  1  \n",
       "social_amenity_count                                                                   0  \n",
       "expendable_amenity_count                                                               3  \n",
       "service_staff_amenity_count                                                            0  \n",
       "unclassify_amenity_count                                                               4  \n",
       "division                                                                           Dhaka  \n",
       "zone                                                                              Uttara  "
      ]
     },
     "execution_count": 47,
     "metadata": {},
     "output_type": "execute_result"
    }
   ],
   "source": [
    "#reading df\n",
    "df = pd.read_csv('no_outlier_df.csv')\n",
    "df.head().T"
   ]
  },
  {
   "attachments": {},
   "cell_type": "markdown",
   "metadata": {},
   "source": [
    "## Feautre Engineering"
   ]
  },
  {
   "cell_type": "code",
   "execution_count": 48,
   "metadata": {},
   "outputs": [
    {
     "data": {
      "text/plain": [
       "area                  0\n",
       "building_type         0\n",
       "building_nature       0\n",
       "num_bath_rooms        0\n",
       "num_bed_rooms         0\n",
       "price                 0\n",
       "purpose               0\n",
       "city                  0\n",
       "locality              0\n",
       "address            4680\n",
       "division              1\n",
       "zone                 80\n",
       "dtype: int64"
      ]
     },
     "execution_count": 48,
     "metadata": {},
     "output_type": "execute_result"
    }
   ],
   "source": [
    "#setting out amenities to simplify the dataset and taking on important columns\n",
    "amenities = ['relaxation_amenity_count','security_amenity_count','maintenance_or_cleaning_amenity_count',\\\n",
    "             'social_amenity_count','expendable_amenity_count','service_staff_amenity_count','unclassify_amenity_count']\n",
    "not_required_cols = ['property_description', 'property_overview', 'property_url', 'image_url','id']\n",
    "working_df = df.drop(columns=amenities+not_required_cols)\n",
    "working_df.isna().sum()"
   ]
  },
  {
   "attachments": {},
   "cell_type": "markdown",
   "metadata": {},
   "source": [
    "Now I am going to modify each feature using the insights given in task#3 EDA"
   ]
  },
  {
   "attachments": {},
   "cell_type": "markdown",
   "metadata": {},
   "source": [
    "### area"
   ]
  },
  {
   "cell_type": "code",
   "execution_count": 49,
   "metadata": {},
   "outputs": [
    {
     "data": {
      "text/plain": [
       "count    29813.000000\n",
       "mean      1657.573696\n",
       "std       1215.077508\n",
       "min         93.000000\n",
       "25%       1050.000000\n",
       "50%       1350.000000\n",
       "75%       2000.000000\n",
       "max      17000.000000\n",
       "Name: area, dtype: float64"
      ]
     },
     "execution_count": 49,
     "metadata": {},
     "output_type": "execute_result"
    }
   ],
   "source": [
    "df['area'].describe()\n",
    "#nothing to do here"
   ]
  },
  {
   "attachments": {},
   "cell_type": "markdown",
   "metadata": {},
   "source": [
    "### building_type"
   ]
  },
  {
   "attachments": {},
   "cell_type": "markdown",
   "metadata": {},
   "source": [
    "1. Nearly 80% of our properties are `Apartment`, for a total of nearly 27000 samples. We also some `Office`, `Building`, `Shop`, `Floor`, `Residential Plot`, whose number are under 10% of the total dataset; that is to say, their numbers are under 2500. \n",
    "2. There are other types of properties, in a very negligible number.\n",
    "\n",
    "❗ **Recommendation**:\n",
    "* We are expecting our future models to perform well on `Apartment`, and to have and acceptable result for `Office`, `Building`, `Shop`, `Floor`, `Residential Plot`. They are expected to perform poorly on other types of properties.\n",
    "* Types not part of (1) should be dropped in order to avoid noise in our future models.\n"
   ]
  },
  {
   "cell_type": "code",
   "execution_count": 50,
   "metadata": {},
   "outputs": [],
   "source": [
    "req_building_type = ['Apartment','Office', 'Building', 'Shop', 'Floor', 'Residential Plot']\n",
    "df = df[df['building_type'].isin(req_building_type)]"
   ]
  },
  {
   "attachments": {},
   "cell_type": "markdown",
   "metadata": {},
   "source": [
    "### building_nature"
   ]
  },
  {
   "cell_type": "code",
   "execution_count": 51,
   "metadata": {},
   "outputs": [
    {
     "data": {
      "text/plain": [
       "count           29637\n",
       "unique              2\n",
       "top       Residential\n",
       "freq            23985\n",
       "Name: building_nature, dtype: object"
      ]
     },
     "execution_count": 51,
     "metadata": {},
     "output_type": "execute_result"
    }
   ],
   "source": [
    "df['building_nature'].describe()\n",
    "#nothing to do here"
   ]
  },
  {
   "attachments": {},
   "cell_type": "markdown",
   "metadata": {},
   "source": [
    "### num_bath_rooms & num_bed_rooms"
   ]
  },
  {
   "cell_type": "code",
   "execution_count": 52,
   "metadata": {},
   "outputs": [
    {
     "data": {
      "text/html": [
       "<div>\n",
       "<style scoped>\n",
       "    .dataframe tbody tr th:only-of-type {\n",
       "        vertical-align: middle;\n",
       "    }\n",
       "\n",
       "    .dataframe tbody tr th {\n",
       "        vertical-align: top;\n",
       "    }\n",
       "\n",
       "    .dataframe thead th {\n",
       "        text-align: right;\n",
       "    }\n",
       "</style>\n",
       "<table border=\"1\" class=\"dataframe\">\n",
       "  <thead>\n",
       "    <tr style=\"text-align: right;\">\n",
       "      <th></th>\n",
       "      <th>num_bath_rooms</th>\n",
       "      <th>num_bed_rooms</th>\n",
       "    </tr>\n",
       "  </thead>\n",
       "  <tbody>\n",
       "    <tr>\n",
       "      <th>count</th>\n",
       "      <td>29637.000000</td>\n",
       "      <td>29637.000000</td>\n",
       "    </tr>\n",
       "    <tr>\n",
       "      <th>mean</th>\n",
       "      <td>1.660694</td>\n",
       "      <td>2.316800</td>\n",
       "    </tr>\n",
       "    <tr>\n",
       "      <th>std</th>\n",
       "      <td>1.551060</td>\n",
       "      <td>1.268307</td>\n",
       "    </tr>\n",
       "    <tr>\n",
       "      <th>min</th>\n",
       "      <td>0.000000</td>\n",
       "      <td>0.000000</td>\n",
       "    </tr>\n",
       "    <tr>\n",
       "      <th>25%</th>\n",
       "      <td>0.000000</td>\n",
       "      <td>2.000000</td>\n",
       "    </tr>\n",
       "    <tr>\n",
       "      <th>50%</th>\n",
       "      <td>2.000000</td>\n",
       "      <td>3.000000</td>\n",
       "    </tr>\n",
       "    <tr>\n",
       "      <th>75%</th>\n",
       "      <td>3.000000</td>\n",
       "      <td>3.000000</td>\n",
       "    </tr>\n",
       "    <tr>\n",
       "      <th>max</th>\n",
       "      <td>10.000000</td>\n",
       "      <td>10.000000</td>\n",
       "    </tr>\n",
       "  </tbody>\n",
       "</table>\n",
       "</div>"
      ],
      "text/plain": [
       "       num_bath_rooms  num_bed_rooms\n",
       "count    29637.000000   29637.000000\n",
       "mean         1.660694       2.316800\n",
       "std          1.551060       1.268307\n",
       "min          0.000000       0.000000\n",
       "25%          0.000000       2.000000\n",
       "50%          2.000000       3.000000\n",
       "75%          3.000000       3.000000\n",
       "max         10.000000      10.000000"
      ]
     },
     "execution_count": 52,
     "metadata": {},
     "output_type": "execute_result"
    }
   ],
   "source": [
    "df[['num_bath_rooms','num_bed_rooms']].describe()\n",
    "#nothing to do here"
   ]
  },
  {
   "attachments": {},
   "cell_type": "markdown",
   "metadata": {},
   "source": [
    "### price"
   ]
  },
  {
   "cell_type": "code",
   "execution_count": 53,
   "metadata": {},
   "outputs": [
    {
     "data": {
      "text/plain": [
       "count    2.963700e+04\n",
       "mean     3.572601e+06\n",
       "std      5.929573e+06\n",
       "min      4.200000e+03\n",
       "25%      2.500000e+04\n",
       "50%      1.300000e+05\n",
       "75%      6.000000e+06\n",
       "max      1.200000e+08\n",
       "Name: price, dtype: float64"
      ]
     },
     "execution_count": 53,
     "metadata": {},
     "output_type": "execute_result"
    }
   ],
   "source": [
    "df['price'].describe()\n",
    "#non-linear relation was observed with every feature\n",
    "#nothing to do here"
   ]
  },
  {
   "attachments": {},
   "cell_type": "markdown",
   "metadata": {},
   "source": [
    "### purpose"
   ]
  },
  {
   "cell_type": "code",
   "execution_count": 54,
   "metadata": {},
   "outputs": [
    {
     "data": {
      "text/plain": [
       "count     29637\n",
       "unique        2\n",
       "top        Rent\n",
       "freq      17727\n",
       "Name: purpose, dtype: object"
      ]
     },
     "execution_count": 54,
     "metadata": {},
     "output_type": "execute_result"
    }
   ],
   "source": [
    "#nothing to do here\n",
    "df['purpose'].describe()"
   ]
  },
  {
   "attachments": {},
   "cell_type": "markdown",
   "metadata": {},
   "source": [
    "### city"
   ]
  },
  {
   "attachments": {},
   "cell_type": "markdown",
   "metadata": {},
   "source": [
    "1. Most of our properties are in `Dhaka`, for a total of nearly 28,000 properties. We also have nearly 4000 properties in `Chattogram`.     \n",
    "1. A negligible amount of properties are in `Narayanganj City`, `Barishal`, `Gazipur`, each of them with a count below 500 properties ..\n",
    "1. As for the other cities, their properties count is too insignificant.\n",
    "\n",
    "❗ **Recommendation**:\n",
    "* We are expecting our future models not to be perform well on cities mentioned in (2). We should consider dropping samples with those cities when building models since their low number will make it so that the models will not predict well on them. \n",
    "* Cities not part of (1) and (2) should definitively be dropped in order to avoid noise in our future models."
   ]
  },
  {
   "cell_type": "code",
   "execution_count": 55,
   "metadata": {},
   "outputs": [
    {
     "data": {
      "text/plain": [
       "(29346, 24)"
      ]
     },
     "execution_count": 55,
     "metadata": {},
     "output_type": "execute_result"
    }
   ],
   "source": [
    "req_city = ['Dhaka','Chattogram','Narayanganj City', 'Barishal','Gazipur']\n",
    "df = df[df['city'].isin(req_city)]\n",
    "df.shape"
   ]
  },
  {
   "attachments": {},
   "cell_type": "markdown",
   "metadata": {},
   "source": [
    "### locality"
   ]
  },
  {
   "cell_type": "code",
   "execution_count": 56,
   "metadata": {},
   "outputs": [
    {
     "data": {
      "text/plain": [
       "count      29346\n",
       "unique       160\n",
       "top       Mirpur\n",
       "freq        4966\n",
       "Name: locality, dtype: object"
      ]
     },
     "execution_count": 56,
     "metadata": {},
     "output_type": "execute_result"
    }
   ],
   "source": [
    "#nothing to do here\n",
    "df['locality'].describe()"
   ]
  },
  {
   "attachments": {},
   "cell_type": "markdown",
   "metadata": {},
   "source": [
    "### address"
   ]
  },
  {
   "cell_type": "code",
   "execution_count": 57,
   "metadata": {},
   "outputs": [
    {
     "data": {
      "text/plain": [
       "(29346, 24)"
      ]
     },
     "execution_count": 57,
     "metadata": {},
     "output_type": "execute_result"
    }
   ],
   "source": [
    "df.shape"
   ]
  },
  {
   "cell_type": "code",
   "execution_count": 58,
   "metadata": {},
   "outputs": [
    {
     "data": {
      "text/plain": [
       "24727"
      ]
     },
     "execution_count": 58,
     "metadata": {},
     "output_type": "execute_result"
    }
   ],
   "source": [
    "df['address'].value_counts(ascending=False).sum()\n",
    "#as mostly there are different values of address in dataframe, it won't be much helpful for ML algorithm\n",
    "#so better droppping it"
   ]
  },
  {
   "cell_type": "code",
   "execution_count": 59,
   "metadata": {},
   "outputs": [],
   "source": [
    "df.drop(columns='address', inplace=True)"
   ]
  },
  {
   "attachments": {},
   "cell_type": "markdown",
   "metadata": {},
   "source": [
    "### divison"
   ]
  },
  {
   "cell_type": "code",
   "execution_count": 60,
   "metadata": {},
   "outputs": [
    {
     "data": {
      "text/plain": [
       "Dhaka         25780\n",
       "Chattogram     3344\n",
       "Barisal         222\n",
       "Name: division, dtype: int64"
      ]
     },
     "execution_count": 60,
     "metadata": {},
     "output_type": "execute_result"
    }
   ],
   "source": [
    "df['division'].value_counts()"
   ]
  },
  {
   "cell_type": "code",
   "execution_count": 61,
   "metadata": {},
   "outputs": [
    {
     "data": {
      "text/plain": [
       "0"
      ]
     },
     "execution_count": 61,
     "metadata": {},
     "output_type": "execute_result"
    }
   ],
   "source": [
    "df['division'].isnull().sum()"
   ]
  },
  {
   "attachments": {},
   "cell_type": "markdown",
   "metadata": {},
   "source": [
    "### zone"
   ]
  },
  {
   "cell_type": "code",
   "execution_count": 62,
   "metadata": {},
   "outputs": [
    {
     "data": {
      "text/plain": [
       "80"
      ]
     },
     "execution_count": 62,
     "metadata": {},
     "output_type": "execute_result"
    }
   ],
   "source": [
    "df['zone'].isnull().sum()"
   ]
  },
  {
   "cell_type": "code",
   "execution_count": 63,
   "metadata": {},
   "outputs": [
    {
     "data": {
      "text/plain": [
       "Dhaka    80\n",
       "Name: division, dtype: int64"
      ]
     },
     "execution_count": 63,
     "metadata": {},
     "output_type": "execute_result"
    }
   ],
   "source": [
    "df[df['zone'].isna()]['division'].value_counts()\n",
    "#all missing zones belong to dhaka\n"
   ]
  },
  {
   "cell_type": "code",
   "execution_count": 64,
   "metadata": {},
   "outputs": [],
   "source": [
    "#it won't be wrong to fill them with mode\n",
    "df['zone'].fillna(df['zone'].mode, inplace=True)"
   ]
  },
  {
   "attachments": {},
   "cell_type": "markdown",
   "metadata": {},
   "source": [
    "### Handling Categorical Columns"
   ]
  },
  {
   "attachments": {},
   "cell_type": "markdown",
   "metadata": {},
   "source": [
    "### Feature Scaling"
   ]
  },
  {
   "attachments": {},
   "cell_type": "markdown",
   "metadata": {},
   "source": [
    "### Exporting ready data"
   ]
  }
 ],
 "metadata": {
  "kernelspec": {
   "display_name": "base",
   "language": "python",
   "name": "python3"
  },
  "language_info": {
   "codemirror_mode": {
    "name": "ipython",
    "version": 3
   },
   "file_extension": ".py",
   "mimetype": "text/x-python",
   "name": "python",
   "nbconvert_exporter": "python",
   "pygments_lexer": "ipython3",
   "version": "3.9.13"
  },
  "orig_nbformat": 4
 },
 "nbformat": 4,
 "nbformat_minor": 2
}
