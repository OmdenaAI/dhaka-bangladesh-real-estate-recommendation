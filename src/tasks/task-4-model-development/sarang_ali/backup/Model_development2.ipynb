{
 "cells": [
  {
   "cell_type": "code",
   "execution_count": 1,
   "metadata": {},
   "outputs": [],
   "source": [
    "import pandas as pd\n",
    "import numpy as np\n",
    "import matplotlib.pyplot as plt\n",
    "import seaborn as sns\n",
    "from sklearn.preprocessing import OneHotEncoder\n",
    "#import catboost\n",
    "import category_encoders as ce\n",
    "from sklearn.model_selection import train_test_split\n",
    "from sklearn.preprocessing import StandardScaler"
   ]
  },
  {
   "cell_type": "code",
   "execution_count": 2,
   "metadata": {},
   "outputs": [
    {
     "data": {
      "text/html": [
       "<div>\n",
       "<style scoped>\n",
       "    .dataframe tbody tr th:only-of-type {\n",
       "        vertical-align: middle;\n",
       "    }\n",
       "\n",
       "    .dataframe tbody tr th {\n",
       "        vertical-align: top;\n",
       "    }\n",
       "\n",
       "    .dataframe thead th {\n",
       "        text-align: right;\n",
       "    }\n",
       "</style>\n",
       "<table border=\"1\" class=\"dataframe\">\n",
       "  <thead>\n",
       "    <tr style=\"text-align: right;\">\n",
       "      <th></th>\n",
       "      <th>area</th>\n",
       "      <th>building_type</th>\n",
       "      <th>building_nature</th>\n",
       "      <th>image_url</th>\n",
       "      <th>num_bath_rooms</th>\n",
       "      <th>num_bed_rooms</th>\n",
       "      <th>price</th>\n",
       "      <th>property_description</th>\n",
       "      <th>property_overview</th>\n",
       "      <th>property_url</th>\n",
       "      <th>...</th>\n",
       "      <th>address</th>\n",
       "      <th>relaxation_amenity_count</th>\n",
       "      <th>security_amenity_count</th>\n",
       "      <th>maintenance_or_cleaning_amenity_count</th>\n",
       "      <th>social_amenity_count</th>\n",
       "      <th>expendable_amenity_count</th>\n",
       "      <th>service_staff_amenity_count</th>\n",
       "      <th>unclassify_amenity_count</th>\n",
       "      <th>division</th>\n",
       "      <th>zone</th>\n",
       "    </tr>\n",
       "    <tr>\n",
       "      <th>id</th>\n",
       "      <th></th>\n",
       "      <th></th>\n",
       "      <th></th>\n",
       "      <th></th>\n",
       "      <th></th>\n",
       "      <th></th>\n",
       "      <th></th>\n",
       "      <th></th>\n",
       "      <th></th>\n",
       "      <th></th>\n",
       "      <th></th>\n",
       "      <th></th>\n",
       "      <th></th>\n",
       "      <th></th>\n",
       "      <th></th>\n",
       "      <th></th>\n",
       "      <th></th>\n",
       "      <th></th>\n",
       "      <th></th>\n",
       "      <th></th>\n",
       "      <th></th>\n",
       "    </tr>\n",
       "  </thead>\n",
       "  <tbody>\n",
       "    <tr>\n",
       "      <th>bproperty-14087</th>\n",
       "      <td>1100.0</td>\n",
       "      <td>Apartment</td>\n",
       "      <td>Residential</td>\n",
       "      <td>https://images-cdn.bproperty.com/thumbnails/80...</td>\n",
       "      <td>3.0</td>\n",
       "      <td>3.0</td>\n",
       "      <td>22000.0</td>\n",
       "      <td>1150 Square Feet Apartment For Rent In Mohamma...</td>\n",
       "      <td>The apartment of 1100  Square Feet is located ...</td>\n",
       "      <td>https://www.bproperty.com/en/property/details-...</td>\n",
       "      <td>...</td>\n",
       "      <td>Shyamoli Housing, Shekhertek</td>\n",
       "      <td>0</td>\n",
       "      <td>2</td>\n",
       "      <td>2</td>\n",
       "      <td>0</td>\n",
       "      <td>5</td>\n",
       "      <td>0</td>\n",
       "      <td>4</td>\n",
       "      <td>Dhaka</td>\n",
       "      <td>Mohammadpur</td>\n",
       "    </tr>\n",
       "    <tr>\n",
       "      <th>bproperty-14091</th>\n",
       "      <td>1300.0</td>\n",
       "      <td>Apartment</td>\n",
       "      <td>Residential</td>\n",
       "      <td>https://images-cdn.bproperty.com/thumbnails/13...</td>\n",
       "      <td>3.0</td>\n",
       "      <td>3.0</td>\n",
       "      <td>40000.0</td>\n",
       "      <td>Grab This Lovely Flat For Rent In Bashundhara ...</td>\n",
       "      <td>This lovely apartment is located in a great lo...</td>\n",
       "      <td>https://www.bproperty.com/en/property/details-...</td>\n",
       "      <td>...</td>\n",
       "      <td>Block D</td>\n",
       "      <td>0</td>\n",
       "      <td>2</td>\n",
       "      <td>2</td>\n",
       "      <td>0</td>\n",
       "      <td>4</td>\n",
       "      <td>0</td>\n",
       "      <td>5</td>\n",
       "      <td>Dhaka</td>\n",
       "      <td>Bashundhara R/A</td>\n",
       "    </tr>\n",
       "    <tr>\n",
       "      <th>bproperty-14092</th>\n",
       "      <td>1500.0</td>\n",
       "      <td>Apartment</td>\n",
       "      <td>Residential</td>\n",
       "      <td>https://images-cdn.bproperty.com/thumbnails/15...</td>\n",
       "      <td>3.0</td>\n",
       "      <td>3.0</td>\n",
       "      <td>35000.0</td>\n",
       "      <td>1500 Square Feet Apartment With Necessary Resi...</td>\n",
       "      <td>Make this beautiful 1,500 Sft apartment in Utt...</td>\n",
       "      <td>https://www.bproperty.com/en/property/details-...</td>\n",
       "      <td>...</td>\n",
       "      <td>Sector 4</td>\n",
       "      <td>0</td>\n",
       "      <td>1</td>\n",
       "      <td>3</td>\n",
       "      <td>2</td>\n",
       "      <td>2</td>\n",
       "      <td>0</td>\n",
       "      <td>4</td>\n",
       "      <td>Dhaka</td>\n",
       "      <td>Uttara</td>\n",
       "    </tr>\n",
       "    <tr>\n",
       "      <th>bproperty-14093</th>\n",
       "      <td>1350.0</td>\n",
       "      <td>Apartment</td>\n",
       "      <td>Residential</td>\n",
       "      <td>https://images-cdn.bproperty.com/thumbnails/15...</td>\n",
       "      <td>3.0</td>\n",
       "      <td>3.0</td>\n",
       "      <td>20000.0</td>\n",
       "      <td>Wow! This 1350 Sq Ft Apartment For Rent In Bas...</td>\n",
       "      <td>In a very busy city like Dhaka, everyone tranc...</td>\n",
       "      <td>https://www.bproperty.com/en/property/details-...</td>\n",
       "      <td>...</td>\n",
       "      <td>Block K</td>\n",
       "      <td>0</td>\n",
       "      <td>0</td>\n",
       "      <td>0</td>\n",
       "      <td>0</td>\n",
       "      <td>4</td>\n",
       "      <td>0</td>\n",
       "      <td>3</td>\n",
       "      <td>Dhaka</td>\n",
       "      <td>Bashundhara R/A</td>\n",
       "    </tr>\n",
       "    <tr>\n",
       "      <th>bproperty-14094</th>\n",
       "      <td>1825.0</td>\n",
       "      <td>Apartment</td>\n",
       "      <td>Residential</td>\n",
       "      <td>https://images-cdn.bproperty.com/thumbnails/15...</td>\n",
       "      <td>4.0</td>\n",
       "      <td>3.0</td>\n",
       "      <td>60000.0</td>\n",
       "      <td>This 1825 Sq. Ft Apartment Will Ensure Your Go...</td>\n",
       "      <td>In a very busy city like Dhaka, everyone tranc...</td>\n",
       "      <td>https://www.bproperty.com/en/property/details-...</td>\n",
       "      <td>...</td>\n",
       "      <td>Sector 9</td>\n",
       "      <td>0</td>\n",
       "      <td>2</td>\n",
       "      <td>1</td>\n",
       "      <td>0</td>\n",
       "      <td>3</td>\n",
       "      <td>0</td>\n",
       "      <td>4</td>\n",
       "      <td>Dhaka</td>\n",
       "      <td>Uttara</td>\n",
       "    </tr>\n",
       "  </tbody>\n",
       "</table>\n",
       "<p>5 rows × 23 columns</p>\n",
       "</div>"
      ],
      "text/plain": [
       "                   area building_type building_nature  \\\n",
       "id                                                      \n",
       "bproperty-14087  1100.0     Apartment     Residential   \n",
       "bproperty-14091  1300.0     Apartment     Residential   \n",
       "bproperty-14092  1500.0     Apartment     Residential   \n",
       "bproperty-14093  1350.0     Apartment     Residential   \n",
       "bproperty-14094  1825.0     Apartment     Residential   \n",
       "\n",
       "                                                         image_url  \\\n",
       "id                                                                   \n",
       "bproperty-14087  https://images-cdn.bproperty.com/thumbnails/80...   \n",
       "bproperty-14091  https://images-cdn.bproperty.com/thumbnails/13...   \n",
       "bproperty-14092  https://images-cdn.bproperty.com/thumbnails/15...   \n",
       "bproperty-14093  https://images-cdn.bproperty.com/thumbnails/15...   \n",
       "bproperty-14094  https://images-cdn.bproperty.com/thumbnails/15...   \n",
       "\n",
       "                 num_bath_rooms  num_bed_rooms    price  \\\n",
       "id                                                        \n",
       "bproperty-14087             3.0            3.0  22000.0   \n",
       "bproperty-14091             3.0            3.0  40000.0   \n",
       "bproperty-14092             3.0            3.0  35000.0   \n",
       "bproperty-14093             3.0            3.0  20000.0   \n",
       "bproperty-14094             4.0            3.0  60000.0   \n",
       "\n",
       "                                              property_description  \\\n",
       "id                                                                   \n",
       "bproperty-14087  1150 Square Feet Apartment For Rent In Mohamma...   \n",
       "bproperty-14091  Grab This Lovely Flat For Rent In Bashundhara ...   \n",
       "bproperty-14092  1500 Square Feet Apartment With Necessary Resi...   \n",
       "bproperty-14093  Wow! This 1350 Sq Ft Apartment For Rent In Bas...   \n",
       "bproperty-14094  This 1825 Sq. Ft Apartment Will Ensure Your Go...   \n",
       "\n",
       "                                                 property_overview  \\\n",
       "id                                                                   \n",
       "bproperty-14087  The apartment of 1100  Square Feet is located ...   \n",
       "bproperty-14091  This lovely apartment is located in a great lo...   \n",
       "bproperty-14092  Make this beautiful 1,500 Sft apartment in Utt...   \n",
       "bproperty-14093  In a very busy city like Dhaka, everyone tranc...   \n",
       "bproperty-14094  In a very busy city like Dhaka, everyone tranc...   \n",
       "\n",
       "                                                      property_url  ...  \\\n",
       "id                                                                  ...   \n",
       "bproperty-14087  https://www.bproperty.com/en/property/details-...  ...   \n",
       "bproperty-14091  https://www.bproperty.com/en/property/details-...  ...   \n",
       "bproperty-14092  https://www.bproperty.com/en/property/details-...  ...   \n",
       "bproperty-14093  https://www.bproperty.com/en/property/details-...  ...   \n",
       "bproperty-14094  https://www.bproperty.com/en/property/details-...  ...   \n",
       "\n",
       "                                      address relaxation_amenity_count  \\\n",
       "id                                                                       \n",
       "bproperty-14087  Shyamoli Housing, Shekhertek                        0   \n",
       "bproperty-14091                       Block D                        0   \n",
       "bproperty-14092                      Sector 4                        0   \n",
       "bproperty-14093                       Block K                        0   \n",
       "bproperty-14094                      Sector 9                        0   \n",
       "\n",
       "                security_amenity_count maintenance_or_cleaning_amenity_count  \\\n",
       "id                                                                             \n",
       "bproperty-14087                      2                                     2   \n",
       "bproperty-14091                      2                                     2   \n",
       "bproperty-14092                      1                                     3   \n",
       "bproperty-14093                      0                                     0   \n",
       "bproperty-14094                      2                                     1   \n",
       "\n",
       "                 social_amenity_count  expendable_amenity_count  \\\n",
       "id                                                                \n",
       "bproperty-14087                     0                         5   \n",
       "bproperty-14091                     0                         4   \n",
       "bproperty-14092                     2                         2   \n",
       "bproperty-14093                     0                         4   \n",
       "bproperty-14094                     0                         3   \n",
       "\n",
       "                 service_staff_amenity_count  unclassify_amenity_count  \\\n",
       "id                                                                       \n",
       "bproperty-14087                            0                         4   \n",
       "bproperty-14091                            0                         5   \n",
       "bproperty-14092                            0                         4   \n",
       "bproperty-14093                            0                         3   \n",
       "bproperty-14094                            0                         4   \n",
       "\n",
       "                 division             zone  \n",
       "id                                          \n",
       "bproperty-14087     Dhaka      Mohammadpur  \n",
       "bproperty-14091     Dhaka  Bashundhara R/A  \n",
       "bproperty-14092     Dhaka           Uttara  \n",
       "bproperty-14093     Dhaka  Bashundhara R/A  \n",
       "bproperty-14094     Dhaka           Uttara  \n",
       "\n",
       "[5 rows x 23 columns]"
      ]
     },
     "execution_count": 2,
     "metadata": {},
     "output_type": "execute_result"
    }
   ],
   "source": [
    "#reading df\n",
    "df = pd.read_csv('no_outlier_df.csv',index_col='id')\n",
    "df.head()"
   ]
  },
  {
   "attachments": {},
   "cell_type": "markdown",
   "metadata": {},
   "source": [
    "# Feautre Engineering"
   ]
  },
  {
   "cell_type": "code",
   "execution_count": 3,
   "metadata": {},
   "outputs": [
    {
     "data": {
      "text/plain": [
       "area                                        0\n",
       "building_type                               0\n",
       "building_nature                             0\n",
       "num_bath_rooms                              0\n",
       "num_bed_rooms                               0\n",
       "price                                       0\n",
       "purpose                                     0\n",
       "city                                        0\n",
       "locality                                    0\n",
       "address                                  4680\n",
       "relaxation_amenity_count                    0\n",
       "security_amenity_count                      0\n",
       "maintenance_or_cleaning_amenity_count       0\n",
       "social_amenity_count                        0\n",
       "expendable_amenity_count                    0\n",
       "service_staff_amenity_count                 0\n",
       "unclassify_amenity_count                    0\n",
       "division                                    1\n",
       "zone                                       80\n",
       "dtype: int64"
      ]
     },
     "execution_count": 3,
     "metadata": {},
     "output_type": "execute_result"
    }
   ],
   "source": [
    "#setting out amenities to simplify the dataset and taking on important columns\n",
    "amenity_col = list(df.filter(like='amenity').columns)\n",
    "not_required_cols = ['property_description', 'property_overview', 'property_url', 'image_url']\n",
    "df.drop(columns=not_required_cols,inplace=True,axis=1)\n",
    "df.isna().sum()"
   ]
  },
  {
   "attachments": {},
   "cell_type": "markdown",
   "metadata": {},
   "source": [
    "Now I am going to modify each feature using the insights given in task#3 EDA"
   ]
  },
  {
   "attachments": {},
   "cell_type": "markdown",
   "metadata": {},
   "source": [
    "### area"
   ]
  },
  {
   "cell_type": "code",
   "execution_count": 4,
   "metadata": {},
   "outputs": [
    {
     "data": {
      "text/plain": [
       "count    29813.000000\n",
       "mean      1657.573696\n",
       "std       1215.077508\n",
       "min         93.000000\n",
       "25%       1050.000000\n",
       "50%       1350.000000\n",
       "75%       2000.000000\n",
       "max      17000.000000\n",
       "Name: area, dtype: float64"
      ]
     },
     "execution_count": 4,
     "metadata": {},
     "output_type": "execute_result"
    }
   ],
   "source": [
    "df['area'].describe()\n",
    "#nothing to do here"
   ]
  },
  {
   "attachments": {},
   "cell_type": "markdown",
   "metadata": {},
   "source": [
    "### building_type"
   ]
  },
  {
   "attachments": {},
   "cell_type": "markdown",
   "metadata": {},
   "source": [
    "1. Nearly 80% of our properties are `Apartment`, for a total of nearly 27000 samples. We also some `Office`, `Building`, `Shop`, `Floor`, `Residential Plot`, whose number are under 10% of the total dataset; that is to say, their numbers are under 2500. \n",
    "2. There are other types of properties, in a very negligible number.\n",
    "\n",
    "❗ **Recommendation**:\n",
    "* We are expecting our future models to perform well on `Apartment`, and to have and acceptable result for `Office`, `Building`, `Shop`, `Floor`, `Residential Plot`. They are expected to perform poorly on other types of properties.\n",
    "* Types not part of (1) should be dropped in order to avoid noise in our future models.\n"
   ]
  },
  {
   "cell_type": "code",
   "execution_count": 5,
   "metadata": {},
   "outputs": [],
   "source": [
    "req_building_type = ['Apartment','Office', 'Building', 'Shop', 'Floor', 'Residential Plot']\n",
    "df = df[df['building_type'].isin(req_building_type)]"
   ]
  },
  {
   "attachments": {},
   "cell_type": "markdown",
   "metadata": {},
   "source": [
    "### building_nature"
   ]
  },
  {
   "cell_type": "code",
   "execution_count": 6,
   "metadata": {},
   "outputs": [
    {
     "data": {
      "text/plain": [
       "count           29637\n",
       "unique              2\n",
       "top       Residential\n",
       "freq            23985\n",
       "Name: building_nature, dtype: object"
      ]
     },
     "execution_count": 6,
     "metadata": {},
     "output_type": "execute_result"
    }
   ],
   "source": [
    "df['building_nature'].describe()\n",
    "#nothing to do here"
   ]
  },
  {
   "attachments": {},
   "cell_type": "markdown",
   "metadata": {},
   "source": [
    "### num_bath_rooms & num_bed_rooms"
   ]
  },
  {
   "cell_type": "code",
   "execution_count": 7,
   "metadata": {},
   "outputs": [
    {
     "data": {
      "text/html": [
       "<div>\n",
       "<style scoped>\n",
       "    .dataframe tbody tr th:only-of-type {\n",
       "        vertical-align: middle;\n",
       "    }\n",
       "\n",
       "    .dataframe tbody tr th {\n",
       "        vertical-align: top;\n",
       "    }\n",
       "\n",
       "    .dataframe thead th {\n",
       "        text-align: right;\n",
       "    }\n",
       "</style>\n",
       "<table border=\"1\" class=\"dataframe\">\n",
       "  <thead>\n",
       "    <tr style=\"text-align: right;\">\n",
       "      <th></th>\n",
       "      <th>num_bath_rooms</th>\n",
       "      <th>num_bed_rooms</th>\n",
       "    </tr>\n",
       "  </thead>\n",
       "  <tbody>\n",
       "    <tr>\n",
       "      <th>count</th>\n",
       "      <td>29637.000000</td>\n",
       "      <td>29637.000000</td>\n",
       "    </tr>\n",
       "    <tr>\n",
       "      <th>mean</th>\n",
       "      <td>1.660694</td>\n",
       "      <td>2.316800</td>\n",
       "    </tr>\n",
       "    <tr>\n",
       "      <th>std</th>\n",
       "      <td>1.551060</td>\n",
       "      <td>1.268307</td>\n",
       "    </tr>\n",
       "    <tr>\n",
       "      <th>min</th>\n",
       "      <td>0.000000</td>\n",
       "      <td>0.000000</td>\n",
       "    </tr>\n",
       "    <tr>\n",
       "      <th>25%</th>\n",
       "      <td>0.000000</td>\n",
       "      <td>2.000000</td>\n",
       "    </tr>\n",
       "    <tr>\n",
       "      <th>50%</th>\n",
       "      <td>2.000000</td>\n",
       "      <td>3.000000</td>\n",
       "    </tr>\n",
       "    <tr>\n",
       "      <th>75%</th>\n",
       "      <td>3.000000</td>\n",
       "      <td>3.000000</td>\n",
       "    </tr>\n",
       "    <tr>\n",
       "      <th>max</th>\n",
       "      <td>10.000000</td>\n",
       "      <td>10.000000</td>\n",
       "    </tr>\n",
       "  </tbody>\n",
       "</table>\n",
       "</div>"
      ],
      "text/plain": [
       "       num_bath_rooms  num_bed_rooms\n",
       "count    29637.000000   29637.000000\n",
       "mean         1.660694       2.316800\n",
       "std          1.551060       1.268307\n",
       "min          0.000000       0.000000\n",
       "25%          0.000000       2.000000\n",
       "50%          2.000000       3.000000\n",
       "75%          3.000000       3.000000\n",
       "max         10.000000      10.000000"
      ]
     },
     "execution_count": 7,
     "metadata": {},
     "output_type": "execute_result"
    }
   ],
   "source": [
    "df[['num_bath_rooms','num_bed_rooms']].describe()\n",
    "#nothing to do here"
   ]
  },
  {
   "attachments": {},
   "cell_type": "markdown",
   "metadata": {},
   "source": [
    "### price"
   ]
  },
  {
   "cell_type": "code",
   "execution_count": 8,
   "metadata": {},
   "outputs": [
    {
     "data": {
      "text/plain": [
       "count    2.963700e+04\n",
       "mean     3.572601e+06\n",
       "std      5.929573e+06\n",
       "min      4.200000e+03\n",
       "25%      2.500000e+04\n",
       "50%      1.300000e+05\n",
       "75%      6.000000e+06\n",
       "max      1.200000e+08\n",
       "Name: price, dtype: float64"
      ]
     },
     "execution_count": 8,
     "metadata": {},
     "output_type": "execute_result"
    }
   ],
   "source": [
    "df['price'].describe()\n",
    "#non-linear relation was observed with every feature\n",
    "#nothing to do here"
   ]
  },
  {
   "attachments": {},
   "cell_type": "markdown",
   "metadata": {},
   "source": [
    "### purpose"
   ]
  },
  {
   "cell_type": "code",
   "execution_count": 9,
   "metadata": {},
   "outputs": [
    {
     "data": {
      "text/plain": [
       "count     29637\n",
       "unique        2\n",
       "top        Rent\n",
       "freq      17727\n",
       "Name: purpose, dtype: object"
      ]
     },
     "execution_count": 9,
     "metadata": {},
     "output_type": "execute_result"
    }
   ],
   "source": [
    "#nothing to do here\n",
    "df['purpose'].describe()"
   ]
  },
  {
   "attachments": {},
   "cell_type": "markdown",
   "metadata": {},
   "source": [
    "### city"
   ]
  },
  {
   "attachments": {},
   "cell_type": "markdown",
   "metadata": {},
   "source": [
    "1. Most of our properties are in `Dhaka`, for a total of nearly 28,000 properties. We also have nearly 4000 properties in `Chattogram`.     \n",
    "1. A negligible amount of properties are in `Narayanganj City`, `Barishal`, `Gazipur`, each of them with a count below 500 properties ..\n",
    "1. As for the other cities, their properties count is too insignificant.\n",
    "\n",
    "❗ **Recommendation**:\n",
    "* We are expecting our future models not to be perform well on cities mentioned in (2). We should consider dropping samples with those cities when building models since their low number will make it so that the models will not predict well on them. \n",
    "* Cities not part of (1) and (2) should definitively be dropped in order to avoid noise in our future models."
   ]
  },
  {
   "cell_type": "code",
   "execution_count": 10,
   "metadata": {},
   "outputs": [
    {
     "data": {
      "text/plain": [
       "(29346, 19)"
      ]
     },
     "execution_count": 10,
     "metadata": {},
     "output_type": "execute_result"
    }
   ],
   "source": [
    "req_city = ['Dhaka','Chattogram','Narayanganj City', 'Barishal','Gazipur']\n",
    "df = df[df['city'].isin(req_city)]\n",
    "df.shape"
   ]
  },
  {
   "attachments": {},
   "cell_type": "markdown",
   "metadata": {},
   "source": [
    "### locality"
   ]
  },
  {
   "cell_type": "code",
   "execution_count": 11,
   "metadata": {},
   "outputs": [
    {
     "data": {
      "text/plain": [
       "count      29346\n",
       "unique       160\n",
       "top       Mirpur\n",
       "freq        4966\n",
       "Name: locality, dtype: object"
      ]
     },
     "execution_count": 11,
     "metadata": {},
     "output_type": "execute_result"
    }
   ],
   "source": [
    "#nothing to do here\n",
    "df['locality'].describe()"
   ]
  },
  {
   "attachments": {},
   "cell_type": "markdown",
   "metadata": {},
   "source": [
    "### address"
   ]
  },
  {
   "cell_type": "code",
   "execution_count": 12,
   "metadata": {},
   "outputs": [
    {
     "data": {
      "text/plain": [
       "array([12731,   413,   212,   193,   184,   173,   164,   153,   152,\n",
       "         150,   147,   141,   139,   139,   139,   127,   123,   120,\n",
       "         119,   114,   111,   109,   108,   106,   105,   103,   101,\n",
       "         100,    99,    99], dtype=int64)"
      ]
     },
     "execution_count": 12,
     "metadata": {},
     "output_type": "execute_result"
    }
   ],
   "source": [
    "df['address'].value_counts()[:30].values\n",
    "#there is error, bangladesh should not be included in a address"
   ]
  },
  {
   "cell_type": "code",
   "execution_count": 13,
   "metadata": {},
   "outputs": [],
   "source": [
    "df.replace('Bangladesh',np.nan, inplace=True)\n"
   ]
  },
  {
   "cell_type": "code",
   "execution_count": 14,
   "metadata": {},
   "outputs": [
    {
     "data": {
      "text/plain": [
       "778"
      ]
     },
     "execution_count": 14,
     "metadata": {},
     "output_type": "execute_result"
    }
   ],
   "source": [
    "len(df['address'].unique())"
   ]
  },
  {
   "cell_type": "code",
   "execution_count": 15,
   "metadata": {},
   "outputs": [
    {
     "data": {
      "text/plain": [
       "17350"
      ]
     },
     "execution_count": 15,
     "metadata": {},
     "output_type": "execute_result"
    }
   ],
   "source": [
    "df['address'].isna().sum()"
   ]
  },
  {
   "cell_type": "code",
   "execution_count": 16,
   "metadata": {},
   "outputs": [],
   "source": [
    "#this feature doesn't see like a meaningfull for price prediction better droping as it may cause high dimensionality \n",
    "df.drop(columns='address', inplace=True)"
   ]
  },
  {
   "attachments": {},
   "cell_type": "markdown",
   "metadata": {},
   "source": [
    "### divison"
   ]
  },
  {
   "cell_type": "code",
   "execution_count": 17,
   "metadata": {},
   "outputs": [
    {
     "data": {
      "text/plain": [
       "Dhaka         25780\n",
       "Chattogram     3344\n",
       "Barisal         222\n",
       "Name: division, dtype: int64"
      ]
     },
     "execution_count": 17,
     "metadata": {},
     "output_type": "execute_result"
    }
   ],
   "source": [
    "df['division'].value_counts()\n",
    "#nothing to do here"
   ]
  },
  {
   "attachments": {},
   "cell_type": "markdown",
   "metadata": {},
   "source": [
    "### zone"
   ]
  },
  {
   "cell_type": "code",
   "execution_count": 18,
   "metadata": {},
   "outputs": [
    {
     "data": {
      "text/plain": [
       "80"
      ]
     },
     "execution_count": 18,
     "metadata": {},
     "output_type": "execute_result"
    }
   ],
   "source": [
    "df['zone'].isnull().sum()"
   ]
  },
  {
   "cell_type": "code",
   "execution_count": 19,
   "metadata": {},
   "outputs": [
    {
     "data": {
      "text/plain": [
       "Dhaka    80\n",
       "Name: division, dtype: int64"
      ]
     },
     "execution_count": 19,
     "metadata": {},
     "output_type": "execute_result"
    }
   ],
   "source": [
    "df[df['zone'].isna()]['division'].value_counts()\n",
    "#all missing zones belong to dhaka"
   ]
  },
  {
   "cell_type": "code",
   "execution_count": 20,
   "metadata": {},
   "outputs": [],
   "source": [
    "#it won't be wrong to fill them with mode\n",
    "df['zone'].fillna(df['zone'].mode(), inplace=True)"
   ]
  },
  {
   "attachments": {},
   "cell_type": "markdown",
   "metadata": {},
   "source": [
    "### Data Splitting"
   ]
  },
  {
   "cell_type": "code",
   "execution_count": 21,
   "metadata": {},
   "outputs": [],
   "source": [
    "X = df.drop(columns='price', axis=1)\n",
    "y = df['price']"
   ]
  },
  {
   "cell_type": "code",
   "execution_count": 22,
   "metadata": {},
   "outputs": [],
   "source": [
    "X_train, X_test, y_train, y_test = train_test_split(X, y, test_size=0.2, random_state=42) "
   ]
  },
  {
   "attachments": {},
   "cell_type": "markdown",
   "metadata": {},
   "source": [
    "### Handling Categorical Columns"
   ]
  },
  {
   "attachments": {},
   "cell_type": "markdown",
   "metadata": {},
   "source": [
    "It is observed that locality and zone have high no. of unique features.\n",
    "\n",
    "Therefore, a distinct technique will be employed to handle features with fewer than 10 unique values as compared to those with more than 10.\n",
    "\n",
    "=> using OneHotEncoder/get_dummies for less than 10 \n",
    "\n",
    "=> using CatBoost encoding for greater than 10\n"
   ]
  },
  {
   "cell_type": "code",
   "execution_count": 23,
   "metadata": {},
   "outputs": [],
   "source": [
    "#dividing the columns based on no. of unique values\n",
    "\n",
    "cat_cols = list(X_train.select_dtypes(include=['object']).columns)\n",
    "num_cols = list(X_train.select_dtypes(include='number').columns)\n",
    "number_cols = [item for item in num_cols if item not in amenity_col]\n",
    "large_cat = ['zone', 'locality']\n",
    "small_cat = [item for item in cat_cols if item not in large_cat]"
   ]
  },
  {
   "attachments": {},
   "cell_type": "markdown",
   "metadata": {},
   "source": [
    "#### catboost transformer (large features)"
   ]
  },
  {
   "cell_type": "code",
   "execution_count": 24,
   "metadata": {},
   "outputs": [
    {
     "data": {
      "text/plain": [
       "CatBoostEncoder(cols=['zone', 'locality'])"
      ]
     },
     "execution_count": 24,
     "metadata": {},
     "output_type": "execute_result"
    }
   ],
   "source": [
    "#large_cat columns encoded\n",
    "cat_boost_encoder = ce.CatBoostEncoder()\n",
    "cat_boost_encoder.fit(X_train[large_cat],y_train)"
   ]
  },
  {
   "attachments": {},
   "cell_type": "markdown",
   "metadata": {},
   "source": [
    "### Feature Scaling"
   ]
  },
  {
   "attachments": {},
   "cell_type": "markdown",
   "metadata": {},
   "source": [
    "#### standardscaler transformer"
   ]
  },
  {
   "cell_type": "code",
   "execution_count": 25,
   "metadata": {},
   "outputs": [
    {
     "data": {
      "text/plain": [
       "StandardScaler()"
      ]
     },
     "execution_count": 25,
     "metadata": {},
     "output_type": "execute_result"
    }
   ],
   "source": [
    "s_scaler = StandardScaler()\n",
    "s_scaler.fit(X_train[number_cols])"
   ]
  },
  {
   "attachments": {},
   "cell_type": "markdown",
   "metadata": {},
   "source": [
    "### Custom Transformers"
   ]
  },
  {
   "cell_type": "code",
   "execution_count": 26,
   "metadata": {},
   "outputs": [],
   "source": [
    "from sklearn.base import BaseEstimator, TransformerMixin\n",
    "    \n",
    "class LargeFeatureEncoder(BaseEstimator, TransformerMixin):\n",
    "    def __init__(self):\n",
    "        self\n",
    "    def fit(self, X=None, y=None):\n",
    "        return self\n",
    "    def transform(self, df):\n",
    "        df[['encoded_zone', 'encoded_locality']] = cat_boost_encoder.transform(df)\n",
    "        df = df.drop(columns=['zone','locality'], axis=1)\n",
    "        return df\n",
    "\n",
    "class PassAmenityColumns(BaseEstimator, TransformerMixin):\n",
    "    def __init__(self):\n",
    "        self\n",
    "    def fit(self, X=None, y=None):\n",
    "        return self\n",
    "    def transform(self, df):\n",
    "        return df"
   ]
  },
  {
   "attachments": {},
   "cell_type": "markdown",
   "metadata": {},
   "source": [
    "### Pipelines"
   ]
  },
  {
   "cell_type": "code",
   "execution_count": 27,
   "metadata": {},
   "outputs": [],
   "source": [
    "from sklearn.pipeline import Pipeline\n",
    "\n",
    "large_encoding_pipeline = Pipeline([\n",
    "    ('large_cat_encoder', LargeFeatureEncoder()) \n",
    "])\n",
    "pass_amenity_pipeline = Pipeline([\n",
    "    ('amenities', PassAmenityColumns())\n",
    "])\n",
    "scaling_pipeline = Pipeline([\n",
    "    ('std_scaler', StandardScaler())\n",
    "])"
   ]
  },
  {
   "attachments": {},
   "cell_type": "markdown",
   "metadata": {},
   "source": [
    "### Columns Transformer"
   ]
  },
  {
   "cell_type": "code",
   "execution_count": 28,
   "metadata": {},
   "outputs": [],
   "source": [
    "from sklearn.compose import ColumnTransformer\n",
    "\n",
    "full_pipeline = ColumnTransformer([\n",
    "    ('small_encoding', OneHotEncoder(sparse=False), small_cat),\n",
    "    ('large_encoding', large_encoding_pipeline, large_cat),\n",
    "    ('amenities', pass_amenity_pipeline, amenity_col),\n",
    "    ('scaling', scaling_pipeline, number_cols)\n",
    "    \n",
    "])"
   ]
  },
  {
   "cell_type": "code",
   "execution_count": 29,
   "metadata": {},
   "outputs": [],
   "source": [
    "prepared_x_train = full_pipeline.fit_transform(X_train)"
   ]
  },
  {
   "cell_type": "code",
   "execution_count": 30,
   "metadata": {},
   "outputs": [
    {
     "data": {
      "text/plain": [
       "array([1.00000000e+00, 0.00000000e+00, 0.00000000e+00, 0.00000000e+00,\n",
       "       0.00000000e+00, 0.00000000e+00, 0.00000000e+00, 1.00000000e+00,\n",
       "       1.00000000e+00, 0.00000000e+00, 0.00000000e+00, 0.00000000e+00,\n",
       "       1.00000000e+00, 0.00000000e+00, 0.00000000e+00, 0.00000000e+00,\n",
       "       0.00000000e+00, 1.00000000e+00, 1.26022124e+06, 1.29105774e+06,\n",
       "       0.00000000e+00, 0.00000000e+00, 0.00000000e+00, 0.00000000e+00,\n",
       "       0.00000000e+00, 0.00000000e+00, 0.00000000e+00, 5.54116276e-01,\n",
       "       1.51062849e+00, 5.40242501e-01])"
      ]
     },
     "execution_count": 30,
     "metadata": {},
     "output_type": "execute_result"
    }
   ],
   "source": [
    "prepared_x_train[1]"
   ]
  },
  {
   "attachments": {},
   "cell_type": "markdown",
   "metadata": {},
   "source": [
    "columns encoded_zone and encoded_locality doesn't see to be standarized, must be fixed for better performance"
   ]
  },
  {
   "cell_type": "code",
   "execution_count": 31,
   "metadata": {},
   "outputs": [
    {
     "data": {
      "text/plain": [
       "(23476, 30)"
      ]
     },
     "execution_count": 31,
     "metadata": {},
     "output_type": "execute_result"
    }
   ],
   "source": [
    "prepared_x_train.shape"
   ]
  },
  {
   "attachments": {},
   "cell_type": "markdown",
   "metadata": {},
   "source": [
    "# Model Development\n"
   ]
  },
  {
   "attachments": {},
   "cell_type": "markdown",
   "metadata": {},
   "source": [
    "## Linear Regression"
   ]
  },
  {
   "cell_type": "code",
   "execution_count": 32,
   "metadata": {},
   "outputs": [
    {
     "data": {
      "text/plain": [
       "LinearRegression()"
      ]
     },
     "execution_count": 32,
     "metadata": {},
     "output_type": "execute_result"
    }
   ],
   "source": [
    "from sklearn.linear_model import LinearRegression\n",
    "lin_reg = LinearRegression()\n",
    "lin_reg.fit(prepared_x_train, y_train)"
   ]
  },
  {
   "cell_type": "code",
   "execution_count": 33,
   "metadata": {},
   "outputs": [
    {
     "data": {
      "text/plain": [
       "3756774.5760178086"
      ]
     },
     "execution_count": 33,
     "metadata": {},
     "output_type": "execute_result"
    }
   ],
   "source": [
    "from sklearn.metrics import mean_squared_error\n",
    "lin_predictions = lin_reg.predict(prepared_x_train)\n",
    "lr_mse = mean_squared_error(y_train,lin_predictions)\n",
    "lr_rmse = np.sqrt(lr_mse)\n",
    "lr_rmse"
   ]
  },
  {
   "attachments": {},
   "cell_type": "markdown",
   "metadata": {},
   "source": [
    "## DecisionTreeRegressor"
   ]
  },
  {
   "cell_type": "code",
   "execution_count": 34,
   "metadata": {},
   "outputs": [
    {
     "data": {
      "text/plain": [
       "DecisionTreeRegressor()"
      ]
     },
     "execution_count": 34,
     "metadata": {},
     "output_type": "execute_result"
    }
   ],
   "source": [
    "from sklearn.tree import DecisionTreeRegressor\n",
    "dt_reg = DecisionTreeRegressor()\n",
    "dt_reg.fit(prepared_x_train, y_train)"
   ]
  },
  {
   "cell_type": "code",
   "execution_count": 35,
   "metadata": {},
   "outputs": [
    {
     "data": {
      "text/plain": [
       "387451.70527334244"
      ]
     },
     "execution_count": 35,
     "metadata": {},
     "output_type": "execute_result"
    }
   ],
   "source": [
    "dt_predictions = dt_reg.predict(prepared_x_train)\n",
    "dt_mse = mean_squared_error(y_train,dt_predictions)\n",
    "dt_rmse = np.sqrt(dt_mse)\n",
    "dt_rmse"
   ]
  },
  {
   "attachments": {},
   "cell_type": "markdown",
   "metadata": {},
   "source": [
    "## RandomForestRegressor"
   ]
  },
  {
   "cell_type": "code",
   "execution_count": 36,
   "metadata": {},
   "outputs": [
    {
     "data": {
      "text/plain": [
       "RandomForestRegressor()"
      ]
     },
     "execution_count": 36,
     "metadata": {},
     "output_type": "execute_result"
    }
   ],
   "source": [
    "from sklearn.ensemble import RandomForestRegressor\n",
    "rf_reg = RandomForestRegressor()\n",
    "rf_reg.fit(prepared_x_train, y_train)"
   ]
  },
  {
   "cell_type": "code",
   "execution_count": 37,
   "metadata": {},
   "outputs": [
    {
     "data": {
      "text/plain": [
       "387451.70527334244"
      ]
     },
     "execution_count": 37,
     "metadata": {},
     "output_type": "execute_result"
    }
   ],
   "source": [
    "rf_predictions = rf_reg.predict(prepared_x_train)\n",
    "rf_mse = mean_squared_error(y_train,rf_predictions)\n",
    "rf_rmse = np.sqrt(dt_mse)\n",
    "rf_rmse"
   ]
  },
  {
   "attachments": {},
   "cell_type": "markdown",
   "metadata": {},
   "source": [
    "##### predicting x_test"
   ]
  },
  {
   "cell_type": "code",
   "execution_count": 38,
   "metadata": {},
   "outputs": [
    {
     "data": {
      "text/plain": [
       "1675700.2378798786"
      ]
     },
     "execution_count": 38,
     "metadata": {},
     "output_type": "execute_result"
    }
   ],
   "source": [
    "prepared_x_test = full_pipeline.transform(X_test)\n",
    "test_prediction = rf_reg.predict(prepared_x_test)\n",
    "test_mse = mean_squared_error(y_test, test_prediction)\n",
    "test_rmse = np.sqrt(test_mse)\n",
    "test_rmse"
   ]
  },
  {
   "cell_type": "code",
   "execution_count": 40,
   "metadata": {},
   "outputs": [
    {
     "data": {
      "image/png": "[encoded data removed]",
      "text/plain": [
       "<Figure size 800x600 with 2 Axes>"
      ]
     },
     "metadata": {},
     "output_type": "display_data"
    }
   ],
   "source": [
    "fig, axs = plt.subplots(2, 1, figsize=(8, 6))\n",
    "\n",
    "# Plotting the predicted prices\n",
    "axs[0].plot(test_prediction, label='Predicted Prices')\n",
    "axs[0].set_ylabel('Price')\n",
    "axs[0].legend()\n",
    "\n",
    "# Plotting the original prices\n",
    "axs[1].plot(y_test, label='Original Prices')\n",
    "axs[1].set_xlabel('Index')\n",
    "axs[1].set_ylabel('Price')\n",
    "axs[1].legend()\n",
    "\n",
    "plt.tight_layout()\n",
    "plt.xticks([0,1000,2000,3000,4000,5000,6000])\n",
    "plt.show()"
   ]
  },
  {
   "attachments": {},
   "cell_type": "markdown",
   "metadata": {},
   "source": [
    "### HyperParameter Tuning"
   ]
  },
  {
   "cell_type": "code",
   "execution_count": null,
   "metadata": {},
   "outputs": [],
   "source": [
    "#to be done"
   ]
  }
 ],
 "metadata": {
  "kernelspec": {
   "display_name": "base",
   "language": "python",
   "name": "python3"
  },
  "language_info": {
   "codemirror_mode": {
    "name": "ipython",
    "version": 3
   },
   "file_extension": ".py",
   "mimetype": "text/x-python",
   "name": "python",
   "nbconvert_exporter": "python",
   "pygments_lexer": "ipython3",
   "version": "3.9.13"
  },
  "orig_nbformat": 4
 },
 "nbformat": 4,
 "nbformat_minor": 2
}
