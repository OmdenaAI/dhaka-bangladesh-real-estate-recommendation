{
 "cells": [
  {
   "cell_type": "code",
   "execution_count": 75,
   "metadata": {},
   "outputs": [],
   "source": [
    "import pandas as pd\n",
    "import numpy as np\n",
    "import matplotlib.pyplot as plt\n",
    "import seaborn as sns\n",
    "from sklearn.preprocessing import OneHotEncoder\n",
    "#import catboost\n",
    "import category_encoders as ce\n",
    "from sklearn.model_selection import train_test_split\n",
    "from sklearn.preprocessing import StandardScaler"
   ]
  },
  {
   "cell_type": "code",
   "execution_count": 76,
   "metadata": {},
   "outputs": [
    {
     "data": {
      "text/html": [
       "<div>\n",
       "<style scoped>\n",
       "    .dataframe tbody tr th:only-of-type {\n",
       "        vertical-align: middle;\n",
       "    }\n",
       "\n",
       "    .dataframe tbody tr th {\n",
       "        vertical-align: top;\n",
       "    }\n",
       "\n",
       "    .dataframe thead th {\n",
       "        text-align: right;\n",
       "    }\n",
       "</style>\n",
       "<table border=\"1\" class=\"dataframe\">\n",
       "  <thead>\n",
       "    <tr style=\"text-align: right;\">\n",
       "      <th></th>\n",
       "      <th>area</th>\n",
       "      <th>building_type</th>\n",
       "      <th>building_nature</th>\n",
       "      <th>image_url</th>\n",
       "      <th>num_bath_rooms</th>\n",
       "      <th>num_bed_rooms</th>\n",
       "      <th>price</th>\n",
       "      <th>property_description</th>\n",
       "      <th>property_overview</th>\n",
       "      <th>property_url</th>\n",
       "      <th>...</th>\n",
       "      <th>address</th>\n",
       "      <th>relaxation_amenity_count</th>\n",
       "      <th>security_amenity_count</th>\n",
       "      <th>maintenance_or_cleaning_amenity_count</th>\n",
       "      <th>social_amenity_count</th>\n",
       "      <th>expendable_amenity_count</th>\n",
       "      <th>service_staff_amenity_count</th>\n",
       "      <th>unclassify_amenity_count</th>\n",
       "      <th>division</th>\n",
       "      <th>zone</th>\n",
       "    </tr>\n",
       "    <tr>\n",
       "      <th>id</th>\n",
       "      <th></th>\n",
       "      <th></th>\n",
       "      <th></th>\n",
       "      <th></th>\n",
       "      <th></th>\n",
       "      <th></th>\n",
       "      <th></th>\n",
       "      <th></th>\n",
       "      <th></th>\n",
       "      <th></th>\n",
       "      <th></th>\n",
       "      <th></th>\n",
       "      <th></th>\n",
       "      <th></th>\n",
       "      <th></th>\n",
       "      <th></th>\n",
       "      <th></th>\n",
       "      <th></th>\n",
       "      <th></th>\n",
       "      <th></th>\n",
       "      <th></th>\n",
       "    </tr>\n",
       "  </thead>\n",
       "  <tbody>\n",
       "    <tr>\n",
       "      <th>bproperty-14087</th>\n",
       "      <td>1100.0</td>\n",
       "      <td>Apartment</td>\n",
       "      <td>Residential</td>\n",
       "      <td>https://images-cdn.bproperty.com/thumbnails/80...</td>\n",
       "      <td>3.0</td>\n",
       "      <td>3.0</td>\n",
       "      <td>22000.0</td>\n",
       "      <td>1150 Square Feet Apartment For Rent In Mohamma...</td>\n",
       "      <td>The apartment of 1100  Square Feet is located ...</td>\n",
       "      <td>https://www.bproperty.com/en/property/details-...</td>\n",
       "      <td>...</td>\n",
       "      <td>Shyamoli Housing, Shekhertek</td>\n",
       "      <td>0</td>\n",
       "      <td>2</td>\n",
       "      <td>2</td>\n",
       "      <td>0</td>\n",
       "      <td>5</td>\n",
       "      <td>0</td>\n",
       "      <td>4</td>\n",
       "      <td>Dhaka</td>\n",
       "      <td>Mohammadpur</td>\n",
       "    </tr>\n",
       "    <tr>\n",
       "      <th>bproperty-14091</th>\n",
       "      <td>1300.0</td>\n",
       "      <td>Apartment</td>\n",
       "      <td>Residential</td>\n",
       "      <td>https://images-cdn.bproperty.com/thumbnails/13...</td>\n",
       "      <td>3.0</td>\n",
       "      <td>3.0</td>\n",
       "      <td>40000.0</td>\n",
       "      <td>Grab This Lovely Flat For Rent In Bashundhara ...</td>\n",
       "      <td>This lovely apartment is located in a great lo...</td>\n",
       "      <td>https://www.bproperty.com/en/property/details-...</td>\n",
       "      <td>...</td>\n",
       "      <td>Block D</td>\n",
       "      <td>0</td>\n",
       "      <td>2</td>\n",
       "      <td>2</td>\n",
       "      <td>0</td>\n",
       "      <td>4</td>\n",
       "      <td>0</td>\n",
       "      <td>5</td>\n",
       "      <td>Dhaka</td>\n",
       "      <td>Bashundhara R/A</td>\n",
       "    </tr>\n",
       "    <tr>\n",
       "      <th>bproperty-14092</th>\n",
       "      <td>1500.0</td>\n",
       "      <td>Apartment</td>\n",
       "      <td>Residential</td>\n",
       "      <td>https://images-cdn.bproperty.com/thumbnails/15...</td>\n",
       "      <td>3.0</td>\n",
       "      <td>3.0</td>\n",
       "      <td>35000.0</td>\n",
       "      <td>1500 Square Feet Apartment With Necessary Resi...</td>\n",
       "      <td>Make this beautiful 1,500 Sft apartment in Utt...</td>\n",
       "      <td>https://www.bproperty.com/en/property/details-...</td>\n",
       "      <td>...</td>\n",
       "      <td>Sector 4</td>\n",
       "      <td>0</td>\n",
       "      <td>1</td>\n",
       "      <td>3</td>\n",
       "      <td>2</td>\n",
       "      <td>2</td>\n",
       "      <td>0</td>\n",
       "      <td>4</td>\n",
       "      <td>Dhaka</td>\n",
       "      <td>Uttara</td>\n",
       "    </tr>\n",
       "    <tr>\n",
       "      <th>bproperty-14093</th>\n",
       "      <td>1350.0</td>\n",
       "      <td>Apartment</td>\n",
       "      <td>Residential</td>\n",
       "      <td>https://images-cdn.bproperty.com/thumbnails/15...</td>\n",
       "      <td>3.0</td>\n",
       "      <td>3.0</td>\n",
       "      <td>20000.0</td>\n",
       "      <td>Wow! This 1350 Sq Ft Apartment For Rent In Bas...</td>\n",
       "      <td>In a very busy city like Dhaka, everyone tranc...</td>\n",
       "      <td>https://www.bproperty.com/en/property/details-...</td>\n",
       "      <td>...</td>\n",
       "      <td>Block K</td>\n",
       "      <td>0</td>\n",
       "      <td>0</td>\n",
       "      <td>0</td>\n",
       "      <td>0</td>\n",
       "      <td>4</td>\n",
       "      <td>0</td>\n",
       "      <td>3</td>\n",
       "      <td>Dhaka</td>\n",
       "      <td>Bashundhara R/A</td>\n",
       "    </tr>\n",
       "    <tr>\n",
       "      <th>bproperty-14094</th>\n",
       "      <td>1825.0</td>\n",
       "      <td>Apartment</td>\n",
       "      <td>Residential</td>\n",
       "      <td>https://images-cdn.bproperty.com/thumbnails/15...</td>\n",
       "      <td>4.0</td>\n",
       "      <td>3.0</td>\n",
       "      <td>60000.0</td>\n",
       "      <td>This 1825 Sq. Ft Apartment Will Ensure Your Go...</td>\n",
       "      <td>In a very busy city like Dhaka, everyone tranc...</td>\n",
       "      <td>https://www.bproperty.com/en/property/details-...</td>\n",
       "      <td>...</td>\n",
       "      <td>Sector 9</td>\n",
       "      <td>0</td>\n",
       "      <td>2</td>\n",
       "      <td>1</td>\n",
       "      <td>0</td>\n",
       "      <td>3</td>\n",
       "      <td>0</td>\n",
       "      <td>4</td>\n",
       "      <td>Dhaka</td>\n",
       "      <td>Uttara</td>\n",
       "    </tr>\n",
       "  </tbody>\n",
       "</table>\n",
       "<p>5 rows × 23 columns</p>\n",
       "</div>"
      ],
      "text/plain": [
       "                   area building_type building_nature  \\\n",
       "id                                                      \n",
       "bproperty-14087  1100.0     Apartment     Residential   \n",
       "bproperty-14091  1300.0     Apartment     Residential   \n",
       "bproperty-14092  1500.0     Apartment     Residential   \n",
       "bproperty-14093  1350.0     Apartment     Residential   \n",
       "bproperty-14094  1825.0     Apartment     Residential   \n",
       "\n",
       "                                                         image_url  \\\n",
       "id                                                                   \n",
       "bproperty-14087  https://images-cdn.bproperty.com/thumbnails/80...   \n",
       "bproperty-14091  https://images-cdn.bproperty.com/thumbnails/13...   \n",
       "bproperty-14092  https://images-cdn.bproperty.com/thumbnails/15...   \n",
       "bproperty-14093  https://images-cdn.bproperty.com/thumbnails/15...   \n",
       "bproperty-14094  https://images-cdn.bproperty.com/thumbnails/15...   \n",
       "\n",
       "                 num_bath_rooms  num_bed_rooms    price  \\\n",
       "id                                                        \n",
       "bproperty-14087             3.0            3.0  22000.0   \n",
       "bproperty-14091             3.0            3.0  40000.0   \n",
       "bproperty-14092             3.0            3.0  35000.0   \n",
       "bproperty-14093             3.0            3.0  20000.0   \n",
       "bproperty-14094             4.0            3.0  60000.0   \n",
       "\n",
       "                                              property_description  \\\n",
       "id                                                                   \n",
       "bproperty-14087  1150 Square Feet Apartment For Rent In Mohamma...   \n",
       "bproperty-14091  Grab This Lovely Flat For Rent In Bashundhara ...   \n",
       "bproperty-14092  1500 Square Feet Apartment With Necessary Resi...   \n",
       "bproperty-14093  Wow! This 1350 Sq Ft Apartment For Rent In Bas...   \n",
       "bproperty-14094  This 1825 Sq. Ft Apartment Will Ensure Your Go...   \n",
       "\n",
       "                                                 property_overview  \\\n",
       "id                                                                   \n",
       "bproperty-14087  The apartment of 1100  Square Feet is located ...   \n",
       "bproperty-14091  This lovely apartment is located in a great lo...   \n",
       "bproperty-14092  Make this beautiful 1,500 Sft apartment in Utt...   \n",
       "bproperty-14093  In a very busy city like Dhaka, everyone tranc...   \n",
       "bproperty-14094  In a very busy city like Dhaka, everyone tranc...   \n",
       "\n",
       "                                                      property_url  ...  \\\n",
       "id                                                                  ...   \n",
       "bproperty-14087  https://www.bproperty.com/en/property/details-...  ...   \n",
       "bproperty-14091  https://www.bproperty.com/en/property/details-...  ...   \n",
       "bproperty-14092  https://www.bproperty.com/en/property/details-...  ...   \n",
       "bproperty-14093  https://www.bproperty.com/en/property/details-...  ...   \n",
       "bproperty-14094  https://www.bproperty.com/en/property/details-...  ...   \n",
       "\n",
       "                                      address relaxation_amenity_count  \\\n",
       "id                                                                       \n",
       "bproperty-14087  Shyamoli Housing, Shekhertek                        0   \n",
       "bproperty-14091                       Block D                        0   \n",
       "bproperty-14092                      Sector 4                        0   \n",
       "bproperty-14093                       Block K                        0   \n",
       "bproperty-14094                      Sector 9                        0   \n",
       "\n",
       "                security_amenity_count maintenance_or_cleaning_amenity_count  \\\n",
       "id                                                                             \n",
       "bproperty-14087                      2                                     2   \n",
       "bproperty-14091                      2                                     2   \n",
       "bproperty-14092                      1                                     3   \n",
       "bproperty-14093                      0                                     0   \n",
       "bproperty-14094                      2                                     1   \n",
       "\n",
       "                 social_amenity_count  expendable_amenity_count  \\\n",
       "id                                                                \n",
       "bproperty-14087                     0                         5   \n",
       "bproperty-14091                     0                         4   \n",
       "bproperty-14092                     2                         2   \n",
       "bproperty-14093                     0                         4   \n",
       "bproperty-14094                     0                         3   \n",
       "\n",
       "                 service_staff_amenity_count  unclassify_amenity_count  \\\n",
       "id                                                                       \n",
       "bproperty-14087                            0                         4   \n",
       "bproperty-14091                            0                         5   \n",
       "bproperty-14092                            0                         4   \n",
       "bproperty-14093                            0                         3   \n",
       "bproperty-14094                            0                         4   \n",
       "\n",
       "                 division             zone  \n",
       "id                                          \n",
       "bproperty-14087     Dhaka      Mohammadpur  \n",
       "bproperty-14091     Dhaka  Bashundhara R/A  \n",
       "bproperty-14092     Dhaka           Uttara  \n",
       "bproperty-14093     Dhaka  Bashundhara R/A  \n",
       "bproperty-14094     Dhaka           Uttara  \n",
       "\n",
       "[5 rows x 23 columns]"
      ]
     },
     "execution_count": 76,
     "metadata": {},
     "output_type": "execute_result"
    }
   ],
   "source": [
    "#reading df\n",
    "df = pd.read_csv('no_outlier_df.csv',index_col='id')\n",
    "df.head()"
   ]
  },
  {
   "attachments": {},
   "cell_type": "markdown",
   "metadata": {},
   "source": [
    "# Feautre Engineering"
   ]
  },
  {
   "cell_type": "code",
   "execution_count": 77,
   "metadata": {},
   "outputs": [
    {
     "data": {
      "text/plain": [
       "area                                        0\n",
       "building_type                               0\n",
       "building_nature                             0\n",
       "num_bath_rooms                              0\n",
       "num_bed_rooms                               0\n",
       "price                                       0\n",
       "purpose                                     0\n",
       "city                                        0\n",
       "locality                                    0\n",
       "address                                  4680\n",
       "relaxation_amenity_count                    0\n",
       "security_amenity_count                      0\n",
       "maintenance_or_cleaning_amenity_count       0\n",
       "social_amenity_count                        0\n",
       "expendable_amenity_count                    0\n",
       "service_staff_amenity_count                 0\n",
       "unclassify_amenity_count                    0\n",
       "division                                    1\n",
       "zone                                       80\n",
       "dtype: int64"
      ]
     },
     "execution_count": 77,
     "metadata": {},
     "output_type": "execute_result"
    }
   ],
   "source": [
    "#setting out amenities to simplify the dataset and taking on important columns\n",
    "amenity_col = list(df.filter(like='amenity').columns)\n",
    "not_required_cols = ['property_description', 'property_overview', 'property_url', 'image_url']\n",
    "df.drop(columns=not_required_cols,inplace=True,axis=1)\n",
    "df.isna().sum()"
   ]
  },
  {
   "attachments": {},
   "cell_type": "markdown",
   "metadata": {},
   "source": [
    "Now I am going to modify each feature using the insights given in task#3 EDA"
   ]
  },
  {
   "attachments": {},
   "cell_type": "markdown",
   "metadata": {},
   "source": [
    "### area"
   ]
  },
  {
   "cell_type": "code",
   "execution_count": 78,
   "metadata": {},
   "outputs": [
    {
     "data": {
      "text/plain": [
       "count    29813.000000\n",
       "mean      1657.573696\n",
       "std       1215.077508\n",
       "min         93.000000\n",
       "25%       1050.000000\n",
       "50%       1350.000000\n",
       "75%       2000.000000\n",
       "max      17000.000000\n",
       "Name: area, dtype: float64"
      ]
     },
     "execution_count": 78,
     "metadata": {},
     "output_type": "execute_result"
    }
   ],
   "source": [
    "df['area'].describe()\n",
    "#nothing to do here"
   ]
  },
  {
   "attachments": {},
   "cell_type": "markdown",
   "metadata": {},
   "source": [
    "### building_type"
   ]
  },
  {
   "attachments": {},
   "cell_type": "markdown",
   "metadata": {},
   "source": [
    "1. Nearly 80% of our properties are `Apartment`, for a total of nearly 27000 samples. We also some `Office`, `Building`, `Shop`, `Floor`, `Residential Plot`, whose number are under 10% of the total dataset; that is to say, their numbers are under 2500. \n",
    "2. There are other types of properties, in a very negligible number.\n",
    "\n",
    "❗ **Recommendation**:\n",
    "* We are expecting our future models to perform well on `Apartment`, and to have and acceptable result for `Office`, `Building`, `Shop`, `Floor`, `Residential Plot`. They are expected to perform poorly on other types of properties.\n",
    "* Types not part of (1) should be dropped in order to avoid noise in our future models.\n"
   ]
  },
  {
   "cell_type": "code",
   "execution_count": 79,
   "metadata": {},
   "outputs": [],
   "source": [
    "req_building_type = ['Apartment','Office', 'Building', 'Shop', 'Floor', 'Residential Plot']\n",
    "df = df[df['building_type'].isin(req_building_type)]"
   ]
  },
  {
   "attachments": {},
   "cell_type": "markdown",
   "metadata": {},
   "source": [
    "### building_nature"
   ]
  },
  {
   "cell_type": "code",
   "execution_count": 80,
   "metadata": {},
   "outputs": [
    {
     "data": {
      "text/plain": [
       "count           29637\n",
       "unique              2\n",
       "top       Residential\n",
       "freq            23985\n",
       "Name: building_nature, dtype: object"
      ]
     },
     "execution_count": 80,
     "metadata": {},
     "output_type": "execute_result"
    }
   ],
   "source": [
    "df['building_nature'].describe()\n",
    "#nothing to do here"
   ]
  },
  {
   "attachments": {},
   "cell_type": "markdown",
   "metadata": {},
   "source": [
    "### num_bath_rooms & num_bed_rooms"
   ]
  },
  {
   "cell_type": "code",
   "execution_count": 81,
   "metadata": {},
   "outputs": [
    {
     "data": {
      "text/html": [
       "<div>\n",
       "<style scoped>\n",
       "    .dataframe tbody tr th:only-of-type {\n",
       "        vertical-align: middle;\n",
       "    }\n",
       "\n",
       "    .dataframe tbody tr th {\n",
       "        vertical-align: top;\n",
       "    }\n",
       "\n",
       "    .dataframe thead th {\n",
       "        text-align: right;\n",
       "    }\n",
       "</style>\n",
       "<table border=\"1\" class=\"dataframe\">\n",
       "  <thead>\n",
       "    <tr style=\"text-align: right;\">\n",
       "      <th></th>\n",
       "      <th>num_bath_rooms</th>\n",
       "      <th>num_bed_rooms</th>\n",
       "    </tr>\n",
       "  </thead>\n",
       "  <tbody>\n",
       "    <tr>\n",
       "      <th>count</th>\n",
       "      <td>29637.000000</td>\n",
       "      <td>29637.000000</td>\n",
       "    </tr>\n",
       "    <tr>\n",
       "      <th>mean</th>\n",
       "      <td>1.660694</td>\n",
       "      <td>2.316800</td>\n",
       "    </tr>\n",
       "    <tr>\n",
       "      <th>std</th>\n",
       "      <td>1.551060</td>\n",
       "      <td>1.268307</td>\n",
       "    </tr>\n",
       "    <tr>\n",
       "      <th>min</th>\n",
       "      <td>0.000000</td>\n",
       "      <td>0.000000</td>\n",
       "    </tr>\n",
       "    <tr>\n",
       "      <th>25%</th>\n",
       "      <td>0.000000</td>\n",
       "      <td>2.000000</td>\n",
       "    </tr>\n",
       "    <tr>\n",
       "      <th>50%</th>\n",
       "      <td>2.000000</td>\n",
       "      <td>3.000000</td>\n",
       "    </tr>\n",
       "    <tr>\n",
       "      <th>75%</th>\n",
       "      <td>3.000000</td>\n",
       "      <td>3.000000</td>\n",
       "    </tr>\n",
       "    <tr>\n",
       "      <th>max</th>\n",
       "      <td>10.000000</td>\n",
       "      <td>10.000000</td>\n",
       "    </tr>\n",
       "  </tbody>\n",
       "</table>\n",
       "</div>"
      ],
      "text/plain": [
       "       num_bath_rooms  num_bed_rooms\n",
       "count    29637.000000   29637.000000\n",
       "mean         1.660694       2.316800\n",
       "std          1.551060       1.268307\n",
       "min          0.000000       0.000000\n",
       "25%          0.000000       2.000000\n",
       "50%          2.000000       3.000000\n",
       "75%          3.000000       3.000000\n",
       "max         10.000000      10.000000"
      ]
     },
     "execution_count": 81,
     "metadata": {},
     "output_type": "execute_result"
    }
   ],
   "source": [
    "df[['num_bath_rooms','num_bed_rooms']].describe()\n",
    "#nothing to do here"
   ]
  },
  {
   "attachments": {},
   "cell_type": "markdown",
   "metadata": {},
   "source": [
    "### price"
   ]
  },
  {
   "cell_type": "code",
   "execution_count": 82,
   "metadata": {},
   "outputs": [
    {
     "data": {
      "text/plain": [
       "count    2.963700e+04\n",
       "mean     3.572601e+06\n",
       "std      5.929573e+06\n",
       "min      4.200000e+03\n",
       "25%      2.500000e+04\n",
       "50%      1.300000e+05\n",
       "75%      6.000000e+06\n",
       "max      1.200000e+08\n",
       "Name: price, dtype: float64"
      ]
     },
     "execution_count": 82,
     "metadata": {},
     "output_type": "execute_result"
    }
   ],
   "source": [
    "df['price'].describe()\n",
    "#non-linear relation was observed with every feature\n",
    "#nothing to do here"
   ]
  },
  {
   "attachments": {},
   "cell_type": "markdown",
   "metadata": {},
   "source": [
    "### purpose"
   ]
  },
  {
   "cell_type": "code",
   "execution_count": 83,
   "metadata": {},
   "outputs": [
    {
     "data": {
      "text/plain": [
       "count     29637\n",
       "unique        2\n",
       "top        Rent\n",
       "freq      17727\n",
       "Name: purpose, dtype: object"
      ]
     },
     "execution_count": 83,
     "metadata": {},
     "output_type": "execute_result"
    }
   ],
   "source": [
    "#nothing to do here\n",
    "df['purpose'].describe()"
   ]
  },
  {
   "attachments": {},
   "cell_type": "markdown",
   "metadata": {},
   "source": [
    "### city"
   ]
  },
  {
   "attachments": {},
   "cell_type": "markdown",
   "metadata": {},
   "source": [
    "1. Most of our properties are in `Dhaka`, for a total of nearly 28,000 properties. We also have nearly 4000 properties in `Chattogram`.     \n",
    "1. A negligible amount of properties are in `Narayanganj City`, `Barishal`, `Gazipur`, each of them with a count below 500 properties ..\n",
    "1. As for the other cities, their properties count is too insignificant.\n",
    "\n",
    "❗ **Recommendation**:\n",
    "* We are expecting our future models not to be perform well on cities mentioned in (2). We should consider dropping samples with those cities when building models since their low number will make it so that the models will not predict well on them. \n",
    "* Cities not part of (1) and (2) should definitively be dropped in order to avoid noise in our future models."
   ]
  },
  {
   "cell_type": "code",
   "execution_count": 84,
   "metadata": {},
   "outputs": [
    {
     "data": {
      "text/plain": [
       "(29346, 19)"
      ]
     },
     "execution_count": 84,
     "metadata": {},
     "output_type": "execute_result"
    }
   ],
   "source": [
    "req_city = ['Dhaka','Chattogram','Narayanganj City', 'Barishal','Gazipur']\n",
    "df = df[df['city'].isin(req_city)]\n",
    "df.shape"
   ]
  },
  {
   "attachments": {},
   "cell_type": "markdown",
   "metadata": {},
   "source": [
    "### locality"
   ]
  },
  {
   "cell_type": "code",
   "execution_count": 85,
   "metadata": {},
   "outputs": [
    {
     "data": {
      "text/plain": [
       "Mirpur              4966\n",
       "Bashundhara R-A     1316\n",
       "Uttara              1248\n",
       "Bashundhara RA       992\n",
       "Mohammadpur          939\n",
       "                    ... \n",
       "Kaliakair              1\n",
       "Riaj Uddin Bazar       1\n",
       "Gulistan               1\n",
       "Chack Bazar            1\n",
       "Firojshah Colony       1\n",
       "Name: locality, Length: 160, dtype: int64"
      ]
     },
     "execution_count": 85,
     "metadata": {},
     "output_type": "execute_result"
    }
   ],
   "source": [
    "(df['locality'].value_counts())"
   ]
  },
  {
   "cell_type": "code",
   "execution_count": 86,
   "metadata": {},
   "outputs": [
    {
     "data": {
      "text/plain": [
       "count      29346\n",
       "unique       160\n",
       "top       Mirpur\n",
       "freq        4966\n",
       "Name: locality, dtype: object"
      ]
     },
     "execution_count": 86,
     "metadata": {},
     "output_type": "execute_result"
    }
   ],
   "source": [
    "#nothing to do here\n",
    "df['locality'].describe()"
   ]
  },
  {
   "attachments": {},
   "cell_type": "markdown",
   "metadata": {},
   "source": [
    "### address"
   ]
  },
  {
   "cell_type": "code",
   "execution_count": 87,
   "metadata": {},
   "outputs": [
    {
     "data": {
      "text/plain": [
       "array([12731,   413,   212,   193,   184,   173,   164,   153,   152,\n",
       "         150,   147,   141,   139,   139,   139,   127,   123,   120,\n",
       "         119,   114,   111,   109,   108,   106,   105,   103,   101,\n",
       "         100,    99,    99], dtype=int64)"
      ]
     },
     "execution_count": 87,
     "metadata": {},
     "output_type": "execute_result"
    }
   ],
   "source": [
    "df['address'].value_counts()[:30].values\n",
    "#there is error, bangladesh should not be included in a address"
   ]
  },
  {
   "cell_type": "code",
   "execution_count": 88,
   "metadata": {},
   "outputs": [],
   "source": [
    "df.replace('Bangladesh',np.nan, inplace=True)\n"
   ]
  },
  {
   "cell_type": "code",
   "execution_count": 89,
   "metadata": {},
   "outputs": [
    {
     "data": {
      "text/plain": [
       "778"
      ]
     },
     "execution_count": 89,
     "metadata": {},
     "output_type": "execute_result"
    }
   ],
   "source": [
    "len(df['address'].unique())"
   ]
  },
  {
   "cell_type": "code",
   "execution_count": 90,
   "metadata": {},
   "outputs": [
    {
     "data": {
      "text/plain": [
       "17350"
      ]
     },
     "execution_count": 90,
     "metadata": {},
     "output_type": "execute_result"
    }
   ],
   "source": [
    "df['address'].isna().sum()"
   ]
  },
  {
   "cell_type": "code",
   "execution_count": 91,
   "metadata": {},
   "outputs": [],
   "source": [
    "#this feature doesn't see like a meaningfull for price prediction better droping as it may cause high dimensionality \n",
    "df.drop(columns='address', inplace=True)"
   ]
  },
  {
   "attachments": {},
   "cell_type": "markdown",
   "metadata": {},
   "source": [
    "### divison"
   ]
  },
  {
   "cell_type": "code",
   "execution_count": 92,
   "metadata": {},
   "outputs": [
    {
     "data": {
      "text/plain": [
       "Dhaka         25780\n",
       "Chattogram     3344\n",
       "Barisal         222\n",
       "Name: division, dtype: int64"
      ]
     },
     "execution_count": 92,
     "metadata": {},
     "output_type": "execute_result"
    }
   ],
   "source": [
    "df['division'].value_counts()\n",
    "#nothing to do here"
   ]
  },
  {
   "attachments": {},
   "cell_type": "markdown",
   "metadata": {},
   "source": [
    "### zone"
   ]
  },
  {
   "cell_type": "code",
   "execution_count": 93,
   "metadata": {},
   "outputs": [
    {
     "data": {
      "text/plain": [
       "count      29266\n",
       "unique        40\n",
       "top       Mirpur\n",
       "freq        6034\n",
       "Name: zone, dtype: object"
      ]
     },
     "execution_count": 93,
     "metadata": {},
     "output_type": "execute_result"
    }
   ],
   "source": [
    "df['zone'].describe()"
   ]
  },
  {
   "cell_type": "code",
   "execution_count": 94,
   "metadata": {},
   "outputs": [
    {
     "data": {
      "text/plain": [
       "80"
      ]
     },
     "execution_count": 94,
     "metadata": {},
     "output_type": "execute_result"
    }
   ],
   "source": [
    "df['zone'].isnull().sum()"
   ]
  },
  {
   "cell_type": "code",
   "execution_count": 95,
   "metadata": {},
   "outputs": [
    {
     "data": {
      "text/plain": [
       "Dhaka    80\n",
       "Name: division, dtype: int64"
      ]
     },
     "execution_count": 95,
     "metadata": {},
     "output_type": "execute_result"
    }
   ],
   "source": [
    "df[df['zone'].isna()]['division'].value_counts()\n",
    "#all missing zones belong to dhaka"
   ]
  },
  {
   "cell_type": "code",
   "execution_count": 96,
   "metadata": {},
   "outputs": [],
   "source": [
    "#it won't be wrong to fill them with mode\n",
    "df['zone'].fillna(df['zone'].mode(), inplace=True)"
   ]
  },
  {
   "attachments": {},
   "cell_type": "markdown",
   "metadata": {},
   "source": [
    "#### checking for zeros values "
   ]
  },
  {
   "cell_type": "code",
   "execution_count": 97,
   "metadata": {},
   "outputs": [
    {
     "name": "stdout",
     "output_type": "stream",
     "text": [
      "area: 0\n",
      "num_bath_rooms: 12215\n",
      "num_bed_rooms: 5626\n"
     ]
    }
   ],
   "source": [
    "zero_area = (df['area'] == 0).sum()\n",
    "zero_baths = (df['num_bath_rooms'] == 0).sum()\n",
    "zero_beds = (df['num_bed_rooms'] == 0).sum()\n",
    "\n",
    "print(\"area:\", zero_area)\n",
    "print(\"num_bath_rooms:\", zero_baths)\n",
    "print(\"num_bed_rooms:\", zero_beds)"
   ]
  },
  {
   "attachments": {},
   "cell_type": "markdown",
   "metadata": {},
   "source": [
    "Residential_properties having 0 bathrooms is fishy, and so goes for commercial properties having bedrooms\n",
    "\n",
    "(insight gained from umesh's notebook, and sir vijay's suggestion)\n"
   ]
  },
  {
   "cell_type": "code",
   "execution_count": 98,
   "metadata": {},
   "outputs": [],
   "source": [
    "residential_df = df[df['building_nature']=='Residential']\n",
    "mean_num_bath_rooms = df.loc[df['num_bath_rooms'] != 0, 'num_bath_rooms'].mean()\n",
    "residential_df.loc[residential_df['num_bath_rooms'] == 0, 'num_bath_rooms'] = mean_num_bath_rooms\n",
    "commercial_df = df[df['building_nature']=='Commercial']"
   ]
  },
  {
   "attachments": {},
   "cell_type": "markdown",
   "metadata": {},
   "source": [
    "As we saw in the EDA: the price increases non-linearly (exponetially) with area and num_bath/bed_rooms\n",
    "\n",
    "==> Log transform price so that we can fit a linear model (Umesh's insight)"
   ]
  },
  {
   "cell_type": "code",
   "execution_count": 120,
   "metadata": {},
   "outputs": [
    {
     "name": "stdout",
     "output_type": "stream",
     "text": [
      "<class 'pandas.core.frame.DataFrame'>\n",
      "Index: 29346 entries, bproperty-14087 to sharif-19\n",
      "Data columns (total 19 columns):\n",
      " #   Column                                 Non-Null Count  Dtype  \n",
      "---  ------                                 --------------  -----  \n",
      " 0   area                                   29346 non-null  float64\n",
      " 1   building_type                          29346 non-null  object \n",
      " 2   building_nature                        29346 non-null  object \n",
      " 3   num_bath_rooms                         29346 non-null  float64\n",
      " 4   num_bed_rooms                          29346 non-null  float64\n",
      " 5   price                                  29346 non-null  float64\n",
      " 6   purpose                                29346 non-null  object \n",
      " 7   city                                   29346 non-null  object \n",
      " 8   locality                               29346 non-null  object \n",
      " 9   relaxation_amenity_count               29346 non-null  int64  \n",
      " 10  security_amenity_count                 29346 non-null  int64  \n",
      " 11  maintenance_or_cleaning_amenity_count  29346 non-null  int64  \n",
      " 12  social_amenity_count                   29346 non-null  int64  \n",
      " 13  expendable_amenity_count               29346 non-null  int64  \n",
      " 14  service_staff_amenity_count            29346 non-null  int64  \n",
      " 15  unclassify_amenity_count               29346 non-null  int64  \n",
      " 16  division                               29346 non-null  object \n",
      " 17  zone                                   29266 non-null  object \n",
      " 18  price_log                              29346 non-null  float64\n",
      "dtypes: float64(5), int64(7), object(7)\n",
      "memory usage: 4.5+ MB\n"
     ]
    }
   ],
   "source": [
    "df = pd.concat([residential_df,commercial_df],axis=0)\n",
    "df['price_log'] = np.log(df['price'])\n",
    "df.info()\n",
    "df.to_csv('prepare_df.csv')"
   ]
  },
  {
   "attachments": {},
   "cell_type": "markdown",
   "metadata": {},
   "source": [
    "### Data Splitting"
   ]
  },
  {
   "attachments": {},
   "cell_type": "markdown",
   "metadata": {},
   "source": [
    "##### dividing the data set based on residential and commercial properties\n"
   ]
  },
  {
   "attachments": {},
   "cell_type": "markdown",
   "metadata": {},
   "source": [
    "residential_df = df[df['building_nature']=='Residential']\n",
    "commercial_df = df[df['building_nature']=='Commercial']"
   ]
  },
  {
   "attachments": {},
   "cell_type": "markdown",
   "metadata": {},
   "source": [
    "residential_X = residential_df.drop(columns='price', axis=1)\n",
    "residential_y = residential_df['price']"
   ]
  },
  {
   "attachments": {},
   "cell_type": "markdown",
   "metadata": {},
   "source": [
    "commercial_X = commercial_df.drop(columns='price', axis=1)\n",
    "commerical_y = commercial_df['price']"
   ]
  },
  {
   "cell_type": "code",
   "execution_count": 101,
   "metadata": {},
   "outputs": [],
   "source": [
    "train_X = df.drop(columns=['price','price_log'], axis=1)\n",
    "train_y = df['price_log']"
   ]
  },
  {
   "cell_type": "code",
   "execution_count": 102,
   "metadata": {},
   "outputs": [],
   "source": [
    "#X_train, X_test, y_train, y_test = train_test_split(X, y, test_size=0.2, random_state=42) "
   ]
  },
  {
   "attachments": {},
   "cell_type": "markdown",
   "metadata": {},
   "source": [
    "### Handling Categorical Columns"
   ]
  },
  {
   "attachments": {},
   "cell_type": "markdown",
   "metadata": {},
   "source": [
    "It is observed that locality and zone have high no. of unique features.\n",
    "\n",
    "Therefore, a distinct technique will be employed to handle features with fewer than 10 unique values as compared to those with more than 10.\n",
    "\n",
    "=> using OneHotEncoder/get_dummies for less than 10 \n",
    "\n",
    "=> using CatBoost encoding for greater than 10\n"
   ]
  },
  {
   "cell_type": "code",
   "execution_count": 103,
   "metadata": {},
   "outputs": [
    {
     "data": {
      "text/plain": [
       "['area', 'num_bath_rooms', 'num_bed_rooms', 'price', 'price_log']"
      ]
     },
     "execution_count": 103,
     "metadata": {},
     "output_type": "execute_result"
    }
   ],
   "source": [
    "#dividing the columns based on no. of unique values\n",
    "\n",
    "cat_cols = list(df.select_dtypes(include=['object']).columns)\n",
    "num_cols = list(df.select_dtypes(include='number').columns)\n",
    "number_cols = [item for item in num_cols if item not in amenity_col]\n",
    "large_cat = ['zone', 'locality']\n",
    "small_cat = [item for item in cat_cols if item not in large_cat]\n",
    "number_cols"
   ]
  },
  {
   "attachments": {},
   "cell_type": "markdown",
   "metadata": {},
   "source": [
    "### Selecting only most important features"
   ]
  },
  {
   "cell_type": "code",
   "execution_count": 104,
   "metadata": {},
   "outputs": [
    {
     "data": {
      "text/plain": [
       "(['building_type', 'building_nature', 'purpose', 'division'],\n",
       " ['zone'],\n",
       " ['area', 'num_bath_rooms', 'num_bed_rooms'])"
      ]
     },
     "execution_count": 104,
     "metadata": {},
     "output_type": "execute_result"
    }
   ],
   "source": [
    "values_to_remove_cat = ['city','locality']\n",
    "cat_cols = [item for item in cat_cols if item not in values_to_remove_cat]\n",
    "large_cat = ['zone']\n",
    "small_cat = [item for item in cat_cols if item not in large_cat]\n",
    "values_to_remove_num = ['price','price_log']\n",
    "number_cols = [item for item in number_cols if item not in values_to_remove_num]\n",
    "\n",
    "small_cat, large_cat, number_cols"
   ]
  },
  {
   "attachments": {},
   "cell_type": "markdown",
   "metadata": {},
   "source": [
    "#### catboost transformer (large features)"
   ]
  },
  {
   "attachments": {},
   "cell_type": "markdown",
   "metadata": {},
   "source": [
    "#large_cat columns encoded residential\n",
    "cat_boost_encoder_residential = ce.CatBoostEncoder()\n",
    "cat_boost_encoder_residential.fit(residential_X[large_cat],residential_y)\n",
    "#large_cat columns encoded commercial\n",
    "cat_boost_encoder_commercial = ce.CatBoostEncoder()\n",
    "cat_boost_encoder_commercial.fit(commercial_X[large_cat],commerical_y)"
   ]
  },
  {
   "attachments": {},
   "cell_type": "markdown",
   "metadata": {},
   "source": [
    "### Feature Scaling"
   ]
  },
  {
   "attachments": {},
   "cell_type": "markdown",
   "metadata": {},
   "source": [
    "### Custom Transformers"
   ]
  },
  {
   "cell_type": "code",
   "execution_count": 105,
   "metadata": {},
   "outputs": [],
   "source": [
    "from sklearn.base import BaseEstimator, TransformerMixin\n",
    "\n",
    "class CatBoostEncoderTransformer(BaseEstimator, TransformerMixin):\n",
    "    def __init__(self, columns=None):\n",
    "        self.columns = columns\n",
    "        self.encoders = {}\n",
    "    \n",
    "    def fit(self, X, y=None):\n",
    "        for col in self.columns:\n",
    "            encoder = ce.CatBoostEncoder()\n",
    "            encoder.fit(X[col], y)\n",
    "            self.encoders[col] = encoder\n",
    "        \n",
    "        return self\n",
    "    \n",
    "    def transform(self, X):\n",
    "        transformed_X = X.copy()\n",
    "        \n",
    "        for col, encoder in self.encoders.items():\n",
    "            transformed_X[col] = encoder.transform(X[col])\n",
    "        \n",
    "        return transformed_X\n",
    "\n",
    "class OneHotEncoderTransformer(BaseEstimator, TransformerMixin):\n",
    "    def __init__(self, columns=None, drop_original=True):\n",
    "        self.columns = columns\n",
    "        self.drop_original = drop_original\n",
    "        self.encoder = OneHotEncoder(sparse=False, handle_unknown='ignore')\n",
    "        self.new_columns = None\n",
    "    \n",
    "    def fit(self, X, y=None):\n",
    "        if self.columns is None:\n",
    "            global small_cat\n",
    "            self.columns = small_cat.tolist()\n",
    "        \n",
    "        self.encoder.fit(X[self.columns])\n",
    "        self.new_columns = self.encoder.get_feature_names_out(self.columns)\n",
    "        \n",
    "        return self\n",
    "    \n",
    "    def transform(self, X):\n",
    "        transformed_X = pd.DataFrame(self.encoder.transform(X[self.columns]), columns=self.new_columns, index=X.index)\n",
    "        \n",
    "        if self.drop_original:\n",
    "            transformed_X = X.drop(columns=self.columns).join(transformed_X)\n",
    "        \n",
    "        return transformed_X\n",
    "    \n",
    "class NumberColsStandardScaler(BaseEstimator, TransformerMixin):\n",
    "    def __init__(self, number_cols=None):\n",
    "        self.number_cols = number_cols\n",
    "        self.scaler = StandardScaler()\n",
    "    \n",
    "    def fit(self, X, y=None):\n",
    "        if self.number_cols is None:\n",
    "            self.number_cols = X.select_dtypes(include='number').columns.tolist()\n",
    "        \n",
    "        self.scaler.fit(X[self.number_cols])\n",
    "        \n",
    "        return self\n",
    "    \n",
    "    def transform(self, X):\n",
    "        transformed_X = X.copy()\n",
    "        transformed_X[self.number_cols] = self.scaler.transform(X[self.number_cols])\n",
    "        \n",
    "        return transformed_X\n",
    "        \n",
    "class PassAmenityColumns(BaseEstimator, TransformerMixin):\n",
    "    def __init__(self):\n",
    "        self\n",
    "    def fit(self, X=None, y=None):\n",
    "        return self\n",
    "    def transform(self, df):\n",
    "        return df"
   ]
  },
  {
   "attachments": {},
   "cell_type": "markdown",
   "metadata": {},
   "source": [
    "### Columns Transformer"
   ]
  },
  {
   "cell_type": "code",
   "execution_count": 106,
   "metadata": {},
   "outputs": [],
   "source": [
    "from sklearn.compose import ColumnTransformer\n",
    "\n",
    "large_cat_transformer = CatBoostEncoderTransformer(columns=large_cat)\n",
    "Transformed_large_cat = large_cat_transformer.fit_transform(train_X[large_cat], train_y)\n",
    "number_cols.append('zone')\n",
    "train_X['zone'] = Transformed_large_cat['zone']\n",
    "small_cat_transformer = OneHotEncoderTransformer(columns=small_cat,drop_original=True)\n",
    "scaler_transformer = NumberColsStandardScaler(number_cols=number_cols)\n",
    "\n",
    "preprocessor = ColumnTransformer(transformers=[ \n",
    "    ('small_cat', small_cat_transformer, small_cat),\n",
    "    ('scaling', scaler_transformer, number_cols) ,\n",
    "    ('pass_amenity_cols', PassAmenityColumns(), amenity_col)\n",
    "])"
   ]
  },
  {
   "cell_type": "code",
   "execution_count": 107,
   "metadata": {},
   "outputs": [],
   "source": [
    "from sklearn.pipeline import Pipeline\n",
    "full_pipeline = Pipeline(steps=[\n",
    "    ('preprocessing', preprocessor),\n",
    "])"
   ]
  },
  {
   "cell_type": "code",
   "execution_count": 108,
   "metadata": {},
   "outputs": [
    {
     "data": {
      "text/plain": [
       "array([ 1.        ,  0.        ,  0.        ,  0.        ,  0.        ,\n",
       "        0.        ,  0.        ,  1.        ,  1.        ,  0.        ,\n",
       "        0.        ,  0.        ,  1.        , -0.29564069,  0.50346582,\n",
       "        0.53750154,  0.68983025,  0.        ,  2.        ,  2.        ,\n",
       "        0.        ,  4.        ,  0.        ,  5.        ])"
      ]
     },
     "execution_count": 108,
     "metadata": {},
     "output_type": "execute_result"
    }
   ],
   "source": [
    "prepared_train_x = preprocessor.fit_transform(train_X,train_y)\n",
    "prepared_train_x[1]"
   ]
  },
  {
   "attachments": {},
   "cell_type": "markdown",
   "metadata": {},
   "source": [
    "# Model Development\n"
   ]
  },
  {
   "attachments": {},
   "cell_type": "markdown",
   "metadata": {},
   "source": [
    "## Linear Regression"
   ]
  },
  {
   "cell_type": "code",
   "execution_count": 109,
   "metadata": {},
   "outputs": [
    {
     "data": {
      "text/plain": [
       "LinearRegression()"
      ]
     },
     "execution_count": 109,
     "metadata": {},
     "output_type": "execute_result"
    }
   ],
   "source": [
    "from sklearn.linear_model import LinearRegression\n",
    "lin_reg = LinearRegression()\n",
    "lin_reg.fit(prepared_train_x, train_y)"
   ]
  },
  {
   "cell_type": "code",
   "execution_count": 110,
   "metadata": {},
   "outputs": [
    {
     "data": {
      "text/plain": [
       "0.47496470508155164"
      ]
     },
     "execution_count": 110,
     "metadata": {},
     "output_type": "execute_result"
    }
   ],
   "source": [
    "from sklearn.metrics import mean_squared_error\n",
    "lin_predictions = lin_reg.predict(prepared_train_x)\n",
    "lr_mse = mean_squared_error(train_y,lin_predictions)\n",
    "lr_rmse = np.sqrt(lr_mse)\n",
    "lr_rmse"
   ]
  },
  {
   "attachments": {},
   "cell_type": "markdown",
   "metadata": {},
   "source": [
    "## DecisionTreeRegressor"
   ]
  },
  {
   "cell_type": "code",
   "execution_count": 111,
   "metadata": {},
   "outputs": [
    {
     "data": {
      "text/plain": [
       "DecisionTreeRegressor()"
      ]
     },
     "execution_count": 111,
     "metadata": {},
     "output_type": "execute_result"
    }
   ],
   "source": [
    "from sklearn.tree import DecisionTreeRegressor\n",
    "dt_reg = DecisionTreeRegressor()\n",
    "dt_reg.fit(prepared_train_x, train_y)"
   ]
  },
  {
   "cell_type": "code",
   "execution_count": 112,
   "metadata": {},
   "outputs": [
    {
     "data": {
      "text/plain": [
       "0.13752880547187468"
      ]
     },
     "execution_count": 112,
     "metadata": {},
     "output_type": "execute_result"
    }
   ],
   "source": [
    "dt_predictions = dt_reg.predict(prepared_train_x)\n",
    "dt_mse = mean_squared_error(train_y,dt_predictions)\n",
    "dt_rmse = np.sqrt(dt_mse)\n",
    "dt_rmse"
   ]
  },
  {
   "attachments": {},
   "cell_type": "markdown",
   "metadata": {},
   "source": [
    "## RandomForestRegressor"
   ]
  },
  {
   "cell_type": "code",
   "execution_count": 113,
   "metadata": {},
   "outputs": [
    {
     "data": {
      "text/plain": [
       "RandomForestRegressor()"
      ]
     },
     "execution_count": 113,
     "metadata": {},
     "output_type": "execute_result"
    }
   ],
   "source": [
    "from sklearn.ensemble import RandomForestRegressor\n",
    "rf_reg = RandomForestRegressor()\n",
    "rf_reg.fit(prepared_train_x, train_y)"
   ]
  },
  {
   "cell_type": "code",
   "execution_count": 119,
   "metadata": {},
   "outputs": [
    {
     "data": {
      "text/plain": [
       "(0.13752880547187468,)"
      ]
     },
     "execution_count": 119,
     "metadata": {},
     "output_type": "execute_result"
    }
   ],
   "source": [
    "rf_predictions = rf_reg.predict(prepared_train_x)\n",
    "rf_mse = mean_squared_error(train_y,rf_predictions)\n",
    "rf_rmse = np.sqrt(dt_mse)\n",
    "rf_rmse,"
   ]
  },
  {
   "cell_type": "code",
   "execution_count": 115,
   "metadata": {},
   "outputs": [
    {
     "data": {
      "image/png": "[encoded data removed]",
      "text/plain": [
       "<Figure size 800x600 with 2 Axes>"
      ]
     },
     "metadata": {},
     "output_type": "display_data"
    }
   ],
   "source": [
    "fig, axs = plt.subplots(2, 1, figsize=(8, 6))\n",
    "\n",
    "# Plotting the predicted prices\n",
    "axs[0].plot(rf_predictions, label='Predicted Prices')\n",
    "axs[0].set_ylabel('Price')\n",
    "axs[0].legend()\n",
    "\n",
    "# Plotting the original prices\n",
    "axs[1].plot(train_y, label='Original Prices')\n",
    "axs[1].set_xlabel('Index')\n",
    "axs[1].set_ylabel('Price')\n",
    "axs[1].legend()\n",
    "\n",
    "plt.xticks([0,5000,10000,15000,20000,25000,30000])  \n",
    "plt.gca().set_xticklabels([0,5000,10000,15000,20000,25000,30000])\n",
    "plt.tight_layout()\n",
    "#plt.xticks([0,1000,2000,3000,4000,5000,6000])\n",
    "plt.show()"
   ]
  },
  {
   "attachments": {},
   "cell_type": "markdown",
   "metadata": {},
   "source": [
    "### HyperParameter Tuning"
   ]
  },
  {
   "cell_type": "code",
   "execution_count": 116,
   "metadata": {},
   "outputs": [
    {
     "data": {
      "text/plain": [
       "{'bootstrap': True,\n",
       " 'ccp_alpha': 0.0,\n",
       " 'criterion': 'squared_error',\n",
       " 'max_depth': None,\n",
       " 'max_features': 'auto',\n",
       " 'max_leaf_nodes': None,\n",
       " 'max_samples': None,\n",
       " 'min_impurity_decrease': 0.0,\n",
       " 'min_samples_leaf': 1,\n",
       " 'min_samples_split': 2,\n",
       " 'min_weight_fraction_leaf': 0.0,\n",
       " 'n_estimators': 100,\n",
       " 'n_jobs': None,\n",
       " 'oob_score': False,\n",
       " 'random_state': None,\n",
       " 'verbose': 0,\n",
       " 'warm_start': False}"
      ]
     },
     "execution_count": 116,
     "metadata": {},
     "output_type": "execute_result"
    }
   ],
   "source": [
    "#current parameter being used are\n",
    "rf_reg.get_params()"
   ]
  },
  {
   "attachments": {},
   "cell_type": "markdown",
   "metadata": {},
   "source": [
    "from sklearn.model_selection import GridSearchCV\n",
    "\n",
    "rf_params = [\n",
    "    {'n_estimators':[25,50,100,150,200], 'max_features':[4,6,8,10,12,14]},\n",
    "    {'boostrap':[False],'n_estimators':[50,100,150], 'max_features':[6,8,10]},\n",
    "]\n",
    "\n",
    "new_forest_reg = RandomForestRegressor(random_state=42)\n",
    "grid_search = GridSearchCV(new_forest_reg, rf_params, cv=5, scoring='neg_mean_squared_error',\n",
    "                           return_train_score=True)\n",
    "\n",
    "grid_search.fit(prepared_train_x,train_y)"
   ]
  }
 ],
 "metadata": {
  "kernelspec": {
   "display_name": "base",
   "language": "python",
   "name": "python3"
  },
  "language_info": {
   "codemirror_mode": {
    "name": "ipython",
    "version": 3
   },
   "file_extension": ".py",
   "mimetype": "text/x-python",
   "name": "python",
   "nbconvert_exporter": "python",
   "pygments_lexer": "ipython3",
   "version": "3.9.13"
  },
  "orig_nbformat": 4
 },
 "nbformat": 4,
 "nbformat_minor": 2
}
