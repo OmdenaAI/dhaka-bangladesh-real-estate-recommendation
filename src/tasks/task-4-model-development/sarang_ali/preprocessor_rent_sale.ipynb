{
 "cells": [
  {
   "cell_type": "code",
   "execution_count": 13,
   "metadata": {},
   "outputs": [],
   "source": [
    "import pandas as pd\n",
    "import numpy as np\n",
    "import matplotlib.pyplot as plt\n",
    "from sklearn.preprocessing import OneHotEncoder\n",
    "import category_encoders as ce\n",
    "import joblib\n",
    "from sklearn.preprocessing import StandardScaler"
   ]
  },
  {
   "cell_type": "code",
   "execution_count": 14,
   "metadata": {},
   "outputs": [
    {
     "data": {
      "text/html": [
       "<div>\n",
       "<style scoped>\n",
       "    .dataframe tbody tr th:only-of-type {\n",
       "        vertical-align: middle;\n",
       "    }\n",
       "\n",
       "    .dataframe tbody tr th {\n",
       "        vertical-align: top;\n",
       "    }\n",
       "\n",
       "    .dataframe thead th {\n",
       "        text-align: right;\n",
       "    }\n",
       "</style>\n",
       "<table border=\"1\" class=\"dataframe\">\n",
       "  <thead>\n",
       "    <tr style=\"text-align: right;\">\n",
       "      <th></th>\n",
       "      <th>price</th>\n",
       "      <th>area</th>\n",
       "      <th>num_bath_rooms</th>\n",
       "      <th>num_bed_rooms</th>\n",
       "      <th>zone</th>\n",
       "      <th>price_log</th>\n",
       "    </tr>\n",
       "  </thead>\n",
       "  <tbody>\n",
       "    <tr>\n",
       "      <th>0</th>\n",
       "      <td>70000.0</td>\n",
       "      <td>1520.0</td>\n",
       "      <td>2.819781</td>\n",
       "      <td>0.0</td>\n",
       "      <td>Chattogram City</td>\n",
       "      <td>11.156251</td>\n",
       "    </tr>\n",
       "    <tr>\n",
       "      <th>1</th>\n",
       "      <td>110000.0</td>\n",
       "      <td>2625.0</td>\n",
       "      <td>2.819781</td>\n",
       "      <td>0.0</td>\n",
       "      <td>Mirpur</td>\n",
       "      <td>11.608236</td>\n",
       "    </tr>\n",
       "    <tr>\n",
       "      <th>2</th>\n",
       "      <td>110000.0</td>\n",
       "      <td>2800.0</td>\n",
       "      <td>2.819781</td>\n",
       "      <td>0.0</td>\n",
       "      <td>Mirpur</td>\n",
       "      <td>11.608236</td>\n",
       "    </tr>\n",
       "    <tr>\n",
       "      <th>3</th>\n",
       "      <td>110000.0</td>\n",
       "      <td>2625.0</td>\n",
       "      <td>2.819781</td>\n",
       "      <td>0.0</td>\n",
       "      <td>Mirpur</td>\n",
       "      <td>11.608236</td>\n",
       "    </tr>\n",
       "    <tr>\n",
       "      <th>4</th>\n",
       "      <td>60000.0</td>\n",
       "      <td>2000.0</td>\n",
       "      <td>2.819781</td>\n",
       "      <td>0.0</td>\n",
       "      <td>Dakshin Khan</td>\n",
       "      <td>11.002100</td>\n",
       "    </tr>\n",
       "  </tbody>\n",
       "</table>\n",
       "</div>"
      ],
      "text/plain": [
       "      price    area  num_bath_rooms  num_bed_rooms             zone  price_log\n",
       "0   70000.0  1520.0        2.819781            0.0  Chattogram City  11.156251\n",
       "1  110000.0  2625.0        2.819781            0.0           Mirpur  11.608236\n",
       "2  110000.0  2800.0        2.819781            0.0           Mirpur  11.608236\n",
       "3  110000.0  2625.0        2.819781            0.0           Mirpur  11.608236\n",
       "4   60000.0  2000.0        2.819781            0.0     Dakshin Khan  11.002100"
      ]
     },
     "execution_count": 14,
     "metadata": {},
     "output_type": "execute_result"
    }
   ],
   "source": [
    "df_rent = pd.read_csv('df-rent.csv')\n",
    "df_rent.head()"
   ]
  },
  {
   "cell_type": "code",
   "execution_count": 15,
   "metadata": {},
   "outputs": [
    {
     "data": {
      "text/html": [
       "<div>\n",
       "<style scoped>\n",
       "    .dataframe tbody tr th:only-of-type {\n",
       "        vertical-align: middle;\n",
       "    }\n",
       "\n",
       "    .dataframe tbody tr th {\n",
       "        vertical-align: top;\n",
       "    }\n",
       "\n",
       "    .dataframe thead th {\n",
       "        text-align: right;\n",
       "    }\n",
       "</style>\n",
       "<table border=\"1\" class=\"dataframe\">\n",
       "  <thead>\n",
       "    <tr style=\"text-align: right;\">\n",
       "      <th></th>\n",
       "      <th>price</th>\n",
       "      <th>area</th>\n",
       "      <th>num_bath_rooms</th>\n",
       "      <th>num_bed_rooms</th>\n",
       "      <th>zone</th>\n",
       "      <th>price_log</th>\n",
       "    </tr>\n",
       "  </thead>\n",
       "  <tbody>\n",
       "    <tr>\n",
       "      <th>0</th>\n",
       "      <td>6100000.0</td>\n",
       "      <td>1185.0</td>\n",
       "      <td>2.865087</td>\n",
       "      <td>3.0</td>\n",
       "      <td>Khilgaon</td>\n",
       "      <td>15.623799</td>\n",
       "    </tr>\n",
       "    <tr>\n",
       "      <th>1</th>\n",
       "      <td>28900000.0</td>\n",
       "      <td>2464.0</td>\n",
       "      <td>4.000000</td>\n",
       "      <td>3.0</td>\n",
       "      <td>Dhanmondi</td>\n",
       "      <td>17.179352</td>\n",
       "    </tr>\n",
       "    <tr>\n",
       "      <th>2</th>\n",
       "      <td>7500000.0</td>\n",
       "      <td>1140.0</td>\n",
       "      <td>2.865087</td>\n",
       "      <td>3.0</td>\n",
       "      <td>Mirpur</td>\n",
       "      <td>15.830414</td>\n",
       "    </tr>\n",
       "    <tr>\n",
       "      <th>3</th>\n",
       "      <td>20000000.0</td>\n",
       "      <td>1920.0</td>\n",
       "      <td>3.000000</td>\n",
       "      <td>3.0</td>\n",
       "      <td>Bashundhara R/A</td>\n",
       "      <td>16.811243</td>\n",
       "    </tr>\n",
       "    <tr>\n",
       "      <th>4</th>\n",
       "      <td>10800000.0</td>\n",
       "      <td>1445.0</td>\n",
       "      <td>3.000000</td>\n",
       "      <td>3.0</td>\n",
       "      <td>Khilgaon</td>\n",
       "      <td>16.195057</td>\n",
       "    </tr>\n",
       "  </tbody>\n",
       "</table>\n",
       "</div>"
      ],
      "text/plain": [
       "        price    area  num_bath_rooms  num_bed_rooms             zone  \\\n",
       "0   6100000.0  1185.0        2.865087            3.0         Khilgaon   \n",
       "1  28900000.0  2464.0        4.000000            3.0        Dhanmondi   \n",
       "2   7500000.0  1140.0        2.865087            3.0           Mirpur   \n",
       "3  20000000.0  1920.0        3.000000            3.0  Bashundhara R/A   \n",
       "4  10800000.0  1445.0        3.000000            3.0         Khilgaon   \n",
       "\n",
       "   price_log  \n",
       "0  15.623799  \n",
       "1  17.179352  \n",
       "2  15.830414  \n",
       "3  16.811243  \n",
       "4  16.195057  "
      ]
     },
     "execution_count": 15,
     "metadata": {},
     "output_type": "execute_result"
    }
   ],
   "source": [
    "df_sale = pd.read_csv('df-sale.csv')\n",
    "df_sale.drop(columns=['Unnamed: 0'], inplace=True)\n",
    "df_sale.head()"
   ]
  },
  {
   "attachments": {},
   "cell_type": "markdown",
   "metadata": {},
   "source": [
    "### Data Splitting"
   ]
  },
  {
   "cell_type": "code",
   "execution_count": 16,
   "metadata": {},
   "outputs": [],
   "source": [
    "df_sale_x = df_sale.drop(columns=['price','price_log'], axis=1)\n",
    "df_sale_y = df_sale['price_log']\n",
    "\n",
    "df_rent_x = df_rent.drop(columns=['price','price_log'])\n",
    "df_rent_y = df_rent['price_log']"
   ]
  },
  {
   "attachments": {},
   "cell_type": "markdown",
   "metadata": {},
   "source": [
    "### Dividing and Selecting_features"
   ]
  },
  {
   "cell_type": "code",
   "execution_count": 17,
   "metadata": {},
   "outputs": [
    {
     "data": {
      "text/plain": [
       "(['area', 'num_bed_rooms', 'num_bath_rooms'], ['zone'])"
      ]
     },
     "execution_count": 17,
     "metadata": {},
     "output_type": "execute_result"
    }
   ],
   "source": [
    "num_col = ['area','num_bed_rooms', 'num_bath_rooms']\n",
    "large_cat = ['zone']\n",
    "num_col, large_cat"
   ]
  },
  {
   "attachments": {},
   "cell_type": "markdown",
   "metadata": {},
   "source": [
    "### Custom Transformers"
   ]
  },
  {
   "cell_type": "code",
   "execution_count": 18,
   "metadata": {},
   "outputs": [],
   "source": [
    "from sklearn.base import BaseEstimator, TransformerMixin\n",
    "\n",
    "class CatBoostEncoderTransformer(BaseEstimator, TransformerMixin):\n",
    "    def __init__(self, columns=None):\n",
    "        self.columns = columns\n",
    "        self.encoders = {}\n",
    "    \n",
    "    def fit(self, X, y=None):\n",
    "        for col in self.columns:\n",
    "            encoder = ce.CatBoostEncoder()\n",
    "            encoder.fit(X[col], y)\n",
    "            self.encoders[col] = encoder\n",
    "        \n",
    "        return self\n",
    "    \n",
    "    def transform(self, X):\n",
    "        transformed_X = X.copy()\n",
    "        \n",
    "        for col, encoder in self.encoders.items():\n",
    "            transformed_X[col] = encoder.transform(X[col])\n",
    "        \n",
    "        return transformed_X\n",
    "\n",
    "class OneHotEncoderTransformer(BaseEstimator, TransformerMixin):\n",
    "    def __init__(self, columns=None, drop_original=True):\n",
    "        self.columns = columns\n",
    "        self.drop_original = drop_original\n",
    "        self.encoder = OneHotEncoder(sparse=False, handle_unknown='ignore')\n",
    "        self.new_columns = None\n",
    "    \n",
    "    def fit(self, X, y=None):\n",
    "        if self.columns is None:\n",
    "            global small_cat\n",
    "            self.columns = small_cat.tolist()\n",
    "        \n",
    "        self.encoder.fit(X[self.columns])\n",
    "        self.new_columns = self.encoder.get_feature_names_out(self.columns)\n",
    "        \n",
    "        return self\n",
    "    \n",
    "    def transform(self, X):\n",
    "        transformed_X = pd.DataFrame(self.encoder.transform(X[self.columns]), columns=self.new_columns, index=X.index)\n",
    "        \n",
    "        if self.drop_original:\n",
    "            transformed_X = X.drop(columns=self.columns).join(transformed_X)\n",
    "        \n",
    "        return transformed_X\n",
    "    \n",
    "class NumberColsStandardScaler(BaseEstimator, TransformerMixin):\n",
    "    def __init__(self, number_cols=None):\n",
    "        self.number_cols = number_cols\n",
    "        self.scaler = StandardScaler()\n",
    "    \n",
    "    def fit(self, X, y=None):\n",
    "        if self.number_cols is None:\n",
    "            self.number_cols = X.select_dtypes(include='number').columns.tolist()\n",
    "        \n",
    "        self.scaler.fit(X[self.number_cols])\n",
    "        \n",
    "        return self\n",
    "    \n",
    "    def transform(self, X):\n",
    "        transformed_X = X.copy()\n",
    "        transformed_X[self.number_cols] = self.scaler.transform(X[self.number_cols])\n",
    "        \n",
    "        return transformed_X\n",
    "        \n",
    "class PassAmenityColumns(BaseEstimator, TransformerMixin):\n",
    "    def __init__(self):\n",
    "        self\n",
    "    def fit(self, X=None, y=None):\n",
    "        return self\n",
    "    def transform(self, df):\n",
    "        return df"
   ]
  },
  {
   "attachments": {},
   "cell_type": "markdown",
   "metadata": {},
   "source": [
    "### Columns Transformer"
   ]
  },
  {
   "cell_type": "code",
   "execution_count": 19,
   "metadata": {},
   "outputs": [],
   "source": [
    "from sklearn.compose import ColumnTransformer\n",
    "\n",
    "#for rent_df\n",
    "large_cat_transformer_rent = CatBoostEncoderTransformer(columns=large_cat)\n",
    "Transformed_large_cat_rent = large_cat_transformer_rent.fit_transform(df_rent_x[large_cat], df_rent_y)\n",
    "#num_col.append('zone')\n",
    "df_rent_x['zone'] = Transformed_large_cat_rent['zone']\n",
    "#scaler_transformer = NumberColsStandardScaler(number_cols=num_col)\n",
    "\n",
    "#for sale_df\n",
    "large_cat_transformer_sale = CatBoostEncoderTransformer(columns=large_cat)\n",
    "Transformed_large_cat_sale = large_cat_transformer_sale.fit_transform(df_sale_x[large_cat], df_sale_y)\n",
    "num_col.append('zone')\n",
    "df_sale_x['zone'] = Transformed_large_cat_sale['zone']\n",
    "scaler_transformer = NumberColsStandardScaler(number_cols=num_col)\n",
    "\n",
    "preprocessor = ColumnTransformer(transformers=[ \n",
    "    #('small_cat', small_cat_transformer, small_cat),\n",
    "    ('scaling', scaler_transformer, num_col)\n",
    "    #('pass_amenity_cols', PassAmenityColumns(), amenity_col)\n",
    "])"
   ]
  },
  {
   "cell_type": "code",
   "execution_count": 20,
   "metadata": {},
   "outputs": [],
   "source": [
    "prepared_sale_x = preprocessor.fit_transform(df_sale_x,df_sale_y)\n",
    "prepared_rent_x = preprocessor.fit_transform(df_rent_x, df_rent_y)"
   ]
  },
  {
   "cell_type": "code",
   "execution_count": 21,
   "metadata": {},
   "outputs": [],
   "source": [
    "def prepare_input_for_model(x,purpose):\n",
    "    if purpose == 'Rent' or purpose == 'rent':\n",
    "        x_large_preapered = large_cat_transformer_rent.transform(x)\n",
    "    if purpose == 'Sale' or purpose == 'sale':\n",
    "        x_large_preapered = large_cat_transformer_sale.transform(x)\n",
    "    x['zone'] = x_large_preapered['zone']\n",
    "    x = preprocessor.transform(x)\n",
    "    return x"
   ]
  },
  {
   "cell_type": "code",
   "execution_count": 22,
   "metadata": {},
   "outputs": [
    {
     "data": {
      "text/plain": [
       "['RandomForrest_rent']"
      ]
     },
     "execution_count": 22,
     "metadata": {},
     "output_type": "execute_result"
    }
   ],
   "source": [
    "from sklearn.ensemble import RandomForestRegressor\n",
    "from sklearn.metrics import mean_squared_error\n",
    "rf_reg_sale = RandomForestRegressor()\n",
    "rf_reg_rent = RandomForestRegressor()\n",
    "\n",
    "#for sale\n",
    "rf_reg_sale.fit(prepared_sale_x,df_sale_y)\n",
    "joblib.dump(rf_reg_sale,'RandomForrest_sale')\n",
    "#for rent\n",
    "rf_reg_rent.fit(prepared_rent_x,df_rent_y)\n",
    "joblib.dump(rf_reg_sale,'RandomForrest_rent')\n"
   ]
  },
  {
   "cell_type": "code",
   "execution_count": 23,
   "metadata": {},
   "outputs": [
    {
     "data": {
      "text/plain": [
       "(0.1336771507747974, 0.482169697458572)"
      ]
     },
     "execution_count": 23,
     "metadata": {},
     "output_type": "execute_result"
    }
   ],
   "source": [
    "#for sale\n",
    "predictions_sale = rf_reg_sale.predict(prepared_sale_x)\n",
    "rf_reg_mse_sale = mean_squared_error(df_sale_y, predictions_sale)\n",
    "rf_reg_rmse_sale = np.sqrt(rf_reg_mse_sale)\n",
    "#for rent\n",
    "predictions_rent = rf_reg_rent.predict(prepared_rent_x)\n",
    "rf_reg_mse_rent = mean_squared_error(df_rent_y, predictions_rent)\n",
    "rf_reg_rmse_rent = np.sqrt(rf_reg_mse_rent)\n",
    "\n",
    "rf_reg_rmse_sale, rf_reg_rmse_rent\n"
   ]
  },
  {
   "cell_type": "code",
   "execution_count": 24,
   "metadata": {},
   "outputs": [],
   "source": [
    "def make_prediction(input,purpose):\n",
    "    input = pd.DataFrame(input, index=[0])\n",
    "    if purpose == 'Rent' or purpose == 'rent':\n",
    "        prepared_input = prepare_input_for_model(x=input, purpose=purpose)\n",
    "        model = joblib.load('RandomForrest_rent')\n",
    "\n",
    "    if purpose == 'Sale' or purpose == 'sale':\n",
    "        prepared_input = prepare_input_for_model(x=input, purpose=purpose)\n",
    "        model = joblib.load('RandomForrest_sale')\n",
    "\n",
    "    prediction = model.predict(prepared_input)\n",
    "    antilog_price = np.exp(prediction)\n",
    "    \n",
    "    return int(antilog_price)"
   ]
  }
 ],
 "metadata": {
  "kernelspec": {
   "display_name": "base",
   "language": "python",
   "name": "python3"
  },
  "language_info": {
   "codemirror_mode": {
    "name": "ipython",
    "version": 3
   },
   "file_extension": ".py",
   "mimetype": "text/x-python",
   "name": "python",
   "nbconvert_exporter": "python",
   "pygments_lexer": "ipython3",
   "version": "3.9.13"
  },
  "orig_nbformat": 4
 },
 "nbformat": 4,
 "nbformat_minor": 2
}
